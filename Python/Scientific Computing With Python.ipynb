{
 "cells": [
  {
   "cell_type": "markdown",
   "id": "497d64db",
   "metadata": {},
   "source": [
    "## Learn String Manipulation by Creating a Cypher\n",
    "\n",
    "Python is a powerful and popular programming language widely used for data science, data visualization, web development, game development, machine learning and more.\n",
    "\n",
    "In this project, you'll learn fundamental programming concepts in Python, such as variables, functions, loops, and conditional statements. You'll use these to code your first programs."
   ]
  },
  {
   "cell_type": "code",
   "execution_count": 1,
   "id": "62a850bd",
   "metadata": {},
   "outputs": [
    {
     "name": "stdout",
     "output_type": "stream",
     "text": [
      "plain text: Hello Zaira\n",
      "encrypted text: khoor cdlud\n",
      "plain text: Hello Zaira\n",
      "encrypted text: uryyb mnven\n"
     ]
    }
   ],
   "source": [
    "#Caesar Cypher\n",
    "text = 'Hello Zaira'\n",
    "shift = 3\n",
    "\n",
    "def caesar(message, offset):\n",
    "    alphabet = 'abcdefghijklmnopqrstuvwxyz'\n",
    "    encrypted_text = ''\n",
    "\n",
    "    for char in message.lower():\n",
    "        if char == ' ':\n",
    "            encrypted_text += char\n",
    "        else:\n",
    "            index = alphabet.find(char)\n",
    "            new_index = (index + offset) % len(alphabet)\n",
    "            encrypted_text += alphabet[new_index]\n",
    "    print('plain text:', message)\n",
    "    print('encrypted text:', encrypted_text)\n",
    "\n",
    "caesar(text, shift)\n",
    "caesar(text, 13)"
   ]
  },
  {
   "cell_type": "code",
   "execution_count": null,
   "id": "3346dae3",
   "metadata": {},
   "outputs": [
    {
     "name": "stdout",
     "output_type": "stream",
     "text": [
      "wcesc mpgkh\n"
     ]
    }
   ],
   "source": [
    "text = 'mrttaqrhknsw ih puggrur'\n",
    "custom_key = 'happycoding'\n",
    "\n",
    "def vigenere(message, key, direction=1):\n",
    "    key_index = 0\n",
    "    alphabet = 'abcdefghijklmnopqrstuvwxyz'\n",
    "    final_message = ''\n",
    "\n",
    "    for char in message.lower():\n",
    "\n",
    "        # Append any non-letter character to the message\n",
    "        if not char.isalpha():\n",
    "            final_message += char\n",
    "        else:        \n",
    "            # Find the right key character to encode/decode\n",
    "            key_char = key[key_index % len(key)]\n",
    "            key_index += 1\n",
    "\n",
    "            # Define the offset and the encrypted/decrypted letter\n",
    "            offset = alphabet.index(key_char)\n",
    "            index = alphabet.find(char)\n",
    "            new_index = (index + offset*direction) % len(alphabet)\n",
    "            final_message += alphabet[new_index]\n",
    "    \n",
    "    return final_message\n",
    "\n",
    "def encrypt(message, key):\n",
    "    return vigenere(message, key)\n",
    "    \n",
    "def decrypt(message, key):\n",
    "    return vigenere(message, key, -1)\n",
    "\n",
    "print(f'\\nEncrypted text: {text}')\n",
    "print(f'Key: {custom_key}')\n",
    "decryption = decrypt(text, custom_key)\n",
    "print(f'\\nDecrypted text: {decryption}\\n')"
   ]
  },
  {
   "cell_type": "markdown",
   "id": "f18e5d7e",
   "metadata": {},
   "source": [
    "We can use `pass` as a placeholder while creating code. The function will be passed over"
   ]
  },
  {
   "cell_type": "markdown",
   "id": "f4470ce7",
   "metadata": {},
   "source": [
    "## Work with letters and numbers by implementing the Luhn Algorithm\n",
    "\n",
    "The Luhn Algorithm is widely used for error-checking in various applications, such as verifying credit card numbers.\n",
    "\n",
    "By building this project, you'll gain experience working with numerical computations and string manipulation."
   ]
  },
  {
   "cell_type": "markdown",
   "id": "1a18b576",
   "metadata": {},
   "source": [
    "\n",
    "Python comes with built-in classes that can help us with string manipulation. One of them is the str class. It has a method called `maketrans` that can help us create a translation table. This table can be used to replace characters in a string:\n",
    "```\n",
    "str.maketrans({'t': 'c', 'l': 'b'})\n",
    "```\n",
    "\n",
    "Defining the translation does not in itself translate the string. The translate method must be called on the string to be translated with the translation table as an argument:\n",
    "Example Code\n",
    "```\n",
    "my_string = \"tamperlot\"\n",
    "translation_table = str.maketrans({'t': 'c', 'l': 'b'})\n",
    "translated_string = my_string.translate(translation_table)\n",
    "```"
   ]
  },
  {
   "cell_type": "code",
   "execution_count": 3,
   "id": "e3d2b544",
   "metadata": {},
   "outputs": [
    {
     "name": "stdout",
     "output_type": "stream",
     "text": [
      "4111111145551142\n"
     ]
    }
   ],
   "source": [
    "def verify_card_number(card_number):\n",
    "    pass\n",
    "\n",
    "def main():\n",
    "    card_number = '4111-1111-4555-1142'\n",
    "    card_translation = str.maketrans({'-': '', ' ': ''})\n",
    "    translated_card_number = card_number.translate(card_translation)\n",
    "\n",
    "    print(translated_card_number)\n",
    "\n",
    "    verify_card_number(translated_card_number)\n",
    "\n",
    "main()"
   ]
  },
  {
   "cell_type": "markdown",
   "id": "0418906e",
   "metadata": {},
   "source": [
    "The Luhn algorithm is as follows:\n",
    "1. From the right to left, double the value of every second digit; if the product is greater than 9, sum the digits of the products.\n",
    "2. Take the sum of all the digits.\n",
    "3. If the sum of all the digits is a multiple of 10, then the number is valid; else it is not valid.\n",
    "\n",
    "Assume an example of an account number \"7992739871\" that will have a check digit added, making it of the form 7992739871x:\n",
    "Example Code\n",
    "```\n",
    "Account number      7   9  9  2  7  3  9   8  7  1  x\n",
    "Double every other  7  18  9  4  7  6  9  16  7  2  x\n",
    "Sum 2-char digits   7   9  9  4  7  6  9   7  7  2  x\n",
    "```\n",
    "\n",
    "Additionally, another way you can reverse a string is with `temp_string[::-1]`"
   ]
  },
  {
   "cell_type": "code",
   "execution_count": 5,
   "id": "3b446a1d",
   "metadata": {},
   "outputs": [
    {
     "name": "stdout",
     "output_type": "stream",
     "text": [
      "VALID!\n"
     ]
    }
   ],
   "source": [
    "def verify_card_number(card_number):\n",
    "    sum_of_odd_digits = 0\n",
    "    card_number_reversed = card_number[::-1]\n",
    "    odd_digits = card_number_reversed[::2]\n",
    "\n",
    "    for digit in odd_digits:\n",
    "        sum_of_odd_digits += int(digit)\n",
    "\n",
    "    sum_of_even_digits = 0\n",
    "    even_digits = card_number_reversed[1::2]\n",
    "    for digit in even_digits:\n",
    "        number = int(digit) * 2\n",
    "        if number >= 10:\n",
    "            number = (number // 10) + (number % 10)\n",
    "        sum_of_even_digits += number\n",
    "    total = sum_of_odd_digits + sum_of_even_digits\n",
    "    return total % 10 == 0\n",
    "\n",
    "def main():\n",
    "    card_number = '4111-1111-4555-1142'\n",
    "    card_translation = str.maketrans({'-': '', ' ': ''})\n",
    "    translated_card_number = card_number.translate(card_translation)\n",
    "\n",
    "    if verify_card_number(translated_card_number):\n",
    "        print('VALID!')\n",
    "    else:\n",
    "        print('INVALID!')\n",
    "\n",
    "main()"
   ]
  },
  {
   "cell_type": "markdown",
   "id": "45bed144",
   "metadata": {},
   "source": [
    "## Learn the Lambda Function by building an Expense Tracker"
   ]
  },
  {
   "cell_type": "markdown",
   "id": "2fdaf01d",
   "metadata": {},
   "source": [
    "Adding onto what we learned about lists earlier: the `insert` method can add an element at any position in a list. The first argument is the position at which the element has to be added, and the second argument is the element to add. For example, here's how to add a new element in the third position of example_list:\n",
    "\n",
    "Example Code\n",
    "```\n",
    "example_list = [4, 5, 6, 7]\n",
    "example_list.insert(2, 5.5)\n",
    "print(example_list) # [4, 5, 5.5, 6, 7]\n",
    "```\n",
    "\n",
    "The `pop()` method can be used to remove an element from a list. By default, it removes the last element of the list. You can pass an index as the argument to the method, and it will remove the element at the given index.\n",
    "Example Code\n",
    "```\n",
    "fruits_list = [\"cherry\", \"lemon\", \"tomato\", \"apple\", \"orange\"]\n",
    "fruits_list.pop(2)\n",
    "print(fruits_list) # [\"cherry\", \"lemon\", \"apple\", \"orange\"]\n",
    "```"
   ]
  },
  {
   "cell_type": "markdown",
   "id": "fc0f5951",
   "metadata": {},
   "source": [
    "Lambda functions are brief, anonymous functions in Python, ideal for simple, one-time tasks. They are defined by the `lambda` keyword, and they use the following syntax:\n",
    "Example Code\n",
    "```\n",
    "lambda x: expr\n",
    "```\n",
    "In the example above, `x` represents a parameter to be used in the expression `expr`, and it acts just like any parameter in a traditional function. `expr` is the expression that gets evaluated and returned when the lambda function is called."
   ]
  },
  {
   "cell_type": "code",
   "execution_count": null,
   "id": "0fb65867",
   "metadata": {},
   "outputs": [
    {
     "name": "stdout",
     "output_type": "stream",
     "text": [
      "6\n"
     ]
    }
   ],
   "source": [
    "test = lambda x: x * 2\n",
    "print(test(3))\n",
    "# the lambda function and it's expression get saved to the test var and can be called like a\n",
    "    # normal function. When you enter a value into the function call, it gets entered into the\n",
    "    # expression as the varible"
   ]
  },
  {
   "cell_type": "markdown",
   "id": "1c255c89",
   "metadata": {},
   "source": [
    "Lambda functions can be valuably combined with the map() function, which executes a specified function for each element in a collection of objects, such as a list:\n",
    "\n",
    "Example Code\n",
    "```\n",
    "map(lambda x: x * 2, [1, 2, 3])\n",
    "map(function, [values])\n",
    "```\n",
    "The function to execute is passed as the first argument, and the iterable is passed as the second argument.\n",
    "\n",
    "The result of the example above would be [2, 4, 6], where each item in the list passed to map() has been doubled by the action of the lambda function.\n",
    "\n",
    "To actually read the result of the map, we have to convert the map to a list."
   ]
  },
  {
   "cell_type": "code",
   "execution_count": 3,
   "id": "4b632b43",
   "metadata": {},
   "outputs": [
    {
     "name": "stdout",
     "output_type": "stream",
     "text": [
      "<map object at 0x110df1a50>\n",
      "[4, 6, 10, 16]\n"
     ]
    }
   ],
   "source": [
    "test = (lambda x: x * 2)\n",
    "print(map(test, [2,3,5,8]))\n",
    "print(list(map(test, [2,3,5,8])))"
   ]
  },
  {
   "cell_type": "markdown",
   "id": "67bf73b0",
   "metadata": {},
   "source": [
    "`sum()` works the same way it does in MATLAB"
   ]
  },
  {
   "cell_type": "markdown",
   "id": "4085505b",
   "metadata": {},
   "source": [
    "The `filter()` function allows you to select items from an iterable, such as a list, based on the output of a function:\n",
    "\n",
    "Example Code\n",
    "```\n",
    "filter(my_function, my_list)\n",
    "```\n",
    "`filter()` takes a function as its first argument and an iterable as its second argument. It returns an iterator, which is a special object that enables you to iterate over the elements of a collection, like a list.\n",
    "\n",
    "The result of the example above is an iterator containing the elements of `my_list` for which `my_function` returns `True`."
   ]
  },
  {
   "cell_type": "code",
   "execution_count": null,
   "id": "6e624559",
   "metadata": {},
   "outputs": [
    {
     "name": "stdout",
     "output_type": "stream",
     "text": [
      "\n",
      "Expense Tracker\n",
      "1. Add an expense\n",
      "2. List all expenses\n",
      "3. Show total expenses\n",
      "4. Filter expenses by category\n",
      "5. Exit\n",
      "\n",
      "Expense Tracker\n",
      "1. Add an expense\n",
      "2. List all expenses\n",
      "3. Show total expenses\n",
      "4. Filter expenses by category\n",
      "5. Exit\n",
      "\n",
      "All Expenses:\n",
      "Amount: 29.99, Category: misc\n",
      "\n",
      "Expense Tracker\n",
      "1. Add an expense\n",
      "2. List all expenses\n",
      "3. Show total expenses\n",
      "4. Filter expenses by category\n",
      "5. Exit\n",
      "\n",
      "Expense Tracker\n",
      "1. Add an expense\n",
      "2. List all expenses\n",
      "3. Show total expenses\n",
      "4. Filter expenses by category\n",
      "5. Exit\n",
      "\n",
      "All Expenses:\n",
      "Amount: 29.99, Category: misc\n",
      "Amount: 35.67, Category: bills\n",
      "\n",
      "Expense Tracker\n",
      "1. Add an expense\n",
      "2. List all expenses\n",
      "3. Show total expenses\n",
      "4. Filter expenses by category\n",
      "5. Exit\n",
      "Exiting the program.\n"
     ]
    }
   ],
   "source": [
    "## Complete expense tracker: \n",
    "\n",
    "def add_expense(expenses, amount, category):\n",
    "    expenses.append({'amount': amount, 'category': category})\n",
    "    \n",
    "def print_expenses(expenses):\n",
    "    for expense in expenses:\n",
    "        print(f'Amount: {expense[\"amount\"]}, Category: {expense[\"category\"]}')\n",
    "    \n",
    "def total_expenses(expenses):\n",
    "    return sum(map(lambda expense: expense['amount'], expenses))\n",
    "    \n",
    "def filter_expenses_by_category(expenses, category):\n",
    "    return filter(lambda expense: expense['category'] == category, expenses)\n",
    "    \n",
    "\n",
    "def main():\n",
    "    expenses = []\n",
    "    while True:\n",
    "        print('\\nExpense Tracker')\n",
    "        print('1. Add an expense')\n",
    "        print('2. List all expenses')\n",
    "        print('3. Show total expenses')\n",
    "        print('4. Filter expenses by category')\n",
    "        print('5. Exit')\n",
    "       \n",
    "        choice = input('Enter your choice: ')\n",
    "\n",
    "        if choice == '1':\n",
    "            amount = float(input('Enter amount: '))\n",
    "            category = input('Enter category: ')\n",
    "            add_expense(expenses, amount, category)\n",
    "\n",
    "        elif choice == '2':\n",
    "            print('\\nAll Expenses:')\n",
    "            print_expenses(expenses)\n",
    "    \n",
    "        elif choice == '3':\n",
    "            print('\\nTotal Expenses: ', total_expenses(expenses))\n",
    "    \n",
    "        elif choice == '4':\n",
    "            category = input('Enter category to filter: ')\n",
    "            print(f'\\nExpenses for {category}:')\n",
    "            expenses_from_category = filter_expenses_by_category(expenses, category)\n",
    "            print_expenses(expenses_from_category)\n",
    "    \n",
    "        elif choice == '5':\n",
    "            print('Exiting the program.')\n",
    "            break\n",
    "\n",
    "main()"
   ]
  },
  {
   "cell_type": "markdown",
   "id": "42942742",
   "metadata": {},
   "source": [
    "## Learn Python List Comprehension by Building a Case Convertor Program\n",
    "List Comprehension is a way to construct a new Python list from an iterable types: lists, tuples, and strings. All without using a for loop or the `.append()` list method.\n",
    "\n",
    "In this project, you'll write a program that takes a string formatted in Camel Case or Pascal Case, then converts it into Snake Case.\n",
    "\n",
    "The project has two phases: first you'll use a for loop to implement the program. Then you'll learn how to use List Comprehension instead of a loop to achieve the same results."
   ]
  },
  {
   "cell_type": "markdown",
   "id": "027ab382",
   "metadata": {},
   "source": [
    "By this point, the variable snake_cased_char_list holds the list of converted characters. To combine these characters into a single string, you can utilize the `.join()` method.\n",
    "\n",
    "The `join` method works by concatenating each element of a list into a string, separated by a designated string, known as the separator.\n",
    "\n",
    "Example Code\n",
    "```\n",
    "result_string = ''.join(characters)\n",
    "```\n",
    "The example above joins together the elements of the characters list into a single string where each element is concatenated together using an empty string as the separator."
   ]
  },
  {
   "cell_type": "code",
   "execution_count": null,
   "id": "dc049286",
   "metadata": {},
   "outputs": [],
   "source": [
    "def convert_to_snake_case(pascal_or_camel_cased_string):\n",
    "    snake_cased_char_list = []\n",
    "    for char in pascal_or_camel_cased_string:\n",
    "        if char.isupper():\n",
    "            converted_character = '_' + char.lower()\n",
    "            snake_cased_char_list.append(converted_character)\n",
    "        else:\n",
    "            snake_cased_char_list.append(char)\n",
    "    snake_cased_string = ''.join(snake_cased_char_list)"
   ]
  },
  {
   "cell_type": "markdown",
   "id": "4e17687d",
   "metadata": {},
   "source": [
    "In pascal case, strings begin with a capital letter. After converting all the characters to lowercase and adding an underscore to them, there's a chance of having an extra underscore at the start of your string.\n",
    "\n",
    "The easiest way to fix this is by using the .strip() string method, which removes from a string any leading or trailing characters among a set of characters passed as its argument. For example:\n",
    "\n",
    "Example Code\n",
    "```\n",
    "original_string = \"_example_string_\"\n",
    "\n",
    "clean_string = original_string.strip('_')\n",
    "```\n",
    "The strip() method is applied to original_string. This removes any leading and trailing underscore. The result of the example above would be the string 'example_string'."
   ]
  },
  {
   "cell_type": "code",
   "execution_count": null,
   "id": "9a44f919",
   "metadata": {},
   "outputs": [],
   "source": [
    "## Using a for loop to iterate\n",
    "def convert_to_snake_case(pascal_or_camel_cased_string):\n",
    "    snake_cased_char_list = []\n",
    "    for char in pascal_or_camel_cased_string:\n",
    "        if char.isupper():\n",
    "            converted_character = '_' + char.lower()\n",
    "            snake_cased_char_list.append(converted_character)\n",
    "        else:\n",
    "            snake_cased_char_list.append(char)\n",
    "    snake_cased_string = ''.join(snake_cased_char_list)\n",
    "    \n",
    "    # Strip unnecessary _ from beginning of string if from Pascal Case\n",
    "    clean_snake_cased_string = snake_cased_string.strip('_')\n",
    "    return clean_snake_cased_string"
   ]
  },
  {
   "cell_type": "markdown",
   "id": "f1e4410a",
   "metadata": {},
   "source": [
    "After joining the elements of the list `snake_cased_char_list`, you will need to remove any leading or trailing underscores from the resulting string. For this, use the `strip` method with the underscore character `_` as an argument.\n",
    "\n",
    "Method calls can be chained together, which means that the result of one method call can be used as the object for another method call.\n",
    "\n",
    "Example Code\n",
    "```\n",
    "words_list = ['hello', 'world', 'this', 'is', 'chained', 'methods']\n",
    "result = ' '.join(words_list).upper()\n",
    "```\n",
    "In the example above, the `.upper()` method is chained to `' '.join(words_list)`, therefore `.upper() `is called on the result of the `.join()` call."
   ]
  },
  {
   "cell_type": "code",
   "execution_count": null,
   "id": "ae8aef90",
   "metadata": {},
   "outputs": [],
   "source": [
    "''.join(snake_cased_char_list).strip('_')"
   ]
  },
  {
   "cell_type": "markdown",
   "id": "42507173",
   "metadata": {},
   "source": [
    "In Python, a list comprehension is a construct that allows you to generate a new list by applying an expression to each item in an existing iterable and optionally filtering items with a condition. Apart from being briefer, list comprehensions often run faster.\n",
    "\n",
    "A basic list comprehension consists of an expression followed by a for clause:\n",
    "\n",
    "Example Code\n",
    "```\n",
    "spam = [i * 2 for i in iterable]\n",
    "```\n",
    "The above uses the variable `i` to iterate over iterable. Each elements of the resulting list is obtained by evaluating the expression `i * 2` at the current iteration.\n",
    "\n",
    "In this step, you need to fill the empty list `snake_cased_char_list` using the list comprehension syntax."
   ]
  },
  {
   "cell_type": "code",
   "execution_count": null,
   "id": "1fa73e9b",
   "metadata": {},
   "outputs": [],
   "source": [
    "snake_cased_char_list = ['_' + char.lower() for char in pascal_or_camel_cased_string]"
   ]
  },
  {
   "cell_type": "markdown",
   "id": "3f39ebfe",
   "metadata": {},
   "source": [
    "List comprehensions accept conditional statements, to evaluate the provided expression only if certain conditions are met:\n",
    "\n",
    "Example Code\n",
    "```\n",
    "spam = [i * 2 for i in iterable if i > 0]\n",
    "```\n",
    "As you can see from the output, the list of characters generated from `pascal_or_camel_cased_string` has been joined. Since the expression inside the list comprehension is evaluated for each character, the result is a lowercase string with all the characters separated by an underscore."
   ]
  },
  {
   "cell_type": "code",
   "execution_count": null,
   "id": "1aed02f4",
   "metadata": {},
   "outputs": [],
   "source": [
    "snake_cased_char_list = ['_' + char.lower() for char in pascal_or_camel_cased_string if char.isupper()]"
   ]
  },
  {
   "cell_type": "markdown",
   "id": "82346e32",
   "metadata": {},
   "source": [
    "Still, the final result is not exactly what you want to achieve. You need to execute a different expression for the characters filtered out by the `if` clause. You'll use an `else` clause for that:\n",
    "\n",
    "Example Code\n",
    "```\n",
    "spam = [i * 2 if i > 0 else -1 for i in iterable]\n",
    "```\n",
    "Note that, differently from the `if` clause, the `if/else` construct must be placed between the expression and the `for` keyword."
   ]
  },
  {
   "cell_type": "code",
   "execution_count": null,
   "id": "bdd3cf8c",
   "metadata": {},
   "outputs": [],
   "source": [
    "snake_cased_char_list = ['_' + char.lower() if char.isupper() else char for char in pascal_or_camel_cased_string]"
   ]
  },
  {
   "cell_type": "markdown",
   "id": "3e6d9099",
   "metadata": {},
   "source": [
    "Final result of case convertor program"
   ]
  },
  {
   "cell_type": "code",
   "execution_count": 5,
   "id": "a5a06261",
   "metadata": {},
   "outputs": [
    {
     "name": "stdout",
     "output_type": "stream",
     "text": [
      "i_am_a_pascal_cased_string\n"
     ]
    }
   ],
   "source": [
    "def convert_to_snake_case(pascal_or_camel_cased_string):\n",
    "\n",
    "    snake_cased_char_list = [\n",
    "        '_' + char.lower() if char.isupper()\n",
    "        else char\n",
    "        for char in pascal_or_camel_cased_string\n",
    "    ]\n",
    "\n",
    "    return ''.join(snake_cased_char_list).strip('_')\n",
    "\n",
    "def main():\n",
    "    print(convert_to_snake_case('IAmAPascalCasedString'))\n",
    "\n",
    "main()"
   ]
  },
  {
   "cell_type": "markdown",
   "id": "365fe63b",
   "metadata": {},
   "source": [
    "## Learn the Bisection Method by Finding the Square Root of a Number\n",
    "Numerical methods are used to approximate solutions to mathematical problems that are difficult or impossible to solve analytically.\n",
    "\n",
    "In this project, you will explore the numerical method of bisection to find the square root of a number by iteratively narrowing down the possible range of values that contain the square root."
   ]
  },
  {
   "cell_type": "markdown",
   "id": "e1ee8680",
   "metadata": {},
   "source": [
    "The `raise` statement allows you to force a specific exception to occur. It consists of the `raise` keyword followed by the exception type, and enables you to provide a custom error message:\n",
    "\n",
    "Example Code\n",
    "```\n",
    "raise ValueError(\"Invalid value\")\n",
    "```\n",
    "When the code above runs, a `ValueError` is raised and the message `\"Invalid value\"` is shown to the user."
   ]
  },
  {
   "cell_type": "code",
   "execution_count": null,
   "id": "73a84b8e",
   "metadata": {},
   "outputs": [],
   "source": [
    "raise ValueError('Square root of negative number is not defined in real numbers')"
   ]
  },
  {
   "cell_type": "markdown",
   "id": "93affa48",
   "metadata": {},
   "source": [
    "In Python, the `max()` function returns the largest of the input values.\n",
    "\n",
    "Example Code\n",
    "```\n",
    "max(1, 2, 3) # Output: 3\n",
    "```\n",
    "The variables `low` and `high` will be used to define the initial interval where the square root lies.\n",
    "\n",
    "Also if you have to initialize a variable for an integer or float, you can set it to `None`"
   ]
  },
  {
   "cell_type": "code",
   "execution_count": null,
   "id": "e6ec8398",
   "metadata": {},
   "outputs": [],
   "source": []
  },
  {
   "cell_type": "markdown",
   "id": "b1c0c84c",
   "metadata": {},
   "source": [
    "Now you'll repeatedly narrow down the interval by finding the midpoint of the current interval and comparing the square of the midpoint with the target value.\n",
    "\n",
    "For that, inside the `else` block, create a `for` loop that runs up to `max_iterations times`.\n",
    "\n",
    "For your loop, use the `range` function, which generates a sequence of numbers you can iterate over. The syntax is `range(start, stop, step)`, where `start` is the starting integer (inclusive), `stop` is the last integer (not inclusive), and `step` is the difference between a number and the previous one in the sequence.\n",
    "\n",
    "Also, use `_` as a loop variable. The `_` acts as a placeholder and is useful when you need to use a variable but don't actually need its value.\n",
    "\n",
    "If you are counting up from 0 with a step of 1, you can just set the range to the final integer."
   ]
  },
  {
   "cell_type": "code",
   "execution_count": null,
   "id": "d96a3db7",
   "metadata": {},
   "outputs": [],
   "source": [
    "for _ in range(max_iterations):\n",
    "    pass"
   ]
  },
  {
   "cell_type": "markdown",
   "id": "17b2fc28",
   "metadata": {},
   "source": [
    "A reminder of the mathematical operators:\n",
    "`**` is in place of `^`\n",
    "\n",
    "Also `abs()` is the same"
   ]
  },
  {
   "cell_type": "code",
   "execution_count": null,
   "id": "d1ded7af",
   "metadata": {},
   "outputs": [],
   "source": [
    "for _ in range(max_iterations):\n",
    "    mid = (low + high) / 2\n",
    "    square_mid = mid ** 2"
   ]
  },
  {
   "cell_type": "markdown",
   "id": "b33834a0",
   "metadata": {},
   "source": [
    "Final version of bisection function"
   ]
  },
  {
   "cell_type": "code",
   "execution_count": null,
   "id": "2b40d39e",
   "metadata": {},
   "outputs": [
    {
     "name": "stdout",
     "output_type": "stream",
     "text": [
      "The square root of 16 is approximately 4.0\n"
     ]
    },
    {
     "data": {
      "text/plain": [
       "4.0"
      ]
     },
     "execution_count": 6,
     "metadata": {},
     "output_type": "execute_result"
    }
   ],
   "source": [
    "def square_root_bisection(square_target, tolerance=1e-7, max_iterations=100):\n",
    "    if square_target < 0:\n",
    "        raise ValueError('Square root of negative number is not defined in real numbers')\n",
    "    if square_target == 1:\n",
    "        root = 1\n",
    "        print(f'The square root of {square_target} is 1')\n",
    "    elif square_target == 0:\n",
    "        root = 0\n",
    "        print(f'The square root of {square_target} is 0')\n",
    "\n",
    "    else:\n",
    "        low = 0\n",
    "        high = max(1, square_target)\n",
    "        root = None\n",
    "        \n",
    "        for _ in range(max_iterations):\n",
    "            mid = (low + high) / 2\n",
    "            square_mid = mid**2\n",
    "\n",
    "            if abs(square_mid - square_target) < tolerance:\n",
    "                root = mid\n",
    "                break\n",
    "\n",
    "            elif square_mid < square_target:\n",
    "                low = mid\n",
    "            else:\n",
    "                high = mid\n",
    "\n",
    "        if root is None:\n",
    "            print(f\"Failed to converge within {max_iterations} iterations.\")\n",
    "    \n",
    "        else:   \n",
    "            print(f'The square root of {square_target} is approximately {root}')\n",
    "    \n",
    "    return root\n",
    "\n",
    "N = 16\n",
    "square_root_bisection(N)"
   ]
  },
  {
   "cell_type": "markdown",
   "id": "7a512061",
   "metadata": {},
   "source": [
    "## Certification Project: Build an Arithmetic Formatter \n",
    "Students in primary school often arrange arithmetic problems vertically to make them easier to solve. For example, \"235 + 52\" becomes:\n",
    "```\n",
    "  235\n",
    "+  52\n",
    "-----\n",
    "```\n",
    "Finish the arithmetic_arranger function that receives a list of strings which are arithmetic problems, and returns the problems arranged vertically and side-by-side. The function should optionally take a second argument. When the second argument is set to True, the answers should be displayed.\n",
    "\n",
    "Function Call:\n",
    "```\n",
    "arithmetic_arranger([\"32 + 698\", \"3801 - 2\", \"45 + 43\", \"123 + 49\"])\n",
    "```\n",
    "Output:\n",
    "```\n",
    "   32      3801      45      123\n",
    "+ 698    -    2    + 43    +  49\n",
    "-----    ------    ----    -----\n",
    "```\n",
    "Function Call:\n",
    "```\n",
    "arithmetic_arranger([\"32 + 8\", \"1 - 3801\", \"9999 + 9999\", \"523 - 49\"], True)\n",
    "```\n",
    "Output:\n",
    "```\n",
    "  32         1      9999      523\n",
    "+  8    - 3801    + 9999    -  49\n",
    "----    ------    ------    -----\n",
    "  40     -3800     19998      474\n",
    "```\n",
    "\n",
    "### Rules:\n",
    "The function will return the correct conversion if the supplied problems are properly formatted, otherwise, it will return a string that describes an error that is meaningful to the user.\n",
    "\n",
    "Situations that will return an error:\n",
    "* If there are too many problems supplied to the function. The limit is five, anything more will return: 'Error: Too many problems.'\n",
    "* The appropriate operators the function will accept are addition and subtraction. Multiplication and division will return an error. Other operators not mentioned in this bullet point will not need to be tested. The error returned will be: \"Error: Operator must be '+' or '-'.\"\n",
    "* Each number (operand) should only contain digits. Otherwise, the function will return: 'Error: Numbers must only contain digits.'\n",
    "* Each operand (aka number on each side of the operator) has a max of four digits in width. Otherwise, the error string returned will be: 'Error: Numbers cannot be more than four digits.'\n",
    "\n",
    "If the user supplied the correct format of problems, the conversion you return will follow these rules:\n",
    "* There should be a single space between the operator and the longest of the two operands, the operator will be on the same line as the second operand, both operands will be in the same order as provided (the first will be the top one and the second will be the bottom).\n",
    "* Numbers should be right-aligned.\n",
    "* There should be four spaces between each problem.\n",
    "* There should be dashes at the bottom of each problem. The dashes should run along the entire length of each problem individually. (The example above shows what this should look like.)\n",
    "\n",
    "Note: open the browser console with F12 to see a more verbose output of the tests.\n"
   ]
  },
  {
   "cell_type": "code",
   "execution_count": null,
   "id": "4e804b6e",
   "metadata": {},
   "outputs": [
    {
     "name": "stdout",
     "output_type": "stream",
     "text": [
      "\n",
      "  3801      123\n",
      "-    2    +  49\n",
      "------    -----\n"
     ]
    },
    {
     "ename": "ValueError",
     "evalue": "Error: Too many problems.",
     "output_type": "error",
     "traceback": [
      "\u001b[31m---------------------------------------------------------------------------\u001b[39m",
      "\u001b[31mValueError\u001b[39m                                Traceback (most recent call last)",
      "\u001b[36mCell\u001b[39m\u001b[36m \u001b[39m\u001b[32mIn[6]\u001b[39m\u001b[32m, line 122\u001b[39m\n\u001b[32m    119\u001b[39m     \u001b[38;5;28;01mreturn\u001b[39;00m \u001b[33m'\u001b[39m\u001b[33m'\u001b[39m.join(arranged_arithmetic)\n\u001b[32m    121\u001b[39m \u001b[38;5;28mprint\u001b[39m(\u001b[33mf\u001b[39m\u001b[33m'\u001b[39m\u001b[38;5;130;01m\\n\u001b[39;00m\u001b[38;5;132;01m{\u001b[39;00marithmetic_arranger([\u001b[33m\"\u001b[39m\u001b[33m3801 - 2\u001b[39m\u001b[33m\"\u001b[39m,\u001b[38;5;250m \u001b[39m\u001b[33m\"\u001b[39m\u001b[33m123 + 49\u001b[39m\u001b[33m\"\u001b[39m])\u001b[38;5;132;01m}\u001b[39;00m\u001b[33m'\u001b[39m)\n\u001b[32m--> \u001b[39m\u001b[32m122\u001b[39m \u001b[38;5;28mprint\u001b[39m(\u001b[33mf\u001b[39m\u001b[33m'\u001b[39m\u001b[38;5;130;01m\\n\u001b[39;00m\u001b[38;5;132;01m{\u001b[39;00m\u001b[43marithmetic_arranger\u001b[49m\u001b[43m(\u001b[49m\u001b[43m[\u001b[49m\u001b[33;43m\"\u001b[39;49m\u001b[33;43m44 + 815\u001b[39;49m\u001b[33;43m\"\u001b[39;49m\u001b[43m,\u001b[49m\u001b[38;5;250;43m \u001b[39;49m\u001b[33;43m\"\u001b[39;49m\u001b[33;43m909 - 2\u001b[39;49m\u001b[33;43m\"\u001b[39;49m\u001b[43m,\u001b[49m\u001b[38;5;250;43m \u001b[39;49m\u001b[33;43m\"\u001b[39;49m\u001b[33;43m45 + 43\u001b[39;49m\u001b[33;43m\"\u001b[39;49m\u001b[43m,\u001b[49m\u001b[38;5;250;43m \u001b[39;49m\u001b[33;43m\"\u001b[39;49m\u001b[33;43m123 + 49\u001b[39;49m\u001b[33;43m\"\u001b[39;49m\u001b[43m,\u001b[49m\u001b[38;5;250;43m \u001b[39;49m\u001b[33;43m\"\u001b[39;49m\u001b[33;43m888 + 40\u001b[39;49m\u001b[33;43m\"\u001b[39;49m\u001b[43m,\u001b[49m\u001b[38;5;250;43m \u001b[39;49m\u001b[33;43m\"\u001b[39;49m\u001b[33;43m653 + 87\u001b[39;49m\u001b[33;43m\"\u001b[39;49m\u001b[43m]\u001b[49m\u001b[43m)\u001b[49m\u001b[38;5;132;01m}\u001b[39;00m\u001b[33m'\u001b[39m)\n",
      "\u001b[36mCell\u001b[39m\u001b[36m \u001b[39m\u001b[32mIn[6]\u001b[39m\u001b[32m, line 68\u001b[39m, in \u001b[36marithmetic_arranger\u001b[39m\u001b[34m(problems, show_answers)\u001b[39m\n\u001b[32m     64\u001b[39m arranged_arithmetic = []\n\u001b[32m     67\u001b[39m \u001b[38;5;66;03m# See if any of the problems result in an error\u001b[39;00m\n\u001b[32m---> \u001b[39m\u001b[32m68\u001b[39m first_operands, operators, second_operands = \u001b[43mcheck_errors\u001b[49m\u001b[43m(\u001b[49m\u001b[43mproblems\u001b[49m\u001b[43m)\u001b[49m\n\u001b[32m     70\u001b[39m \u001b[38;5;66;03m# Enter 4 spaces between each problem\u001b[39;00m\n\u001b[32m     71\u001b[39m space_problems = \u001b[32m4\u001b[39m * \u001b[33m'\u001b[39m\u001b[33m \u001b[39m\u001b[33m'\u001b[39m\n",
      "\u001b[36mCell\u001b[39m\u001b[36m \u001b[39m\u001b[32mIn[6]\u001b[39m\u001b[32m, line 4\u001b[39m, in \u001b[36mcheck_errors\u001b[39m\u001b[34m(problems)\u001b[39m\n\u001b[32m      1\u001b[39m \u001b[38;5;28;01mdef\u001b[39;00m\u001b[38;5;250m \u001b[39m\u001b[34mcheck_errors\u001b[39m(problems):\n\u001b[32m      2\u001b[39m     \u001b[38;5;66;03m# Check for error: List must have max 5 problems\u001b[39;00m\n\u001b[32m      3\u001b[39m     \u001b[38;5;28;01mif\u001b[39;00m \u001b[38;5;28mlen\u001b[39m(problems) > \u001b[32m5\u001b[39m:\n\u001b[32m----> \u001b[39m\u001b[32m4\u001b[39m         \u001b[38;5;28;01mraise\u001b[39;00m \u001b[38;5;167;01mValueError\u001b[39;00m(\u001b[33m'\u001b[39m\u001b[33mError: Too many problems.\u001b[39m\u001b[33m'\u001b[39m)\n\u001b[32m      6\u001b[39m     all_first_operands = []\n\u001b[32m      7\u001b[39m     all_operators = []\n",
      "\u001b[31mValueError\u001b[39m: Error: Too many problems."
     ]
    }
   ],
   "source": [
    "def check_errors(problems):\n",
    "    # Check for error: List must have max 5 problems\n",
    "    if len(problems) > 5:\n",
    "        raise ValueError('Error: Too many problems.')\n",
    "    \n",
    "    all_first_operands = []\n",
    "    all_operators = []\n",
    "    all_second_operands = []\n",
    "    \n",
    "    for problem in problems:\n",
    "        first_operand = \"\"\n",
    "        second_operand = \"\"\n",
    "        operator_index = None\n",
    "        \n",
    "        remove_spaces = str.maketrans({' ':''})\n",
    "        problem = problem.translate(remove_spaces)    # Remove spaces from statement if any exist\n",
    "        \n",
    "        # Check for error: Only '+' or '-' operators allowed in problems\n",
    "        if not (problem.find('*') == -1) or not (problem.find('/') == -1):  # If not '+' or '-', print ValueError\n",
    "            raise ValueError(\"Error: Operator must be '+' or '-'.\")\n",
    "        # Else '+' or '-' exists, save index and operator to corresponding vars\n",
    "        elif not problem.find('+') == -1:\n",
    "            operator_index = problem.find('+')\n",
    "            all_operators.append(problem[operator_index])\n",
    "        else:\n",
    "            operator_index = problem.find('-')\n",
    "            all_operators.append(problem[operator_index])\n",
    "\n",
    "        # Save first operand and second operand to individual vars\n",
    "        first_operand = problem[:operator_index]\n",
    "        second_operand = problem[operator_index+1:]\n",
    "        \n",
    "        # Check for error: Problem has more than 2 operands\n",
    "        if not (second_operand.find('+') == -1) or not (second_operand.find('-') == -1):\n",
    "            raise ValueError('Error: Problem is too long.')\n",
    "        \n",
    "        # Check for error: Problems can only contain digits.\n",
    "        if not first_operand.isdigit() or not second_operand.isdigit():\n",
    "            raise ValueError('Error: Numbers must only contain digits.')\n",
    "        \n",
    "        # Check for error: Operators must have a maximum of 4 digits\n",
    "        if len(first_operand) > 4 or len(second_operand) > 4:\n",
    "            raise ValueError('Error: Numbers cannot be more than four digits.')\n",
    "        \n",
    "        # Append values to variables to return\n",
    "        all_first_operands.append(first_operand)\n",
    "        all_second_operands.append(second_operand)\n",
    "    \n",
    "    return all_first_operands, all_operators, all_second_operands\n",
    "\n",
    "\n",
    "def arithmetic_arranger(problems, show_answers=False):\n",
    "    # Initialize empty variables\n",
    "    first_spaces = ''\n",
    "    second_spaces = ''\n",
    "    top_line = ''\n",
    "    middle_line = ''\n",
    "    bottom_line = ''\n",
    "    answer = ''\n",
    "    full_top_line = []\n",
    "    full_middle_line = []\n",
    "    full_bottom_line = []\n",
    "    full_answer_line = []\n",
    "    arranged_arithmetic = []\n",
    "    \n",
    "    \n",
    "    # See if any of the problems result in an error\n",
    "    first_operands, operators, second_operands = check_errors(problems)\n",
    "    \n",
    "    # Enter 4 spaces between each problem\n",
    "    space_problems = 4 * ' '\n",
    "    \n",
    "    for index in range(len(operators)):        \n",
    "        # Determine longest operand\n",
    "        difference = len(first_operands[index]) - len(second_operands[index])\n",
    "        \n",
    "        # Right align numbers\n",
    "            # 1 space between operator and longest of 2 operands\n",
    "        if difference > 0:\n",
    "            first_spaces = 2 * ' '\n",
    "            second_spaces = (difference + 1) * ' '\n",
    "        elif difference < 0:\n",
    "            first_spaces = (abs(difference) + 2) * ' '\n",
    "            second_spaces = ' '\n",
    "        else:\n",
    "            first_spaces = 2 * ' '\n",
    "            second_spaces = ' '\n",
    "        \n",
    "        top_line = first_spaces + first_operands[index]\n",
    "        middle_line = operators[index] + second_spaces + second_operands[index]    # Operator in same line as second operand\n",
    "        bottom_line = len(top_line) * '-'    # Dashes along entire length of each problem individually\n",
    "\n",
    "        # If we need to print answers: \n",
    "        if show_answers:\n",
    "            if operators[index] == '+':\n",
    "                answer = f\"{int(first_operands[index]) + int(second_operands[index])}\"\n",
    "            else:\n",
    "                answer = f\"{int(first_operands[index]) - int(second_operands[index])}\"\n",
    "            # Determine number of spaces needed to right align answer\n",
    "            answer = (len(bottom_line) - len(answer)) * ' ' + answer\n",
    "        \n",
    "        if index < (len(operators) - 1):\n",
    "            full_top_line += (top_line + space_problems)\n",
    "            full_middle_line += (middle_line + space_problems)\n",
    "            full_bottom_line += (bottom_line + space_problems)\n",
    "            if show_answers:\n",
    "                full_answer_line += (answer + space_problems)\n",
    "        else:\n",
    "            full_top_line += (top_line + '\\n')\n",
    "            full_middle_line += (middle_line + '\\n')\n",
    "            if show_answers:\n",
    "                full_bottom_line += (bottom_line + '\\n')\n",
    "                full_answer_line += (answer)\n",
    "            else:\n",
    "                full_bottom_line += (bottom_line)\n",
    "            \n",
    "    \n",
    "    arranged_arithmetic = full_top_line + full_middle_line + full_bottom_line + full_answer_line\n",
    "    return ''.join(arranged_arithmetic)\n",
    "\n",
    "print(f'\\n{arithmetic_arranger([\"3801 - 2\", \"123 + 49\"])}')\n",
    "print(f'\\n{arithmetic_arranger([\"44 + 815\", \"909 - 2\", \"45 + 43\", \"123 + 49\", \"888 + 40\", \"653 + 87\"])}')"
   ]
  },
  {
   "cell_type": "markdown",
   "id": "3b9a9f0e",
   "metadata": {},
   "source": [
    "### Tests:\n",
    "1. `arithmetic_arranger([\"3801 - 2\", \"123 + 49\"])` should return `  3801      123\\n-    2    +  49\\n------    -----`.\n",
    "2. `arithmetic_arranger([\"1 + 2\", \"1 - 9380\"])` should return `  1         1\\n+ 2    - 9380\\n---    ------`.\n",
    "3. `arithmetic_arranger([\"3 + 855\", \"3801 - 2\", \"45 + 43\", \"123 + 49\"])` should return `    3      3801      45      123\\n+ 855    -    2    + 43    +  49\\n-----    ------    ----    -----`.\n",
    "4. `arithmetic_arranger([\"11 + 4\", \"3801 - 2999\", \"1 + 2\", \"123 + 49\", \"1 - 9380\"])` should return `  11      3801      1      123         1\\n+  4    - 2999    + 2    +  49    - 9380\\n----    ------    ---    -----    ------`.\n",
    "5. `arithmetic_arranger([\"44 + 815\", \"909 - 2\", \"45 + 43\", \"123 + 49\", \"888 + 40\", \"653 + 87\"])` should return `'Error: Too many problems.'`.\n",
    "6. `arithmetic_arranger([\"3 / 855\", \"3801 - 2\", \"45 + 43\", \"123 + 49\"])` should return `\"Error: Operator must be '+' or '-'.\"`.\n",
    "7. `arithmetic_arranger([\"24 + 85215\", \"3801 - 2\", \"45 + 43\", \"123 + 49\"])` should return `'Error: Numbers cannot be more than four digits.'`.\n",
    "8. `arithmetic_arranger([\"98 + 3g5\", \"3801 - 2\", \"45 + 43\", \"123 + 49\"])` should return `'Error: Numbers must only contain digits.'`.\n",
    "9. `arithmetic_arranger([\"3 + 855\", \"988 + 40\"], True)` should return`     3      988\\n+ 855    +  40\\n-----    -----\\n  858     1028`.\n",
    "10. `arithmetic_arranger([\"32 - 698\", \"1 - 3801\", \"45 + 43\", \"123 + 49\", \"988 + 40\"], True)` should return `   32         1      45      123      988\\n- 698    - 3801    + 43    +  49    +  40\\n-----    ------    ----    -----    -----\\n -666     -3800      88      172     1028`."
   ]
  },
  {
   "cell_type": "markdown",
   "id": "f4f68772",
   "metadata": {},
   "source": [
    "## FreeCodeCamp doesn't like my ValueError statements.\n",
    "Convert to a single function that returns the strings instead of raising ValueErrors"
   ]
  },
  {
   "cell_type": "code",
   "execution_count": null,
   "id": "8955c89d",
   "metadata": {},
   "outputs": [
    {
     "name": "stdout",
     "output_type": "stream",
     "text": [
      "\n",
      "  3801      123\n",
      "-    2    +  49\n",
      "------    -----\n"
     ]
    },
    {
     "ename": "ValueError",
     "evalue": "too many values to unpack (expected 3)",
     "output_type": "error",
     "traceback": [
      "\u001b[31m---------------------------------------------------------------------------\u001b[39m",
      "\u001b[31mValueError\u001b[39m                                Traceback (most recent call last)",
      "\u001b[36mCell\u001b[39m\u001b[36m \u001b[39m\u001b[32mIn[1]\u001b[39m\u001b[32m, line 122\u001b[39m\n\u001b[32m    119\u001b[39m     \u001b[38;5;28;01mreturn\u001b[39;00m \u001b[33m'\u001b[39m\u001b[33m'\u001b[39m.join(arranged_arithmetic)\n\u001b[32m    121\u001b[39m \u001b[38;5;28mprint\u001b[39m(\u001b[33mf\u001b[39m\u001b[33m'\u001b[39m\u001b[38;5;130;01m\\n\u001b[39;00m\u001b[38;5;132;01m{\u001b[39;00marithmetic_arranger([\u001b[33m\"\u001b[39m\u001b[33m3801 - 2\u001b[39m\u001b[33m\"\u001b[39m,\u001b[38;5;250m \u001b[39m\u001b[33m\"\u001b[39m\u001b[33m123 + 49\u001b[39m\u001b[33m\"\u001b[39m])\u001b[38;5;132;01m}\u001b[39;00m\u001b[33m'\u001b[39m)\n\u001b[32m--> \u001b[39m\u001b[32m122\u001b[39m \u001b[38;5;28mprint\u001b[39m(\u001b[33mf\u001b[39m\u001b[33m'\u001b[39m\u001b[38;5;130;01m\\n\u001b[39;00m\u001b[38;5;132;01m{\u001b[39;00m\u001b[43marithmetic_arranger\u001b[49m\u001b[43m(\u001b[49m\u001b[43m[\u001b[49m\u001b[33;43m\"\u001b[39;49m\u001b[33;43m44 + 815\u001b[39;49m\u001b[33;43m\"\u001b[39;49m\u001b[43m,\u001b[49m\u001b[38;5;250;43m \u001b[39;49m\u001b[33;43m\"\u001b[39;49m\u001b[33;43m909 - 2\u001b[39;49m\u001b[33;43m\"\u001b[39;49m\u001b[43m,\u001b[49m\u001b[38;5;250;43m \u001b[39;49m\u001b[33;43m\"\u001b[39;49m\u001b[33;43m45 + 43\u001b[39;49m\u001b[33;43m\"\u001b[39;49m\u001b[43m,\u001b[49m\u001b[38;5;250;43m \u001b[39;49m\u001b[33;43m\"\u001b[39;49m\u001b[33;43m123 + 49\u001b[39;49m\u001b[33;43m\"\u001b[39;49m\u001b[43m,\u001b[49m\u001b[38;5;250;43m \u001b[39;49m\u001b[33;43m\"\u001b[39;49m\u001b[33;43m888 + 40\u001b[39;49m\u001b[33;43m\"\u001b[39;49m\u001b[43m,\u001b[49m\u001b[38;5;250;43m \u001b[39;49m\u001b[33;43m\"\u001b[39;49m\u001b[33;43m653 + 87\u001b[39;49m\u001b[33;43m\"\u001b[39;49m\u001b[43m]\u001b[49m\u001b[43m)\u001b[49m\u001b[38;5;132;01m}\u001b[39;00m\u001b[33m'\u001b[39m)\n",
      "\u001b[36mCell\u001b[39m\u001b[36m \u001b[39m\u001b[32mIn[1]\u001b[39m\u001b[32m, line 68\u001b[39m, in \u001b[36marithmetic_arranger\u001b[39m\u001b[34m(problems, show_answers)\u001b[39m\n\u001b[32m     64\u001b[39m arranged_arithmetic = []\n\u001b[32m     67\u001b[39m \u001b[38;5;66;03m# See if any of the problems result in an error\u001b[39;00m\n\u001b[32m---> \u001b[39m\u001b[32m68\u001b[39m first_operands, operators, second_operands = check_errors(problems)\n\u001b[32m     70\u001b[39m \u001b[38;5;66;03m# Enter 4 spaces between each problem\u001b[39;00m\n\u001b[32m     71\u001b[39m space_problems = \u001b[32m4\u001b[39m * \u001b[33m'\u001b[39m\u001b[33m \u001b[39m\u001b[33m'\u001b[39m\n",
      "\u001b[31mValueError\u001b[39m: too many values to unpack (expected 3)"
     ]
    }
   ],
   "source": [
    "def check_errors(problems):\n",
    "    # Check for error: List must have max 5 problems\n",
    "    if len(problems) > 5:\n",
    "        raise ValueError('Error: Too many problems.')\n",
    "    \n",
    "    all_first_operands = []\n",
    "    all_operators = []\n",
    "    all_second_operands = []\n",
    "    \n",
    "    for problem in problems:\n",
    "        first_operand = \"\"\n",
    "        second_operand = \"\"\n",
    "        operator_index = None\n",
    "        \n",
    "        remove_spaces = str.maketrans({' ':''})\n",
    "        problem = problem.translate(remove_spaces)    # Remove spaces from statement if any exist\n",
    "        \n",
    "        # Check for error: Only '+' or '-' operators allowed in problems\n",
    "        if not (problem.find('*') == -1) or not (problem.find('/') == -1):  # If not '+' or '-', print ValueError\n",
    "            raise ValueError(\"Error: Operator must be '+' or '-'.\")\n",
    "        # Else '+' or '-' exists, save index and operator to corresponding vars\n",
    "        elif not problem.find('+') == -1:\n",
    "            operator_index = problem.find('+')\n",
    "            all_operators.append(problem[operator_index])\n",
    "        else:\n",
    "            operator_index = problem.find('-')\n",
    "            all_operators.append(problem[operator_index])\n",
    "\n",
    "        # Save first operand and second operand to individual vars\n",
    "        first_operand = problem[:operator_index]\n",
    "        second_operand = problem[operator_index+1:]\n",
    "        \n",
    "        # Check for error: Problem has more than 2 operands\n",
    "        if not (second_operand.find('+') == -1) or not (second_operand.find('-') == -1):\n",
    "            raise ValueError('Error: Problem is too long.')\n",
    "        \n",
    "        # Check for error: Problems can only contain digits.\n",
    "        if not first_operand.isdigit() or not second_operand.isdigit():\n",
    "            raise ValueError('Error: Numbers must only contain digits.')\n",
    "        \n",
    "        # Check for error: Operators must have a maximum of 4 digits\n",
    "        if len(first_operand) > 4 or len(second_operand) > 4:\n",
    "            raise ValueError('Error: Numbers cannot be more than four digits.')\n",
    "        \n",
    "        # Append values to variables to return\n",
    "        all_first_operands.append(first_operand)\n",
    "        all_second_operands.append(second_operand)\n",
    "    \n",
    "    return all_first_operands, all_operators, all_second_operands\n",
    "\n",
    "\n",
    "def arithmetic_arranger(problems, show_answers=False):\n",
    "    # Initialize empty variables\n",
    "    first_spaces = ''\n",
    "    second_spaces = ''\n",
    "    top_line = ''\n",
    "    middle_line = ''\n",
    "    bottom_line = ''\n",
    "    answer = ''\n",
    "    full_top_line = []\n",
    "    full_middle_line = []\n",
    "    full_bottom_line = []\n",
    "    full_answer_line = []\n",
    "    arranged_arithmetic = []\n",
    "    \n",
    "    \n",
    "    # See if any of the problems result in an error\n",
    "    first_operands, operators, second_operands = check_errors(problems)\n",
    "    \n",
    "    # Enter 4 spaces between each problem\n",
    "    space_problems = 4 * ' '\n",
    "    \n",
    "    for index in range(len(operators)):        \n",
    "        # Determine longest operand\n",
    "        difference = len(first_operands[index]) - len(second_operands[index])\n",
    "        \n",
    "        # Right align numbers\n",
    "            # 1 space between operator and longest of 2 operands\n",
    "        if difference > 0:\n",
    "            first_spaces = 2 * ' '\n",
    "            second_spaces = (difference + 1) * ' '\n",
    "        elif difference < 0:\n",
    "            first_spaces = (abs(difference) + 2) * ' '\n",
    "            second_spaces = ' '\n",
    "        else:\n",
    "            first_spaces = 2 * ' '\n",
    "            second_spaces = ' '\n",
    "        \n",
    "        top_line = first_spaces + first_operands[index]\n",
    "        middle_line = operators[index] + second_spaces + second_operands[index]    # Operator in same line as second operand\n",
    "        bottom_line = len(top_line) * '-'    # Dashes along entire length of each problem individually\n",
    "\n",
    "        # If we need to print answers: \n",
    "        if show_answers:\n",
    "            if operators[index] == '+':\n",
    "                answer = f\"{int(first_operands[index]) + int(second_operands[index])}\"\n",
    "            else:\n",
    "                answer = f\"{int(first_operands[index]) - int(second_operands[index])}\"\n",
    "            # Determine number of spaces needed to right align answer\n",
    "            answer = (len(bottom_line) - len(answer)) * ' ' + answer\n",
    "        \n",
    "        if index < (len(operators) - 1):\n",
    "            full_top_line += (top_line + space_problems)\n",
    "            full_middle_line += (middle_line + space_problems)\n",
    "            full_bottom_line += (bottom_line + space_problems)\n",
    "            if show_answers:\n",
    "                full_answer_line += (answer + space_problems)\n",
    "        else:\n",
    "            full_top_line += (top_line + '\\n')\n",
    "            full_middle_line += (middle_line + '\\n')\n",
    "            if show_answers:\n",
    "                full_bottom_line += (bottom_line + '\\n')\n",
    "                full_answer_line += (answer)\n",
    "            else:\n",
    "                full_bottom_line += (bottom_line)\n",
    "            \n",
    "    \n",
    "    arranged_arithmetic = full_top_line + full_middle_line + full_bottom_line + full_answer_line\n",
    "    return ''.join(arranged_arithmetic)\n",
    "\n",
    "print(f'\\n{arithmetic_arranger([\"3801 - 2\", \"123 + 49\"])}')\n",
    "print(f'\\n{arithmetic_arranger([\"44 + 815\", \"909 - 2\", \"45 + 43\", \"123 + 49\", \"888 + 40\", \"653 + 87\"])}')"
   ]
  }
 ],
 "metadata": {
  "kernelspec": {
   "display_name": ".venv",
   "language": "python",
   "name": "python3"
  },
  "language_info": {
   "codemirror_mode": {
    "name": "ipython",
    "version": 3
   },
   "file_extension": ".py",
   "mimetype": "text/x-python",
   "name": "python",
   "nbconvert_exporter": "python",
   "pygments_lexer": "ipython3",
   "version": "3.11.3"
  }
 },
 "nbformat": 4,
 "nbformat_minor": 5
}
