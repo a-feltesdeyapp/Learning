{
 "cells": [
  {
   "cell_type": "markdown",
   "id": "497d64db",
   "metadata": {},
   "source": [
    "# Learn String Manipulation by Creating a Cypher\n",
    "\n",
    "Python is a powerful and popular programming language widely used for data science, data visualization, web development, game development, machine learning and more.\n",
    "\n",
    "In this project, you'll learn fundamental programming concepts in Python, such as variables, functions, loops, and conditional statements. You'll use these to code your first programs."
   ]
  },
  {
   "cell_type": "code",
   "execution_count": 1,
   "id": "62a850bd",
   "metadata": {},
   "outputs": [
    {
     "name": "stdout",
     "output_type": "stream",
     "text": [
      "plain text: Hello Zaira\n",
      "encrypted text: khoor cdlud\n",
      "plain text: Hello Zaira\n",
      "encrypted text: uryyb mnven\n"
     ]
    }
   ],
   "source": [
    "#Caesar Cypher\n",
    "text = 'Hello Zaira'\n",
    "shift = 3\n",
    "\n",
    "def caesar(message, offset):\n",
    "    alphabet = 'abcdefghijklmnopqrstuvwxyz'\n",
    "    encrypted_text = ''\n",
    "\n",
    "    for char in message.lower():\n",
    "        if char == ' ':\n",
    "            encrypted_text += char\n",
    "        else:\n",
    "            index = alphabet.find(char)\n",
    "            new_index = (index + offset) % len(alphabet)\n",
    "            encrypted_text += alphabet[new_index]\n",
    "    print('plain text:', message)\n",
    "    print('encrypted text:', encrypted_text)\n",
    "\n",
    "caesar(text, shift)\n",
    "caesar(text, 13)"
   ]
  },
  {
   "cell_type": "code",
   "execution_count": null,
   "id": "3346dae3",
   "metadata": {},
   "outputs": [
    {
     "name": "stdout",
     "output_type": "stream",
     "text": [
      "wcesc mpgkh\n"
     ]
    }
   ],
   "source": [
    "text = 'mrttaqrhknsw ih puggrur'\n",
    "custom_key = 'happycoding'\n",
    "\n",
    "def vigenere(message, key, direction=1):\n",
    "    key_index = 0\n",
    "    alphabet = 'abcdefghijklmnopqrstuvwxyz'\n",
    "    final_message = ''\n",
    "\n",
    "    for char in message.lower():\n",
    "\n",
    "        # Append any non-letter character to the message\n",
    "        if not char.isalpha():\n",
    "            final_message += char\n",
    "        else:        \n",
    "            # Find the right key character to encode/decode\n",
    "            key_char = key[key_index % len(key)]\n",
    "            key_index += 1\n",
    "\n",
    "            # Define the offset and the encrypted/decrypted letter\n",
    "            offset = alphabet.index(key_char)\n",
    "            index = alphabet.find(char)\n",
    "            new_index = (index + offset*direction) % len(alphabet)\n",
    "            final_message += alphabet[new_index]\n",
    "    \n",
    "    return final_message\n",
    "\n",
    "def encrypt(message, key):\n",
    "    return vigenere(message, key)\n",
    "    \n",
    "def decrypt(message, key):\n",
    "    return vigenere(message, key, -1)\n",
    "\n",
    "print(f'\\nEncrypted text: {text}')\n",
    "print(f'Key: {custom_key}')\n",
    "decryption = decrypt(text, custom_key)\n",
    "print(f'\\nDecrypted text: {decryption}\\n')"
   ]
  },
  {
   "cell_type": "markdown",
   "id": "f18e5d7e",
   "metadata": {},
   "source": [
    "We can use `pass` as a placeholder while creating code. The function will be passed over"
   ]
  },
  {
   "cell_type": "markdown",
   "id": "f4470ce7",
   "metadata": {},
   "source": [
    "# Work with letters and numbers by implementing the Luhn Algorithm\n",
    "\n",
    "The Luhn Algorithm is widely used for error-checking in various applications, such as verifying credit card numbers.\n",
    "\n",
    "By building this project, you'll gain experience working with numerical computations and string manipulation."
   ]
  },
  {
   "cell_type": "markdown",
   "id": "1a18b576",
   "metadata": {},
   "source": [
    "\n",
    "Python comes with built-in classes that can help us with string manipulation. One of them is the str class. It has a method called `maketrans` that can help us create a translation table. This table can be used to replace characters in a string:\n",
    "```\n",
    "str.maketrans({'t': 'c', 'l': 'b'})\n",
    "```\n",
    "\n",
    "Defining the translation does not in itself translate the string. The translate method must be called on the string to be translated with the translation table as an argument:\n",
    "Example Code\n",
    "```\n",
    "my_string = \"tamperlot\"\n",
    "translation_table = str.maketrans({'t': 'c', 'l': 'b'})\n",
    "translated_string = my_string.translate(translation_table)\n",
    "```"
   ]
  },
  {
   "cell_type": "code",
   "execution_count": 3,
   "id": "e3d2b544",
   "metadata": {},
   "outputs": [
    {
     "name": "stdout",
     "output_type": "stream",
     "text": [
      "4111111145551142\n"
     ]
    }
   ],
   "source": [
    "def verify_card_number(card_number):\n",
    "    pass\n",
    "\n",
    "def main():\n",
    "    card_number = '4111-1111-4555-1142'\n",
    "    card_translation = str.maketrans({'-': '', ' ': ''})\n",
    "    translated_card_number = card_number.translate(card_translation)\n",
    "\n",
    "    print(translated_card_number)\n",
    "\n",
    "    verify_card_number(translated_card_number)\n",
    "\n",
    "main()"
   ]
  },
  {
   "cell_type": "markdown",
   "id": "0418906e",
   "metadata": {},
   "source": [
    "The Luhn algorithm is as follows:\n",
    "1. From the right to left, double the value of every second digit; if the product is greater than 9, sum the digits of the products.\n",
    "2. Take the sum of all the digits.\n",
    "3. If the sum of all the digits is a multiple of 10, then the number is valid; else it is not valid.\n",
    "\n",
    "Assume an example of an account number \"7992739871\" that will have a check digit added, making it of the form 7992739871x:\n",
    "Example Code\n",
    "```\n",
    "Account number      7   9  9  2  7  3  9   8  7  1  x\n",
    "Double every other  7  18  9  4  7  6  9  16  7  2  x\n",
    "Sum 2-char digits   7   9  9  4  7  6  9   7  7  2  x\n",
    "```\n",
    "\n",
    "Additionally, another way you can reverse a string is with `temp_string[::-1]`"
   ]
  },
  {
   "cell_type": "code",
   "execution_count": 5,
   "id": "3b446a1d",
   "metadata": {},
   "outputs": [
    {
     "name": "stdout",
     "output_type": "stream",
     "text": [
      "VALID!\n"
     ]
    }
   ],
   "source": [
    "def verify_card_number(card_number):\n",
    "    sum_of_odd_digits = 0\n",
    "    card_number_reversed = card_number[::-1]\n",
    "    odd_digits = card_number_reversed[::2]\n",
    "\n",
    "    for digit in odd_digits:\n",
    "        sum_of_odd_digits += int(digit)\n",
    "\n",
    "    sum_of_even_digits = 0\n",
    "    even_digits = card_number_reversed[1::2]\n",
    "    for digit in even_digits:\n",
    "        number = int(digit) * 2\n",
    "        if number >= 10:\n",
    "            number = (number // 10) + (number % 10)\n",
    "        sum_of_even_digits += number\n",
    "    total = sum_of_odd_digits + sum_of_even_digits\n",
    "    return total % 10 == 0\n",
    "\n",
    "def main():\n",
    "    card_number = '4111-1111-4555-1142'\n",
    "    card_translation = str.maketrans({'-': '', ' ': ''})\n",
    "    translated_card_number = card_number.translate(card_translation)\n",
    "\n",
    "    if verify_card_number(translated_card_number):\n",
    "        print('VALID!')\n",
    "    else:\n",
    "        print('INVALID!')\n",
    "\n",
    "main()"
   ]
  },
  {
   "cell_type": "markdown",
   "id": "45bed144",
   "metadata": {},
   "source": [
    "# Learn the Lambda Function by building an Expense Tracker"
   ]
  },
  {
   "cell_type": "markdown",
   "id": "2fdaf01d",
   "metadata": {},
   "source": [
    "Adding onto what we learned about lists earlier: the `insert` method can add an element at any position in a list. The first argument is the position at which the element has to be added, and the second argument is the element to add. For example, here's how to add a new element in the third position of example_list:\n",
    "\n",
    "Example Code\n",
    "```\n",
    "example_list = [4, 5, 6, 7]\n",
    "example_list.insert(2, 5.5)\n",
    "print(example_list) # [4, 5, 5.5, 6, 7]\n",
    "```\n",
    "\n",
    "The `pop()` method can be used to remove an element from a list. By default, it removes the last element of the list. You can pass an index as the argument to the method, and it will remove the element at the given index.\n",
    "Example Code\n",
    "```\n",
    "fruits_list = [\"cherry\", \"lemon\", \"tomato\", \"apple\", \"orange\"]\n",
    "fruits_list.pop(2)\n",
    "print(fruits_list) # [\"cherry\", \"lemon\", \"apple\", \"orange\"]\n",
    "```"
   ]
  },
  {
   "cell_type": "markdown",
   "id": "fc0f5951",
   "metadata": {},
   "source": [
    "Lambda functions are brief, anonymous functions in Python, ideal for simple, one-time tasks. They are defined by the `lambda` keyword, and they use the following syntax:\n",
    "Example Code\n",
    "```\n",
    "lambda x: expr\n",
    "```\n",
    "In the example above, `x` represents a parameter to be used in the expression `expr`, and it acts just like any parameter in a traditional function. `expr` is the expression that gets evaluated and returned when the lambda function is called."
   ]
  },
  {
   "cell_type": "code",
   "execution_count": null,
   "id": "0fb65867",
   "metadata": {},
   "outputs": [
    {
     "name": "stdout",
     "output_type": "stream",
     "text": [
      "6\n"
     ]
    }
   ],
   "source": [
    "test = lambda x: x * 2\n",
    "print(test(3))\n",
    "# the lambda function and it's expression get saved to the test var and can be called like a\n",
    "    # normal function. When you enter a value into the function call, it gets entered into the\n",
    "    # expression as the varible"
   ]
  },
  {
   "cell_type": "markdown",
   "id": "1c255c89",
   "metadata": {},
   "source": [
    "Lambda functions can be valuably combined with the map() function, which executes a specified function for each element in a collection of objects, such as a list:\n",
    "\n",
    "Example Code\n",
    "```\n",
    "map(lambda x: x * 2, [1, 2, 3])\n",
    "map(function, [values])\n",
    "```\n",
    "The function to execute is passed as the first argument, and the iterable is passed as the second argument.\n",
    "\n",
    "The result of the example above would be [2, 4, 6], where each item in the list passed to map() has been doubled by the action of the lambda function.\n",
    "\n",
    "To actually read the result of the map, we have to convert the map to a list."
   ]
  },
  {
   "cell_type": "code",
   "execution_count": 3,
   "id": "4b632b43",
   "metadata": {},
   "outputs": [
    {
     "name": "stdout",
     "output_type": "stream",
     "text": [
      "<map object at 0x110df1a50>\n",
      "[4, 6, 10, 16]\n"
     ]
    }
   ],
   "source": [
    "test = (lambda x: x * 2)\n",
    "print(map(test, [2,3,5,8]))\n",
    "print(list(map(test, [2,3,5,8])))"
   ]
  },
  {
   "cell_type": "markdown",
   "id": "67bf73b0",
   "metadata": {},
   "source": [
    "`sum()` works the same way it does in MATLAB"
   ]
  },
  {
   "cell_type": "markdown",
   "id": "4085505b",
   "metadata": {},
   "source": [
    "The `filter()` function allows you to select items from an iterable, such as a list, based on the output of a function:\n",
    "\n",
    "Example Code\n",
    "```\n",
    "filter(my_function, my_list)\n",
    "```\n",
    "`filter()` takes a function as its first argument and an iterable as its second argument. It returns an iterator, which is a special object that enables you to iterate over the elements of a collection, like a list.\n",
    "\n",
    "The result of the example above is an iterator containing the elements of `my_list` for which `my_function` returns `True`."
   ]
  },
  {
   "cell_type": "code",
   "execution_count": null,
   "id": "6e624559",
   "metadata": {},
   "outputs": [
    {
     "name": "stdout",
     "output_type": "stream",
     "text": [
      "\n",
      "Expense Tracker\n",
      "1. Add an expense\n",
      "2. List all expenses\n",
      "3. Show total expenses\n",
      "4. Filter expenses by category\n",
      "5. Exit\n",
      "\n",
      "Expense Tracker\n",
      "1. Add an expense\n",
      "2. List all expenses\n",
      "3. Show total expenses\n",
      "4. Filter expenses by category\n",
      "5. Exit\n",
      "\n",
      "All Expenses:\n",
      "Amount: 29.99, Category: misc\n",
      "\n",
      "Expense Tracker\n",
      "1. Add an expense\n",
      "2. List all expenses\n",
      "3. Show total expenses\n",
      "4. Filter expenses by category\n",
      "5. Exit\n",
      "\n",
      "Expense Tracker\n",
      "1. Add an expense\n",
      "2. List all expenses\n",
      "3. Show total expenses\n",
      "4. Filter expenses by category\n",
      "5. Exit\n",
      "\n",
      "All Expenses:\n",
      "Amount: 29.99, Category: misc\n",
      "Amount: 35.67, Category: bills\n",
      "\n",
      "Expense Tracker\n",
      "1. Add an expense\n",
      "2. List all expenses\n",
      "3. Show total expenses\n",
      "4. Filter expenses by category\n",
      "5. Exit\n",
      "Exiting the program.\n"
     ]
    }
   ],
   "source": [
    "## Complete expense tracker: \n",
    "\n",
    "def add_expense(expenses, amount, category):\n",
    "    expenses.append({'amount': amount, 'category': category})\n",
    "    \n",
    "def print_expenses(expenses):\n",
    "    for expense in expenses:\n",
    "        print(f'Amount: {expense[\"amount\"]}, Category: {expense[\"category\"]}')\n",
    "    \n",
    "def total_expenses(expenses):\n",
    "    return sum(map(lambda expense: expense['amount'], expenses))\n",
    "    \n",
    "def filter_expenses_by_category(expenses, category):\n",
    "    return filter(lambda expense: expense['category'] == category, expenses)\n",
    "    \n",
    "\n",
    "def main():\n",
    "    expenses = []\n",
    "    while True:\n",
    "        print('\\nExpense Tracker')\n",
    "        print('1. Add an expense')\n",
    "        print('2. List all expenses')\n",
    "        print('3. Show total expenses')\n",
    "        print('4. Filter expenses by category')\n",
    "        print('5. Exit')\n",
    "       \n",
    "        choice = input('Enter your choice: ')\n",
    "\n",
    "        if choice == '1':\n",
    "            amount = float(input('Enter amount: '))\n",
    "            category = input('Enter category: ')\n",
    "            add_expense(expenses, amount, category)\n",
    "\n",
    "        elif choice == '2':\n",
    "            print('\\nAll Expenses:')\n",
    "            print_expenses(expenses)\n",
    "    \n",
    "        elif choice == '3':\n",
    "            print('\\nTotal Expenses: ', total_expenses(expenses))\n",
    "    \n",
    "        elif choice == '4':\n",
    "            category = input('Enter category to filter: ')\n",
    "            print(f'\\nExpenses for {category}:')\n",
    "            expenses_from_category = filter_expenses_by_category(expenses, category)\n",
    "            print_expenses(expenses_from_category)\n",
    "    \n",
    "        elif choice == '5':\n",
    "            print('Exiting the program.')\n",
    "            break\n",
    "\n",
    "main()"
   ]
  },
  {
   "cell_type": "markdown",
   "id": "42942742",
   "metadata": {},
   "source": [
    "# Learn Python List Comprehension by Building a Case Convertor Program\n",
    "List Comprehension is a way to construct a new Python list from an iterable types: lists, tuples, and strings. All without using a for loop or the `.append()` list method.\n",
    "\n",
    "In this project, you'll write a program that takes a string formatted in Camel Case or Pascal Case, then converts it into Snake Case.\n",
    "\n",
    "The project has two phases: first you'll use a for loop to implement the program. Then you'll learn how to use List Comprehension instead of a loop to achieve the same results."
   ]
  },
  {
   "cell_type": "markdown",
   "id": "027ab382",
   "metadata": {},
   "source": [
    "By this point, the variable snake_cased_char_list holds the list of converted characters. To combine these characters into a single string, you can utilize the `.join()` method.\n",
    "\n",
    "The `join` method works by concatenating each element of a list into a string, separated by a designated string, known as the separator.\n",
    "\n",
    "Example Code\n",
    "```\n",
    "result_string = ''.join(characters)\n",
    "```\n",
    "The example above joins together the elements of the characters list into a single string where each element is concatenated together using an empty string as the separator."
   ]
  },
  {
   "cell_type": "code",
   "execution_count": 3,
   "id": "dc049286",
   "metadata": {},
   "outputs": [],
   "source": [
    "def convert_to_snake_case(pascal_or_camel_cased_string):\n",
    "    snake_cased_char_list = []\n",
    "    for char in pascal_or_camel_cased_string:\n",
    "        if char.isupper():\n",
    "            converted_character = '_' + char.lower()\n",
    "            snake_cased_char_list.append(converted_character)\n",
    "        else:\n",
    "            snake_cased_char_list.append(char)\n",
    "    snake_cased_string = ''.join(snake_cased_char_list)"
   ]
  },
  {
   "cell_type": "markdown",
   "id": "4e17687d",
   "metadata": {},
   "source": [
    "In pascal case, strings begin with a capital letter. After converting all the characters to lowercase and adding an underscore to them, there's a chance of having an extra underscore at the start of your string.\n",
    "\n",
    "The easiest way to fix this is by using the .strip() string method, which removes from a string any leading or trailing characters among a set of characters passed as its argument. For example:\n",
    "\n",
    "Example Code\n",
    "```\n",
    "original_string = \"_example_string_\"\n",
    "\n",
    "clean_string = original_string.strip('_')\n",
    "```\n",
    "The strip() method is applied to original_string. This removes any leading and trailing underscore. The result of the example above would be the string 'example_string'."
   ]
  },
  {
   "cell_type": "code",
   "execution_count": 4,
   "id": "9a44f919",
   "metadata": {},
   "outputs": [],
   "source": [
    "## Using a for loop to iterate\n",
    "def convert_to_snake_case(pascal_or_camel_cased_string):\n",
    "    snake_cased_char_list = []\n",
    "    for char in pascal_or_camel_cased_string:\n",
    "        if char.isupper():\n",
    "            converted_character = '_' + char.lower()\n",
    "            snake_cased_char_list.append(converted_character)\n",
    "        else:\n",
    "            snake_cased_char_list.append(char)\n",
    "    snake_cased_string = ''.join(snake_cased_char_list)\n",
    "    \n",
    "    # Strip unnecessary _ from beginning of string if from Pascal Case\n",
    "    clean_snake_cased_string = snake_cased_string.strip('_')\n",
    "    return clean_snake_cased_string"
   ]
  },
  {
   "cell_type": "markdown",
   "id": "f1e4410a",
   "metadata": {},
   "source": [
    "After joining the elements of the list `snake_cased_char_list`, you will need to remove any leading or trailing underscores from the resulting string. For this, use the `strip` method with the underscore character `_` as an argument.\n",
    "\n",
    "Method calls can be chained together, which means that the result of one method call can be used as the object for another method call.\n",
    "\n",
    "Example Code\n",
    "```\n",
    "words_list = ['hello', 'world', 'this', 'is', 'chained', 'methods']\n",
    "result = ' '.join(words_list).upper()\n",
    "```\n",
    "In the example above, the `.upper()` method is chained to `' '.join(words_list)`, therefore `.upper() `is called on the result of the `.join()` call."
   ]
  },
  {
   "cell_type": "code",
   "execution_count": null,
   "id": "ae8aef90",
   "metadata": {},
   "outputs": [],
   "source": [
    "''.join(snake_cased_char_list).strip('_')"
   ]
  },
  {
   "cell_type": "markdown",
   "id": "42507173",
   "metadata": {},
   "source": [
    "In Python, a list comprehension is a construct that allows you to generate a new list by applying an expression to each item in an existing iterable and optionally filtering items with a condition. Apart from being briefer, list comprehensions often run faster.\n",
    "\n",
    "A basic list comprehension consists of an expression followed by a for clause:\n",
    "\n",
    "Example Code\n",
    "```\n",
    "spam = [i * 2 for i in iterable]\n",
    "```\n",
    "The above uses the variable `i` to iterate over iterable. Each elements of the resulting list is obtained by evaluating the expression `i * 2` at the current iteration.\n",
    "\n",
    "In this step, you need to fill the empty list `snake_cased_char_list` using the list comprehension syntax."
   ]
  },
  {
   "cell_type": "code",
   "execution_count": null,
   "id": "1fa73e9b",
   "metadata": {},
   "outputs": [],
   "source": [
    "snake_cased_char_list = ['_' + char.lower() for char in pascal_or_camel_cased_string]"
   ]
  },
  {
   "cell_type": "markdown",
   "id": "3f39ebfe",
   "metadata": {},
   "source": [
    "List comprehensions accept conditional statements, to evaluate the provided expression only if certain conditions are met:\n",
    "\n",
    "Example Code\n",
    "```\n",
    "spam = [i * 2 for i in iterable if i > 0]\n",
    "```\n",
    "As you can see from the output, the list of characters generated from `pascal_or_camel_cased_string` has been joined. Since the expression inside the list comprehension is evaluated for each character, the result is a lowercase string with all the characters separated by an underscore."
   ]
  },
  {
   "cell_type": "code",
   "execution_count": null,
   "id": "1aed02f4",
   "metadata": {},
   "outputs": [],
   "source": [
    "snake_cased_char_list = ['_' + char.lower() for char in pascal_or_camel_cased_string if char.isupper()]"
   ]
  },
  {
   "cell_type": "markdown",
   "id": "82346e32",
   "metadata": {},
   "source": [
    "Still, the final result is not exactly what you want to achieve. You need to execute a different expression for the characters filtered out by the `if` clause. You'll use an `else` clause for that:\n",
    "\n",
    "Example Code\n",
    "```\n",
    "spam = [i * 2 if i > 0 else -1 for i in iterable]\n",
    "```\n",
    "Note that, differently from the `if` clause, the `if/else` construct must be placed between the expression and the `for` keyword."
   ]
  },
  {
   "cell_type": "code",
   "execution_count": null,
   "id": "bdd3cf8c",
   "metadata": {},
   "outputs": [],
   "source": [
    "snake_cased_char_list = ['_' + char.lower() if char.isupper() else char for char in pascal_or_camel_cased_string]"
   ]
  },
  {
   "cell_type": "markdown",
   "id": "3e6d9099",
   "metadata": {},
   "source": [
    "Final result of case convertor program"
   ]
  },
  {
   "cell_type": "code",
   "execution_count": null,
   "id": "a5a06261",
   "metadata": {},
   "outputs": [
    {
     "name": "stdout",
     "output_type": "stream",
     "text": [
      "i_am_a_pascal_cased_string\n"
     ]
    }
   ],
   "source": [
    "def convert_to_snake_case(pascal_or_camel_cased_string):\n",
    "\n",
    "    snake_cased_char_list = [\n",
    "        '_' + char.lower() if char.isupper()\n",
    "        else char\n",
    "        for char in pascal_or_camel_cased_string\n",
    "    ]\n",
    "\n",
    "    return ''.join(snake_cased_char_list).strip('_')\n",
    "\n",
    "def main():\n",
    "    print(convert_to_snake_case('IAmAPascalCasedString'))\n",
    "\n",
    "main()"
   ]
  },
  {
   "cell_type": "markdown",
   "id": "365fe63b",
   "metadata": {},
   "source": [
    "# Learn the Bisection Method by Finding the Square Root of a Number\n",
    "Numerical methods are used to approximate solutions to mathematical problems that are difficult or impossible to solve analytically.\n",
    "\n",
    "In this project, you will explore the numerical method of bisection to find the square root of a number by iteratively narrowing down the possible range of values that contain the square root."
   ]
  },
  {
   "cell_type": "markdown",
   "id": "e1ee8680",
   "metadata": {},
   "source": [
    "The `raise` statement allows you to force a specific exception to occur. It consists of the `raise` keyword followed by the exception type, and enables you to provide a custom error message:\n",
    "\n",
    "Example Code\n",
    "```\n",
    "raise ValueError(\"Invalid value\")\n",
    "```\n",
    "When the code above runs, a `ValueError` is raised and the message `\"Invalid value\"` is shown to the user."
   ]
  },
  {
   "cell_type": "code",
   "execution_count": null,
   "id": "73a84b8e",
   "metadata": {},
   "outputs": [],
   "source": [
    "raise ValueError('Square root of negative number is not defined in real numbers')"
   ]
  },
  {
   "cell_type": "markdown",
   "id": "93affa48",
   "metadata": {},
   "source": [
    "In Python, the `max()` function returns the largest of the input values.\n",
    "\n",
    "Example Code\n",
    "```\n",
    "max(1, 2, 3) # Output: 3\n",
    "```\n",
    "The variables `low` and `high` will be used to define the initial interval where the square root lies.\n",
    "\n",
    "Also if you have to initialize a variable for an integer or float, you can set it to `None`"
   ]
  },
  {
   "cell_type": "code",
   "execution_count": null,
   "id": "e6ec8398",
   "metadata": {},
   "outputs": [],
   "source": []
  },
  {
   "cell_type": "markdown",
   "id": "b1c0c84c",
   "metadata": {},
   "source": [
    "Now you'll repeatedly narrow down the interval by finding the midpoint of the current interval and comparing the square of the midpoint with the target value.\n",
    "\n",
    "For that, inside the `else` block, create a `for` loop that runs up to `max_iterations times`.\n",
    "\n",
    "For your loop, use the `range` function, which generates a sequence of numbers you can iterate over. The syntax is `range(start, stop, step)`, where `start` is the starting integer (inclusive), `stop` is the last integer (not inclusive), and `step` is the difference between a number and the previous one in the sequence.\n",
    "\n",
    "Also, use `_` as a loop variable. The `_` acts as a placeholder and is useful when you need to use a variable but don't actually need its value.\n",
    "\n",
    "If you are counting up from 0 with a step of 1, you can just set the range to the final integer."
   ]
  },
  {
   "cell_type": "code",
   "execution_count": null,
   "id": "d96a3db7",
   "metadata": {},
   "outputs": [],
   "source": [
    "for _ in range(max_iterations):\n",
    "    pass"
   ]
  },
  {
   "cell_type": "markdown",
   "id": "17b2fc28",
   "metadata": {},
   "source": [
    "A reminder of the mathematical operators:\n",
    "`**` is in place of `^`\n",
    "\n",
    "Also `abs()` is the same"
   ]
  },
  {
   "cell_type": "code",
   "execution_count": null,
   "id": "d1ded7af",
   "metadata": {},
   "outputs": [],
   "source": [
    "for _ in range(max_iterations):\n",
    "    mid = (low + high) / 2\n",
    "    square_mid = mid ** 2"
   ]
  },
  {
   "cell_type": "markdown",
   "id": "b33834a0",
   "metadata": {},
   "source": [
    "Final version of bisection function"
   ]
  },
  {
   "cell_type": "code",
   "execution_count": null,
   "id": "2b40d39e",
   "metadata": {},
   "outputs": [
    {
     "name": "stdout",
     "output_type": "stream",
     "text": [
      "The square root of 16 is approximately 4.0\n"
     ]
    },
    {
     "data": {
      "text/plain": [
       "4.0"
      ]
     },
     "execution_count": 6,
     "metadata": {},
     "output_type": "execute_result"
    }
   ],
   "source": [
    "def square_root_bisection(square_target, tolerance=1e-7, max_iterations=100):\n",
    "    if square_target < 0:\n",
    "        raise ValueError('Square root of negative number is not defined in real numbers')\n",
    "    if square_target == 1:\n",
    "        root = 1\n",
    "        print(f'The square root of {square_target} is 1')\n",
    "    elif square_target == 0:\n",
    "        root = 0\n",
    "        print(f'The square root of {square_target} is 0')\n",
    "\n",
    "    else:\n",
    "        low = 0\n",
    "        high = max(1, square_target)\n",
    "        root = None\n",
    "        \n",
    "        for _ in range(max_iterations):\n",
    "            mid = (low + high) / 2\n",
    "            square_mid = mid**2\n",
    "\n",
    "            if abs(square_mid - square_target) < tolerance:\n",
    "                root = mid\n",
    "                break\n",
    "\n",
    "            elif square_mid < square_target:\n",
    "                low = mid\n",
    "            else:\n",
    "                high = mid\n",
    "\n",
    "        if root is None:\n",
    "            print(f\"Failed to converge within {max_iterations} iterations.\")\n",
    "    \n",
    "        else:   \n",
    "            print(f'The square root of {square_target} is approximately {root}')\n",
    "    \n",
    "    return root\n",
    "\n",
    "N = 16\n",
    "square_root_bisection(N)"
   ]
  },
  {
   "cell_type": "markdown",
   "id": "7a512061",
   "metadata": {},
   "source": [
    "# Certification Project: Build an Arithmetic Formatter \n",
    "Students in primary school often arrange arithmetic problems vertically to make them easier to solve. For example, \"235 + 52\" becomes:\n",
    "```\n",
    "  235\n",
    "+  52\n",
    "-----\n",
    "```\n",
    "Finish the arithmetic_arranger function that receives a list of strings which are arithmetic problems, and returns the problems arranged vertically and side-by-side. The function should optionally take a second argument. When the second argument is set to True, the answers should be displayed.\n",
    "\n",
    "Function Call:\n",
    "```\n",
    "arithmetic_arranger([\"32 + 698\", \"3801 - 2\", \"45 + 43\", \"123 + 49\"])\n",
    "```\n",
    "Output:\n",
    "```\n",
    "   32      3801      45      123\n",
    "+ 698    -    2    + 43    +  49\n",
    "-----    ------    ----    -----\n",
    "```\n",
    "Function Call:\n",
    "```\n",
    "arithmetic_arranger([\"32 + 8\", \"1 - 3801\", \"9999 + 9999\", \"523 - 49\"], True)\n",
    "```\n",
    "Output:\n",
    "```\n",
    "  32         1      9999      523\n",
    "+  8    - 3801    + 9999    -  49\n",
    "----    ------    ------    -----\n",
    "  40     -3800     19998      474\n",
    "```\n",
    "\n",
    "### Rules:\n",
    "The function will return the correct conversion if the supplied problems are properly formatted, otherwise, it will return a string that describes an error that is meaningful to the user.\n",
    "\n",
    "Situations that will return an error:\n",
    "* If there are too many problems supplied to the function. The limit is five, anything more will return: 'Error: Too many problems.'\n",
    "* The appropriate operators the function will accept are addition and subtraction. Multiplication and division will return an error. Other operators not mentioned in this bullet point will not need to be tested. The error returned will be: \"Error: Operator must be '+' or '-'.\"\n",
    "* Each number (operand) should only contain digits. Otherwise, the function will return: 'Error: Numbers must only contain digits.'\n",
    "* Each operand (aka number on each side of the operator) has a max of four digits in width. Otherwise, the error string returned will be: 'Error: Numbers cannot be more than four digits.'\n",
    "\n",
    "If the user supplied the correct format of problems, the conversion you return will follow these rules:\n",
    "* There should be a single space between the operator and the longest of the two operands, the operator will be on the same line as the second operand, both operands will be in the same order as provided (the first will be the top one and the second will be the bottom).\n",
    "* Numbers should be right-aligned.\n",
    "* There should be four spaces between each problem.\n",
    "* There should be dashes at the bottom of each problem. The dashes should run along the entire length of each problem individually. (The example above shows what this should look like.)\n",
    "\n",
    "Note: open the browser console with F12 to see a more verbose output of the tests.\n"
   ]
  },
  {
   "cell_type": "code",
   "execution_count": null,
   "id": "4e804b6e",
   "metadata": {},
   "outputs": [
    {
     "name": "stdout",
     "output_type": "stream",
     "text": [
      "\n",
      "  3801      123\n",
      "-    2    +  49\n",
      "------    -----\n"
     ]
    },
    {
     "ename": "ValueError",
     "evalue": "Error: Too many problems.",
     "output_type": "error",
     "traceback": [
      "\u001b[31m---------------------------------------------------------------------------\u001b[39m",
      "\u001b[31mValueError\u001b[39m                                Traceback (most recent call last)",
      "\u001b[36mCell\u001b[39m\u001b[36m \u001b[39m\u001b[32mIn[6]\u001b[39m\u001b[32m, line 122\u001b[39m\n\u001b[32m    119\u001b[39m     \u001b[38;5;28;01mreturn\u001b[39;00m \u001b[33m'\u001b[39m\u001b[33m'\u001b[39m.join(arranged_arithmetic)\n\u001b[32m    121\u001b[39m \u001b[38;5;28mprint\u001b[39m(\u001b[33mf\u001b[39m\u001b[33m'\u001b[39m\u001b[38;5;130;01m\\n\u001b[39;00m\u001b[38;5;132;01m{\u001b[39;00marithmetic_arranger([\u001b[33m\"\u001b[39m\u001b[33m3801 - 2\u001b[39m\u001b[33m\"\u001b[39m,\u001b[38;5;250m \u001b[39m\u001b[33m\"\u001b[39m\u001b[33m123 + 49\u001b[39m\u001b[33m\"\u001b[39m])\u001b[38;5;132;01m}\u001b[39;00m\u001b[33m'\u001b[39m)\n\u001b[32m--> \u001b[39m\u001b[32m122\u001b[39m \u001b[38;5;28mprint\u001b[39m(\u001b[33mf\u001b[39m\u001b[33m'\u001b[39m\u001b[38;5;130;01m\\n\u001b[39;00m\u001b[38;5;132;01m{\u001b[39;00m\u001b[43marithmetic_arranger\u001b[49m\u001b[43m(\u001b[49m\u001b[43m[\u001b[49m\u001b[33;43m\"\u001b[39;49m\u001b[33;43m44 + 815\u001b[39;49m\u001b[33;43m\"\u001b[39;49m\u001b[43m,\u001b[49m\u001b[38;5;250;43m \u001b[39;49m\u001b[33;43m\"\u001b[39;49m\u001b[33;43m909 - 2\u001b[39;49m\u001b[33;43m\"\u001b[39;49m\u001b[43m,\u001b[49m\u001b[38;5;250;43m \u001b[39;49m\u001b[33;43m\"\u001b[39;49m\u001b[33;43m45 + 43\u001b[39;49m\u001b[33;43m\"\u001b[39;49m\u001b[43m,\u001b[49m\u001b[38;5;250;43m \u001b[39;49m\u001b[33;43m\"\u001b[39;49m\u001b[33;43m123 + 49\u001b[39;49m\u001b[33;43m\"\u001b[39;49m\u001b[43m,\u001b[49m\u001b[38;5;250;43m \u001b[39;49m\u001b[33;43m\"\u001b[39;49m\u001b[33;43m888 + 40\u001b[39;49m\u001b[33;43m\"\u001b[39;49m\u001b[43m,\u001b[49m\u001b[38;5;250;43m \u001b[39;49m\u001b[33;43m\"\u001b[39;49m\u001b[33;43m653 + 87\u001b[39;49m\u001b[33;43m\"\u001b[39;49m\u001b[43m]\u001b[49m\u001b[43m)\u001b[49m\u001b[38;5;132;01m}\u001b[39;00m\u001b[33m'\u001b[39m)\n",
      "\u001b[36mCell\u001b[39m\u001b[36m \u001b[39m\u001b[32mIn[6]\u001b[39m\u001b[32m, line 68\u001b[39m, in \u001b[36marithmetic_arranger\u001b[39m\u001b[34m(problems, show_answers)\u001b[39m\n\u001b[32m     64\u001b[39m arranged_arithmetic = []\n\u001b[32m     67\u001b[39m \u001b[38;5;66;03m# See if any of the problems result in an error\u001b[39;00m\n\u001b[32m---> \u001b[39m\u001b[32m68\u001b[39m first_operands, operators, second_operands = \u001b[43mcheck_errors\u001b[49m\u001b[43m(\u001b[49m\u001b[43mproblems\u001b[49m\u001b[43m)\u001b[49m\n\u001b[32m     70\u001b[39m \u001b[38;5;66;03m# Enter 4 spaces between each problem\u001b[39;00m\n\u001b[32m     71\u001b[39m space_problems = \u001b[32m4\u001b[39m * \u001b[33m'\u001b[39m\u001b[33m \u001b[39m\u001b[33m'\u001b[39m\n",
      "\u001b[36mCell\u001b[39m\u001b[36m \u001b[39m\u001b[32mIn[6]\u001b[39m\u001b[32m, line 4\u001b[39m, in \u001b[36mcheck_errors\u001b[39m\u001b[34m(problems)\u001b[39m\n\u001b[32m      1\u001b[39m \u001b[38;5;28;01mdef\u001b[39;00m\u001b[38;5;250m \u001b[39m\u001b[34mcheck_errors\u001b[39m(problems):\n\u001b[32m      2\u001b[39m     \u001b[38;5;66;03m# Check for error: List must have max 5 problems\u001b[39;00m\n\u001b[32m      3\u001b[39m     \u001b[38;5;28;01mif\u001b[39;00m \u001b[38;5;28mlen\u001b[39m(problems) > \u001b[32m5\u001b[39m:\n\u001b[32m----> \u001b[39m\u001b[32m4\u001b[39m         \u001b[38;5;28;01mraise\u001b[39;00m \u001b[38;5;167;01mValueError\u001b[39;00m(\u001b[33m'\u001b[39m\u001b[33mError: Too many problems.\u001b[39m\u001b[33m'\u001b[39m)\n\u001b[32m      6\u001b[39m     all_first_operands = []\n\u001b[32m      7\u001b[39m     all_operators = []\n",
      "\u001b[31mValueError\u001b[39m: Error: Too many problems."
     ]
    }
   ],
   "source": [
    "def check_errors(problems):\n",
    "    # Check for error: List must have max 5 problems\n",
    "    if len(problems) > 5:\n",
    "        raise ValueError('Error: Too many problems.')\n",
    "    \n",
    "    all_first_operands = []\n",
    "    all_operators = []\n",
    "    all_second_operands = []\n",
    "    \n",
    "    for problem in problems:\n",
    "        first_operand = \"\"\n",
    "        second_operand = \"\"\n",
    "        operator_index = None\n",
    "        \n",
    "        remove_spaces = str.maketrans({' ':''})\n",
    "        problem = problem.translate(remove_spaces)    # Remove spaces from statement if any exist\n",
    "        \n",
    "        # Check for error: Only '+' or '-' operators allowed in problems\n",
    "        if not (problem.find('*') == -1) or not (problem.find('/') == -1):  # If not '+' or '-', print ValueError\n",
    "            raise ValueError(\"Error: Operator must be '+' or '-'.\")\n",
    "        # Else '+' or '-' exists, save index and operator to corresponding vars\n",
    "        elif not problem.find('+') == -1:\n",
    "            operator_index = problem.find('+')\n",
    "            all_operators.append(problem[operator_index])\n",
    "        else:\n",
    "            operator_index = problem.find('-')\n",
    "            all_operators.append(problem[operator_index])\n",
    "\n",
    "        # Save first operand and second operand to individual vars\n",
    "        first_operand = problem[:operator_index]\n",
    "        second_operand = problem[operator_index+1:]\n",
    "        \n",
    "        # Check for error: Problem has more than 2 operands\n",
    "        if not (second_operand.find('+') == -1) or not (second_operand.find('-') == -1):\n",
    "            raise ValueError('Error: Problem is too long.')\n",
    "        \n",
    "        # Check for error: Problems can only contain digits.\n",
    "        if not first_operand.isdigit() or not second_operand.isdigit():\n",
    "            raise ValueError('Error: Numbers must only contain digits.')\n",
    "        \n",
    "        # Check for error: Operators must have a maximum of 4 digits\n",
    "        if len(first_operand) > 4 or len(second_operand) > 4:\n",
    "            raise ValueError('Error: Numbers cannot be more than four digits.')\n",
    "        \n",
    "        # Append values to variables to return\n",
    "        all_first_operands.append(first_operand)\n",
    "        all_second_operands.append(second_operand)\n",
    "    \n",
    "    return all_first_operands, all_operators, all_second_operands\n",
    "\n",
    "\n",
    "def arithmetic_arranger(problems, show_answers=False):\n",
    "    # Initialize empty variables\n",
    "    first_spaces = ''\n",
    "    second_spaces = ''\n",
    "    top_line = ''\n",
    "    middle_line = ''\n",
    "    bottom_line = ''\n",
    "    answer = ''\n",
    "    full_top_line = []\n",
    "    full_middle_line = []\n",
    "    full_bottom_line = []\n",
    "    full_answer_line = []\n",
    "    arranged_arithmetic = []\n",
    "    \n",
    "    \n",
    "    # See if any of the problems result in an error\n",
    "    first_operands, operators, second_operands = check_errors(problems)\n",
    "    \n",
    "    # Enter 4 spaces between each problem\n",
    "    space_problems = 4 * ' '\n",
    "    \n",
    "    for index in range(len(operators)):        \n",
    "        # Determine longest operand\n",
    "        difference = len(first_operands[index]) - len(second_operands[index])\n",
    "        \n",
    "        # Right align numbers\n",
    "            # 1 space between operator and longest of 2 operands\n",
    "        if difference > 0:\n",
    "            first_spaces = 2 * ' '\n",
    "            second_spaces = (difference + 1) * ' '\n",
    "        elif difference < 0:\n",
    "            first_spaces = (abs(difference) + 2) * ' '\n",
    "            second_spaces = ' '\n",
    "        else:\n",
    "            first_spaces = 2 * ' '\n",
    "            second_spaces = ' '\n",
    "        \n",
    "        top_line = first_spaces + first_operands[index]\n",
    "        middle_line = operators[index] + second_spaces + second_operands[index]    # Operator in same line as second operand\n",
    "        bottom_line = len(top_line) * '-'    # Dashes along entire length of each problem individually\n",
    "\n",
    "        # If we need to print answers: \n",
    "        if show_answers:\n",
    "            if operators[index] == '+':\n",
    "                answer = f\"{int(first_operands[index]) + int(second_operands[index])}\"\n",
    "            else:\n",
    "                answer = f\"{int(first_operands[index]) - int(second_operands[index])}\"\n",
    "            # Determine number of spaces needed to right align answer\n",
    "            answer = (len(bottom_line) - len(answer)) * ' ' + answer\n",
    "        \n",
    "        if index < (len(operators) - 1):\n",
    "            full_top_line += (top_line + space_problems)\n",
    "            full_middle_line += (middle_line + space_problems)\n",
    "            full_bottom_line += (bottom_line + space_problems)\n",
    "            if show_answers:\n",
    "                full_answer_line += (answer + space_problems)\n",
    "        else:\n",
    "            full_top_line += (top_line + '\\n')\n",
    "            full_middle_line += (middle_line + '\\n')\n",
    "            if show_answers:\n",
    "                full_bottom_line += (bottom_line + '\\n')\n",
    "                full_answer_line += (answer)\n",
    "            else:\n",
    "                full_bottom_line += (bottom_line)\n",
    "            \n",
    "    \n",
    "    arranged_arithmetic = full_top_line + full_middle_line + full_bottom_line + full_answer_line\n",
    "    return ''.join(arranged_arithmetic)\n",
    "\n",
    "print(f'\\n{arithmetic_arranger([\"3801 - 2\", \"123 + 49\"])}')\n",
    "print(f'\\n{arithmetic_arranger([\"44 + 815\", \"909 - 2\", \"45 + 43\", \"123 + 49\", \"888 + 40\", \"653 + 87\"])}')"
   ]
  },
  {
   "cell_type": "markdown",
   "id": "3b9a9f0e",
   "metadata": {},
   "source": [
    "### Tests:\n",
    "1. `arithmetic_arranger([\"3801 - 2\", \"123 + 49\"])` should return `  3801      123\\n-    2    +  49\\n------    -----`.\n",
    "2. `arithmetic_arranger([\"1 + 2\", \"1 - 9380\"])` should return `  1         1\\n+ 2    - 9380\\n---    ------`.\n",
    "3. `arithmetic_arranger([\"3 + 855\", \"3801 - 2\", \"45 + 43\", \"123 + 49\"])` should return `    3      3801      45      123\\n+ 855    -    2    + 43    +  49\\n-----    ------    ----    -----`.\n",
    "4. `arithmetic_arranger([\"11 + 4\", \"3801 - 2999\", \"1 + 2\", \"123 + 49\", \"1 - 9380\"])` should return `  11      3801      1      123         1\\n+  4    - 2999    + 2    +  49    - 9380\\n----    ------    ---    -----    ------`.\n",
    "5. `arithmetic_arranger([\"44 + 815\", \"909 - 2\", \"45 + 43\", \"123 + 49\", \"888 + 40\", \"653 + 87\"])` should return `'Error: Too many problems.'`.\n",
    "6. `arithmetic_arranger([\"3 / 855\", \"3801 - 2\", \"45 + 43\", \"123 + 49\"])` should return `\"Error: Operator must be '+' or '-'.\"`.\n",
    "7. `arithmetic_arranger([\"24 + 85215\", \"3801 - 2\", \"45 + 43\", \"123 + 49\"])` should return `'Error: Numbers cannot be more than four digits.'`.\n",
    "8. `arithmetic_arranger([\"98 + 3g5\", \"3801 - 2\", \"45 + 43\", \"123 + 49\"])` should return `'Error: Numbers must only contain digits.'`.\n",
    "9. `arithmetic_arranger([\"3 + 855\", \"988 + 40\"], True)` should return`     3      988\\n+ 855    +  40\\n-----    -----\\n  858     1028`.\n",
    "10. `arithmetic_arranger([\"32 - 698\", \"1 - 3801\", \"45 + 43\", \"123 + 49\", \"988 + 40\"], True)` should return `   32         1      45      123      988\\n- 698    - 3801    + 43    +  49    +  40\\n-----    ------    ----    -----    -----\\n -666     -3800      88      172     1028`."
   ]
  },
  {
   "cell_type": "markdown",
   "id": "f4f68772",
   "metadata": {},
   "source": [
    "### Modified for FreeCodeCamp Certification"
   ]
  },
  {
   "cell_type": "code",
   "execution_count": null,
   "id": "8955c89d",
   "metadata": {},
   "outputs": [
    {
     "name": "stdout",
     "output_type": "stream",
     "text": [
      "\n",
      "  3801      123\n",
      "-    2    +  49\n",
      "------    -----\n",
      "\n",
      "Error: Too many problems.\n"
     ]
    }
   ],
   "source": [
    "def arithmetic_arranger(problems, show_answers=False):\n",
    "    # Initialize empty variables\n",
    "    operator_index = None\n",
    "    all_first_operands = []\n",
    "    all_operators = []\n",
    "    all_second_operands = []\n",
    "    first_spaces = ''\n",
    "    second_spaces = ''\n",
    "    top_line = ''\n",
    "    middle_line = ''\n",
    "    bottom_line = ''\n",
    "    answer = ''\n",
    "    full_top_line = []\n",
    "    full_middle_line = []\n",
    "    full_bottom_line = []\n",
    "    full_answer_line = []\n",
    "    arranged_arithmetic = []\n",
    "    \n",
    "    \n",
    "    # See if any of the problems result in an error\n",
    "    # Check for error: List must have max 5 problems\n",
    "    if len(problems) > 5:\n",
    "        return 'Error: Too many problems.'\n",
    "    \n",
    "    for problem in problems:\n",
    "        first_operand = \"\"\n",
    "        second_operand = \"\"\n",
    "        operator_index = None\n",
    "        \n",
    "        remove_spaces = str.maketrans({' ':''})\n",
    "        problem = problem.translate(remove_spaces)    # Remove spaces from statement if any exist\n",
    "        \n",
    "        # Check for error: Only '+' or '-' operators allowed in problems\n",
    "        if not (problem.find('*') == -1) or not (problem.find('/') == -1):  # If not '+' or '-', print ValueError\n",
    "            return \"Error: Operator must be '+' or '-'.\"\n",
    "        # Else '+' or '-' exists, save index and operator to corresponding vars\n",
    "        elif not problem.find('+') == -1:\n",
    "            operator_index = problem.find('+')\n",
    "            all_operators.append(problem[operator_index])\n",
    "        else:\n",
    "            operator_index = problem.find('-')\n",
    "            all_operators.append(problem[operator_index])\n",
    "\n",
    "        # Save first operand and second operand to individual vars\n",
    "        first_operand = problem[:operator_index]\n",
    "        second_operand = problem[operator_index+1:]\n",
    "        \n",
    "        # Check for error: Problem has more than 2 operands\n",
    "        if not (second_operand.find('+') == -1) or not (second_operand.find('-') == -1):\n",
    "            return 'Error: Problem is too long.'\n",
    "        \n",
    "        # Check for error: Problems can only contain digits.\n",
    "        if not first_operand.isdigit() or not second_operand.isdigit():\n",
    "            return 'Error: Numbers must only contain digits.'\n",
    "        \n",
    "        # Check for error: Operators must have a maximum of 4 digits\n",
    "        if len(first_operand) > 4 or len(second_operand) > 4:\n",
    "            return 'Error: Numbers cannot be more than four digits.'\n",
    "        \n",
    "        # Append values to variables to return\n",
    "        all_first_operands.append(first_operand)\n",
    "        all_second_operands.append(second_operand)\n",
    "    \n",
    "    # Enter 4 spaces between each problem\n",
    "    space_problems = 4 * ' '\n",
    "    \n",
    "    for index in range(len(all_operators)):        \n",
    "        # Determine longest operand\n",
    "        difference = len(all_first_operands[index]) - len(all_second_operands[index])\n",
    "        \n",
    "        # Right align numbers\n",
    "            # 1 space between operator and longest of 2 operands\n",
    "        if difference > 0:\n",
    "            first_spaces = 2 * ' '\n",
    "            second_spaces = (difference + 1) * ' '\n",
    "        elif difference < 0:\n",
    "            first_spaces = (abs(difference) + 2) * ' '\n",
    "            second_spaces = ' '\n",
    "        else:\n",
    "            first_spaces = 2 * ' '\n",
    "            second_spaces = ' '\n",
    "        \n",
    "        top_line = first_spaces + all_first_operands[index]\n",
    "        middle_line = all_operators[index] + second_spaces + all_second_operands[index]    # Operator in same line as second operand\n",
    "        bottom_line = len(top_line) * '-'    # Dashes along entire length of each problem individually\n",
    "\n",
    "        # If we need to print answers: \n",
    "        if show_answers:\n",
    "            if all_operators[index] == '+':\n",
    "                answer = f\"{int(all_first_operands[index]) + int(all_second_operands[index])}\"\n",
    "            else:\n",
    "                answer = f\"{int(all_first_operands[index]) - int(all_second_operands[index])}\"\n",
    "            # Determine number of spaces needed to right align answer\n",
    "            answer = (len(bottom_line) - len(answer)) * ' ' + answer\n",
    "        \n",
    "        if index < (len(all_operators) - 1):\n",
    "            full_top_line += (top_line + space_problems)\n",
    "            full_middle_line += (middle_line + space_problems)\n",
    "            full_bottom_line += (bottom_line + space_problems)\n",
    "            if show_answers:\n",
    "                full_answer_line += (answer + space_problems)\n",
    "        else:\n",
    "            full_top_line += (top_line + '\\n')\n",
    "            full_middle_line += (middle_line + '\\n')\n",
    "            if show_answers:\n",
    "                full_bottom_line += (bottom_line + '\\n')\n",
    "                full_answer_line += (answer)\n",
    "            else:\n",
    "                full_bottom_line += (bottom_line)\n",
    "            \n",
    "    \n",
    "    arranged_arithmetic = full_top_line + full_middle_line + full_bottom_line + full_answer_line\n",
    "    return ''.join(arranged_arithmetic)\n",
    "\n",
    "print(f'\\n{arithmetic_arranger([\"3801 - 2\", \"123 + 49\"])}')\n",
    "print(f'\\n{arithmetic_arranger([\"44 + 815\", \"909 - 2\", \"45 + 43\", \"123 + 49\", \"888 + 40\", \"653 + 87\"])}')"
   ]
  },
  {
   "cell_type": "markdown",
   "id": "798b8699",
   "metadata": {},
   "source": [
    "# Learn Regular Expressions by Building a Password Generator\n",
    "A Python module is a file that contains a set of statements and definitions that you can use in your code.\n",
    "\n",
    "In this project, you'll learn how to import modules from the Python standard library. You'll also learn how to use Regular Expressions by building your own password generator program."
   ]
  },
  {
   "cell_type": "markdown",
   "id": "b42e1b6b",
   "metadata": {},
   "source": [
    "You can access the utilities defined inside the imported module through the dot notation. The dot notation works by appending a dot followed by the utility name to the module name. For example, here's how to access the ascii_lowercase constant:\n",
    "```\n",
    "import string\n",
    "\n",
    "print(string.ascii_lowercase)\n",
    "# Output: abcdefghijklmnopqrstuvwxyz\n",
    "```\n",
    "In this project, you are going to use different constants from the string module."
   ]
  },
  {
   "cell_type": "code",
   "execution_count": 7,
   "id": "9617734a",
   "metadata": {},
   "outputs": [
    {
     "name": "stdout",
     "output_type": "stream",
     "text": [
      "abcdefghijklmnopqrstuvwxyz\n"
     ]
    }
   ],
   "source": [
    "import string\n",
    "\n",
    "print(string.ascii_lowercase)"
   ]
  },
  {
   "cell_type": "markdown",
   "id": "16c0dc75",
   "metadata": {},
   "source": [
    "The `random` module contains a pseudo-random number generator. Most of its functionalities depend on the `.random()` function, which returns a floating point number in the range between 0.0 (inclusive) and 1.0 (exclusive).\n",
    "\n",
    "The `.choice()` function from the `random` module takes a sequence and returns a random item of the sequence."
   ]
  },
  {
   "cell_type": "markdown",
   "id": "ddf8a032",
   "metadata": {},
   "source": [
    "However, the algorithm on which `random` relies makes the generated pseudo-random numbers predictable. Therefore, although the `random` module is suitable for the most common applications, it cannot be used for cryptographic purposes, due to its deterministic nature.\n",
    "\n",
    "Instead of importing `random`, import the `secrets` module. Then change the `print()` call to use `secrets.choice(all_characters)`.\n",
    "\n",
    "Although the effect might seem equal to `random.choice()`, `secrets` ensures you the most secure source of randomness that your operating system can provide.\n"
   ]
  },
  {
   "cell_type": "code",
   "execution_count": null,
   "id": "2bb2b8e3",
   "metadata": {},
   "outputs": [
    {
     "name": "stdout",
     "output_type": "stream",
     "text": [
      "0.2990366795428592\n",
      "l\n",
      "R\n"
     ]
    }
   ],
   "source": [
    "import string\n",
    "import random\n",
    "import secrets\n",
    "\n",
    "print(random.random())\n",
    "print(random.choice(string.ascii_letters))\n",
    "print(secrets.choice(string.ascii_letters))"
   ]
  },
  {
   "cell_type": "markdown",
   "id": "0d0c0693",
   "metadata": {},
   "source": [
    "A tuple is another built-in data structure in Python. Tuples are very much like lists, but they are defined with parentheses `()`, instead of square brackets. Also, tuples are immutable, unlike lists.\n",
    "```\n",
    "my_tuple = ('larch', 1, True)\n",
    "```"
   ]
  },
  {
   "cell_type": "markdown",
   "id": "a5c418cc",
   "metadata": {},
   "source": [
    "The `re` module allows you to use regular expressions in your code. You will learn more about regular expressions very soon.\n",
    "\n",
    "A regular expression, or regex, is a pattern used to match a specific combination of characters inside a string. It is a valid alternative to `if/else` conditional statements when you need to match or find patterns inside a string for validation purposes, character replacement, and others.\n",
    "\n",
    "The `.compile()` function from the `re` module compiles the string passed as the argument into a regular expression object that can be used by other `re` methods.\n",
    "\n",
    "The `search()` function from the `re` module analyzes the string passed as the argument looking for the first place where the regex pattern matches the string.\n",
    "\n",
    "In your pattern, you can add a quantifier after a character to specify how many times that character should be repeated. For example, the `+` quantifier means it should repeat one or more times."
   ]
  },
  {
   "cell_type": "code",
   "execution_count": 6,
   "id": "fa5d7160",
   "metadata": {},
   "outputs": [
    {
     "name": "stdout",
     "output_type": "stream",
     "text": [
      "<re.Match object; span=(5, 7), match='ll'>\n"
     ]
    }
   ],
   "source": [
    "import re\n",
    "\n",
    "pattern = re.compile('l+')\n",
    "quote = 'Not all those who wander are lost.'\n",
    "print(pattern.search(quote))"
   ]
  },
  {
   "cell_type": "markdown",
   "id": "07eafaa1",
   "metadata": {},
   "source": [
    "You can obtain the same result without using the `.compile()` function. Modify your pattern variable into the literal string `'l+'`. Then, change the `print()` call to print `re.search(pattern, quote)`."
   ]
  },
  {
   "cell_type": "code",
   "execution_count": 13,
   "id": "e2ce944a",
   "metadata": {},
   "outputs": [
    {
     "name": "stdout",
     "output_type": "stream",
     "text": [
      "<re.Match object; span=(5, 7), match='ll'>\n"
     ]
    }
   ],
   "source": [
    "pattern = 'l+'\n",
    "quote = 'Not all those who wander are lost.'\n",
    "print(re.search(pattern, quote))"
   ]
  },
  {
   "cell_type": "markdown",
   "id": "e345820c",
   "metadata": {},
   "source": [
    "To check that the generated password meets the required features, you are going to use the `.findall()` function from the `re` module. It's similar to search but it returns a list with all the occurrences of the matched pattern."
   ]
  },
  {
   "cell_type": "code",
   "execution_count": 14,
   "id": "8a31277f",
   "metadata": {},
   "outputs": [
    {
     "name": "stdout",
     "output_type": "stream",
     "text": [
      "['l', 'l', 'l']\n"
     ]
    }
   ],
   "source": [
    "pattern = 'l'\n",
    "quote = 'Not all those who wander are lost.'\n",
    "print(re.findall(pattern, quote))"
   ]
  },
  {
   "cell_type": "markdown",
   "id": "ac9a3b0b",
   "metadata": {},
   "source": [
    "A character class is indicated by square brackets and matches one character among those specified between the brackets. For example, `ma[dnt]` matches either `mad`, `man`, or `mat`."
   ]
  },
  {
   "cell_type": "code",
   "execution_count": 15,
   "id": "5fc98c25",
   "metadata": {},
   "outputs": [
    {
     "name": "stdout",
     "output_type": "stream",
     "text": [
      "['wh', 'wa']\n"
     ]
    }
   ],
   "source": [
    "pattern = 'w[ha]'\n",
    "quote = 'Not all those who wander are lost.'\n",
    "print(re.findall(pattern, quote))"
   ]
  },
  {
   "cell_type": "markdown",
   "id": "4b82a43a",
   "metadata": {},
   "source": [
    "Character classes also allow you to indicate a range of characters to match. You need to specify the starting and the ending characters separated by an hyphen, `-`. Characters follow the Unicode order.\n",
    "\n",
    "Modify your pattern variable to match any letter `t` preceded by a lowercase letter in the `quote` variable. Use the range of characters from `a` to `z` for that."
   ]
  },
  {
   "cell_type": "code",
   "execution_count": 17,
   "id": "164699ac",
   "metadata": {},
   "outputs": [
    {
     "name": "stdout",
     "output_type": "stream",
     "text": [
      "['ot', 'st']\n"
     ]
    }
   ],
   "source": [
    "pattern = '[a-z]t'\n",
    "quote = 'Not all those who wander are lost.'\n",
    "print(re.findall(pattern, quote))"
   ]
  },
  {
   "cell_type": "markdown",
   "id": "93a8356b",
   "metadata": {},
   "source": [
    "The caret, `^`, placed at the beginning of the character class, matches all the characters except those specified in the class.\n"
   ]
  },
  {
   "cell_type": "code",
   "execution_count": 18,
   "id": "85c9a200",
   "metadata": {},
   "outputs": [
    {
     "name": "stdout",
     "output_type": "stream",
     "text": [
      "[' t']\n"
     ]
    }
   ],
   "source": [
    "pattern = '[^a-z]t'\n",
    "quote = 'Not all those who wander are lost.'\n",
    "print(re.findall(pattern, quote))"
   ]
  },
  {
   "cell_type": "markdown",
   "id": "f7c4cfec",
   "metadata": {},
   "source": [
    "The dot character is a wildcard that matches any character in a string — except for a newline character by default. Modify pattern to match the entire string by replacing the current pattern with a `.` followed by the `+` quantifier.\n",
    "\n",
    "If you need to match a character that has a special meaning in the pattern, such as `.` or `+`, you can escape it by prepending a backslash character, `\\.` For example, this matches a literal plus sign: `\\+`. [Think LaTeX]"
   ]
  },
  {
   "cell_type": "code",
   "execution_count": 20,
   "id": "ec05957a",
   "metadata": {},
   "outputs": [
    {
     "name": "stdout",
     "output_type": "stream",
     "text": [
      "['Not all those who wander are lost.']\n",
      "['.']\n"
     ]
    }
   ],
   "source": [
    "pattern = '.+'\n",
    "quote = 'Not all those who wander are lost.'\n",
    "print(re.findall(pattern, quote))\n",
    "\n",
    "pattern = '\\.'\n",
    "print(re.findall(pattern, quote))"
   ]
  },
  {
   "cell_type": "markdown",
   "id": "a4ad1ceb",
   "metadata": {},
   "source": [
    "Python provides a particular type of string called raw string. Raw strings are prefixed with a `r`. The key distinction from regular strings lies in how they handle the backslash character: in raw strings, backslashes are treated as literal characters rather than escape characters. When writing regular expressions, using raw strings is a good practice, since they can usually contain a lot of `\\` characters."
   ]
  },
  {
   "cell_type": "code",
   "execution_count": 21,
   "id": "d1c4380c",
   "metadata": {},
   "outputs": [
    {
     "name": "stdout",
     "output_type": "stream",
     "text": [
      "['.']\n"
     ]
    }
   ],
   "source": [
    "pattern = r'\\.'\n",
    "quote = 'Not all those who wander are lost.'\n",
    "print(re.findall(pattern, quote))"
   ]
  },
  {
   "cell_type": "markdown",
   "id": "1c49084a",
   "metadata": {},
   "source": [
    "The character class `\\d` is a shorthand for `[0-9]`, namely in a raw string\n",
    "\n",
    "In a character class, you can combine multiple ranges by writing one range after another inside the square brackets (without any additional characters). For example: `[a-d3-6]` is the combination of `[a-d]` and `[3-6]`.\n",
    "\n",
    "In the same way the [0-9] class is equivalent to `\\d`, the `[^0-9]` class is equivalent to `\\D`. Alphanumeric characters can be matched with `\\w` and non-alphanumeric characters can be matched with `\\W`."
   ]
  },
  {
   "cell_type": "code",
   "execution_count": 22,
   "id": "1d745c7b",
   "metadata": {},
   "outputs": [
    {
     "name": "stdout",
     "output_type": "stream",
     "text": [
      "[' ', ' ', ' ', ' ', ' ', ' ', '.']\n"
     ]
    }
   ],
   "source": [
    "pattern = r'\\W'\n",
    "quote = 'Not all those who wander are lost.'\n",
    "print(re.findall(pattern, quote))"
   ]
  },
  {
   "cell_type": "markdown",
   "id": "a05222f3",
   "metadata": {},
   "source": [
    "Since the underscore character is a valid character for variable names, it is included in the `\\w` character class (equivalent to `[a-zA-Z0-9_]`), which can be conveniently used to match variable names.\n",
    "\n",
    "Therefore, the `\\W` character class is equivalent to `[^a-zA-Z0-9_]` with the underscore character that is not matched. For this reason you cannot use it to match all your special characters.\n",
    "\n",
    "You can also interpolate a raw string with an f string. Ex. `fr'[{symbols}]'`"
   ]
  },
  {
   "cell_type": "markdown",
   "id": "d3073c7a",
   "metadata": {},
   "source": [
    "`for` loops can take in multiple loop variables. Ex. `for constraint, pattern in constraints:`"
   ]
  },
  {
   "cell_type": "markdown",
   "id": "13f2e152",
   "metadata": {},
   "source": [
    "Instead of using a loop and a counter variable, you can achieve the same result with a different approach, which you are going to implement in the next few steps.\n",
    "\n",
    "`all()` is a built-in Python function that returns `True` if all the elements inside a given iterable evaluate to `True`. Otherwise, it returns `False`. In this way you can enter a for statement inside of a single if statement\n",
    "\n",
    "Ex: `if all([constraint <= len(re.findall(pattern, password)) for constraint, pattern in constraints]):`\n",
    "\n",
    "Having `all([expression for i in iterable])`, means that a new list is created by evaluating expression for each i in iterable. After the `all()` function iterates over the newly created list, the list is deleted automatically, since it is no longer needed.\n",
    "\n",
    "Memory can be saved by using a generator expression. Generator expressions follow the syntax of list comprehensions but they use parentheses instead of square brackets.\n",
    "Ex: `if all(constraint <= len(re.findall(pattern, password)) for constraint, pattern in constraints):`"
   ]
  },
  {
   "cell_type": "markdown",
   "id": "bf263a19",
   "metadata": {},
   "source": [
    "It works, but there are still a couple of things you can improve. First of all, calling a function with 5 arguments can create confusion on which value will be assigned to which parameter.\n",
    "\n",
    "You can call a function using keyword arguments, that is writing the parameter name explicitly followed by the assignment operator and the value. For example:\n",
    "```\n",
    "def add(x, y):\n",
    "    return x + y\n",
    "\n",
    "add(x=1, y=7) # 8\n",
    "```"
   ]
  },
  {
   "cell_type": "code",
   "execution_count": 24,
   "id": "76c52547",
   "metadata": {},
   "outputs": [
    {
     "name": "stdout",
     "output_type": "stream",
     "text": [
      "J1Oo6`8[\n"
     ]
    }
   ],
   "source": [
    "import re\n",
    "import secrets\n",
    "import string\n",
    "\n",
    "\n",
    "def generate_password(length, nums, special_chars, uppercase, lowercase):\n",
    "   \n",
    "    # Define the possible characters for the password\n",
    "    letters = string.ascii_letters\n",
    "    digits = string.digits\n",
    "    symbols = string.punctuation\n",
    "\n",
    "    # Combine all characters\n",
    "    all_characters = letters + digits + symbols\n",
    "\n",
    "    while True:\n",
    "        password = ''\n",
    "        # Generate password\n",
    "        for _ in range(length):\n",
    "            password += secrets.choice(all_characters)\n",
    "        \n",
    "        constraints = [\n",
    "            (nums, r'\\d'),\n",
    "            (special_chars, fr'[{symbols}]'),\n",
    "            (uppercase, r'[A-Z]'),\n",
    "            (lowercase, r'[a-z]')\n",
    "        ]\n",
    "\n",
    "        # Check constraints        \n",
    "        if all(\n",
    "            constraint <= len(re.findall(pattern, password))\n",
    "            for constraint, pattern in constraints\n",
    "        ):\n",
    "            break\n",
    "    \n",
    "    return password\n",
    "    \n",
    "new_password = generate_password(length = 8, nums = 1, uppercase = 1, lowercase = 1, special_chars = 1)\n",
    "print(new_password)"
   ]
  },
  {
   "cell_type": "markdown",
   "id": "8fa2be0c",
   "metadata": {},
   "source": [
    "Finally, put the last two lines of your code inside an if statement that execute when `__name__ == '__main__'`. In this way, your code won't run when imported as a module. Otherwise, it will call `generate_password()` and print the generated password."
   ]
  },
  {
   "cell_type": "code",
   "execution_count": 25,
   "id": "96503591",
   "metadata": {},
   "outputs": [
    {
     "name": "stdout",
     "output_type": "stream",
     "text": [
      "Generated password: 2!ashL@(_=72?Lrd\n"
     ]
    }
   ],
   "source": [
    "import re\n",
    "import secrets\n",
    "import string\n",
    "\n",
    "\n",
    "def generate_password(length=16, nums=1, special_chars=1, uppercase=1, lowercase=1):\n",
    "\n",
    "    # Define the possible characters for the password\n",
    "    letters = string.ascii_letters\n",
    "    digits = string.digits\n",
    "    symbols = string.punctuation\n",
    "\n",
    "    # Combine all characters\n",
    "    all_characters = letters + digits + symbols\n",
    "\n",
    "    while True:\n",
    "        password = ''\n",
    "        # Generate password\n",
    "        for _ in range(length):\n",
    "            password += secrets.choice(all_characters)\n",
    "        \n",
    "        constraints = [\n",
    "            (nums, r'\\d'),\n",
    "            (special_chars, fr'[{symbols}]'),\n",
    "            (uppercase, r'[A-Z]'),\n",
    "            (lowercase, r'[a-z]')\n",
    "        ]\n",
    "\n",
    "        # Check constraints        \n",
    "        if all(\n",
    "            constraint <= len(re.findall(pattern, password))\n",
    "            for constraint, pattern in constraints\n",
    "        ):\n",
    "            break\n",
    "    \n",
    "    return password\n",
    "    \n",
    "if __name__ == '__main__':\n",
    "    new_password = generate_password()\n",
    "    print('Generated password:', new_password)"
   ]
  },
  {
   "cell_type": "markdown",
   "id": "75366d2c",
   "metadata": {},
   "source": [
    "# Learn Algorithm Design by Building a Shortest-Path Algorithm\n",
    "Algorithms are step-by-step procedures that developers use to perform calculations and solve computational problems.\n",
    "\n",
    "In this project, you'll learn how to use functions, loops, conditional statements, and dictionary comprehensions to implement a Shortest Path algorithm."
   ]
  },
  {
   "cell_type": "markdown",
   "id": "bfd2eeae",
   "metadata": {},
   "source": [
    "To iterate over the keys of a dictionary, you can simply put the dictionary into a for loop. The code below would print each key in the dictionary dict:\n",
    "```\n",
    "for i in dict:\n",
    "   print(i)\n",
    "```\n",
    "\n",
    "If you want to iterate over the values of the dictionary keys, one way is to use the `.values()` method.\n",
    "\n",
    "Finally, if you want to be able to go through the key-value pairs, you can use the `.items()` method.\n",
    "\n",
    "As you can see from the output, `.items()` creates a data structure that stores each key-value pair in a distinct tuple. To iterate over the elements in those tuples you can add a second loop variable:\n",
    "```\n",
    "for i, j in dict.items():\n",
    "    print(i, j)\n",
    "```\n"
   ]
  },
  {
   "cell_type": "code",
   "execution_count": 5,
   "id": "d5c43a66",
   "metadata": {},
   "outputs": [
    {
     "name": "stdout",
     "output_type": "stream",
     "text": [
      "species\n",
      "age\n",
      "food\n",
      "\n",
      "Cavia porcellus\n",
      "2\n",
      "hay\n",
      "\n",
      "('species', 'Cavia porcellus')\n",
      "('age', 2)\n",
      "('food', 'hay')\n"
     ]
    }
   ],
   "source": [
    "copper = {\n",
    "    'species': 'guinea pig',\n",
    "    'age': 2\n",
    "}\n",
    "copper['food'] = 'hay'\n",
    "copper['species'] = 'Cavia porcellus'\n",
    "\n",
    "for key in copper:\n",
    "    print(key)\n",
    "    \n",
    "print()\n",
    "\n",
    "for i in copper.values():\n",
    "    print(i)\n",
    "    \n",
    "print()\n",
    "\n",
    "for i in copper.items():\n",
    "    print(i)"
   ]
  },
  {
   "cell_type": "markdown",
   "id": "527539eb",
   "metadata": {},
   "source": [
    "You can remove a key-value pair from a dictionary by using the del keyword:\n",
    "```\n",
    "my_dict = {\n",
    "    'name': 'Michael',\n",
    "    'occupation': 'Lumberjack'\n",
    "}\n",
    "\n",
    "del my_dict['occupation']\n",
    "```\n"
   ]
  },
  {
   "attachments": {
    "image.png": {
     "image/png": "[encoded data removed]"
    }
   },
   "cell_type": "markdown",
   "id": "3a04dce8",
   "metadata": {},
   "source": [
    "Mathematically, graphs are data structures representing relations between pairs of elements. These elements, called nodes, can be real-life objects, entities, points in space or others. The connections between the nodes are called the edges.\n",
    "\n",
    "Here's a visual representation of a graph:\n",
    "\n",
    "![image.png](attachment:image.png)"
   ]
  },
  {
   "cell_type": "code",
   "execution_count": 6,
   "id": "0c5ef19a",
   "metadata": {},
   "outputs": [],
   "source": [
    "# This represents the connection between nodes\n",
    "my_graph = {\n",
    "    'A': 'B',\n",
    "    'B': 'A'\n",
    "}\n",
    "\n",
    "# If multiple nodes are connected to one, you can use a list to note the connection between each\n",
    "\n",
    "my_graph['C'] = 'B'\n",
    "my_graph['B'] = ['A', 'B']"
   ]
  },
  {
   "cell_type": "markdown",
   "id": "421e7577",
   "metadata": {},
   "source": [
    "A graph is called a weighted graph when its edges are associated with weights, representing a distance, time or other quantitative value.\n",
    "\n",
    "In your case, these weights will be the distances between each node, or point in space. To represent a weighted graph you can modify your dictionary, using a list of tuples for each value.\n",
    "\n",
    "The first element in the tuple will be the connected node, and the second element will be an integer number indicating the distance."
   ]
  },
  {
   "cell_type": "markdown",
   "id": "18551725",
   "metadata": {},
   "source": [
    "Now to develop the shortest distance algorithm.\n",
    "* The algorithm will start at a specified node, then explore the connected nodes to find the shortest path\n",
    "* The distance from the starting node is zero, because the algorithm begins its assessment right from there. After appending node to unvisited in your loop, create an if statement that triggers if the node is equal to the starting node. Then assign 0 to that node inside the distances dictionary.\n",
    "* At the beginning, all the other nodes in the graph are considered to be at infinite distance from the source node, because the distance has not been determined yet\n",
    "    * Create an else clause and assign an infinite value to the node in the distances dictionary. For that, use the `float('inf')` to generate a floating point number representing the positive infinity.\n",
    "* You want to keep track of the paths between the starting node and each other node."
   ]
  },
  {
   "cell_type": "code",
   "execution_count": null,
   "id": "da684921",
   "metadata": {},
   "outputs": [],
   "source": [
    "my_graph = {\n",
    "    'A': [('B', 3), ('D', 1)],\n",
    "    'B': [('A', 3), ('C', 4)],\n",
    "    'C': [('B', 4), ('D', 7)],\n",
    "    'D': [('A', 1), ('C', 7)]\n",
    "}\n",
    "\n",
    "def shortest_path(graph, start):\n",
    "    unvisited = []\n",
    "    distances = {}\n",
    "    for node in graph:\n",
    "        unvisited.append(node)\n",
    "        if node == start:\n",
    "            distances[node] = 0\n",
    "        else:\n",
    "            distances[node] = float('inf')\n",
    "    print(f'Unvisited: {unvisited}\\nDistances: {distances}')\n",
    "\n",
    "shortest_path(my_graph,'A')"
   ]
  },
  {
   "cell_type": "markdown",
   "id": "6950591f",
   "metadata": {},
   "source": [
    "The `list()` type constructor enables you to build a list from an iterable."
   ]
  },
  {
   "cell_type": "markdown",
   "id": "c622d314",
   "metadata": {},
   "source": [
    "With a dictionary comprehension, you can create a dictionary starting from an existing dictionary:\n",
    "```\n",
    "{key: val for key in dict}\n",
    "```\n",
    "In the example above, `val` is the value that `key` will have in the new dictionary, and `dict` is the existing dictionary.\n",
    "\n",
    "Dictionary comprehensions support conditional if/else syntax too:\n",
    "```\n",
    "{key: val_1 if condition else val_2 for key in dict}\n",
    "```\n",
    "In the example above, dict is the existing dictionary. When condition evaluates to `True`, key will have the value `val_1` , otherwise `val_2`."
   ]
  },
  {
   "cell_type": "code",
   "execution_count": null,
   "id": "c35c7b14",
   "metadata": {},
   "outputs": [],
   "source": [
    "def shortest_path(graph, start):\n",
    "    unvisited = list(graph)\n",
    "    distances = {node: 0 if node == start else float('inf') for node in graph}\n",
    "    paths = {key: [] for key in graph}\n",
    "    \n",
    "    print(f'Unvisited: {unvisited}\\nDistances: {distances}')\n",
    "    "
   ]
  },
  {
   "cell_type": "markdown",
   "id": "f6b07dd4",
   "metadata": {},
   "source": [
    "Since the algorithm begins its assessment from the starting node, after creating the paths dictionary, you need to add the starting node to its own list in the paths dictionary.\n",
    "\n",
    "Use the `.append()` method to append start to the `paths[start]` list."
   ]
  },
  {
   "cell_type": "code",
   "execution_count": 8,
   "id": "c36a9da9",
   "metadata": {},
   "outputs": [
    {
     "name": "stdout",
     "output_type": "stream",
     "text": [
      "Unvisited: ['A', 'B', 'C', 'D']\n",
      "Distances: {'A': 0, 'B': inf, 'C': inf, 'D': inf}\n",
      "Paths: {'A': ['A'], 'B': [], 'C': [], 'D': []}\n"
     ]
    }
   ],
   "source": [
    "my_graph = {\n",
    "    'A': [('B', 3), ('D', 1)],\n",
    "    'B': [('A', 3), ('C', 4)],\n",
    "    'C': [('B', 4), ('D', 7)],\n",
    "    'D': [('A', 1), ('C', 7)]\n",
    "}\n",
    "def shortest_path(graph, start):\n",
    "    unvisited = list(graph)\n",
    "    distances = {node: 0 if node == start else float('inf') for node in graph}\n",
    "    paths = {node: [] for node in graph}\n",
    "    paths[start].append(start)\n",
    "    \n",
    "    print(f'Unvisited: {unvisited}\\nDistances: {distances}\\nPaths: {paths}')\n",
    "    \n",
    "shortest_path(my_graph, 'A')"
   ]
  },
  {
   "cell_type": "markdown",
   "id": "04010f05",
   "metadata": {},
   "source": [
    "\n",
    "Your function is going to explore all the nodes connected to the starting node. It will calculate the shortest paths for all of them. Then, it will remove the starting node from the unvisited nodes.\n",
    "\n",
    "Next, the closest neighbor node will be visited and the process will be repeated until all the nodes are visited.\n",
    "\n",
    "From now on, you are going to work on the main loop that explores the nodes in the graph. To avoid issues with running an infinite loop during the algorithm development, turn your function call into a comment.\n"
   ]
  },
  {
   "cell_type": "markdown",
   "id": "5bc4720b",
   "metadata": {},
   "source": [
    "Unrelated, I struggled so much with this \"Before the print call, create a while loop that runs while unvisited is not empty. Use the pass keyword to fill the loop body.\"\n",
    "\n",
    "Just call `while unvisited: pass`"
   ]
  },
  {
   "cell_type": "markdown",
   "id": "f5550268",
   "metadata": {},
   "source": [
    "Inside the `while` loop, the first thing to do is define the current node to visit. For that you can use the `min()` function. It returns the smallest item from the iterable passed as the argument.\n",
    "\n",
    "`min()` takes also a keyword-only argument. Passing a function as an additional argument to `min()`, you can modify the way the list items are compared.\n",
    "\n",
    "The result of the line you've just written in the previous step is the node that comes first in alphabetical order. Instead you want to select the unvisited node having the smallest distance from the starting node.\n",
    "\n",
    "Pass `key=distances.get` as the second argument to your `min()` call. In this way, the comparison will take place depending on the value each unvisited list item has inside the distances dictionary.\n"
   ]
  },
  {
   "cell_type": "code",
   "execution_count": null,
   "id": "2560a3fd",
   "metadata": {},
   "outputs": [],
   "source": [
    "while unvisited:\n",
    "        current = min(unvisited, key=distances.get)"
   ]
  },
  {
   "cell_type": "markdown",
   "id": "6b1aed77",
   "metadata": {},
   "source": [
    "Create an if statement to check if the distance of the neighbor node (the second item in the processed tuple) plus the distance of current is less than the currently known distance of the neighbor node (the first item in the processed tuple).\n",
    "\n",
    "Once the distance to a node is set inside the distances dictionary, you need to keep track of the path to that node, too. If the distance for the node in the processed tuple has been updated, the last item in its path is the node itself."
   ]
  },
  {
   "cell_type": "code",
   "execution_count": null,
   "id": "af51885c",
   "metadata": {},
   "outputs": [],
   "source": [
    "while unvisited:\n",
    "    current = min(unvisited, key=distances.get)\n",
    "    for node, distance in graph[current]:\n",
    "        if distance + distances[current] < distances[node]:\n",
    "            distances[node] = distance + distances[current]\n",
    "            \n",
    "            if paths[node][-1] == node:\n",
    "                paths[node] = paths[current]\n",
    "    \n",
    "#shortest_path(my_graph, 'A')"
   ]
  },
  {
   "cell_type": "markdown",
   "id": "1ac2dd84",
   "metadata": {},
   "source": [
    "The `.extend()` method, allows you to add elements from an iterable to the end of a list:\n",
    "```\n",
    "my_list = ['larch', 'birch']\n",
    "tree_list = ['fir', 'redwood', 'pine']\n",
    "my_list.extend(tree_list)\n",
    "print(my_list) # Output: ['larch', 'birch', 'fir', 'redwood', 'pine']\n",
    "```\n"
   ]
  },
  {
   "cell_type": "code",
   "execution_count": null,
   "id": "fb4afd1b",
   "metadata": {},
   "outputs": [],
   "source": [
    "if paths[node][-1] == node:\n",
    "    paths[node] = paths[current]\n",
    "else:\n",
    "    paths[node].extend(paths[current])"
   ]
  },
  {
   "cell_type": "markdown",
   "id": "b6680304",
   "metadata": {},
   "source": [
    "The `.remove()` method removes from a list the first matching element that is passed as the argument:\n",
    "```\n",
    "my_list = ['larch', 1, True, 1]\n",
    "my_list.remove(1)\n",
    "print(my_list) # Output: ['larch', True, 1]\n",
    "```"
   ]
  },
  {
   "cell_type": "markdown",
   "id": "b67b5b1d",
   "metadata": {},
   "source": [
    "There are two bugs in the code currently. First off, we want to stop the stacked if statement from running if `paths[node]` does not exist.\n",
    "\n",
    "The other bug is subtle. When a shorter distance is found for a neighbor node, `paths[current]` gets assigned to the neighbor node path, `paths[node]`.\n",
    "\n",
    "This means both variables point to the same list. Since lists are mutable, when you append the neighbor node to its path, both `paths[node]` and `paths[current]` are modified because they are the same list. This results in wrong paths, although the distances are correct.\n",
    "\n",
    "You can fix that bug by assigning a copy of `paths[current]` to the neighbor node path. For that you can use the slice syntax:\n",
    "```\n",
    "my_list[:]\n",
    "```"
   ]
  },
  {
   "cell_type": "code",
   "execution_count": 9,
   "id": "6b4abb8f",
   "metadata": {},
   "outputs": [
    {
     "name": "stdout",
     "output_type": "stream",
     "text": [
      "Unvisited: []\n",
      "Distances: {'A': 0, 'B': 3, 'C': 7, 'D': 1}\n",
      "Paths: {'A': ['A'], 'B': ['A', 'B'], 'C': ['A', 'B', 'C'], 'D': ['A', 'D']}\n"
     ]
    }
   ],
   "source": [
    "my_graph = {\n",
    "    'A': [('B', 3), ('D', 1)],\n",
    "    'B': [('A', 3), ('C', 4)],\n",
    "    'C': [('B', 4), ('D', 7)],\n",
    "    'D': [('A', 1), ('C', 7)]\n",
    "}\n",
    "\n",
    "def shortest_path(graph, start):\n",
    "    unvisited = list(graph)\n",
    "    distances = {node: 0 if node == start else float('inf') for node in graph}\n",
    "    paths = {node: [] for node in graph}\n",
    "    paths[start].append(start)\n",
    "    \n",
    "    while unvisited:\n",
    "        current = min(unvisited, key=distances.get)\n",
    "        for node, distance in graph[current]:\n",
    "            if distance + distances[current] < distances[node]:\n",
    "                distances[node] = distance + distances[current]\n",
    "                if paths[node] and paths[node][-1] == node:\n",
    "                    paths[node] = paths[current][:]\n",
    "                else:\n",
    "                    paths[node].extend(paths[current])\n",
    "                paths[node].append(node)\n",
    "        unvisited.remove(current)\n",
    "    \n",
    "    print(f'Unvisited: {unvisited}\\nDistances: {distances}\\nPaths: {paths}')\n",
    "    \n",
    "shortest_path(my_graph, 'A')\n"
   ]
  },
  {
   "cell_type": "markdown",
   "id": "8392cc03",
   "metadata": {},
   "source": [
    "Python provides a concise way to write `if/else` conditionals by using the ternary syntax:\n",
    "```\n",
    "val_1 if condition else val_2\n",
    "```\n",
    "The expression above evaluates to `val_1` if condition is true, otherwise to `val_2`.\n",
    "\n",
    "You can skip a value in an if/else statement using `continue`"
   ]
  },
  {
   "cell_type": "code",
   "execution_count": 11,
   "id": "91d6be32",
   "metadata": {},
   "outputs": [
    {
     "name": "stdout",
     "output_type": "stream",
     "text": [
      "\n",
      "A-F distance: 6\n",
      "Path: A -> C -> B -> F\n"
     ]
    },
    {
     "data": {
      "text/plain": [
       "({'A': 0, 'B': 4, 'C': 3, 'D': 4, 'E': 8, 'F': 6},\n",
       " {'A': ['A'],\n",
       "  'B': ['A', 'C', 'B'],\n",
       "  'C': ['A', 'C'],\n",
       "  'D': ['A', 'C', 'D'],\n",
       "  'E': ['A', 'C', 'E'],\n",
       "  'F': ['A', 'C', 'B', 'F']})"
      ]
     },
     "execution_count": 11,
     "metadata": {},
     "output_type": "execute_result"
    }
   ],
   "source": [
    "my_graph = {\n",
    "    'A': [('B', 5), ('C', 3), ('E', 11)],\n",
    "    'B': [('A', 5), ('C', 1), ('F', 2)],\n",
    "    'C': [('A', 3), ('B', 1), ('D', 1), ('E', 5)],\n",
    "    'D': [('C',1 ), ('E', 9), ('F', 3)],\n",
    "    'E': [('A', 11), ('C', 5), ('D', 9)],\n",
    "    'F': [('B', 2), ('D', 3)]\n",
    "}\n",
    "\n",
    "def shortest_path(graph, start, target = ''):\n",
    "    unvisited = list(graph)\n",
    "    distances = {node: 0 if node == start else float('inf') for node in graph}\n",
    "    paths = {node: [] for node in graph}\n",
    "    paths[start].append(start)\n",
    "    \n",
    "    while unvisited:\n",
    "        current = min(unvisited, key=distances.get)\n",
    "        for node, distance in graph[current]:\n",
    "            if distance + distances[current] < distances[node]:\n",
    "                distances[node] = distance + distances[current]\n",
    "                if paths[node] and paths[node][-1] == node:\n",
    "                    paths[node] = paths[current][:]\n",
    "                else:\n",
    "                    paths[node].extend(paths[current])\n",
    "                paths[node].append(node)\n",
    "        unvisited.remove(current)\n",
    "    \n",
    "    targets_to_print = [target] if target else graph\n",
    "    for node in targets_to_print:\n",
    "        if node == start:\n",
    "            continue\n",
    "        print(f'\\n{start}-{node} distance: {distances[node]}\\nPath: {\" -> \".join(paths[node])}')\n",
    "    \n",
    "    return distances, paths\n",
    "    \n",
    "shortest_path(my_graph, 'A', 'F')"
   ]
  },
  {
   "cell_type": "markdown",
   "id": "0aa179bc",
   "metadata": {},
   "source": [
    "# Learn Recursion by Solving the Tower of Hanoi Puzzle\n",
    "Recursion is a programming approach that allows you to solve complicated computational problems with just a little code.\n",
    "\n",
    "In this project, you'll start with a loop-based approach to solving the tower of Hanoi mathematical puzzle. Then you'll learn how to implement a recursive solution."
   ]
  },
  {
   "cell_type": "markdown",
   "id": "05cde890",
   "metadata": {},
   "source": [
    "The puzzle starts with the disks piled up on the first rod, in decreasing size, with the smallest disk on top and the largest disk on the bottom. You need to populate your first list with numbers representing the various disk sizes.\n",
    "\n",
    "Instead of adding the items manually to the first list, generate a sequence of numbers counting down from 3 to 1 by using the range() function and assign it to `rods['A']`. Here, 3 represents the largest disk at the bottom of the pile and 1 represents the smallest disk at the top of the pile.\n",
    "\n",
    "The syntax is `range(x, y, h)`, where `x` is the starting integer (inclusive), `y` is the last integer (not inclusive), and `h` is the difference between a number and the next one in the sequence.\n"
   ]
  },
  {
   "cell_type": "code",
   "execution_count": 1,
   "id": "6dfa43a8",
   "metadata": {},
   "outputs": [
    {
     "name": "stdout",
     "output_type": "stream",
     "text": [
      "<class 'range'>\n"
     ]
    }
   ],
   "source": [
    "rods = {\n",
    "    'A': range(3, 0, -1),\n",
    "    'B': [],\n",
    "    'C': []\n",
    "}\n",
    "print(type(rods['A']))"
   ]
  },
  {
   "cell_type": "markdown",
   "id": "fa28d607",
   "metadata": {},
   "source": [
    "Since we want the values in `'A'` to be a list, we will have to convert it from `<class 'range'>`\n",
    "\n",
    "The goal of the Tower of Hanoi is moving all the disks to the last rod. To do that, you must follow three simple rules:\n",
    "\n",
    "1. You can move only top-most disks\n",
    "2. You can move only one disk at a time\n",
    "3. You cannot place larger disks on top of smaller ones\n",
    "\n",
    "\n",
    "The Tower of Hanoi puzzle can be solved in` 2n - 1` moves, where `n` is the number of disks. Declare a variable named `number_of_moves` and assign the total number of moves to this variable.\n",
    "\n",
    "The power operator in Python is `**`.\n"
   ]
  },
  {
   "cell_type": "code",
   "execution_count": 2,
   "id": "640d86ff",
   "metadata": {},
   "outputs": [
    {
     "name": "stdout",
     "output_type": "stream",
     "text": [
      "7\n"
     ]
    }
   ],
   "source": [
    "NUMBER_OF_DISKS = 3\n",
    "number_of_moves = 2**NUMBER_OF_DISKS - 1\n",
    "print(number_of_moves)"
   ]
  },
  {
   "cell_type": "markdown",
   "id": "e7004cf5",
   "metadata": {},
   "source": [
    "In the Tower of Hanoi puzzle, you can identify the three rods according to their purpose:\n",
    "\n",
    "1. The first rod is the source, where all the disks are stacked on top of each other at the beginning of the game.\n",
    "2. The second rod is an auxiliary rod, and it helps in moving the disks to the target rod.\n",
    "3. The third rod is the target, where all the disks should be placed in order at the end of the game.\n",
    "\n",
    "Currently, the `move()` function does not take any parameters. Change the function declaration to take 4 parameters: `n, source, auxiliary, and target`. Then, pass `NUMBER_OF_DISKS` and the strings `'A', 'B', and 'C'` as arguments to your function call. The order matters.\n"
   ]
  },
  {
   "cell_type": "code",
   "execution_count": 3,
   "id": "c431fd30",
   "metadata": {},
   "outputs": [
    {
     "name": "stdout",
     "output_type": "stream",
     "text": [
      "{'A': [3, 2, 1], 'B': [], 'C': []}\n"
     ]
    }
   ],
   "source": [
    "NUMBER_OF_DISKS = 3\n",
    "number_of_moves = 2**NUMBER_OF_DISKS - 1\n",
    "rods = {\n",
    "    'A': list(range(NUMBER_OF_DISKS, 0, -1)),\n",
    "    'B': [],\n",
    "    'C': []\n",
    "}\n",
    "\n",
    "def move(n, source, auxiliary, target):\n",
    "    # display starting configuration\n",
    "    print(rods)\n",
    "\n",
    "# initiate call from source A to target C with auxiliary B\n",
    "move(NUMBER_OF_DISKS, 'A', 'B', 'C')"
   ]
  },
  {
   "cell_type": "markdown",
   "id": "a52c8204",
   "metadata": {},
   "source": [
    "At the end of this project, you will create a recursive solution to the Tower of Hanoi puzzle, but now you are going to explore an iterative approach to this problem.\n",
    "\n",
    "Start by adding a for loop to your function that iterates through the number_of_moves and prints the current iteration number."
   ]
  },
  {
   "cell_type": "code",
   "execution_count": null,
   "id": "ed293198",
   "metadata": {},
   "outputs": [],
   "source": [
    "def move(n, source, auxiliary, target):\n",
    "    # display starting configuration\n",
    "    print(rods)\n",
    "    for i in range(number_of_moves):\n",
    "        print(i)\n"
   ]
  },
  {
   "cell_type": "markdown",
   "id": "9ff1294e",
   "metadata": {},
   "source": [
    "The allowed disk movements between the rods exhibit a repetitive pattern occurring every three moves. For example, movements between rod A and rod C are allowed on the first, the fourth and the seventh move, where the remainder of the division between the move number and 3 is equal to 1.\n",
    "\n",
    "Inside the previously created for loop, replace the existing `print()` call with an `if` statement that is triggered when `(i + 1) % 3 == 1`. Within this if statement, print `f'Move {i + 1} allowed between {source} and {target}'` using an f-string. Please, note that `i + 1` is the move number since i is zero during the first iteration.\n",
    "\n",
    "Since you are going to use the expression `(i + 1) % 3` multiple times, it is convenient to store it in a variable.\n",
    "\n",
    "Just above your if statement, declare a remainder variable and assign the value `(i + 1) % 3` to this variable.\n",
    "\n",
    "When the remainder of the move number divided by 3 is equal to 2, the movement is allowed between 'A' and 'B' (the source and the auxiliary rods).\n",
    "\n",
    "Finally, when the move number divided by 3 has no remainder, the movement is allowed between 'B' and 'C'."
   ]
  },
  {
   "cell_type": "code",
   "execution_count": 4,
   "id": "e68daad4",
   "metadata": {},
   "outputs": [
    {
     "name": "stdout",
     "output_type": "stream",
     "text": [
      "{'A': [3, 2, 1], 'B': [], 'C': []}\n",
      "Move 1 allowed between A and C\n",
      "Move 2 allowed between A and B\n",
      "Move 3 allowed between B and C\n",
      "Move 4 allowed between A and C\n",
      "Move 5 allowed between A and B\n",
      "Move 6 allowed between B and C\n",
      "Move 7 allowed between A and C\n"
     ]
    }
   ],
   "source": [
    "NUMBER_OF_DISKS = 3\n",
    "number_of_moves = 2**NUMBER_OF_DISKS - 1\n",
    "rods = {\n",
    "    'A': list(range(NUMBER_OF_DISKS, 0, -1)),\n",
    "    'B': [],\n",
    "    'C': []\n",
    "}\n",
    "\n",
    "def move(n, source, auxiliary, target):\n",
    "    # display starting configuration\n",
    "    print(rods)\n",
    "    for i in range(number_of_moves):\n",
    "        remainder = (i + 1) % 3\n",
    "        if remainder == 1:\n",
    "            print(f'Move {i + 1} allowed between {source} and {target}')\n",
    "        elif remainder == 2:\n",
    "            print(f'Move {i + 1} allowed between {source} and {auxiliary}')\n",
    "        elif remainder == 0:\n",
    "            print(f'Move {i + 1} allowed between {auxiliary} and {target}')\n",
    "\n",
    "# initiate call from source A to target C with auxiliary B\n",
    "move(NUMBER_OF_DISKS, 'A', 'B', 'C')"
   ]
  },
  {
   "cell_type": "markdown",
   "id": "3de78386",
   "metadata": {},
   "source": [
    "You wrote the code to find the allowed movement between the rods, but the actual move could be in both directions. Use the Forward variable to check in which direction you need to move the disk between the rods.\n",
    "\n",
    "When target is empty, the disk should be moved necessarily from source to target.\n",
    "\n",
    "The other case in which you have to move the disk necessarily from source to target is when the source list is not empty and the last disk in source is lower than the last disk in target.\n",
    "\n",
    "If moving forward, you need to remove the last element from the source rod and append it to target rod. Use the `.pop()` method and the `.append()` method for that. And vv."
   ]
  },
  {
   "cell_type": "code",
   "execution_count": null,
   "id": "f6915eb1",
   "metadata": {},
   "outputs": [
    {
     "name": "stdout",
     "output_type": "stream",
     "text": [
      "{'A': [3, 2, 1], 'B': [], 'C': []}\n",
      "Move 1 allowed between A and C\n",
      "Moving disk 1 from A to C\n",
      "Move 2 allowed between A and B\n",
      "Move 3 allowed between B and C\n",
      "Move 4 allowed between A and C\n",
      "Move 5 allowed between A and B\n",
      "Move 6 allowed between B and C\n",
      "Move 7 allowed between A and C\n"
     ]
    }
   ],
   "source": [
    "NUMBER_OF_DISKS = 3\n",
    "number_of_moves = 2**NUMBER_OF_DISKS - 1\n",
    "rods = {\n",
    "    'A': list(range(NUMBER_OF_DISKS, 0, -1)),\n",
    "    'B': [],\n",
    "    'C': []\n",
    "}\n",
    "\n",
    "def move(n, source, auxiliary, target):\n",
    "    # display starting configuration\n",
    "    print(rods)\n",
    "    for i in range(number_of_moves):\n",
    "        remainder = (i + 1) % 3\n",
    "        if remainder == 1:\n",
    "            print(f'Move {i + 1} allowed between {source} and {target}')\n",
    "            forward = False\n",
    "            if not rods[target]:\n",
    "                forward = True\n",
    "            elif rods[source] and rods[source][-1] < rods[target][-1]:\n",
    "                forward = True\n",
    "            if forward:\n",
    "                print(f'Moving disk {rods[source][-1]} from {source} to {target}')\n",
    "                rods[target].append(rods[source].pop())\n",
    "            else:\n",
    "                print(f'Moving disk {rods[target][-1]} from {target} to {source}')\n",
    "                rods[source].append(rods[target].pop())\n",
    "        elif remainder == 2:\n",
    "            print(f'Move {i + 1} allowed between {source} and {auxiliary}')\n",
    "        elif remainder == 0:\n",
    "            print(f'Move {i + 1} allowed between {auxiliary} and {target}')\n",
    "        # display our progress\n",
    "        print(rods)\n",
    "\n",
    "# initiate call from source A to target C with auxiliary B\n",
    "move(NUMBER_OF_DISKS, 'A', 'B', 'C')"
   ]
  },
  {
   "cell_type": "markdown",
   "id": "2e147a04",
   "metadata": {},
   "source": [
    "Separate out a function that will move the disk and print the results"
   ]
  },
  {
   "cell_type": "code",
   "execution_count": 7,
   "id": "aa32de58",
   "metadata": {},
   "outputs": [
    {
     "name": "stdout",
     "output_type": "stream",
     "text": [
      "{'A': [3, 2, 1], 'B': [], 'C': []}\n",
      "Move 1 allowed between A and C\n",
      "Moving disk 1 from A to C\n",
      "{'A': [3, 2], 'B': [], 'C': [1]}\n",
      "Move 2 allowed between A and B\n",
      "Moving disk 2 from A to B\n",
      "{'A': [3], 'B': [2], 'C': [1]}\n",
      "Move 3 allowed between B and C\n",
      "Moving disk 1 from C to B\n",
      "{'A': [3], 'B': [2, 1], 'C': []}\n",
      "Move 4 allowed between A and C\n",
      "Moving disk 3 from A to C\n",
      "{'A': [], 'B': [2, 1], 'C': [3]}\n",
      "Move 5 allowed between A and B\n",
      "Moving disk 1 from B to A\n",
      "{'A': [1], 'B': [2], 'C': [3]}\n",
      "Move 6 allowed between B and C\n",
      "Moving disk 2 from B to C\n",
      "{'A': [1], 'B': [], 'C': [3, 2]}\n",
      "Move 7 allowed between A and C\n",
      "Moving disk 1 from A to C\n",
      "{'A': [], 'B': [], 'C': [3, 2, 1]}\n"
     ]
    }
   ],
   "source": [
    "NUMBER_OF_DISKS = 3\n",
    "number_of_moves = 2**NUMBER_OF_DISKS - 1\n",
    "rods = {\n",
    "    'A': list(range(NUMBER_OF_DISKS, 0, -1)),\n",
    "    'B': [],\n",
    "    'C': []\n",
    "}\n",
    "\n",
    "def make_allowed_move(rod1, rod2):    \n",
    "    forward = False\n",
    "    if not rods[rod2]:\n",
    "        forward = True\n",
    "    elif rods[rod1] and rods[rod1][-1] < rods[rod2][-1]:\n",
    "        forward = True              \n",
    "    if forward:\n",
    "        print(f'Moving disk {rods[rod1][-1]} from {rod1} to {rod2}')\n",
    "        rods[rod2].append(rods[rod1].pop())\n",
    "    else:\n",
    "        print(f'Moving disk {rods[rod2][-1]} from {rod2} to {rod1}')\n",
    "        rods[rod1].append(rods[rod2].pop())\n",
    "    \n",
    "    # display our progress\n",
    "    print(rods)\n",
    "\n",
    "def move(n, source, auxiliary, target):\n",
    "    # display starting configuration\n",
    "    print(rods)\n",
    "    for i in range(number_of_moves):\n",
    "        remainder = (i + 1) % 3\n",
    "        if remainder == 1:\n",
    "            print(f'Move {i + 1} allowed between {source} and {target}')\n",
    "            make_allowed_move(source, target)\n",
    "        elif remainder == 2:\n",
    "            print(f'Move {i + 1} allowed between {source} and {auxiliary}')\n",
    "            make_allowed_move(source, auxiliary)\n",
    "\n",
    "            \n",
    "        elif remainder == 0:\n",
    "            print(f'Move {i + 1} allowed between {auxiliary} and {target}')\n",
    "            make_allowed_move(auxiliary, target)\n",
    "\n",
    "            \n",
    "\n",
    "# initiate call from source A to target C with auxiliary B\n",
    "move(NUMBER_OF_DISKS, 'A', 'B', 'C')"
   ]
  },
  {
   "cell_type": "markdown",
   "id": "0e380a8a",
   "metadata": {},
   "source": [
    "It must be noted that the current conditionals only work if there is an odd number of disks. Add a nested if to execute when n is odd, and add one indent level to your `print()` and `make_allowed_move()` calls."
   ]
  },
  {
   "cell_type": "code",
   "execution_count": 8,
   "id": "e203bfc5",
   "metadata": {},
   "outputs": [
    {
     "name": "stdout",
     "output_type": "stream",
     "text": [
      "{'A': [4, 3, 2, 1], 'B': [], 'C': []} \n",
      "\n",
      "Move 1 allowed between A and B\n",
      "Moving disk 1 from A to B\n",
      "{'A': [4, 3, 2], 'B': [1], 'C': []} \n",
      "\n",
      "Move 2 allowed between A and C\n",
      "Moving disk 2 from A to C\n",
      "{'A': [4, 3], 'B': [1], 'C': [2]} \n",
      "\n",
      "Move 3 allowed between B and C\n",
      "Moving disk 1 from B to C\n",
      "{'A': [4, 3], 'B': [], 'C': [2, 1]} \n",
      "\n",
      "Move 4 allowed between A and B\n",
      "Moving disk 3 from A to B\n",
      "{'A': [4], 'B': [3], 'C': [2, 1]} \n",
      "\n",
      "Move 5 allowed between A and C\n",
      "Moving disk 1 from C to A\n",
      "{'A': [4, 1], 'B': [3], 'C': [2]} \n",
      "\n",
      "Move 6 allowed between B and C\n",
      "Moving disk 2 from C to B\n",
      "{'A': [4, 1], 'B': [3, 2], 'C': []} \n",
      "\n",
      "Move 7 allowed between A and B\n",
      "Moving disk 1 from A to B\n",
      "{'A': [4], 'B': [3, 2, 1], 'C': []} \n",
      "\n",
      "Move 8 allowed between A and C\n",
      "Moving disk 4 from A to C\n",
      "{'A': [], 'B': [3, 2, 1], 'C': [4]} \n",
      "\n",
      "Move 9 allowed between B and C\n",
      "Moving disk 1 from B to C\n",
      "{'A': [], 'B': [3, 2], 'C': [4, 1]} \n",
      "\n",
      "Move 10 allowed between A and B\n",
      "Moving disk 2 from B to A\n",
      "{'A': [2], 'B': [3], 'C': [4, 1]} \n",
      "\n",
      "Move 11 allowed between A and C\n",
      "Moving disk 1 from C to A\n",
      "{'A': [2, 1], 'B': [3], 'C': [4]} \n",
      "\n",
      "Move 12 allowed between B and C\n",
      "Moving disk 3 from B to C\n",
      "{'A': [2, 1], 'B': [], 'C': [4, 3]} \n",
      "\n",
      "Move 13 allowed between A and B\n",
      "Moving disk 1 from A to B\n",
      "{'A': [2], 'B': [1], 'C': [4, 3]} \n",
      "\n",
      "Move 14 allowed between A and C\n",
      "Moving disk 2 from A to C\n",
      "{'A': [], 'B': [1], 'C': [4, 3, 2]} \n",
      "\n",
      "Move 15 allowed between B and C\n",
      "Moving disk 1 from B to C\n",
      "{'A': [], 'B': [], 'C': [4, 3, 2, 1]} \n",
      "\n"
     ]
    }
   ],
   "source": [
    "NUMBER_OF_DISKS = 4\n",
    "number_of_moves = 2 ** NUMBER_OF_DISKS - 1\n",
    "rods = {\n",
    "    'A': list(range(NUMBER_OF_DISKS, 0, -1)),\n",
    "    'B': [],\n",
    "    'C': []\n",
    "}\n",
    "\n",
    "def make_allowed_move(rod1, rod2):    \n",
    "    forward = False\n",
    "    if not rods[rod2]:\n",
    "        forward = True\n",
    "    elif rods[rod1] and rods[rod1][-1] < rods[rod2][-1]:\n",
    "        forward = True              \n",
    "    if forward:\n",
    "        print(f'Moving disk {rods[rod1][-1]} from {rod1} to {rod2}')\n",
    "        rods[rod2].append(rods[rod1].pop())\n",
    "    else:\n",
    "        print(f'Moving disk {rods[rod2][-1]} from {rod2} to {rod1}')\n",
    "        rods[rod1].append(rods[rod2].pop())\n",
    "    \n",
    "    # display our progress\n",
    "    print(rods, '\\n')\n",
    "\n",
    "def move(n, source, auxiliary, target):\n",
    "    # display starting configuration\n",
    "    print(rods, '\\n')\n",
    "    for i in range(number_of_moves):\n",
    "        remainder = (i + 1) % 3\n",
    "        if remainder == 1:\n",
    "            if n % 2 != 0:\n",
    "                print(f'Move {i + 1} allowed between {source} and {target}')\n",
    "                make_allowed_move(source, target)\n",
    "            else:\n",
    "                print(f'Move {i + 1} allowed between {source} and {auxiliary}')\n",
    "                make_allowed_move(source, auxiliary)\n",
    "        elif remainder == 2:\n",
    "            if n % 2 != 0:\n",
    "                print(f'Move {i + 1} allowed between {source} and {auxiliary}')\n",
    "                make_allowed_move(source, auxiliary)\n",
    "            else:\n",
    "                print(f'Move {i + 1} allowed between {source} and {target}')\n",
    "                make_allowed_move(source, target)\n",
    "        elif remainder == 0:\n",
    "            print(f'Move {i + 1} allowed between {auxiliary} and {target}')\n",
    "            make_allowed_move(auxiliary, target)           \n",
    "\n",
    "# initiate call from source A to target C with auxiliary B\n",
    "move(NUMBER_OF_DISKS, 'A', 'B', 'C')"
   ]
  },
  {
   "cell_type": "markdown",
   "id": "4ae92497",
   "metadata": {},
   "source": [
    "This completes the iterative solution. From now on you are going to build a function that makes use of a recursive approach. Recursion is when a function calls itself. In this case, you are going to use recursion to calculate smaller versions of the same problem.\n",
    "\n",
    "\n",
    "\n",
    "To solve the puzzle with recursion, the first thing to do is break the original problem down into smaller sub-problems.\n",
    "\n",
    "The final configuration with n disks piled up to the third rod in decreasing order can be obtained by moving:\n",
    "\n",
    "* n - 1 disks from the source to the auxiliary rod\n",
    "* the largest disk from the source to the target\n",
    "* and then the n - 1 disks from the auxiliary rod to the target.\n",
    "\n",
    "So, the first thing the move function should do is calling itself with n - 1 as the first argument. But if you try to do so without defining a base case, you will get a RecursionError. This happens because the function keeps calling itself indefinitely.\n",
    "\n",
    "Before your comment and your print() call, add the recursive function call with n - 1 as the first argument and make sure the function body executes only when n is greater than zero. For now, leave the other arguments in the same order.\n"
   ]
  },
  {
   "cell_type": "code",
   "execution_count": null,
   "id": "2e71004a",
   "metadata": {},
   "outputs": [],
   "source": [
    "NUMBER_OF_DISKS = 4\n",
    "rods = {\n",
    "    'A': list(range(NUMBER_OF_DISKS, 0, -1)),\n",
    "    'B': [],\n",
    "    'C': []\n",
    "}\n",
    "\n",
    "def move(n, source, auxiliary, target):\n",
    "    if n > 0:\n",
    "        # move n - 1 disks from source to auxiliary, so they are out of the way\n",
    "        move(n - 1, source, auxiliary, target)\n",
    "        \n",
    "        # display starting configuration\n",
    "        print(rods, '\\n')\n",
    "              \n",
    "# initiate call from source A to target C with auxiliary B\n",
    "move(NUMBER_OF_DISKS, 'A', 'B', 'C')"
   ]
  },
  {
   "cell_type": "markdown",
   "id": "be2cf8f7",
   "metadata": {},
   "source": [
    "The steps of moving n - 1 disks can be broken down further until only a single disk is considered. This will be the first move occurring. After the first move occurs, the following moves are generated by the unwinding of the recursive calls. Keep in mind that in each recursive step the role played by the rods changes between source, target, and auxiliary.\n",
    "\n",
    "For now, each recursive call prints the rods dictionary without performing any changes to the lists. Before the print() call, remove the last element from the rods[source] list and append it to the rods[target] list."
   ]
  },
  {
   "cell_type": "markdown",
   "id": "ba52ce90",
   "metadata": {},
   "source": [
    "At first, the recursive call you have just added deals with the sub-problem of moving n - 1 disks to the second rod.\n",
    "\n",
    "For that reason, the target argument corresponds to your second rod, while the auxiliary argument is the third rod. Keep in mind that those will keep swapping as the recursion proceeds.\n",
    "\n",
    "Fix the arguments order exchanging target and auxiliary in your recursive call."
   ]
  },
  {
   "cell_type": "markdown",
   "id": "48990adb",
   "metadata": {},
   "source": [
    "In a previous step, you wrote the code to move the largest disk of the sub-problem to the target rod.\n",
    "\n",
    "Now, all you need to do is add another recursive call to move the n - 1 disks you have already displaced. Copy the first recursive call and paste it at the end of the if block.\n",
    "\n",
    "Note that the function arguments are not in the right order.\n"
   ]
  },
  {
   "cell_type": "code",
   "execution_count": 9,
   "id": "e959c3d3",
   "metadata": {},
   "outputs": [
    {
     "name": "stdout",
     "output_type": "stream",
     "text": [
      "[4, 3, 2] [1] [] \n",
      "\n",
      "[4, 3] [1] [2] \n",
      "\n",
      "[4, 3] [] [2, 1] \n",
      "\n",
      "[4] [3] [2, 1] \n",
      "\n",
      "[4, 1] [3] [2] \n",
      "\n",
      "[4, 1] [3, 2] [] \n",
      "\n",
      "[4] [3, 2, 1] [] \n",
      "\n",
      "[] [3, 2, 1] [4] \n",
      "\n",
      "[] [3, 2] [4, 1] \n",
      "\n",
      "[2] [3] [4, 1] \n",
      "\n",
      "[2, 1] [3] [4] \n",
      "\n",
      "[2, 1] [] [4, 3] \n",
      "\n",
      "[2] [1] [4, 3] \n",
      "\n",
      "[] [1] [4, 3, 2] \n",
      "\n",
      "[] [] [4, 3, 2, 1] \n",
      "\n"
     ]
    }
   ],
   "source": [
    "NUMBER_OF_DISKS = 4\n",
    "A = list(range(NUMBER_OF_DISKS, 0, -1))\n",
    "B = []\n",
    "C = []\n",
    "\n",
    "def move(n, source, auxiliary, target):\n",
    "    if n > 0:\n",
    "        # move n - 1 disks from source to auxiliary, so they are out of the way\n",
    "        move(n - 1, source, target, auxiliary)\n",
    "        \n",
    "        # move the nth disk from source to target\n",
    "        target.append(source.pop())\n",
    "        \n",
    "        # display our progress\n",
    "        print(A, B, C, '\\n')\n",
    "        \n",
    "        # move the n - 1 disks that we left on auxiliary onto target\n",
    "        move(n - 1,  auxiliary, source, target)\n",
    "              \n",
    "# initiate call from source A to target C with auxiliary B\n",
    "move(NUMBER_OF_DISKS, A, B, C)"
   ]
  },
  {
   "cell_type": "markdown",
   "id": "3a9371fe",
   "metadata": {},
   "source": [
    "Although recursion can sometimes be less easy to understand, it gives you the power to create more concise code. In this case, you don't even need to differentiate between even and odd numbers of disks.\n",
    "\n",
    "Set NUMBER_OF_DISKS to 5 and check the output.\n"
   ]
  },
  {
   "cell_type": "code",
   "execution_count": 10,
   "id": "9b38bc8f",
   "metadata": {},
   "outputs": [
    {
     "name": "stdout",
     "output_type": "stream",
     "text": [
      "[5, 4, 3, 2] [] [1] \n",
      "\n",
      "[5, 4, 3] [2] [1] \n",
      "\n",
      "[5, 4, 3] [2, 1] [] \n",
      "\n",
      "[5, 4] [2, 1] [3] \n",
      "\n",
      "[5, 4, 1] [2] [3] \n",
      "\n",
      "[5, 4, 1] [] [3, 2] \n",
      "\n",
      "[5, 4] [] [3, 2, 1] \n",
      "\n",
      "[5] [4] [3, 2, 1] \n",
      "\n",
      "[5] [4, 1] [3, 2] \n",
      "\n",
      "[5, 2] [4, 1] [3] \n",
      "\n",
      "[5, 2, 1] [4] [3] \n",
      "\n",
      "[5, 2, 1] [4, 3] [] \n",
      "\n",
      "[5, 2] [4, 3] [1] \n",
      "\n",
      "[5] [4, 3, 2] [1] \n",
      "\n",
      "[5] [4, 3, 2, 1] [] \n",
      "\n",
      "[] [4, 3, 2, 1] [5] \n",
      "\n",
      "[1] [4, 3, 2] [5] \n",
      "\n",
      "[1] [4, 3] [5, 2] \n",
      "\n",
      "[] [4, 3] [5, 2, 1] \n",
      "\n",
      "[3] [4] [5, 2, 1] \n",
      "\n",
      "[3] [4, 1] [5, 2] \n",
      "\n",
      "[3, 2] [4, 1] [5] \n",
      "\n",
      "[3, 2, 1] [4] [5] \n",
      "\n",
      "[3, 2, 1] [] [5, 4] \n",
      "\n",
      "[3, 2] [] [5, 4, 1] \n",
      "\n",
      "[3] [2] [5, 4, 1] \n",
      "\n",
      "[3] [2, 1] [5, 4] \n",
      "\n",
      "[] [2, 1] [5, 4, 3] \n",
      "\n",
      "[1] [2] [5, 4, 3] \n",
      "\n",
      "[1] [] [5, 4, 3, 2] \n",
      "\n",
      "[] [] [5, 4, 3, 2, 1] \n",
      "\n"
     ]
    }
   ],
   "source": [
    "NUMBER_OF_DISKS = 5\n",
    "A = list(range(NUMBER_OF_DISKS, 0, -1))\n",
    "B = []\n",
    "C = []\n",
    "\n",
    "def move(n, source, auxiliary, target):\n",
    "    if n > 0:\n",
    "        # move n - 1 disks from source to auxiliary, so they are out of the way\n",
    "        move(n - 1, source, target, auxiliary)\n",
    "        \n",
    "        # move the nth disk from source to target\n",
    "        target.append(source.pop())\n",
    "        \n",
    "        # display our progress\n",
    "        print(A, B, C, '\\n')\n",
    "        \n",
    "        # move the n - 1 disks that we left on auxiliary onto target\n",
    "        move(n - 1,  auxiliary, source, target)\n",
    "              \n",
    "# initiate call from source A to target C with auxiliary B\n",
    "move(NUMBER_OF_DISKS, A, B, C)"
   ]
  },
  {
   "cell_type": "markdown",
   "id": "3a7463c8",
   "metadata": {},
   "source": [
    "There's still one thing you can do to improve the readability of your code.\n",
    "\n",
    "Modify your if to execute when n is less than or equal to zero and add a return statement to stop the function execution.\n",
    "\n",
    "As a final step, reduce the indentation level of all the code after the return statement.\n",
    "\n",
    "Well done. You have completed the Tower of Hanoi practice project.\n"
   ]
  },
  {
   "cell_type": "code",
   "execution_count": 11,
   "id": "36ccc944",
   "metadata": {},
   "outputs": [
    {
     "name": "stdout",
     "output_type": "stream",
     "text": [
      "[5, 4, 3, 2] [] [1] \n",
      "\n",
      "[5, 4, 3] [2] [1] \n",
      "\n",
      "[5, 4, 3] [2, 1] [] \n",
      "\n",
      "[5, 4] [2, 1] [3] \n",
      "\n",
      "[5, 4, 1] [2] [3] \n",
      "\n",
      "[5, 4, 1] [] [3, 2] \n",
      "\n",
      "[5, 4] [] [3, 2, 1] \n",
      "\n",
      "[5] [4] [3, 2, 1] \n",
      "\n",
      "[5] [4, 1] [3, 2] \n",
      "\n",
      "[5, 2] [4, 1] [3] \n",
      "\n",
      "[5, 2, 1] [4] [3] \n",
      "\n",
      "[5, 2, 1] [4, 3] [] \n",
      "\n",
      "[5, 2] [4, 3] [1] \n",
      "\n",
      "[5] [4, 3, 2] [1] \n",
      "\n",
      "[5] [4, 3, 2, 1] [] \n",
      "\n",
      "[] [4, 3, 2, 1] [5] \n",
      "\n",
      "[1] [4, 3, 2] [5] \n",
      "\n",
      "[1] [4, 3] [5, 2] \n",
      "\n",
      "[] [4, 3] [5, 2, 1] \n",
      "\n",
      "[3] [4] [5, 2, 1] \n",
      "\n",
      "[3] [4, 1] [5, 2] \n",
      "\n",
      "[3, 2] [4, 1] [5] \n",
      "\n",
      "[3, 2, 1] [4] [5] \n",
      "\n",
      "[3, 2, 1] [] [5, 4] \n",
      "\n",
      "[3, 2] [] [5, 4, 1] \n",
      "\n",
      "[3] [2] [5, 4, 1] \n",
      "\n",
      "[3] [2, 1] [5, 4] \n",
      "\n",
      "[] [2, 1] [5, 4, 3] \n",
      "\n",
      "[1] [2] [5, 4, 3] \n",
      "\n",
      "[1] [] [5, 4, 3, 2] \n",
      "\n",
      "[] [] [5, 4, 3, 2, 1] \n",
      "\n"
     ]
    }
   ],
   "source": [
    "NUMBER_OF_DISKS = 5\n",
    "A = list(range(NUMBER_OF_DISKS, 0, -1))\n",
    "B = []\n",
    "C = []\n",
    "\n",
    "def move(n, source, auxiliary, target):\n",
    "    if n <= 0:\n",
    "        return\n",
    "    # move n - 1 disks from source to auxiliary, so they are out of the way\n",
    "    move(n - 1, source, target, auxiliary)\n",
    "    \n",
    "    # move the nth disk from source to target\n",
    "    target.append(source.pop())\n",
    "    \n",
    "    # display our progress\n",
    "    print(A, B, C, '\\n')\n",
    "    \n",
    "    # move the n - 1 disks that we left on auxiliary onto target\n",
    "    move(n - 1,  auxiliary, source, target)\n",
    "              \n",
    "# initiate call from source A to target C with auxiliary B\n",
    "move(NUMBER_OF_DISKS, A, B, C)"
   ]
  },
  {
   "cell_type": "markdown",
   "id": "5d85f73b",
   "metadata": {},
   "source": [
    "# Learn Data Structures by Building the Merge Sort Algorithm\n",
    "\n",
    "The Merge Sort Algorithm is a sorting algorithm based on the divide and conquer principle.\n",
    "\n",
    "In this project, you'll learn how to interact with data structures by sorting a list of random numbers using the Merge Sort Algorithm."
   ]
  },
  {
   "cell_type": "markdown",
   "id": "15f0d68c",
   "metadata": {},
   "source": [
    "In this project, you'll learn data structures by building the merge sort algorithm.\n",
    "\n",
    "This is a sorting algorithm that uses the divide-and-conquer principle to sort collections of data. That is, it 'divides' a collection into smaller sub-parts, and 'conquers' the sub-parts by sorting them independently, then merges the sorted sub-parts.\n",
    "\n",
    "The merge sort algorithm mainly performs three actions:\n",
    "\n",
    "* Divide an unsorted sequence of items into sub-parts\n",
    "* Sort the items in the sub-parts\n",
    "* Merge the sorted sub-parts\n",
    "\n",
    "The above happens recursively until the sub-parts are merged into the complete sorted sequence. Let's start by dividing the sequence. (*Reminder that arrays in Python are accessed with square brackets*)"
   ]
  },
  {
   "cell_type": "code",
   "execution_count": null,
   "id": "548921b8",
   "metadata": {},
   "outputs": [],
   "source": [
    "def merge_sort(array):\n",
    "    middle_point = len(array) // 2\n",
    "    left_part = array[:middle_point]\n",
    "    right_part = array[middle_point:]\n"
   ]
  },
  {
   "cell_type": "markdown",
   "id": "0193203c",
   "metadata": {},
   "source": [
    "Now that you've divided the array list into two separate lists, you'll keep dividing each list until every element stands alone in its own list. A list with a single number is always sorted.\n",
    "\n",
    "To do that, recursively call merge_sort inside your function. To do this, just call the function within the function"
   ]
  },
  {
   "cell_type": "code",
   "execution_count": null,
   "id": "761b6c5d",
   "metadata": {},
   "outputs": [],
   "source": [
    "def merge_sort(array):\n",
    "    \n",
    "    middle_point = len(array) // 2\n",
    "    left_part = array[:middle_point]\n",
    "    right_part = array[middle_point:]\n",
    "    merge_sort(left_part)\n",
    "    merge_sort(right_part)"
   ]
  },
  {
   "cell_type": "markdown",
   "id": "fb2a0b71",
   "metadata": {},
   "source": [
    "Now it's time to sort and merge the lists (left_part and right_part) into the original array.\n",
    "\n",
    "You can do this by comparing elements on both lists, and merging the smaller element to the main list. You are going to do this comparison for all the indexes in left_part and right_part."
   ]
  },
  {
   "cell_type": "code",
   "execution_count": null,
   "id": "cdb5d0aa",
   "metadata": {},
   "outputs": [],
   "source": [
    "def merge_sort(array):\n",
    "    \n",
    "    middle_point = len(array) // 2\n",
    "    left_part = array[:middle_point]\n",
    "    right_part = array[middle_point:]\n",
    "\n",
    "    merge_sort(left_part)\n",
    "    merge_sort(right_part)\n",
    "\n",
    "    left_array_index = 0\n",
    "    right_array_index = 0\n",
    "    sorted_index = 0\n",
    "\n",
    "    while left_array_index < len(left_part) and right_array_index < len(right_part):\n",
    "        if left_part[left_array_index] < right_part[right_array_index]:\n",
    "            array[sorted_index] = left_part[left_array_index]\n",
    "            left_array_index += 1\n",
    "        else:\n",
    "            array[sorted_index] = right_part[right_array_index]\n",
    "            right_array_index += 1\n",
    "        sorted_index += 1\n"
   ]
  },
  {
   "cell_type": "markdown",
   "id": "04296204",
   "metadata": {},
   "source": [
    "The while loop you created compares one element from left_part with another in right_part, then adds the smaller element to the main array list.\n",
    "\n",
    "It will continue this operation until there are no elements left to be compared. But left_part may still have elements left while right_part has none, and vice versa.\n",
    "\n",
    "Create another while loop to copy the remaining elements in left_part into the array list."
   ]
  },
  {
   "cell_type": "code",
   "execution_count": null,
   "id": "a4a87883",
   "metadata": {},
   "outputs": [],
   "source": [
    "def merge_sort(array):\n",
    "    \n",
    "    middle_point = len(array) // 2\n",
    "    left_part = array[:middle_point]\n",
    "    right_part = array[middle_point:]\n",
    "\n",
    "    merge_sort(left_part)\n",
    "    merge_sort(right_part)\n",
    "\n",
    "    left_array_index = 0\n",
    "    right_array_index = 0\n",
    "    sorted_index = 0\n",
    "\n",
    "    while left_array_index < len(left_part) and right_array_index < len(right_part):\n",
    "        if left_part[left_array_index] < right_part[right_array_index]:\n",
    "            array[sorted_index] = left_part[left_array_index]\n",
    "            left_array_index += 1\n",
    "        else:\n",
    "            array[sorted_index] = right_part[right_array_index]\n",
    "            right_array_index += 1\n",
    "        sorted_index += 1\n",
    "\n",
    "    while left_array_index < len(left_part):\n",
    "        array[sorted_index] = left_part[left_array_index]\n",
    "        left_array_index += 1\n",
    "        sorted_index += 1\n",
    "   \n",
    "    while right_array_index < len(right_part):\n",
    "        array[sorted_index] = right_part[right_array_index]\n",
    "        right_array_index += 1\n",
    "        sorted_index += 1"
   ]
  },
  {
   "cell_type": "markdown",
   "id": "5779d819",
   "metadata": {},
   "source": [
    "Before testing the merge_sort() function, you need to create a base case that stops the function execution when the length of array is less than or equal to 1.\n",
    "\n",
    "This base case will stop the recursion call. Without it, the merge sort operation would continue to run even when the list has been sorted or has no element in it.\n",
    "\n",
    "Right after the function declaration, create an if statement with this condition: len(array) <= 1. Use the pass keyword in the function's body."
   ]
  },
  {
   "cell_type": "code",
   "execution_count": null,
   "id": "08beb453",
   "metadata": {},
   "outputs": [],
   "source": [
    "def merge_sort(array):\n",
    "    if len(array) <= 1:\n",
    "        return\n",
    "   \n",
    "    middle_point = len(array) // 2\n",
    "    left_part = array[:middle_point]\n",
    "    right_part = array[middle_point:]\n",
    "\n",
    "    merge_sort(left_part)\n",
    "    merge_sort(right_part)\n",
    "\n",
    "    left_array_index = 0\n",
    "    right_array_index = 0\n",
    "    sorted_index = 0\n",
    "\n",
    "    while left_array_index < len(left_part) and right_array_index < len(right_part):\n",
    "        if left_part[left_array_index] < right_part[right_array_index]:\n",
    "            array[sorted_index] = left_part[left_array_index]\n",
    "            left_array_index += 1\n",
    "        else:\n",
    "            array[sorted_index] = right_part[right_array_index]\n",
    "            right_array_index += 1\n",
    "        sorted_index += 1\n",
    "\n",
    "    while left_array_index < len(left_part):\n",
    "        array[sorted_index] = left_part[left_array_index]\n",
    "        left_array_index += 1\n",
    "        sorted_index += 1\n",
    "   \n",
    "    while right_array_index < len(right_part):\n",
    "        array[sorted_index] = right_part[right_array_index]\n",
    "        right_array_index += 1\n",
    "        sorted_index += 1\n"
   ]
  },
  {
   "cell_type": "markdown",
   "id": "34b59ace",
   "metadata": {},
   "source": [
    "You can use the `__name__` variable to determine if a Python script is being run as the main program or if it is being imported as a module (code written in another Python file).\n",
    "\n",
    "If the value of `__name__` is set to `'__main__'`, it implies that the current script is the main program, and not a module.\n",
    "\n",
    "In this project, you'll use the current script as the main program."
   ]
  },
  {
   "cell_type": "code",
   "execution_count": null,
   "id": "5795db10",
   "metadata": {},
   "outputs": [
    {
     "name": "stdout",
     "output_type": "stream",
     "text": [
      "Unsorted array:  [4, 10, 6, 14, 2, 1, 8, 5]\n",
      "[4]\n",
      "[4, 10]\n",
      "[6]\n",
      "[4, 6, 10, 14]\n",
      "[2]\n",
      "[1, 2]\n",
      "[8]\n",
      "Sorted array:  [1, 2, 4, 5, 6, 8, 10, 14]\n"
     ]
    }
   ],
   "source": [
    "def merge_sort(array):\n",
    "    if len(array) <= 1:\n",
    "        return\n",
    "    \n",
    "    middle_point = len(array) // 2\n",
    "    left_part = array[:middle_point]\n",
    "    right_part = array[middle_point:]\n",
    "\n",
    "    merge_sort(left_part)\n",
    "    merge_sort(right_part)\n",
    "\n",
    "    left_array_index = 0\n",
    "    right_array_index = 0\n",
    "    sorted_index = 0\n",
    "\n",
    "    while left_array_index < len(left_part) and right_array_index < len(right_part):\n",
    "        if left_part[left_array_index] < right_part[right_array_index]:\n",
    "            array[sorted_index] = left_part[left_array_index]\n",
    "            left_array_index += 1\n",
    "        else:\n",
    "            array[sorted_index] = right_part[right_array_index]\n",
    "            right_array_index += 1\n",
    "        sorted_index += 1\n",
    "\n",
    "    while left_array_index < len(left_part):\n",
    "        array[sorted_index] = left_part[left_array_index]\n",
    "        left_array_index += 1\n",
    "        sorted_index += 1\n",
    "    \n",
    "    while right_array_index < len(right_part):\n",
    "        array[sorted_index] = right_part[right_array_index]\n",
    "        right_array_index += 1\n",
    "        sorted_index += 1\n",
    "\n",
    "\n",
    "if __name__ == '__main__':\n",
    "    numbers = [4, 10, 6, 14, 2, 1, 8, 5]\n",
    "    print('Unsorted array: ', numbers)\n",
    "    merge_sort(numbers)\n",
    "    print('Sorted array: ', numbers)"
   ]
  },
  {
   "cell_type": "markdown",
   "id": "c904df1b",
   "metadata": {},
   "source": [
    "# Certification Project: Build a Time Calculator\n",
    "\n",
    "Write a function named `add_time` that takes in two required parameters and one optional parameter:\n",
    "\n",
    "* a start time in the 12-hour clock format (ending in AM or PM)\n",
    "* a duration time that indicates the number of hours and minutes\n",
    "* (optional) a starting day of the week, case insensitive\n",
    "\n",
    "The function should add the duration time to the start time and return the result.\n",
    "\n",
    "If the result will be the next day, it should show `(next day)` after the time. If the result will be more than one day later, it should show `(n days later)` after the time, where \"n\" is the number of days later.\n",
    "\n",
    "If the function is given the optional starting day of the week parameter, then the output should display the day of the week of the result. The day of the week in the output should appear after the time and before the number of days later.\n",
    "\n",
    "Below are some examples of different cases the function should handle. Pay close attention to the spacing and punctuation of the results.\n",
    "\n",
    "Example Code:\n",
    "```\n",
    "add_time('3:00 PM', '3:10')\n",
    "# Returns: 6:10 PM\n",
    "\n",
    "add_time('11:30 AM', '2:32', 'Monday')\n",
    "# Returns: 2:02 PM, Monday\n",
    "\n",
    "add_time('11:43 AM', '00:20')\n",
    "# Returns: 12:03 PM\n",
    "\n",
    "add_time('10:10 PM', '3:30')\n",
    "# Returns: 1:40 AM (next day)\n",
    "\n",
    "add_time('11:43 PM', '24:20', 'tueSday')\n",
    "# Returns: 12:03 AM, Thursday (2 days later)\n",
    "\n",
    "add_time('6:30 PM', '205:12')\n",
    "# Returns: 7:42 AM (9 days later)\n",
    "```\n",
    "\n",
    "## Rules:\n",
    "* Do not import any Python libraries.\n",
    "* Assume that the start times are valid times.\n",
    "* The minutes in the duration time will be a whole number less than 60, but the hour can be any whole number.\n",
    "\n",
    "## Tests:\n",
    "1. Calling `add_time('3:30 PM', '2:12')` should return `'5:42 PM'`.\n",
    "2. Calling `add_time('11:55 AM', '3:12')` should return `'3:07 PM'`.\n",
    "3. Expected time to end with `'(next day)'` when it is the next day.\n",
    "4. Expected period to change from `AM` to `PM` at `12:00`.\n",
    "5. Calling `add_time('2:59 AM', '24:00')` should return `'2:59 AM (next day)'`.\n",
    "6. Calling `add_time('11:59 PM', '24:05')` should return `'12:04 AM (2 days later)'`.\n",
    "7. Calling `add_time('8:16 PM', '466:02')` should return `'6:18 AM (20 days later)'`.\n",
    "8. Expected adding `0:00` to return the initial time.\n",
    "9. Calling `add_time('3:30 PM', '2:12', 'Monday')`should return `'5:42 PM, Monday'`.\n",
    "10. Calling `add_time('2:59 AM', '24:00', 'saturDay')` should return `'2:59 AM, Sunday (next day)'`.\n",
    "11. Calling `add_time('11:59 PM', '24:05', 'Wednesday')` should return `'12:04 AM, Friday (2 days later)'`.\n",
    "12. Calling `add_time('8:16 PM', '466:02', 'tuesday')` should return `'6:18 AM, Monday (20 days later)'`."
   ]
  },
  {
   "cell_type": "code",
   "execution_count": 15,
   "id": "fc78c2c6",
   "metadata": {},
   "outputs": [
    {
     "name": "stdout",
     "output_type": "stream",
     "text": [
      "5:42 PM\n",
      "3:07 PM\n",
      "2:59 AM (next day)\n",
      "12:04 AM (2 days later)\n",
      "6:18 AM (20 days later)\n",
      "8:16 PM\n",
      "5:42 PM, Monday\n",
      "2:59 AM, Sunday (next day)\n",
      "12:04 AM, Friday (2 days later)\n",
      "6:18 AM, Monday (20 days later)\n"
     ]
    },
    {
     "data": {
      "text/plain": [
       "'6:18 AM, Monday (20 days later)'"
      ]
     },
     "execution_count": 15,
     "metadata": {},
     "output_type": "execute_result"
    }
   ],
   "source": [
    "def add_time(start_time,duration_time,start_day = ''):\n",
    "    # Inputs: * a start time in the 12-hour clock format (ending in AM or PM)\n",
    "    # * a duration time that indicates the number of hours and minutes\n",
    "    char = ':'\n",
    "    space = ' '\n",
    "    days_of_wk = [\"Monday\",\"Tuesday\",\"Wednesday\",\"Thursday\",\"Friday\",\"Saturday\",\"Sunday\"]\n",
    "    \n",
    "    start_h = int(start_time[:start_time.find(char)])\n",
    "    start_m = int(start_time[start_time.find(char)+1:start_time.find(space)])\n",
    "    \n",
    "    duration_h = int(duration_time[:duration_time.find(char)])\n",
    "    duration_m = int(duration_time[duration_time.find(char)+1:])\n",
    "    \n",
    "    if start_time[-2] == 'P':\n",
    "        start_h += 12\n",
    "    \n",
    "    final_h = 0\n",
    "    final_m = 0\n",
    "    days_passed = 0\n",
    "    \n",
    "    # Add minutes together\n",
    "    final_m = start_m + duration_m\n",
    "    while final_m > 60:   # If minutes are more than an hour, increment hour value, decrement minute value\n",
    "        final_h += 1\n",
    "        final_m -= 60\n",
    "    if final_m < 10:\n",
    "        final_m = \"0\" + str(final_m)\n",
    "    \n",
    "    # Reduce number of days we have to iterate through\n",
    "    days_passed = (duration_h - (duration_h % 24)) // 24\n",
    "    duration_h = duration_h % 24\n",
    "    \n",
    "    # Add hours together\n",
    "    final_h += start_h + duration_h  # If hours are more than 24, increment day value, decrement hour value\n",
    "    while final_h >= 24:\n",
    "        days_passed += 1\n",
    "        final_h -= 24\n",
    "    \n",
    "    # Revert to 12 hour format\n",
    "    if final_h > 12:    # If past 1200, PM\n",
    "        final_h -= 12\n",
    "        time_of_day = 'PM'\n",
    "    elif final_h == 12: # If noon\n",
    "        time_of_day = 'PM'\n",
    "    elif final_h == 0:  # If midnight\n",
    "        final_h = 12\n",
    "        time_of_day = 'AM'\n",
    "    else:   # If before 1200\n",
    "        time_of_day = 'AM'\n",
    "\n",
    "    \n",
    "    # * (optional) a starting day of the week, case insensitive\n",
    "    if start_day:\n",
    "        start_day = start_day.lower()\n",
    "        increment = 0\n",
    "        start_day_index = ''\n",
    "        \n",
    "        # Locate day index value\n",
    "        while str(type(start_day_index)) == \"<class 'str'>\":\n",
    "            # Only change start_day_index if the value matches\n",
    "            if days_of_wk[increment].lower() == start_day:\n",
    "                start_day_index = increment\n",
    "            else:\n",
    "                increment += 1\n",
    "        # Calculate final day index\n",
    "        final_day_index = start_day_index + days_passed\n",
    "        \n",
    "        if days_passed == 1:    # If 1 day passed\n",
    "            final_time = f\"{final_h}:{final_m} {time_of_day}, {days_of_wk[final_day_index]} (next day)\"\n",
    "        elif days_passed > 1:   # If more than 1 day passed\n",
    "            while final_day_index > 6:  # If more than a week passed\n",
    "                final_day_index -= 7    # Convert final_day_index to value within list size\n",
    "            final_time = f\"{final_h}:{final_m} {time_of_day}, {days_of_wk[final_day_index]} ({days_passed} days later)\"\n",
    "        else:\n",
    "            final_time = f\"{final_h}:{final_m} {time_of_day}, {days_of_wk[final_day_index]}\"\n",
    "        \n",
    "    else:   # If no starting day of the week\n",
    "        if days_passed == 1:    # If 1 day passed\n",
    "            final_time = f\"{final_h}:{final_m} {time_of_day} (next day)\"\n",
    "        elif days_passed > 1:   # If more than 1 day passed\n",
    "            final_time = f\"{final_h}:{final_m} {time_of_day} ({days_passed} days later)\"\n",
    "        else:\n",
    "            final_time = f\"{final_h}:{final_m} {time_of_day}\"\n",
    "            \n",
    "    print(final_time)\n",
    "    return final_time\n",
    "  \n",
    "    \n",
    "add_time('3:30 PM', '2:12')     # Calling `add_time('3:30 PM', '2:12')` should return `'5:42 PM'`.\n",
    "add_time('11:55 AM', '3:12')    # 2. Calling `add_time('11:55 AM', '3:12')` should return `'3:07 PM'`.\n",
    "add_time('2:59 AM', '24:00')    # 5. Calling `add_time('2:59 AM', '24:00')` should return `'2:59 AM (next day)'`.\n",
    "add_time('11:59 PM', '24:05')   # 6. Calling `add_time('11:59 PM', '24:05')` should return `'12:04 AM (2 days later)'`.\n",
    "add_time('8:16 PM', '466:02')   # 7. Calling `add_time('8:16 PM', '466:02')` should return `'6:18 AM (20 days later)'`.\n",
    "add_time('8:16 PM', '0:00')     # 8. Expected adding `0:00` to return the initial time. `'8:18 AM'``\n",
    "add_time('3:30 PM', '2:12', 'Monday')   # 9. Calling `add_time('3:30 PM', '2:12', 'Monday')`should return `'5:42 PM, Monday'`.\n",
    "add_time('2:59 AM', '24:00', 'saturDay')    # 10. Calling `add_time('2:59 AM', '24:00', 'saturDay')` should return `'2:59 AM, Sunday (next day)'`.\n",
    "add_time('11:59 PM', '24:05', 'Wednesday')  # 11. Calling `add_time('11:59 PM', '24:05', 'Wednesday')` should return `'12:04 AM, Friday (2 days later)'`.\n",
    "add_time('8:16 PM', '466:02', 'tuesday')    # 12. Calling `add_time('8:16 PM', '466:02', 'tuesday')` should return `'6:18 AM, Monday (20 days later)'`"
   ]
  },
  {
   "cell_type": "markdown",
   "id": "0cfbc7bb",
   "metadata": {},
   "source": [
    "## Copilot Suggestions\n",
    "Minute Overflow Logic:\n",
    "The loop \n",
    "```\n",
    "while final_m > 60:\n",
    "    final_h += 1\n",
    "    final_m -= 60\n",
    "```\n",
    "should be `while final_m >= 60:` to correctly handle cases where minutes add up to exactly 60.\n",
    "\n",
    "Minute Formatting:\n",
    "You set `final_m` to a string if it’s less than 10, but later use it as a number. It’s better to keep it as an integer and only format it as a string when building the final output:\n",
    "`final_m_str = f\"{final_m:02d}\"`\n",
    "\n",
    "Day Calculation:\n",
    "The calculation for days_passed can be simplified:\n",
    "```\n",
    "total_minutes = start_h * 60 + start_m + duration_h * 60 + duration_m\n",
    "days_passed = total_minutes // (24 * 60)\n",
    "final_minutes = total_minutes % (24 * 60)\n",
    "final_h = final_minutes // 60\n",
    "final_m = final_minutes % 60\n",
    "```\n",
    "\n",
    "AM/PM Handling:\n",
    "The logic for converting back to 12-hour format and determining AM/PM can be made clearer and less error-prone.\n",
    "\n",
    "Day of Week Calculation:\n",
    "Instead of a while loop to find the day index, you can use:\n",
    "`start_day_index = [d.lower() for d in days_of_wk].index(start_day.lower())`\n",
    "\n",
    "Return Value:\n",
    "The function should return the result, not just print it.\n",
    "\n",
    "Here’s a refactored version of your function for clarity and correctness:\n",
    "\n",
    "```\n",
    "def add_time(start_time, duration_time, start_day=''):\n",
    "    days_of_wk = [\"Monday\", \"Tuesday\", \"Wednesday\", \"Thursday\", \"Friday\", \"Saturday\", \"Sunday\"]\n",
    "\n",
    "    # Parse start time\n",
    "    time, period = start_time.split()\n",
    "    start_h, start_m = map(int, time.split(':'))\n",
    "    if period.upper() == 'PM' and start_h != 12:\n",
    "        start_h += 12\n",
    "    if period.upper() == 'AM' and start_h == 12:\n",
    "        start_h = 0\n",
    "\n",
    "    # Parse duration\n",
    "    duration_h, duration_m = map(int, duration_time.split(':'))\n",
    "\n",
    "    # Total minutes\n",
    "    total_minutes = start_h * 60 + start_m + duration_h * 60 + duration_m\n",
    "    days_passed = total_minutes // (24 * 60)\n",
    "    final_minutes = total_minutes % (24 * 60)\n",
    "    final_h = final_minutes // 60\n",
    "    final_m = final_minutes % 60\n",
    "\n",
    "    # Determine AM/PM and 12-hour format\n",
    "    period = 'AM'\n",
    "    if final_h >= 12:\n",
    "        period = 'PM'\n",
    "    display_h = final_h % 12\n",
    "    if display_h == 0:\n",
    "        display_h = 12\n",
    "\n",
    "    # Format minutes\n",
    "    final_m_str = f\"{final_m:02d}\"\n",
    "\n",
    "    # Day of week calculation\n",
    "    day_str = ''\n",
    "    if start_day:\n",
    "        start_day_index = [d.lower() for d in days_of_wk].index(start_day.lower())\n",
    "        final_day_index = (start_day_index + days_passed) % 7\n",
    "        day_str = f\", {days_of_wk[final_day_index]}\"\n",
    "\n",
    "    # Days later string\n",
    "    if days_passed == 1:\n",
    "        later_str = \" (next day)\"\n",
    "    elif days_passed > 1:\n",
    "        later_str = f\" ({days_passed} days later)\"\n",
    "    else:\n",
    "        later_str = \"\"\n",
    "\n",
    "    return f\"{display_h}:{final_m_str} {period}{day_str}{later_str}\"\n",
    "```\n",
    "\n",
    "This version is easier to read, more robust, and handles edge cases more cleanly. Let me know if you want a more detailed explanation or further improvements!"
   ]
  },
  {
   "cell_type": "markdown",
   "id": "129d25b5",
   "metadata": {},
   "source": [
    "# Learn Classes and Objects by Building a Sudoku Solver\n",
    "Classes and objects are important programming concepts. These Object-Oriented Programming tools help developers to achieve code modularity, abstraction, and readability. And they promote reusability.\n",
    "\n",
    "In this Sudoku Solver project, you'll learn how to use classes and objects to build a Sudoku grid and to solve a Sudoku puzzle."
   ]
  },
  {
   "cell_type": "markdown",
   "id": "2ef595d1",
   "metadata": {},
   "source": [
    "In Python, a class is a blueprint for creating objects. Objects created from a class are instances of that class. You can create a class using this syntax:\n",
    "```\n",
    "class ClassName:\n",
    "    pass\n",
    "```\n",
    "\n",
    "Where class is the keyword required to define the class and ClassName is the name of the class, written by convention in PascalCase.\n",
    "\n",
    "To create a class object `var = ClassName()`\n",
    "\n",
    "The instantiation creates an empty object. But classes can have methods, which are like local functions for each instance. Within a class, methods are declared as follows:\n",
    "```\n",
    "class ClassName:\n",
    "    def method_name():\n",
    "        pass\n",
    "```\n"
   ]
  },
  {
   "cell_type": "code",
   "execution_count": null,
   "id": "b90a4564",
   "metadata": {},
   "outputs": [],
   "source": [
    "class Board:\n",
    "    def spam(self):\n",
    "        print('Spam!')\n",
    "    \n",
    "gameboard = Board()"
   ]
  },
  {
   "cell_type": "markdown",
   "id": "0f05d8b4",
   "metadata": {},
   "source": [
    "The instantiation creates an empty object. The `__init__` method is a special method that allows you to instantiate an object to a customized state. When a class implements an` __init__` method, `__init__` is automatically called upon instantiation.\n",
    "\n"
   ]
  },
  {
   "cell_type": "code",
   "execution_count": null,
   "id": "88174da2",
   "metadata": {},
   "outputs": [],
   "source": [
    "class Board:\n",
    "    def __init__(self):\n",
    "        pass\n",
    "    \n",
    "gameboard = Board()"
   ]
  },
  {
   "cell_type": "markdown",
   "id": "0c63122f",
   "metadata": {},
   "source": [
    "The sudoku puzzle to solve will be a list of lists, as the following:\n",
    "```\n",
    "[\n",
    "  [0, 0, 2, 0, 0, 8, 0, 0, 0],\n",
    "  [0, 0, 0, 0, 0, 3, 7, 6, 2],\n",
    "  [4, 3, 0, 0, 0, 0, 8, 0, 0],\n",
    "  [0, 5, 0, 0, 3, 0, 0, 9, 0],\n",
    "  [0, 4, 0, 0, 0, 0, 0, 2, 6],\n",
    "  [0, 0, 0, 4, 6, 7, 0, 0, 0],\n",
    "  [0, 8, 6, 7, 0, 4, 0, 0, 0],\n",
    "  [0, 0, 0, 5, 1, 9, 0, 0, 8],\n",
    "  [1, 7, 0, 0, 0, 6, 0, 0, 5]\n",
    "]\n",
    "```\n",
    "Note: empty cells are filled with a zero\n",
    "\n",
    "\n",
    "An attribute is a variable associated with an object, which is used to store data as regular variables.\n",
    "\n",
    "Inside the `__init__ `method, assign the `board` parameter (which is passed when creating an instance of the Board class) to an instance attribute board using `self.board`.\n",
    "\n",
    "`self.board` refers to the board attribute of the instance of the class. It's a variable that belongs to the object created from the Board class.\n"
   ]
  },
  {
   "cell_type": "code",
   "execution_count": null,
   "id": "2be688b4",
   "metadata": {},
   "outputs": [],
   "source": [
    "class Board:\n",
    "    def __init__(self, board):\n",
    "        self.board = board\n",
    "\n",
    "puzzle = [\n",
    "  [0, 0, 2, 0, 0, 8, 0, 0, 0],\n",
    "  [0, 0, 0, 0, 0, 3, 7, 6, 2],\n",
    "  [4, 3, 0, 0, 0, 0, 8, 0, 0],\n",
    "  [0, 5, 0, 0, 3, 0, 0, 9, 0],\n",
    "  [0, 4, 0, 0, 0, 0, 0, 2, 6],\n",
    "  [0, 0, 0, 4, 6, 7, 0, 0, 0],\n",
    "  [0, 8, 6, 7, 0, 4, 0, 0, 0],\n",
    "  [0, 0, 0, 5, 1, 9, 0, 0, 8],\n",
    "  [1, 7, 0, 0, 0, 6, 0, 0, 5]\n",
    "]\n",
    "\n",
    "gameboard = Board(puzzle)"
   ]
  },
  {
   "cell_type": "markdown",
   "id": "5ab1bde6",
   "metadata": {},
   "source": [
    "The enumerate built-in function takes an iterable as its argument and returns an enumerate object you can iterate over. It provides the count (which by default starts at zero) and the value from the iterable.\n",
    "```\n",
    "iterable = ['a', 'b', 'c']\n",
    "for i, j in enumerate(iterable):\n",
    "    print(i, j)\n",
    "```\n",
    "The loop from the example above would output the tuples `0, a`, `1, b`, and `2, c`."
   ]
  },
  {
   "cell_type": "code",
   "execution_count": null,
   "id": "3e52ee32",
   "metadata": {},
   "outputs": [],
   "source": [
    "def find_empty_cell(self):\n",
    "        for row, contents in enumerate(self.board):\n",
    "          pass"
   ]
  },
  {
   "cell_type": "markdown",
   "id": "31a16a5c",
   "metadata": {},
   "source": [
    "You need to locate the empty cell, which is filled with the number zero."
   ]
  },
  {
   "cell_type": "code",
   "execution_count": null,
   "id": "613a0dbe",
   "metadata": {},
   "outputs": [],
   "source": [
    "class Board:\n",
    "    def __init__(self, board):\n",
    "        self.board = board\n",
    "    def find_empty_cell(self):\n",
    "        for row, contents in enumerate(self.board):\n",
    "            col = contents.index(0)"
   ]
  },
  {
   "cell_type": "markdown",
   "id": "b059312e",
   "metadata": {},
   "source": [
    "The `.index()` method raises a `ValueError` exception when the value is not found. To prevent the program from halting execution, you'll nest this line of code inside a `try` block. The `try` statement is used to encapsulate code that might raise an exception. The `except` clause, on the other hand, offers alternative code to execute if an exception occurs.\n",
    "\n",
    "If the code inside the `try` block raises an exception, you want the program to continue running, and the pass statement accomplishes this.\n",
    "\n",
    "Although this code works, specifying the exception type after the `except` keyword is considered good practice.\n",
    "\n",
    "Since you know that a `ValueError` might be raised, leave a space after the except keyword and add `ValueError` after that.\n",
    "\n",
    "Outside of the for loop, `return None` will handle the case in which no empty cell is found\n"
   ]
  },
  {
   "cell_type": "code",
   "execution_count": 20,
   "id": "dcab95b7",
   "metadata": {},
   "outputs": [
    {
     "name": "stdout",
     "output_type": "stream",
     "text": [
      "(0, 0)\n",
      "(0, 1)\n",
      "None\n"
     ]
    }
   ],
   "source": [
    "class Board:\n",
    "    def __init__(self, board):\n",
    "        self.board = board\n",
    "    def find_empty_cell(self):\n",
    "        for row, contents in enumerate(self.board):\n",
    "            try:\n",
    "                col = contents.index(0)\n",
    "                return row, col\n",
    "            except ValueError:\n",
    "                pass\n",
    "        return None     # Handles the case in which no empty cell is found\n",
    "\n",
    "\n",
    "puzzle = [\n",
    "  [0, 0],\n",
    "  [3, 7,]\n",
    "]\n",
    "\n",
    "gameboard = Board(puzzle)\n",
    "print(gameboard.find_empty_cell())\n",
    "\n",
    "print(Board([[1,0],[3,4]]).find_empty_cell())\n",
    "print(Board([[1,2],[3,4]]).find_empty_cell())"
   ]
  },
  {
   "cell_type": "markdown",
   "id": "0da11dbc",
   "metadata": {},
   "source": [
    "Next, you're going to work on a method that checks if a given number can be inserted into a specified row of the sudoku board.\n",
    "\n",
    "Within the `Board` class, create a method named `valid_in_row` and give it three parameters: `self`, `row`, and `num`. Where `self` represents the instance of the class, and `row` and `num` are the row index and the number to be checked, respectively.\n",
    "\n",
    "Write an expression that checks if the number `num` is not already present in that row.\n"
   ]
  },
  {
   "cell_type": "code",
   "execution_count": 21,
   "id": "74115d24",
   "metadata": {},
   "outputs": [
    {
     "name": "stdout",
     "output_type": "stream",
     "text": [
      "False\n"
     ]
    }
   ],
   "source": [
    "class Board:\n",
    "    def __init__(self, board):\n",
    "        self.board = board\n",
    "\n",
    "    def find_empty_cell(self):\n",
    "        for row, contents in enumerate(self.board):\n",
    "            try:\n",
    "                col = contents.index(0)\n",
    "                return row, col\n",
    "            except ValueError:\n",
    "                pass\n",
    "        return None\n",
    "\n",
    "    def valid_in_row(self, row, num):\n",
    "        return num not in self.board[row]\n",
    "\n",
    "puzzle = [\n",
    "  [0, 0, 2, 0, 0, 8, 0, 0, 0],\n",
    "  [0, 0, 0, 0, 0, 3, 7, 6, 2],\n",
    "  [4, 3, 0, 0, 0, 0, 8, 0, 0],\n",
    "  [0, 5, 0, 0, 3, 0, 0, 9, 0],\n",
    "  [0, 4, 0, 0, 0, 0, 0, 2, 6],\n",
    "  [0, 0, 0, 4, 6, 7, 0, 0, 0],\n",
    "  [0, 8, 6, 7, 0, 4, 0, 0, 0],\n",
    "  [0, 0, 0, 5, 1, 9, 0, 0, 8],\n",
    "  [1, 7, 0, 0, 0, 6, 0, 0, 5]\n",
    "]\n",
    "\n",
    "gameboard = Board(puzzle)\n",
    "print(gameboard.valid_in_row(0,8))"
   ]
  },
  {
   "cell_type": "markdown",
   "id": "0a9c0126",
   "metadata": {},
   "source": [
    "You need to check if a given number is not equal to the number in the specified column of the current row.\n",
    "\n",
    "For this, replace `pass` with a generator expression that iterates over the range from `0` to `8` (inclusive), and *for each row*, evaluates whether the number at the specified `row` and column `col` on the board is different from `num`.\n",
    "\n",
    "Rewritten: [Evaluate if the `row` and `col` is different from `num` for each `row` in the range `0` to `8`(inclusive)]\n",
    "\n",
    "To write generator expressions, (`what is evaluated` for `variable` in `range`) etc\n",
    "\n",
    "Call the generator expression with `all(generator expression)` to check all elements in the expression\n"
   ]
  },
  {
   "cell_type": "code",
   "execution_count": 23,
   "id": "59dfcde4",
   "metadata": {},
   "outputs": [
    {
     "name": "stdout",
     "output_type": "stream",
     "text": [
      "True\n",
      "False\n"
     ]
    }
   ],
   "source": [
    "class Board:\n",
    "    def __init__(self, board):\n",
    "        self.board = board\n",
    "\n",
    "    def find_empty_cell(self):\n",
    "        for row, contents in enumerate(self.board):\n",
    "            try:\n",
    "                col = contents.index(0)\n",
    "                return row, col\n",
    "            except ValueError:\n",
    "                pass\n",
    "        return None\n",
    "\n",
    "    def valid_in_row(self, row, num):\n",
    "        return num not in self.board[row]\n",
    "\n",
    "    def valid_in_col(self, col, num):\n",
    "        return all(self.board[row][col] != num for row in range(9))\n",
    "\n",
    "puzzle = [\n",
    "  [0, 0, 2, 0, 0, 8, 0, 0, 0],\n",
    "  [0, 0, 0, 0, 0, 3, 7, 6, 2],\n",
    "  [4, 3, 0, 0, 0, 0, 8, 0, 0],\n",
    "  [0, 5, 0, 0, 3, 0, 0, 9, 0],\n",
    "  [0, 4, 0, 0, 0, 0, 0, 2, 6],\n",
    "  [0, 0, 0, 4, 6, 7, 0, 0, 0],\n",
    "  [0, 8, 6, 7, 0, 4, 0, 0, 0],\n",
    "  [0, 0, 0, 5, 1, 9, 0, 0, 8],\n",
    "  [1, 7, 0, 0, 0, 6, 0, 0, 5]\n",
    "]\n",
    "\n",
    "gameboard = Board(puzzle)\n",
    "print(gameboard.valid_in_col(0,7))\n",
    "print(gameboard.valid_in_col(0,1))"
   ]
  },
  {
   "cell_type": "markdown",
   "id": "7bcf3677",
   "metadata": {},
   "source": [
    "Another thing to check is if a number can be inserted in a 3x3 square.\n",
    "\n",
    "Inside the Board class, create a method named `valid_in_square` with four parameters: `self`, `row`, `col`, and num. Where `row`, `col`, and `num` represent the row index, the column index, and the number to be checked, respectively.\n",
    "\n",
    "Now you need to calculate the starting row index for the 3x3 square within the board grid and ensure that the starting row index for each 3x3 square is a multiple of 3. This can be achieved by taking the result of the integer division `row // 3` multiplied by `3`.\n",
    "\n",
    "\n",
    "Now, iterate only over the rows inside the 3x3 square by creating a for loop. Use the `range()` function to generate a sequence starting at `row_start`, and use `row_no` as the loop variable. Reminder that `range(start, final)`\n"
   ]
  },
  {
   "cell_type": "code",
   "execution_count": null,
   "id": "45f89d64",
   "metadata": {},
   "outputs": [],
   "source": [
    "def valid_in_square(self, row, col, num):\n",
    "    row_start = (row // 3) * 3\n",
    "    col_start = (col // 3) * 3\n",
    "    for row_no in range(row_start, row_start + 3):\n",
    "        for col_no in range(col_start, col_start + 3):\n",
    "            if self.board[row_no][col_no] == num:\n",
    "                return False\n",
    "    return True"
   ]
  },
  {
   "cell_type": "markdown",
   "id": "1705d6d7",
   "metadata": {},
   "source": [
    "Within the Board class, create another method `is_valid` and give it three parameters: `self`, `empty`, and `num`. Where `empty` is a tuple representing the row and column indices of an empty cell and `num` is the number to be checked.\n",
    "\n",
    "This method will check if a given number is a valid choice for an empty cell in the sudoku board by validating its compatibility with the row, column, and 3x3 square of the specified empty cell.\n",
    "\n",
    "A tuple can be unpacked, meaning that the elements contained in the tuple can be assigned to variables, like this:\n",
    "```\n",
    "spam = ('lemon', 'curry')\n",
    "item1, item2 = spam\n",
    "```\n",
    "In the example above, item1 would have the value 'lemon' and item2 would have the value 'curry'.\n",
    "\n",
    "Within the `is_valid` method, check if the number is valid for insertion in the specified row by calling the `valid_in_row()` method with `row` and `num` as arguments, and assign the result to a variable `valid_in_row`. Remember to use self to reference the methods of the current instance.\n"
   ]
  },
  {
   "cell_type": "code",
   "execution_count": null,
   "id": "3f2a913c",
   "metadata": {},
   "outputs": [],
   "source": [
    "def is_valid(self, empty, num):\n",
    "    row, col = empty\n",
    "    valid_in_row = self.valid_in_row(row, num)\n",
    "    valid_in_col = self.valid_in_col(col, num)\n",
    "    valid_in_square = self.valid_in_square(row, col, num)\n",
    "    return all([valid_in_row, valid_in_col, valid_in_square])"
   ]
  },
  {
   "cell_type": "markdown",
   "id": "92fe911e",
   "metadata": {},
   "source": [
    "Next, you'll work on a method that attempts to solve the sudoku in-place, meaning it will modify the existing sudoku board rather than creating a new one.\n",
    "\n",
    "Within the Board class, create a method named `solver` and give it a single parameter, `self`.\n",
    "\n",
    "Create an `if` statement that checks if the value returned by `find_empty_cell` is `None`. In that case, the puzzle is solved. Therefore, return `True` from the `if` body."
   ]
  },
  {
   "cell_type": "code",
   "execution_count": null,
   "id": "c3f5c255",
   "metadata": {},
   "outputs": [],
   "source": [
    "def solver(self):\n",
    "        if self.find_empty_cell() is None:\n",
    "            return True"
   ]
  },
  {
   "cell_type": "markdown",
   "id": "c7db29b8",
   "metadata": {},
   "source": [
    "The `:=` operator gives you the ability to assign variables in the middle of an expression. The syntax is: `name := var`\n",
    "\n",
    "This construct is formally named *assignment expressions*, while the `:=` operator is commonly referred to as the walrus operator.\n",
    "\n",
    "Since you are going to need the `self.find_empty_cell()` call more than once, assign it to a variable `next_empty` by using the walrus operator. Then, enclose the assignment between a pair of parentheses.\n",
    "\n",
    "In this way, you'll combine the assignment and the conditional check into a single line, making the code more concise.\n"
   ]
  },
  {
   "cell_type": "code",
   "execution_count": null,
   "id": "a9ccdf39",
   "metadata": {},
   "outputs": [],
   "source": [
    "def solver(self):\n",
    "    if (next_empty:= self.find_empty_cell()) is None:\n",
    "        return True"
   ]
  },
  {
   "cell_type": "markdown",
   "id": "67dfd32c",
   "metadata": {},
   "source": [
    "After the `if` statement, create a `for` loop to iterate over the range from `1` to `9` inclusive. Use guess as the loop variable.\n",
    "\n",
    "This loop will enable you to systematically check if any cipher from `1` to `9` is suitable to fill an empty cell.\n",
    "\n",
    "Inside the loop body, write an `if` statement that checks if the number is a valid choice for the current cell.\n",
    "\n",
    "Modify the board in place by accessing the cell at the given row and column and assigning it the value of guess.\n",
    "\n",
    "Create a recursive call inside the `if` statement that checks if the number is valid. If solvable, return `True`. If `False` the guess will result in an unsolvable sudoku so you'll need to restore the cell to empty and explore another guess.\n",
    "\n",
    "Finally make `solver` method return `False` if none of the guesses lead to a solution"
   ]
  },
  {
   "cell_type": "code",
   "execution_count": null,
   "id": "4bf22803",
   "metadata": {},
   "outputs": [],
   "source": [
    "def solver(self):\n",
    "    if (next_empty := self.find_empty_cell()) is None:\n",
    "        return True\n",
    "    for guess in range(1, 10):\n",
    "        if self.is_valid(next_empty, guess):\n",
    "            row, col = next_empty\n",
    "            self.board[row][col] = guess\n",
    "            if self.solver():\n",
    "                return True\n",
    "            self.board[row][col] = 0\n",
    "    return False"
   ]
  },
  {
   "cell_type": "markdown",
   "id": "142456a4",
   "metadata": {},
   "source": [
    "Now we'll combine all of this into a function outside of the `Board` class to fully solve a sudoku board"
   ]
  },
  {
   "cell_type": "code",
   "execution_count": 24,
   "id": "0ee37370",
   "metadata": {},
   "outputs": [
    {
     "name": "stdout",
     "output_type": "stream",
     "text": [
      "<__main__.Board object at 0x115a53810>\n"
     ]
    }
   ],
   "source": [
    "class Board:\n",
    "    def __init__(self, board):\n",
    "        self.board = board\n",
    "\n",
    "    def find_empty_cell(self):\n",
    "        for row, contents in enumerate(self.board):\n",
    "            try:\n",
    "                col = contents.index(0)\n",
    "                return row, col\n",
    "            except ValueError:\n",
    "                pass\n",
    "        return None\n",
    "\n",
    "    def valid_in_row(self, row, num):\n",
    "        return num not in self.board[row]\n",
    "\n",
    "    def valid_in_col(self, col, num):\n",
    "        return all(self.board[row][col] != num for row in range(9))\n",
    "\n",
    "    def valid_in_square(self, row, col, num):\n",
    "        row_start = (row // 3) * 3\n",
    "        col_start = (col // 3) * 3\n",
    "        for row_no in range(row_start, row_start + 3):\n",
    "            for col_no in range(col_start, col_start + 3):\n",
    "                if self.board[row_no][col_no] == num:\n",
    "                    return False\n",
    "        return True\n",
    "\n",
    "    def is_valid(self, empty, num):\n",
    "        row, col = empty\n",
    "        valid_in_row = self.valid_in_row(row, num)\n",
    "        valid_in_col = self.valid_in_col(col, num)\n",
    "        valid_in_square = self.valid_in_square(row, col, num)\n",
    "        return all([valid_in_row, valid_in_col, valid_in_square])\n",
    "\n",
    "    def solver(self):\n",
    "        if (next_empty := self.find_empty_cell()) is None:\n",
    "            return True\n",
    "        for guess in range(1, 10):\n",
    "            if self.is_valid(next_empty, guess):\n",
    "                row, col = next_empty\n",
    "                self.board[row][col] = guess\n",
    "                if self.solver():\n",
    "                    return True\n",
    "                self.board[row][col] = 0\n",
    "        return False\n",
    "\n",
    "def solve_sudoku(board):\n",
    "    gameboard = Board(board)\n",
    "    print(f'Puzzle to solve:\\n{gameboard}')\n",
    "    if gameboard.solver():\n",
    "        print(f'Solved puzzle:\\n{gameboard}')\n",
    "    else:\n",
    "        print('The provided puzzle is unsolvable.')\n",
    "    return gameboard\n",
    "\n",
    "puzzle = [\n",
    "  [0, 0, 2, 0, 0, 8, 0, 0, 0],\n",
    "  [0, 0, 0, 0, 0, 3, 7, 6, 2],\n",
    "  [4, 3, 0, 0, 0, 0, 8, 0, 0],\n",
    "  [0, 5, 0, 0, 3, 0, 0, 9, 0],\n",
    "  [0, 4, 0, 0, 0, 0, 0, 2, 6],\n",
    "  [0, 0, 0, 4, 6, 7, 0, 0, 0],\n",
    "  [0, 8, 6, 7, 0, 4, 0, 0, 0],\n",
    "  [0, 0, 0, 5, 1, 9, 0, 0, 8],\n",
    "  [1, 7, 0, 0, 0, 6, 0, 0, 5]\n",
    "]\n",
    "gameboard = Board(puzzle)\n",
    "print(gameboard)"
   ]
  },
  {
   "cell_type": "markdown",
   "id": "4915c9fc",
   "metadata": {},
   "source": [
    "When you print `gameboard` you get `<__main__.Board object at 0x115a53810>` or something similar, the default representation of an object. As a result, the solve_sudoku function will give you an output different from what you expect.\n",
    "\n",
    "To fix this, we'll create a `__str__` method within the class that will be called when the object is printed or converted to a string\n",
    "\n",
    "We'll create a string by iterating over the rows in the board. Inside the for loop, declare a variable row_str and assign it a list comprehension that iterates over row and turns each item i in row into a string. Use the str() function for that. List comprehension returns an array so use brackets: `variable_name = [expression if condition else result for item in iterable]`"
   ]
  },
  {
   "cell_type": "code",
   "execution_count": null,
   "id": "6492438c",
   "metadata": {},
   "outputs": [],
   "source": [
    "def __str__(self):\n",
    "        board_str = ''\n",
    "        for row in self.board:\n",
    "            row_str = [str(i) if i != 0 else '*' for i in row]"
   ]
  },
  {
   "cell_type": "markdown",
   "id": "99564829",
   "metadata": {},
   "source": [
    "Join the value from row_str to board_str with a space and then add a new line between each row.\n",
    "\n",
    "The final result will print the solved puzzle as an output"
   ]
  },
  {
   "cell_type": "code",
   "execution_count": 25,
   "id": "99f228e4",
   "metadata": {},
   "outputs": [
    {
     "name": "stdout",
     "output_type": "stream",
     "text": [
      "Puzzle to solve:\n",
      "* * 2 * * 8 * * *\n",
      "* * * * * 3 7 6 2\n",
      "4 3 * * * * 8 * *\n",
      "* 5 * * 3 * * 9 *\n",
      "* 4 * * * * * 2 6\n",
      "* * * 4 6 7 * * *\n",
      "* 8 6 7 * 4 * * *\n",
      "* * * 5 1 9 * * 8\n",
      "1 7 * * * 6 * * 5\n",
      "\n",
      "Solved puzzle:\n",
      "9 6 2 1 7 8 3 5 4\n",
      "8 1 5 9 4 3 7 6 2\n",
      "4 3 7 6 5 2 8 1 9\n",
      "6 5 8 2 3 1 4 9 7\n",
      "7 4 3 8 9 5 1 2 6\n",
      "2 9 1 4 6 7 5 8 3\n",
      "5 8 6 7 2 4 9 3 1\n",
      "3 2 4 5 1 9 6 7 8\n",
      "1 7 9 3 8 6 2 4 5\n",
      "\n"
     ]
    },
    {
     "data": {
      "text/plain": [
       "<__main__.Board at 0x115a60310>"
      ]
     },
     "execution_count": 25,
     "metadata": {},
     "output_type": "execute_result"
    }
   ],
   "source": [
    "class Board:\n",
    "    def __init__(self, board):\n",
    "        self.board = board\n",
    "\n",
    "    def __str__(self):\n",
    "        board_str = ''\n",
    "        for row in self.board:\n",
    "            row_str = [str(i) if i else '*' for i in row]\n",
    "            board_str += ' '.join(row_str)\n",
    "            board_str += '\\n'\n",
    "        return board_str\n",
    "\n",
    "    def find_empty_cell(self):\n",
    "        for row, contents in enumerate(self.board):\n",
    "            try:\n",
    "                col = contents.index(0)\n",
    "                return row, col\n",
    "            except ValueError:\n",
    "                pass\n",
    "        return None\n",
    "\n",
    "    def valid_in_row(self, row, num):\n",
    "        return num not in self.board[row]\n",
    "\n",
    "    def valid_in_col(self, col, num):\n",
    "        return all(self.board[row][col] != num for row in range(9))\n",
    "\n",
    "    def valid_in_square(self, row, col, num):\n",
    "        row_start = (row // 3) * 3\n",
    "        col_start = (col // 3) * 3\n",
    "        for row_no in range(row_start, row_start + 3):\n",
    "            for col_no in range(col_start, col_start + 3):\n",
    "                if self.board[row_no][col_no] == num:\n",
    "                    return False\n",
    "        return True\n",
    "\n",
    "    def is_valid(self, empty, num):\n",
    "        row, col = empty\n",
    "        valid_in_row = self.valid_in_row(row, num)\n",
    "        valid_in_col = self.valid_in_col(col, num)\n",
    "        valid_in_square = self.valid_in_square(row, col, num)\n",
    "        return all([valid_in_row, valid_in_col, valid_in_square])\n",
    "\n",
    "    def solver(self):\n",
    "        if (next_empty := self.find_empty_cell()) is None:\n",
    "            return True\n",
    "        for guess in range(1, 10):\n",
    "            if self.is_valid(next_empty, guess):\n",
    "                row, col = next_empty\n",
    "                self.board[row][col] = guess\n",
    "                if self.solver():\n",
    "                    return True\n",
    "                self.board[row][col] = 0\n",
    "        return False\n",
    "\n",
    "def solve_sudoku(board):\n",
    "    gameboard = Board(board)\n",
    "    print(f'Puzzle to solve:\\n{gameboard}')\n",
    "    if gameboard.solver():\n",
    "        print(f'Solved puzzle:\\n{gameboard}')\n",
    "    else:\n",
    "        print('The provided puzzle is unsolvable.')\n",
    "    return gameboard\n",
    "\n",
    "puzzle = [\n",
    "  [0, 0, 2, 0, 0, 8, 0, 0, 0],\n",
    "  [0, 0, 0, 0, 0, 3, 7, 6, 2],\n",
    "  [4, 3, 0, 0, 0, 0, 8, 0, 0],\n",
    "  [0, 5, 0, 0, 3, 0, 0, 9, 0],\n",
    "  [0, 4, 0, 0, 0, 0, 0, 2, 6],\n",
    "  [0, 0, 0, 4, 6, 7, 0, 0, 0],\n",
    "  [0, 8, 6, 7, 0, 4, 0, 0, 0],\n",
    "  [0, 0, 0, 5, 1, 9, 0, 0, 8],\n",
    "  [1, 7, 0, 0, 0, 6, 0, 0, 5]\n",
    "]\n",
    "solve_sudoku(puzzle)"
   ]
  }
 ],
 "metadata": {
  "kernelspec": {
   "display_name": ".venv",
   "language": "python",
   "name": "python3"
  },
  "language_info": {
   "codemirror_mode": {
    "name": "ipython",
    "version": 3
   },
   "file_extension": ".py",
   "mimetype": "text/x-python",
   "name": "python",
   "nbconvert_exporter": "python",
   "pygments_lexer": "ipython3",
   "version": "3.11.3"
  }
 },
 "nbformat": 4,
 "nbformat_minor": 5
}
