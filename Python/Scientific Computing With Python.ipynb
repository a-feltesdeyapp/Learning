{
 "cells": [
  {
   "cell_type": "markdown",
   "id": "497d64db",
   "metadata": {},
   "source": [
    "## Learn String Manipulation by Creating a Cypher\n",
    "\n",
    "Python is a powerful and popular programming language widely used for data science, data visualization, web development, game development, machine learning and more.\n",
    "\n",
    "In this project, you'll learn fundamental programming concepts in Python, such as variables, functions, loops, and conditional statements. You'll use these to code your first programs."
   ]
  },
  {
   "cell_type": "code",
   "execution_count": 1,
   "id": "62a850bd",
   "metadata": {},
   "outputs": [
    {
     "name": "stdout",
     "output_type": "stream",
     "text": [
      "plain text: Hello Zaira\n",
      "encrypted text: khoor cdlud\n",
      "plain text: Hello Zaira\n",
      "encrypted text: uryyb mnven\n"
     ]
    }
   ],
   "source": [
    "#Caesar Cypher\n",
    "text = 'Hello Zaira'\n",
    "shift = 3\n",
    "\n",
    "def caesar(message, offset):\n",
    "    alphabet = 'abcdefghijklmnopqrstuvwxyz'\n",
    "    encrypted_text = ''\n",
    "\n",
    "    for char in message.lower():\n",
    "        if char == ' ':\n",
    "            encrypted_text += char\n",
    "        else:\n",
    "            index = alphabet.find(char)\n",
    "            new_index = (index + offset) % len(alphabet)\n",
    "            encrypted_text += alphabet[new_index]\n",
    "    print('plain text:', message)\n",
    "    print('encrypted text:', encrypted_text)\n",
    "\n",
    "caesar(text, shift)\n",
    "caesar(text, 13)"
   ]
  },
  {
   "cell_type": "code",
   "execution_count": null,
   "id": "3346dae3",
   "metadata": {},
   "outputs": [
    {
     "name": "stdout",
     "output_type": "stream",
     "text": [
      "wcesc mpgkh\n"
     ]
    }
   ],
   "source": [
    "text = 'mrttaqrhknsw ih puggrur'\n",
    "custom_key = 'happycoding'\n",
    "\n",
    "def vigenere(message, key, direction=1):\n",
    "    key_index = 0\n",
    "    alphabet = 'abcdefghijklmnopqrstuvwxyz'\n",
    "    final_message = ''\n",
    "\n",
    "    for char in message.lower():\n",
    "\n",
    "        # Append any non-letter character to the message\n",
    "        if not char.isalpha():\n",
    "            final_message += char\n",
    "        else:        \n",
    "            # Find the right key character to encode/decode\n",
    "            key_char = key[key_index % len(key)]\n",
    "            key_index += 1\n",
    "\n",
    "            # Define the offset and the encrypted/decrypted letter\n",
    "            offset = alphabet.index(key_char)\n",
    "            index = alphabet.find(char)\n",
    "            new_index = (index + offset*direction) % len(alphabet)\n",
    "            final_message += alphabet[new_index]\n",
    "    \n",
    "    return final_message\n",
    "\n",
    "def encrypt(message, key):\n",
    "    return vigenere(message, key)\n",
    "    \n",
    "def decrypt(message, key):\n",
    "    return vigenere(message, key, -1)\n",
    "\n",
    "print(f'\\nEncrypted text: {text}')\n",
    "print(f'Key: {custom_key}')\n",
    "decryption = decrypt(text, custom_key)\n",
    "print(f'\\nDecrypted text: {decryption}\\n')"
   ]
  },
  {
   "cell_type": "markdown",
   "id": "f18e5d7e",
   "metadata": {},
   "source": [
    "We can use `pass` as a placeholder while creating code. The function will be passed over"
   ]
  },
  {
   "cell_type": "markdown",
   "id": "f4470ce7",
   "metadata": {},
   "source": [
    "## Work with letters and numbers by implementing the Luhn Algorithm\n",
    "\n",
    "The Luhn Algorithm is widely used for error-checking in various applications, such as verifying credit card numbers.\n",
    "\n",
    "By building this project, you'll gain experience working with numerical computations and string manipulation."
   ]
  },
  {
   "cell_type": "markdown",
   "id": "1a18b576",
   "metadata": {},
   "source": [
    "\n",
    "Python comes with built-in classes that can help us with string manipulation. One of them is the str class. It has a method called `maketrans` that can help us create a translation table. This table can be used to replace characters in a string:\n",
    "```\n",
    "str.maketrans({'t': 'c', 'l': 'b'})\n",
    "```\n",
    "\n",
    "Defining the translation does not in itself translate the string. The translate method must be called on the string to be translated with the translation table as an argument:\n",
    "Example Code\n",
    "```\n",
    "my_string = \"tamperlot\"\n",
    "translation_table = str.maketrans({'t': 'c', 'l': 'b'})\n",
    "translated_string = my_string.translate(translation_table)\n",
    "```"
   ]
  },
  {
   "cell_type": "code",
   "execution_count": 3,
   "id": "e3d2b544",
   "metadata": {},
   "outputs": [
    {
     "name": "stdout",
     "output_type": "stream",
     "text": [
      "4111111145551142\n"
     ]
    }
   ],
   "source": [
    "def verify_card_number(card_number):\n",
    "    pass\n",
    "\n",
    "def main():\n",
    "    card_number = '4111-1111-4555-1142'\n",
    "    card_translation = str.maketrans({'-': '', ' ': ''})\n",
    "    translated_card_number = card_number.translate(card_translation)\n",
    "\n",
    "    print(translated_card_number)\n",
    "\n",
    "    verify_card_number(translated_card_number)\n",
    "\n",
    "main()"
   ]
  },
  {
   "cell_type": "markdown",
   "id": "0418906e",
   "metadata": {},
   "source": [
    "The Luhn algorithm is as follows:\n",
    "1. From the right to left, double the value of every second digit; if the product is greater than 9, sum the digits of the products.\n",
    "2. Take the sum of all the digits.\n",
    "3. If the sum of all the digits is a multiple of 10, then the number is valid; else it is not valid.\n",
    "\n",
    "Assume an example of an account number \"7992739871\" that will have a check digit added, making it of the form 7992739871x:\n",
    "Example Code\n",
    "```\n",
    "Account number      7   9  9  2  7  3  9   8  7  1  x\n",
    "Double every other  7  18  9  4  7  6  9  16  7  2  x\n",
    "Sum 2-char digits   7   9  9  4  7  6  9   7  7  2  x\n",
    "```\n",
    "\n",
    "Additionally, another way you can reverse a string is with `temp_string[::-1]`"
   ]
  },
  {
   "cell_type": "code",
   "execution_count": 5,
   "id": "3b446a1d",
   "metadata": {},
   "outputs": [
    {
     "name": "stdout",
     "output_type": "stream",
     "text": [
      "VALID!\n"
     ]
    }
   ],
   "source": [
    "def verify_card_number(card_number):\n",
    "    sum_of_odd_digits = 0\n",
    "    card_number_reversed = card_number[::-1]\n",
    "    odd_digits = card_number_reversed[::2]\n",
    "\n",
    "    for digit in odd_digits:\n",
    "        sum_of_odd_digits += int(digit)\n",
    "\n",
    "    sum_of_even_digits = 0\n",
    "    even_digits = card_number_reversed[1::2]\n",
    "    for digit in even_digits:\n",
    "        number = int(digit) * 2\n",
    "        if number >= 10:\n",
    "            number = (number // 10) + (number % 10)\n",
    "        sum_of_even_digits += number\n",
    "    total = sum_of_odd_digits + sum_of_even_digits\n",
    "    return total % 10 == 0\n",
    "\n",
    "def main():\n",
    "    card_number = '4111-1111-4555-1142'\n",
    "    card_translation = str.maketrans({'-': '', ' ': ''})\n",
    "    translated_card_number = card_number.translate(card_translation)\n",
    "\n",
    "    if verify_card_number(translated_card_number):\n",
    "        print('VALID!')\n",
    "    else:\n",
    "        print('INVALID!')\n",
    "\n",
    "main()"
   ]
  },
  {
   "cell_type": "markdown",
   "id": "45bed144",
   "metadata": {},
   "source": [
    "## Learn the Lambda Function by building an Expense Tracker"
   ]
  }
 ],
 "metadata": {
  "kernelspec": {
   "display_name": ".venv",
   "language": "python",
   "name": "python3"
  },
  "language_info": {
   "codemirror_mode": {
    "name": "ipython",
    "version": 3
   },
   "file_extension": ".py",
   "mimetype": "text/x-python",
   "name": "python",
   "nbconvert_exporter": "python",
   "pygments_lexer": "ipython3",
   "version": "3.11.3"
  }
 },
 "nbformat": 4,
 "nbformat_minor": 5
}
