{
 "cells": [
  {
   "cell_type": "markdown",
   "id": "8008c525",
   "metadata": {},
   "source": [
    "# An Animated Introduction to Programming with Python\n",
    "## Mark Mahoney\n",
    "### https://playbackpress.com/books/pybook"
   ]
  },
  {
   "cell_type": "markdown",
   "id": "f01257b0",
   "metadata": {},
   "source": [
    "## Introduction"
   ]
  },
  {
   "cell_type": "markdown",
   "id": "f6bcbafe",
   "metadata": {},
   "source": [
    "### Pythonic Stylization"
   ]
  },
  {
   "cell_type": "markdown",
   "id": "47013fbf",
   "metadata": {},
   "source": [
    "I know that this doesn't necessarily have a place here but I don't know where to include it rn.\n",
    "\n",
    "So Python has it's own stylization known as Pythonic. It's the best practices for writing clean, readable Python code. I haven't been using it, in large part because this tutorial hasn't been using it but I want to make a note of it.\n",
    "\n",
    "The Pythonic Style uses the following guidelines\n",
    "* Variables and Function names are written using snake_case (e.g., total_price, get_user_name)\n",
    "* Class names are written using CamelCase (e.g., MyClass)\n",
    "* Write clear, descriptive names for variables, functions and classes.\n",
    "* Use indentation (4 spaces per level) and avoid tabs.\n",
    "* Keep lines under 79 characters\n",
    "* Use spaces around operators and after commas\n",
    "* Write concise, readable code. Simplicity > Cleverness\n",
    "* Use docstrings and comments to explain complex code\n",
    "    * docstrings are a special string used for documenting. It's placed as the first statement inside a definition and enclosed in tripple quotes (''' or \"\"\").\n",
    "    * It explains what the function, class, or module does and can be accessed using `help()` or the `.doc` attribute\n",
    "* Parentheses are not required for simple conditions in Python. Use them only for grouping or clarity in complex expressions.\n",
    "* Avoid unnecessary code and repetition (DRY: Don't Repeat Yourself.)\n",
    "* Follow PEP 8, the official Python style guide, for more details."
   ]
  },
  {
   "cell_type": "markdown",
   "id": "6a2a516b",
   "metadata": {},
   "source": [
    "### Working in Python Virtual Environments"
   ]
  },
  {
   "cell_type": "markdown",
   "id": "8cc9d360",
   "metadata": {},
   "source": [
    "Make sure to open up a virtual environment before running python code\n",
    "* Create a new venv, use `python3 -m venv .venv`\n",
    "* Enter the venv with `source .venv/`\n",
    "* List the packages installed in the venv\n",
    "    * Activate the venv with `source .venv/bin/activate.`\n",
    "    * Create a dependency document using `pip freeze > requirements.txt`\n",
    "    * Update packages in dependency document with `pip freeze > requirements.txt`\n",
    "    * Install the packages from dependency document with `pip install -r requirements.txt`\n",
    "    * You can reuse requirements.txt in other venvs\n",
    "* To add a package to the venv, use `pip install <package_name>`\n",
    "* To deactivate the venv, use `deactivate`\n",
    "* To remove the venv, use `rm -rf .venv`"
   ]
  },
  {
   "cell_type": "markdown",
   "id": "09c54ea6",
   "metadata": {},
   "source": [
    "### Lesson 0: Quick introduction to libraries, print(), np.random.randint() & setting up VSCode for Python"
   ]
  },
  {
   "cell_type": "code",
   "execution_count": 1,
   "id": "147291af",
   "metadata": {},
   "outputs": [
    {
     "name": "stdout",
     "output_type": "stream",
     "text": [
      "Roll a dice!\n",
      "8\n"
     ]
    }
   ],
   "source": [
    "import numpy as np\n",
    "\n",
    "msg = \"Roll a dice!\"\n",
    "print(msg)\n",
    "\n",
    "print(np.random.randint(1,9))"
   ]
  },
  {
   "cell_type": "markdown",
   "id": "b34bbd23",
   "metadata": {},
   "source": [
    "## Section 1 - Flow of Control and Simple Data"
   ]
  },
  {
   "cell_type": "markdown",
   "id": "ba1dc8dd",
   "metadata": {},
   "source": [
    "### Lesson 1: Printing and flow\n",
    "Programs are executed from top to bottom."
   ]
  },
  {
   "cell_type": "code",
   "execution_count": 1,
   "id": "aeca571e",
   "metadata": {},
   "outputs": [
    {
     "name": "stdout",
     "output_type": "stream",
     "text": [
      "My name is Alia\n",
      "\n",
      "I'm learning Python\n"
     ]
    }
   ],
   "source": [
    "print(\"My name is Alia\")\n",
    "print(\"\") # This prints a blank line\n",
    "print(\"I'm learning Python\")"
   ]
  },
  {
   "cell_type": "markdown",
   "id": "70ece36b",
   "metadata": {},
   "source": [
    "There are two types of strings in Python: single quotes and double quotes. Both are the same, but you can use one inside the other without escaping.\n",
    "This is different from Matlab, where you'd have char arrays instead of a string."
   ]
  },
  {
   "cell_type": "code",
   "execution_count": 2,
   "id": "b0360b73",
   "metadata": {},
   "outputs": [
    {
     "name": "stdout",
     "output_type": "stream",
     "text": [
      "testing\n",
      "<class 'str'>\n",
      "<class 'str'>\n"
     ]
    }
   ],
   "source": [
    "print('testing')\n",
    "temp = 'testing'; temp2 = \"Testing\"\n",
    "print(type(temp))  # This will return the type of the variable temp\n",
    "print(type(temp2))"
   ]
  },
  {
   "cell_type": "markdown",
   "id": "65778937",
   "metadata": {},
   "source": [
    "You can also use triple quotes for multi-line strings."
   ]
  },
  {
   "cell_type": "code",
   "execution_count": 3,
   "id": "bdcd478d",
   "metadata": {},
   "outputs": [
    {
     "name": "stdout",
     "output_type": "stream",
     "text": [
      "Testing out a multi-line string.\n",
      "    Here we see the second line.\n",
      "This would be useful for writing haikus.\n"
     ]
    }
   ],
   "source": [
    "print('''Testing out a multi-line string.\n",
    "    Here we see the second line.\n",
    "This would be useful for writing haikus.''')"
   ]
  },
  {
   "cell_type": "markdown",
   "id": "3e8aea6a",
   "metadata": {},
   "source": [
    "Something to note is that Python takes into account the indentation of the code\n",
    "particularly when printing multi-line strings\n",
    "This is different from Matlab, where you can use semicolons to separate lines\n",
    "However, you can also use `\\n` to create new lines in a string, just like in Matlab"
   ]
  },
  {
   "cell_type": "code",
   "execution_count": 4,
   "id": "179df489",
   "metadata": {},
   "outputs": [
    {
     "name": "stdout",
     "output_type": "stream",
     "text": [
      "\n",
      "New Line\n",
      "\n"
     ]
    }
   ],
   "source": [
    "print('\\nNew Line\\n') # I don't know what was going on there for a sec, the terminal wasn't agreeing with my code. it's fixed now though."
   ]
  },
  {
   "cell_type": "markdown",
   "id": "5335a2d4",
   "metadata": {},
   "source": [
    "We can run the program by typing `python3 hello.py` in the terminal\n",
    "We can also run the program by pressing F5 in VSCode.\n",
    "Pressing F5 technically runs the program in debug mode, which allows us to step through the code line by line.\n",
    "\n",
    "Remember that you don't need to use semicolons at the end of each line in Python, unlike Matlab.\n",
    "However, you can use semicolons to separate multiple statements on the same line, but this is not recommended.\n",
    "It's better to write each statement on a new line for readability.\n",
    "You can also use the print() function to print multiple values on the same line, separated by commas."
   ]
  },
  {
   "cell_type": "code",
   "execution_count": 5,
   "id": "35d127ba",
   "metadata": {},
   "outputs": [
    {
     "name": "stdout",
     "output_type": "stream",
     "text": [
      "Hello World from Python\n"
     ]
    }
   ],
   "source": [
    "print(\"Hello\", \"World\", \"from\", \"Python\")  # This will print Hello World from Python on the same line\n"
   ]
  },
  {
   "cell_type": "markdown",
   "id": "60cea22e",
   "metadata": {},
   "source": [
    "You can also use the end parameter of the `print()` function to change the end character."
   ]
  },
  {
   "cell_type": "code",
   "execution_count": 6,
   "id": "836a0613",
   "metadata": {},
   "outputs": [
    {
     "name": "stdout",
     "output_type": "stream",
     "text": [
      "Hello World!"
     ]
    }
   ],
   "source": [
    "print(\"Hello\", end=\" \")  # This will print Hello without a new line at the end\n",
    "print(\"World\", end=\"!\")  # This will print World! on the same line"
   ]
  },
  {
   "cell_type": "markdown",
   "id": "28897e78",
   "metadata": {},
   "source": [
    "### Lesson 2: Arithmetic and comparing numbers"
   ]
  },
  {
   "cell_type": "code",
   "execution_count": 7,
   "id": "5b242f27",
   "metadata": {},
   "outputs": [
    {
     "name": "stdout",
     "output_type": "stream",
     "text": [
      "\n",
      "Computers are good at math, but they are not good at reading minds.\n",
      "\n",
      "3.3333333333333335\n",
      "2\n",
      "4\n",
      "8\n"
     ]
    }
   ],
   "source": [
    "print(\"\\nComputers are good at math, but they are not good at reading minds.\\n\")\n",
    "# print(10+5)\n",
    "# print(10-7)\n",
    "# print(3*102)  # Basic math is easy. The issues come in when we start doing division.\n",
    "\n",
    "print(10/3) # This will return a float\n",
    "print(16//8) # This will return an int\n",
    "print(20%8) # This will return the remainder of the division. Mod operator.\n",
    "print(2**3) # This will return 8, which is 2 raised to the power of 3"
   ]
  },
  {
   "cell_type": "markdown",
   "id": "e0bcd28a",
   "metadata": {},
   "source": [
    "Note that in Python 3, division always returns a float, even if the result is a whole number.\n",
    "Also note that there is a 5 at the end of the result. This stops the computer from storing infinite precision.\n",
    "\n",
    "You can combine float and intergers, but you will get a float as a result"
   ]
  },
  {
   "cell_type": "markdown",
   "id": "05825a07",
   "metadata": {},
   "source": [
    "\n",
    "Python also follows PEMDAS"
   ]
  },
  {
   "cell_type": "code",
   "execution_count": 8,
   "id": "1f262ce8",
   "metadata": {},
   "outputs": [
    {
     "name": "stdout",
     "output_type": "stream",
     "text": [
      "-4\n"
     ]
    }
   ],
   "source": [
    "print(2*(3-5))"
   ]
  },
  {
   "cell_type": "markdown",
   "id": "bb5a0799",
   "metadata": {},
   "source": [
    "Comparison operators are the same as in Matlab"
   ]
  },
  {
   "cell_type": "code",
   "execution_count": 9,
   "id": "400369d3",
   "metadata": {},
   "outputs": [
    {
     "name": "stdout",
     "output_type": "stream",
     "text": [
      "True\n",
      "False\n",
      "True\n",
      "False\n",
      "True\n",
      "False\n"
     ]
    }
   ],
   "source": [
    "print(10 == 10)  # This will return True\n",
    "print(10 != 10)  # This will return False\n",
    "print(10 > 5)    # This will return True\n",
    "print(10 < 5)    # This will return False\n",
    "print(10 >= 10)  # This will return True\n",
    "print(10 <= 5)   # This will return False"
   ]
  },
  {
   "cell_type": "markdown",
   "id": "6c7e2e84",
   "metadata": {},
   "source": [
    "You can also compare strings, but they will be compared lexicographically"
   ]
  },
  {
   "cell_type": "code",
   "execution_count": 10,
   "id": "35040c29",
   "metadata": {},
   "outputs": [
    {
     "name": "stdout",
     "output_type": "stream",
     "text": [
      "True\n",
      "True\n",
      "False\n",
      "True\n",
      "True\n",
      "True\n"
     ]
    }
   ],
   "source": [
    "print('a' == 'a')  # This will return True\n",
    "print('a' != 'b')  # This will return True\n",
    "print('a' > 'b')    # This will return False\n",
    "print('a' < 'b')    # This will return True\n",
    "print('a' >= 'a')  # This will return True\n",
    "print('a' <= 'b')   # This will return True"
   ]
  },
  {
   "cell_type": "markdown",
   "id": "8ad0397f",
   "metadata": {},
   "source": [
    "You can also compare strings with numbers, but they will be compared lexicographically\n",
    "Why? Because Python treats strings as sequences of characters, and the string '1' is lexicographically less than the integer 1.\n",
    "\n",
    "Lexicographic comparison is the same as in Matlab\n",
    "\n",
    "As a reminder, lexicographic comparison is the comparison of strings based on the order of their characters in the ASCII table.\n",
    "\n",
    "For example, 'a' is less than 'b', and 'A' is less than 'a'.\n",
    "\n",
    "Characters are compared from L>R and if all characters equal up to the length of the shorter string, the shorter string is considered smaller.\n",
    "\n",
    "If you convert integers to strings, then lexicographical order applies:\n",
    "\n",
    "\"12\" > \"100\" (because '1' == '1', '2' > '0')\n",
    "\n",
    "\"2\" > \"10\" (because '2' > '1')"
   ]
  },
  {
   "cell_type": "code",
   "execution_count": 11,
   "id": "c767f739",
   "metadata": {},
   "outputs": [
    {
     "name": "stdout",
     "output_type": "stream",
     "text": [
      "False\n",
      "True\n"
     ]
    }
   ],
   "source": [
    "print('1' == 1)  # This will return False\n",
    "print('1' != 1)  # This will return True\n",
    "# print('1' > 1)    # This should return False but I received an error\n",
    "# print('1' < 1)    # This will return True\n",
    "# print('1' >= 1)  # This will return False\n",
    "# print('1' <= 1)   # This will return True"
   ]
  },
  {
   "cell_type": "markdown",
   "id": "f3891912",
   "metadata": {},
   "source": [
    "In Python2, comparing a string with an integer would return a boolean, but in Python 3, it raises a TypeError. However, if you convert the integer to a string, then the comparison will work.\n",
    "\n",
    "Generally, just compare like variables."
   ]
  },
  {
   "cell_type": "markdown",
   "id": "a6501222",
   "metadata": {},
   "source": [
    "You can also use the in operator to check if a string is in another string"
   ]
  },
  {
   "cell_type": "code",
   "execution_count": 12,
   "id": "84aa8068",
   "metadata": {},
   "outputs": [
    {
     "name": "stdout",
     "output_type": "stream",
     "text": [
      "\n",
      "True\n"
     ]
    }
   ],
   "source": [
    "print('')\n",
    "print(\"Hello\" in \"Hello World\")  # This will return True"
   ]
  },
  {
   "cell_type": "markdown",
   "id": "e25d5518",
   "metadata": {},
   "source": [
    "`+` can be used for concatenation of strings, and `*` will repeat a string"
   ]
  },
  {
   "cell_type": "code",
   "execution_count": 13,
   "id": "44158ced",
   "metadata": {},
   "outputs": [
    {
     "name": "stdout",
     "output_type": "stream",
     "text": [
      "Hello World\n",
      "Hello Hello Hello \n"
     ]
    }
   ],
   "source": [
    "print(\"Hello\" + \" \" + \"World\")  # This will return Hello World\n",
    "print(\"Hello \" * 3)  # This will return Hello Hello Hello"
   ]
  },
  {
   "cell_type": "markdown",
   "id": "5a668a19",
   "metadata": {},
   "source": [
    "However, you cannot combine strings and numbers with `+`\n",
    "\n",
    "Instead, you can convert the number to a string, or use f-strings, (equivalent to `%d` or `%2f` in Matlab)\n",
    "\n",
    "However, unlike Matlab, you call the variable within the f-string with curly braces, \n",
    "not after the string."
   ]
  },
  {
   "cell_type": "code",
   "execution_count": 14,
   "id": "34aca097",
   "metadata": {},
   "outputs": [
    {
     "name": "stdout",
     "output_type": "stream",
     "text": [
      "1+1 = 2\n",
      "2+1 = 3\n"
     ]
    }
   ],
   "source": [
    "print(\"1+1 = \" + str(1 + 1))  # This will return 1+1 = 2\n",
    "print(f\"2+1 = {2+1}\")"
   ]
  },
  {
   "cell_type": "markdown",
   "id": "c3b93d10",
   "metadata": {},
   "source": [
    "### Lesson 3: Programming with Data\n",
    "\n",
    "Reminder that you can't concatenate strings and integers directly in Python.\n",
    "\n",
    "Since we're in Python3, we should use f-strings for better readability. `print(f\"string {variables} another string\")`"
   ]
  },
  {
   "cell_type": "code",
   "execution_count": 25,
   "id": "9ff78f86",
   "metadata": {},
   "outputs": [
    {
     "name": "stdout",
     "output_type": "stream",
     "text": [
      "Beetlebug's age is 21 and height is 5.0 ft and 10.5 in.\n"
     ]
    }
   ],
   "source": [
    "# Initialize some variables\n",
    "name = \"Beetlebug\"\n",
    "age = 21\n",
    "heightInInches = 70.5\n",
    "\n",
    "# Print the variables\n",
    "# print(name + \"'s age is\" + age)\n",
    "print(f\"{name}'s age is {age} and height is {heightInInches//12} ft and {heightInInches % 12} in.\")"
   ]
  },
  {
   "cell_type": "markdown",
   "id": "98df67f8",
   "metadata": {},
   "source": [
    "### Lesson 4: Distance between Two Points"
   ]
  },
  {
   "cell_type": "markdown",
   "id": "584f8312",
   "metadata": {},
   "source": [
    "In this lesson, we're going to be using the math module for mathematical operations. Specifically, we'll be using `math.sqrt()`\n",
    "\n",
    "Something else to note is that we can assign multiple variables in a single line without requiring brackets or an array."
   ]
  },
  {
   "cell_type": "code",
   "execution_count": 16,
   "id": "4355b919",
   "metadata": {},
   "outputs": [
    {
     "name": "stdout",
     "output_type": "stream",
     "text": [
      "25\n",
      "The distance between (x: 1, y: 2) and (x: 4, y: 6) is 5.0\n"
     ]
    }
   ],
   "source": [
    "# Import the math module for mathematical operations\n",
    "import math\n",
    "\n",
    "# Initialize some variables\n",
    "x1, y1 = 1, 2 # Coordinates of the first point\n",
    "    # Unlike in Matlab, you can assign multiple variables in one line without ;\n",
    "x2, y2 = 4, 6 # Coordinates of the second point\n",
    "\n",
    "# Calculate the distance between the two points using the distance formula\n",
    "A = x2-x1\n",
    "B = y2-y1\n",
    "C2 = (A * A) + (B * B)\n",
    "print(C2) # We still need to take the square root to get the distance\n",
    "C = math.sqrt(C2)\n",
    "print(f\"The distance between (x: {x1}, y: {y1}) and (x: {x2}, y: {y2}) is {C}\")\n"
   ]
  },
  {
   "cell_type": "markdown",
   "id": "0255cfad",
   "metadata": {},
   "source": [
    "If we want to let the user input values, we can use `input()` and `float()`.\n",
    "\n",
    "`float()` will convert whatever input we receive from a string to a float value. `input()` naturally returns a string value. Additionally, any string we put into the parenthesis will be used as the call phrase for the input.\n",
    "\n",
    "Note: when we go to run the following code snippet, we will have to enter values in using the keyboard."
   ]
  },
  {
   "cell_type": "code",
   "execution_count": 17,
   "id": "9f80daa2",
   "metadata": {},
   "outputs": [
    {
     "name": "stdout",
     "output_type": "stream",
     "text": [
      "The distance between (x: 1.0, y: 4.0) and (x: 7.0, y: 12.0) is 10.0\n"
     ]
    }
   ],
   "source": [
    "# Import the math module for mathematical operations\n",
    "import math     # This is technically redundant since we already imported it above,\n",
    "                # but it's good practice to import modules at the top of the file.\n",
    "                # Additionally, if you run this code independently of the previous snippet,\n",
    "                # you will need to import the math module again.\n",
    "                \n",
    "x1 = float(input(\"Enter x1: \"))\n",
    "y1 = float(input(\"Enter y1: \"))\n",
    "x2 = float(input(\"Enter x2: \"))\n",
    "y2 = float(input(\"Enter y2: \"))\n",
    "# Recalculate the distance with user input\n",
    "A,B = x2-x1, y2-y1\n",
    "C = math.sqrt((A * A) + (B * B))\n",
    "print(f\"The distance between (x: {x1}, y: {y1}) and (x: {x2}, y: {y2}) is {C}\")"
   ]
  },
  {
   "cell_type": "markdown",
   "id": "957c1e6a",
   "metadata": {},
   "source": [
    "### Lesson 5: More with Strings"
   ]
  },
  {
   "cell_type": "code",
   "execution_count": 30,
   "id": "e281f761",
   "metadata": {},
   "outputs": [
    {
     "name": "stdout",
     "output_type": "stream",
     "text": [
      "A\n",
      "Alia\n",
      "lia \n",
      "a Feltes-DeYapp\n",
      "Alia F\n"
     ]
    }
   ],
   "source": [
    "# Start with a string\n",
    "name = \"Alia Feltes-DeYapp\"\n",
    "print(name[0])\n",
    "print(name[0:4]); print(name[1:5]) # Remember that Python starts at 0, not 1. Also use brackets to access a character in a string.\n",
    "\n",
    "# You can leave out the beginning or end index out if you're at the very beginning or end of the string\n",
    "print(name[3:])  # This will print the string from index 3 to the end\n",
    "print(name[:6])"
   ]
  },
  {
   "cell_type": "markdown",
   "id": "136538e4",
   "metadata": {},
   "source": [
    "We can also search for text inside of a string using `.find()` (gives us the first instance) & `.rfind()` gives us the last instance\n",
    "\n",
    "You can also print the variable by pausing a string by closing quotes and a comma"
   ]
  },
  {
   "cell_type": "code",
   "execution_count": 31,
   "id": "7fbee3da",
   "metadata": {},
   "outputs": [
    {
     "name": "stdout",
     "output_type": "stream",
     "text": [
      "'lia' is at position 1\n",
      "'bee' is at position -1\n",
      "3\n",
      "15\n"
     ]
    }
   ],
   "source": [
    "pos = name.find(\"lia\")\n",
    "print(\"'lia' is at position\", pos)  # This will print the position of the first occurrence of \"lia\" in the string\n",
    "print(\"'bee' is at position\", name.find(\"bee\")) # If it doesn't exist in the string, it will return -1\n",
    "\n",
    "pos2 = name.find(\"a\"); print(pos2)\n",
    "pos3 = name.rfind(\"a\"); print(pos3)\n"
   ]
  },
  {
   "cell_type": "markdown",
   "id": "7d0968aa",
   "metadata": {},
   "source": [
    "There are 2 ways that we could find the indices of every time a value is in a string.\n",
    "\n",
    "1. First off, we could import the re library `import re` and then use `re.finditer`\n",
    "2. We could use a for loop to find al indices"
   ]
  },
  {
   "cell_type": "markdown",
   "id": "22619410",
   "metadata": {},
   "source": [
    "The .count() function will say how many times a value appears in a string. It'll be case sensitive though"
   ]
  },
  {
   "cell_type": "code",
   "execution_count": 32,
   "id": "9ca58052",
   "metadata": {},
   "outputs": [
    {
     "name": "stdout",
     "output_type": "stream",
     "text": [
      "'a' appears 2 times in the string\n"
     ]
    }
   ],
   "source": [
    "numL = name.count(\"a\")  # Count is case-sensitive, so it will only count lowercase \"a\"\n",
    "print(\"'a' appears\", numL, \"times in the string\")  # This will print the number of times \"a\" appears in the string"
   ]
  },
  {
   "cell_type": "markdown",
   "id": "b40f6b54",
   "metadata": {},
   "source": [
    "If we want to find all the letters A in my name, we're going to have to make the string case insensitive. You can do this by converting the string to UPPERCASE (`.upper()`) or lowercase (`.lower()`) before counting\n",
    "\n",
    "If you're looking for a longer value, you'll want to convert the text of both to lowercase."
   ]
  },
  {
   "cell_type": "code",
   "execution_count": 33,
   "id": "c45e5388",
   "metadata": {},
   "outputs": [
    {
     "name": "stdout",
     "output_type": "stream",
     "text": [
      "'a' appears 3 times in the string (case insensitive)\n"
     ]
    }
   ],
   "source": [
    "numL2 = name.lower().count(\"a\")  # Convert the string to lowercase before counting\n",
    "print(\"'a' appears\", numL2, \"times in the string (case insensitive)\")\n",
    "    # This will print the number of times \"a\" appears in the string, case insensitive"
   ]
  },
  {
   "cell_type": "markdown",
   "id": "54524e28",
   "metadata": {},
   "source": [
    "If we want to replace a substring (part of a string), we'll use the `.replace()`"
   ]
  },
  {
   "cell_type": "code",
   "execution_count": 35,
   "id": "86675a4d",
   "metadata": {},
   "outputs": [
    {
     "name": "stdout",
     "output_type": "stream",
     "text": [
      "Query Feltes-DeYapp\n"
     ]
    }
   ],
   "source": [
    "nameReplace = name.replace(\"Alia\",\"Query\")\n",
    "print(nameReplace)"
   ]
  },
  {
   "cell_type": "markdown",
   "id": "4361a126",
   "metadata": {},
   "source": [
    "### Lesson 6: Prompting a User for Some Info (*JES* & *Python*)\n",
    "This originally was made for the [Jython Environment for Students](url:https://github.com/gatech-csl/jes). It'll be using some JES specific functions but we should be able to do most of it without JES."
   ]
  },
  {
   "cell_type": "markdown",
   "id": "6cd0db79",
   "metadata": {},
   "source": [
    "If we're in JES, we can use `requestString()` and `requestIntegerInRange()`. For Python, we'll just use `input()`.\n",
    "\n",
    "We'll also add an error loop in case we don't get a number for our age using `.isdigit()` to check if all the characters in the string are digits"
   ]
  },
  {
   "cell_type": "code",
   "execution_count": null,
   "id": "00c5491d",
   "metadata": {},
   "outputs": [
    {
     "name": "stdout",
     "output_type": "stream",
     "text": [
      "Hello H\n",
      "Please enter a valid age between 1 and 120.\n",
      "Please enter a valid age between 1 and 120.\n",
      "You are 12 years old.\n"
     ]
    }
   ],
   "source": [
    "username = input(\"Enter your name: \")\n",
    "print(\"Hello\", username)\n",
    "age = input(\"Enter your age: \")     # This is going to be a string. Let's check if it's actually an integer\n",
    "    \n",
    "while not age.isdigit():  # Keep asking for input until a valid integer is entered\n",
    "    print(\"Please enter a valid age.\")\n",
    "    age = input(\"Enter your age again: \")  # Ask for input again if the first input was invalid\n",
    "age = int(age)\n",
    "\n",
    "# while not (1 < age > 120):      # This is one way to check if the age is within a valid range. However it's comparatively slow.\n",
    "while 1 < int(age) and int(age) > 120:  # This is more efficient.\n",
    "    print(\"Please enter a valid age between 1 and 120.\")\n",
    "    age = input(\"Enter your age again: \")  # Ask for input again if the first input was invalid\n",
    "age = int(age)\n",
    "\n",
    "print(f\"You are {age} years old.\")"
   ]
  },
  {
   "cell_type": "markdown",
   "id": "2ddd23e8",
   "metadata": {},
   "source": [
    "The while loops can be combined to make the code more succinct. This sacrifices some of the readability sometimes but is still useful and often fairly necessary."
   ]
  },
  {
   "cell_type": "code",
   "execution_count": null,
   "id": "303c5463",
   "metadata": {},
   "outputs": [
    {
     "name": "stdout",
     "output_type": "stream",
     "text": [
      "Hello H\n",
      "Please enter a valid age.\n",
      "Please enter a valid age between 1 and 120.\n",
      "You are 23 years old.\n"
     ]
    }
   ],
   "source": [
    "username = input(\"Enter your name: \")\n",
    "print(\"Hello\", username)\n",
    "age = input(\"Enter your age: \")     # This is going to be a string. Let's check if it's actually an integer\n",
    "    \n",
    "while not age.isdigit() or (1 < int(age) and int(age) > 120):  # Check for valid integer and valid age range\n",
    "    if not age.isdigit():\n",
    "        print(\"Please enter a valid age.\")\n",
    "    elif (1 < int(age) and int(age) > 120):     # elseif becomes elif in Python\n",
    "        print(\"Please enter a valid age between 1 and 120.\")\n",
    "    age = input(\"Enter your age again: \")  # Ask for input again if the first input was invalid\n",
    "age = int(age)\n",
    "\n",
    "print(f\"You are {age} years old.\")"
   ]
  },
  {
   "cell_type": "markdown",
   "id": "c6b7b544",
   "metadata": {},
   "source": [
    "If you really want to you can save the strings as independent variables.\n",
    "\n",
    "Now, let's take the age variable from before and do some math."
   ]
  },
  {
   "cell_type": "code",
   "execution_count": null,
   "id": "e5e2951b",
   "metadata": {},
   "outputs": [
    {
     "name": "stdout",
     "output_type": "stream",
     "text": [
      "Hello Helvetica\n",
      "Please enter a valid age.\n",
      "Please enter a valid age between 1 and 120.\n",
      "You are 26 years old.You will be 31 years old in 5 years.\n"
     ]
    }
   ],
   "source": [
    "username = input(\"Enter your name: \")\n",
    "print(\"Hello\", username)\n",
    "age = input(\"Enter your age: \")     # This is going to be a string. Let's check if it's actually an integer\n",
    "    \n",
    "while not age.isdigit() or (1 < int(age) and int(age) > 120):  # Check for valid integer and valid age range\n",
    "    if not age.isdigit():\n",
    "        print(\"Please enter a valid age.\")\n",
    "    elif (1 < int(age) and int(age) > 120):     # elseif becomes elif in Python\n",
    "        print(\"Please enter a valid age between 1 and 120.\")\n",
    "    age = input(\"Enter your age again: \")  # Ask for input again if the first input was invalid\n",
    "age = int(age)\n",
    "\n",
    "out1 = \"You are \" +str(age) + \" years old.\"\n",
    "out2 = out1 + \" You will be \" + str(age + 5) + \" years old in 5 years.\"\n",
    "print(out2)     # In JES, you'd use showInformation instead of print."
   ]
  },
  {
   "cell_type": "markdown",
   "id": "ee2b41ca",
   "metadata": {},
   "source": [
    "### Lesson 7: Showing a Picture (*JES*)\n",
    "JES has built in functions for image, sound and video manipulation, typically held on the hard drive. Come back to this one later when you know a bit more about how Python uses images."
   ]
  },
  {
   "cell_type": "markdown",
   "id": "10726996",
   "metadata": {},
   "source": [
    "Create a variable to hold the name of a file.\n",
    "Print the pathName.\n",
    "Display the picture."
   ]
  },
  {
   "cell_type": "markdown",
   "id": "1d646e10",
   "metadata": {},
   "source": [
    "### Lesson 8: Accessing Pixels (*JES*)\n",
    "JES has built in functions for image, sound and video manipulation, typically held on the hard drive. Come back to this one later when you know a bit more about how Python uses images."
   ]
  },
  {
   "cell_type": "markdown",
   "id": "31e7a428",
   "metadata": {},
   "source": [
    "Obtain the height and width of the picture.\n",
    "Retrieve an individual pixel and find the RGB or HEX value for the pixel. Obtain the individual R, G or B values."
   ]
  },
  {
   "cell_type": "markdown",
   "id": "6bfe2653",
   "metadata": {},
   "source": [
    "### Lesson 9: Adding a Caption to a Picture (*JES*\n",
    "JES has built in functions for image, sound and video manipulation, typically held on the hard drive. Come back to this one later when you know a bit more about how Python uses images.)"
   ]
  },
  {
   "cell_type": "markdown",
   "id": "cc617657",
   "metadata": {},
   "source": [
    "Show a picture from the file system.\n",
    "Save caption text as a string.\n",
    "Specify text size, color and style of caption text.\n",
    "Specify position of caption.\n",
    "Add caption to picture."
   ]
  },
  {
   "cell_type": "markdown",
   "id": "a306c1f6",
   "metadata": {},
   "source": [
    "## Section 2 - Iterating Over Data"
   ]
  },
  {
   "cell_type": "markdown",
   "id": "1fc445fe",
   "metadata": {},
   "source": [
    "We're going to clear the variables in the notebook so that we don't accidentally get overlap across the sections. In Jupyter, we'll use `%reset -f`. We can also delete individual variables using `%reset_selective -f variable_name`\n",
    "\n",
    "In Python, there is no standard built-in command to clear all variables at once. You'll have to work in Jupyter or delete individual variables with: `del var, var1, var2`. You can also remove all user-defined variables with\n",
    "```\n",
    "for name in dir():\n",
    "    if not name.startswith('_'):\n",
    "        del globals()[name]\n",
    "```"
   ]
  },
  {
   "cell_type": "code",
   "execution_count": 1,
   "id": "83cc56b6",
   "metadata": {},
   "outputs": [],
   "source": [
    "%reset -f"
   ]
  },
  {
   "cell_type": "markdown",
   "id": "5af6ac14",
   "metadata": {},
   "source": [
    "### 2.1: Iterating Through a String"
   ]
  },
  {
   "cell_type": "markdown",
   "id": "d38d6ed4",
   "metadata": {},
   "source": [
    "The `for` loop allows for iteration over items in a sequence, not just indices. As long as there are items in a sequence, the `for` loop will iterate through each one by one.\n",
    "```\n",
    "for loop_var in sequence:\n",
    "    #code to execute\n",
    "```\n",
    "`loop_var` will be overwritten every time the loop runs. However, unlike the iterator variables in MATLAB, it will take on the value of the element in the sequence, not just count.\n",
    "\n",
    "You can still initialize empty strings outside of loops using `var = \"\"`"
   ]
  },
  {
   "cell_type": "code",
   "execution_count": 8,
   "id": "05677f4d",
   "metadata": {},
   "outputs": [
    {
     "name": "stdout",
     "output_type": "stream",
     "text": [
      "T\n",
      "Ti\n",
      "Tim\n",
      "Time\n",
      "Times\n",
      "Times \n",
      "Times R\n",
      "Times Ro\n",
      "Times Rom\n",
      "Times Roma\n",
      "Times Roman\n"
     ]
    }
   ],
   "source": [
    "name = \"Times Roman\"\n",
    "phrase = \"\"  # Initialize an empty string to store the phrase\n",
    "\n",
    "for letter in name:     # Remember to end loops with a colon, :\n",
    "    # Indentation defines the block code that belongs to the loop.\n",
    "    # You can use spaces or tabs for indentation, but be consistent throughout your code.\n",
    "    phrase = phrase + letter\n",
    "    print(phrase)\n",
    "    "
   ]
  },
  {
   "cell_type": "markdown",
   "id": "8a7a87fc",
   "metadata": {},
   "source": [
    "What if we wanted to invert the for loop and delete a letter in each line? First, let's have determine the length of the string using `len()`. Then we'll remove 1 letter at a time from the string by reducing the range we want to print each time."
   ]
  },
  {
   "cell_type": "code",
   "execution_count": 9,
   "id": "22024e7f",
   "metadata": {},
   "outputs": [
    {
     "name": "stdout",
     "output_type": "stream",
     "text": [
      "Times Roma\n",
      "Times Rom\n",
      "Times Ro\n",
      "Times R\n",
      "Times \n",
      "Times\n",
      "Time\n",
      "Tim\n",
      "Ti\n",
      "T\n",
      "\n"
     ]
    }
   ],
   "source": [
    "for loopvar in phrase:\n",
    "    phrase = phrase[0:len(phrase)-1]\n",
    "    print(phrase)"
   ]
  },
  {
   "cell_type": "markdown",
   "id": "f72582d4",
   "metadata": {},
   "source": [
    "### 2.2: Lists and Iteration"
   ]
  },
  {
   "cell_type": "markdown",
   "id": "93a66a78",
   "metadata": {},
   "source": [
    "Strings are a collection of individual characters.\n",
    "\n",
    "A list is a collection that can hold any type of data. It works more like cells or structs from MATLAB as it can hold multiple different types of data in it, rather than an array. However, lists are initialized using the square brackets.\n",
    "\n",
    "We'll test this out by creating a list of names."
   ]
  },
  {
   "cell_type": "code",
   "execution_count": 19,
   "id": "81fa4c8f",
   "metadata": {},
   "outputs": [
    {
     "name": "stdout",
     "output_type": "stream",
     "text": [
      "Alia FD\n",
      "Beetlebug\n",
      "Query\n",
      "Times Roman\n"
     ]
    }
   ],
   "source": [
    "names = [\"Alia FD\", \"Beetlebug\", \"Query\", \"Times Roman\"]\n",
    "for name in names:\n",
    "    print(name)"
   ]
  },
  {
   "cell_type": "markdown",
   "id": "9c2b3815",
   "metadata": {},
   "source": [
    "Now let's add more elements to the list. We'll do this using `.append(newVar)`. After that, let's also return the length of each name.\n",
    "\n",
    "We'll also reset the names list so that we don't add more elements than we're expecting. Python uses a \"half-open interval\" meaning that when you're defining a range, it includes the starting index but doesn't include the end index. You'll have to add an extra index value if we want to keep the whole "
   ]
  },
  {
   "cell_type": "code",
   "execution_count": 23,
   "id": "aa2908a6",
   "metadata": {},
   "outputs": [
    {
     "name": "stdout",
     "output_type": "stream",
     "text": [
      "Indexed 0:3 = ['Alia FD', 'Beetlebug', 'Query']\n",
      "Indexed 0:4 = ['Alia FD', 'Beetlebug', 'Query', 'Times Roman']\n",
      "Alia FD, length: 7\n",
      "Beetlebug, length: 9\n",
      "Query, length: 5\n",
      "Times Roman, length: 11\n",
      "Theresa FD, length: 10\n",
      "Clarity DeYapp, length: 14\n"
     ]
    }
   ],
   "source": [
    "names1 = names[0:3]  # This slices the list. It has 4 indices but will only keep the first 3 elements.\n",
    "print(f\"Indexed 0:3 = {names1}\")\n",
    "names = names[0:4]  # This will keep the first 4 elements of the list\n",
    "print(f\"Indexed 0:4 = {names}\")\n",
    "\n",
    "names.append(\"Theresa FD\")\n",
    "names.append(\"Clarity DeYapp\")\n",
    "\n",
    "for name in names:\n",
    "    print(f\"{name}, length: {len(name)}\")"
   ]
  },
  {
   "cell_type": "markdown",
   "id": "be159039",
   "metadata": {},
   "source": [
    "Now lets make a list that can hold lists. It works exactly like a cell array but with square brackets instead."
   ]
  },
  {
   "cell_type": "code",
   "execution_count": 26,
   "id": "560ad453",
   "metadata": {},
   "outputs": [
    {
     "name": "stdout",
     "output_type": "stream",
     "text": [
      "Alia FD's age is 23.\n",
      "Beetlebug's age is 25.\n",
      "Query's age is 26.\n",
      "Times Roman's age is 27.\n"
     ]
    }
   ],
   "source": [
    "namesAndBirthYears = [[\"Alia FD\", 2002], [\"Beetlebug\", 2000], [\"Query\", 1999], [\"Times Roman\", 1998]]\n",
    "currentYear = 2025\n",
    "\n",
    "for name_birth_year in namesAndBirthYears:\n",
    "    print(f\"{name_birth_year[0]}'s age is {currentYear - name_birth_year[1]}.\")"
   ]
  },
  {
   "cell_type": "markdown",
   "id": "f449f475",
   "metadata": {},
   "source": [
    "### 2.3: Splitting Strings"
   ]
  },
  {
   "cell_type": "markdown",
   "id": "4d06cfad",
   "metadata": {},
   "source": [
    "Lets use the `split()` string function to split a string into smaller sub-strings. Keep in mind that `split()` belongs to the string type."
   ]
  },
  {
   "cell_type": "code",
   "execution_count": 29,
   "id": "5e97ecf1",
   "metadata": {},
   "outputs": [
    {
     "name": "stdout",
     "output_type": "stream",
     "text": [
      "Do (length: 2)\n",
      "one (length: 3)\n",
      "thing (length: 5)\n",
      "every (length: 5)\n",
      "day (length: 3)\n",
      "that (length: 4)\n",
      "scares (length: 6)\n",
      "you. (length: 4)\n",
      "- (length: 1)\n",
      "Eleanor (length: 7)\n",
      "Roosevelt (length: 9)\n"
     ]
    }
   ],
   "source": [
    "famous_quote = \"Do one thing every day that scares you. - Eleanor Roosevelt\"\n",
    "# Split the string into a list of words. We're using \" \" to indicate a space delimiter.\n",
    "words = famous_quote.split(\" \")\n",
    "for word in words:\n",
    "    print(word + \" (length: \" + str(len(word)) + \")\")"
   ]
  },
  {
   "cell_type": "markdown",
   "id": "832cef06",
   "metadata": {},
   "source": [
    "### 2.4: Ranges\n",
    "Just a formal introduction to `range()`"
   ]
  },
  {
   "cell_type": "code",
   "execution_count": 30,
   "id": "39579079",
   "metadata": {},
   "outputs": [
    {
     "name": "stdout",
     "output_type": "stream",
     "text": [
      "1\n",
      "2\n",
      "3\n",
      "4\n"
     ]
    }
   ],
   "source": [
    "for number in range(1,5):  # This will iterate from 1 to 4 (5 is not included)\n",
    "    print(number)"
   ]
  },
  {
   "cell_type": "markdown",
   "id": "ff657112",
   "metadata": {},
   "source": [
    "`range()` is rather similar to `linspace()`. You can pass in 3 values: `range(start,end,n)`. If you only pass in one value however, the range will step by 1 from 0:the single value you gave."
   ]
  },
  {
   "cell_type": "code",
   "execution_count": null,
   "id": "211e1b86",
   "metadata": {},
   "outputs": [
    {
     "name": "stdout",
     "output_type": "stream",
     "text": [
      "1\n",
      "3\n",
      "5\n",
      "7\n",
      "9\n",
      "11\n",
      "13\n"
     ]
    }
   ],
   "source": [
    "for number in range(1,14,2):  # This will iterate from 1 to 13, stepping by 2\n",
    "    # Remember that the range function won't include the end value.\n",
    "    print(number)"
   ]
  },
  {
   "cell_type": "markdown",
   "id": "6c1d055d",
   "metadata": {},
   "source": [
    "Ranges of course can be used in for loops like in MATLAB. They also work for lists."
   ]
  },
  {
   "cell_type": "code",
   "execution_count": 46,
   "id": "5d0b4c0d",
   "metadata": {},
   "outputs": [
    {
     "name": "stdout",
     "output_type": "stream",
     "text": [
      "lveti\n",
      "\n",
      "Hleia\n",
      "\n",
      "evtc\n",
      "\n",
      "Name 1: Buddy (ID: 0)\n",
      "Name 2: Patrick (ID: 1)\n",
      "Name 3: Willy (ID: 2)\n",
      "Name 4: Juan Pablo (ID: 3)\n"
     ]
    }
   ],
   "source": [
    "name = \"Helvetica\"\n",
    "queue = \"\"\n",
    "for index in range(2,7):  # This will iterate from 2 to 6 (7 is not included)\n",
    "    queue += name[index]\n",
    "print(queue + \"\\n\"); queue = \"\"  # This will print the characters at indices 2 to 6 of the string \"Helvetica\"\n",
    "\n",
    "for index in range(0,len(name),2):\n",
    "    queue += name[index]\n",
    "print(queue + \"\\n\"); queue = \"\" \n",
    "\n",
    "for index in range(1,len(name),2):\n",
    "    queue += name[index]\n",
    "print(queue + \"\\n\")\n",
    "\n",
    "kids_and_cats = [\"Buddy\", \"Patrick\", \"Willy\", \"Juan Pablo\"]\n",
    "# Since we're starting at the beginning of the list, we don't need to specify a start index\n",
    "for index in range(len(kids_and_cats)):\n",
    "    print(f\"Name {index + 1}: {kids_and_cats[index]} (ID: {index})\")"
   ]
  },
  {
   "cell_type": "markdown",
   "id": "db6b5eec",
   "metadata": {},
   "source": [
    "### 2.5: Reading from a File"
   ]
  },
  {
   "cell_type": "markdown",
   "id": "18c8f5d0",
   "metadata": {},
   "source": [
    "Let's read in data from a file, \"The Tiger.txt\". Open the file with `open(\"path_name\",\"r\")` in which \"r\" means that we're reading from the file, not writing to it. Then read the file into a variable."
   ]
  },
  {
   "cell_type": "code",
   "execution_count": 51,
   "id": "53d2558d",
   "metadata": {},
   "outputs": [
    {
     "name": "stdout",
     "output_type": "stream",
     "text": [
      "The tiger\n",
      "He destroyed his cage\n",
      "Yes\n",
      "YES\n",
      "The tiger is out\n",
      "- Nael, age 6\n"
     ]
    }
   ],
   "source": [
    "file = open(\"The Tiger.txt\",\"r\")    # We're in the same folder as the file, so we're just calling the file name.\n",
    "\n",
    "text = file.read()  # Read the entire file into a string\n",
    "print(text)  # Print the contents of the file"
   ]
  },
  {
   "cell_type": "markdown",
   "id": "6c023d6c",
   "metadata": {},
   "source": [
    "We can also tell the file object to read individual lines of text using `.readlines()`. This will  read the file into a list instead of a string."
   ]
  },
  {
   "cell_type": "code",
   "execution_count": null,
   "id": "bb51c018",
   "metadata": {},
   "outputs": [
    {
     "name": "stdout",
     "output_type": "stream",
     "text": [
      "The tiger\n",
      "\n",
      "He destroyed his cage\n",
      "\n",
      "Yes\n",
      "\n",
      "YES\n",
      "\n",
      "The tiger is out\n",
      "\n",
      "- Nael, age 6\n",
      "\n",
      "The tiger\n",
      "He destroyed his cage\n",
      "Yes\n",
      "YES\n",
      "The tiger is out\n",
      "- Nael, age 6\n"
     ]
    }
   ],
   "source": [
    "# Jupyter is weird about reading this file, so we're opening it again. This wouldn't typically be needed.\n",
    "file = open(\"The Tiger.txt\",\"r\")    # We're in the same folder as the file, so we're just calling the file name.\n",
    "text_lines = file.readlines()  # Read the file into a list of lines\n",
    "\n",
    "for line in text_lines:\n",
    "    print(line)\n",
    "print()\n",
    "for line in text_lines:\n",
    "    print(line.strip()) # This will remove the leading and trailing whitespace from each line\n",
    "    # An alternative to this is to use the `rstrip()` method, which only removes trailing whitespace\n",
    "    # or to use `print(line, end=\"\")` to print the line without a newline character at the end.\n",
    "    \n",
    "file.close()  # Close the file when you're done with it to free up system resources\n",
    "# Jupyter automatically closes the file when the cell is done executing, but it's good practice to close files explicitly."
   ]
  },
  {
   "cell_type": "markdown",
   "id": "8eff1968",
   "metadata": {},
   "source": [
    "Lets add some numbers to each line using an integer variable."
   ]
  },
  {
   "cell_type": "code",
   "execution_count": null,
   "id": "12a258c5",
   "metadata": {},
   "outputs": [
    {
     "name": "stdout",
     "output_type": "stream",
     "text": [
      "1. The tiger\n",
      "2. He destroyed his cage\n",
      "3. Yes\n",
      "4. YES\n",
      "5. The tiger is out\n",
      "6. - Nael, age 6\n"
     ]
    }
   ],
   "source": [
    "file = open(\"The Tiger.txt\",\"r\")    # We're in the same folder as the file, so we're just calling the file name.\n",
    "\n",
    "line_number = 1  # Initialize a line number counter\n",
    "text_lines = file.readlines()  # Read the file into a list of lines\n",
    "for line in text_lines:\n",
    "    print(f\"{line_number}. {line.strip()}\")  # Print the line number and the line content\n",
    "    line_number += 1  # Increment the line number counter\n",
    "    \n",
    "file.close()  # Close the file when you're done with it to free up system resources"
   ]
  },
  {
   "cell_type": "markdown",
   "id": "f449817a",
   "metadata": {},
   "source": [
    "### 2.6: Writing to a File"
   ]
  },
  {
   "cell_type": "markdown",
   "id": "09d84f69",
   "metadata": {},
   "source": [
    "This time we'll write to a new file of our making. We'll use `open(\"path_name\",\"w\")`"
   ]
  },
  {
   "cell_type": "code",
   "execution_count": 61,
   "id": "2aadd40e",
   "metadata": {},
   "outputs": [],
   "source": [
    "file = open(\"The Tiger.txt\",\"r\")\n",
    "numbered_file = open(\"The Tiger Numbered.txt\", \"w\") # This will a new file to write the numbered lines\n",
    "\n",
    "line_number = 1\n",
    "text_lines = file.readlines()\n",
    "for line in text_lines:\n",
    "    # Instead of printing the line to the console, we're going to write to our new file.\n",
    "    numbered_file.write(f\"{str(line_number)}. {line}\")  # Write the line number and the line content to the new file\n",
    "    line_number += 1\n",
    "    \n",
    "file.close()\n",
    "numbered_file.close()"
   ]
  },
  {
   "cell_type": "markdown",
   "id": "adfb8030",
   "metadata": {},
   "source": [
    "### 2.7: Iterating Through Pixels (*JES*)"
   ]
  },
  {
   "cell_type": "markdown",
   "id": "5a585e71",
   "metadata": {},
   "source": [
    "### 2.8: Greying an Image (*JES*)"
   ]
  },
  {
   "cell_type": "markdown",
   "id": "84895133",
   "metadata": {},
   "source": [
    "### 2.9: Copying an Image (*JES*)"
   ]
  },
  {
   "cell_type": "markdown",
   "id": "5f88595a",
   "metadata": {},
   "source": [
    "### 2.10: Enlarging a Picture (*JES*)"
   ]
  },
  {
   "cell_type": "markdown",
   "id": "d8d05b91",
   "metadata": {},
   "source": [
    "## Section 3 - Conditions with `if` and `while`"
   ]
  },
  {
   "cell_type": "code",
   "execution_count": null,
   "id": "1378fd0f",
   "metadata": {},
   "outputs": [],
   "source": [
    "%reset -f"
   ]
  },
  {
   "cell_type": "markdown",
   "id": "41d40c74",
   "metadata": {},
   "source": [
    "### 3.1: Comparisons by the Computer"
   ]
  },
  {
   "cell_type": "markdown",
   "id": "60bf7f38",
   "metadata": {},
   "source": [
    "You can use the booleans `True` and `False` in python.\n",
    "\n",
    "Values can be compared using the logical operators: `>, <, >=, <=, ==, and !=`\n",
    "\n",
    "Logical operators also work with strings. They will evaluate where the word comes lexographically (which comes first alphobetically and in ASCII)"
   ]
  },
  {
   "cell_type": "code",
   "execution_count": 2,
   "id": "4d8cea8f",
   "metadata": {},
   "outputs": [
    {
     "name": "stdout",
     "output_type": "stream",
     "text": [
      "True\n",
      "False\n"
     ]
    }
   ],
   "source": [
    "true_false_value = (1 + 4) >= (5 - 2)\n",
    "print(true_false_value)  # This will print True\n",
    "\n",
    "word_1 = \"Hello\"\n",
    "word_2 = \"World\"\n",
    "true_false_value = word_1 > word_2\n",
    "print(true_false_value)"
   ]
  },
  {
   "cell_type": "markdown",
   "id": "c62d1193",
   "metadata": {},
   "source": [
    "### 3.2: `if`, `if/else`, `if/elif/else` statements"
   ]
  },
  {
   "cell_type": "markdown",
   "id": "c2871a29",
   "metadata": {},
   "source": [
    "Python uses `if`, `elif`, and `else` in if/else statements. However, we're used to this already with `C++`. And of course you can nest if/else statements\n",
    "\n",
    "We're going to make this example a bit more interesting by introducing a random element to it using the **numpy library**."
   ]
  },
  {
   "cell_type": "code",
   "execution_count": 10,
   "id": "aecae1c6",
   "metadata": {},
   "outputs": [
    {
     "name": "stdout",
     "output_type": "stream",
     "text": [
      "x is less than 5\n"
     ]
    }
   ],
   "source": [
    "import numpy as np\n",
    "\n",
    "x = np.random.randint(1,11)  # Generate a random integer between 1 and 10 (includes 1, excludes 11)\n",
    "\n",
    "if x == 5:  # This will check if x is equal to 5\n",
    "    print(\"x is equal to 5\")  # This will print if the condition is true\n",
    "elif x < 5:\n",
    "    print(\"x is less than 5\")\n",
    "else:\n",
    "    print(\"x is greater than 5\")"
   ]
  },
  {
   "cell_type": "markdown",
   "id": "def2e6f9",
   "metadata": {},
   "source": [
    "### 3.3: Logical Operators"
   ]
  },
  {
   "cell_type": "markdown",
   "id": "3c85665b",
   "metadata": {},
   "source": [
    "There are three logical operators that fall outside of the numerical operators (>, <, >=, <=, ==, !=). They are `and`, `or` and `not`. There are no symbolic operators for these logical operators and you must spell them out.\n",
    "\n",
    "I was bored with the scenario that the tutorial gave me so instead we're doing this one:\n",
    "* Write a program for discounts at a movie theater.\n",
    "* The person has to be under 18 or have a valid student ID\n",
    "* The movie is only available for 12+\n",
    "* If eligible, print \"Discount applied\". If not, print \"No discount available\". If too young, print \"Movie unavailable. Please choose a different movie.\""
   ]
  },
  {
   "cell_type": "code",
   "execution_count": 16,
   "id": "d61f950e",
   "metadata": {},
   "outputs": [
    {
     "name": "stdout",
     "output_type": "stream",
     "text": [
      "Discount applied to ticket for Alice. 16 0\n",
      "Discount applied to ticket for Bob. 13 1\n",
      "Discount applied to ticket for Charlie. 20 1\n",
      "Movie unavailable for Diana. Please choose another movie.\n",
      "Discount applied to ticket for Edward. 12 0\n"
     ]
    }
   ],
   "source": [
    "import numpy as np\n",
    "\n",
    "# List of people in line at theater. Age. ID.\n",
    "people_in_line = [\n",
    "    [\"Alice\", np.random.randint(8,25), np.random.randint(0,2)],\n",
    "    [\"Bob\", np.random.randint(8,25), np.random.randint(0,2)],\n",
    "    [\"Charlie\", np.random.randint(8,25), np.random.randint(0,2)],\n",
    "    [\"Diana\", np.random.randint(8,25), np.random.randint(0,2)],\n",
    "    [\"Edward\", np.random.randint(8,25), np.random.randint(0,2)],\n",
    "]\n",
    "\n",
    "for person in people_in_line:\n",
    "    name, age, id = person  # Unpack the list into variables\n",
    "    if age < 12:\n",
    "        print(f\"Movie unavailable for {name}. Please choose another movie.\")\n",
    "    elif (12 <= age <= 18) or (id == 1):\n",
    "        print(f\"Discount applied to ticket for {name}.\")\n",
    "    else:\n",
    "        print(f\"No discount available for {name}.\")"
   ]
  },
  {
   "cell_type": "markdown",
   "id": "a3e0f7f4",
   "metadata": {},
   "source": [
    "### 3.4: Loops"
   ]
  },
  {
   "cell_type": "markdown",
   "id": "feb7bc88",
   "metadata": {},
   "source": [
    "We've used `for` loops a decent amount in the tutorial so far. However, we haven't gotten a lot of use with `while` loops so that will be the focus of this example.\n",
    "\n",
    "To start off, we'll typically initialize a counter that we will iterate upon every loop. Also verify that you didn't build an infinite loop.\n"
   ]
  },
  {
   "cell_type": "code",
   "execution_count": 17,
   "id": "cfc642f3",
   "metadata": {},
   "outputs": [
    {
     "name": "stdout",
     "output_type": "stream",
     "text": [
      "Counter: 1\n",
      "Counter: 2\n",
      "Counter: 3\n",
      "Counter: 4\n",
      "Counter: 5\n"
     ]
    }
   ],
   "source": [
    "counter = 1\n",
    "\n",
    "while counter <= 5:\n",
    "    print(f\"Counter: {counter}\")\n",
    "    counter += 1  # Increment the counter by 1"
   ]
  },
  {
   "cell_type": "markdown",
   "id": "eee9ae7c",
   "metadata": {},
   "source": [
    "This time, use nested `while` loops to count from 0 to a random integer."
   ]
  },
  {
   "cell_type": "code",
   "execution_count": 29,
   "id": "4412d360",
   "metadata": {},
   "outputs": [
    {
     "name": "stdout",
     "output_type": "stream",
     "text": [
      "Counting up to 15\n",
      "00 01 02 03 04 05 06 07 08 09 \n",
      "10 11 12 13 14 15 \n"
     ]
    }
   ],
   "source": [
    "import numpy as np\n",
    "count_up_to = np.random.randint(10, 100)  # Random number between 10 and 99\n",
    "print(f\"Counting up to {count_up_to}\")\n",
    "\n",
    "tens = 0\n",
    "ones = 0\n",
    "total = 0\n",
    "\n",
    "while total <= count_up_to:\n",
    "    row_text = \"\"\n",
    "    ones = 0\n",
    "    while ones < 10 and total <= count_up_to:\n",
    "        row_text = row_text + str(tens) + str(ones) + \" \"\n",
    "        ones += 1\n",
    "        total += 1\n",
    "    print(row_text)\n",
    "    tens += 1\n",
    "           "
   ]
  },
  {
   "cell_type": "markdown",
   "id": "ab9b0706",
   "metadata": {},
   "source": [
    "### 3.5: Adding a Border to a Picture (*JES*)"
   ]
  },
  {
   "cell_type": "markdown",
   "id": "bed2477e",
   "metadata": {},
   "source": [
    "### 3.6: Finding the Predominant Color in a Row (*JES*)"
   ]
  },
  {
   "cell_type": "markdown",
   "id": "23e67f24",
   "metadata": {},
   "source": [
    "## Section 4 - Data Containers"
   ]
  },
  {
   "cell_type": "code",
   "execution_count": null,
   "id": "6de81190",
   "metadata": {},
   "outputs": [],
   "source": [
    "%reset -f"
   ]
  },
  {
   "cell_type": "markdown",
   "id": "00d346b0",
   "metadata": {},
   "source": [
    "### 4.1: Python Lists"
   ]
  },
  {
   "cell_type": "markdown",
   "id": "5cfb96fb",
   "metadata": {},
   "source": [
    "Let's look further into lists. Lists can hold heterogeneous types of data including other lists.\n",
    "\n",
    "You can obtain the number of elements with `len()` and add to the end of a list with `.append()`."
   ]
  },
  {
   "cell_type": "code",
   "execution_count": 32,
   "id": "f83e5df7",
   "metadata": {},
   "outputs": [
    {
     "name": "stdout",
     "output_type": "stream",
     "text": [
      "The list has 4 elements in it\n",
      "The list now has 5 elements in it\n",
      "\n",
      "['Boeing 747', 'Airbus A380', 'Boeing 777', 'Airbus A350', 'Cesna 172']\n"
     ]
    }
   ],
   "source": [
    "airplane_models = [\"Boeing 747\", \"Airbus A380\", \"Boeing 777\", \"Airbus A350\"]\n",
    "print(f\"The list has {len(airplane_models)} elements in it\")\n",
    "\n",
    "new_airplane_model = \"Cesna 172\"\n",
    "airplane_models.append(new_airplane_model)\n",
    "print(f\"The list now has {len(airplane_models)} elements in it\")\n",
    "print()\n",
    "print(airplane_models)"
   ]
  },
  {
   "cell_type": "markdown",
   "id": "e8ef1331",
   "metadata": {},
   "source": [
    "To index into the list, use the square brackets. Use `len()` to check the length of the list before indexing to avoid getting an IndexError"
   ]
  },
  {
   "cell_type": "code",
   "execution_count": 38,
   "id": "1bdc5068",
   "metadata": {},
   "outputs": [
    {
     "name": "stdout",
     "output_type": "stream",
     "text": [
      "Airplane 5 is the Cesna 172\n"
     ]
    }
   ],
   "source": [
    "import numpy as np\n",
    "\n",
    "airplane_models = [\"Boeing 747\", \"Airbus A380\", \"Boeing 777\", \"Airbus A350\", \"Cesna 172\"]\n",
    "index = np.random.randint(0,len(airplane_models))\n",
    "print(f\"Airplane {index + 1} is the {airplane_models[index]}\")"
   ]
  },
  {
   "cell_type": "markdown",
   "id": "f37a73c9",
   "metadata": {},
   "source": [
    "You can check for items in the list using the `in` operator."
   ]
  },
  {
   "cell_type": "code",
   "execution_count": 44,
   "id": "8cfe9ca2",
   "metadata": {},
   "outputs": [
    {
     "name": "stdout",
     "output_type": "stream",
     "text": [
      "Boeing 747 is in the list\n",
      "Aero Super Guppy is not in the list\n"
     ]
    }
   ],
   "source": [
    "airplane_models = [\"Boeing 747\", \"Airbus A380\", \"Boeing 777\", \"Airbus A350\", \"Cesna 172\"]\n",
    "\n",
    "if \"Boeing 747\" in airplane_models:\n",
    "    print(\"Boeing 747 is in the list\")\n",
    "else:\n",
    "    print(\"Boeing 747 is not in the list\")\n",
    "\n",
    "if \"Aero Super Guppy\" in airplane_models:\n",
    "    print(\"Aero Super Guppy is in the list\")\n",
    "else:\n",
    "    print(\"Aero Super Guppy is not in the list\")"
   ]
  },
  {
   "cell_type": "markdown",
   "id": "6409734a",
   "metadata": {},
   "source": [
    "Practice slicing the list, aka grabbing a portion of the list."
   ]
  },
  {
   "cell_type": "code",
   "execution_count": 45,
   "id": "9508fd97",
   "metadata": {},
   "outputs": [
    {
     "name": "stdout",
     "output_type": "stream",
     "text": [
      "The first 3 aircraft are ['Boeing 747', 'Airbus A380', 'Boeing 777']\n",
      "The last 3 aircraft are ['Boeing 777', 'Airbus A350', 'Cesna 172']\n",
      "The last 2 aircraft are ['Airbus A350', 'Cesna 172']\n",
      "The middle aircraft are ['Airbus A380', 'Boeing 777', 'Airbus A350']\n"
     ]
    }
   ],
   "source": [
    "airplane_models = [\"Boeing 747\", \"Airbus A380\", \"Boeing 777\", \"Airbus A350\", \"Cesna 172\"]\n",
    "\n",
    "print(f\"The first 3 aircraft are {airplane_models[:3]}\")\n",
    "print(f\"The last 3 aircraft are {airplane_models[len(airplane_models)-3:]}\")\n",
    "# This ^ was one way to specify that we wanted the last 3 elements. However, there is an easier way\n",
    "print(f\"The last 2 aircraft are {airplane_models[-2:]}\")    # This tells the list to start at the end\n",
    "print(f\"The middle aircraft are {airplane_models[1:-1]}\")   # This removes the first & last elements"
   ]
  },
  {
   "cell_type": "markdown",
   "id": "efbeca50",
   "metadata": {},
   "source": [
    "As mentioned earlier, lists can hold elements of different types, as well as other lists."
   ]
  },
  {
   "cell_type": "code",
   "execution_count": 50,
   "id": "d9797a9f",
   "metadata": {},
   "outputs": [
    {
     "name": "stdout",
     "output_type": "stream",
     "text": [
      "['string', 0.2, True]\n",
      "\n",
      "List size: 3\n",
      "['string', 0.2, True]\n",
      "List size: 5\n",
      "['Boeing 747', 'Airbus A380', 'Boeing 777', 'Airbus A350', 'Cesna 172']\n",
      "List size: 0\n",
      "[]\n",
      "List size: 3\n",
      "['Alice', 'Kate', 'Charlotte']\n",
      "List size: 2\n",
      "['hello', 'world']\n"
     ]
    }
   ],
   "source": [
    "heterogeneous_list = [\"string\", 0.2, True]\n",
    "\n",
    "print(heterogeneous_list)\n",
    "print()\n",
    "\n",
    "airplane_models = [\"Boeing 747\", \"Airbus A380\", \"Boeing 777\", \"Airbus A350\", \"Cesna 172\"]\n",
    "people = [\"Alice\",\"Kate\",\"Charlotte\"]\n",
    "list_of_lists = [heterogeneous_list, airplane_models,[],people,[\"hello\",\"world\"]]\n",
    "\n",
    "for list in list_of_lists:\n",
    "    print(f\"List size: {len(list)}\")\n",
    "    print(list)"
   ]
  },
  {
   "cell_type": "markdown",
   "id": "bf0c8908",
   "metadata": {},
   "source": [
    "### 4.2: Python Dictionaries"
   ]
  },
  {
   "cell_type": "markdown",
   "id": "e1e41029",
   "metadata": {},
   "source": [
    "Python dictionaries hold key and value pairs, similar to traditional dictionaries.\n",
    "\n",
    "Unlike lists, the index used to store and retrieve values does not have to be an integer. It can be any valid type such as a string. Lists are recommended for storing and processing every item in a single instance, such as with a `for` loop. Dictionaries are useful for stroing items and retrieving them individually. In this way lists are comparable to cells and dictionaries are comparable to structs.\n",
    "\n",
    "Lists are created using square brackets []. Dictionaries are creatued using curly brackets {}. In this way they actually are more similar to array v. cell formatting from MATLAB."
   ]
  },
  {
   "cell_type": "code",
   "execution_count": null,
   "id": "41c1dda0",
   "metadata": {},
   "outputs": [],
   "source": [
    "# Dictonary with student grades\n",
    "# Key: Student's name. Value: grade\n",
    "\n",
    "grades = {\"Laura\": 98, \"Buddy\": 94, \"Patrick\": 95}"
   ]
  },
  {
   "cell_type": "markdown",
   "id": "9739f50e",
   "metadata": {},
   "source": [
    "Items in a dictionary follow this pattern\n",
    "`key: value`\n",
    "\n",
    "A key always comes first followed by a value. In this case, our key is a string and the value is an integer.\n",
    "\n",
    "The key acts as an index for the dictionary value. As such it can be called as a variable or explicitly"
   ]
  },
  {
   "cell_type": "code",
   "execution_count": 2,
   "id": "d68bc122",
   "metadata": {},
   "outputs": [
    {
     "name": "stdout",
     "output_type": "stream",
     "text": [
      "Laura earned a 98 on the last test.\n",
      "Buddy earned a 94 on the last test.\n"
     ]
    }
   ],
   "source": [
    "grades = {\"Laura\": 98, \"Buddy\": 94, \"Patrick\": 95}\n",
    "student_name = \"Buddy\"\n",
    "\n",
    "print(f\"Laura earned a {grades['Laura']} on the last test.\")\n",
    "print(f\"{student_name} earned a {grades[student_name]} on the last test.\")"
   ]
  },
  {
   "cell_type": "markdown",
   "id": "3d81a560",
   "metadata": {},
   "source": [
    "You can add values to a dictionary once created a/o initialized. To do this, you create a key in the dictionary and save the value to the key: `variable_name[\"key\"] = value`"
   ]
  },
  {
   "cell_type": "code",
   "execution_count": 4,
   "id": "00792b2a",
   "metadata": {},
   "outputs": [
    {
     "name": "stdout",
     "output_type": "stream",
     "text": [
      "Mark earned a 85 on the last test.\n"
     ]
    }
   ],
   "source": [
    "grades[\"Mark\"] = 85\n",
    "student_name = \"Mark\"\n",
    "print(f\"{student_name} earned a {grades[student_name]} on the last test.\")"
   ]
  },
  {
   "cell_type": "markdown",
   "id": "f9cec64e",
   "metadata": {},
   "source": [
    "You cannot retrieve a value that is not assigned to a key from a dictionary.\n",
    "\n",
    "An alternative to indexing with square brackets, you can use the `.get()` function. If the key does not exist, the function with return the value `None` rather than crashing with an error message."
   ]
  },
  {
   "cell_type": "code",
   "execution_count": 5,
   "id": "78519c94",
   "metadata": {},
   "outputs": [
    {
     "name": "stdout",
     "output_type": "stream",
     "text": [
      "Pablo earned a None on the last test.\n"
     ]
    }
   ],
   "source": [
    "student_name = \"Pablo\"\n",
    "print(f\"{student_name} earned a {grades.get(student_name)} on the last test.\")"
   ]
  },
  {
   "cell_type": "markdown",
   "id": "822f59e8",
   "metadata": {},
   "source": [
    "The `in` operator can tell if a key is present in the dictionary, returning a bool."
   ]
  },
  {
   "cell_type": "code",
   "execution_count": 7,
   "id": "eba4afc8",
   "metadata": {},
   "outputs": [
    {
     "name": "stdout",
     "output_type": "stream",
     "text": [
      "Laura earned a 98 on the last test.\n",
      "Buddy earned a 94 on the last test.\n",
      "Patrick earned a 95 on the last test.\n",
      "Pablo in NOT in dictionary 'grades'\n"
     ]
    }
   ],
   "source": [
    "grades = {\"Laura\": 98, \"Buddy\": 94, \"Patrick\": 95}\n",
    "name_list = \"Laura\", \"Buddy\", \"Patrick\", \"Pablo\"\n",
    "\n",
    "for name in name_list:\n",
    "    student_name = name\n",
    "    \n",
    "    if student_name in grades:\n",
    "        print(f\"{student_name} earned a {grades[student_name]} on the last test.\")\n",
    "    else:\n",
    "        print(f\"{student_name} in NOT in dictionary 'grades'\")\n",
    "\n"
   ]
  },
  {
   "cell_type": "markdown",
   "id": "6c9d86d0",
   "metadata": {},
   "source": [
    "If you want all of the values without any of the keys, you can use the `.values()` function and vv with the `.keys()` function"
   ]
  },
  {
   "cell_type": "code",
   "execution_count": 10,
   "id": "286ca387",
   "metadata": {},
   "outputs": [
    {
     "name": "stdout",
     "output_type": "stream",
     "text": [
      "values: 98\n",
      "values: 94\n",
      "values: 95\n",
      "key: Laura\n",
      "key: Buddy\n",
      "key: Patrick\n"
     ]
    }
   ],
   "source": [
    "all_values = grades.values()\n",
    "for values in all_values:\n",
    "    print(f\"values: {values}\")\n",
    "\n",
    "all_keys = grades.keys()\n",
    "for key in all_keys:\n",
    "    print(\"key: \" + key)"
   ]
  },
  {
   "cell_type": "markdown",
   "id": "fee30694",
   "metadata": {},
   "source": [
    "Python has a built-in function that sorts collections of data. `sorted()` returns a list with values in ascending order. In this case, let's put the keys in order"
   ]
  },
  {
   "cell_type": "code",
   "execution_count": 12,
   "id": "1900cc5a",
   "metadata": {},
   "outputs": [
    {
     "name": "stdout",
     "output_type": "stream",
     "text": [
      "Alphabetical Keys\n",
      "key: Buddy\n",
      "key: Laura\n",
      "key: Patrick\n"
     ]
    }
   ],
   "source": [
    "sort = sorted(grades.keys())\n",
    "print(\"Alphabetical Keys\")\n",
    "for key in sort:\n",
    "    print(f\"key: {key}\")"
   ]
  },
  {
   "cell_type": "markdown",
   "id": "01da3410",
   "metadata": {},
   "source": [
    "Sorting by values is more complicated. `.items()` returns the key/value pairs in a tuple (a list that can't be changed once created). Tuples are created with parenthesis. The tuples have the key in position 0 and the value in position 1.\n",
    "\n",
    "To sort by values, we'll create a new list holding the tuples where we swap the order of the keys and values."
   ]
  },
  {
   "cell_type": "code",
   "execution_count": null,
   "id": "61dc8a81",
   "metadata": {},
   "outputs": [
    {
     "name": "stdout",
     "output_type": "stream",
     "text": [
      "All items\n",
      "Name: Buddy - Grade: 94\n",
      "Name: Patrick - Grade: 95\n",
      "Name: Laura - Grade: 98\n"
     ]
    }
   ],
   "source": [
    "print(\"All items\")\n",
    "grades_value = []\n",
    "for item in grades.items():\n",
    "    grades_value.append( (item[1], item[0]) )\n",
    "    # The parenthesis inside of the append function will create the tuple.\n",
    "\n",
    "# This for loop sorts the grades and prints them in numerical order\n",
    "for pair in sorted(grades_value):\n",
    "    print(f\"Name: {pair[1]} - Grade: {pair[0]}\")"
   ]
  },
  {
   "cell_type": "markdown",
   "id": "034b0256",
   "metadata": {},
   "source": [
    "If we wanted to sort by descending order rather than ascending order, we can add the parameter `reverse = True`."
   ]
  },
  {
   "cell_type": "code",
   "execution_count": 15,
   "id": "f78e0716",
   "metadata": {},
   "outputs": [
    {
     "name": "stdout",
     "output_type": "stream",
     "text": [
      "Name: Laura - Grade: 98\n",
      "Name: Patrick - Grade: 95\n",
      "Name: Buddy - Grade: 94\n"
     ]
    }
   ],
   "source": [
    "for pair in sorted(grades_value, reverse = True):\n",
    "    print(f\"Name: {pair[1]} - Grade: {pair[0]}\")"
   ]
  },
  {
   "cell_type": "markdown",
   "id": "c813c320",
   "metadata": {},
   "source": [
    "### 4.3: Python Sets"
   ]
  },
  {
   "cell_type": "markdown",
   "id": "a007d88e",
   "metadata": {},
   "source": [
    "A set is a container that doesn't hold duplicates. Sets are used when it is vital that there are no repeated values in a container (e.g. with constants or to remove common words in a string)\n",
    "\n",
    "To create a non-empty set, you can use the curly braces. To differentiate between a set and a dictionary, look for `key: value` pairs.\n",
    "\n",
    "By default, the empty curly braces indicate an empty dictionary. You'll have to use `set()` to create an empty set.\n",
    "\n",
    "To add elements to a set, use `.add(#)`. `.add()` takes in exactly one argument."
   ]
  },
  {
   "cell_type": "code",
   "execution_count": 19,
   "id": "0bc6e664",
   "metadata": {},
   "outputs": [
    {
     "name": "stdout",
     "output_type": "stream",
     "text": [
      "Length of set: 2\n",
      "{1, 2}\n"
     ]
    }
   ],
   "source": [
    "test_set = set()\n",
    "\n",
    "test_set.add(1)\n",
    "test_set.add(2)\n",
    "print(f\"Length of set: {str(len(test_set))}\")\n",
    "print(test_set)"
   ]
  },
  {
   "cell_type": "markdown",
   "id": "cc28fb79",
   "metadata": {},
   "source": [
    "If we try to add elements to the set that are duplicates, the set will not hold onto them"
   ]
  },
  {
   "cell_type": "code",
   "execution_count": 20,
   "id": "9ea54b24",
   "metadata": {},
   "outputs": [
    {
     "name": "stdout",
     "output_type": "stream",
     "text": [
      "Length of set: 4\n",
      "{0, 1, 2, 3}\n"
     ]
    }
   ],
   "source": [
    "test_set.add(1)\n",
    "test_set.add(0)\n",
    "test_set.add(2)\n",
    "test_set.add(3)\n",
    "print(f\"Length of set: {str(len(test_set))}\")\n",
    "print(test_set)"
   ]
  },
  {
   "cell_type": "markdown",
   "id": "b5279757",
   "metadata": {},
   "source": [
    "`in` can tell if a value is in the set or not"
   ]
  },
  {
   "cell_type": "code",
   "execution_count": null,
   "id": "8f9afff2",
   "metadata": {},
   "outputs": [
    {
     "name": "stdout",
     "output_type": "stream",
     "text": [
      "2 is in the set\n",
      "4 is not in the set\n"
     ]
    }
   ],
   "source": [
    "if 2 in test_set:\n",
    "    print(\"2 is in the set\")\n",
    "else:\n",
    "    print(\"2 is not in the set\")\n",
    "\n",
    "if 4 in test_set:\n",
    "    print(\"4 is in the set\")\n",
    "else:\n",
    "    print(\"4 is not in the set\")"
   ]
  },
  {
   "cell_type": "markdown",
   "id": "3d012af9",
   "metadata": {},
   "source": [
    "If you convert a list to a set, any duplicate values will be removed, ie if you pass a list into the `set()` function.\n",
    "\n",
    "A set can be turned into a list with the `list()` function. However, it will not bring back any duplicate values that were entered into the `set()` function."
   ]
  },
  {
   "cell_type": "code",
   "execution_count": 23,
   "id": "e6f38023",
   "metadata": {},
   "outputs": [
    {
     "name": "stdout",
     "output_type": "stream",
     "text": [
      "List to set {1, 2, 3}\n",
      "Set to list: [1, 2, 3]\n"
     ]
    }
   ],
   "source": [
    "item_list = [1, 2, 3, 1, 2, 3, 1, 2]\n",
    "item_set = set(item_list)\n",
    "print(f\"List to set {item_set}\")\n",
    "print(f\"Set to list: {list(item_set)}\")"
   ]
  },
  {
   "cell_type": "markdown",
   "id": "38c8a0fb",
   "metadata": {},
   "source": [
    "Let's use a set with the 50 most common words in the English language. We're going to split the string by spaces to create a list with `.split()` and then convert the list into a set.\n",
    "\n",
    "We'll replace the common words from a quote with the letter x"
   ]
  },
  {
   "cell_type": "code",
   "execution_count": null,
   "id": "3ac1cfb9",
   "metadata": {},
   "outputs": [
    {
     "name": "stdout",
     "output_type": "stream",
     "text": [
      "{'and', 'do', 'as', 'at', 'can', 'use', 'it', 'not', 'she', 'if', 'with', 'what', 'i', 'which', 'they', 'your', 'have', 'from', 'or', 'all', 'that', 'is', 'this', 'we', 'to', 'but', 'in', 'a', 'his', 'how', 'their', 'the', 'you', 'said', 'of', 'there', 'when', 'an', 'by', 'are', 'had', 'was', 'for', 'one', 'word', 'were', 'each', 'be', 'on', 'he'}\n",
      "ask not what your country can do for you ask what you can do for your country\n",
      "ask xxx xxxx xxxx country xxx xx xxx xxx ask xxxx xxx xxx xx xxx xxxx country \n"
     ]
    }
   ],
   "source": [
    "most_common_words = \"the of and a to in is you that it he was for on are as with his they i at be this have from or one had by word but not what all were we when your can said there use an each which she do how their if\" \n",
    "common_word_set = set(most_common_words.split(\" \"))\n",
    "print(common_word_set)\n",
    "\n",
    "phrase = \"ask not what your country can do for you ask what you can do for your country\" \n",
    "print(phrase)\n",
    "\n",
    "line = \"\"\n",
    "for word in phrase.split(\" \"):  # split the phrase by each word\n",
    "    if word in common_word_set: # if the word is common\n",
    "        line = line + (len(word) * \"x\") + \" \"   # multiply the length of the word, converting it to 'x's\n",
    "    else:\n",
    "        line = line + word + \" \"\n",
    "print(line)"
   ]
  },
  {
   "cell_type": "markdown",
   "id": "98e318fd",
   "metadata": {},
   "source": [
    "### 4.4: Storing User Supplied Data in a Dictionary (*JES*)"
   ]
  },
  {
   "cell_type": "markdown",
   "id": "e8bd0cb0",
   "metadata": {},
   "source": [
    "## Section 5 - Functions"
   ]
  },
  {
   "cell_type": "code",
   "execution_count": null,
   "id": "e5125598",
   "metadata": {},
   "outputs": [],
   "source": [
    "%reset -f"
   ]
  },
  {
   "cell_type": "markdown",
   "id": "8be63513",
   "metadata": {},
   "source": [
    "### 5.1: A First Function"
   ]
  },
  {
   "cell_type": "markdown",
   "id": "1de0accb",
   "metadata": {},
   "source": [
    "Functions take in an input and then return a value. The syntax for creating our own functions is as follows:\n",
    "- `def` creates a function\n",
    "- `function_name` is the name of the function. You'll usually name the file by the same name if the function is external to the main file\n",
    "- parenthesis alow you to input optional parameters\n",
    "- a colon is required at the end of the header\n",
    "- the body is defined by tabbing in underneath the function header\n",
    "\n",
    "```\n",
    "def function_name():\n",
    "    # code here\n",
    "```"
   ]
  },
  {
   "cell_type": "code",
   "execution_count": null,
   "id": "b9124197",
   "metadata": {},
   "outputs": [],
   "source": [
    "def print_fun():\n",
    "    print(\">^x^<\")\n",
    "\n",
    "def never_called():\n",
    "    print(\"You won't see this on screen bc it's not being called\")"
   ]
  },
  {
   "cell_type": "markdown",
   "id": "4e71bccd",
   "metadata": {},
   "source": [
    "Functions have to be called to obtain an output. To call a function, you need to include parenthesis. Otherwise, the screen will simply output the function and arguments it can accept. The function automatically will return at the end of the function body."
   ]
  },
  {
   "cell_type": "code",
   "execution_count": 30,
   "id": "9f846a8f",
   "metadata": {},
   "outputs": [
    {
     "name": "stdout",
     "output_type": "stream",
     "text": [
      ">^x^<\n"
     ]
    },
    {
     "data": {
      "text/plain": [
       "<function print(*args, sep=' ', end='\\n', file=None, flush=False)>"
      ]
     },
     "execution_count": 30,
     "metadata": {},
     "output_type": "execute_result"
    }
   ],
   "source": [
    "print_fun()\n",
    "print"
   ]
  },
  {
   "cell_type": "markdown",
   "id": "3668218b",
   "metadata": {},
   "source": [
    "### 5.2: Function Return Values"
   ]
  },
  {
   "cell_type": "markdown",
   "id": "19d55a1d",
   "metadata": {},
   "source": [
    "A function can produce values to be used for by the caller with `return`. `return` goes to exactly where the function was called. If a value comes after `return`, the value will travel back with the flow of control and replace the function call itself.\n",
    "\n",
    "Functions go at the beginning of your file since they need to be called before you can actually use the function. The only times this doesn't have to happen is if they are calling a function file."
   ]
  },
  {
   "cell_type": "code",
   "execution_count": 34,
   "id": "c2a03842",
   "metadata": {},
   "outputs": [
    {
     "name": "stdout",
     "output_type": "stream",
     "text": [
      "8 squared: 64\n",
      "8 cubed: 512\n"
     ]
    }
   ],
   "source": [
    "def square(number):\n",
    "    return number ** 2\n",
    "\n",
    "def cube(number):\n",
    "    return number ** 3\n",
    "\n",
    "print(f\"8 squared: {square(8)}\")\n",
    "print(f\"8 cubed: {cube(8)}\")"
   ]
  },
  {
   "cell_type": "markdown",
   "id": "89ec8392",
   "metadata": {},
   "source": [
    "We'll make a new function that takes in multiple inputs to make more interesting results."
   ]
  },
  {
   "cell_type": "code",
   "execution_count": 35,
   "id": "fb038d99",
   "metadata": {},
   "outputs": [
    {
     "name": "stdout",
     "output_type": "stream",
     "text": [
      "2^8 = 256\n"
     ]
    }
   ],
   "source": [
    "def power(base, exponent):\n",
    "    return base ** exponent\n",
    "\n",
    "base = 2\n",
    "exponent = 8\n",
    "print(f\"{base}^{exponent} = {power(base,exponent)}\")"
   ]
  },
  {
   "cell_type": "markdown",
   "id": "c42ba566",
   "metadata": {},
   "source": [
    "Functions can have loops in them. The following function will find the square root of a number using essentially Monte Carlo processing.\n",
    "\n",
    "It also calls the `square` function from earlier. The system will remember function calls and the order in which they were called in what is known as the 'call stack'. Remember that you have to call functions you'll be using in a function before you use it."
   ]
  },
  {
   "cell_type": "code",
   "execution_count": null,
   "id": "83aab3a5",
   "metadata": {},
   "outputs": [
    {
     "name": "stdout",
     "output_type": "stream",
     "text": [
      "The sqrt of 25 is 4.99993896484375\n"
     ]
    }
   ],
   "source": [
    "def squareRoot(numberToRoot): \n",
    "    start = 1.0 \n",
    "    end = numberToRoot \n",
    "     \n",
    "    while(start <= end): \n",
    "        guess = (start + end) / 2.0 \n",
    "        guessSquared = square(guess) \n",
    "        if(abs(guessSquared - numberToRoot) < .001): \n",
    "            root = guess \n",
    "            break \n",
    "        elif(guessSquared > numberToRoot): \n",
    "            end = guess \n",
    "        else: \n",
    "            start = guess \n",
    "    return root\n",
    "\n",
    "print(f\"The sqrt of 25 is {squareRoot(25)}\")"
   ]
  },
  {
   "cell_type": "markdown",
   "id": "1de62fd9",
   "metadata": {},
   "source": [
    "This function isn't optimal for doing a binary search square root approximation. Notably:\n",
    "- The loop while(start <= end): can get stuck or not converge properly.\n",
    "- The update steps for start and end do not move the interval correctly, especially for floating-point numbers.\n",
    "- The function may not always return a value if the if(abs(guessSquared - numberToRoot) < .001): condition is never met.\n",
    "\n",
    "Github Copilot recommends the following approach:\n",
    "- Use while abs(guessSquared - numberToRoot) > tolerance: as the loop condition.\n",
    "- Update start and end based on whether guessSquared is too high or too low.\n",
    "- Return guess at the end.\n",
    "```\n",
    "def squareRoot(numberToRoot):\n",
    "    start = 0.0\n",
    "    end = numberToRoot\n",
    "    tolerance = 0.001\n",
    "    guess = (start + end) / 2.0\n",
    "    while abs(guess * guess - numberToRoot) > tolerance:\n",
    "        if guess * guess > numberToRoot:\n",
    "            end = guess\n",
    "        else:\n",
    "            start = guess\n",
    "        guess = (start + end) / 2.0\n",
    "    return guess\n",
    "\n",
    "print(f\"The sqrt of 25 is {squareRoot(25)}\")\n",
    "```\n",
    "\n",
    "Realistically, it's recommended that you just use the `math` library's inbuilt `sqrt()` function, or the `cmath` module for complex results"
   ]
  },
  {
   "cell_type": "code",
   "execution_count": null,
   "id": "ececdc56",
   "metadata": {},
   "outputs": [
    {
     "name": "stdout",
     "output_type": "stream",
     "text": [
      "True\n",
      "True\n"
     ]
    }
   ],
   "source": [
    "# This function checks if a number is prime and returns a bool\n",
    "def isPrime(primeCheck): \n",
    "    prime = True \n",
    "    for number in range(2, int(squareRoot(primeCheck))): \n",
    "        if(primeCheck % number == 0): \n",
    "            prime = False \n",
    "            break \n",
    " \n",
    "    return prime\n",
    "\n",
    "print(isPrime(7))\n",
    "print(isPrime(24))"
   ]
  },
  {
   "cell_type": "markdown",
   "id": "45c85b7f",
   "metadata": {},
   "source": [
    "If a function doesn't need to return a value, you don't need to include `return` at the end of the function"
   ]
  },
  {
   "cell_type": "markdown",
   "id": "153a619b",
   "metadata": {},
   "source": [
    "### 5.3: Parameters"
   ]
  },
  {
   "cell_type": "markdown",
   "id": "d03af516",
   "metadata": {},
   "source": [
    "Functions can take in 0+ parameters. If you have a default parameter that a variable should be set at, you can specify it in the definition. For example, in the function below, the temperature default is set to be read in as Farenheit."
   ]
  },
  {
   "cell_type": "code",
   "execution_count": null,
   "id": "f9be9854",
   "metadata": {},
   "outputs": [
    {
     "name": "stdout",
     "output_type": "stream",
     "text": [
      "Temp = 19: Ice\n",
      "Temp = 19 C: Liquid\n"
     ]
    }
   ],
   "source": [
    "def waterState(temperature, scale=\"F\"): \n",
    "# This function will tell which basic state of matter the water is\n",
    "\tif(scale == \"F\"): \n",
    "\t\tif(temperature <= 32.0): \n",
    "\t\t\tretVal = \"Ice\" \n",
    "\t\telif(temperature < 212.0): \n",
    "\t\t\tretVal = \"Liquid\" \n",
    "\t\telse: #must be 212.0 or higher \n",
    "\t\t\tretVal = \"Steam\" \n",
    "\telif(scale == \"C\"): \n",
    "\t\tif(temperature <= 0.0): \n",
    "\t\t\tretVal = \"Ice\" \n",
    "\t\telif(temperature < 100.0): \n",
    "\t\t\tretVal = \"Liquid\" \n",
    "\t\telse: #must be 100.0 or higher \n",
    "\t\t\tretVal = \"Steam\" \n",
    "\telse: \n",
    "\t\tretVal = \"There was an error with the scale.\" \n",
    " \n",
    "\treturn retVal\n",
    "\n",
    "print(f\"Temp = 19F: { waterState(19) }\")\n",
    "print(f\"Temp = 19C: {waterState(19,'C')}\")"
   ]
  },
  {
   "cell_type": "markdown",
   "id": "7b82ba25",
   "metadata": {},
   "source": [
    "### 5.4: Scope of Variables"
   ]
  },
  {
   "cell_type": "markdown",
   "id": "2e901fb2",
   "metadata": {},
   "source": [
    "Global variables are variables used outside of a function. A local variable is used exclusively inside a block of code. Local variables are recommended due to being less computationally intensive as they will be removed once the function ends.\n",
    "\n",
    "In Jupyter notebooks, variables within a code cell are global to the notebook. However, variables within a function or class in a code cell is local. To clear the global variables in a Jupyter notebook, we use `%reset -f`\n",
    "\n",
    "This function takes in the height and width of a rectangle and prints geometrical values about it. It also draws a little rectangle using ASCII characters."
   ]
  },
  {
   "cell_type": "code",
   "execution_count": 48,
   "id": "2e8fa2e9",
   "metadata": {},
   "outputs": [
    {
     "name": "stdout",
     "output_type": "stream",
     "text": [
      "4X26 Rectangle\n",
      "Perimeter: 60\n",
      "Area: 104\n",
      "##########################\n",
      "#                        #\n",
      "#                        #\n",
      "##########################\n",
      "\n",
      "\n"
     ]
    }
   ],
   "source": [
    "def printBox(height, width): \n",
    "    perimeter = (2 * height) + (2 * width) \n",
    "    area = height * width \n",
    " \n",
    "    print(str(height) + \"X\" + str(width) + \" Rectangle\") \n",
    "    print(\"Perimeter: \" + str(perimeter)) \n",
    "    print(\"Area: \" + str(area)) \n",
    " \n",
    "    for row in range(0, height): \n",
    "        rowText = \"\" \n",
    "        for col in range(0, width): \n",
    "            if(row == 0 or row == (height - 1)) or col == 0 or (col == width - 1): \n",
    "                rowText = rowText + \"#\" \n",
    "            else: \n",
    "                rowText = rowText + \" \" \n",
    "        print(rowText) \n",
    "    print(\"\") \n",
    "    print(\"\")\n",
    "    \n",
    "printBox(4,26)"
   ]
  },
  {
   "cell_type": "markdown",
   "id": "4f0c0226",
   "metadata": {},
   "source": [
    "### 5.5: Pass by Reference or Pass by Value"
   ]
  },
  {
   "cell_type": "markdown",
   "id": "7742f8de",
   "metadata": {},
   "source": [
    "In some languages, function parameters can be passed by value or by reference. This then determines what happens to the values within the function.\n",
    "\n",
    "In Python, if simple data is sent to a function, a fresh copy is made within the function. If a more complex piece of data (a dictionary or a list, etc), then a pointer to the data is sent to the function."
   ]
  },
  {
   "cell_type": "code",
   "execution_count": null,
   "id": "326dc2bf",
   "metadata": {},
   "outputs": [
    {
     "name": "stdout",
     "output_type": "stream",
     "text": [
      "Age in 10 years: 45\n"
     ]
    }
   ],
   "source": [
    "# Function that takes an integer as a parameter\n",
    "def add_10_yrs(current_age):\n",
    "    current_age = current_age + 10\n",
    "\n",
    "real_age = 45\n",
    "add_10_yrs(real_age)\n",
    "print(f\"Age in 10 years: {real_age}\")   # No value is returned bc the value was copied"
   ]
  },
  {
   "cell_type": "markdown",
   "id": "5ce83da1",
   "metadata": {},
   "source": [
    "Let's try this again with a dictionary. This will pass a reference to where the values in the dictionary are saved to the function and will overwrite the value tied to a key."
   ]
  },
  {
   "cell_type": "code",
   "execution_count": null,
   "id": "90f01b24",
   "metadata": {},
   "outputs": [
    {
     "name": "stdout",
     "output_type": "stream",
     "text": [
      "Age in 10 years: 55\n"
     ]
    }
   ],
   "source": [
    "def add_10_yrs_dict(person):\n",
    "    person[\"age\"] = person[\"age\"] + 10\n",
    "\n",
    "this_person = {\"name\": \"Markus\", \"age\": 45}\n",
    "add_10_yrs_dict(this_person)\n",
    "print(f\"Age in 10 years: {this_person['age']}\")     # The value tied to key \"age\" was replaced"
   ]
  },
  {
   "cell_type": "markdown",
   "id": "572b1281",
   "metadata": {},
   "source": [
    "### 5.6: Sorting with Functions"
   ]
  },
  {
   "cell_type": "markdown",
   "id": "dbdefbf4",
   "metadata": {},
   "source": [
    "Earlier we sorted values using tuples and the inbuilt `sorted` function. This time, we'll pass a function into a function to specify the way things are supposed to be sorted.\n",
    "\n",
    "We can use the sorted function to go through the students and sort them and then print some information about them. However, we can simplify the code by using the sorted function's optional key parameter. The `key` parameter passes in the function `getGrade` per element to select a specific element to sort by.\n",
    "\n",
    "You can pass one function to another and the receiving function can call the other. Aka, we can pass functionA into functionB and functionB will call functionA"
   ]
  },
  {
   "cell_type": "code",
   "execution_count": 57,
   "id": "cbb7e3f9",
   "metadata": {},
   "outputs": [
    {
     "name": "stdout",
     "output_type": "stream",
     "text": [
      "Keys and values by value\n",
      "Name: Laura, grade: 98\n",
      "Name: Buddy, grade: 95\n",
      "Name: Patrick, grade: 95\n"
     ]
    }
   ],
   "source": [
    "def getGrade(studentTuple): \n",
    "    return studentTuple[1] \n",
    " \n",
    "grades = { \"Laura\": 98, \"Buddy\": 95, \"Patrick\": 95} \n",
    "\n",
    "print(\"Keys and values by value\") \n",
    " \n",
    "for pair in sorted(grades.items(), key=getGrade, reverse=True): \n",
    "    print(f\"Name: {pair[0]}, grade: {pair[1]}\")"
   ]
  },
  {
   "cell_type": "markdown",
   "id": "e3dcffbb",
   "metadata": {},
   "source": [
    "### 5.6: RE.Adding Text and Saving a File Using Functions (*JES*)"
   ]
  },
  {
   "cell_type": "markdown",
   "id": "19dfccdf",
   "metadata": {},
   "source": [
    "### 5.8: Shrinking a Picture (*JES*)"
   ]
  },
  {
   "cell_type": "markdown",
   "id": "056ab17e",
   "metadata": {},
   "source": [
    "### 5.9: Making a Movie with Moving Text (*JES*)"
   ]
  },
  {
   "cell_type": "markdown",
   "id": "a838621e",
   "metadata": {},
   "source": [
    "## Section 6 - Classes"
   ]
  },
  {
   "cell_type": "code",
   "execution_count": 58,
   "id": "79b41e11",
   "metadata": {},
   "outputs": [],
   "source": [
    "%reset -f"
   ]
  },
  {
   "cell_type": "markdown",
   "id": "ec79b46c",
   "metadata": {},
   "source": [
    "### 6.1: Classes"
   ]
  },
  {
   "cell_type": "markdown",
   "id": "a553096b",
   "metadata": {},
   "source": [
    "Object Oriented Programming (OOP) is a paradigm of grouping related data and functions that work on that data into logical units called \"classes\". Classes encapsulate the data and functionality associated with an entity, organizing the system.\n",
    "\n",
    "You can think of a class as an cookie mold and the objects as the cookies. Objects from the same class will all have the same shape (data members and functions that are specified in the class). We want to create objects and then call the functions built in them, keeping the data manipulation contained to the individual object.\n",
    "\n",
    "Classes can be used as a decomposition technique so we can build more complex systems than what we've been using so far. For example, we'll create a class to generate coin flips. To create a class, you use following syntax. Note, all code inside a class must be tabbed in.\n",
    "```\n",
    "class class_name:\n",
    "    def func_name:\n",
    "        # body of function\n",
    "    variable\n",
    "```\n",
    "\n",
    "We'll assign the class to a variable so that we can call methods that belong to the class."
   ]
  },
  {
   "cell_type": "code",
   "execution_count": 62,
   "id": "0cc1e244",
   "metadata": {},
   "outputs": [
    {
     "name": "stdout",
     "output_type": "stream",
     "text": [
      "Random coin flip: Tails\n",
      "['Heads', 'Heads', 'Tails', 'Tails', 'Tails', 'Heads', 'Heads', 'Tails', 'Tails', 'Heads']\n"
     ]
    }
   ],
   "source": [
    "from random import randint\n",
    "\n",
    "class CoinFlipper:      # Note: classes are named with CamelCase\n",
    "    \n",
    "    def get_coin_flip(self):    # Functions called inside a class are also referred to as methods\n",
    "        \n",
    "        if(randint(0,1) == 0):\n",
    "            coin_side = \"Heads\"\n",
    "        else:\n",
    "            coin_side = \"Tails\"\n",
    "        return coin_side\n",
    "\n",
    "cf = CoinFlipper()\n",
    "print(f\"Random coin flip: {cf.get_coin_flip()}\")\n",
    "\n",
    "coin_flips = []\n",
    "count = 1\n",
    "\n",
    "while(count <= 10):\n",
    "    coin_flips.append(cf.get_coin_flip())\n",
    "    count += 1\n",
    "    \n",
    "print(coin_flips)"
   ]
  },
  {
   "cell_type": "markdown",
   "id": "b0cbe52b",
   "metadata": {},
   "source": [
    "### 6.2: Class with Data and Methods"
   ]
  },
  {
   "cell_type": "markdown",
   "id": "b284fe4a",
   "metadata": {},
   "source": [
    "Most classes will have methods and data members. This helps decompose a problem by making it very easy to see which domain is being worked in and what objects exist within it.\n",
    "\n",
    "Let's assume that we're writing software for a classroom. We want to keep track of the data for certain objects, such as a whiteboard. We want to know the height and width of the whiteboard, `draw` on the whiteboard and `erase` the whiteboard. We can combine all of this into a single unit by making a class that separates the whiteboard actions from the other classroom objects and actions.\n",
    "\n",
    "We're going to practice this by creating a class representing a box.\n",
    "- The box has data associated with it, a height and a width.\n",
    "- It can also determine the area and perimeter of the box.\n",
    "- All geometric values related to the box can be printed to the console.\n",
    "\n",
    "Start of by initializing the data in the object using the method `__init__`. This method will be called automatically every time an object is called and is often also called a *constructor*.\n",
    "\n",
    "Since we want to make sure that a Box class object has height and width, `__init__` will ensure that the object has those values before we manipulate the object. `self` allows us to reference the object in the flow of control. Specifically, it is referring to a particular object's data members and assigning certain data members to it."
   ]
  },
  {
   "cell_type": "code",
   "execution_count": null,
   "id": "4add567b",
   "metadata": {},
   "outputs": [],
   "source": [
    "class Box:\n",
    "    def __init__(self, initial_height = 1, initial_width = 1):\n",
    "        self.height = initial_height\n",
    "        self.width = initial_width"
   ]
  },
  {
   "cell_type": "markdown",
   "id": "99ed6934",
   "metadata": {},
   "source": [
    "Every class method in Python needs to include `self` as the first parameter as the reference to the current object's data. If you create multiple boxes and assign them to their own variables, each will be saved as distinct objects. (Most OO languages have the `self` parameter implied in the class methods but Python needs to specify `self` in each method.)\n",
    "\n",
    "We also set some default values in case someone calls Box by itself. However, we also want to change the values that were set from the defaults so let's update the class to allow for that.\n",
    "\n",
    "We also want to compute the other relevant geometric information about the box. We'll do this by calling upon the `self.height` and `self.width` values.\n",
    "\n",
    "Finally, we'll create a method called print that allows the class to print itself. This won't be confused with the normal `print` function due to the class header identifier"
   ]
  },
  {
   "cell_type": "code",
   "execution_count": 1,
   "id": "7da67b3d",
   "metadata": {},
   "outputs": [],
   "source": [
    "class Box:\n",
    "    def __init__(self, initial_height = 1, initial_width = 1):\n",
    "    # This ensures that the \"self\" object has initial values before being used.\n",
    "        self.height = initial_height\n",
    "        self.width = initial_width\n",
    "    \n",
    "    def set_height(self, new_height):\n",
    "        if new_height > 0:      # If the value isn't positive, it won't be saved.\n",
    "            self.height = new_height\n",
    "    \n",
    "    def set_width(self, new_width):\n",
    "        if new_width > 0:\n",
    "            self.width = new_width\n",
    "            \n",
    "    def calc_area(self):\n",
    "        return self.height * self.width\n",
    "    \n",
    "    def calc_perimeter(self):\n",
    "        return (2 * self.height) + (2 * self.width)\n",
    "    \n",
    "    def print(self):\n",
    "        print(f\"{self.height} x {self.width}\")\n",
    "        print(f\"Perimeter: {self.calc_perimeter()}\")\n",
    "        print(f\"Area: {self.calc_area()}\")\n",
    "        \n",
    "        # This will print an image of the box\n",
    "        for row in range(0, self.height):\n",
    "            row_text = \"\"\n",
    "            for col in range(0, self.width):\n",
    "                if (row == 0 or row == self.height - 1) or (col == 0 or col == self.width - 1):\n",
    "                    row_text = row_text + \"#\"\n",
    "                else:\n",
    "                    row_text = row_text + \" \"\n",
    "            print(row_text)\n",
    "        print()\n"
   ]
  },
  {
   "cell_type": "markdown",
   "id": "f08aadb1",
   "metadata": {},
   "source": [
    "Now that we've spent nearly an hour setting up the class, we'll create a Box object and call the print method. You can also dot index and change individual values once you have created a Box object."
   ]
  },
  {
   "cell_type": "code",
   "execution_count": 67,
   "id": "50576b5b",
   "metadata": {},
   "outputs": [
    {
     "name": "stdout",
     "output_type": "stream",
     "text": [
      "3 x 4\n",
      "Perimeter: 14\n",
      "Area: 12\n",
      "####\n",
      "#  #\n",
      "####\n",
      "\n",
      "3 x 5\n",
      "Perimeter: 16\n",
      "Area: 15\n",
      "#####\n",
      "#   #\n",
      "#####\n",
      "\n"
     ]
    }
   ],
   "source": [
    "box1 = Box(3,4)     # height, width \n",
    "box1.print()\n",
    "box1.set_width(5)\n",
    "box1.print()"
   ]
  },
  {
   "cell_type": "markdown",
   "id": "451a0f42",
   "metadata": {},
   "source": [
    "### 6.3: Classes that Interact with Each Other"
   ]
  },
  {
   "cell_type": "markdown",
   "id": "b3931c46",
   "metadata": {},
   "source": [
    "Most programs will use multiple classes. Classes can interact with each other and can hold onto references of other objects.\n",
    "\n",
    "Let's make classes for playing card games. We'll start by making a `Card` class which will represent playing cards."
   ]
  },
  {
   "cell_type": "code",
   "execution_count": null,
   "id": "723a2366",
   "metadata": {},
   "outputs": [
    {
     "name": "stdout",
     "output_type": "stream",
     "text": [
      "2 of Hearts\n",
      "5 of Clubs\n",
      "Jack of Diamonds\n",
      "Ace of Spades\n"
     ]
    }
   ],
   "source": [
    "class Card:\n",
    "    suits = [\"Spades\", \"Hearts\", \"Clubs\", \"Diamonds\"]\n",
    "    faces = {11: \"Jack\", 12: \"Queen\", 13: \"King\", 14: \"Ace\"}    # Clearly this is solitaire counting.\n",
    "    \n",
    "    # initialize cards\n",
    "    def __init__(self, card_suit, card_value):\n",
    "        if card_suit in Card.suits:\n",
    "            self.suit = card_suit\n",
    "        else:\n",
    "            self.suit = Card.suits[0]\n",
    "        \n",
    "        if card_value >= 2 and card_value <= 14:\n",
    "            self.card_value = card_value\n",
    "        else:\n",
    "            self.card_value = 2     # if value is bad, set to 2\n",
    "\n",
    "    # print card\n",
    "    def print(self):\n",
    "        if self.card_value >= 11:\n",
    "            card_string = Card.faces[self.card_value]\n",
    "        else:\n",
    "            card_string = str(self.card_value)\n",
    "        \n",
    "        card_string = card_string + \" of \" + self.suit\n",
    "        print(card_string)\n",
    "        "
   ]
  },
  {
   "cell_type": "markdown",
   "id": "eabf3b03",
   "metadata": {},
   "source": [
    "Now we'll make a `Deck` class that creates, manages, and manipulates 52 `Card` objects. Objects can be shuffled with `random` function `shuffle()` which randomly jumbles a list."
   ]
  },
  {
   "cell_type": "code",
   "execution_count": 70,
   "id": "e4ed2b2c",
   "metadata": {},
   "outputs": [],
   "source": [
    "from random import shuffle      # Normally this would be above the cards class but simply not rn\n",
    "\n",
    "class Deck:\n",
    "    # create card deck\n",
    "    def __init__(self):\n",
    "        self.cards = []\n",
    "        for suit in Card.suits:\n",
    "            for value in range(2, 15):\n",
    "                new_card = Card(suit, value)\n",
    "                self.cards.append(new_card)\n",
    "                \n",
    "    # shuffle cards\n",
    "    def shuffle_cards(self):\n",
    "        shuffle(self.cards)\n",
    "        \n",
    "    # deal cards\n",
    "    def deal_cards(self, number_req):\n",
    "        dealt_cards = []\n",
    "        \n",
    "        if len(self.cards) >= number_req:\n",
    "            split_point = len(self.cards) - number_req\n",
    "            dealt_cards = self.cards[split_point:]\n",
    "            self.cards = self.cards[:split_point]\n",
    "            \n",
    "        return dealt_cards"
   ]
  },
  {
   "cell_type": "markdown",
   "id": "b15e141f",
   "metadata": {},
   "source": [
    "Time to test the code. Creeate a deck and iterate through the cards."
   ]
  },
  {
   "cell_type": "code",
   "execution_count": 80,
   "id": "2d9b7731",
   "metadata": {},
   "outputs": [
    {
     "name": "stdout",
     "output_type": "stream",
     "text": [
      "4 of Clubs\n",
      "5 of Diamonds\n",
      "3 of Diamonds\n",
      "10 of Hearts\n",
      "8 of Spades\n",
      "King of Spades\n",
      "9 of Hearts\n",
      "King of Clubs\n",
      "6 of Hearts\n"
     ]
    }
   ],
   "source": [
    "# Essentially debugging\n",
    "deck = Deck()\n",
    "# for card in deck.cards:\n",
    "    # card.print()\n",
    "\n",
    "deck.shuffle_cards()\n",
    "# for card in deck.cards:\n",
    "#     card.print()\n",
    "    \n",
    "# Actually using the class the way it's meant to be used\n",
    "hand = deck.deal_cards(9)\n",
    "for card in hand:\n",
    "    card.print()"
   ]
  },
  {
   "cell_type": "markdown",
   "id": "2d0f2f1a",
   "metadata": {},
   "source": [
    "### 6.4: Inheritance"
   ]
  },
  {
   "cell_type": "markdown",
   "id": "f71f8479",
   "metadata": {},
   "source": [
    "There are 3 tenets of object-oriented programming:\n",
    "1. Encapsulation - Grouping data and methods into logical units.\n",
    "2. Inheritance - Effectively reusing code to avoid duplication.\n",
    "3. Polymorphism - Treating different classes in the same inheritance hierarchy as if they were the same.\n",
    "\n",
    "We're going to expand upon the `Box` class we made last time to create a `Cube` class. Cubes have an additional depth dimension and the ability to calculate a volume."
   ]
  },
  {
   "cell_type": "code",
   "execution_count": 4,
   "id": "d0c20091",
   "metadata": {},
   "outputs": [],
   "source": [
    "class Box:\n",
    "    def __init__(self, initial_height = 1, initial_width = 1):\n",
    "    # This ensures that the \"self\" object has initial values before being used.\n",
    "        self.height = initial_height\n",
    "        self.width = initial_width\n",
    "    \n",
    "    def set_height(self, new_height):\n",
    "        if new_height > 0:      # If the value isn't positive, it won't be saved.\n",
    "            self.height = new_height\n",
    "    \n",
    "    def set_width(self, new_width):\n",
    "        if new_width > 0:\n",
    "            self.width = new_width\n",
    "            \n",
    "    def calc_area(self):\n",
    "        return self.height * self.width\n",
    "    \n",
    "    def calc_perimeter(self):\n",
    "        return (2 * self.height) + (2 * self.width)\n",
    "    \n",
    "    def print(self):\n",
    "        print(f\"{self.height} x {self.width}\")\n",
    "        print(f\"Perimeter: {self.calc_perimeter()}\")\n",
    "        print(f\"Area: {self.calc_area()}\")\n",
    "        \n",
    "        # This will print an image of the box\n",
    "        for row in range(0, self.height):\n",
    "            row_text = \"\"\n",
    "            for col in range(0, self.width):\n",
    "                if (row == 0 or row == self.height - 1) or (col == 0 or col == self.width - 1):\n",
    "                    row_text = row_text + \"#\"\n",
    "                else:\n",
    "                    row_text = row_text + \" \"\n",
    "            print(row_text)\n",
    "        print()\n"
   ]
  },
  {
   "cell_type": "markdown",
   "id": "1b8c6b1c",
   "metadata": {},
   "source": [
    "The `Cube` class will inherit the height, width and geometric methods from the `Box` class.\n",
    "\n",
    "`super()` returns a reference to the box class. We can call it's constructor `__init__` to pass in the width and height. This means we don't have to copy and paste code that may have errors in it.\n",
    "\n",
    "We're also inheriting the methods `calc_area` and `calc_perimeter` from the `Box` class. By keeping the same names, we allow the methods to be inherited while applying new parameters to them. (This is an example of Polymorphism)\n",
    "\n",
    "We can still call on the original methods by using `super().method()` when defining the class or using `Box.method()` in our main code since we have loaded the `Box` class in."
   ]
  },
  {
   "cell_type": "code",
   "execution_count": 5,
   "id": "c05704d3",
   "metadata": {},
   "outputs": [],
   "source": [
    "class Cube(Box):\n",
    "    def __init__(self, initial_height = 1, initial_width = 1, initial_depth = 1):\n",
    "        super().__init__(initial_height, initial_width)\n",
    "        self.depth = initial_depth\n",
    "    \n",
    "    def set_depth(self, new_depth):\n",
    "        if(new_depth > 0):\n",
    "            self.depth = new_depth\n",
    "    \n",
    "    def calc_area(self):\n",
    "        return (2 * self.height * self.width) + (2 * self.height * self.depth) + (2 * self.width * self.depth)\n",
    "\n",
    "    def calc_perimeter(self):\n",
    "        return (2 * super().calc_perimeter()) + (4 * self.depth)\n",
    "    \n",
    "    def calc_volume(self):\n",
    "        return super().calc_area() * self.depth   "
   ]
  },
  {
   "cell_type": "markdown",
   "id": "01c3e456",
   "metadata": {},
   "source": [
    "Try making a cube and calling the methods."
   ]
  },
  {
   "cell_type": "code",
   "execution_count": 8,
   "id": "76819809",
   "metadata": {},
   "outputs": [
    {
     "name": "stdout",
     "output_type": "stream",
     "text": [
      "Area: 52\n",
      "Perimeter: 36\n",
      "Volume: 24\n"
     ]
    }
   ],
   "source": [
    "cube = Cube(2,3,4)\n",
    "print(f\"Area: {cube.calc_area()}\")\n",
    "print(f\"Perimeter: {cube.calc_perimeter()}\")\n",
    "print(f\"Volume: {cube.calc_volume()}\")\n"
   ]
  },
  {
   "cell_type": "markdown",
   "id": "718ec8c8",
   "metadata": {},
   "source": [
    "### 6.5: Photo Resizing/Rotating Class (*JES*)"
   ]
  }
 ],
 "metadata": {
  "kernelspec": {
   "display_name": ".venv",
   "language": "python",
   "name": "python3"
  },
  "language_info": {
   "codemirror_mode": {
    "name": "ipython",
    "version": 3
   },
   "file_extension": ".py",
   "mimetype": "text/x-python",
   "name": "python",
   "nbconvert_exporter": "python",
   "pygments_lexer": "ipython3",
   "version": "3.11.3"
  }
 },
 "nbformat": 4,
 "nbformat_minor": 5
}
