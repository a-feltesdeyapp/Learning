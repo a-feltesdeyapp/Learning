{
 "cells": [
  {
   "cell_type": "markdown",
   "id": "8008c525",
   "metadata": {},
   "source": [
    "# An Animated Introduction to Programming with Python\n",
    "## Mark Mahoney\n",
    "### https://playbackpress.com/books/pybook"
   ]
  },
  {
   "cell_type": "markdown",
   "id": "f01257b0",
   "metadata": {},
   "source": [
    "## Introduction"
   ]
  },
  {
   "cell_type": "markdown",
   "id": "f6bcbafe",
   "metadata": {},
   "source": [
    "### Pythonic Stylization"
   ]
  },
  {
   "cell_type": "markdown",
   "id": "47013fbf",
   "metadata": {},
   "source": [
    "I know that this doesn't necessarily have a place here but I don't know where to include it rn.\n",
    "\n",
    "So Python has it's own stylization known as Pythonic. It's the best practices for writing clean, readable Python code. I haven't been using it, in large part because this tutorial hasn't been using it but I want to make a note of it.\n",
    "\n",
    "The Pythonic Style uses the following guidelines\n",
    "* Variables and Function names are written using snake_case (e.g., total_price, get_user_name)\n",
    "* Class names are written using CamelCase (e.g., MyClass)\n",
    "* Write clear, descriptive names for variables, functions and classes.\n",
    "* Use indentation (4 spaces per level) and avoid tabs.\n",
    "* Keep lines under 79 characters\n",
    "* Use spaces around operators and after commas\n",
    "* Write concise, readable code. Simplicity > Cleverness\n",
    "* Use docstrings and comments to explain complex code\n",
    "    * docstrings are a special string used for documenting. It's placed as the first statement inside a definition and enclosed in tripple quotes (''' or \"\"\").\n",
    "    * It explains what the function, class, or module does and can be accessed using `help()` or the `.doc` attribute\n",
    "* Parentheses are not required for simple conditions in Python. Use them only for grouping or clarity in complex expressions.\n",
    "* Avoid unnecessary code and repetition (DRY: Don't Repeat Yourself.)\n",
    "* Follow PEP 8, the official Python style guide, for more details."
   ]
  },
  {
   "cell_type": "markdown",
   "id": "6a2a516b",
   "metadata": {},
   "source": [
    "### Working in Python Virtual Environments"
   ]
  },
  {
   "cell_type": "markdown",
   "id": "8cc9d360",
   "metadata": {},
   "source": [
    "Make sure to open up a virtual environment before running python code\n",
    "* Create a new venv, use `python3 -m venv .venv`\n",
    "* Enter the venv with `source .venv/`\n",
    "* List the packages installed in the venv\n",
    "    * Activate the venv with `source .venv/bin/activate.`\n",
    "    * Create a dependency document using `pip freeze > requirements.txt`\n",
    "    * Update packages in dependency document with `pip freeze > requirements.txt`\n",
    "    * Install the packages from dependency document with `pip install -r requirements.txt`\n",
    "    * You can reuse requirements.txt in other venvs\n",
    "* To add a package to the venv, use `pip install <package_name>`\n",
    "* To deactivate the venv, use `deactivate`\n",
    "* To remove the venv, use `rm -rf .venv`"
   ]
  },
  {
   "cell_type": "markdown",
   "id": "09c54ea6",
   "metadata": {},
   "source": [
    "### Lesson 0: Quick introduction to libraries, print(), np.random.randint() & setting up VSCode for Python"
   ]
  },
  {
   "cell_type": "code",
   "execution_count": 1,
   "id": "147291af",
   "metadata": {},
   "outputs": [
    {
     "name": "stdout",
     "output_type": "stream",
     "text": [
      "Roll a dice!\n",
      "8\n"
     ]
    }
   ],
   "source": [
    "import numpy as np\n",
    "\n",
    "msg = \"Roll a dice!\"\n",
    "print(msg)\n",
    "\n",
    "print(np.random.randint(1,9))"
   ]
  },
  {
   "cell_type": "markdown",
   "id": "b34bbd23",
   "metadata": {},
   "source": [
    "## Section 1 - Flow of Control and Simple Data"
   ]
  },
  {
   "cell_type": "markdown",
   "id": "ba1dc8dd",
   "metadata": {},
   "source": [
    "### Lesson 1: Printing and flow\n",
    "Programs are executed from top to bottom."
   ]
  },
  {
   "cell_type": "code",
   "execution_count": 1,
   "id": "aeca571e",
   "metadata": {},
   "outputs": [
    {
     "name": "stdout",
     "output_type": "stream",
     "text": [
      "My name is Alia\n",
      "\n",
      "I'm learning Python\n"
     ]
    }
   ],
   "source": [
    "print(\"My name is Alia\")\n",
    "print(\"\") # This prints a blank line\n",
    "print(\"I'm learning Python\")"
   ]
  },
  {
   "cell_type": "markdown",
   "id": "70ece36b",
   "metadata": {},
   "source": [
    "There are two types of strings in Python: single quotes and double quotes. Both are the same, but you can use one inside the other without escaping.\n",
    "This is different from Matlab, where you'd have char arrays instead of a string."
   ]
  },
  {
   "cell_type": "code",
   "execution_count": 2,
   "id": "b0360b73",
   "metadata": {},
   "outputs": [
    {
     "name": "stdout",
     "output_type": "stream",
     "text": [
      "testing\n",
      "<class 'str'>\n",
      "<class 'str'>\n"
     ]
    }
   ],
   "source": [
    "print('testing')\n",
    "temp = 'testing'; temp2 = \"Testing\"\n",
    "print(type(temp))  # This will return the type of the variable temp\n",
    "print(type(temp2))"
   ]
  },
  {
   "cell_type": "markdown",
   "id": "65778937",
   "metadata": {},
   "source": [
    "You can also use triple quotes for multi-line strings."
   ]
  },
  {
   "cell_type": "code",
   "execution_count": 3,
   "id": "bdcd478d",
   "metadata": {},
   "outputs": [
    {
     "name": "stdout",
     "output_type": "stream",
     "text": [
      "Testing out a multi-line string.\n",
      "    Here we see the second line.\n",
      "This would be useful for writing haikus.\n"
     ]
    }
   ],
   "source": [
    "print('''Testing out a multi-line string.\n",
    "    Here we see the second line.\n",
    "This would be useful for writing haikus.''')"
   ]
  },
  {
   "cell_type": "markdown",
   "id": "3e8aea6a",
   "metadata": {},
   "source": [
    "Something to note is that Python takes into account the indentation of the code\n",
    "particularly when printing multi-line strings\n",
    "This is different from Matlab, where you can use semicolons to separate lines\n",
    "However, you can also use `\\n` to create new lines in a string, just like in Matlab"
   ]
  },
  {
   "cell_type": "code",
   "execution_count": 4,
   "id": "179df489",
   "metadata": {},
   "outputs": [
    {
     "name": "stdout",
     "output_type": "stream",
     "text": [
      "\n",
      "New Line\n",
      "\n"
     ]
    }
   ],
   "source": [
    "print('\\nNew Line\\n') # I don't know what was going on there for a sec, the terminal wasn't agreeing with my code. it's fixed now though."
   ]
  },
  {
   "cell_type": "markdown",
   "id": "5335a2d4",
   "metadata": {},
   "source": [
    "We can run the program by typing `python3 hello.py` in the terminal\n",
    "We can also run the program by pressing F5 in VSCode.\n",
    "Pressing F5 technically runs the program in debug mode, which allows us to step through the code line by line.\n",
    "\n",
    "Remember that you don't need to use semicolons at the end of each line in Python, unlike Matlab.\n",
    "However, you can use semicolons to separate multiple statements on the same line, but this is not recommended.\n",
    "It's better to write each statement on a new line for readability.\n",
    "You can also use the print() function to print multiple values on the same line, separated by commas."
   ]
  },
  {
   "cell_type": "code",
   "execution_count": 5,
   "id": "35d127ba",
   "metadata": {},
   "outputs": [
    {
     "name": "stdout",
     "output_type": "stream",
     "text": [
      "Hello World from Python\n"
     ]
    }
   ],
   "source": [
    "print(\"Hello\", \"World\", \"from\", \"Python\")  # This will print Hello World from Python on the same line\n"
   ]
  },
  {
   "cell_type": "markdown",
   "id": "60cea22e",
   "metadata": {},
   "source": [
    "You can also use the end parameter of the `print()` function to change the end character."
   ]
  },
  {
   "cell_type": "code",
   "execution_count": 6,
   "id": "836a0613",
   "metadata": {},
   "outputs": [
    {
     "name": "stdout",
     "output_type": "stream",
     "text": [
      "Hello World!"
     ]
    }
   ],
   "source": [
    "print(\"Hello\", end=\" \")  # This will print Hello without a new line at the end\n",
    "print(\"World\", end=\"!\")  # This will print World! on the same line"
   ]
  },
  {
   "cell_type": "markdown",
   "id": "28897e78",
   "metadata": {},
   "source": [
    "### Lesson 2: Arithmetic and comparing numbers"
   ]
  },
  {
   "cell_type": "code",
   "execution_count": 7,
   "id": "5b242f27",
   "metadata": {},
   "outputs": [
    {
     "name": "stdout",
     "output_type": "stream",
     "text": [
      "\n",
      "Computers are good at math, but they are not good at reading minds.\n",
      "\n",
      "3.3333333333333335\n",
      "2\n",
      "4\n",
      "8\n"
     ]
    }
   ],
   "source": [
    "print(\"\\nComputers are good at math, but they are not good at reading minds.\\n\")\n",
    "# print(10+5)\n",
    "# print(10-7)\n",
    "# print(3*102)  # Basic math is easy. The issues come in when we start doing division.\n",
    "\n",
    "print(10/3) # This will return a float\n",
    "print(16//8) # This will return an int\n",
    "print(20%8) # This will return the remainder of the division. Mod operator.\n",
    "print(2**3) # This will return 8, which is 2 raised to the power of 3"
   ]
  },
  {
   "cell_type": "markdown",
   "id": "e0bcd28a",
   "metadata": {},
   "source": [
    "Note that in Python 3, division always returns a float, even if the result is a whole number.\n",
    "Also note that there is a 5 at the end of the result. This stops the computer from storing infinite precision.\n",
    "\n",
    "You can combine float and intergers, but you will get a float as a result"
   ]
  },
  {
   "cell_type": "markdown",
   "id": "05825a07",
   "metadata": {},
   "source": [
    "\n",
    "Python also follows PEMDAS"
   ]
  },
  {
   "cell_type": "code",
   "execution_count": 8,
   "id": "1f262ce8",
   "metadata": {},
   "outputs": [
    {
     "name": "stdout",
     "output_type": "stream",
     "text": [
      "-4\n"
     ]
    }
   ],
   "source": [
    "print(2*(3-5))"
   ]
  },
  {
   "cell_type": "markdown",
   "id": "bb5a0799",
   "metadata": {},
   "source": [
    "Comparison operators are the same as in Matlab"
   ]
  },
  {
   "cell_type": "code",
   "execution_count": 9,
   "id": "400369d3",
   "metadata": {},
   "outputs": [
    {
     "name": "stdout",
     "output_type": "stream",
     "text": [
      "True\n",
      "False\n",
      "True\n",
      "False\n",
      "True\n",
      "False\n"
     ]
    }
   ],
   "source": [
    "print(10 == 10)  # This will return True\n",
    "print(10 != 10)  # This will return False\n",
    "print(10 > 5)    # This will return True\n",
    "print(10 < 5)    # This will return False\n",
    "print(10 >= 10)  # This will return True\n",
    "print(10 <= 5)   # This will return False"
   ]
  },
  {
   "cell_type": "markdown",
   "id": "6c7e2e84",
   "metadata": {},
   "source": [
    "You can also compare strings, but they will be compared lexicographically"
   ]
  },
  {
   "cell_type": "code",
   "execution_count": 10,
   "id": "35040c29",
   "metadata": {},
   "outputs": [
    {
     "name": "stdout",
     "output_type": "stream",
     "text": [
      "True\n",
      "True\n",
      "False\n",
      "True\n",
      "True\n",
      "True\n"
     ]
    }
   ],
   "source": [
    "print('a' == 'a')  # This will return True\n",
    "print('a' != 'b')  # This will return True\n",
    "print('a' > 'b')    # This will return False\n",
    "print('a' < 'b')    # This will return True\n",
    "print('a' >= 'a')  # This will return True\n",
    "print('a' <= 'b')   # This will return True"
   ]
  },
  {
   "cell_type": "markdown",
   "id": "8ad0397f",
   "metadata": {},
   "source": [
    "You can also compare strings with numbers, but they will be compared lexicographically\n",
    "Why? Because Python treats strings as sequences of characters, and the string '1' is lexicographically less than the integer 1.\n",
    "\n",
    "Lexicographic comparison is the same as in Matlab\n",
    "\n",
    "As a reminder, lexicographic comparison is the comparison of strings based on the order of their characters in the ASCII table.\n",
    "\n",
    "For example, 'a' is less than 'b', and 'A' is less than 'a'.\n",
    "\n",
    "Characters are compared from L>R and if all characters equal up to the length of the shorter string, the shorter string is considered smaller.\n",
    "\n",
    "If you convert integers to strings, then lexicographical order applies:\n",
    "\n",
    "\"12\" > \"100\" (because '1' == '1', '2' > '0')\n",
    "\n",
    "\"2\" > \"10\" (because '2' > '1')"
   ]
  },
  {
   "cell_type": "code",
   "execution_count": 11,
   "id": "c767f739",
   "metadata": {},
   "outputs": [
    {
     "name": "stdout",
     "output_type": "stream",
     "text": [
      "False\n",
      "True\n"
     ]
    }
   ],
   "source": [
    "print('1' == 1)  # This will return False\n",
    "print('1' != 1)  # This will return True\n",
    "# print('1' > 1)    # This should return False but I received an error\n",
    "# print('1' < 1)    # This will return True\n",
    "# print('1' >= 1)  # This will return False\n",
    "# print('1' <= 1)   # This will return True"
   ]
  },
  {
   "cell_type": "markdown",
   "id": "f3891912",
   "metadata": {},
   "source": [
    "In Python2, comparing a string with an integer would return a boolean, but in Python 3, it raises a TypeError. However, if you convert the integer to a string, then the comparison will work.\n",
    "\n",
    "Generally, just compare like variables."
   ]
  },
  {
   "cell_type": "markdown",
   "id": "a6501222",
   "metadata": {},
   "source": [
    "You can also use the in operator to check if a string is in another string"
   ]
  },
  {
   "cell_type": "code",
   "execution_count": 12,
   "id": "84aa8068",
   "metadata": {},
   "outputs": [
    {
     "name": "stdout",
     "output_type": "stream",
     "text": [
      "\n",
      "True\n"
     ]
    }
   ],
   "source": [
    "print('')\n",
    "print(\"Hello\" in \"Hello World\")  # This will return True"
   ]
  },
  {
   "cell_type": "markdown",
   "id": "e25d5518",
   "metadata": {},
   "source": [
    "`+` can be used for concatenation of strings, and `*` will repeat a string"
   ]
  },
  {
   "cell_type": "code",
   "execution_count": 13,
   "id": "44158ced",
   "metadata": {},
   "outputs": [
    {
     "name": "stdout",
     "output_type": "stream",
     "text": [
      "Hello World\n",
      "Hello Hello Hello \n"
     ]
    }
   ],
   "source": [
    "print(\"Hello\" + \" \" + \"World\")  # This will return Hello World\n",
    "print(\"Hello \" * 3)  # This will return Hello Hello Hello"
   ]
  },
  {
   "cell_type": "markdown",
   "id": "5a668a19",
   "metadata": {},
   "source": [
    "However, you cannot combine strings and numbers with `+`\n",
    "\n",
    "Instead, you can convert the number to a string, or use f-strings, (equivalent to `%d` or `%2f` in Matlab)\n",
    "\n",
    "However, unlike Matlab, you call the variable within the f-string with curly braces, \n",
    "not after the string."
   ]
  },
  {
   "cell_type": "code",
   "execution_count": 14,
   "id": "34aca097",
   "metadata": {},
   "outputs": [
    {
     "name": "stdout",
     "output_type": "stream",
     "text": [
      "1+1 = 2\n",
      "2+1 = 3\n"
     ]
    }
   ],
   "source": [
    "print(\"1+1 = \" + str(1 + 1))  # This will return 1+1 = 2\n",
    "print(f\"2+1 = {2+1}\")"
   ]
  },
  {
   "cell_type": "markdown",
   "id": "c3b93d10",
   "metadata": {},
   "source": [
    "### Lesson 3: Programming with Data\n",
    "\n",
    "Reminder that you can't concatenate strings and integers directly in Python.\n",
    "\n",
    "Since we're in Python3, we should use f-strings for better readability. `print(f\"string {variables} another string\")`"
   ]
  },
  {
   "cell_type": "code",
   "execution_count": 25,
   "id": "9ff78f86",
   "metadata": {},
   "outputs": [
    {
     "name": "stdout",
     "output_type": "stream",
     "text": [
      "Beetlebug's age is 21 and height is 5.0 ft and 10.5 in.\n"
     ]
    }
   ],
   "source": [
    "# Initialize some variables\n",
    "name = \"Beetlebug\"\n",
    "age = 21\n",
    "heightInInches = 70.5\n",
    "\n",
    "# Print the variables\n",
    "# print(name + \"'s age is\" + age)\n",
    "print(f\"{name}'s age is {age} and height is {heightInInches//12} ft and {heightInInches % 12} in.\")"
   ]
  },
  {
   "cell_type": "markdown",
   "id": "98df67f8",
   "metadata": {},
   "source": [
    "### Lesson 4: Distance between Two Points"
   ]
  },
  {
   "cell_type": "markdown",
   "id": "584f8312",
   "metadata": {},
   "source": [
    "In this lesson, we're going to be using the math module for mathematical operations. Specifically, we'll be using `math.sqrt()`\n",
    "\n",
    "Something else to note is that we can assign multiple variables in a single line without requiring brackets or an array."
   ]
  },
  {
   "cell_type": "code",
   "execution_count": 16,
   "id": "4355b919",
   "metadata": {},
   "outputs": [
    {
     "name": "stdout",
     "output_type": "stream",
     "text": [
      "25\n",
      "The distance between (x: 1, y: 2) and (x: 4, y: 6) is 5.0\n"
     ]
    }
   ],
   "source": [
    "# Import the math module for mathematical operations\n",
    "import math\n",
    "\n",
    "# Initialize some variables\n",
    "x1, y1 = 1, 2 # Coordinates of the first point\n",
    "    # Unlike in Matlab, you can assign multiple variables in one line without ;\n",
    "x2, y2 = 4, 6 # Coordinates of the second point\n",
    "\n",
    "# Calculate the distance between the two points using the distance formula\n",
    "A = x2-x1\n",
    "B = y2-y1\n",
    "C2 = (A * A) + (B * B)\n",
    "print(C2) # We still need to take the square root to get the distance\n",
    "C = math.sqrt(C2)\n",
    "print(f\"The distance between (x: {x1}, y: {y1}) and (x: {x2}, y: {y2}) is {C}\")\n"
   ]
  },
  {
   "cell_type": "markdown",
   "id": "0255cfad",
   "metadata": {},
   "source": [
    "If we want to let the user input values, we can use `input()` and `float()`.\n",
    "\n",
    "`float()` will convert whatever input we receive from a string to a float value. `input()` naturally returns a string value. Additionally, any string we put into the parenthesis will be used as the call phrase for the input.\n",
    "\n",
    "Note: when we go to run the following code snippet, we will have to enter values in using the keyboard."
   ]
  },
  {
   "cell_type": "code",
   "execution_count": 17,
   "id": "9f80daa2",
   "metadata": {},
   "outputs": [
    {
     "name": "stdout",
     "output_type": "stream",
     "text": [
      "The distance between (x: 1.0, y: 4.0) and (x: 7.0, y: 12.0) is 10.0\n"
     ]
    }
   ],
   "source": [
    "# Import the math module for mathematical operations\n",
    "import math     # This is technically redundant since we already imported it above,\n",
    "                # but it's good practice to import modules at the top of the file.\n",
    "                # Additionally, if you run this code independently of the previous snippet,\n",
    "                # you will need to import the math module again.\n",
    "                \n",
    "x1 = float(input(\"Enter x1: \"))\n",
    "y1 = float(input(\"Enter y1: \"))\n",
    "x2 = float(input(\"Enter x2: \"))\n",
    "y2 = float(input(\"Enter y2: \"))\n",
    "# Recalculate the distance with user input\n",
    "A,B = x2-x1, y2-y1\n",
    "C = math.sqrt((A * A) + (B * B))\n",
    "print(f\"The distance between (x: {x1}, y: {y1}) and (x: {x2}, y: {y2}) is {C}\")"
   ]
  },
  {
   "cell_type": "markdown",
   "id": "957c1e6a",
   "metadata": {},
   "source": [
    "### Lesson 5: More with Strings"
   ]
  },
  {
   "cell_type": "code",
   "execution_count": 30,
   "id": "e281f761",
   "metadata": {},
   "outputs": [
    {
     "name": "stdout",
     "output_type": "stream",
     "text": [
      "A\n",
      "Alia\n",
      "lia \n",
      "a Feltes-DeYapp\n",
      "Alia F\n"
     ]
    }
   ],
   "source": [
    "# Start with a string\n",
    "name = \"Alia Feltes-DeYapp\"\n",
    "print(name[0])\n",
    "print(name[0:4]); print(name[1:5]) # Remember that Python starts at 0, not 1. Also use brackets to access a character in a string.\n",
    "\n",
    "# You can leave out the beginning or end index out if you're at the very beginning or end of the string\n",
    "print(name[3:])  # This will print the string from index 3 to the end\n",
    "print(name[:6])"
   ]
  },
  {
   "cell_type": "markdown",
   "id": "136538e4",
   "metadata": {},
   "source": [
    "We can also search for text inside of a string using `.find()` (gives us the first instance) & `.rfind()` gives us the last instance\n",
    "\n",
    "You can also print the variable by pausing a string by closing quotes and a comma"
   ]
  },
  {
   "cell_type": "code",
   "execution_count": 31,
   "id": "7fbee3da",
   "metadata": {},
   "outputs": [
    {
     "name": "stdout",
     "output_type": "stream",
     "text": [
      "'lia' is at position 1\n",
      "'bee' is at position -1\n",
      "3\n",
      "15\n"
     ]
    }
   ],
   "source": [
    "pos = name.find(\"lia\")\n",
    "print(\"'lia' is at position\", pos)  # This will print the position of the first occurrence of \"lia\" in the string\n",
    "print(\"'bee' is at position\", name.find(\"bee\")) # If it doesn't exist in the string, it will return -1\n",
    "\n",
    "pos2 = name.find(\"a\"); print(pos2)\n",
    "pos3 = name.rfind(\"a\"); print(pos3)\n"
   ]
  },
  {
   "cell_type": "markdown",
   "id": "7d0968aa",
   "metadata": {},
   "source": [
    "There are 2 ways that we could find the indices of every time a value is in a string.\n",
    "\n",
    "1. First off, we could import the re library `import re` and then use `re.finditer`\n",
    "2. We could use a for loop to find al indices"
   ]
  },
  {
   "cell_type": "markdown",
   "id": "22619410",
   "metadata": {},
   "source": [
    "The .count() function will say how many times a value appears in a string. It'll be case sensitive though"
   ]
  },
  {
   "cell_type": "code",
   "execution_count": 32,
   "id": "9ca58052",
   "metadata": {},
   "outputs": [
    {
     "name": "stdout",
     "output_type": "stream",
     "text": [
      "'a' appears 2 times in the string\n"
     ]
    }
   ],
   "source": [
    "numL = name.count(\"a\")  # Count is case-sensitive, so it will only count lowercase \"a\"\n",
    "print(\"'a' appears\", numL, \"times in the string\")  # This will print the number of times \"a\" appears in the string"
   ]
  },
  {
   "cell_type": "markdown",
   "id": "b40f6b54",
   "metadata": {},
   "source": [
    "If we want to find all the letters A in my name, we're going to have to make the string case insensitive. You can do this by converting the string to UPPERCASE (`.upper()`) or lowercase (`.lower()`) before counting\n",
    "\n",
    "If you're looking for a longer value, you'll want to convert the text of both to lowercase."
   ]
  },
  {
   "cell_type": "code",
   "execution_count": 33,
   "id": "c45e5388",
   "metadata": {},
   "outputs": [
    {
     "name": "stdout",
     "output_type": "stream",
     "text": [
      "'a' appears 3 times in the string (case insensitive)\n"
     ]
    }
   ],
   "source": [
    "numL2 = name.lower().count(\"a\")  # Convert the string to lowercase before counting\n",
    "print(\"'a' appears\", numL2, \"times in the string (case insensitive)\")\n",
    "    # This will print the number of times \"a\" appears in the string, case insensitive"
   ]
  },
  {
   "cell_type": "markdown",
   "id": "54524e28",
   "metadata": {},
   "source": [
    "If we want to replace a substring (part of a string), we'll use the `.replace()`"
   ]
  },
  {
   "cell_type": "code",
   "execution_count": 35,
   "id": "86675a4d",
   "metadata": {},
   "outputs": [
    {
     "name": "stdout",
     "output_type": "stream",
     "text": [
      "Query Feltes-DeYapp\n"
     ]
    }
   ],
   "source": [
    "nameReplace = name.replace(\"Alia\",\"Query\")\n",
    "print(nameReplace)"
   ]
  },
  {
   "cell_type": "markdown",
   "id": "4361a126",
   "metadata": {},
   "source": [
    "### Lesson 6: Prompting a User for Some Info (*JES* & *Python*)\n",
    "This originally was made for the [Jython Environment for Students](url:https://github.com/gatech-csl/jes). It'll be using some JES specific functions but we should be able to do most of it without JES."
   ]
  },
  {
   "cell_type": "markdown",
   "id": "6cd0db79",
   "metadata": {},
   "source": [
    "If we're in JES, we can use `requestString()` and `requestIntegerInRange()`. For Python, we'll just use `input()`.\n",
    "\n",
    "We'll also add an error loop in case we don't get a number for our age using `.isdigit()` to check if all the characters in the string are digits"
   ]
  },
  {
   "cell_type": "code",
   "execution_count": null,
   "id": "00c5491d",
   "metadata": {},
   "outputs": [
    {
     "name": "stdout",
     "output_type": "stream",
     "text": [
      "Hello H\n",
      "Please enter a valid age between 1 and 120.\n",
      "Please enter a valid age between 1 and 120.\n",
      "You are 12 years old.\n"
     ]
    }
   ],
   "source": [
    "username = input(\"Enter your name: \")\n",
    "print(\"Hello\", username)\n",
    "age = input(\"Enter your age: \")     # This is going to be a string. Let's check if it's actually an integer\n",
    "    \n",
    "while not age.isdigit():  # Keep asking for input until a valid integer is entered\n",
    "    print(\"Please enter a valid age.\")\n",
    "    age = input(\"Enter your age again: \")  # Ask for input again if the first input was invalid\n",
    "age = int(age)\n",
    "\n",
    "# while not (1 < age > 120):      # This is one way to check if the age is within a valid range. However it's comparatively slow.\n",
    "while 1 < int(age) and int(age) > 120:  # This is more efficient.\n",
    "    print(\"Please enter a valid age between 1 and 120.\")\n",
    "    age = input(\"Enter your age again: \")  # Ask for input again if the first input was invalid\n",
    "age = int(age)\n",
    "\n",
    "print(f\"You are {age} years old.\")"
   ]
  },
  {
   "cell_type": "markdown",
   "id": "2ddd23e8",
   "metadata": {},
   "source": [
    "The while loops can be combined to make the code more succinct. This sacrifices some of the readability sometimes but is still useful and often fairly necessary."
   ]
  },
  {
   "cell_type": "code",
   "execution_count": null,
   "id": "303c5463",
   "metadata": {},
   "outputs": [
    {
     "name": "stdout",
     "output_type": "stream",
     "text": [
      "Hello H\n",
      "Please enter a valid age.\n",
      "Please enter a valid age between 1 and 120.\n",
      "You are 23 years old.\n"
     ]
    }
   ],
   "source": [
    "username = input(\"Enter your name: \")\n",
    "print(\"Hello\", username)\n",
    "age = input(\"Enter your age: \")     # This is going to be a string. Let's check if it's actually an integer\n",
    "    \n",
    "while not age.isdigit() or (1 < int(age) and int(age) > 120):  # Check for valid integer and valid age range\n",
    "    if not age.isdigit():\n",
    "        print(\"Please enter a valid age.\")\n",
    "    elif (1 < int(age) and int(age) > 120):     # elseif becomes elif in Python\n",
    "        print(\"Please enter a valid age between 1 and 120.\")\n",
    "    age = input(\"Enter your age again: \")  # Ask for input again if the first input was invalid\n",
    "age = int(age)\n",
    "\n",
    "print(f\"You are {age} years old.\")"
   ]
  },
  {
   "cell_type": "markdown",
   "id": "c6b7b544",
   "metadata": {},
   "source": [
    "If you really want to you can save the strings as independent variables.\n",
    "\n",
    "Now, let's take the age variable from before and do some math."
   ]
  },
  {
   "cell_type": "code",
   "execution_count": null,
   "id": "e5e2951b",
   "metadata": {},
   "outputs": [
    {
     "name": "stdout",
     "output_type": "stream",
     "text": [
      "Hello Helvetica\n",
      "Please enter a valid age.\n",
      "Please enter a valid age between 1 and 120.\n",
      "You are 26 years old.You will be 31 years old in 5 years.\n"
     ]
    }
   ],
   "source": [
    "username = input(\"Enter your name: \")\n",
    "print(\"Hello\", username)\n",
    "age = input(\"Enter your age: \")     # This is going to be a string. Let's check if it's actually an integer\n",
    "    \n",
    "while not age.isdigit() or (1 < int(age) and int(age) > 120):  # Check for valid integer and valid age range\n",
    "    if not age.isdigit():\n",
    "        print(\"Please enter a valid age.\")\n",
    "    elif (1 < int(age) and int(age) > 120):     # elseif becomes elif in Python\n",
    "        print(\"Please enter a valid age between 1 and 120.\")\n",
    "    age = input(\"Enter your age again: \")  # Ask for input again if the first input was invalid\n",
    "age = int(age)\n",
    "\n",
    "out1 = \"You are \" +str(age) + \" years old.\"\n",
    "out2 = out1 + \" You will be \" + str(age + 5) + \" years old in 5 years.\"\n",
    "print(out2)     # In JES, you'd use showInformation instead of print."
   ]
  },
  {
   "cell_type": "markdown",
   "id": "ee2b41ca",
   "metadata": {},
   "source": [
    "### Lesson 7: Showing a Picture (*JES*)\n",
    "JES has built in functions for image, sound and video manipulation, typically held on the hard drive. Come back to this one later when you know a bit more about how Python uses images."
   ]
  },
  {
   "cell_type": "markdown",
   "id": "10726996",
   "metadata": {},
   "source": [
    "Create a variable to hold the name of a file.\n",
    "Print the pathName.\n",
    "Display the picture."
   ]
  },
  {
   "cell_type": "markdown",
   "id": "1d646e10",
   "metadata": {},
   "source": [
    "### Lesson 8: Accessing Pixels (*JES*)\n",
    "JES has built in functions for image, sound and video manipulation, typically held on the hard drive. Come back to this one later when you know a bit more about how Python uses images."
   ]
  },
  {
   "cell_type": "markdown",
   "id": "31e7a428",
   "metadata": {},
   "source": [
    "Obtain the height and width of the picture.\n",
    "Retrieve an individual pixel and find the RGB or HEX value for the pixel. Obtain the individual R, G or B values."
   ]
  },
  {
   "cell_type": "markdown",
   "id": "6bfe2653",
   "metadata": {},
   "source": [
    "### Lesson 9: Adding a Caption to a Picture (*JES*\n",
    "JES has built in functions for image, sound and video manipulation, typically held on the hard drive. Come back to this one later when you know a bit more about how Python uses images.)"
   ]
  },
  {
   "cell_type": "markdown",
   "id": "cc617657",
   "metadata": {},
   "source": [
    "Show a picture from the file system.\n",
    "Save caption text as a string.\n",
    "Specify text size, color and style of caption text.\n",
    "Specify position of caption.\n",
    "Add caption to picture."
   ]
  },
  {
   "cell_type": "markdown",
   "id": "a306c1f6",
   "metadata": {},
   "source": [
    "## Section 2 - Iterating Over Data"
   ]
  },
  {
   "cell_type": "markdown",
   "id": "1fc445fe",
   "metadata": {},
   "source": [
    "We're going to clear the variables in the notebook so that we don't accidentally get overlap across the sections. In Jupyter, we'll use `%reset -f`. We can also delete individual variables using `%reset_selective -f variable_name`\n",
    "\n",
    "In Python, there is no standard built-in command to clear all variables at once. You'll have to work in Jupyter or delete individual variables with: `del var, var1, var2`. You can also remove all user-defined variables with\n",
    "```\n",
    "for name in dir():\n",
    "    if not name.startswith('_'):\n",
    "        del globals()[name]\n",
    "```"
   ]
  },
  {
   "cell_type": "code",
   "execution_count": 1,
   "id": "83cc56b6",
   "metadata": {},
   "outputs": [],
   "source": [
    "%reset -f"
   ]
  },
  {
   "cell_type": "markdown",
   "id": "5af6ac14",
   "metadata": {},
   "source": [
    "### 2.1: Iterating Through a String"
   ]
  },
  {
   "cell_type": "markdown",
   "id": "d38d6ed4",
   "metadata": {},
   "source": [
    "The `for` loop allows for iteration over items in a sequence, not just indices. As long as there are items in a sequence, the `for` loop will iterate through each one by one.\n",
    "```\n",
    "for loop_var in sequence:\n",
    "    #code to execute\n",
    "```\n",
    "`loop_var` will be overwritten every time the loop runs. However, unlike the iterator variables in MATLAB, it will take on the value of the element in the sequence, not just count.\n",
    "\n",
    "You can still initialize empty strings outside of loops using `var = \"\"`"
   ]
  },
  {
   "cell_type": "code",
   "execution_count": 8,
   "id": "05677f4d",
   "metadata": {},
   "outputs": [
    {
     "name": "stdout",
     "output_type": "stream",
     "text": [
      "T\n",
      "Ti\n",
      "Tim\n",
      "Time\n",
      "Times\n",
      "Times \n",
      "Times R\n",
      "Times Ro\n",
      "Times Rom\n",
      "Times Roma\n",
      "Times Roman\n"
     ]
    }
   ],
   "source": [
    "name = \"Times Roman\"\n",
    "phrase = \"\"  # Initialize an empty string to store the phrase\n",
    "\n",
    "for letter in name:     # Remember to end loops with a colon, :\n",
    "    # Indentation defines the block code that belongs to the loop.\n",
    "    # You can use spaces or tabs for indentation, but be consistent throughout your code.\n",
    "    phrase = phrase + letter\n",
    "    print(phrase)\n",
    "    "
   ]
  },
  {
   "cell_type": "markdown",
   "id": "8a7a87fc",
   "metadata": {},
   "source": [
    "What if we wanted to invert the for loop and delete a letter in each line? First, let's have determine the length of the string using `len()`. Then we'll remove 1 letter at a time from the string by reducing the range we want to print each time."
   ]
  },
  {
   "cell_type": "code",
   "execution_count": 9,
   "id": "22024e7f",
   "metadata": {},
   "outputs": [
    {
     "name": "stdout",
     "output_type": "stream",
     "text": [
      "Times Roma\n",
      "Times Rom\n",
      "Times Ro\n",
      "Times R\n",
      "Times \n",
      "Times\n",
      "Time\n",
      "Tim\n",
      "Ti\n",
      "T\n",
      "\n"
     ]
    }
   ],
   "source": [
    "for loopvar in phrase:\n",
    "    phrase = phrase[0:len(phrase)-1]\n",
    "    print(phrase)"
   ]
  },
  {
   "cell_type": "markdown",
   "id": "f72582d4",
   "metadata": {},
   "source": [
    "### 2.2: Lists and Iteration"
   ]
  },
  {
   "cell_type": "markdown",
   "id": "93a66a78",
   "metadata": {},
   "source": [
    "Strings are a collection of individual characters.\n",
    "\n",
    "A list is a collection that can hold any type of data. It works more like cells or structs from MATLAB as it can hold multiple different types of data in it, rather than an array. However, lists are initialized using the square brackets.\n",
    "\n",
    "We'll test this out by creating a list of names."
   ]
  },
  {
   "cell_type": "code",
   "execution_count": 19,
   "id": "81fa4c8f",
   "metadata": {},
   "outputs": [
    {
     "name": "stdout",
     "output_type": "stream",
     "text": [
      "Alia FD\n",
      "Beetlebug\n",
      "Query\n",
      "Times Roman\n"
     ]
    }
   ],
   "source": [
    "names = [\"Alia FD\", \"Beetlebug\", \"Query\", \"Times Roman\"]\n",
    "for name in names:\n",
    "    print(name)"
   ]
  },
  {
   "cell_type": "markdown",
   "id": "9c2b3815",
   "metadata": {},
   "source": [
    "Now let's add more elements to the list. We'll do this using `.append(newVar)`. After that, let's also return the length of each name.\n",
    "\n",
    "We'll also reset the names list so that we don't add more elements than we're expecting. Python uses a \"half-open interval\" meaning that when you're defining a range, it includes the starting index but doesn't include the end index. You'll have to add an extra index value if we want to keep the whole "
   ]
  },
  {
   "cell_type": "code",
   "execution_count": 23,
   "id": "aa2908a6",
   "metadata": {},
   "outputs": [
    {
     "name": "stdout",
     "output_type": "stream",
     "text": [
      "Indexed 0:3 = ['Alia FD', 'Beetlebug', 'Query']\n",
      "Indexed 0:4 = ['Alia FD', 'Beetlebug', 'Query', 'Times Roman']\n",
      "Alia FD, length: 7\n",
      "Beetlebug, length: 9\n",
      "Query, length: 5\n",
      "Times Roman, length: 11\n",
      "Theresa FD, length: 10\n",
      "Clarity DeYapp, length: 14\n"
     ]
    }
   ],
   "source": [
    "names1 = names[0:3]  # This slices the list. It has 4 indices but will only keep the first 3 elements.\n",
    "print(f\"Indexed 0:3 = {names1}\")\n",
    "names = names[0:4]  # This will keep the first 4 elements of the list\n",
    "print(f\"Indexed 0:4 = {names}\")\n",
    "\n",
    "names.append(\"Theresa FD\")\n",
    "names.append(\"Clarity DeYapp\")\n",
    "\n",
    "for name in names:\n",
    "    print(f\"{name}, length: {len(name)}\")"
   ]
  },
  {
   "cell_type": "markdown",
   "id": "be159039",
   "metadata": {},
   "source": [
    "Now lets make a list that can hold lists. It works exactly like a cell array but with square brackets instead."
   ]
  },
  {
   "cell_type": "code",
   "execution_count": 26,
   "id": "560ad453",
   "metadata": {},
   "outputs": [
    {
     "name": "stdout",
     "output_type": "stream",
     "text": [
      "Alia FD's age is 23.\n",
      "Beetlebug's age is 25.\n",
      "Query's age is 26.\n",
      "Times Roman's age is 27.\n"
     ]
    }
   ],
   "source": [
    "namesAndBirthYears = [[\"Alia FD\", 2002], [\"Beetlebug\", 2000], [\"Query\", 1999], [\"Times Roman\", 1998]]\n",
    "currentYear = 2025\n",
    "\n",
    "for name_birth_year in namesAndBirthYears:\n",
    "    print(f\"{name_birth_year[0]}'s age is {currentYear - name_birth_year[1]}.\")"
   ]
  },
  {
   "cell_type": "markdown",
   "id": "f449f475",
   "metadata": {},
   "source": [
    "### 2.3: Splitting Strings"
   ]
  },
  {
   "cell_type": "markdown",
   "id": "4d06cfad",
   "metadata": {},
   "source": [
    "Lets use the `split()` string function to split a string into smaller sub-strings. Keep in mind that `split()` belongs to the string type."
   ]
  },
  {
   "cell_type": "code",
   "execution_count": 29,
   "id": "5e97ecf1",
   "metadata": {},
   "outputs": [
    {
     "name": "stdout",
     "output_type": "stream",
     "text": [
      "Do (length: 2)\n",
      "one (length: 3)\n",
      "thing (length: 5)\n",
      "every (length: 5)\n",
      "day (length: 3)\n",
      "that (length: 4)\n",
      "scares (length: 6)\n",
      "you. (length: 4)\n",
      "- (length: 1)\n",
      "Eleanor (length: 7)\n",
      "Roosevelt (length: 9)\n"
     ]
    }
   ],
   "source": [
    "famous_quote = \"Do one thing every day that scares you. - Eleanor Roosevelt\"\n",
    "# Split the string into a list of words. We're using \" \" to indicate a space delimiter.\n",
    "words = famous_quote.split(\" \")\n",
    "for word in words:\n",
    "    print(word + \" (length: \" + str(len(word)) + \")\")"
   ]
  },
  {
   "cell_type": "markdown",
   "id": "832cef06",
   "metadata": {},
   "source": [
    "### 2.4: Ranges\n",
    "Just a formal introduction to `range()`"
   ]
  },
  {
   "cell_type": "code",
   "execution_count": 30,
   "id": "39579079",
   "metadata": {},
   "outputs": [
    {
     "name": "stdout",
     "output_type": "stream",
     "text": [
      "1\n",
      "2\n",
      "3\n",
      "4\n"
     ]
    }
   ],
   "source": [
    "for number in range(1,5):  # This will iterate from 1 to 4 (5 is not included)\n",
    "    print(number)"
   ]
  },
  {
   "cell_type": "markdown",
   "id": "ff657112",
   "metadata": {},
   "source": [
    "`range()` is rather similar to `linspace()`. You can pass in 3 values: `range(start,end,n)`. If you only pass in one value however, the range will step by 1 from 0:the single value you gave."
   ]
  },
  {
   "cell_type": "code",
   "execution_count": null,
   "id": "211e1b86",
   "metadata": {},
   "outputs": [
    {
     "name": "stdout",
     "output_type": "stream",
     "text": [
      "1\n",
      "3\n",
      "5\n",
      "7\n",
      "9\n",
      "11\n",
      "13\n"
     ]
    }
   ],
   "source": [
    "for number in range(1,14,2):  # This will iterate from 1 to 13, stepping by 2\n",
    "    # Remember that the range function won't include the end value.\n",
    "    print(number)"
   ]
  },
  {
   "cell_type": "markdown",
   "id": "6c1d055d",
   "metadata": {},
   "source": [
    "Ranges of course can be used in for loops like in MATLAB. They also work for lists."
   ]
  },
  {
   "cell_type": "code",
   "execution_count": 46,
   "id": "5d0b4c0d",
   "metadata": {},
   "outputs": [
    {
     "name": "stdout",
     "output_type": "stream",
     "text": [
      "lveti\n",
      "\n",
      "Hleia\n",
      "\n",
      "evtc\n",
      "\n",
      "Name 1: Buddy (ID: 0)\n",
      "Name 2: Patrick (ID: 1)\n",
      "Name 3: Willy (ID: 2)\n",
      "Name 4: Juan Pablo (ID: 3)\n"
     ]
    }
   ],
   "source": [
    "name = \"Helvetica\"\n",
    "queue = \"\"\n",
    "for index in range(2,7):  # This will iterate from 2 to 6 (7 is not included)\n",
    "    queue += name[index]\n",
    "print(queue + \"\\n\"); queue = \"\"  # This will print the characters at indices 2 to 6 of the string \"Helvetica\"\n",
    "\n",
    "for index in range(0,len(name),2):\n",
    "    queue += name[index]\n",
    "print(queue + \"\\n\"); queue = \"\" \n",
    "\n",
    "for index in range(1,len(name),2):\n",
    "    queue += name[index]\n",
    "print(queue + \"\\n\")\n",
    "\n",
    "kids_and_cats = [\"Buddy\", \"Patrick\", \"Willy\", \"Juan Pablo\"]\n",
    "# Since we're starting at the beginning of the list, we don't need to specify a start index\n",
    "for index in range(len(kids_and_cats)):\n",
    "    print(f\"Name {index + 1}: {kids_and_cats[index]} (ID: {index})\")"
   ]
  },
  {
   "cell_type": "markdown",
   "id": "db6b5eec",
   "metadata": {},
   "source": [
    "### 2.5: Reading from a File"
   ]
  },
  {
   "cell_type": "markdown",
   "id": "18c8f5d0",
   "metadata": {},
   "source": [
    "Let's read in data from a file, \"The Tiger.txt\". Open the file with `open(\"path_name\",\"r\")` in which \"r\" means that we're reading from the file, not writing to it. Then read the file into a variable."
   ]
  },
  {
   "cell_type": "code",
   "execution_count": 51,
   "id": "53d2558d",
   "metadata": {},
   "outputs": [
    {
     "name": "stdout",
     "output_type": "stream",
     "text": [
      "The tiger\n",
      "He destroyed his cage\n",
      "Yes\n",
      "YES\n",
      "The tiger is out\n",
      "- Nael, age 6\n"
     ]
    }
   ],
   "source": [
    "file = open(\"The Tiger.txt\",\"r\")    # We're in the same folder as the file, so we're just calling the file name.\n",
    "\n",
    "text = file.read()  # Read the entire file into a string\n",
    "print(text)  # Print the contents of the file"
   ]
  },
  {
   "cell_type": "markdown",
   "id": "6c023d6c",
   "metadata": {},
   "source": [
    "We can also tell the file object to read individual lines of text using `.readlines()`. This will  read the file into a list instead of a string."
   ]
  },
  {
   "cell_type": "code",
   "execution_count": null,
   "id": "bb51c018",
   "metadata": {},
   "outputs": [
    {
     "name": "stdout",
     "output_type": "stream",
     "text": [
      "The tiger\n",
      "\n",
      "He destroyed his cage\n",
      "\n",
      "Yes\n",
      "\n",
      "YES\n",
      "\n",
      "The tiger is out\n",
      "\n",
      "- Nael, age 6\n",
      "\n",
      "The tiger\n",
      "He destroyed his cage\n",
      "Yes\n",
      "YES\n",
      "The tiger is out\n",
      "- Nael, age 6\n"
     ]
    }
   ],
   "source": [
    "# Jupyter is weird about reading this file, so we're opening it again. This wouldn't typically be needed.\n",
    "file = open(\"The Tiger.txt\",\"r\")    # We're in the same folder as the file, so we're just calling the file name.\n",
    "text_lines = file.readlines()  # Read the file into a list of lines\n",
    "\n",
    "for line in text_lines:\n",
    "    print(line)\n",
    "print()\n",
    "for line in text_lines:\n",
    "    print(line.strip()) # This will remove the leading and trailing whitespace from each line\n",
    "    # An alternative to this is to use the `rstrip()` method, which only removes trailing whitespace\n",
    "    # or to use `print(line, end=\"\")` to print the line without a newline character at the end.\n",
    "    \n",
    "file.close()  # Close the file when you're done with it to free up system resources\n",
    "# Jupyter automatically closes the file when the cell is done executing, but it's good practice to close files explicitly."
   ]
  },
  {
   "cell_type": "markdown",
   "id": "8eff1968",
   "metadata": {},
   "source": [
    "Lets add some numbers to each line using an integer variable."
   ]
  },
  {
   "cell_type": "code",
   "execution_count": null,
   "id": "12a258c5",
   "metadata": {},
   "outputs": [
    {
     "name": "stdout",
     "output_type": "stream",
     "text": [
      "1. The tiger\n",
      "2. He destroyed his cage\n",
      "3. Yes\n",
      "4. YES\n",
      "5. The tiger is out\n",
      "6. - Nael, age 6\n"
     ]
    }
   ],
   "source": [
    "file = open(\"The Tiger.txt\",\"r\")    # We're in the same folder as the file, so we're just calling the file name.\n",
    "\n",
    "line_number = 1  # Initialize a line number counter\n",
    "text_lines = file.readlines()  # Read the file into a list of lines\n",
    "for line in text_lines:\n",
    "    print(f\"{line_number}. {line.strip()}\")  # Print the line number and the line content\n",
    "    line_number += 1  # Increment the line number counter\n",
    "    \n",
    "file.close()  # Close the file when you're done with it to free up system resources"
   ]
  },
  {
   "cell_type": "markdown",
   "id": "f449817a",
   "metadata": {},
   "source": [
    "### 2.6: Writing to a File"
   ]
  },
  {
   "cell_type": "markdown",
   "id": "09d84f69",
   "metadata": {},
   "source": [
    "This time we'll write to a new file of our making. We'll use `open(\"path_name\",\"w\")`"
   ]
  },
  {
   "cell_type": "code",
   "execution_count": 61,
   "id": "2aadd40e",
   "metadata": {},
   "outputs": [],
   "source": [
    "file = open(\"The Tiger.txt\",\"r\")\n",
    "numbered_file = open(\"The Tiger Numbered.txt\", \"w\") # This will a new file to write the numbered lines\n",
    "\n",
    "line_number = 1\n",
    "text_lines = file.readlines()\n",
    "for line in text_lines:\n",
    "    # Instead of printing the line to the console, we're going to write to our new file.\n",
    "    numbered_file.write(f\"{str(line_number)}. {line}\")  # Write the line number and the line content to the new file\n",
    "    line_number += 1\n",
    "    \n",
    "file.close()\n",
    "numbered_file.close()"
   ]
  },
  {
   "cell_type": "markdown",
   "id": "adfb8030",
   "metadata": {},
   "source": [
    "### 2.7: Iterating Through Pixels (*JES*)"
   ]
  },
  {
   "cell_type": "markdown",
   "id": "5a585e71",
   "metadata": {},
   "source": [
    "### 2.8: Greying an Image (*JES*)"
   ]
  },
  {
   "cell_type": "markdown",
   "id": "84895133",
   "metadata": {},
   "source": [
    "### 2.9: Copying an Image (*JES*)"
   ]
  },
  {
   "cell_type": "markdown",
   "id": "5f88595a",
   "metadata": {},
   "source": [
    "### 2.10: Enlarging a Picture (*JES*)"
   ]
  },
  {
   "cell_type": "markdown",
   "id": "d8d05b91",
   "metadata": {},
   "source": [
    "## Section 3 - Conditions with `if` and `while`"
   ]
  },
  {
   "cell_type": "code",
   "execution_count": null,
   "id": "1378fd0f",
   "metadata": {},
   "outputs": [],
   "source": [
    "%reset -f"
   ]
  },
  {
   "cell_type": "markdown",
   "id": "41d40c74",
   "metadata": {},
   "source": [
    "### 3.1: Comparisons by the Computer"
   ]
  },
  {
   "cell_type": "markdown",
   "id": "60bf7f38",
   "metadata": {},
   "source": [
    "You can use the booleans `True` and `False` in python.\n",
    "\n",
    "Values can be compared using the logical operators: `>, <, >=, <=, ==, and !=`\n",
    "\n",
    "Logical operators also work with strings. They will evaluate where the word comes lexographically (which comes first alphobetically and in ASCII)"
   ]
  },
  {
   "cell_type": "code",
   "execution_count": 2,
   "id": "4d8cea8f",
   "metadata": {},
   "outputs": [
    {
     "name": "stdout",
     "output_type": "stream",
     "text": [
      "True\n",
      "False\n"
     ]
    }
   ],
   "source": [
    "true_false_value = (1 + 4) >= (5 - 2)\n",
    "print(true_false_value)  # This will print True\n",
    "\n",
    "word_1 = \"Hello\"\n",
    "word_2 = \"World\"\n",
    "true_false_value = word_1 > word_2\n",
    "print(true_false_value)"
   ]
  },
  {
   "cell_type": "markdown",
   "id": "c62d1193",
   "metadata": {},
   "source": [
    "### 3.2: `if`, `if/else`, `if/elif/else` statements"
   ]
  },
  {
   "cell_type": "markdown",
   "id": "c2871a29",
   "metadata": {},
   "source": [
    "Python uses `if`, `elif`, and `else` in if/else statements. However, we're used to this already with `C++`. And of course you can nest if/else statements\n",
    "\n",
    "We're going to make this example a bit more interesting by introducing a random element to it using the **numpy library**."
   ]
  },
  {
   "cell_type": "code",
   "execution_count": 10,
   "id": "aecae1c6",
   "metadata": {},
   "outputs": [
    {
     "name": "stdout",
     "output_type": "stream",
     "text": [
      "x is less than 5\n"
     ]
    }
   ],
   "source": [
    "import numpy as np\n",
    "\n",
    "x = np.random.randint(1,11)  # Generate a random integer between 1 and 10 (includes 1, excludes 11)\n",
    "\n",
    "if x == 5:  # This will check if x is equal to 5\n",
    "    print(\"x is equal to 5\")  # This will print if the condition is true\n",
    "elif x < 5:\n",
    "    print(\"x is less than 5\")\n",
    "else:\n",
    "    print(\"x is greater than 5\")"
   ]
  },
  {
   "cell_type": "markdown",
   "id": "def2e6f9",
   "metadata": {},
   "source": [
    "### 3.3: Logical Operators"
   ]
  },
  {
   "cell_type": "markdown",
   "id": "3c85665b",
   "metadata": {},
   "source": [
    "There are three logical operators that fall outside of the numerical operators (>, <, >=, <=, ==, !=). They are `and`, `or` and `not`. There are no symbolic operators for these logical operators and you must spell them out.\n",
    "\n",
    "I was bored with the scenario that the tutorial gave me so instead we're doing this one:\n",
    "* Write a program for discounts at a movie theater.\n",
    "* The person has to be under 18 or have a valid student ID\n",
    "* The movie is only available for 12+\n",
    "* If eligible, print \"Discount applied\". If not, print \"No discount available\". If too young, print \"Movie unavailable. Please choose a different movie.\""
   ]
  },
  {
   "cell_type": "code",
   "execution_count": 16,
   "id": "d61f950e",
   "metadata": {},
   "outputs": [
    {
     "name": "stdout",
     "output_type": "stream",
     "text": [
      "Discount applied to ticket for Alice. 16 0\n",
      "Discount applied to ticket for Bob. 13 1\n",
      "Discount applied to ticket for Charlie. 20 1\n",
      "Movie unavailable for Diana. Please choose another movie.\n",
      "Discount applied to ticket for Edward. 12 0\n"
     ]
    }
   ],
   "source": [
    "import numpy as np\n",
    "\n",
    "# List of people in line at theater. Age. ID.\n",
    "people_in_line = [\n",
    "    [\"Alice\", np.random.randint(8,25), np.random.randint(0,2)],\n",
    "    [\"Bob\", np.random.randint(8,25), np.random.randint(0,2)],\n",
    "    [\"Charlie\", np.random.randint(8,25), np.random.randint(0,2)],\n",
    "    [\"Diana\", np.random.randint(8,25), np.random.randint(0,2)],\n",
    "    [\"Edward\", np.random.randint(8,25), np.random.randint(0,2)],\n",
    "]\n",
    "\n",
    "for person in people_in_line:\n",
    "    name, age, id = person  # Unpack the list into variables\n",
    "    if age < 12:\n",
    "        print(f\"Movie unavailable for {name}. Please choose another movie.\")\n",
    "    elif (12 <= age <= 18) or (id == 1):\n",
    "        print(f\"Discount applied to ticket for {name}.\")\n",
    "    else:\n",
    "        print(f\"No discount available for {name}.\")"
   ]
  },
  {
   "cell_type": "markdown",
   "id": "a3e0f7f4",
   "metadata": {},
   "source": [
    "### 3.4: Loops"
   ]
  },
  {
   "cell_type": "markdown",
   "id": "feb7bc88",
   "metadata": {},
   "source": [
    "We've used `for` loops a decent amount in the tutorial so far. However, we haven't gotten a lot of use with `while` loops so that will be the focus of this example.\n",
    "\n",
    "To start off, we'll typically initialize a counter that we will iterate upon every loop. Also verify that you didn't build an infinite loop.\n"
   ]
  },
  {
   "cell_type": "code",
   "execution_count": 17,
   "id": "cfc642f3",
   "metadata": {},
   "outputs": [
    {
     "name": "stdout",
     "output_type": "stream",
     "text": [
      "Counter: 1\n",
      "Counter: 2\n",
      "Counter: 3\n",
      "Counter: 4\n",
      "Counter: 5\n"
     ]
    }
   ],
   "source": [
    "counter = 1\n",
    "\n",
    "while counter <= 5:\n",
    "    print(f\"Counter: {counter}\")\n",
    "    counter += 1  # Increment the counter by 1"
   ]
  },
  {
   "cell_type": "markdown",
   "id": "eee9ae7c",
   "metadata": {},
   "source": [
    "This time, use nested `while` loops to count from 0 to a random integer."
   ]
  },
  {
   "cell_type": "code",
   "execution_count": 29,
   "id": "4412d360",
   "metadata": {},
   "outputs": [
    {
     "name": "stdout",
     "output_type": "stream",
     "text": [
      "Counting up to 15\n",
      "00 01 02 03 04 05 06 07 08 09 \n",
      "10 11 12 13 14 15 \n"
     ]
    }
   ],
   "source": [
    "import numpy as np\n",
    "count_up_to = np.random.randint(10, 100)  # Random number between 10 and 99\n",
    "print(f\"Counting up to {count_up_to}\")\n",
    "\n",
    "tens = 0\n",
    "ones = 0\n",
    "total = 0\n",
    "\n",
    "while total <= count_up_to:\n",
    "    row_text = \"\"\n",
    "    ones = 0\n",
    "    while ones < 10 and total <= count_up_to:\n",
    "        row_text = row_text + str(tens) + str(ones) + \" \"\n",
    "        ones += 1\n",
    "        total += 1\n",
    "    print(row_text)\n",
    "    tens += 1\n",
    "           "
   ]
  },
  {
   "cell_type": "markdown",
   "id": "ab9b0706",
   "metadata": {},
   "source": [
    "### 3.5: Adding a Border to a Picture (*JES*)"
   ]
  },
  {
   "cell_type": "markdown",
   "id": "bed2477e",
   "metadata": {},
   "source": [
    "### 3.6: Finding the Predominant Color in a Row (*JES*)"
   ]
  },
  {
   "cell_type": "markdown",
   "id": "23e67f24",
   "metadata": {},
   "source": [
    "## Section 4 - Data Containers"
   ]
  },
  {
   "cell_type": "code",
   "execution_count": null,
   "id": "6de81190",
   "metadata": {},
   "outputs": [],
   "source": [
    "%reset -f"
   ]
  },
  {
   "cell_type": "markdown",
   "id": "00d346b0",
   "metadata": {},
   "source": [
    "### 4.1: Python Lists"
   ]
  },
  {
   "cell_type": "markdown",
   "id": "5cfb96fb",
   "metadata": {},
   "source": [
    "Let's look further into lists. Lists can hold heterogeneous types of data including other lists.\n",
    "\n",
    "You can obtain the number of elements with `len()` and add to the end of a list with `.append()`."
   ]
  },
  {
   "cell_type": "code",
   "execution_count": 32,
   "id": "f83e5df7",
   "metadata": {},
   "outputs": [
    {
     "name": "stdout",
     "output_type": "stream",
     "text": [
      "The list has 4 elements in it\n",
      "The list now has 5 elements in it\n",
      "\n",
      "['Boeing 747', 'Airbus A380', 'Boeing 777', 'Airbus A350', 'Cesna 172']\n"
     ]
    }
   ],
   "source": [
    "airplane_models = [\"Boeing 747\", \"Airbus A380\", \"Boeing 777\", \"Airbus A350\"]\n",
    "print(f\"The list has {len(airplane_models)} elements in it\")\n",
    "\n",
    "new_airplane_model = \"Cesna 172\"\n",
    "airplane_models.append(new_airplane_model)\n",
    "print(f\"The list now has {len(airplane_models)} elements in it\")\n",
    "print()\n",
    "print(airplane_models)"
   ]
  },
  {
   "cell_type": "markdown",
   "id": "e8ef1331",
   "metadata": {},
   "source": [
    "To index into the list, use the square brackets. Use `len()` to check the length of the list before indexing to avoid getting an IndexError"
   ]
  },
  {
   "cell_type": "code",
   "execution_count": 38,
   "id": "1bdc5068",
   "metadata": {},
   "outputs": [
    {
     "name": "stdout",
     "output_type": "stream",
     "text": [
      "Airplane 5 is the Cesna 172\n"
     ]
    }
   ],
   "source": [
    "import numpy as np\n",
    "\n",
    "airplane_models = [\"Boeing 747\", \"Airbus A380\", \"Boeing 777\", \"Airbus A350\", \"Cesna 172\"]\n",
    "index = np.random.randint(0,len(airplane_models))\n",
    "print(f\"Airplane {index + 1} is the {airplane_models[index]}\")"
   ]
  },
  {
   "cell_type": "markdown",
   "id": "f37a73c9",
   "metadata": {},
   "source": [
    "You can check for items in the list using the `in` operator."
   ]
  },
  {
   "cell_type": "code",
   "execution_count": 44,
   "id": "8cfe9ca2",
   "metadata": {},
   "outputs": [
    {
     "name": "stdout",
     "output_type": "stream",
     "text": [
      "Boeing 747 is in the list\n",
      "Aero Super Guppy is not in the list\n"
     ]
    }
   ],
   "source": [
    "airplane_models = [\"Boeing 747\", \"Airbus A380\", \"Boeing 777\", \"Airbus A350\", \"Cesna 172\"]\n",
    "\n",
    "if \"Boeing 747\" in airplane_models:\n",
    "    print(\"Boeing 747 is in the list\")\n",
    "else:\n",
    "    print(\"Boeing 747 is not in the list\")\n",
    "\n",
    "if \"Aero Super Guppy\" in airplane_models:\n",
    "    print(\"Aero Super Guppy is in the list\")\n",
    "else:\n",
    "    print(\"Aero Super Guppy is not in the list\")"
   ]
  },
  {
   "cell_type": "markdown",
   "id": "6409734a",
   "metadata": {},
   "source": [
    "Practice slicing the list, aka grabbing a portion of the list."
   ]
  },
  {
   "cell_type": "code",
   "execution_count": 45,
   "id": "9508fd97",
   "metadata": {},
   "outputs": [
    {
     "name": "stdout",
     "output_type": "stream",
     "text": [
      "The first 3 aircraft are ['Boeing 747', 'Airbus A380', 'Boeing 777']\n",
      "The last 3 aircraft are ['Boeing 777', 'Airbus A350', 'Cesna 172']\n",
      "The last 2 aircraft are ['Airbus A350', 'Cesna 172']\n",
      "The middle aircraft are ['Airbus A380', 'Boeing 777', 'Airbus A350']\n"
     ]
    }
   ],
   "source": [
    "airplane_models = [\"Boeing 747\", \"Airbus A380\", \"Boeing 777\", \"Airbus A350\", \"Cesna 172\"]\n",
    "\n",
    "print(f\"The first 3 aircraft are {airplane_models[:3]}\")\n",
    "print(f\"The last 3 aircraft are {airplane_models[len(airplane_models)-3:]}\")\n",
    "# This ^ was one way to specify that we wanted the last 3 elements. However, there is an easier way\n",
    "print(f\"The last 2 aircraft are {airplane_models[-2:]}\")    # This tells the list to start at the end\n",
    "print(f\"The middle aircraft are {airplane_models[1:-1]}\")   # This removes the first & last elements"
   ]
  },
  {
   "cell_type": "markdown",
   "id": "efbeca50",
   "metadata": {},
   "source": [
    "As mentioned earlier, lists can hold elements of different types, as well as other lists."
   ]
  },
  {
   "cell_type": "code",
   "execution_count": 50,
   "id": "d9797a9f",
   "metadata": {},
   "outputs": [
    {
     "name": "stdout",
     "output_type": "stream",
     "text": [
      "['string', 0.2, True]\n",
      "\n",
      "List size: 3\n",
      "['string', 0.2, True]\n",
      "List size: 5\n",
      "['Boeing 747', 'Airbus A380', 'Boeing 777', 'Airbus A350', 'Cesna 172']\n",
      "List size: 0\n",
      "[]\n",
      "List size: 3\n",
      "['Alice', 'Kate', 'Charlotte']\n",
      "List size: 2\n",
      "['hello', 'world']\n"
     ]
    }
   ],
   "source": [
    "heterogeneous_list = [\"string\", 0.2, True]\n",
    "\n",
    "print(heterogeneous_list)\n",
    "print()\n",
    "\n",
    "airplane_models = [\"Boeing 747\", \"Airbus A380\", \"Boeing 777\", \"Airbus A350\", \"Cesna 172\"]\n",
    "people = [\"Alice\",\"Kate\",\"Charlotte\"]\n",
    "list_of_lists = [heterogeneous_list, airplane_models,[],people,[\"hello\",\"world\"]]\n",
    "\n",
    "for list in list_of_lists:\n",
    "    print(f\"List size: {len(list)}\")\n",
    "    print(list)"
   ]
  },
  {
   "cell_type": "markdown",
   "id": "bf0c8908",
   "metadata": {},
   "source": [
    "### 4.2: Python Dictionaries"
   ]
  },
  {
   "cell_type": "markdown",
   "id": "c813c320",
   "metadata": {},
   "source": [
    "### 4.3: Python Sets"
   ]
  },
  {
   "cell_type": "markdown",
   "id": "98e318fd",
   "metadata": {},
   "source": [
    "### 4.4: Storing User Supplied Data in a Dictionary (*JES*)"
   ]
  },
  {
   "cell_type": "markdown",
   "id": "e8bd0cb0",
   "metadata": {},
   "source": [
    "## Section 5 - Functions"
   ]
  },
  {
   "cell_type": "code",
   "execution_count": null,
   "id": "e5125598",
   "metadata": {},
   "outputs": [],
   "source": [
    "%reset -f"
   ]
  },
  {
   "cell_type": "markdown",
   "id": "8be63513",
   "metadata": {},
   "source": [
    "### 5.1: A First Function"
   ]
  },
  {
   "cell_type": "markdown",
   "id": "3668218b",
   "metadata": {},
   "source": [
    "### 5.2: Function Return Values"
   ]
  },
  {
   "cell_type": "markdown",
   "id": "153a619b",
   "metadata": {},
   "source": [
    "### 5.3: Parameters"
   ]
  },
  {
   "cell_type": "markdown",
   "id": "7b82ba25",
   "metadata": {},
   "source": [
    "### 5.4: Scope of Variables"
   ]
  },
  {
   "cell_type": "markdown",
   "id": "4f0c0226",
   "metadata": {},
   "source": [
    "### 5.5: Pass by Reference or Pass by Value"
   ]
  },
  {
   "cell_type": "markdown",
   "id": "572b1281",
   "metadata": {},
   "source": [
    "### 5.6: Sorting with Functions"
   ]
  },
  {
   "cell_type": "markdown",
   "id": "e3dcffbb",
   "metadata": {},
   "source": [
    "### 5.6: RE.Adding Text and Saving a File Using Functions (*JES*)"
   ]
  },
  {
   "cell_type": "markdown",
   "id": "19dfccdf",
   "metadata": {},
   "source": [
    "### 5.8: Shrinking a Picture (*JES*)"
   ]
  },
  {
   "cell_type": "markdown",
   "id": "056ab17e",
   "metadata": {},
   "source": [
    "### 5.9: Making a Movie with Moving Text (*JES*)"
   ]
  },
  {
   "cell_type": "markdown",
   "id": "a838621e",
   "metadata": {},
   "source": [
    "## Section 6 - Classes"
   ]
  },
  {
   "cell_type": "code",
   "execution_count": null,
   "id": "79b41e11",
   "metadata": {},
   "outputs": [],
   "source": [
    "%reset -f"
   ]
  },
  {
   "cell_type": "markdown",
   "id": "ec79b46c",
   "metadata": {},
   "source": [
    "### 6.1: Classes"
   ]
  },
  {
   "cell_type": "markdown",
   "id": "b0cbe52b",
   "metadata": {},
   "source": [
    "### 6.2: Class with Data and Methods"
   ]
  },
  {
   "cell_type": "markdown",
   "id": "451a0f42",
   "metadata": {},
   "source": [
    "### 6.3: Classes that Interact with Each Other"
   ]
  },
  {
   "cell_type": "markdown",
   "id": "2d0f2f1a",
   "metadata": {},
   "source": [
    "### 6.4: Inheritance"
   ]
  },
  {
   "cell_type": "markdown",
   "id": "718ec8c8",
   "metadata": {},
   "source": [
    "### 6.5: Photo Resizing/Rotating Class (*JES*)"
   ]
  }
 ],
 "metadata": {
  "kernelspec": {
   "display_name": ".venv",
   "language": "python",
   "name": "python3"
  },
  "language_info": {
   "codemirror_mode": {
    "name": "ipython",
    "version": 3
   },
   "file_extension": ".py",
   "mimetype": "text/x-python",
   "name": "python",
   "nbconvert_exporter": "python",
   "pygments_lexer": "ipython3",
   "version": "3.11.3"
  }
 },
 "nbformat": 4,
 "nbformat_minor": 5
}
