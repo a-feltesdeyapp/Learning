{
 "cells": [
  {
   "cell_type": "markdown",
   "id": "8008c525",
   "metadata": {},
   "source": [
    "# An Animated Introduction to Programming with Python\n",
    "## Mark Mahoney\n",
    "### https://playbackpress.com/books/pybook"
   ]
  },
  {
   "cell_type": "markdown",
   "id": "b34bbd23",
   "metadata": {},
   "source": [
    "## Section 1 - Flow of Control and Simple Data"
   ]
  },
  {
   "cell_type": "markdown",
   "id": "ba1dc8dd",
   "metadata": {},
   "source": [
    "### Lesson 1: Printing and flow\n",
    "Programs are executed from top to bottom."
   ]
  },
  {
   "cell_type": "code",
   "execution_count": 1,
   "id": "aeca571e",
   "metadata": {},
   "outputs": [
    {
     "name": "stdout",
     "output_type": "stream",
     "text": [
      "My name is Alia\n",
      "\n",
      "I'm learning Python\n"
     ]
    }
   ],
   "source": [
    "print(\"My name is Alia\")\n",
    "print(\"\") # This prints a blank line\n",
    "print(\"I'm learning Python\")"
   ]
  },
  {
   "cell_type": "markdown",
   "id": "70ece36b",
   "metadata": {},
   "source": [
    "There are two types of strings in Python: single quotes and double quotes. Both are the same, but you can use one inside the other without escaping.\n",
    "This is different from Matlab, where you'd have char arrays instead of a string."
   ]
  },
  {
   "cell_type": "code",
   "execution_count": 2,
   "id": "b0360b73",
   "metadata": {},
   "outputs": [
    {
     "name": "stdout",
     "output_type": "stream",
     "text": [
      "testing\n",
      "<class 'str'>\n",
      "<class 'str'>\n"
     ]
    }
   ],
   "source": [
    "print('testing')\n",
    "temp = 'testing'; temp2 = \"Testing\"\n",
    "print(type(temp))  # This will return the type of the variable temp\n",
    "print(type(temp2))"
   ]
  },
  {
   "cell_type": "markdown",
   "id": "65778937",
   "metadata": {},
   "source": [
    "You can also use triple quotes for multi-line strings."
   ]
  },
  {
   "cell_type": "code",
   "execution_count": 3,
   "id": "bdcd478d",
   "metadata": {},
   "outputs": [
    {
     "name": "stdout",
     "output_type": "stream",
     "text": [
      "Testing out a multi-line string.\n",
      "    Here we see the second line.\n",
      "This would be useful for writing haikus.\n"
     ]
    }
   ],
   "source": [
    "print('''Testing out a multi-line string.\n",
    "    Here we see the second line.\n",
    "This would be useful for writing haikus.''')"
   ]
  },
  {
   "cell_type": "markdown",
   "id": "3e8aea6a",
   "metadata": {},
   "source": [
    "Something to note is that Python takes into account the indentation of the code\n",
    "particularly when printing multi-line strings\n",
    "This is different from Matlab, where you can use semicolons to separate lines\n",
    "However, you can also use \\n to create new lines in a string, just like in Matlab"
   ]
  },
  {
   "cell_type": "code",
   "execution_count": 4,
   "id": "179df489",
   "metadata": {},
   "outputs": [
    {
     "name": "stdout",
     "output_type": "stream",
     "text": [
      "\n",
      "New Line\n",
      "\n"
     ]
    }
   ],
   "source": [
    "print('\\nNew Line\\n') # I don't know what was going on there for a sec, the terminal wasn't agreeing with my code. it's fixed now though."
   ]
  },
  {
   "cell_type": "markdown",
   "id": "5335a2d4",
   "metadata": {},
   "source": [
    "We can run the program by typing python3 hello.py in the terminal\n",
    "We can also run the program by pressing F5 in VSCode.\n",
    "Pressing F5 technically runs the program in debug mode, which allows us to step through the code line by line.\n",
    "\n",
    "Remember that you don't need to use semicolons at the end of each line in Python, unlike Matlab.\n",
    "However, you can use semicolons to separate multiple statements on the same line, but this is not recommended.\n",
    "It's better to write each statement on a new line for readability.\n",
    "You can also use the print() function to print multiple values on the same line, separated by commas."
   ]
  },
  {
   "cell_type": "code",
   "execution_count": 5,
   "id": "35d127ba",
   "metadata": {},
   "outputs": [
    {
     "name": "stdout",
     "output_type": "stream",
     "text": [
      "Hello World from Python\n"
     ]
    }
   ],
   "source": [
    "print(\"Hello\", \"World\", \"from\", \"Python\")  # This will print Hello World from Python on the same line\n"
   ]
  },
  {
   "cell_type": "markdown",
   "id": "60cea22e",
   "metadata": {},
   "source": [
    "You can also use the end parameter of the print() function to change the end character."
   ]
  },
  {
   "cell_type": "code",
   "execution_count": 6,
   "id": "836a0613",
   "metadata": {},
   "outputs": [
    {
     "name": "stdout",
     "output_type": "stream",
     "text": [
      "Hello World!"
     ]
    }
   ],
   "source": [
    "print(\"Hello\", end=\" \")  # This will print Hello without a new line at the end\n",
    "print(\"World\", end=\"!\")  # This will print World! on the same line"
   ]
  },
  {
   "cell_type": "markdown",
   "id": "28897e78",
   "metadata": {},
   "source": [
    "### Lesson 2: Arithmetic and comparing numbers"
   ]
  },
  {
   "cell_type": "code",
   "execution_count": 7,
   "id": "5b242f27",
   "metadata": {},
   "outputs": [
    {
     "name": "stdout",
     "output_type": "stream",
     "text": [
      "\n",
      "Computers are good at math, but they are not good at reading minds.\n",
      "\n",
      "3.3333333333333335\n",
      "2\n",
      "4\n",
      "8\n"
     ]
    }
   ],
   "source": [
    "print(\"\\nComputers are good at math, but they are not good at reading minds.\\n\")\n",
    "# print(10+5)\n",
    "# print(10-7)\n",
    "# print(3*102)  # Basic math is easy. The issues come in when we start doing division.\n",
    "\n",
    "print(10/3) # This will return a float\n",
    "print(16//8) # This will return an int\n",
    "print(20%8) # This will return the remainder of the division. Mod operator.\n",
    "print(2**3) # This will return 8, which is 2 raised to the power of 3"
   ]
  },
  {
   "cell_type": "markdown",
   "id": "e0bcd28a",
   "metadata": {},
   "source": [
    "Note that in Python 3, division always returns a float, even if the result is a whole number.\n",
    "Also note that there is a 5 at the end of the result. This stops the computer from storing infinite precision.\n",
    "\n",
    "You can combine float and intergers, but you will get a float as a result"
   ]
  },
  {
   "cell_type": "markdown",
   "id": "05825a07",
   "metadata": {},
   "source": [
    "\n",
    "Python also follows PEMDAS"
   ]
  },
  {
   "cell_type": "code",
   "execution_count": 8,
   "id": "1f262ce8",
   "metadata": {},
   "outputs": [
    {
     "name": "stdout",
     "output_type": "stream",
     "text": [
      "-4\n"
     ]
    }
   ],
   "source": [
    "print(2*(3-5))"
   ]
  },
  {
   "cell_type": "markdown",
   "id": "bb5a0799",
   "metadata": {},
   "source": [
    "Comparison operators are the same as in Matlab"
   ]
  },
  {
   "cell_type": "code",
   "execution_count": 9,
   "id": "400369d3",
   "metadata": {},
   "outputs": [
    {
     "name": "stdout",
     "output_type": "stream",
     "text": [
      "True\n",
      "False\n",
      "True\n",
      "False\n",
      "True\n",
      "False\n"
     ]
    }
   ],
   "source": [
    "print(10 == 10)  # This will return True\n",
    "print(10 != 10)  # This will return False\n",
    "print(10 > 5)    # This will return True\n",
    "print(10 < 5)    # This will return False\n",
    "print(10 >= 10)  # This will return True\n",
    "print(10 <= 5)   # This will return False"
   ]
  },
  {
   "cell_type": "markdown",
   "id": "6c7e2e84",
   "metadata": {},
   "source": [
    "You can also compare strings, but they will be compared lexicographically"
   ]
  },
  {
   "cell_type": "code",
   "execution_count": 10,
   "id": "35040c29",
   "metadata": {},
   "outputs": [
    {
     "name": "stdout",
     "output_type": "stream",
     "text": [
      "True\n",
      "True\n",
      "False\n",
      "True\n",
      "True\n",
      "True\n"
     ]
    }
   ],
   "source": [
    "print('a' == 'a')  # This will return True\n",
    "print('a' != 'b')  # This will return True\n",
    "print('a' > 'b')    # This will return False\n",
    "print('a' < 'b')    # This will return True\n",
    "print('a' >= 'a')  # This will return True\n",
    "print('a' <= 'b')   # This will return True"
   ]
  },
  {
   "cell_type": "markdown",
   "id": "8ad0397f",
   "metadata": {},
   "source": [
    "You can also compare strings with numbers, but they will be compared lexicographically\n",
    "Why? Because Python treats strings as sequences of characters, and the string '1' is lexicographically less than the integer 1.\n",
    "\n",
    "Lexicographic comparison is the same as in Matlab\n",
    "\n",
    "As a reminder, lexicographic comparison is the comparison of strings based on the order of their characters in the ASCII table.\n",
    "\n",
    "For example, 'a' is less than 'b', and 'A' is less than 'a'.\n",
    "\n",
    "Characters are compared from L>R and if all characters equal up to the length of the shorter string, the shorter string is considered smaller.\n",
    "\n",
    "If you convert integers to strings, then lexicographical order applies:\n",
    "\n",
    "\"12\" > \"100\" (because '1' == '1', '2' > '0')\n",
    "\n",
    "\"2\" > \"10\" (because '2' > '1')"
   ]
  },
  {
   "cell_type": "code",
   "execution_count": 11,
   "id": "c767f739",
   "metadata": {},
   "outputs": [
    {
     "name": "stdout",
     "output_type": "stream",
     "text": [
      "False\n",
      "True\n"
     ]
    }
   ],
   "source": [
    "print('1' == 1)  # This will return False\n",
    "print('1' != 1)  # This will return True\n",
    "# print('1' > 1)    # This should return False but I received an error\n",
    "# print('1' < 1)    # This will return True\n",
    "# print('1' >= 1)  # This will return False\n",
    "# print('1' <= 1)   # This will return True"
   ]
  },
  {
   "cell_type": "markdown",
   "id": "f3891912",
   "metadata": {},
   "source": [
    "In Python2, comparing a string with an integer would return a boolean, but in Python 3, it raises a TypeError. However, if you convert the integer to a string, then the comparison will work.\n",
    "\n",
    "Generally, just compare like variables."
   ]
  },
  {
   "cell_type": "markdown",
   "id": "a6501222",
   "metadata": {},
   "source": [
    "You can also use the in operator to check if a string is in another string"
   ]
  },
  {
   "cell_type": "code",
   "execution_count": 12,
   "id": "84aa8068",
   "metadata": {},
   "outputs": [
    {
     "name": "stdout",
     "output_type": "stream",
     "text": [
      "\n",
      "True\n"
     ]
    }
   ],
   "source": [
    "print('')\n",
    "print(\"Hello\" in \"Hello World\")  # This will return True"
   ]
  },
  {
   "cell_type": "markdown",
   "id": "e25d5518",
   "metadata": {},
   "source": [
    "\"+\" can be used for concatenation of strings, and \"*\" will repeat a string"
   ]
  },
  {
   "cell_type": "code",
   "execution_count": 13,
   "id": "44158ced",
   "metadata": {},
   "outputs": [
    {
     "name": "stdout",
     "output_type": "stream",
     "text": [
      "Hello World\n",
      "Hello Hello Hello \n"
     ]
    }
   ],
   "source": [
    "print(\"Hello\" + \" \" + \"World\")  # This will return Hello World\n",
    "print(\"Hello \" * 3)  # This will return Hello Hello Hello"
   ]
  },
  {
   "cell_type": "markdown",
   "id": "5a668a19",
   "metadata": {},
   "source": [
    "However, you cannot combine strings and numbers with the + operator\n",
    "\n",
    "Instead, you can convert the number to a string, or use f-strings, (equivalent to %n or %2f in Matlab)\n",
    "\n",
    "However, unlike Matlab, you call the variable within the f-string with curly braces, \n",
    "not after the string."
   ]
  },
  {
   "cell_type": "code",
   "execution_count": 14,
   "id": "34aca097",
   "metadata": {},
   "outputs": [
    {
     "name": "stdout",
     "output_type": "stream",
     "text": [
      "1+1 = 2\n",
      "2+1 = 3\n"
     ]
    }
   ],
   "source": [
    "print(\"1+1 = \" + str(1 + 1))  # This will return 1+1 = 2\n",
    "print(f\"2+1 = {2+1}\")"
   ]
  },
  {
   "cell_type": "markdown",
   "id": "c3b93d10",
   "metadata": {},
   "source": [
    "### Lesson 3: Programming with Data\n",
    "\n",
    "Reminder that you can't concatenate strings and integers directly in Python.\n",
    "\n",
    "Since we're in Python3, we should use f-strings for better readability"
   ]
  },
  {
   "cell_type": "code",
   "execution_count": 15,
   "id": "9ff78f86",
   "metadata": {},
   "outputs": [
    {
     "name": "stdout",
     "output_type": "stream",
     "text": [
      "Beetlebug's age is 21 and height is 5.0 ft and 10.5 in.\n"
     ]
    }
   ],
   "source": [
    "# Initialize some variables\n",
    "name = \"Beetlebug\"\n",
    "age = 21\n",
    "heightInInches = 70.5\n",
    "\n",
    "# Print the variables\n",
    "# print(name + \"'s age is\" + age)\n",
    "print(f\"{name}'s age is {age} and height is {heightInInches//12} ft and {heightInInches % 12} in.\")"
   ]
  },
  {
   "cell_type": "markdown",
   "id": "98df67f8",
   "metadata": {},
   "source": [
    "### Lesson 4: Distance between Two Points"
   ]
  },
  {
   "cell_type": "markdown",
   "id": "584f8312",
   "metadata": {},
   "source": [
    "In this lesson, we're going to be using the math module for mathematical operations. Specifically, we'll be using math.sqrt()\n",
    "\n",
    "Something else to note is that we can assign multiple variables in a single line without requiring brackets or an array."
   ]
  },
  {
   "cell_type": "code",
   "execution_count": 16,
   "id": "4355b919",
   "metadata": {},
   "outputs": [
    {
     "name": "stdout",
     "output_type": "stream",
     "text": [
      "25\n",
      "The distance between (x: 1, y: 2) and (x: 4, y: 6) is 5.0\n"
     ]
    }
   ],
   "source": [
    "# Import the math module for mathematical operations\n",
    "import math\n",
    "\n",
    "# Initialize some variables\n",
    "x1, y1 = 1, 2 # Coordinates of the first point\n",
    "    # Unlike in Matlab, you can assign multiple variables in one line without ;\n",
    "x2, y2 = 4, 6 # Coordinates of the second point\n",
    "\n",
    "# Calculate the distance between the two points using the distance formula\n",
    "A = x2-x1\n",
    "B = y2-y1\n",
    "C2 = (A * A) + (B * B)\n",
    "print(C2) # We still need to take the square root to get the distance\n",
    "C = math.sqrt(C2)\n",
    "print(f\"The distance between (x: {x1}, y: {y1}) and (x: {x2}, y: {y2}) is {C}\")\n"
   ]
  },
  {
   "cell_type": "markdown",
   "id": "0255cfad",
   "metadata": {},
   "source": [
    "If we want to let the user input values, we can use input() and float().\n",
    "\n",
    "float() will convert whatever input we receive from a string to a float value. input() naturally returns a string value. Additionally, any string we put into the parenthesis will be used as the call phrase for the input.\n",
    "\n",
    "Note: when we go to run the following code snippet, we will have to enter values in using the keyboard."
   ]
  },
  {
   "cell_type": "code",
   "execution_count": 17,
   "id": "9f80daa2",
   "metadata": {},
   "outputs": [
    {
     "name": "stdout",
     "output_type": "stream",
     "text": [
      "The distance between (x: 1.0, y: 4.0) and (x: 7.0, y: 12.0) is 10.0\n"
     ]
    }
   ],
   "source": [
    "# Import the math module for mathematical operations\n",
    "import math     # This is technically redundant since we already imported it above,\n",
    "                # but it's good practice to import modules at the top of the file.\n",
    "                # Additionally, if you run this code independently of the previous snippet,\n",
    "                # you will need to import the math module again.\n",
    "                \n",
    "x1 = float(input(\"Enter x1: \"))\n",
    "y1 = float(input(\"Enter y1: \"))\n",
    "x2 = float(input(\"Enter x2: \"))\n",
    "y2 = float(input(\"Enter y2: \"))\n",
    "# Recalculate the distance with user input\n",
    "A,B = x2-x1, y2-y1\n",
    "C = math.sqrt((A * A) + (B * B))\n",
    "print(f\"The distance between (x: {x1}, y: {y1}) and (x: {x2}, y: {y2}) is {C}\")"
   ]
  }
 ],
 "metadata": {
  "kernelspec": {
   "display_name": ".venv",
   "language": "python",
   "name": "python3"
  },
  "language_info": {
   "codemirror_mode": {
    "name": "ipython",
    "version": 3
   },
   "file_extension": ".py",
   "mimetype": "text/x-python",
   "name": "python",
   "nbconvert_exporter": "python",
   "pygments_lexer": "ipython3",
   "version": "3.11.3"
  }
 },
 "nbformat": 4,
 "nbformat_minor": 5
}
