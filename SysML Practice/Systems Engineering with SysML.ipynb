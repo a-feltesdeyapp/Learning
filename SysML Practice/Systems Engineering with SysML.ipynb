{
 "cells": [
  {
   "cell_type": "markdown",
   "id": "128dc3c8-279d-41ad-9281-d135fe16c6ad",
   "metadata": {},
   "source": [
    "# Modeling with SysML V2 *by Neelam Dwivedi*\n",
    "This course is recommended for individuals with a Systems Engineering background.\n",
    "- No prior knowledge of SysML is required. However you will need to ba able to think about systems in abstractions.\n",
    "    - You will be considering stakeholder requirements and modeling behavior fulfilling those requirements as diagrams.\n",
    "- SysML is a modeling language, not a programming language. You will build model scripts, not executable programs.\n",
    "- Need basic knowledge of a code interpreter (Eclipse or Jupyter IDE) or a tool that supports SysML v2.\n",
    "    - Textual models for this course are provided at https://github.com/LinkedInLearning/systems-engineering-with-sysml-3955241 for download and use locally.\n",
    "    - Instructions for setting up the IDE are provided at https://github.com/Systems-Modeling/SysML-v2-Release/tree/master/install\n",
    "\n",
    "## 1. Introduction to SysML\n",
    "\n",
    "### What is SysML\n",
    "- SysML: A general-purpose modeling language for modeling systems, intended to facilitate a MBSE approach to engineering systems (Systems Modeling Language)\n",
    "- Model-Based Systems Engineering (MBSE): Application of modeling to entire systems engineering lifecycle. Engineering data is expressed as models.\n",
    "    - Enables a single source of truth for system definition\n",
    "    - Supports multiple stakeholder inputs and views.\n",
    "    - Model-based data set can be queried and tested\n",
    "\n",
    "#### What's New in v2?\n",
    "- Published by OMG in 2024\n",
    "- Created as extension of Kernel Modeling Language (KerML)\n",
    "- Supports graphical and textual notation\n",
    "\n",
    "#### Where to Find SysML v2\n",
    "- OMG SysML v2 release: https://github.com/Systems-Modeling/SysML-v2-Release\n",
    "- Key contents:\n",
    "    - Specification documents\n",
    "    - Introductory presentations\n",
    "    - Eclipse & Jupyter plugins\n",
    "    - Model projects\n",
    "\n",
    "### SysML Overview\n",
    "Different **Modeling Constructs** available to build different types of models\n",
    "- Requirements Modeling: Requirements\n",
    "    - Calculations, Constraints\n",
    "- Structural Modeling: Structural composition of system. System decomposition, interfaces, classification\n",
    "    - Items, Parts, Ports, Connections, Allocations\n",
    "- Behavior Modeling: Flow of messages, actions and states\n",
    "    - Flows, Actions, States\n",
    "- Cases: Elaboration of requirements based on structure and behavior\n",
    "    - Analysis cases, Verification cases, Use cases\n",
    "\n",
    "All models are based on specified modeling constructs designed using a pattern of definition and usage.\n",
    "- Element Definition & Usage: Define system component and Use\n",
    "- Attributes: Characteristics of elements\n",
    "- Occurrences: Model spatial and temporal instances of elements\n",
    "- Individuals: Specific instances of an element\n",
    "- Viewpoints: Information of interest for specific group of stakeholders\n",
    "- User-Defined Metadata: Tagging, domain specification, extend past SysML\n",
    "\n",
    "### SysML Tools\n",
    "- MBSE Tools with SYSML Support\n",
    "    - Ansys System Architecture Modeler\n",
    "    - PTC Modeler\n",
    "    - Siemens Simcenter\n",
    "    - Etc.\n",
    "    - Model Based Systems Engineering 4 You: https://mbse4u.com/mbse-tools/\n",
    "- SysML Plug-Ins in OMG Repo\n",
    "    - Eclipse: Req Java JDK 11+, PlantUML, Graphviz, SysML Project & Libraries\n",
    "    - Jupyter: Req Java JKD 11+, Miniconda w/ Python 3.x [Graphviz, SysML Project & Libraries are integrated directly in plugin]\n"
   ]
  },
  {
   "cell_type": "code",
   "execution_count": null,
   "id": "b3826284",
   "metadata": {
    "tags": [],
    "vscode": {
     "languageId": "plaintext"
    }
   },
   "outputs": [
    {
     "name": "stderr",
     "output_type": "stream",
     "text": [
      "ERROR:Couldn't resolve reference to Element 'this'. (1.sysml line : 11 column : 17)\n",
      "ERROR:Couldn't resolve reference to Element 'this'. (1.sysml line : 11 column : 37)\n",
      "ERROR:Couldn't resolve reference to Element 'heatingPort'. (1.sysml line : 11 column : 22)\n",
      "ERROR:Couldn't resolve reference to Element 'heatingElement'. (1.sysml line : 11 column : 42)\n",
      "ERROR:Couldn't resolve reference to Element 'powerPort'. (1.sysml line : 11 column : 57)\n",
      "ERROR:Must be a valid feature (1.sysml line : 11 column : 17)\n",
      "ERROR:Must be a valid feature (1.sysml line : 11 column : 22)\n",
      "ERROR:Must be a valid feature (1.sysml line : 11 column : 17)\n",
      "ERROR:Must be a valid feature (1.sysml line : 11 column : 22)\n",
      "ERROR:Must be a valid feature (1.sysml line : 11 column : 37)\n",
      "ERROR:Must be a valid feature (1.sysml line : 11 column : 42)\n",
      "ERROR:Must be a valid feature (1.sysml line : 11 column : 37)\n",
      "ERROR:Must be a valid feature (1.sysml line : 11 column : 42)\n",
      "ERROR:Must be a valid feature (1.sysml line : 11 column : 57)\n",
      "ERROR:Must be a valid feature (1.sysml line : 11 column : 37)\n",
      "ERROR:Must be a valid feature (1.sysml line : 11 column : 42)\n",
      "ERROR:Must be a valid feature (1.sysml line : 11 column : 37)\n",
      "ERROR:Must be a valid feature (1.sysml line : 11 column : 42)\n",
      "ERROR:Must be a valid feature (1.sysml line : 11 column : 57)\n"
     ]
    },
    {
     "data": {
      "text/plain": []
     },
     "execution_count": 1,
     "metadata": {},
     "output_type": "execute_result"
    }
   ],
   "source": [
    "package testSample{\n",
    "part def Oven;\n",
    "part def HeatingElement{\n",
    "    attribute temperature;\n",
    "}\n",
    "\n",
    "part testOven: Oven{\n",
    "    part heatingElement: HeatingElement;\n",
    "}\n",
    "}"
   ]
  },
  {
   "cell_type": "code",
   "execution_count": null,
   "id": "3c499d54-8f28-4779-b6de-19c3c3b77f8c",
   "metadata": {
    "tags": [],
    "vscode": {
     "languageId": "sysml"
    }
   },
   "outputs": [
    {
     "data": {
      "image/svg+xml": [
       "<?xml version=\"1.0\" encoding=\"UTF-8\" standalone=\"no\"?><svg xmlns=\"http://www.w3.org/2000/svg\" xmlns:xlink=\"http://www.w3.org/1999/xlink\" contentScriptType=\"application/ecmascript\" contentStyleType=\"text/css\" height=\"357px\" preserveAspectRatio=\"none\" style=\"width:359px;height:357px;\" version=\"1.1\" viewBox=\"0 0 359 357\" width=\"359px\" zoomAndPan=\"magnify\"><defs/><g><!--MD5=[fbc87193dbaf4d95561dea2c320d4a47]\n",
       "cluster E1--><a href=\"psysml:727f2b1a-eea4-4917-8a9d-2b3126c0f31f\" target=\"_top\" title=\"psysml:727f2b1a-eea4-4917-8a9d-2b3126c0f31f\" xlink:actuate=\"onRequest\" xlink:href=\"psysml:727f2b1a-eea4-4917-8a9d-2b3126c0f31f\" xlink:show=\"new\" xlink:title=\"psysml:727f2b1a-eea4-4917-8a9d-2b3126c0f31f\" xlink:type=\"simple\"><polygon fill=\"#FFFFFF\" points=\"16,6,102,6,109,28.4883,337,28.4883,337,345,16,345,16,6\" style=\"stroke: #000000; stroke-width: 1.5;\"/><line style=\"stroke: #000000; stroke-width: 1.5;\" x1=\"16\" x2=\"109\" y1=\"28.4883\" y2=\"28.4883\"/><text fill=\"#000000\" font-family=\"sans-serif\" font-size=\"14\" font-weight=\"bold\" lengthAdjust=\"spacingAndGlyphs\" textLength=\"80\" x=\"20\" y=\"21.5352\">testSample</text></a><!--MD5=[b4997ac47864f28c2f74865a473b2911]\n",
       "class E2--><a href=\"psysml:1114e453-f3cf-4566-b35c-427971070ccc\" target=\"_top\" title=\"psysml:1114e453-f3cf-4566-b35c-427971070ccc\" xlink:actuate=\"onRequest\" xlink:href=\"psysml:1114e453-f3cf-4566-b35c-427971070ccc\" xlink:show=\"new\" xlink:title=\"psysml:1114e453-f3cf-4566-b35c-427971070ccc\" xlink:type=\"simple\"><rect fill=\"#FFFFFF\" height=\"46.2656\" id=\"E2\" style=\"stroke: #383838; stroke-width: 1.5;\" width=\"61\" x=\"32.5\" y=\"147\"/><text fill=\"#000000\" font-family=\"sans-serif\" font-size=\"12\" font-style=\"italic\" lengthAdjust=\"spacingAndGlyphs\" textLength=\"59\" x=\"33.5\" y=\"163.6016\">«part def»</text><text fill=\"#000000\" font-family=\"sans-serif\" font-size=\"12\" lengthAdjust=\"spacingAndGlyphs\" textLength=\"29\" x=\"48.5\" y=\"177.7344\">Oven</text><line style=\"stroke: #383838; stroke-width: 1.5;\" x1=\"33.5\" x2=\"92.5\" y1=\"185.2656\" y2=\"185.2656\"/></a><!--MD5=[09b614a08d8cba4a07c9adeb5e0fee81]\n",
       "class E3--><a href=\"psysml:ffc68924-6c7e-4595-b675-4d59f4bb94a1\" target=\"_top\" title=\"psysml:ffc68924-6c7e-4595-b675-4d59f4bb94a1\" xlink:actuate=\"onRequest\" xlink:href=\"psysml:ffc68924-6c7e-4595-b675-4d59f4bb94a1\" xlink:show=\"new\" xlink:title=\"psysml:ffc68924-6c7e-4595-b675-4d59f4bb94a1\" xlink:type=\"simple\"><rect fill=\"#FFFFFF\" height=\"76.1758\" id=\"E3\" style=\"stroke: #383838; stroke-width: 1.5;\" width=\"96\" x=\"177\" y=\"253\"/><text fill=\"#000000\" font-family=\"sans-serif\" font-size=\"12\" font-style=\"italic\" lengthAdjust=\"spacingAndGlyphs\" textLength=\"59\" x=\"195.5\" y=\"269.6016\">«part def»</text><text fill=\"#000000\" font-family=\"sans-serif\" font-size=\"12\" lengthAdjust=\"spacingAndGlyphs\" textLength=\"90\" x=\"180\" y=\"283.7344\">HeatingElement</text><line style=\"stroke: #383838; stroke-width: 1.5;\" x1=\"178\" x2=\"272\" y1=\"291.2656\" y2=\"291.2656\"/><text fill=\"#000000\" font-family=\"sans-serif\" font-size=\"11\" lengthAdjust=\"spacingAndGlyphs\" textLength=\"66\" x=\"183\" y=\"322.8555\">temperature</text><line style=\"stroke: #383838; stroke-width: 1.0;\" x1=\"178\" x2=\"199\" y1=\"305.7432\" y2=\"305.7432\"/><text fill=\"#000000\" font-family=\"sans-serif\" font-size=\"11\" lengthAdjust=\"spacingAndGlyphs\" textLength=\"52\" x=\"199\" y=\"309.4004\">attributes</text><line style=\"stroke: #383838; stroke-width: 1.0;\" x1=\"251\" x2=\"272\" y1=\"305.7432\" y2=\"305.7432\"/></a><!--MD5=[ebbe1d658d1005bcc118a6aa81145e00]\n",
       "class E4--><a href=\"psysml:b419ea2f-4036-4f8c-b410-eb8f70014610\" target=\"_top\" title=\"psysml:b419ea2f-4036-4f8c-b410-eb8f70014610\" xlink:actuate=\"onRequest\" xlink:href=\"psysml:b419ea2f-4036-4f8c-b410-eb8f70014610\" xlink:show=\"new\" xlink:title=\"psysml:b419ea2f-4036-4f8c-b410-eb8f70014610\" xlink:type=\"simple\"><rect fill=\"#FFFFFF\" height=\"46.2656\" id=\"E4\" rx=\"10\" ry=\"10\" style=\"stroke: #383838; stroke-width: 1.5;\" width=\"93\" x=\"105.5\" y=\"41\"/><text fill=\"#000000\" font-family=\"sans-serif\" font-size=\"12\" font-style=\"italic\" lengthAdjust=\"spacingAndGlyphs\" textLength=\"36\" x=\"134\" y=\"57.6016\">«part»</text><text fill=\"#000000\" font-family=\"sans-serif\" font-size=\"12\" lengthAdjust=\"spacingAndGlyphs\" textLength=\"87\" x=\"108.5\" y=\"71.7344\">testOven: Oven</text><line style=\"stroke: #383838; stroke-width: 1.5;\" x1=\"106.5\" x2=\"197.5\" y1=\"79.2656\" y2=\"79.2656\"/></a><!--MD5=[270fce915f116d4de14055a7c1d9a0f3]\n",
       "class E5--><a href=\"psysml:13059de6-7ca1-4338-9510-8973a3d77c39\" target=\"_top\" title=\"psysml:13059de6-7ca1-4338-9510-8973a3d77c39\" xlink:actuate=\"onRequest\" xlink:href=\"psysml:13059de6-7ca1-4338-9510-8973a3d77c39\" xlink:show=\"new\" xlink:title=\"psysml:13059de6-7ca1-4338-9510-8973a3d77c39\" xlink:type=\"simple\"><rect fill=\"#FFFFFF\" height=\"46.2656\" id=\"E5\" rx=\"10\" ry=\"10\" style=\"stroke: #383838; stroke-width: 1.5;\" width=\"192\" x=\"129\" y=\"147\"/><text fill=\"#000000\" font-family=\"sans-serif\" font-size=\"12\" font-style=\"italic\" lengthAdjust=\"spacingAndGlyphs\" textLength=\"36\" x=\"207\" y=\"163.6016\">«part»</text><text fill=\"#000000\" font-family=\"sans-serif\" font-size=\"12\" lengthAdjust=\"spacingAndGlyphs\" textLength=\"186\" x=\"132\" y=\"177.7344\">heatingElement: HeatingElement</text><line style=\"stroke: #383838; stroke-width: 1.5;\" x1=\"130\" x2=\"320\" y1=\"185.2656\" y2=\"185.2656\"/></a><!--MD5=[185131fc0dcab0a4505a2ebe144e961b]\n",
       "link E4 to E2--><a href=\"psysml:54e5ebde-0540-4cdb-b97e-1bcd918dfa30\" target=\"_top\" title=\"psysml:54e5ebde-0540-4cdb-b97e-1bcd918dfa30\" xlink:actuate=\"onRequest\" xlink:href=\"psysml:54e5ebde-0540-4cdb-b97e-1bcd918dfa30\" xlink:show=\"new\" xlink:title=\"psysml:54e5ebde-0540-4cdb-b97e-1bcd918dfa30\" xlink:type=\"simple\"><path d=\"M133.13,87.06 C122.03,100.02 107.72,116.74 94.92,131.7 \" fill=\"none\" id=\"E4-&gt;E2\" style=\"stroke: #383838; stroke-width: 1.0;\"/><polygon fill=\"#FFFFFF\" points=\"81.85,146.98,88.8796,127.9909,99.5191,137.0905,81.85,146.98\" style=\"stroke: #383838; stroke-width: 1.0;\"/><ellipse cx=\"94.1044\" cy=\"124.9591\" fill=\"#383838\" rx=\"2\" ry=\"2\" style=\"stroke: #383838; stroke-width: 1.0;\"/><ellipse cx=\"101.704\" cy=\"131.4588\" fill=\"#383838\" rx=\"2\" ry=\"2\" style=\"stroke: #383838; stroke-width: 1.0;\"/></a><!--MD5=[62aa6af11e70f752912c1cb0466f24f7]\n",
       "reverse link E4 to E5--><a href=\"psysml:f6bd3036-2576-4933-9cbc-eed0cef7a52b\" target=\"_top\" title=\"psysml:f6bd3036-2576-4933-9cbc-eed0cef7a52b\" xlink:actuate=\"onRequest\" xlink:href=\"psysml:f6bd3036-2576-4933-9cbc-eed0cef7a52b\" xlink:show=\"new\" xlink:title=\"psysml:f6bd3036-2576-4933-9cbc-eed0cef7a52b\" xlink:type=\"simple\"><path d=\"M175.23,98.09 C186.44,114.06 199.58,132.78 209.54,146.98 \" fill=\"none\" id=\"E4&lt;-E5\" style=\"stroke: #383838; stroke-width: 1.0;\"/><polygon fill=\"#383838\" points=\"167.48,87.06,167.6581,94.2689,174.381,96.8771,174.2029,89.6682,167.48,87.06\" style=\"stroke: #383838; stroke-width: 1.0;\"/></a><!--MD5=[e9be52314489bd878ff4c7144b63c9e1]\n",
       "link E5 to E3--><a href=\"psysml:f61a317c-6bc2-48f9-a4fa-e5779628dc8f\" target=\"_top\" title=\"psysml:f61a317c-6bc2-48f9-a4fa-e5779628dc8f\" xlink:actuate=\"onRequest\" xlink:href=\"psysml:f61a317c-6bc2-48f9-a4fa-e5779628dc8f\" xlink:show=\"new\" xlink:title=\"psysml:f61a317c-6bc2-48f9-a4fa-e5779628dc8f\" xlink:type=\"simple\"><path d=\"M225,193.1 C225,204.3 225,218.48 225,232.5 \" fill=\"none\" id=\"E5-&gt;E3\" style=\"stroke: #383838; stroke-width: 1.0;\"/><polygon fill=\"#FFFFFF\" points=\"225,252.58,218,233.58,232,233.58,225,252.58\" style=\"stroke: #383838; stroke-width: 1.0;\"/><ellipse cx=\"220\" cy=\"227.88\" fill=\"#383838\" rx=\"2\" ry=\"2\" style=\"stroke: #383838; stroke-width: 1.0;\"/><ellipse cx=\"230\" cy=\"227.88\" fill=\"#383838\" rx=\"2\" ry=\"2\" style=\"stroke: #383838; stroke-width: 1.0;\"/></a><!--MD5=[ea5660d50d6640fd733a528ea42e4a21]\n",
       "@startuml\r\n",
       "skinparam monochrome true\r\n",
       "skinparam classbackgroundcolor white\r\n",
       "skinparam shadowing false\r\n",
       "skinparam wrapWidth 300\r\n",
       "hide circle\r\n",
       "\r\n",
       "package \"testSample\" as E1  [[psysml:727f2b1a-eea4-4917-8a9d-2b3126c0f31f ]]  {\r\n",
       "comp def \"Oven\" as E2  <<(T,blue) part def>> [[psysml:1114e453-f3cf-4566-b35c-427971070ccc ]] {\r\n",
       "}\r\n",
       "comp def \"HeatingElement\" as E3  <<(T,blue) part def>> [[psysml:ffc68924-6c7e-4595-b675-4d59f4bb94a1 ]] {\r\n",
       "- - attributes - -\r\n",
       "temperature\r\n",
       "}\r\n",
       "comp usage \"testOven: Oven\" as E4  <<(T,blue) part>> [[psysml:b419ea2f-4036-4f8c-b410-eb8f70014610 ]] {\r\n",
       "}\r\n",
       "comp usage \"heatingElement: HeatingElement\" as E5  <<(T,blue) part>> [[psysml:13059de6-7ca1-4338-9510-8973a3d77c39 ]] {\r\n",
       "}\r\n",
       "E4 - -:|> E2 [[psysml:54e5ebde-0540-4cdb-b97e-1bcd918dfa30 ]] \r\n",
       "E4 *- - E5 [[psysml:f6bd3036-2576-4933-9cbc-eed0cef7a52b ]] \r\n",
       "E5 - -:|> E3 [[psysml:f61a317c-6bc2-48f9-a4fa-e5779628dc8f ]] \r\n",
       "}\r\n",
       "@enduml\r\n",
       "\n",
       "PlantUML version 1.2020.13(Sat Jun 13 06:26:38 MDT 2020)\n",
       "(EPL source distribution)\n",
       "Java Runtime: OpenJDK Runtime Environment\n",
       "JVM: OpenJDK 64-Bit Server VM\n",
       "Default Encoding: UTF-8\n",
       "Language: en\n",
       "Country: US\n",
       "--></g></svg>"
      ]
     },
     "execution_count": 3,
     "metadata": {},
     "output_type": "execute_result"
    }
   ],
   "source": [
    "%viz --view=tree testSample"
   ]
  },
  {
   "cell_type": "code",
   "execution_count": null,
   "id": "b4198f45-f6f8-4047-a065-b6e93d5edaa6",
   "metadata": {
    "tags": [],
    "vscode": {
     "languageId": "sysml"
    }
   },
   "outputs": [
    {
     "data": {
      "image/svg+xml": [
       "<?xml version=\"1.0\" encoding=\"UTF-8\" standalone=\"no\"?><svg xmlns=\"http://www.w3.org/2000/svg\" xmlns:xlink=\"http://www.w3.org/1999/xlink\" contentScriptType=\"application/ecmascript\" contentStyleType=\"text/css\" height=\"373px\" preserveAspectRatio=\"none\" style=\"width:816px;height:373px;background:#000000;\" version=\"1.1\" viewBox=\"0 0 816 373\" width=\"816px\" zoomAndPan=\"magnify\"><defs/><g><rect fill=\"#121213\" height=\"1\" style=\"stroke: #121213; stroke-width: 1.0;\" width=\"1\" x=\"0\" y=\"0\"/><rect fill=\"#33FF02\" height=\"21.4883\" style=\"stroke: #33FF02; stroke-width: 1.0;\" width=\"809\" x=\"5\" y=\"5\"/><text fill=\"#000000\" font-family=\"sans-serif\" font-size=\"14\" font-weight=\"bold\" lengthAdjust=\"spacingAndGlyphs\" textLength=\"165\" x=\"6\" y=\"20\">[From string (line 19) ]</text><text fill=\"#33FF02\" font-family=\"sans-serif\" font-size=\"14\" font-weight=\"bold\" lengthAdjust=\"spacingAndGlyphs\" textLength=\"0\" x=\"10\" y=\"40.4883\"/><text fill=\"#33FF02\" font-family=\"sans-serif\" font-size=\"14\" font-weight=\"bold\" lengthAdjust=\"spacingAndGlyphs\" textLength=\"74\" x=\"5\" y=\"56.9766\">@startuml</text><text fill=\"#33FF02\" font-family=\"sans-serif\" font-size=\"14\" font-weight=\"bold\" lengthAdjust=\"spacingAndGlyphs\" textLength=\"161\" x=\"5\" y=\"73.4648\">skinparam ranksep 10</text><text fill=\"#33FF02\" font-family=\"sans-serif\" font-size=\"14\" font-weight=\"bold\" lengthAdjust=\"spacingAndGlyphs\" textLength=\"157\" x=\"5\" y=\"89.9531\">skinparam rectangle {</text><text fill=\"#33FF02\" font-family=\"sans-serif\" font-size=\"14\" font-weight=\"bold\" lengthAdjust=\"spacingAndGlyphs\" textLength=\"289\" x=\"10\" y=\"106.4414\">backgroundColor&lt;&lt;block&gt;&gt; LightGreen</text><text fill=\"#33FF02\" font-family=\"sans-serif\" font-size=\"14\" font-weight=\"bold\" lengthAdjust=\"spacingAndGlyphs\" textLength=\"5\" x=\"5\" y=\"122.9297\">}</text><text fill=\"#33FF02\" font-family=\"sans-serif\" font-size=\"14\" font-weight=\"bold\" lengthAdjust=\"spacingAndGlyphs\" textLength=\"209\" x=\"5\" y=\"139.418\">skinparam monochrome true</text><text fill=\"#33FF02\" font-family=\"sans-serif\" font-size=\"14\" font-weight=\"bold\" lengthAdjust=\"spacingAndGlyphs\" textLength=\"282\" x=\"5\" y=\"155.9063\">skinparam classbackgroundcolor white</text><text fill=\"#33FF02\" font-family=\"sans-serif\" font-size=\"14\" font-weight=\"bold\" lengthAdjust=\"spacingAndGlyphs\" textLength=\"199\" x=\"5\" y=\"172.3945\">skinparam shadowing false</text><text fill=\"#33FF02\" font-family=\"sans-serif\" font-size=\"14\" font-weight=\"bold\" lengthAdjust=\"spacingAndGlyphs\" textLength=\"190\" x=\"5\" y=\"188.8828\">skinparam wrapWidth 300</text><text fill=\"#33FF02\" font-family=\"sans-serif\" font-size=\"14\" font-weight=\"bold\" lengthAdjust=\"spacingAndGlyphs\" textLength=\"74\" x=\"5\" y=\"205.3711\">hide circle</text><text fill=\"#33FF02\" font-family=\"sans-serif\" font-size=\"14\" font-weight=\"bold\" lengthAdjust=\"spacingAndGlyphs\" textLength=\"0\" x=\"10\" y=\"221.8594\"/><text fill=\"#33FF02\" font-family=\"sans-serif\" font-size=\"14\" font-weight=\"bold\" lengthAdjust=\"spacingAndGlyphs\" textLength=\"611\" x=\"5\" y=\"238.3477\">package \"testSample\" as E1  [[psysml:727f2b1a-eea4-4917-8a9d-2b3126c0f31f ]]  {</text><text fill=\"#33FF02\" font-family=\"sans-serif\" font-size=\"14\" font-weight=\"bold\" lengthAdjust=\"spacingAndGlyphs\" textLength=\"718\" x=\"5\" y=\"254.8359\">rec def \"Oven\" as E2  &lt;&lt;(T,blue) part def&gt;&gt; [[psysml:1114e453-f3cf-4566-b35c-427971070ccc ]] {</text><text fill=\"#33FF02\" font-family=\"sans-serif\" font-size=\"14\" font-weight=\"bold\" lengthAdjust=\"spacingAndGlyphs\" textLength=\"5\" x=\"5\" y=\"271.3242\">}</text><text fill=\"#33FF02\" font-family=\"sans-serif\" font-size=\"14\" font-weight=\"bold\" lengthAdjust=\"spacingAndGlyphs\" textLength=\"797\" x=\"5\" y=\"287.8125\">rec def \"HeatingElement\" as E3  &lt;&lt;(T,blue) part def&gt;&gt; [[psysml:ffc68924-6c7e-4595-b675-4d59f4bb94a1 ]] {</text><text fill=\"#33FF02\" font-family=\"sans-serif\" font-size=\"14\" font-weight=\"bold\" lengthAdjust=\"spacingAndGlyphs\" textLength=\"809\" x=\"5\" y=\"304.3008\">comp usage \"temperature\" as E4  &lt;&lt;(T,blue) attribute&gt;&gt; [[psysml:8ee2eda7-a7cd-403d-bc7e-fc93ef87a631 ]] {</text><text fill=\"#33FF02\" font-family=\"sans-serif\" font-size=\"14\" font-weight=\"bold\" lengthAdjust=\"spacingAndGlyphs\" textLength=\"5\" x=\"5\" y=\"320.7891\">}</text><text fill=\"#33FF02\" font-family=\"sans-serif\" font-size=\"14\" font-weight=\"bold\" lengthAdjust=\"spacingAndGlyphs\" textLength=\"5\" x=\"5\" y=\"337.2773\">}</text><text fill=\"#33FF02\" font-family=\"sans-serif\" font-size=\"14\" font-weight=\"bold\" lengthAdjust=\"spacingAndGlyphs\" textLength=\"670\" x=\"5\" y=\"353.7656\">rec usage \"testOven: Oven\" as E5 &lt;&lt; [[psysml:b419ea2f-4036-4f8c-b410-eb8f70014610 ]] {</text><text fill=\"#FF0000\" font-family=\"sans-serif\" font-size=\"14\" font-weight=\"bold\" lengthAdjust=\"spacingAndGlyphs\" textLength=\"94\" x=\"10\" y=\"370.2539\">Syntax Error?</text><!--MD5=[5676f20be676bb9b17017f758a7b8b7c]\n",
       "@startuml\r\n",
       "skinparam ranksep 10\r\n",
       "skinparam rectangle {\r\n",
       " backgroundColor<<block>> LightGreen\r\n",
       "}\r\n",
       "skinparam monochrome true\r\n",
       "skinparam classbackgroundcolor white\r\n",
       "skinparam shadowing false\r\n",
       "skinparam wrapWidth 300\r\n",
       "hide circle\r\n",
       "\r\n",
       "package \"testSample\" as E1  [[psysml:727f2b1a-eea4-4917-8a9d-2b3126c0f31f ]]  {\r\n",
       "rec def \"Oven\" as E2  <<(T,blue) part def>> [[psysml:1114e453-f3cf-4566-b35c-427971070ccc ]] {\r\n",
       "}\r\n",
       "rec def \"HeatingElement\" as E3  <<(T,blue) part def>> [[psysml:ffc68924-6c7e-4595-b675-4d59f4bb94a1 ]] {\r\n",
       "comp usage \"temperature\" as E4  <<(T,blue) attribute>> [[psysml:8ee2eda7-a7cd-403d-bc7e-fc93ef87a631 ]] {\r\n",
       "}\r\n",
       "}\r\n",
       "rec usage \"testOven: Oven\" as E5 << [[psysml:b419ea2f-4036-4f8c-b410-eb8f70014610 ]] {\r\n",
       "rec usage \"heatingElement: HeatingElement\" as E6 << [[psysml:13059de6-7ca1-4338-9510-8973a3d77c39 ]] {\r\n",
       "}\r\n",
       "}\r\n",
       "}\r\n",
       "@enduml\r\n",
       "\n",
       "PlantUML version 1.2020.13(Sat Jun 13 06:26:38 MDT 2020)\n",
       "(EPL source distribution)\n",
       "Java Runtime: OpenJDK Runtime Environment\n",
       "JVM: OpenJDK 64-Bit Server VM\n",
       "Default Encoding: UTF-8\n",
       "Language: en\n",
       "Country: US\n",
       "--></g></svg>"
      ]
     },
     "execution_count": 5,
     "metadata": {},
     "output_type": "execute_result"
    }
   ],
   "source": [
    "%viz --view=interconnection testSample\n",
    "## THIS IS CURRENTLY BROKEN. I DO NOT KNOW WHY."
   ]
  }
 ],
 "metadata": {
  "kernelspec": {
   "display_name": "SysML",
   "language": "sysml",
   "name": "sysml"
  },
  "language_info": {
   "codemirror_mode": "sysml",
   "file_extension": ".sysml",
   "mimetype": "text/x-sysml",
   "name": "SysML",
   "pygments_lexer": "java",
   "version": "1.0.0"
  }
 },
 "nbformat": 4,
 "nbformat_minor": 5
}
