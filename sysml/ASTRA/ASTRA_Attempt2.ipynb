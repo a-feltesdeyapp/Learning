{
 "cells": [
  {
   "cell_type": "markdown",
   "id": "00ade2aa",
   "metadata": {},
   "source": [
    "Take the spaghetti that we had in the first attempt.\n",
    "1. Break it into packages for each major component\n",
    "2. Create generalizations where possible\n",
    "3. Rebuid system model in a separate package of usages"
   ]
  },
  {
   "cell_type": "markdown",
   "id": "6b7144af",
   "metadata": {},
   "source": [
    "## ASTRA Components"
   ]
  },
  {
   "cell_type": "code",
   "execution_count": null,
   "id": "f9f7f024",
   "metadata": {
    "vscode": {
     "languageId": "sysml"
    }
   },
   "outputs": [],
   "source": [
    "package astraMotor{\n",
    "    // Motor\n",
    "    part def <Motor> Nema34_BLDC{   // Nema 34 Motors\n",
    "        part def Motor_Shaft;\n",
    "        \n",
    "        part motorShaft: Motor_Shaft{\n",
    "            part encoder: Encoder;\n",
    "        }\n",
    "\n",
    "        part gearbox: Planetary_Gearbox;\n",
    "        part motor_support: Motor_Support;\n",
    "    }\n",
    "    \n",
    "    part def <Gearbox> Planetary_Gearbox; // 1:60 ratio planetary gearbox\n",
    "    part def Motor_Support;   // Nema Motor Support\n",
    "\n",
    "}"
   ]
  },
  {
   "cell_type": "code",
   "execution_count": null,
   "id": "a92aa73d",
   "metadata": {
    "vscode": {
     "languageId": "sysml"
    }
   },
   "outputs": [],
   "source": [
    "package astraArms{\n",
    "    // Arms\n",
    "    part def <AB> Cam_Shaft;\n",
    "    \n",
    "    part def <BC> Adjustment_Rod{\n",
    "        part def <Heim> Heim_Joint;\n",
    "        part heimJoint[2]: Heim;\n",
    "    }\n",
    "}"
   ]
  }
 ],
 "metadata": {
  "kernelspec": {
   "display_name": "SysML",
   "language": "sysml",
   "name": "sysml"
  },
  "language_info": {
   "codemirror_mode": "sysml",
   "file_extension": ".sysml",
   "mimetype": "text/x-sysml",
   "name": "SysML",
   "pygments_lexer": "java",
   "version": "1.0.0"
  }
 },
 "nbformat": 4,
 "nbformat_minor": 5
}
