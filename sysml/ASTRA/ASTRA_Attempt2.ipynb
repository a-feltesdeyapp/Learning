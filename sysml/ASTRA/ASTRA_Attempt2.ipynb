{
 "cells": [
  {
   "cell_type": "markdown",
   "id": "00ade2aa",
   "metadata": {},
   "source": [
    "Take the spaghetti that we had in the first attempt.\n",
    "1. Break it into packages for each major component\n",
    "2. Create generalizations where possible\n",
    "3. Rebuid system model in a separate package of usages"
   ]
  },
  {
   "cell_type": "markdown",
   "id": "6b7144af",
   "metadata": {},
   "source": [
    "## ASTRA Components\n",
    "![FBD](ASTRA_FBD.pn)\n",
    "![Pentagon](ASTRA_Pentagon.pn)"
   ]
  },
  {
   "cell_type": "code",
   "execution_count": null,
   "id": "2f4d1637",
   "metadata": {},
   "outputs": [],
   "source": [
    "package reused{\n",
    "    item def Power_Supply {\n",
    "        attribute power: SI::PowerUnit;\n",
    "        attribute current: SI::ElectricCurrentUnit;\n",
    "        attribute \n",
    "        }\n",
    "}"
   ]
  },
  {
   "cell_type": "code",
   "execution_count": null,
   "id": "6734d45d",
   "metadata": {},
   "outputs": [],
   "source": [
    "package wiiBalanceBoard{\n",
    "    private import reused::Power_Supply;\n",
    "    part def Wii_Balance_Board{\n",
    "        ref item AAA_Batteries redefines Power_Supply;  // Power supply\n",
    "        part def Load_Cell{\n",
    "        }\n",
    "    }\n",
    "}"
   ]
  },
  {
   "cell_type": "code",
   "execution_count": null,
   "id": "f9f7f024",
   "metadata": {},
   "outputs": [],
   "source": [
    "package astraMotor{\n",
    "    // Motor\n",
    "    part def <Motor> Nema34_BLDC{   // Nema 34 Motors\n",
    "        part def Motor_Shaft;\n",
    "        \n",
    "        part motorShaft: Motor_Shaft{\n",
    "            part encoder: Encoder;\n",
    "        }\n",
    "\n",
    "        part gearbox: Planetary_Gearbox;\n",
    "        part motor_support: Motor_Support;\n",
    "    }\n",
    "    \n",
    "    part def <Gearbox> Planetary_Gearbox; // 1:60 ratio planetary gearbox\n",
    "    part def Motor_Support;   // Nema Motor Support\n",
    "\n",
    "}"
   ]
  },
  {
   "cell_type": "code",
   "execution_count": null,
   "id": "a92aa73d",
   "metadata": {},
   "outputs": [],
   "source": [
    "package astraArms{\n",
    "    // Arms\n",
    "    part def <AB> Cam_Shaft;\n",
    "    \n",
    "    part def <BC> Adjustment_Rod{\n",
    "        part def <Heim> Heim_Joint;\n",
    "        part heimJoint[2]: Heim;\n",
    "    }\n",
    "}"
   ]
  }
 ],
 "metadata": {
  "kernelspec": {
   "display_name": "SysML",
   "language": "sysml",
   "name": "sysml"
  },
  "language_info": {
   "codemirror_mode": "sysml",
   "file_extension": ".sysml",
   "mimetype": "text/x-sysml",
   "name": "sysml",
   "pygments_lexer": "java",
   "version": "1.0.0"
  }
 },
 "nbformat": 4,
 "nbformat_minor": 5
}
