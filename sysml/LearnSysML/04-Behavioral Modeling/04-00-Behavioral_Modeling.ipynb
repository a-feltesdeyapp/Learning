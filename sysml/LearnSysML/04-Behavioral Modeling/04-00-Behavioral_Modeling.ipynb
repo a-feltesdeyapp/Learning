{
 "cells": [
  {
   "cell_type": "markdown",
   "id": "76ce4817",
   "metadata": {},
   "source": [
    "# 04 Behavioral Modeling\n",
    "\n",
    "**Behavioral Models**\n",
    "- Model dynamic aspects of system\n",
    "- Capture interactions between system elements\n",
    "    - How structural parts act and interact\n",
    "    - Message flow\n",
    "    - How actions and interactions alter states\n"
   ]
  },
  {
   "cell_type": "markdown",
   "id": "9d8a966b",
   "metadata": {},
   "source": [
    "## 04-01 Connections\n",
    "**Connection**\n",
    "- Relationship between things such as items and parts\n",
    "    - Has at least 2 ends, specifying the things related through a connection\n",
    "    - To connect, we need ports\n",
    "\n",
    "Eg. Charging our phone: Connect phone charging port to power outlet\n",
    "- Parts: Phone, Power Source\n",
    "    - Both parts need ports to connect to each other\n",
    "\n",
    "**Port**\n",
    "- Connection point that enables interaction between occurrences, most commonly parts\n",
    "\n",
    "**Interface**\n",
    "- Connection whose ends are restricted to being ports\n",
    "    - Connections connect elements, Interfaces *only* connect ports"
   ]
  },
  {
   "cell_type": "markdown",
   "id": "0415b632",
   "metadata": {},
   "source": [
    "### OvenPowerSystem.sysml\n",
    "- Oven has TerminalBlock\n",
    "    - Connects to PowerSource\n",
    "    - Connects to ControlBoard"
   ]
  },
  {
   "cell_type": "code",
   "execution_count": 59,
   "id": "4eaa674a",
   "metadata": {
    "vscode": {
     "languageId": "sysml"
    }
   },
   "outputs": [
    {
     "data": {
      "text/plain": [
       "Package OvenPowerSystem (63f7d9c7-e43e-429a-9da4-1eb9537a8810)\n"
      ]
     },
     "execution_count": 59,
     "metadata": {},
     "output_type": "execute_result"
    }
   ],
   "source": [
    "package OvenPowerSystem{\n",
    "    part def TerminalBlock;\n",
    "    part def ControlBoard;\n",
    "    \n",
    "    part def Oven{\n",
    "        // 2 features with respective part definitions\n",
    "        part terminalBlock: TerminalBlock;\n",
    "        part controlBoard: ControlBoard;\n",
    "    }\n",
    "}"
   ]
  },
  {
   "cell_type": "code",
   "execution_count": 60,
   "id": "03edda4a",
   "metadata": {
    "vscode": {
     "languageId": "sysml"
    }
   },
   "outputs": [
    {
     "data": {
      "image/svg+xml": [
       "<?xml version=\"1.0\" encoding=\"UTF-8\" standalone=\"no\"?><svg xmlns=\"http://www.w3.org/2000/svg\" xmlns:xlink=\"http://www.w3.org/1999/xlink\" contentStyleType=\"text/css\" height=\"331px\" preserveAspectRatio=\"none\" style=\"width:516px;height:331px;background:#FFFFFF;\" version=\"1.1\" viewBox=\"0 0 516 331\" width=\"516px\" zoomAndPan=\"magnify\"><defs/><g><!--MD5=[fbc87193dbaf4d95561dea2c320d4a47]\n",
       "cluster E1--><g id=\"cluster_E1\"><a href=\"psysml:63f7d9c7-e43e-429a-9da4-1eb9537a8810\" target=\"_top\" title=\"psysml:63f7d9c7-e43e-429a-9da4-1eb9537a8810\" xlink:actuate=\"onRequest\" xlink:href=\"psysml:63f7d9c7-e43e-429a-9da4-1eb9537a8810\" xlink:show=\"new\" xlink:title=\"psysml:63f7d9c7-e43e-429a-9da4-1eb9537a8810\" xlink:type=\"simple\"><polygon fill=\"none\" points=\"16,6,155,6,162,28.4883,499,28.4883,499,324,16,324,16,6\" style=\"stroke:#000000;stroke-width:1.5;\"/><line style=\"stroke:#000000;stroke-width:1.5;\" x1=\"16\" x2=\"162\" y1=\"28.4883\" y2=\"28.4883\"/><text fill=\"#000000\" font-family=\"sans-serif\" font-size=\"14\" font-weight=\"bold\" lengthAdjust=\"spacing\" textLength=\"133\" x=\"20\" y=\"21.5352\">OvenPowerSystem</text></a></g><!--MD5=[b4997ac47864f28c2f74865a473b2911]\n",
       "class E2--><a href=\"psysml:047e0f21-3495-4e96-ae7c-a69604e5dfa9\" target=\"_top\" title=\"psysml:047e0f21-3495-4e96-ae7c-a69604e5dfa9\" xlink:actuate=\"onRequest\" xlink:href=\"psysml:047e0f21-3495-4e96-ae7c-a69604e5dfa9\" xlink:show=\"new\" xlink:title=\"psysml:047e0f21-3495-4e96-ae7c-a69604e5dfa9\" xlink:type=\"simple\"><g id=\"elem_E2\"><rect fill=\"#FFFFFF\" height=\"48.6211\" id=\"E2\" style=\"stroke:#181818;stroke-width:0.5;\" width=\"103\" x=\"86.5\" y=\"259\"/><text fill=\"#000000\" font-family=\"sans-serif\" font-size=\"12\" font-style=\"italic\" lengthAdjust=\"spacing\" textLength=\"63\" x=\"106.5\" y=\"275.6016\">«part  def»</text><text fill=\"#000000\" font-family=\"sans-serif\" font-size=\"14\" lengthAdjust=\"spacing\" textLength=\"97\" x=\"89.5\" y=\"291.668\">TerminalBlock</text><line style=\"stroke:#181818;stroke-width:0.5;\" x1=\"87.5\" x2=\"188.5\" y1=\"299.6211\" y2=\"299.6211\"/></g></a><!--MD5=[09b614a08d8cba4a07c9adeb5e0fee81]\n",
       "class E3--><a href=\"psysml:80a52166-3d8e-4c88-9a2b-d48a7dc08c65\" target=\"_top\" title=\"psysml:80a52166-3d8e-4c88-9a2b-d48a7dc08c65\" xlink:actuate=\"onRequest\" xlink:href=\"psysml:80a52166-3d8e-4c88-9a2b-d48a7dc08c65\" xlink:show=\"new\" xlink:title=\"psysml:80a52166-3d8e-4c88-9a2b-d48a7dc08c65\" xlink:type=\"simple\"><g id=\"elem_E3\"><rect fill=\"#FFFFFF\" height=\"48.6211\" id=\"E3\" style=\"stroke:#181818;stroke-width:0.5;\" width=\"98\" x=\"332\" y=\"259\"/><text fill=\"#000000\" font-family=\"sans-serif\" font-size=\"12\" font-style=\"italic\" lengthAdjust=\"spacing\" textLength=\"63\" x=\"349.5\" y=\"275.6016\">«part  def»</text><text fill=\"#000000\" font-family=\"sans-serif\" font-size=\"14\" lengthAdjust=\"spacing\" textLength=\"92\" x=\"335\" y=\"291.668\">ControlBoard</text><line style=\"stroke:#181818;stroke-width:0.5;\" x1=\"333\" x2=\"429\" y1=\"299.6211\" y2=\"299.6211\"/></g></a><!--MD5=[ebbe1d658d1005bcc118a6aa81145e00]\n",
       "class E4--><a href=\"psysml:35454cac-47e8-4b06-8091-b575bb7ebf73\" target=\"_top\" title=\"psysml:35454cac-47e8-4b06-8091-b575bb7ebf73\" xlink:actuate=\"onRequest\" xlink:href=\"psysml:35454cac-47e8-4b06-8091-b575bb7ebf73\" xlink:show=\"new\" xlink:title=\"psysml:35454cac-47e8-4b06-8091-b575bb7ebf73\" xlink:type=\"simple\"><g id=\"elem_E4\"><rect fill=\"#FFFFFF\" height=\"48.6211\" id=\"E4\" style=\"stroke:#181818;stroke-width:0.5;\" width=\"65\" x=\"226.5\" y=\"41\"/><text fill=\"#000000\" font-family=\"sans-serif\" font-size=\"12\" font-style=\"italic\" lengthAdjust=\"spacing\" textLength=\"63\" x=\"227.5\" y=\"57.6016\">«part  def»</text><text fill=\"#000000\" font-family=\"sans-serif\" font-size=\"14\" lengthAdjust=\"spacing\" textLength=\"35\" x=\"241.5\" y=\"73.668\">Oven</text><line style=\"stroke:#181818;stroke-width:0.5;\" x1=\"227.5\" x2=\"290.5\" y1=\"81.6211\" y2=\"81.6211\"/></g></a><!--MD5=[270fce915f116d4de14055a7c1d9a0f3]\n",
       "class E5--><a href=\"psysml:e2d7d529-44a9-4351-8c10-9aa945d4bb0f\" target=\"_top\" title=\"psysml:e2d7d529-44a9-4351-8c10-9aa945d4bb0f\" xlink:actuate=\"onRequest\" xlink:href=\"psysml:e2d7d529-44a9-4351-8c10-9aa945d4bb0f\" xlink:show=\"new\" xlink:title=\"psysml:e2d7d529-44a9-4351-8c10-9aa945d4bb0f\" xlink:type=\"simple\"><g id=\"elem_E5\"><rect fill=\"#FFFFFF\" height=\"48.6211\" id=\"E5\" rx=\"10\" ry=\"10\" style=\"stroke:#181818;stroke-width:0.5;\" width=\"212\" x=\"32\" y=\"150\"/><text fill=\"#000000\" font-family=\"sans-serif\" font-size=\"12\" font-style=\"italic\" lengthAdjust=\"spacing\" textLength=\"36\" x=\"120\" y=\"166.6016\">«part»</text><text fill=\"#000000\" font-family=\"sans-serif\" font-size=\"14\" lengthAdjust=\"spacing\" textLength=\"198\" x=\"35\" y=\"182.668\">terminalBlock: TerminalBlock</text><line style=\"stroke:#181818;stroke-width:0.5;\" x1=\"33\" x2=\"243\" y1=\"190.6211\" y2=\"190.6211\"/></g></a><!--MD5=[60a26617385b1d2d0262a64233df1f8d]\n",
       "class E6--><a href=\"psysml:4d5d97f7-f15e-4105-97af-a2ac626419d0\" target=\"_top\" title=\"psysml:4d5d97f7-f15e-4105-97af-a2ac626419d0\" xlink:actuate=\"onRequest\" xlink:href=\"psysml:4d5d97f7-f15e-4105-97af-a2ac626419d0\" xlink:show=\"new\" xlink:title=\"psysml:4d5d97f7-f15e-4105-97af-a2ac626419d0\" xlink:type=\"simple\"><g id=\"elem_E6\"><rect fill=\"#FFFFFF\" height=\"48.6211\" id=\"E6\" rx=\"10\" ry=\"10\" style=\"stroke:#181818;stroke-width:0.5;\" width=\"203\" x=\"279.5\" y=\"150\"/><text fill=\"#000000\" font-family=\"sans-serif\" font-size=\"12\" font-style=\"italic\" lengthAdjust=\"spacing\" textLength=\"36\" x=\"363\" y=\"166.6016\">«part»</text><text fill=\"#000000\" font-family=\"sans-serif\" font-size=\"14\" lengthAdjust=\"spacing\" textLength=\"189\" x=\"282.5\" y=\"182.668\">controlBoard: ControlBoard</text><line style=\"stroke:#181818;stroke-width:0.5;\" x1=\"280.5\" x2=\"481.5\" y1=\"190.6211\" y2=\"190.6211\"/></g></a><!--MD5=[62aa6af11e70f752912c1cb0466f24f7]\n",
       "reverse link E4 to E5--><g id=\"link_E4_E5\"><a href=\"psysml:bacbd52c-9ba0-41fa-b154-b1c19405b886\" target=\"_top\" title=\"psysml:bacbd52c-9ba0-41fa-b154-b1c19405b886\" xlink:actuate=\"onRequest\" xlink:href=\"psysml:bacbd52c-9ba0-41fa-b154-b1c19405b886\" xlink:show=\"new\" xlink:title=\"psysml:bacbd52c-9ba0-41fa-b154-b1c19405b886\" xlink:type=\"simple\"><path d=\"M222.27,98.98 C203.75,115.36 181.68,134.87 164.78,149.82 \" fill=\"none\" id=\"E4-backto-E5\" style=\"stroke:#181818;stroke-width:1.0;\"/><polygon fill=\"#181818\" points=\"232.15,90.25,225.0055,91.2276,223.16,98.1986,230.3046,97.221,232.15,90.25\" style=\"stroke:#181818;stroke-width:1.0;\"/></a></g><!--MD5=[15ebcb19ae302d9b601edb458606d402]\n",
       "link E5 to E2--><g id=\"link_E5_E2\"><a href=\"psysml:4e45c9cb-45f9-4af7-b5ef-6833132dc3da\" target=\"_top\" title=\"psysml:4e45c9cb-45f9-4af7-b5ef-6833132dc3da\" xlink:actuate=\"onRequest\" xlink:href=\"psysml:4e45c9cb-45f9-4af7-b5ef-6833132dc3da\" xlink:show=\"new\" xlink:title=\"psysml:4e45c9cb-45f9-4af7-b5ef-6833132dc3da\" xlink:type=\"simple\"><path d=\"M138,199.25 C138,210.88 138,225.27 138,238.8 \" fill=\"none\" id=\"E5-to-E2\" style=\"stroke:#181818;stroke-width:1.0;\"/><polygon fill=\"#FFFFFF\" points=\"138,258.82,131,239.82,145,239.82,138,258.82\" style=\"stroke:#181818;stroke-width:1.0;\"/><ellipse cx=\"133\" cy=\"234.12\" fill=\"#181818\" rx=\"2\" ry=\"2\" style=\"stroke:#181818;stroke-width:1.0;\"/><ellipse cx=\"143\" cy=\"234.12\" fill=\"#181818\" rx=\"2\" ry=\"2\" style=\"stroke:#181818;stroke-width:1.0;\"/></a></g><!--MD5=[6db378b65e1aef66a01cb3103812b399]\n",
       "reverse link E4 to E6--><g id=\"link_E4_E6\"><a href=\"psysml:5f588c01-8877-463a-8c3b-7ba7da442f43\" target=\"_top\" title=\"psysml:5f588c01-8877-463a-8c3b-7ba7da442f43\" xlink:actuate=\"onRequest\" xlink:href=\"psysml:5f588c01-8877-463a-8c3b-7ba7da442f43\" xlink:show=\"new\" xlink:title=\"psysml:5f588c01-8877-463a-8c3b-7ba7da442f43\" xlink:type=\"simple\"><path d=\"M296.03,98.98 C314.71,115.36 336.96,134.87 354,149.82 \" fill=\"none\" id=\"E4-backto-E6\" style=\"stroke:#181818;stroke-width:1.0;\"/><polygon fill=\"#181818\" points=\"286.08,90.25,287.9528,97.2137,295.1011,98.1633,293.2283,91.1996,286.08,90.25\" style=\"stroke:#181818;stroke-width:1.0;\"/></a></g><!--MD5=[a717450b82c80b9240a525fa862496af]\n",
       "link E6 to E3--><g id=\"link_E6_E3\"><a href=\"psysml:5737d042-8d26-4f34-9901-cbb82a90387e\" target=\"_top\" title=\"psysml:5737d042-8d26-4f34-9901-cbb82a90387e\" xlink:actuate=\"onRequest\" xlink:href=\"psysml:5737d042-8d26-4f34-9901-cbb82a90387e\" xlink:show=\"new\" xlink:title=\"psysml:5737d042-8d26-4f34-9901-cbb82a90387e\" xlink:type=\"simple\"><path d=\"M381,199.25 C381,210.88 381,225.27 381,238.8 \" fill=\"none\" id=\"E6-to-E3\" style=\"stroke:#181818;stroke-width:1.0;\"/><polygon fill=\"#FFFFFF\" points=\"381,258.82,374,239.82,388,239.82,381,258.82\" style=\"stroke:#181818;stroke-width:1.0;\"/><ellipse cx=\"376\" cy=\"234.12\" fill=\"#181818\" rx=\"2\" ry=\"2\" style=\"stroke:#181818;stroke-width:1.0;\"/><ellipse cx=\"386\" cy=\"234.12\" fill=\"#181818\" rx=\"2\" ry=\"2\" style=\"stroke:#181818;stroke-width:1.0;\"/></a></g><!--MD5=[71eacf595040ae7a0170de8ccbf7277a]\n",
       "@startuml\r\n",
       "skin sysmlbw\r\n",
       "skinparam monochrome true\r\n",
       "skinparam wrapWidth 300\r\n",
       "hide circle\r\n",
       "\r\n",
       "package \"OvenPowerSystem\" as E1  [[psysml:63f7d9c7-e43e-429a-9da4-1eb9537a8810 ]]  {\r\n",
       "comp def \"TerminalBlock\" as E2  <<(T,blue) part  def>> [[psysml:047e0f21-3495-4e96-ae7c-a69604e5dfa9 ]] {\r\n",
       "}\r\n",
       "comp def \"ControlBoard\" as E3  <<(T,blue) part  def>> [[psysml:80a52166-3d8e-4c88-9a2b-d48a7dc08c65 ]] {\r\n",
       "}\r\n",
       "comp def \"Oven\" as E4  <<(T,blue) part  def>> [[psysml:35454cac-47e8-4b06-8091-b575bb7ebf73 ]] {\r\n",
       "}\r\n",
       "comp usage \"terminalBlock: TerminalBlock  \" as E5  <<(T,blue) part>> [[psysml:e2d7d529-44a9-4351-8c10-9aa945d4bb0f ]] {\r\n",
       "}\r\n",
       "comp usage \"controlBoard: ControlBoard  \" as E6  <<(T,blue) part>> [[psysml:4d5d97f7-f15e-4105-97af-a2ac626419d0 ]] {\r\n",
       "}\r\n",
       "}\r\n",
       "E4 *- - E5 [[psysml:bacbd52c-9ba0-41fa-b154-b1c19405b886 ]] \r\n",
       "E5 - -:|> E2 [[psysml:4e45c9cb-45f9-4af7-b5ef-6833132dc3da ]] \r\n",
       "E4 *- - E6 [[psysml:5f588c01-8877-463a-8c3b-7ba7da442f43 ]] \r\n",
       "E6 - -:|> E3 [[psysml:5737d042-8d26-4f34-9901-cbb82a90387e ]] \r\n",
       "@enduml\r\n",
       "\n",
       "PlantUML version 1.2022.7(Mon Aug 22 11:01:30 MDT 2022)\n",
       "(EPL source distribution)\n",
       "Java Runtime: Java(TM) SE Runtime Environment\n",
       "JVM: Java HotSpot(TM) 64-Bit Server VM\n",
       "Default Encoding: UTF-8\n",
       "Language: en\n",
       "Country: US\n",
       "--></g></svg>"
      ]
     },
     "execution_count": 60,
     "metadata": {},
     "output_type": "execute_result"
    }
   ],
   "source": [
    "%viz --view=default OvenPowerSystem"
   ]
  },
  {
   "cell_type": "markdown",
   "id": "c7cd2290",
   "metadata": {},
   "source": [
    "### OvenItemPortsAndInterfaces.sysml"
   ]
  },
  {
   "cell_type": "code",
   "execution_count": 61,
   "id": "85e2f8f7",
   "metadata": {
    "vscode": {
     "languageId": "sysml"
    }
   },
   "outputs": [
    {
     "data": {
      "text/plain": [
       "Package OvenItemPortsAndInterfaces (7b5f60fa-4b7d-4edf-b735-63ff333c6daa)\n"
      ]
     },
     "execution_count": 61,
     "metadata": {},
     "output_type": "execute_result"
    }
   ],
   "source": [
    "package OvenItemPortsAndInterfaces{\n",
    "    item def Current;   // modeled as item as it is used but not part of Oven\n",
    "\n",
    "// define which ports exist\n",
    "    port def PowerPort{\n",
    "        in item powerIn: Current;\n",
    "        out item powerOut: Current;\n",
    "        // direction can also be inout if port is bi-directional\n",
    "        // type of port is Current, indicates current flows through port\n",
    "    }\n",
    "\n",
    "// define the interface (2+ ends, ports to be connected)\n",
    "    interface def PowerInterface{\n",
    "        end supplierPort: PowerPort;\n",
    "        end consumerPort: ~PowerPort;\n",
    "            // tilde `~` indicates conjugated port, same features as og but reverse direction\n",
    "        flow of current: Current\n",
    "            from supplierPort.powerOut\n",
    "            to consumerPort.powerIn;\n",
    "    }\n",
    "}"
   ]
  },
  {
   "cell_type": "code",
   "execution_count": 62,
   "id": "3ded054c",
   "metadata": {
    "vscode": {
     "languageId": "sysml"
    }
   },
   "outputs": [
    {
     "data": {
      "image/svg+xml": [
       "<?xml version=\"1.0\" encoding=\"UTF-8\" standalone=\"no\"?><svg xmlns=\"http://www.w3.org/2000/svg\" xmlns:xlink=\"http://www.w3.org/1999/xlink\" contentStyleType=\"text/css\" height=\"549px\" preserveAspectRatio=\"none\" style=\"width:587px;height:549px;background:#FFFFFF;\" version=\"1.1\" viewBox=\"0 0 587 549\" width=\"587px\" zoomAndPan=\"magnify\"><defs/><g><!--MD5=[fbc87193dbaf4d95561dea2c320d4a47]\n",
       "cluster E1--><g id=\"cluster_E1\"><a href=\"psysml:7b5f60fa-4b7d-4edf-b735-63ff333c6daa\" target=\"_top\" title=\"psysml:7b5f60fa-4b7d-4edf-b735-63ff333c6daa\" xlink:actuate=\"onRequest\" xlink:href=\"psysml:7b5f60fa-4b7d-4edf-b735-63ff333c6daa\" xlink:show=\"new\" xlink:title=\"psysml:7b5f60fa-4b7d-4edf-b735-63ff333c6daa\" xlink:type=\"simple\"><polygon fill=\"none\" points=\"16,6,229,6,236,28.4883,570,28.4883,570,542,16,542,16,6\" style=\"stroke:#000000;stroke-width:1.5;\"/><line style=\"stroke:#000000;stroke-width:1.5;\" x1=\"16\" x2=\"236\" y1=\"28.4883\" y2=\"28.4883\"/><text fill=\"#000000\" font-family=\"sans-serif\" font-size=\"14\" font-weight=\"bold\" lengthAdjust=\"spacing\" textLength=\"207\" x=\"20\" y=\"21.5352\">OvenItemPortsAndInterfaces</text></a></g><!--MD5=[b4997ac47864f28c2f74865a473b2911]\n",
       "class E2--><a href=\"psysml:5ab91090-df90-4790-966a-20d9cd65ddfb\" target=\"_top\" title=\"psysml:5ab91090-df90-4790-966a-20d9cd65ddfb\" xlink:actuate=\"onRequest\" xlink:href=\"psysml:5ab91090-df90-4790-966a-20d9cd65ddfb\" xlink:show=\"new\" xlink:title=\"psysml:5ab91090-df90-4790-966a-20d9cd65ddfb\" xlink:type=\"simple\"><g id=\"elem_E2\"><rect fill=\"#FFFFFF\" height=\"48.6211\" id=\"E2\" style=\"stroke:#181818;stroke-width:0.5;\" width=\"66\" x=\"291\" y=\"477\"/><text fill=\"#000000\" font-family=\"sans-serif\" font-size=\"12\" font-style=\"italic\" lengthAdjust=\"spacing\" textLength=\"64\" x=\"292\" y=\"493.6016\">«item  def»</text><text fill=\"#000000\" font-family=\"sans-serif\" font-size=\"14\" lengthAdjust=\"spacing\" textLength=\"53\" x=\"297.5\" y=\"509.668\">Current</text><line style=\"stroke:#181818;stroke-width:0.5;\" x1=\"292\" x2=\"356\" y1=\"517.6211\" y2=\"517.6211\"/></g></a><!--MD5=[09b614a08d8cba4a07c9adeb5e0fee81]\n",
       "class E3--><a href=\"psysml:0eae5b83-03d4-41af-9bb4-7258223929f7\" target=\"_top\" title=\"psysml:0eae5b83-03d4-41af-9bb4-7258223929f7\" xlink:actuate=\"onRequest\" xlink:href=\"psysml:0eae5b83-03d4-41af-9bb4-7258223929f7\" xlink:show=\"new\" xlink:title=\"psysml:0eae5b83-03d4-41af-9bb4-7258223929f7\" xlink:type=\"simple\"><g id=\"elem_E3\"><rect fill=\"#FFFFFF\" height=\"48.6211\" id=\"E3\" style=\"stroke:#181818;stroke-width:0.5;\" width=\"76\" x=\"188\" y=\"259\"/><text fill=\"#000000\" font-family=\"sans-serif\" font-size=\"12\" font-style=\"italic\" lengthAdjust=\"spacing\" textLength=\"63\" x=\"194.5\" y=\"275.6016\">«port  def»</text><text fill=\"#000000\" font-family=\"sans-serif\" font-size=\"14\" lengthAdjust=\"spacing\" textLength=\"70\" x=\"191\" y=\"291.668\">PowerPort</text><line style=\"stroke:#181818;stroke-width:0.5;\" x1=\"189\" x2=\"263\" y1=\"299.6211\" y2=\"299.6211\"/></g></a><!--MD5=[ebbe1d658d1005bcc118a6aa81145e00]\n",
       "class E4--><a href=\"psysml:775c0867-5201-4b04-8350-643529835db2\" target=\"_top\" title=\"psysml:775c0867-5201-4b04-8350-643529835db2\" xlink:actuate=\"onRequest\" xlink:href=\"psysml:775c0867-5201-4b04-8350-643529835db2\" xlink:show=\"new\" xlink:title=\"psysml:775c0867-5201-4b04-8350-643529835db2\" xlink:type=\"simple\"><g id=\"elem_E4\"><rect fill=\"#FFFFFF\" height=\"48.6211\" id=\"E4\" rx=\"10\" ry=\"10\" style=\"stroke:#181818;stroke-width:0.5;\" width=\"131\" x=\"32.5\" y=\"368\"/><text fill=\"#000000\" font-family=\"sans-serif\" font-size=\"12\" font-style=\"italic\" lengthAdjust=\"spacing\" textLength=\"37\" x=\"79.5\" y=\"384.6016\">«item»</text><text fill=\"#000000\" font-family=\"sans-serif\" font-size=\"14\" lengthAdjust=\"spacing\" textLength=\"117\" x=\"35.5\" y=\"400.668\">powerIn: Current</text><line style=\"stroke:#181818;stroke-width:0.5;\" x1=\"33.5\" x2=\"162.5\" y1=\"408.6211\" y2=\"408.6211\"/></g></a><!--MD5=[270fce915f116d4de14055a7c1d9a0f3]\n",
       "class E5--><a href=\"psysml:99459057-0b3c-4491-8a6f-2b5742cf2acc\" target=\"_top\" title=\"psysml:99459057-0b3c-4491-8a6f-2b5742cf2acc\" xlink:actuate=\"onRequest\" xlink:href=\"psysml:99459057-0b3c-4491-8a6f-2b5742cf2acc\" xlink:show=\"new\" xlink:title=\"psysml:99459057-0b3c-4491-8a6f-2b5742cf2acc\" xlink:type=\"simple\"><g id=\"elem_E5\"><rect fill=\"#FFFFFF\" height=\"48.6211\" id=\"E5\" rx=\"10\" ry=\"10\" style=\"stroke:#181818;stroke-width:0.5;\" width=\"143\" x=\"198.5\" y=\"368\"/><text fill=\"#000000\" font-family=\"sans-serif\" font-size=\"12\" font-style=\"italic\" lengthAdjust=\"spacing\" textLength=\"37\" x=\"251.5\" y=\"384.6016\">«item»</text><text fill=\"#000000\" font-family=\"sans-serif\" font-size=\"14\" lengthAdjust=\"spacing\" textLength=\"129\" x=\"201.5\" y=\"400.668\">powerOut: Current</text><line style=\"stroke:#181818;stroke-width:0.5;\" x1=\"199.5\" x2=\"340.5\" y1=\"408.6211\" y2=\"408.6211\"/></g></a><!--MD5=[60a26617385b1d2d0262a64233df1f8d]\n",
       "class E6--><a href=\"psysml:e1ed51a4-ac77-499c-9ff2-09fc81b43126\" target=\"_top\" title=\"psysml:e1ed51a4-ac77-499c-9ff2-09fc81b43126\" xlink:actuate=\"onRequest\" xlink:href=\"psysml:e1ed51a4-ac77-499c-9ff2-09fc81b43126\" xlink:show=\"new\" xlink:title=\"psysml:e1ed51a4-ac77-499c-9ff2-09fc81b43126\" xlink:type=\"simple\"><g id=\"elem_E6\"><rect fill=\"#FFFFFF\" height=\"48.6211\" id=\"E6\" style=\"stroke:#181818;stroke-width:0.5;\" width=\"108\" x=\"290\" y=\"41\"/><text fill=\"#000000\" font-family=\"sans-serif\" font-size=\"12\" font-style=\"italic\" lengthAdjust=\"spacing\" textLength=\"89\" x=\"299.5\" y=\"57.6016\">«interface  def»</text><text fill=\"#000000\" font-family=\"sans-serif\" font-size=\"14\" lengthAdjust=\"spacing\" textLength=\"102\" x=\"293\" y=\"73.668\">PowerInterface</text><line style=\"stroke:#181818;stroke-width:0.5;\" x1=\"291\" x2=\"397\" y1=\"81.6211\" y2=\"81.6211\"/></g></a><!--MD5=[2156ba9850f5573cc1fc38a6a4b2f02b]\n",
       "class E7--><a href=\"psysml:1416abcb-62b5-47d3-a03f-ec943b60cf7b\" target=\"_top\" title=\"psysml:1416abcb-62b5-47d3-a03f-ec943b60cf7b\" xlink:actuate=\"onRequest\" xlink:href=\"psysml:1416abcb-62b5-47d3-a03f-ec943b60cf7b\" xlink:show=\"new\" xlink:title=\"psysml:1416abcb-62b5-47d3-a03f-ec943b60cf7b\" xlink:type=\"simple\"><g id=\"elem_E7\"><rect fill=\"#FFFFFF\" height=\"48.6211\" id=\"E7\" rx=\"10\" ry=\"10\" style=\"stroke:#181818;stroke-width:0.5;\" width=\"176\" x=\"145\" y=\"150\"/><text fill=\"#000000\" font-family=\"sans-serif\" font-size=\"12\" font-style=\"italic\" lengthAdjust=\"spacing\" textLength=\"36\" x=\"215\" y=\"166.6016\">«port»</text><text fill=\"#000000\" font-family=\"sans-serif\" font-size=\"14\" lengthAdjust=\"spacing\" textLength=\"162\" x=\"148\" y=\"182.668\">supplierPort: PowerPort</text><line style=\"stroke:#181818;stroke-width:0.5;\" x1=\"146\" x2=\"320\" y1=\"190.6211\" y2=\"190.6211\"/></g></a><!--MD5=[b9389687b975829384b498ac4b7476b2]\n",
       "class E8--><a href=\"psysml:99459057-0b3c-4491-8a6f-2b5742cf2acc\" target=\"_top\" title=\"psysml:99459057-0b3c-4491-8a6f-2b5742cf2acc\" xlink:actuate=\"onRequest\" xlink:href=\"psysml:99459057-0b3c-4491-8a6f-2b5742cf2acc\" xlink:show=\"new\" xlink:title=\"psysml:99459057-0b3c-4491-8a6f-2b5742cf2acc\" xlink:type=\"simple\"><g id=\"elem_E8\"><rect fill=\"#FFFFFF\" height=\"48.6211\" id=\"E8\" rx=\"10\" ry=\"10\" style=\"stroke:#181818;stroke-width:0.5;\" width=\"152\" x=\"299\" y=\"259\"/><text fill=\"#000000\" font-family=\"sans-serif\" font-size=\"12\" font-style=\"italic\" lengthAdjust=\"spacing\" textLength=\"37\" x=\"356.5\" y=\"275.6016\">«item»</text><text fill=\"#000000\" font-family=\"sans-serif\" font-size=\"14\" lengthAdjust=\"spacing\" textLength=\"138\" x=\"302\" y=\"291.668\">^powerOut: Current</text><line style=\"stroke:#181818;stroke-width:0.5;\" x1=\"300\" x2=\"450\" y1=\"299.6211\" y2=\"299.6211\"/></g></a><!--MD5=[fd4143e9d270a159db93a4ea2a975926]\n",
       "class E9--><a href=\"psysml:d95b82af-d06a-4359-a51d-e1ba7b8ee9d8\" target=\"_top\" title=\"psysml:d95b82af-d06a-4359-a51d-e1ba7b8ee9d8\" xlink:actuate=\"onRequest\" xlink:href=\"psysml:d95b82af-d06a-4359-a51d-e1ba7b8ee9d8\" xlink:show=\"new\" xlink:title=\"psysml:d95b82af-d06a-4359-a51d-e1ba7b8ee9d8\" xlink:type=\"simple\"><g id=\"elem_E9\"><rect fill=\"#FFFFFF\" height=\"48.6211\" id=\"E9\" rx=\"10\" ry=\"10\" style=\"stroke:#181818;stroke-width:0.5;\" width=\"197\" x=\"356.5\" y=\"150\"/><text fill=\"#000000\" font-family=\"sans-serif\" font-size=\"12\" font-style=\"italic\" lengthAdjust=\"spacing\" textLength=\"36\" x=\"437\" y=\"166.6016\">«port»</text><text fill=\"#000000\" font-family=\"sans-serif\" font-size=\"14\" lengthAdjust=\"spacing\" textLength=\"183\" x=\"359.5\" y=\"182.668\">consumerPort: ~PowerPort</text><line style=\"stroke:#181818;stroke-width:0.5;\" x1=\"357.5\" x2=\"552.5\" y1=\"190.6211\" y2=\"190.6211\"/></g></a><!--MD5=[96f4274e9e20536e775497830990834d]\n",
       "class E10--><a href=\"psysml:775c0867-5201-4b04-8350-643529835db2\" target=\"_top\" title=\"psysml:775c0867-5201-4b04-8350-643529835db2\" xlink:actuate=\"onRequest\" xlink:href=\"psysml:775c0867-5201-4b04-8350-643529835db2\" xlink:show=\"new\" xlink:title=\"psysml:775c0867-5201-4b04-8350-643529835db2\" xlink:type=\"simple\"><g id=\"elem_E10\"><rect fill=\"#FFFFFF\" height=\"48.6211\" id=\"E10\" rx=\"10\" ry=\"10\" style=\"stroke:#181818;stroke-width:0.5;\" width=\"140\" x=\"414\" y=\"368\"/><text fill=\"#000000\" font-family=\"sans-serif\" font-size=\"12\" font-style=\"italic\" lengthAdjust=\"spacing\" textLength=\"37\" x=\"465.5\" y=\"384.6016\">«item»</text><text fill=\"#000000\" font-family=\"sans-serif\" font-size=\"14\" lengthAdjust=\"spacing\" textLength=\"126\" x=\"417\" y=\"400.668\">^powerIn: Current</text><line style=\"stroke:#181818;stroke-width:0.5;\" x1=\"415\" x2=\"553\" y1=\"408.6211\" y2=\"408.6211\"/></g></a><!--MD5=[4672eba38e49728da53d11aeb285b987]\n",
       "reverse link E3 to E4--><g id=\"link_E3_E4\"><a href=\"psysml:8312c385-306a-4464-9fe7-26896f5346f9\" target=\"_top\" title=\"psysml:8312c385-306a-4464-9fe7-26896f5346f9\" xlink:actuate=\"onRequest\" xlink:href=\"psysml:8312c385-306a-4464-9fe7-26896f5346f9\" xlink:show=\"new\" xlink:title=\"psysml:8312c385-306a-4464-9fe7-26896f5346f9\" xlink:type=\"simple\"><path d=\"M193.25,321.07 C193.25,321.07 193.25,393 193.25,393 C193.25,393 180.13,393 163.63,393 \" fill=\"none\" id=\"E3-backto-E4\" style=\"stroke:#181818;stroke-width:1.0;\"/><polygon fill=\"none\" points=\"193.25,308.07,189.25,314.07,193.25,320.07,197.25,314.07,193.25,308.07\" style=\"stroke:#181818;stroke-width:1.0;\"/></a></g><!--MD5=[185131fc0dcab0a4505a2ebe144e961b]\n",
       "link E4 to E2--><g id=\"link_E4_E2\"><a href=\"psysml:0518f00a-472d-4f12-83fb-b4be1edd6269\" target=\"_top\" title=\"psysml:0518f00a-472d-4f12-83fb-b4be1edd6269\" xlink:actuate=\"onRequest\" xlink:href=\"psysml:0518f00a-472d-4f12-83fb-b4be1edd6269\" xlink:show=\"new\" xlink:title=\"psysml:0518f00a-472d-4f12-83fb-b4be1edd6269\" xlink:type=\"simple\"><path d=\"M98,417.07 C98,449.36 98,502 98,502 C98,502 270.65,502 270.65,502 \" fill=\"none\" id=\"E4-to-E2\" style=\"stroke:#181818;stroke-width:1.0;\"/><polygon fill=\"#FFFFFF\" points=\"290.65,502,271.65,509,271.65,495,290.65,502\" style=\"stroke:#181818;stroke-width:1.0;\"/><ellipse cx=\"265.95\" cy=\"507\" fill=\"#181818\" rx=\"2\" ry=\"2\" style=\"stroke:#181818;stroke-width:1.0;\"/><ellipse cx=\"265.95\" cy=\"497\" fill=\"#181818\" rx=\"2\" ry=\"2\" style=\"stroke:#181818;stroke-width:1.0;\"/></a></g><!--MD5=[191cde3d490a3f6d7bb551fe3ddca469]\n",
       "reverse link E3 to E5--><g id=\"link_E3_E5\"><a href=\"psysml:d13242c6-9cb3-4e06-b936-6c92f3c2c2db\" target=\"_top\" title=\"psysml:d13242c6-9cb3-4e06-b936-6c92f3c2c2db\" xlink:actuate=\"onRequest\" xlink:href=\"psysml:d13242c6-9cb3-4e06-b936-6c92f3c2c2db\" xlink:show=\"new\" xlink:title=\"psysml:d13242c6-9cb3-4e06-b936-6c92f3c2c2db\" xlink:type=\"simple\"><path d=\"M231.25,321.23 C231.25,321.23 231.25,367.86 231.25,367.86 \" fill=\"none\" id=\"E3-backto-E5\" style=\"stroke:#181818;stroke-width:1.0;\"/><polygon fill=\"none\" points=\"231.25,308.23,227.25,314.23,231.25,320.23,235.25,314.23,231.25,308.23\" style=\"stroke:#181818;stroke-width:1.0;\"/></a></g><!--MD5=[15ebcb19ae302d9b601edb458606d402]\n",
       "link E5 to E2--><g id=\"link_E5_E2\"><a href=\"psysml:d0699ef2-83c4-4e0d-8bd9-bbe60339a2aa\" target=\"_top\" title=\"psysml:d0699ef2-83c4-4e0d-8bd9-bbe60339a2aa\" xlink:actuate=\"onRequest\" xlink:href=\"psysml:d0699ef2-83c4-4e0d-8bd9-bbe60339a2aa\" xlink:show=\"new\" xlink:title=\"psysml:d0699ef2-83c4-4e0d-8bd9-bbe60339a2aa\" xlink:type=\"simple\"><path d=\"M316.25,417.23 C316.25,417.23 316.25,456.86 316.25,456.86 \" fill=\"none\" id=\"E5-to-E2\" style=\"stroke:#181818;stroke-width:1.0;\"/><polygon fill=\"#FFFFFF\" points=\"316.25,476.86,309.25,457.86,323.25,457.86,316.25,476.86\" style=\"stroke:#181818;stroke-width:1.0;\"/><ellipse cx=\"311.25\" cy=\"452.16\" fill=\"#181818\" rx=\"2\" ry=\"2\" style=\"stroke:#181818;stroke-width:1.0;\"/><ellipse cx=\"321.25\" cy=\"452.16\" fill=\"#181818\" rx=\"2\" ry=\"2\" style=\"stroke:#181818;stroke-width:1.0;\"/></a></g><!--MD5=[3f50a3473f1dfb74d3f76443e03635af]\n",
       "reverse link E6 to E7--><g id=\"link_E6_E7\"><a href=\"psysml:366bafb5-df9c-4798-9876-4d54e8b0b741\" target=\"_top\" title=\"psysml:366bafb5-df9c-4798-9876-4d54e8b0b741\" xlink:actuate=\"onRequest\" xlink:href=\"psysml:366bafb5-df9c-4798-9876-4d54e8b0b741\" xlink:show=\"new\" xlink:title=\"psysml:366bafb5-df9c-4798-9876-4d54e8b0b741\" xlink:type=\"simple\"><path d=\"M305.5,103.23 C305.5,103.23 305.5,149.86 305.5,149.86 \" fill=\"none\" id=\"E6-backto-E7\" style=\"stroke:#181818;stroke-width:1.0;\"/><polygon fill=\"none\" points=\"305.5,90.23,301.5,96.23,305.5,102.23,309.5,96.23,305.5,90.23\" style=\"stroke:#181818;stroke-width:1.0;\"/></a></g><!--MD5=[14ccda38c055a5c0da953d572bc50960]\n",
       "link E7 to E3--><g id=\"link_E7_E3\"><a href=\"psysml:d78dc83c-69d8-425e-baf9-734404b9e080\" target=\"_top\" title=\"psysml:d78dc83c-69d8-425e-baf9-734404b9e080\" xlink:actuate=\"onRequest\" xlink:href=\"psysml:d78dc83c-69d8-425e-baf9-734404b9e080\" xlink:show=\"new\" xlink:title=\"psysml:d78dc83c-69d8-425e-baf9-734404b9e080\" xlink:type=\"simple\"><path d=\"M226,199.23 C226,199.23 226,238.86 226,238.86 \" fill=\"none\" id=\"E7-to-E3\" style=\"stroke:#181818;stroke-width:1.0;\"/><polygon fill=\"#FFFFFF\" points=\"226,258.86,219,239.86,233,239.86,226,258.86\" style=\"stroke:#181818;stroke-width:1.0;\"/><ellipse cx=\"221\" cy=\"234.16\" fill=\"#181818\" rx=\"2\" ry=\"2\" style=\"stroke:#181818;stroke-width:1.0;\"/><ellipse cx=\"231\" cy=\"234.16\" fill=\"#181818\" rx=\"2\" ry=\"2\" style=\"stroke:#181818;stroke-width:1.0;\"/></a></g><!--MD5=[dc164f5e8a733ab456ef1add180e9e34]\n",
       "reverse link E7 to E8--><g id=\"link_E7_E8\"><a href=\"psysml:d13242c6-9cb3-4e06-b936-6c92f3c2c2db\" target=\"_top\" title=\"psysml:d13242c6-9cb3-4e06-b936-6c92f3c2c2db\" xlink:actuate=\"onRequest\" xlink:href=\"psysml:d13242c6-9cb3-4e06-b936-6c92f3c2c2db\" xlink:show=\"new\" xlink:title=\"psysml:d13242c6-9cb3-4e06-b936-6c92f3c2c2db\" xlink:type=\"simple\"><path d=\"M310,212.23 C310,212.23 310,258.86 310,258.86 \" fill=\"none\" id=\"E7-backto-E8\" style=\"stroke:#181818;stroke-width:1.0;\"/><polygon fill=\"none\" points=\"310,199.23,306,205.23,310,211.23,314,205.23,310,199.23\" style=\"stroke:#181818;stroke-width:1.0;\"/></a></g><!--MD5=[f1f3f9f2fc535e6147756cb86a7f2e32]\n",
       "link E8 to E2--><g id=\"link_E8_E2\"><a href=\"psysml:d0699ef2-83c4-4e0d-8bd9-bbe60339a2aa\" target=\"_top\" title=\"psysml:d0699ef2-83c4-4e0d-8bd9-bbe60339a2aa\" xlink:actuate=\"onRequest\" xlink:href=\"psysml:d0699ef2-83c4-4e0d-8bd9-bbe60339a2aa\" xlink:show=\"new\" xlink:title=\"psysml:d0699ef2-83c4-4e0d-8bd9-bbe60339a2aa\" xlink:type=\"simple\"><path d=\"M346.67,308.08 C346.67,308.08 346.67,456.67 346.67,456.67 \" fill=\"none\" id=\"E8-to-E2\" style=\"stroke:#181818;stroke-width:1.0;\"/><polygon fill=\"#FFFFFF\" points=\"346.67,476.67,339.67,457.67,353.67,457.67,346.67,476.67\" style=\"stroke:#181818;stroke-width:1.0;\"/><ellipse cx=\"341.67\" cy=\"451.97\" fill=\"#181818\" rx=\"2\" ry=\"2\" style=\"stroke:#181818;stroke-width:1.0;\"/><ellipse cx=\"351.67\" cy=\"451.97\" fill=\"#181818\" rx=\"2\" ry=\"2\" style=\"stroke:#181818;stroke-width:1.0;\"/></a></g><!--MD5=[e88d06e5a652d73a6b19930eefe025a8]\n",
       "reverse link E6 to E9--><g id=\"link_E6_E9\"><a href=\"psysml:977141ee-6c6c-4018-8909-db03744b252b\" target=\"_top\" title=\"psysml:977141ee-6c6c-4018-8909-db03744b252b\" xlink:actuate=\"onRequest\" xlink:href=\"psysml:977141ee-6c6c-4018-8909-db03744b252b\" xlink:show=\"new\" xlink:title=\"psysml:977141ee-6c6c-4018-8909-db03744b252b\" xlink:type=\"simple\"><path d=\"M377.25,103.23 C377.25,103.23 377.25,149.86 377.25,149.86 \" fill=\"none\" id=\"E6-backto-E9\" style=\"stroke:#181818;stroke-width:1.0;\"/><polygon fill=\"none\" points=\"377.25,90.23,373.25,96.23,377.25,102.23,381.25,96.23,377.25,90.23\" style=\"stroke:#181818;stroke-width:1.0;\"/></a></g><!--MD5=[23ac544a70576c3e717098101004234c]\n",
       "reverse link E9 to E10--><g id=\"link_E9_E10\"><a href=\"psysml:8312c385-306a-4464-9fe7-26896f5346f9\" target=\"_top\" title=\"psysml:8312c385-306a-4464-9fe7-26896f5346f9\" xlink:actuate=\"onRequest\" xlink:href=\"psysml:8312c385-306a-4464-9fe7-26896f5346f9\" xlink:show=\"new\" xlink:title=\"psysml:8312c385-306a-4464-9fe7-26896f5346f9\" xlink:type=\"simple\"><path d=\"M502.25,212.08 C502.25,212.08 502.25,367.67 502.25,367.67 \" fill=\"none\" id=\"E9-backto-E10\" style=\"stroke:#181818;stroke-width:1.0;\"/><polygon fill=\"none\" points=\"502.25,199.08,498.25,205.08,502.25,211.08,506.25,205.08,502.25,199.08\" style=\"stroke:#181818;stroke-width:1.0;\"/></a></g><!--MD5=[0f36bececdf0dff6e600d6f64214b0f1]\n",
       "link E10 to E2--><g id=\"link_E10_E2\"><a href=\"psysml:0518f00a-472d-4f12-83fb-b4be1edd6269\" target=\"_top\" title=\"psysml:0518f00a-472d-4f12-83fb-b4be1edd6269\" xlink:actuate=\"onRequest\" xlink:href=\"psysml:0518f00a-472d-4f12-83fb-b4be1edd6269\" xlink:show=\"new\" xlink:title=\"psysml:0518f00a-472d-4f12-83fb-b4be1edd6269\" xlink:type=\"simple\"><path d=\"M413.66,393 C382.1,393 351.83,393 351.83,393 C351.83,393 351.83,456.88 351.83,456.88 \" fill=\"none\" id=\"E10-to-E2\" style=\"stroke:#181818;stroke-width:1.0;\"/><polygon fill=\"#FFFFFF\" points=\"351.83,476.88,344.83,457.88,358.83,457.88,351.83,476.88\" style=\"stroke:#181818;stroke-width:1.0;\"/><ellipse cx=\"346.83\" cy=\"452.18\" fill=\"#181818\" rx=\"2\" ry=\"2\" style=\"stroke:#181818;stroke-width:1.0;\"/><ellipse cx=\"356.83\" cy=\"452.18\" fill=\"#181818\" rx=\"2\" ry=\"2\" style=\"stroke:#181818;stroke-width:1.0;\"/></a></g><!--MD5=[de116e21047ded6283635ff91c92fb70]\n",
       "link E8 to E10--><g id=\"link_E8_E10\"><a href=\"psysml:f65edec5-b94b-4106-bda6-20255d3b6d76\" target=\"_top\" title=\"psysml:f65edec5-b94b-4106-bda6-20255d3b6d76\" xlink:actuate=\"onRequest\" xlink:href=\"psysml:f65edec5-b94b-4106-bda6-20255d3b6d76\" xlink:show=\"new\" xlink:title=\"psysml:f65edec5-b94b-4106-bda6-20255d3b6d76\" xlink:type=\"simple\"><path d=\"M432.5,308.23 C432.5,308.23 432.5,362.86 432.5,362.86 \" fill=\"none\" id=\"E8-to-E10\" style=\"stroke:#181818;stroke-width:1.0;\"/><polygon fill=\"#181818\" points=\"432.5,367.86,436.5,358.86,432.5,362.86,428.5,358.86,432.5,367.86\" style=\"stroke:#181818;stroke-width:1.0;\"/><text fill=\"#000000\" font-family=\"sans-serif\" font-size=\"13\" lengthAdjust=\"spacing\" textLength=\"100\" x=\"331.5\" y=\"332.1184\">current: Current</text></a></g><!--MD5=[85cd040598b3a3491fd04746ffe59182]\n",
       "@startuml\r\n",
       "skin sysmlbw\r\n",
       "skinparam monochrome true\r\n",
       "skinparam wrapWidth 300\r\n",
       "hide circle\r\n",
       "skinparam linetype ortho\r\n",
       "\r\n",
       "package \"OvenItemPortsAndInterfaces\" as E1  [[psysml:7b5f60fa-4b7d-4edf-b735-63ff333c6daa ]]  {\r\n",
       "comp def \"Current\" as E2  <<(T,blue) item  def>> [[psysml:5ab91090-df90-4790-966a-20d9cd65ddfb ]] {\r\n",
       "}\r\n",
       "comp def \"PowerPort\" as E3  <<(T,blue) port  def>> [[psysml:0eae5b83-03d4-41af-9bb4-7258223929f7 ]] {\r\n",
       "}\r\n",
       "comp usage \"powerIn: Current  \" as E4  <<(T,blue) item>> [[psysml:775c0867-5201-4b04-8350-643529835db2 ]] {\r\n",
       "}\r\n",
       "comp usage \"powerOut: Current  \" as E5  <<(T,blue) item>> [[psysml:99459057-0b3c-4491-8a6f-2b5742cf2acc ]] {\r\n",
       "}\r\n",
       "comp def \"PowerInterface\" as E6  <<(T,blue) interface  def>> [[psysml:e1ed51a4-ac77-499c-9ff2-09fc81b43126 ]] {\r\n",
       "}\r\n",
       "comp usage \"supplierPort: PowerPort  \" as E7  <<(T,blue) port>> [[psysml:1416abcb-62b5-47d3-a03f-ec943b60cf7b ]] {\r\n",
       "}\r\n",
       "comp usage \"^powerOut: Current  \" as E8  <<(T,blue) item>> [[psysml:99459057-0b3c-4491-8a6f-2b5742cf2acc ]] {\r\n",
       "}\r\n",
       "comp usage \"consumerPort: ~PowerPort  \" as E9  <<(T,blue) port>> [[psysml:d95b82af-d06a-4359-a51d-e1ba7b8ee9d8 ]] {\r\n",
       "}\r\n",
       "comp usage \"^powerIn: Current  \" as E10  <<(T,blue) item>> [[psysml:775c0867-5201-4b04-8350-643529835db2 ]] {\r\n",
       "}\r\n",
       "}\r\n",
       "E3 o- - E4 [[psysml:8312c385-306a-4464-9fe7-26896f5346f9 ]] \r\n",
       "E4 - -:|> E2 [[psysml:0518f00a-472d-4f12-83fb-b4be1edd6269 ]] \r\n",
       "E3 o- - E5 [[psysml:d13242c6-9cb3-4e06-b936-6c92f3c2c2db ]] \r\n",
       "E5 - -:|> E2 [[psysml:d0699ef2-83c4-4e0d-8bd9-bbe60339a2aa ]] \r\n",
       "E6 o- - E7 [[psysml:366bafb5-df9c-4798-9876-4d54e8b0b741 ]] \r\n",
       "E7 - -:|> E3 [[psysml:d78dc83c-69d8-425e-baf9-734404b9e080 ]] \r\n",
       "E7 o- - E8 [[psysml:d13242c6-9cb3-4e06-b936-6c92f3c2c2db ]] \r\n",
       "E8 - -:|> E2 [[psysml:d0699ef2-83c4-4e0d-8bd9-bbe60339a2aa ]] \r\n",
       "E6 o- - E9 [[psysml:977141ee-6c6c-4018-8909-db03744b252b ]] \r\n",
       "E9 o- - E10 [[psysml:8312c385-306a-4464-9fe7-26896f5346f9 ]] \r\n",
       "E10 - -:|> E2 [[psysml:0518f00a-472d-4f12-83fb-b4be1edd6269 ]] \r\n",
       "E8 - -> E10 [[psysml:f65edec5-b94b-4106-bda6-20255d3b6d76 ]] : current: Current\r\n",
       "@enduml\r\n",
       "\n",
       "PlantUML version 1.2022.7(Mon Aug 22 11:01:30 MDT 2022)\n",
       "(EPL source distribution)\n",
       "Java Runtime: Java(TM) SE Runtime Environment\n",
       "JVM: Java HotSpot(TM) 64-Bit Server VM\n",
       "Default Encoding: UTF-8\n",
       "Language: en\n",
       "Country: US\n",
       "--></g></svg>"
      ]
     },
     "execution_count": 62,
     "metadata": {},
     "output_type": "execute_result"
    }
   ],
   "source": [
    "%viz --view=default --style=ORTHOLINE OvenItemPortsAndInterfaces"
   ]
  },
  {
   "cell_type": "markdown",
   "id": "9d8b7620",
   "metadata": {},
   "source": [
    "This view is a general view, providing a structural perspective"
   ]
  },
  {
   "cell_type": "markdown",
   "id": "aa8b2cc6",
   "metadata": {},
   "source": [
    "### OvenPowerSystemModel.sysml"
   ]
  },
  {
   "cell_type": "markdown",
   "id": "400327c4",
   "metadata": {},
   "source": [
    "##### PowerSystemDefs"
   ]
  },
  {
   "cell_type": "code",
   "execution_count": 94,
   "id": "f025a710",
   "metadata": {
    "vscode": {
     "languageId": "sysml"
    }
   },
   "outputs": [
    {
     "data": {
      "text/plain": [
       "Package PowerSystemDefs (919a1f87-fda8-4664-a719-c5d6252a1a89)\n"
      ]
     },
     "execution_count": 94,
     "metadata": {},
     "output_type": "execute_result"
    }
   ],
   "source": [
    "package PowerSystemDefs{\n",
    "    item def Current;\n",
    "    part def TerminalBlock;\n",
    "    part def ControlBoard;\n",
    "\n",
    "    port def PowerPort{\n",
    "        in item powerIn: Current;\n",
    "        out item powerOut: Current;\n",
    "    }\n",
    "\n",
    "    interface def PowerInterface{\n",
    "        end supplierPort: PowerPort;\n",
    "        end consumerPort: ~PowerPort;\n",
    "        flow of current: Current\n",
    "            from supplierPort.powerOut\n",
    "            to consumerPort.powerIn;\n",
    "    }\n",
    "\n",
    "    part def PowerIndicator;\n",
    "    item def Signal;\n",
    "    item def LED;\n",
    "\n",
    "}"
   ]
  },
  {
   "cell_type": "code",
   "execution_count": 91,
   "id": "8b036595",
   "metadata": {
    "vscode": {
     "languageId": "sysml"
    }
   },
   "outputs": [
    {
     "data": {
      "text/plain": [
       "Package OvenPowerSystemModel (df1e061a-166e-4faf-ba48-771c310a4474)\n"
      ]
     },
     "execution_count": 91,
     "metadata": {},
     "output_type": "execute_result"
    }
   ],
   "source": [
    "package OvenPowerSystemModel{\n",
    "    private import PowerSystemDefs::*;\n",
    "\n",
    "    part def Oven{\n",
    "        part terminalBlock: TerminalBlock{\n",
    "            port powerPort: PowerPort;\n",
    "        }\n",
    "        part controlBoard: ControlBoard{\n",
    "            port powerPort: ~PowerPort;\n",
    "        }\n",
    "        interface powerInterface: PowerInterface\n",
    "            connect terminalBlock.powerPort\n",
    "            to controlBoard.powerPort;\n",
    "    }\n",
    "}"
   ]
  },
  {
   "cell_type": "code",
   "execution_count": 92,
   "id": "6d4c44e4",
   "metadata": {
    "vscode": {
     "languageId": "sysml"
    }
   },
   "outputs": [
    {
     "data": {
      "image/svg+xml": [
       "<?xml version=\"1.0\" encoding=\"UTF-8\" standalone=\"no\"?><svg xmlns=\"http://www.w3.org/2000/svg\" xmlns:xlink=\"http://www.w3.org/1999/xlink\" contentStyleType=\"text/css\" height=\"500px\" preserveAspectRatio=\"none\" style=\"width:467px;height:500px;background:#FFFFFF;\" version=\"1.1\" viewBox=\"0 0 467 500\" width=\"467px\" zoomAndPan=\"magnify\"><defs/><g><!--MD5=[fbc87193dbaf4d95561dea2c320d4a47]\n",
       "cluster E1--><g id=\"cluster_E1\"><a href=\"psysml:df1e061a-166e-4faf-ba48-771c310a4474\" target=\"_top\" title=\"psysml:df1e061a-166e-4faf-ba48-771c310a4474\" xlink:actuate=\"onRequest\" xlink:href=\"psysml:df1e061a-166e-4faf-ba48-771c310a4474\" xlink:show=\"new\" xlink:title=\"psysml:df1e061a-166e-4faf-ba48-771c310a4474\" xlink:type=\"simple\"><polygon fill=\"none\" points=\"16,6,199,6,206,28.4883,450,28.4883,450,493,16,493,16,6\" style=\"stroke:#000000;stroke-width:1.5;\"/><line style=\"stroke:#000000;stroke-width:1.5;\" x1=\"16\" x2=\"206\" y1=\"28.4883\" y2=\"28.4883\"/><text fill=\"#000000\" font-family=\"sans-serif\" font-size=\"14\" font-weight=\"bold\" lengthAdjust=\"spacing\" textLength=\"177\" x=\"20\" y=\"21.5352\">OvenPowerSystemModel</text></a></g><!--MD5=[b4997ac47864f28c2f74865a473b2911]\n",
       "class E2--><a href=\"psysml:e905b419-447e-402c-8f7b-b34c1bf9ae95\" target=\"_top\" title=\"psysml:e905b419-447e-402c-8f7b-b34c1bf9ae95\" xlink:actuate=\"onRequest\" xlink:href=\"psysml:e905b419-447e-402c-8f7b-b34c1bf9ae95\" xlink:show=\"new\" xlink:title=\"psysml:e905b419-447e-402c-8f7b-b34c1bf9ae95\" xlink:type=\"simple\"><g id=\"elem_E2\"><rect fill=\"#FFFFFF\" height=\"108.6813\" id=\"E2\" style=\"stroke:#181818;stroke-width:0.5;\" width=\"287\" x=\"84.5\" y=\"41\"/><text fill=\"#000000\" font-family=\"sans-serif\" font-size=\"12\" font-style=\"italic\" lengthAdjust=\"spacing\" textLength=\"63\" x=\"196.5\" y=\"57.6016\">«part  def»</text><text fill=\"#000000\" font-family=\"sans-serif\" font-size=\"14\" lengthAdjust=\"spacing\" textLength=\"35\" x=\"210.5\" y=\"73.668\">Oven</text><line style=\"stroke:#181818;stroke-width:0.5;\" x1=\"85.5\" x2=\"370.5\" y1=\"81.6211\" y2=\"81.6211\"/><text fill=\"#000000\" font-family=\"sans-serif\" font-size=\"14\" lengthAdjust=\"spacing\" textLength=\"271\" x=\"90.5\" y=\"109.7516\">powerInterface: PowerInterface connect</text><text fill=\"#000000\" font-family=\"sans-serif\" font-size=\"14\" lengthAdjust=\"spacing\" textLength=\"186\" x=\"90.5\" y=\"126.2398\">terminalBlock.powerPort to</text><text fill=\"#000000\" font-family=\"sans-serif\" font-size=\"14\" lengthAdjust=\"spacing\" textLength=\"164\" x=\"90.5\" y=\"142.7281\">controlBoard.powerPort</text><text fill=\"#000000\" font-family=\"sans-serif\" font-size=\"14\" font-style=\"italic\" lengthAdjust=\"spacing\" textLength=\"67\" x=\"194.5\" y=\"94.4121\">interfaces</text></g></a><!--MD5=[09b614a08d8cba4a07c9adeb5e0fee81]\n",
       "class E3--><a href=\"psysml:807f8e04-ee63-4206-a97a-80cd89543e9d\" target=\"_top\" title=\"psysml:807f8e04-ee63-4206-a97a-80cd89543e9d\" xlink:actuate=\"onRequest\" xlink:href=\"psysml:807f8e04-ee63-4206-a97a-80cd89543e9d\" xlink:show=\"new\" xlink:title=\"psysml:807f8e04-ee63-4206-a97a-80cd89543e9d\" xlink:type=\"simple\"><g id=\"elem_E3\"><rect fill=\"#FFFFFF\" height=\"48.6211\" id=\"E3\" rx=\"10\" ry=\"10\" style=\"stroke:#181818;stroke-width:0.5;\" width=\"212\" x=\"58\" y=\"210\"/><text fill=\"#000000\" font-family=\"sans-serif\" font-size=\"12\" font-style=\"italic\" lengthAdjust=\"spacing\" textLength=\"36\" x=\"146\" y=\"226.6016\">«part»</text><text fill=\"#000000\" font-family=\"sans-serif\" font-size=\"14\" lengthAdjust=\"spacing\" textLength=\"198\" x=\"61\" y=\"242.668\">terminalBlock: TerminalBlock</text><line style=\"stroke:#181818;stroke-width:0.5;\" x1=\"59\" x2=\"269\" y1=\"250.6211\" y2=\"250.6211\"/></g></a><!--MD5=[ebbe1d658d1005bcc118a6aa81145e00]\n",
       "class E4--><a href=\"psysml:41ec8387-7866-42c3-9bd5-ac73676cc74a\" target=\"_top\" title=\"psysml:41ec8387-7866-42c3-9bd5-ac73676cc74a\" xlink:actuate=\"onRequest\" xlink:href=\"psysml:41ec8387-7866-42c3-9bd5-ac73676cc74a\" xlink:show=\"new\" xlink:title=\"psysml:41ec8387-7866-42c3-9bd5-ac73676cc74a\" xlink:type=\"simple\"><g id=\"elem_E4\"><rect fill=\"#FFFFFF\" height=\"48.6211\" id=\"E4\" rx=\"10\" ry=\"10\" style=\"stroke:#181818;stroke-width:0.5;\" width=\"163\" x=\"32.5\" y=\"319\"/><text fill=\"#000000\" font-family=\"sans-serif\" font-size=\"12\" font-style=\"italic\" lengthAdjust=\"spacing\" textLength=\"36\" x=\"96\" y=\"335.6016\">«port»</text><text fill=\"#000000\" font-family=\"sans-serif\" font-size=\"14\" lengthAdjust=\"spacing\" textLength=\"149\" x=\"35.5\" y=\"351.668\">powerPort: PowerPort</text><line style=\"stroke:#181818;stroke-width:0.5;\" x1=\"33.5\" x2=\"194.5\" y1=\"359.6211\" y2=\"359.6211\"/></g></a><!--MD5=[270fce915f116d4de14055a7c1d9a0f3]\n",
       "class E5--><a href=\"psysml:033d10d4-4745-4a09-b79e-a16dd3eb271f\" target=\"_top\" title=\"psysml:033d10d4-4745-4a09-b79e-a16dd3eb271f\" xlink:actuate=\"onRequest\" xlink:href=\"psysml:033d10d4-4745-4a09-b79e-a16dd3eb271f\" xlink:show=\"new\" xlink:title=\"psysml:033d10d4-4745-4a09-b79e-a16dd3eb271f\" xlink:type=\"simple\"><g id=\"elem_E5\"><rect fill=\"#FFFFFF\" height=\"48.6211\" id=\"E5\" rx=\"10\" ry=\"10\" style=\"stroke:#181818;stroke-width:0.5;\" width=\"203\" x=\"230.5\" y=\"319\"/><text fill=\"#000000\" font-family=\"sans-serif\" font-size=\"12\" font-style=\"italic\" lengthAdjust=\"spacing\" textLength=\"36\" x=\"314\" y=\"335.6016\">«part»</text><text fill=\"#000000\" font-family=\"sans-serif\" font-size=\"14\" lengthAdjust=\"spacing\" textLength=\"189\" x=\"233.5\" y=\"351.668\">controlBoard: ControlBoard</text><line style=\"stroke:#181818;stroke-width:0.5;\" x1=\"231.5\" x2=\"432.5\" y1=\"359.6211\" y2=\"359.6211\"/></g></a><!--MD5=[60a26617385b1d2d0262a64233df1f8d]\n",
       "class E6--><a href=\"psysml:e54f2bd7-d7ed-4875-89d5-c36fd15bbed0\" target=\"_top\" title=\"psysml:e54f2bd7-d7ed-4875-89d5-c36fd15bbed0\" xlink:actuate=\"onRequest\" xlink:href=\"psysml:e54f2bd7-d7ed-4875-89d5-c36fd15bbed0\" xlink:show=\"new\" xlink:title=\"psysml:e54f2bd7-d7ed-4875-89d5-c36fd15bbed0\" xlink:type=\"simple\"><g id=\"elem_E6\"><rect fill=\"#FFFFFF\" height=\"48.6211\" id=\"E6\" rx=\"10\" ry=\"10\" style=\"stroke:#181818;stroke-width:0.5;\" width=\"172\" x=\"139\" y=\"428\"/><text fill=\"#000000\" font-family=\"sans-serif\" font-size=\"12\" font-style=\"italic\" lengthAdjust=\"spacing\" textLength=\"36\" x=\"207\" y=\"444.6016\">«port»</text><text fill=\"#000000\" font-family=\"sans-serif\" font-size=\"14\" lengthAdjust=\"spacing\" textLength=\"158\" x=\"142\" y=\"460.668\">powerPort: ~PowerPort</text><line style=\"stroke:#181818;stroke-width:0.5;\" x1=\"140\" x2=\"310\" y1=\"468.6211\" y2=\"468.6211\"/></g></a><!--MD5=[209b3feb70ccb6233bfe1053d122c12c]\n",
       "reverse link E2 to E3--><g id=\"link_E2_E3\"><a href=\"psysml:0ccdbd97-80d8-4c8a-9158-23c73a8e7806\" target=\"_top\" title=\"psysml:0ccdbd97-80d8-4c8a-9158-23c73a8e7806\" xlink:actuate=\"onRequest\" xlink:href=\"psysml:0ccdbd97-80d8-4c8a-9158-23c73a8e7806\" xlink:show=\"new\" xlink:title=\"psysml:0ccdbd97-80d8-4c8a-9158-23c73a8e7806\" xlink:type=\"simple\"><path d=\"M177.25,163.04 C177.25,163.04 177.25,209.86 177.25,209.86 \" fill=\"none\" id=\"E2-backto-E3\" style=\"stroke:#181818;stroke-width:1.0;\"/><polygon fill=\"#181818\" points=\"177.25,150.04,173.25,156.04,177.25,162.04,181.25,156.04,177.25,150.04\" style=\"stroke:#181818;stroke-width:1.0;\"/></a></g><!--MD5=[4672eba38e49728da53d11aeb285b987]\n",
       "reverse link E3 to E4--><g id=\"link_E3_E4\"><a href=\"psysml:1feca5c3-cf6a-4615-a000-c66b237066a4\" target=\"_top\" title=\"psysml:1feca5c3-cf6a-4615-a000-c66b237066a4\" xlink:actuate=\"onRequest\" xlink:href=\"psysml:1feca5c3-cf6a-4615-a000-c66b237066a4\" xlink:show=\"new\" xlink:title=\"psysml:1feca5c3-cf6a-4615-a000-c66b237066a4\" xlink:type=\"simple\"><path d=\"M126.75,272.23 C126.75,272.23 126.75,318.86 126.75,318.86 \" fill=\"none\" id=\"E3-backto-E4\" style=\"stroke:#181818;stroke-width:1.0;\"/><polygon fill=\"none\" points=\"126.75,259.23,122.75,265.23,126.75,271.23,130.75,265.23,126.75,259.23\" style=\"stroke:#181818;stroke-width:1.0;\"/></a></g><!--MD5=[4e1a83fab71cdb913c109063314ae896]\n",
       "reverse link E2 to E5--><g id=\"link_E2_E5\"><a href=\"psysml:a87b3993-50de-4cd0-ab59-84027ab2bb83\" target=\"_top\" title=\"psysml:a87b3993-50de-4cd0-ab59-84027ab2bb83\" xlink:actuate=\"onRequest\" xlink:href=\"psysml:a87b3993-50de-4cd0-ab59-84027ab2bb83\" xlink:show=\"new\" xlink:title=\"psysml:a87b3993-50de-4cd0-ab59-84027ab2bb83\" xlink:type=\"simple\"><path d=\"M320.75,163.23 C320.75,163.23 320.75,318.69 320.75,318.69 \" fill=\"none\" id=\"E2-backto-E5\" style=\"stroke:#181818;stroke-width:1.0;\"/><polygon fill=\"#181818\" points=\"320.75,150.23,316.75,156.23,320.75,162.23,324.75,156.23,320.75,150.23\" style=\"stroke:#181818;stroke-width:1.0;\"/></a></g><!--MD5=[85d356282659285ab4b2cfe2f634dd2b]\n",
       "reverse link E5 to E6--><g id=\"link_E5_E6\"><a href=\"psysml:9c3de778-c203-42e1-8ec5-125a7a0a41c7\" target=\"_top\" title=\"psysml:9c3de778-c203-42e1-8ec5-125a7a0a41c7\" xlink:actuate=\"onRequest\" xlink:href=\"psysml:9c3de778-c203-42e1-8ec5-125a7a0a41c7\" xlink:show=\"new\" xlink:title=\"psysml:9c3de778-c203-42e1-8ec5-125a7a0a41c7\" xlink:type=\"simple\"><path d=\"M270.75,381.23 C270.75,381.23 270.75,427.86 270.75,427.86 \" fill=\"none\" id=\"E5-backto-E6\" style=\"stroke:#181818;stroke-width:1.0;\"/><polygon fill=\"none\" points=\"270.75,368.23,266.75,374.23,270.75,380.23,274.75,374.23,270.75,368.23\" style=\"stroke:#181818;stroke-width:1.0;\"/></a></g><!--MD5=[79568f1e445c3877b6a54524624ccc7d]\n",
       "link E4 to E6--><g id=\"link_E4_E6\"><a href=\"psysml:f72c3f09-bfd7-4d45-b793-0a26d5a419c0\" target=\"_top\" title=\"psysml:f72c3f09-bfd7-4d45-b793-0a26d5a419c0\" xlink:actuate=\"onRequest\" xlink:href=\"psysml:f72c3f09-bfd7-4d45-b793-0a26d5a419c0\" xlink:show=\"new\" xlink:title=\"psysml:f72c3f09-bfd7-4d45-b793-0a26d5a419c0\" xlink:type=\"simple\"><path d=\"M167.25,368.23 C167.25,386.07 167.25,410.05 167.25,427.86 \" fill=\"none\" id=\"E4-E6\" style=\"stroke:#181818;stroke-width:3.0;\"/></a></g><!--MD5=[e4d0d5773ec4e37e64698ae7f02006aa]\n",
       "@startuml\r\n",
       "skin sysmlbw\r\n",
       "skinparam monochrome true\r\n",
       "skinparam wrapWidth 300\r\n",
       "hide circle\r\n",
       "skinparam linetype ortho\r\n",
       "\r\n",
       "package \"OvenPowerSystemModel\" as E1  [[psysml:df1e061a-166e-4faf-ba48-771c310a4474 ]]  {\r\n",
       "comp def \"Oven\" as E2  <<(T,blue) part  def>> [[psysml:e905b419-447e-402c-8f7b-b34c1bf9ae95 ]] {\r\n",
       "##//interfaces//##\r\n",
       "powerInterface: PowerInterface connect terminalBlock.powerPort to controlBoard.powerPort\r\n",
       "}\r\n",
       "comp usage \"terminalBlock: TerminalBlock  \" as E3  <<(T,blue) part>> [[psysml:807f8e04-ee63-4206-a97a-80cd89543e9d ]] {\r\n",
       "}\r\n",
       "comp usage \"powerPort: PowerPort  \" as E4  <<(T,blue) port>> [[psysml:41ec8387-7866-42c3-9bd5-ac73676cc74a ]] {\r\n",
       "}\r\n",
       "comp usage \"controlBoard: ControlBoard  \" as E5  <<(T,blue) part>> [[psysml:033d10d4-4745-4a09-b79e-a16dd3eb271f ]] {\r\n",
       "}\r\n",
       "comp usage \"powerPort: ~PowerPort  \" as E6  <<(T,blue) port>> [[psysml:e54f2bd7-d7ed-4875-89d5-c36fd15bbed0 ]] {\r\n",
       "}\r\n",
       "}\r\n",
       "E2 *- - E3 [[psysml:0ccdbd97-80d8-4c8a-9158-23c73a8e7806 ]] \r\n",
       "E3 o- - E4 [[psysml:1feca5c3-cf6a-4615-a000-c66b237066a4 ]] \r\n",
       "E2 *- - E5 [[psysml:a87b3993-50de-4cd0-ab59-84027ab2bb83 ]] \r\n",
       "E5 o- - E6 [[psysml:9c3de778-c203-42e1-8ec5-125a7a0a41c7 ]] \r\n",
       "E4 -[thickness=3]- E6 [[psysml:f72c3f09-bfd7-4d45-b793-0a26d5a419c0 ]] \r\n",
       "@enduml\r\n",
       "\n",
       "PlantUML version 1.2022.7(Mon Aug 22 11:01:30 MDT 2022)\n",
       "(EPL source distribution)\n",
       "Java Runtime: Java(TM) SE Runtime Environment\n",
       "JVM: Java HotSpot(TM) 64-Bit Server VM\n",
       "Default Encoding: UTF-8\n",
       "Language: en\n",
       "Country: US\n",
       "--></g></svg>"
      ]
     },
     "execution_count": 92,
     "metadata": {},
     "output_type": "execute_result"
    }
   ],
   "source": [
    "%viz --view=default --style=ORTHOLINE OvenPowerSystemModel"
   ]
  },
  {
   "cell_type": "markdown",
   "id": "d9351358",
   "metadata": {},
   "source": [
    "### InterconnectionViewOfInterface.sysml\n",
    "\n",
    "Interconnection between parts can also be shown via --view=interconnection. Else in structural view, will be represented with a thick black line.\n",
    "- Focuses on relationships and connections between system components"
   ]
  },
  {
   "cell_type": "code",
   "execution_count": 81,
   "id": "1287c2c7",
   "metadata": {
    "vscode": {
     "languageId": "sysml"
    }
   },
   "outputs": [
    {
     "data": {
      "text/plain": [
       "Package InterconnectionViewOfInterface (05692242-1435-47cb-89c7-2ec1182e3e2b)\n"
      ]
     },
     "execution_count": 81,
     "metadata": {},
     "output_type": "execute_result"
    }
   ],
   "source": [
    "package InterconnectionViewOfInterface{\n",
    "    private import PowerSystemDefs::*;\n",
    "\n",
    "    interface def PowerInterface {\n",
    "        end supplierPort: PowerPort;\n",
    "        end consumerPort: ~PowerPort;\n",
    "        flow of current: Current\n",
    "            from supplierPort.powerOut\n",
    "            to consumerPort.powerIn;\n",
    "    }\n",
    "}"
   ]
  },
  {
   "cell_type": "code",
   "execution_count": 82,
   "id": "8594cbfc",
   "metadata": {
    "vscode": {
     "languageId": "sysml"
    }
   },
   "outputs": [
    {
     "data": {
      "image/svg+xml": [
       "<?xml version=\"1.0\" encoding=\"UTF-8\" standalone=\"no\"?><svg xmlns=\"http://www.w3.org/2000/svg\" xmlns:xlink=\"http://www.w3.org/1999/xlink\" contentStyleType=\"text/css\" height=\"438px\" preserveAspectRatio=\"none\" style=\"width:348px;height:438px;background:#FFFFFF;\" version=\"1.1\" viewBox=\"0 0 348 438\" width=\"348px\" zoomAndPan=\"magnify\"><defs/><g><!--MD5=[fbc87193dbaf4d95561dea2c320d4a47]\n",
       "cluster E1--><g id=\"cluster_E1\"><a href=\"psysml:05692242-1435-47cb-89c7-2ec1182e3e2b\" target=\"_top\" title=\"psysml:05692242-1435-47cb-89c7-2ec1182e3e2b\" xlink:actuate=\"onRequest\" xlink:href=\"psysml:05692242-1435-47cb-89c7-2ec1182e3e2b\" xlink:show=\"new\" xlink:title=\"psysml:05692242-1435-47cb-89c7-2ec1182e3e2b\" xlink:type=\"simple\"><polygon fill=\"none\" points=\"16,6,250,6,257,28.4883,331,28.4883,331,431,16,431,16,6\" style=\"stroke:#000000;stroke-width:1.5;\"/><line style=\"stroke:#000000;stroke-width:1.5;\" x1=\"16\" x2=\"257\" y1=\"28.4883\" y2=\"28.4883\"/><text fill=\"#000000\" font-family=\"sans-serif\" font-size=\"14\" font-weight=\"bold\" lengthAdjust=\"spacing\" textLength=\"228\" x=\"20\" y=\"21.5352\">InterconnectionViewOfInterface</text></a></g><!--MD5=[e4f7fae6ed58524ba242bb0b0d3be6b7]\n",
       "cluster E2--><g id=\"cluster_E2\"><a href=\"psysml:a0b345ce-cd55-412d-a4e8-d174362c42ff\" target=\"_top\" title=\"psysml:a0b345ce-cd55-412d-a4e8-d174362c42ff\" xlink:actuate=\"onRequest\" xlink:href=\"psysml:a0b345ce-cd55-412d-a4e8-d174362c42ff\" xlink:show=\"new\" xlink:title=\"psysml:a0b345ce-cd55-412d-a4e8-d174362c42ff\" xlink:type=\"simple\"><rect fill=\"#FFFFFF\" height=\"358\" id=\"E2\" style=\"stroke:#383838;stroke-width:1.5;\" width=\"267\" x=\"40\" y=\"49\"/><text fill=\"#000000\" font-family=\"sans-serif\" font-size=\"12\" font-style=\"italic\" lengthAdjust=\"spacing\" textLength=\"89\" x=\"129\" y=\"65.6016\">«interface  def»</text><text fill=\"#000000\" font-family=\"sans-serif\" font-size=\"14\" lengthAdjust=\"spacing\" textLength=\"102\" x=\"122.5\" y=\"81.668\">PowerInterface</text><line style=\"stroke:#383838;stroke-width:1.0;\" x1=\"40\" x2=\"307\" y1=\"89.6211\" y2=\"89.6211\"/></a></g><!--MD5=[f6df4d0ebaf0b5dfb2ced0ae5af7c670]\n",
       "cluster E4--><g id=\"cluster_E4\"><a href=\"psysml:1ac304db-6e3c-4f27-8b8d-c2161fe58664\" target=\"_top\" title=\"psysml:1ac304db-6e3c-4f27-8b8d-c2161fe58664\" xlink:actuate=\"onRequest\" xlink:href=\"psysml:1ac304db-6e3c-4f27-8b8d-c2161fe58664\" xlink:show=\"new\" xlink:title=\"psysml:1ac304db-6e3c-4f27-8b8d-c2161fe58664\" xlink:type=\"simple\"><rect fill=\"#FFFFFF\" height=\"113\" id=\"E4\" rx=\"10\" ry=\"10\" style=\"stroke:#383838;stroke-width:1.5;\" width=\"197\" x=\"75\" y=\"108\"/><text fill=\"#000000\" font-family=\"sans-serif\" font-size=\"12\" font-style=\"italic\" lengthAdjust=\"spacing\" textLength=\"36\" x=\"155.5\" y=\"124.6016\">«port»</text><text fill=\"#000000\" font-family=\"sans-serif\" font-size=\"14\" lengthAdjust=\"spacing\" textLength=\"162\" x=\"88.5\" y=\"140.668\">supplierPort: PowerPort</text><line style=\"stroke:#383838;stroke-width:1.0;\" x1=\"75\" x2=\"272\" y1=\"148.6211\" y2=\"148.6211\"/></a></g><!--MD5=[14e3b0961a2654348d326746436168a1]\n",
       "cluster E6--><g id=\"cluster_E6\"><a href=\"psysml:160793b5-0708-4958-aa48-cdf59eda443b\" target=\"_top\" title=\"psysml:160793b5-0708-4958-aa48-cdf59eda443b\" xlink:actuate=\"onRequest\" xlink:href=\"psysml:160793b5-0708-4958-aa48-cdf59eda443b\" xlink:show=\"new\" xlink:title=\"psysml:160793b5-0708-4958-aa48-cdf59eda443b\" xlink:type=\"simple\"><rect fill=\"#FFFFFF\" height=\"113\" id=\"E6\" rx=\"10\" ry=\"10\" style=\"stroke:#383838;stroke-width:1.5;\" width=\"219\" x=\"64\" y=\"270\"/><text fill=\"#000000\" font-family=\"sans-serif\" font-size=\"12\" font-style=\"italic\" lengthAdjust=\"spacing\" textLength=\"36\" x=\"155.5\" y=\"286.6016\">«port»</text><text fill=\"#000000\" font-family=\"sans-serif\" font-size=\"14\" lengthAdjust=\"spacing\" textLength=\"183\" x=\"78\" y=\"302.668\">consumerPort: ~PowerPort</text><line style=\"stroke:#383838;stroke-width:1.0;\" x1=\"64\" x2=\"283\" y1=\"310.6211\" y2=\"310.6211\"/></a></g><g><a href=\"psysml:8adef1b9-eecb-444e-8cac-0cb9c0124540\" target=\"_top\" title=\"psysml:8adef1b9-eecb-444e-8cac-0cb9c0124540\" xlink:actuate=\"onRequest\" xlink:href=\"psysml:8adef1b9-eecb-444e-8cac-0cb9c0124540\" xlink:show=\"new\" xlink:title=\"psysml:8adef1b9-eecb-444e-8cac-0cb9c0124540\" xlink:type=\"simple\"><rect fill=\"#FFFFFF\" height=\"45.6211\" id=\"E3\" rx=\"10\" ry=\"10\" style=\"stroke:#383838;stroke-width:1.5;\" width=\"149\" x=\"98.5\" y=\"159\"/><text fill=\"#000000\" font-family=\"sans-serif\" font-size=\"12\" font-style=\"italic\" lengthAdjust=\"spacing\" textLength=\"37\" x=\"154.5\" y=\"175.6016\">«item»</text><text fill=\"#000000\" font-family=\"sans-serif\" font-size=\"14\" lengthAdjust=\"spacing\" textLength=\"138\" x=\"104\" y=\"191.668\">^powerOut: Current</text></a></g><g><a href=\"psysml:19f1155b-e7a5-4690-8a08-02a9ae814cf5\" target=\"_top\" title=\"psysml:19f1155b-e7a5-4690-8a08-02a9ae814cf5\" xlink:actuate=\"onRequest\" xlink:href=\"psysml:19f1155b-e7a5-4690-8a08-02a9ae814cf5\" xlink:show=\"new\" xlink:title=\"psysml:19f1155b-e7a5-4690-8a08-02a9ae814cf5\" xlink:type=\"simple\"><rect fill=\"#FFFFFF\" height=\"45.6211\" id=\"E5\" rx=\"10\" ry=\"10\" style=\"stroke:#383838;stroke-width:1.5;\" width=\"137\" x=\"104.5\" y=\"321\"/><text fill=\"#000000\" font-family=\"sans-serif\" font-size=\"12\" font-style=\"italic\" lengthAdjust=\"spacing\" textLength=\"37\" x=\"154.5\" y=\"337.6016\">«item»</text><text fill=\"#000000\" font-family=\"sans-serif\" font-size=\"14\" lengthAdjust=\"spacing\" textLength=\"126\" x=\"110\" y=\"353.668\">^powerIn: Current</text></a></g><!--MD5=[0188b64bb0ae78505a997a81836e11e9]\n",
       "link E3 to E5--><g id=\"link_E3_E5\"><a href=\"psysml:0d7a371a-02fa-4aa5-a8a9-969d4330a1e2\" target=\"_top\" title=\"psysml:0d7a371a-02fa-4aa5-a8a9-969d4330a1e2\" xlink:actuate=\"onRequest\" xlink:href=\"psysml:0d7a371a-02fa-4aa5-a8a9-969d4330a1e2\" xlink:show=\"new\" xlink:title=\"psysml:0d7a371a-02fa-4aa5-a8a9-969d4330a1e2\" xlink:type=\"simple\"><path d=\"M173,205.25 C173,234.14 173,284.57 173,315.73 \" fill=\"none\" id=\"E3-to-E5\" style=\"stroke:#181818;stroke-width:1.0;\"/><polygon fill=\"#181818\" points=\"173,320.94,177,311.94,173,315.94,169,311.94,173,320.94\" style=\"stroke:#181818;stroke-width:1.0;\"/><text fill=\"#000000\" font-family=\"sans-serif\" font-size=\"13\" lengthAdjust=\"spacing\" textLength=\"100\" x=\"174\" y=\"250.5684\">current: Current</text></a></g><!--MD5=[a6935280236b8cd840cb96d7c4a4981a]\n",
       "@startuml\r\n",
       "skin sysmlbw\r\n",
       "skinparam monochrome true\r\n",
       "skinparam wrapWidth 300\r\n",
       "hide circle\r\n",
       "skinparam ranksep 10\r\n",
       "skinparam rectangle {\r\n",
       " backgroundColor<<block>> LightGreen\r\n",
       "}\r\n",
       "\r\n",
       "package \"InterconnectionViewOfInterface\" as E1  [[psysml:05692242-1435-47cb-89c7-2ec1182e3e2b ]]  {\r\n",
       "rec def \"PowerInterface\" as E2  <<(T,blue) interface  def>> [[psysml:a0b345ce-cd55-412d-a4e8-d174362c42ff ]] {\r\n",
       "rec usage \"supplierPort: PowerPort  \" as E4  <<(T,blue) port>> [[psysml:1ac304db-6e3c-4f27-8b8d-c2161fe58664 ]] {\r\n",
       "rec usage \"^powerOut: Current\" as E3  <<(T,blue) item>> [[psysml:8adef1b9-eecb-444e-8cac-0cb9c0124540 ]] {\r\n",
       "}\r\n",
       "}\r\n",
       "rec usage \"consumerPort: ~PowerPort  \" as E6  <<(T,blue) port>> [[psysml:160793b5-0708-4958-aa48-cdf59eda443b ]] {\r\n",
       "rec usage \"^powerIn: Current\" as E5  <<(T,blue) item>> [[psysml:19f1155b-e7a5-4690-8a08-02a9ae814cf5 ]] {\r\n",
       "}\r\n",
       "}\r\n",
       "}\r\n",
       "}\r\n",
       "E3 - -> E5 [[psysml:0d7a371a-02fa-4aa5-a8a9-969d4330a1e2 ]] : current: Current\r\n",
       "@enduml\r\n",
       "\n",
       "PlantUML version 1.2022.7(Mon Aug 22 11:01:30 MDT 2022)\n",
       "(EPL source distribution)\n",
       "Java Runtime: Java(TM) SE Runtime Environment\n",
       "JVM: Java HotSpot(TM) 64-Bit Server VM\n",
       "Default Encoding: UTF-8\n",
       "Language: en\n",
       "Country: US\n",
       "--></g></svg>"
      ]
     },
     "execution_count": 82,
     "metadata": {},
     "output_type": "execute_result"
    }
   ],
   "source": [
    "%viz --view=interconnection InterconnectionViewOfInterface "
   ]
  },
  {
   "cell_type": "markdown",
   "id": "ec93e74c",
   "metadata": {},
   "source": [
    "Depending on the system, ports may be explicitly depicted as a small square with an arrow in it."
   ]
  },
  {
   "cell_type": "markdown",
   "id": "e71f5e2b",
   "metadata": {},
   "source": [
    "## 04-02 Flow Connections\n",
    "\n",
    "Behavioral Model\n",
    "1. Flow Connection\n",
    "    1. Message\n",
    "    2. Streaming flow connection\n",
    "    3. Succession flow connection\n",
    "2. Actions\n",
    "3. States\n",
    "\n",
    "**Flow Connections**\n",
    "- Binary relationship between two ends (source, target)\n",
    "- Action in which payload is tranferred from source to target\n",
    "    - Payload can be anything: item, usage, part, etc\n",
    "- Three types of flow connection usages\n",
    "    1. Message\n",
    "    2. Streaming flow connection\n",
    "    3. Succession flow connection"
   ]
  },
  {
   "cell_type": "markdown",
   "id": "2ae80c2d",
   "metadata": {},
   "source": [
    "### Message.sysml\n",
    "\n",
    "**Message**\n",
    "- Specifies transfer of payload from source to target w/o specifying transfer mechanism\n",
    "- Most abstract level\n",
    "- Eg: Oven Model\n",
    "    - Oven has ControlBoard and PowerIndicator\n",
    "    - ControlBoard sends Signal to PowerIndicator\n",
    "        - Signal represents payload"
   ]
  },
  {
   "cell_type": "code",
   "execution_count": 106,
   "id": "1ef08226",
   "metadata": {
    "vscode": {
     "languageId": "sysml"
    }
   },
   "outputs": [
    {
     "data": {
      "text/plain": [
       "Package Message (a5101030-33b1-4cb5-b56a-6932a7a583b5)\n"
      ]
     },
     "execution_count": 106,
     "metadata": {},
     "output_type": "execute_result"
    }
   ],
   "source": [
    "package Message{\n",
    "    private import PowerSystemDefs::*;\n",
    "\n",
    "    occurrence PowerOn{\n",
    "        part controlBoard: ControlBoard{\n",
    "            event occurrence sendSignal;    // event of sending signal when power is on\n",
    "        }\n",
    "        part powerIndicator: PowerIndicator{\n",
    "            event occurrence receiveSignal; // event of receiving signal when power is on\n",
    "        }\n",
    "        message of powerSignal: Signal\n",
    "            from controlBoard.sendSignal\n",
    "            to powerIndicator.receiveSignal;\n",
    "    }\n",
    "}"
   ]
  },
  {
   "cell_type": "code",
   "execution_count": 107,
   "id": "390ddd59",
   "metadata": {
    "vscode": {
     "languageId": "sysml"
    }
   },
   "outputs": [
    {
     "data": {
      "image/svg+xml": [
       "<?xml version=\"1.0\" encoding=\"UTF-8\" standalone=\"no\"?><svg xmlns=\"http://www.w3.org/2000/svg\" xmlns:xlink=\"http://www.w3.org/1999/xlink\" contentStyleType=\"text/css\" height=\"260px\" preserveAspectRatio=\"none\" style=\"width:604px;height:260px;background:#FFFFFF;\" version=\"1.1\" viewBox=\"0 0 604 260\" width=\"604px\" zoomAndPan=\"magnify\"><defs/><g><!--MD5=[fbc87193dbaf4d95561dea2c320d4a47]\n",
       "cluster E1--><g id=\"cluster_E1\"><a href=\"psysml:a5101030-33b1-4cb5-b56a-6932a7a583b5\" target=\"_top\" title=\"psysml:a5101030-33b1-4cb5-b56a-6932a7a583b5\" xlink:actuate=\"onRequest\" xlink:href=\"psysml:a5101030-33b1-4cb5-b56a-6932a7a583b5\" xlink:show=\"new\" xlink:title=\"psysml:a5101030-33b1-4cb5-b56a-6932a7a583b5\" xlink:type=\"simple\"><polygon fill=\"none\" points=\"16,6,84,6,91,28.4883,587,28.4883,587,253,16,253,16,6\" style=\"stroke:#000000;stroke-width:1.5;\"/><line style=\"stroke:#000000;stroke-width:1.5;\" x1=\"16\" x2=\"91\" y1=\"28.4883\" y2=\"28.4883\"/><text fill=\"#000000\" font-family=\"sans-serif\" font-size=\"14\" font-weight=\"bold\" lengthAdjust=\"spacing\" textLength=\"62\" x=\"20\" y=\"21.5352\">Message</text></a></g><!--MD5=[e4f7fae6ed58524ba242bb0b0d3be6b7]\n",
       "cluster E2--><g id=\"cluster_E2\"><a href=\"psysml:4568a68f-bec0-4931-9260-c991f61841a7\" target=\"_top\" title=\"psysml:4568a68f-bec0-4931-9260-c991f61841a7\" xlink:actuate=\"onRequest\" xlink:href=\"psysml:4568a68f-bec0-4931-9260-c991f61841a7\" xlink:show=\"new\" xlink:title=\"psysml:4568a68f-bec0-4931-9260-c991f61841a7\" xlink:type=\"simple\"><rect fill=\"#FFFFFF\" height=\"180\" id=\"E2\" rx=\"10\" ry=\"10\" style=\"stroke:#383838;stroke-width:1.5;\" width=\"523\" x=\"40\" y=\"49\"/><text fill=\"#000000\" font-family=\"sans-serif\" font-size=\"12\" font-style=\"italic\" lengthAdjust=\"spacing\" textLength=\"75\" x=\"264\" y=\"65.6016\">«occurrence»</text><text fill=\"#000000\" font-family=\"sans-serif\" font-size=\"14\" lengthAdjust=\"spacing\" textLength=\"62\" x=\"270.5\" y=\"81.668\">PowerOn</text><line style=\"stroke:#383838;stroke-width:1.0;\" x1=\"40\" x2=\"563\" y1=\"89.6211\" y2=\"89.6211\"/></a></g><!--MD5=[d5e69f78d87373223dbae638b30a9c99]\n",
       "cluster E3--><g id=\"cluster_E3\"><a href=\"psysml:9dc5b0a9-726e-47f1-9432-4dfddee40074\" target=\"_top\" title=\"psysml:9dc5b0a9-726e-47f1-9432-4dfddee40074\" xlink:actuate=\"onRequest\" xlink:href=\"psysml:9dc5b0a9-726e-47f1-9432-4dfddee40074\" xlink:show=\"new\" xlink:title=\"psysml:9dc5b0a9-726e-47f1-9432-4dfddee40074\" xlink:type=\"simple\"><rect fill=\"#FFFFFF\" height=\"97\" id=\"E3\" rx=\"10\" ry=\"10\" style=\"stroke:#383838;stroke-width:1.5;\" width=\"211\" x=\"328\" y=\"108\"/><text fill=\"#000000\" font-family=\"sans-serif\" font-size=\"14\" lengthAdjust=\"spacing\" textLength=\"189\" x=\"339\" y=\"126.5352\">controlBoard: ControlBoard</text><line style=\"stroke:#383838;stroke-width:1.0;\" x1=\"328\" x2=\"539\" y1=\"134.4883\" y2=\"134.4883\"/></a></g><!--MD5=[de5ec2e2e8f62f467e546659f5068c88]\n",
       "cluster E5--><g id=\"cluster_E5\"><a href=\"psysml:62a67217-4bda-493e-9f5b-cf66a21836d5\" target=\"_top\" title=\"psysml:62a67217-4bda-493e-9f5b-cf66a21836d5\" xlink:actuate=\"onRequest\" xlink:href=\"psysml:62a67217-4bda-493e-9f5b-cf66a21836d5\" xlink:show=\"new\" xlink:title=\"psysml:62a67217-4bda-493e-9f5b-cf66a21836d5\" xlink:type=\"simple\"><rect fill=\"#FFFFFF\" height=\"97\" id=\"E5\" rx=\"10\" ry=\"10\" style=\"stroke:#383838;stroke-width:1.5;\" width=\"240\" x=\"64\" y=\"108\"/><text fill=\"#000000\" font-family=\"sans-serif\" font-size=\"14\" lengthAdjust=\"spacing\" textLength=\"215\" x=\"76.5\" y=\"126.5352\">powerIndicator: PowerIndicator</text><line style=\"stroke:#383838;stroke-width:1.0;\" x1=\"64\" x2=\"304\" y1=\"134.4883\" y2=\"134.4883\"/></a></g><g><a href=\"psysml:4012ebb6-9f14-42c5-a920-7d0233b72a53\" target=\"_top\" title=\"psysml:4012ebb6-9f14-42c5-a920-7d0233b72a53\" xlink:actuate=\"onRequest\" xlink:href=\"psysml:4012ebb6-9f14-42c5-a920-7d0233b72a53\" xlink:show=\"new\" xlink:title=\"psysml:4012ebb6-9f14-42c5-a920-7d0233b72a53\" xlink:type=\"simple\"><rect fill=\"#FFFFFF\" height=\"45.6211\" id=\"E4\" rx=\"10\" ry=\"10\" style=\"stroke:#383838;stroke-width:1.5;\" width=\"117\" x=\"374.5\" y=\"143\"/><text fill=\"#000000\" font-family=\"sans-serif\" font-size=\"12\" font-style=\"italic\" lengthAdjust=\"spacing\" textLength=\"110\" x=\"378\" y=\"159.6016\">«event occurrence»</text><text fill=\"#000000\" font-family=\"sans-serif\" font-size=\"14\" lengthAdjust=\"spacing\" textLength=\"75\" x=\"395.5\" y=\"175.668\">sendSignal</text></a></g><g><a href=\"psysml:cccbcf7f-4161-4435-aeac-95e932418d8a\" target=\"_top\" title=\"psysml:cccbcf7f-4161-4435-aeac-95e932418d8a\" xlink:actuate=\"onRequest\" xlink:href=\"psysml:cccbcf7f-4161-4435-aeac-95e932418d8a\" xlink:show=\"new\" xlink:title=\"psysml:cccbcf7f-4161-4435-aeac-95e932418d8a\" xlink:type=\"simple\"><rect fill=\"#FFFFFF\" height=\"45.6211\" id=\"E6\" rx=\"10\" ry=\"10\" style=\"stroke:#383838;stroke-width:1.5;\" width=\"117\" x=\"125.5\" y=\"143\"/><text fill=\"#000000\" font-family=\"sans-serif\" font-size=\"12\" font-style=\"italic\" lengthAdjust=\"spacing\" textLength=\"110\" x=\"129\" y=\"159.6016\">«event occurrence»</text><text fill=\"#000000\" font-family=\"sans-serif\" font-size=\"14\" lengthAdjust=\"spacing\" textLength=\"90\" x=\"139\" y=\"175.668\">receiveSignal</text></a></g><!--MD5=[514568ac4da09f7661d202efd74224b5]\n",
       "@startuml\r\n",
       "skin sysmlbw\r\n",
       "skinparam monochrome true\r\n",
       "skinparam wrapWidth 300\r\n",
       "hide circle\r\n",
       "skinparam ranksep 10\r\n",
       "skinparam rectangle {\r\n",
       " backgroundColor<<block>> LightGreen\r\n",
       "}\r\n",
       "\r\n",
       "package \"Message\" as E1  [[psysml:a5101030-33b1-4cb5-b56a-6932a7a583b5 ]]  {\r\n",
       "rec usage \"PowerOn\" as E2  <<(T,blue) occurrence>> [[psysml:4568a68f-bec0-4931-9260-c991f61841a7 ]] {\r\n",
       "rec usage \"controlBoard: ControlBoard\" as E3 [[psysml:9dc5b0a9-726e-47f1-9432-4dfddee40074 ]] {\r\n",
       "rec usage \"sendSignal\" as E4  << event occurrence>> [[psysml:4012ebb6-9f14-42c5-a920-7d0233b72a53 ]] {\r\n",
       "}\r\n",
       "}\r\n",
       "rec usage \"powerIndicator: PowerIndicator\" as E5 [[psysml:62a67217-4bda-493e-9f5b-cf66a21836d5 ]] {\r\n",
       "rec usage \"receiveSignal\" as E6  << event occurrence>> [[psysml:cccbcf7f-4161-4435-aeac-95e932418d8a ]] {\r\n",
       "}\r\n",
       "}\r\n",
       "}\r\n",
       "}\r\n",
       "@enduml\r\n",
       "\n",
       "PlantUML version 1.2022.7(Mon Aug 22 11:01:30 MDT 2022)\n",
       "(EPL source distribution)\n",
       "Java Runtime: Java(TM) SE Runtime Environment\n",
       "JVM: Java HotSpot(TM) 64-Bit Server VM\n",
       "Default Encoding: UTF-8\n",
       "Language: en\n",
       "Country: US\n",
       "--></g></svg>"
      ]
     },
     "execution_count": 107,
     "metadata": {},
     "output_type": "execute_result"
    }
   ],
   "source": [
    "%viz --view=interconnection Message\n",
    "// There's supposed to be an arrow from event occurrence sendSignal to the powerIndicator\n",
    "// I don't know why it isn't showing up\n",
    "// I think it's something specifically happening due to `message`, that it causes some form of PlantUML error"
   ]
  },
  {
   "cell_type": "markdown",
   "id": "99d9cbc9",
   "metadata": {},
   "source": [
    "Occurrence is highest level of abstraction \n",
    "- Parts like PowerIndicator and ControlBoard are occurrences with spatial and temporal existence\n",
    "\n",
    "**Event**\n",
    "- A reference from one occurrence to annother occurrence that represents some relevant happening during the lifetime of the first occurrence\n",
    "\n",
    "We can also see the sequence of flows using `--view=sequence`"
   ]
  },
  {
   "cell_type": "code",
   "execution_count": null,
   "id": "bf233a83",
   "metadata": {
    "vscode": {
     "languageId": "sysml"
    }
   },
   "outputs": [
    {
     "data": {
      "image/svg+xml": [
       "<?xml version=\"1.0\" encoding=\"UTF-8\" standalone=\"no\"?><svg xmlns=\"http://www.w3.org/2000/svg\" xmlns:xlink=\"http://www.w3.org/1999/xlink\" contentStyleType=\"text/css\" height=\"93px\" preserveAspectRatio=\"none\" style=\"width:242px;height:93px;background:#FFFFFF;\" version=\"1.1\" viewBox=\"0 0 242 93\" width=\"242px\" zoomAndPan=\"magnify\"><defs/><g><line style=\"stroke:#181818;stroke-width:0.5;stroke-dasharray:5.0,5.0;\" x1=\"56\" x2=\"56\" y1=\"52.9766\" y2=\"86.9766\"/><line style=\"stroke:#181818;stroke-width:0.5;stroke-dasharray:5.0,5.0;\" x1=\"177\" x2=\"177\" y1=\"52.9766\" y2=\"86.9766\"/><a href=\"psysml:6d6e8070-84f5-4631-ad5c-15cd07735ff6\" target=\"_top\" title=\"psysml:6d6e8070-84f5-4631-ad5c-15cd07735ff6\" xlink:actuate=\"onRequest\" xlink:href=\"psysml:6d6e8070-84f5-4631-ad5c-15cd07735ff6\" xlink:show=\"new\" xlink:title=\"psysml:6d6e8070-84f5-4631-ad5c-15cd07735ff6\" xlink:type=\"simple\"><rect fill=\"#E3E3E3\" height=\"46.9766\" rx=\"10\" ry=\"10\" style=\"stroke:#181818;stroke-width:0.5;\" width=\"103\" x=\"5\" y=\"5\"/><text fill=\"#000000\" font-family=\"sans-serif\" font-size=\"14\" font-style=\"italic\" lengthAdjust=\"spacing\" textLength=\"42\" x=\"35.5\" y=\"25.5352\">«part»</text><text fill=\"#000000\" font-family=\"sans-serif\" font-size=\"14\" lengthAdjust=\"spacing\" textLength=\"89\" x=\"12\" y=\"42.0234\">controlBoard</text></a><a href=\"psysml:7ef811b2-1815-4472-95f8-3d17d5111f3a\" target=\"_top\" title=\"psysml:7ef811b2-1815-4472-95f8-3d17d5111f3a\" xlink:actuate=\"onRequest\" xlink:href=\"psysml:7ef811b2-1815-4472-95f8-3d17d5111f3a\" xlink:show=\"new\" xlink:title=\"psysml:7ef811b2-1815-4472-95f8-3d17d5111f3a\" xlink:type=\"simple\"><rect fill=\"#E3E3E3\" height=\"46.9766\" rx=\"10\" ry=\"10\" style=\"stroke:#181818;stroke-width:0.5;\" width=\"118\" x=\"118\" y=\"5\"/><text fill=\"#000000\" font-family=\"sans-serif\" font-size=\"14\" font-style=\"italic\" lengthAdjust=\"spacing\" textLength=\"42\" x=\"156\" y=\"25.5352\">«part»</text><text fill=\"#000000\" font-family=\"sans-serif\" font-size=\"14\" lengthAdjust=\"spacing\" textLength=\"104\" x=\"125\" y=\"42.0234\">powerIndicator</text></a><a href=\"psysml:d41c9817-812d-46e9-8b89-953a90f54c71\" target=\"_top\" title=\"psysml:d41c9817-812d-46e9-8b89-953a90f54c71\" xlink:actuate=\"onRequest\" xlink:href=\"psysml:d41c9817-812d-46e9-8b89-953a90f54c71\" xlink:show=\"new\" xlink:title=\"psysml:d41c9817-812d-46e9-8b89-953a90f54c71\" xlink:type=\"simple\"><line style=\"stroke:#181818;stroke-width:1.0;\" x1=\"175\" x2=\"165\" y1=\"68.9766\" y2=\"64.9766\"/><line style=\"stroke:#181818;stroke-width:1.0;\" x1=\"175\" x2=\"165\" y1=\"68.9766\" y2=\"72.9766\"/><line style=\"stroke:#181818;stroke-width:1.0;\" x1=\"56.5\" x2=\"176\" y1=\"68.9766\" y2=\"68.9766\"/></a><!--MD5=[d79e212b2cc35101354874459e99646a]\n",
       "@startuml\r\n",
       "skin sysmlbw\r\n",
       "skinparam monochrome true\r\n",
       "skinparam wrapWidth 300\r\n",
       "hide circle\r\n",
       "skinparam roundcorner 20\r\n",
       "skinparam BoxPadding 20\r\n",
       "skinparam SequenceBoxBackgroundColor #white\r\n",
       "skinparam style strictuml\r\n",
       "skinparam maxMessageSize 100\r\n",
       "\r\n",
       "participant \"controlBoard\" as E1  << part>> [[psysml:6d6e8070-84f5-4631-ad5c-15cd07735ff6 ]] \r\n",
       "participant \"powerIndicator\" as E2  << part>> [[psysml:7ef811b2-1815-4472-95f8-3d17d5111f3a ]] \r\n",
       "E1 ->> E2 [[psysml:d41c9817-812d-46e9-8b89-953a90f54c71 ]] \r\n",
       "@enduml\r\n",
       "\n",
       "PlantUML version 1.2022.7(Mon Aug 22 11:01:30 MDT 2022)\n",
       "(EPL source distribution)\n",
       "Java Runtime: Java(TM) SE Runtime Environment\n",
       "JVM: Java HotSpot(TM) 64-Bit Server VM\n",
       "Default Encoding: UTF-8\n",
       "Language: en\n",
       "Country: US\n",
       "--></g></svg>"
      ]
     },
     "execution_count": 86,
     "metadata": {},
     "output_type": "execute_result"
    }
   ],
   "source": [
    "%viz --view=sequence Message\n",
    "// I also do not know why the messages are not named in the sequence view"
   ]
  },
  {
   "cell_type": "markdown",
   "id": "757b991f",
   "metadata": {},
   "source": [
    "### MessageFlow.sysml"
   ]
  },
  {
   "cell_type": "code",
   "execution_count": 95,
   "id": "81fd75dc",
   "metadata": {
    "vscode": {
     "languageId": "sysml"
    }
   },
   "outputs": [
    {
     "data": {
      "text/plain": [
       "Package MessageFlow (444491d3-a1a0-46ff-9f5b-0a11169f2114)\n"
      ]
     },
     "execution_count": 95,
     "metadata": {},
     "output_type": "execute_result"
    }
   ],
   "source": [
    "package MessageFlow{\n",
    "    private import PowerSystemDefs::*;\n",
    "\n",
    "    occurrence PowerOn{\n",
    "        part controlBoard: ControlBoard{\n",
    "            event occurrence sendSignal;\n",
    "        }\n",
    "        part powerIndicator: PowerIndicator{\n",
    "            event occurrence sendSignal;\n",
    "            event occurrence receiveSignal;\n",
    "        }\n",
    "\n",
    "        message of powerSignal: Signal\n",
    "            from controlBoard.sendSignal\n",
    "            to powerIndicator.receiveSignal;\n",
    "\n",
    "        message of switchOnLED: LED\n",
    "            from powerIndicator.sendSignal\n",
    "            to powerIndicator.receiveSignal;\n",
    "\n",
    "        message of powerOffSignal: Signal\n",
    "            from controlBoard.sendSignal\n",
    "            to powerIndicator.receiveSignal;\n",
    "        \n",
    "        message of switchOffLED: LED\n",
    "            from powerIndicator.sendSignal\n",
    "            to powerIndicator.receiveSignal;\n",
    "    }\n",
    "}"
   ]
  },
  {
   "cell_type": "code",
   "execution_count": 96,
   "id": "bf022328",
   "metadata": {
    "vscode": {
     "languageId": "sysml"
    }
   },
   "outputs": [
    {
     "data": {
      "image/svg+xml": [
       "<?xml version=\"1.0\" encoding=\"UTF-8\" standalone=\"no\"?><svg xmlns=\"http://www.w3.org/2000/svg\" xmlns:xlink=\"http://www.w3.org/1999/xlink\" contentStyleType=\"text/css\" height=\"161px\" preserveAspectRatio=\"none\" style=\"width:242px;height:161px;background:#FFFFFF;\" version=\"1.1\" viewBox=\"0 0 242 161\" width=\"242px\" zoomAndPan=\"magnify\"><defs/><g><line style=\"stroke:#181818;stroke-width:0.5;stroke-dasharray:5.0,5.0;\" x1=\"56\" x2=\"56\" y1=\"52.9766\" y2=\"154.9766\"/><line style=\"stroke:#181818;stroke-width:0.5;stroke-dasharray:5.0,5.0;\" x1=\"177\" x2=\"177\" y1=\"52.9766\" y2=\"154.9766\"/><a href=\"psysml:a48d74dc-c807-439c-b4d5-3017581c0e0d\" target=\"_top\" title=\"psysml:a48d74dc-c807-439c-b4d5-3017581c0e0d\" xlink:actuate=\"onRequest\" xlink:href=\"psysml:a48d74dc-c807-439c-b4d5-3017581c0e0d\" xlink:show=\"new\" xlink:title=\"psysml:a48d74dc-c807-439c-b4d5-3017581c0e0d\" xlink:type=\"simple\"><rect fill=\"#E3E3E3\" height=\"46.9766\" rx=\"10\" ry=\"10\" style=\"stroke:#181818;stroke-width:0.5;\" width=\"103\" x=\"5\" y=\"5\"/><text fill=\"#000000\" font-family=\"sans-serif\" font-size=\"14\" font-style=\"italic\" lengthAdjust=\"spacing\" textLength=\"42\" x=\"35.5\" y=\"25.5352\">«part»</text><text fill=\"#000000\" font-family=\"sans-serif\" font-size=\"14\" lengthAdjust=\"spacing\" textLength=\"89\" x=\"12\" y=\"42.0234\">controlBoard</text></a><a href=\"psysml:708fb88c-533d-4f1d-80e1-0bcadfc5338c\" target=\"_top\" title=\"psysml:708fb88c-533d-4f1d-80e1-0bcadfc5338c\" xlink:actuate=\"onRequest\" xlink:href=\"psysml:708fb88c-533d-4f1d-80e1-0bcadfc5338c\" xlink:show=\"new\" xlink:title=\"psysml:708fb88c-533d-4f1d-80e1-0bcadfc5338c\" xlink:type=\"simple\"><rect fill=\"#E3E3E3\" height=\"46.9766\" rx=\"10\" ry=\"10\" style=\"stroke:#181818;stroke-width:0.5;\" width=\"118\" x=\"118\" y=\"5\"/><text fill=\"#000000\" font-family=\"sans-serif\" font-size=\"14\" font-style=\"italic\" lengthAdjust=\"spacing\" textLength=\"42\" x=\"156\" y=\"25.5352\">«part»</text><text fill=\"#000000\" font-family=\"sans-serif\" font-size=\"14\" lengthAdjust=\"spacing\" textLength=\"104\" x=\"125\" y=\"42.0234\">powerIndicator</text></a><a href=\"psysml:957792aa-79c2-4e06-bc47-00300c4b9b3e\" target=\"_top\" title=\"psysml:957792aa-79c2-4e06-bc47-00300c4b9b3e\" xlink:actuate=\"onRequest\" xlink:href=\"psysml:957792aa-79c2-4e06-bc47-00300c4b9b3e\" xlink:show=\"new\" xlink:title=\"psysml:957792aa-79c2-4e06-bc47-00300c4b9b3e\" xlink:type=\"simple\"><line style=\"stroke:#181818;stroke-width:1.0;\" x1=\"175\" x2=\"165\" y1=\"68.9766\" y2=\"64.9766\"/><line style=\"stroke:#181818;stroke-width:1.0;\" x1=\"175\" x2=\"165\" y1=\"68.9766\" y2=\"72.9766\"/><line style=\"stroke:#181818;stroke-width:1.0;\" x1=\"56.5\" x2=\"176\" y1=\"68.9766\" y2=\"68.9766\"/></a><a href=\"psysml:9c12ced9-db91-4045-9131-9df7f9ab63d3\" target=\"_top\" title=\"psysml:9c12ced9-db91-4045-9131-9df7f9ab63d3\" xlink:actuate=\"onRequest\" xlink:href=\"psysml:9c12ced9-db91-4045-9131-9df7f9ab63d3\" xlink:show=\"new\" xlink:title=\"psysml:9c12ced9-db91-4045-9131-9df7f9ab63d3\" xlink:type=\"simple\"><line style=\"stroke:#181818;stroke-width:1.0;\" x1=\"177\" x2=\"219\" y1=\"82.9766\" y2=\"82.9766\"/><line style=\"stroke:#181818;stroke-width:1.0;\" x1=\"219\" x2=\"219\" y1=\"82.9766\" y2=\"95.9766\"/><line style=\"stroke:#181818;stroke-width:1.0;\" x1=\"178\" x2=\"219\" y1=\"95.9766\" y2=\"95.9766\"/><line style=\"stroke:#181818;stroke-width:1.0;\" x1=\"178\" x2=\"188\" y1=\"95.9766\" y2=\"91.9766\"/><line style=\"stroke:#181818;stroke-width:1.0;\" x1=\"178\" x2=\"188\" y1=\"95.9766\" y2=\"99.9766\"/></a><a href=\"psysml:786e31ed-c6d7-4ed9-8504-4599fe708e22\" target=\"_top\" title=\"psysml:786e31ed-c6d7-4ed9-8504-4599fe708e22\" xlink:actuate=\"onRequest\" xlink:href=\"psysml:786e31ed-c6d7-4ed9-8504-4599fe708e22\" xlink:show=\"new\" xlink:title=\"psysml:786e31ed-c6d7-4ed9-8504-4599fe708e22\" xlink:type=\"simple\"><line style=\"stroke:#181818;stroke-width:1.0;\" x1=\"175\" x2=\"165\" y1=\"109.9766\" y2=\"105.9766\"/><line style=\"stroke:#181818;stroke-width:1.0;\" x1=\"175\" x2=\"165\" y1=\"109.9766\" y2=\"113.9766\"/><line style=\"stroke:#181818;stroke-width:1.0;\" x1=\"56.5\" x2=\"176\" y1=\"109.9766\" y2=\"109.9766\"/></a><a href=\"psysml:ed3c4b8c-774b-4a56-a955-15e7297a02c5\" target=\"_top\" title=\"psysml:ed3c4b8c-774b-4a56-a955-15e7297a02c5\" xlink:actuate=\"onRequest\" xlink:href=\"psysml:ed3c4b8c-774b-4a56-a955-15e7297a02c5\" xlink:show=\"new\" xlink:title=\"psysml:ed3c4b8c-774b-4a56-a955-15e7297a02c5\" xlink:type=\"simple\"><line style=\"stroke:#181818;stroke-width:1.0;\" x1=\"177\" x2=\"219\" y1=\"123.9766\" y2=\"123.9766\"/><line style=\"stroke:#181818;stroke-width:1.0;\" x1=\"219\" x2=\"219\" y1=\"123.9766\" y2=\"136.9766\"/><line style=\"stroke:#181818;stroke-width:1.0;\" x1=\"178\" x2=\"219\" y1=\"136.9766\" y2=\"136.9766\"/><line style=\"stroke:#181818;stroke-width:1.0;\" x1=\"178\" x2=\"188\" y1=\"136.9766\" y2=\"132.9766\"/><line style=\"stroke:#181818;stroke-width:1.0;\" x1=\"178\" x2=\"188\" y1=\"136.9766\" y2=\"140.9766\"/></a><!--MD5=[5591b3e8d50183961d1067560016bd60]\n",
       "@startuml\r\n",
       "skin sysmlbw\r\n",
       "skinparam monochrome true\r\n",
       "skinparam wrapWidth 300\r\n",
       "hide circle\r\n",
       "skinparam roundcorner 20\r\n",
       "skinparam BoxPadding 20\r\n",
       "skinparam SequenceBoxBackgroundColor #white\r\n",
       "skinparam style strictuml\r\n",
       "skinparam maxMessageSize 100\r\n",
       "\r\n",
       "participant \"controlBoard\" as E1  << part>> [[psysml:a48d74dc-c807-439c-b4d5-3017581c0e0d ]] \r\n",
       "participant \"powerIndicator\" as E2  << part>> [[psysml:708fb88c-533d-4f1d-80e1-0bcadfc5338c ]] \r\n",
       "E1 ->> E2 [[psysml:957792aa-79c2-4e06-bc47-00300c4b9b3e ]] \r\n",
       "E2 ->> E2 [[psysml:9c12ced9-db91-4045-9131-9df7f9ab63d3 ]] \r\n",
       "E1 ->> E2 [[psysml:786e31ed-c6d7-4ed9-8504-4599fe708e22 ]] \r\n",
       "E2 ->> E2 [[psysml:ed3c4b8c-774b-4a56-a955-15e7297a02c5 ]] \r\n",
       "@enduml\r\n",
       "\n",
       "PlantUML version 1.2022.7(Mon Aug 22 11:01:30 MDT 2022)\n",
       "(EPL source distribution)\n",
       "Java Runtime: Java(TM) SE Runtime Environment\n",
       "JVM: Java HotSpot(TM) 64-Bit Server VM\n",
       "Default Encoding: UTF-8\n",
       "Language: en\n",
       "Country: US\n",
       "--></g></svg>"
      ]
     },
     "execution_count": 96,
     "metadata": {},
     "output_type": "execute_result"
    }
   ],
   "source": [
    "%viz --view=sequence MessageFlow "
   ]
  },
  {
   "cell_type": "markdown",
   "id": "96634d2f",
   "metadata": {},
   "source": [
    "**Sequence View**\n",
    "- Chronological exchange of messages among 2+ elements over a period of time\n",
    "    - Horz: Parts\n",
    "    - Vert: Time\n",
    "    - Arrows: Flow of messages"
   ]
  },
  {
   "cell_type": "markdown",
   "id": "b2031129",
   "metadata": {},
   "source": [
    "### StreamingFlow.sysml"
   ]
  },
  {
   "cell_type": "markdown",
   "id": "b4efc691",
   "metadata": {},
   "source": [
    "**Flow Connections**\n",
    "1. Message\n",
    "2. Streaming flow connection\n",
    "3. Succession flow connection\n",
    "\n",
    "**Streaming Flow**\n",
    "- Specifies transfer if payload from source to target & id's source output feature and target input feature"
   ]
  },
  {
   "cell_type": "code",
   "execution_count": 98,
   "id": "91006f8c",
   "metadata": {
    "vscode": {
     "languageId": "sysml"
    }
   },
   "outputs": [
    {
     "data": {
      "text/plain": [
       "Package StreamingFlow (79221773-21bf-443a-b37c-98370101e129)\n"
      ]
     },
     "execution_count": 98,
     "metadata": {},
     "output_type": "execute_result"
    }
   ],
   "source": [
    "package StreamingFlow{\n",
    "    private import PowerSystemDefs::*;\n",
    "    \n",
    "    part def Oven{\n",
    "        part terminalBlock: TerminalBlock{\n",
    "            out powerOut: Current;      // out & in indicate direction of usage\n",
    "        }\n",
    "        part controlBoard: ControlBoard{\n",
    "            in powerIn: Current;\n",
    "        }\n",
    "        flow powerFlow of current:Current\n",
    "            from terminalBlock.powerOut\n",
    "            to controlBoard.powerIn;\n",
    "            // NOTE: No ports\n",
    "    }\n",
    "}"
   ]
  },
  {
   "cell_type": "code",
   "execution_count": 100,
   "id": "e6638226",
   "metadata": {
    "vscode": {
     "languageId": "sysml"
    }
   },
   "outputs": [
    {
     "data": {
      "image/svg+xml": [
       "<?xml version=\"1.0\" encoding=\"UTF-8\" standalone=\"no\"?><svg xmlns=\"http://www.w3.org/2000/svg\" xmlns:xlink=\"http://www.w3.org/1999/xlink\" contentStyleType=\"text/css\" height=\"406px\" preserveAspectRatio=\"none\" style=\"width:357px;height:406px;background:#FFFFFF;\" version=\"1.1\" viewBox=\"0 0 357 406\" width=\"357px\" zoomAndPan=\"magnify\"><defs/><g><!--MD5=[fbc87193dbaf4d95561dea2c320d4a47]\n",
       "cluster E1--><g id=\"cluster_E1\"><a href=\"psysml:79221773-21bf-443a-b37c-98370101e129\" target=\"_top\" title=\"psysml:79221773-21bf-443a-b37c-98370101e129\" xlink:actuate=\"onRequest\" xlink:href=\"psysml:79221773-21bf-443a-b37c-98370101e129\" xlink:show=\"new\" xlink:title=\"psysml:79221773-21bf-443a-b37c-98370101e129\" xlink:type=\"simple\"><polygon fill=\"none\" points=\"16,6,129,6,136,28.4883,340,28.4883,340,399,16,399,16,6\" style=\"stroke:#000000;stroke-width:1.5;\"/><line style=\"stroke:#000000;stroke-width:1.5;\" x1=\"16\" x2=\"136\" y1=\"28.4883\" y2=\"28.4883\"/><text fill=\"#000000\" font-family=\"sans-serif\" font-size=\"14\" font-weight=\"bold\" lengthAdjust=\"spacing\" textLength=\"107\" x=\"20\" y=\"21.5352\">StreamingFlow</text></a></g><!--MD5=[e4f7fae6ed58524ba242bb0b0d3be6b7]\n",
       "cluster E2--><g id=\"cluster_E2\"><a href=\"psysml:3e66e272-de3a-4f2d-9ec5-57ae3b26b3f4\" target=\"_top\" title=\"psysml:3e66e272-de3a-4f2d-9ec5-57ae3b26b3f4\" xlink:actuate=\"onRequest\" xlink:href=\"psysml:3e66e272-de3a-4f2d-9ec5-57ae3b26b3f4\" xlink:show=\"new\" xlink:title=\"psysml:3e66e272-de3a-4f2d-9ec5-57ae3b26b3f4\" xlink:type=\"simple\"><rect fill=\"#FFFFFF\" height=\"326\" id=\"E2\" style=\"stroke:#383838;stroke-width:1.5;\" width=\"276\" x=\"40\" y=\"49\"/><text fill=\"#000000\" font-family=\"sans-serif\" font-size=\"12\" font-style=\"italic\" lengthAdjust=\"spacing\" textLength=\"63\" x=\"146.5\" y=\"65.6016\">«part  def»</text><text fill=\"#000000\" font-family=\"sans-serif\" font-size=\"14\" lengthAdjust=\"spacing\" textLength=\"35\" x=\"160.5\" y=\"81.668\">Oven</text><line style=\"stroke:#383838;stroke-width:1.0;\" x1=\"40\" x2=\"316\" y1=\"89.6211\" y2=\"89.6211\"/></a></g><!--MD5=[d5e69f78d87373223dbae638b30a9c99]\n",
       "cluster E3--><g id=\"cluster_E3\"><a href=\"psysml:b13648cf-3978-4743-98a7-d8a23176bd20\" target=\"_top\" title=\"psysml:b13648cf-3978-4743-98a7-d8a23176bd20\" xlink:actuate=\"onRequest\" xlink:href=\"psysml:b13648cf-3978-4743-98a7-d8a23176bd20\" xlink:show=\"new\" xlink:title=\"psysml:b13648cf-3978-4743-98a7-d8a23176bd20\" xlink:type=\"simple\"><rect fill=\"#FFFFFF\" height=\"97\" id=\"E3\" rx=\"10\" ry=\"10\" style=\"stroke:#383838;stroke-width:1.5;\" width=\"228\" x=\"64\" y=\"108\"/><text fill=\"#000000\" font-family=\"sans-serif\" font-size=\"14\" lengthAdjust=\"spacing\" textLength=\"198\" x=\"79\" y=\"126.5352\">terminalBlock: TerminalBlock</text><line style=\"stroke:#383838;stroke-width:1.0;\" x1=\"64\" x2=\"292\" y1=\"134.4883\" y2=\"134.4883\"/></a></g><!--MD5=[de5ec2e2e8f62f467e546659f5068c88]\n",
       "cluster E5--><g id=\"cluster_E5\"><a href=\"psysml:b9978f2d-a749-4878-b799-765c4ddf8b99\" target=\"_top\" title=\"psysml:b9978f2d-a749-4878-b799-765c4ddf8b99\" xlink:actuate=\"onRequest\" xlink:href=\"psysml:b9978f2d-a749-4878-b799-765c4ddf8b99\" xlink:show=\"new\" xlink:title=\"psysml:b9978f2d-a749-4878-b799-765c4ddf8b99\" xlink:type=\"simple\"><rect fill=\"#FFFFFF\" height=\"97\" id=\"E5\" rx=\"10\" ry=\"10\" style=\"stroke:#383838;stroke-width:1.5;\" width=\"211\" x=\"74\" y=\"254\"/><text fill=\"#000000\" font-family=\"sans-serif\" font-size=\"14\" lengthAdjust=\"spacing\" textLength=\"189\" x=\"85\" y=\"272.5352\">controlBoard: ControlBoard</text><line style=\"stroke:#383838;stroke-width:1.0;\" x1=\"74\" x2=\"285\" y1=\"280.4883\" y2=\"280.4883\"/></a></g><g><a href=\"psysml:8534e811-0f44-477f-bf6c-c57705aebcae\" target=\"_top\" title=\"psysml:8534e811-0f44-477f-bf6c-c57705aebcae\" xlink:actuate=\"onRequest\" xlink:href=\"psysml:8534e811-0f44-477f-bf6c-c57705aebcae\" xlink:show=\"new\" xlink:title=\"psysml:8534e811-0f44-477f-bf6c-c57705aebcae\" xlink:type=\"simple\"><rect fill=\"#FFFFFF\" height=\"45.6211\" id=\"E4\" rx=\"10\" ry=\"10\" style=\"stroke:#383838;stroke-width:1.5;\" width=\"148\" x=\"87\" y=\"143\"/><text fill=\"#000000\" font-family=\"sans-serif\" font-size=\"12\" font-style=\"italic\" lengthAdjust=\"spacing\" textLength=\"67\" x=\"127.5\" y=\"159.6016\">«reference»</text><text fill=\"#000000\" font-family=\"sans-serif\" font-size=\"14\" lengthAdjust=\"spacing\" textLength=\"129\" x=\"92.5\" y=\"175.668\">powerOut: Current</text></a></g><g><a href=\"psysml:11f6d9cc-a6c8-49a9-beab-7971dbe885df\" target=\"_top\" title=\"psysml:11f6d9cc-a6c8-49a9-beab-7971dbe885df\" xlink:actuate=\"onRequest\" xlink:href=\"psysml:11f6d9cc-a6c8-49a9-beab-7971dbe885df\" xlink:show=\"new\" xlink:title=\"psysml:11f6d9cc-a6c8-49a9-beab-7971dbe885df\" xlink:type=\"simple\"><rect fill=\"#FFFFFF\" height=\"45.6211\" id=\"E6\" rx=\"10\" ry=\"10\" style=\"stroke:#383838;stroke-width:1.5;\" width=\"136\" x=\"93\" y=\"289\"/><text fill=\"#000000\" font-family=\"sans-serif\" font-size=\"12\" font-style=\"italic\" lengthAdjust=\"spacing\" textLength=\"67\" x=\"127.5\" y=\"305.6016\">«reference»</text><text fill=\"#000000\" font-family=\"sans-serif\" font-size=\"14\" lengthAdjust=\"spacing\" textLength=\"117\" x=\"98.5\" y=\"321.668\">powerIn: Current</text></a></g><!--MD5=[79568f1e445c3877b6a54524624ccc7d]\n",
       "link E4 to E6--><g id=\"link_E4_E6\"><a href=\"psysml:eb6784c0-ab7f-4de5-bee5-ab05b80f1ba4\" target=\"_top\" title=\"psysml:eb6784c0-ab7f-4de5-bee5-ab05b80f1ba4\" xlink:actuate=\"onRequest\" xlink:href=\"psysml:eb6784c0-ab7f-4de5-bee5-ab05b80f1ba4\" xlink:show=\"new\" xlink:title=\"psysml:eb6784c0-ab7f-4de5-bee5-ab05b80f1ba4\" xlink:type=\"simple\"><path d=\"M161,189.18 C161,214.48 161,255.86 161,283.27 \" fill=\"none\" id=\"E4-to-E6\" style=\"stroke:#181818;stroke-width:1.0;\"/><polygon fill=\"#181818\" points=\"161,288.55,165,279.55,161,283.55,157,279.55,161,288.55\" style=\"stroke:#181818;stroke-width:1.0;\"/><text fill=\"#000000\" font-family=\"sans-serif\" font-size=\"13\" lengthAdjust=\"spacing\" textLength=\"100\" x=\"162\" y=\"234.5684\">current: Current</text></a></g><!--MD5=[7ecb291d3cee1567a0632f2d20ac2934]\n",
       "@startuml\r\n",
       "skin sysmlbw\r\n",
       "skinparam monochrome true\r\n",
       "skinparam wrapWidth 300\r\n",
       "hide circle\r\n",
       "skinparam ranksep 10\r\n",
       "skinparam rectangle {\r\n",
       " backgroundColor<<block>> LightGreen\r\n",
       "}\r\n",
       "\r\n",
       "package \"StreamingFlow\" as E1  [[psysml:79221773-21bf-443a-b37c-98370101e129 ]]  {\r\n",
       "rec def \"Oven\" as E2  <<(T,blue) part  def>> [[psysml:3e66e272-de3a-4f2d-9ec5-57ae3b26b3f4 ]] {\r\n",
       "rec usage \"terminalBlock: TerminalBlock\" as E3 [[psysml:b13648cf-3978-4743-98a7-d8a23176bd20 ]] {\r\n",
       "rec usage \"powerOut: Current  \" as E4  <<(T,blue) reference>> [[psysml:8534e811-0f44-477f-bf6c-c57705aebcae ]] {\r\n",
       "}\r\n",
       "\r\n",
       "}\r\n",
       "rec usage \"controlBoard: ControlBoard\" as E5 [[psysml:b9978f2d-a749-4878-b799-765c4ddf8b99 ]] {\r\n",
       "rec usage \"powerIn: Current  \" as E6  <<(T,blue) reference>> [[psysml:11f6d9cc-a6c8-49a9-beab-7971dbe885df ]] {\r\n",
       "}\r\n",
       "\r\n",
       "}\r\n",
       "}\r\n",
       "}\r\n",
       "E4 - -> E6 [[psysml:eb6784c0-ab7f-4de5-bee5-ab05b80f1ba4 ]] : current: Current\r\n",
       "@enduml\r\n",
       "\n",
       "PlantUML version 1.2022.7(Mon Aug 22 11:01:30 MDT 2022)\n",
       "(EPL source distribution)\n",
       "Java Runtime: Java(TM) SE Runtime Environment\n",
       "JVM: Java HotSpot(TM) 64-Bit Server VM\n",
       "Default Encoding: UTF-8\n",
       "Language: en\n",
       "Country: US\n",
       "--></g></svg>"
      ]
     },
     "execution_count": 100,
     "metadata": {},
     "output_type": "execute_result"
    }
   ],
   "source": [
    "%viz --view=interconnection StreamingFlow"
   ]
  },
  {
   "cell_type": "markdown",
   "id": "b91c53f7",
   "metadata": {},
   "source": [
    "### SuccessionFlow.sysml\n",
    "\n",
    "**Succession Flow**\n",
    "- Flow with constraint that source must complete before transfer starts & transfer must complete before target starts\n",
    "- Visually depicted with a dotted arrow\n",
    "\n",
    "Example: Coffee Machine\n",
    "1. Fill Water\n",
    "    1. Water must fill reservoir before machine can brew\n",
    "2.  Brew Coffee "
   ]
  },
  {
   "cell_type": "code",
   "execution_count": 102,
   "id": "4c18a4ec",
   "metadata": {
    "vscode": {
     "languageId": "sysml"
    }
   },
   "outputs": [
    {
     "data": {
      "text/plain": [
       "Package SuccessionFlow (6a84f427-64e1-4d67-99f5-70caea7c539d)\n"
      ]
     },
     "execution_count": 102,
     "metadata": {},
     "output_type": "execute_result"
    }
   ],
   "source": [
    "package SuccessionFlow{\n",
    "    action def BrewCoffee{\n",
    "        action fill{\n",
    "            out water;\n",
    "        }\n",
    "        action brew{\n",
    "            in water;\n",
    "        }\n",
    "        succession flow\n",
    "            fill.water to brew.water;\n",
    "    }\n",
    "}"
   ]
  },
  {
   "cell_type": "code",
   "execution_count": 105,
   "id": "36166f76",
   "metadata": {
    "vscode": {
     "languageId": "sysml"
    }
   },
   "outputs": [
    {
     "data": {
      "image/svg+xml": [
       "<?xml version=\"1.0\" encoding=\"UTF-8\" standalone=\"no\"?><svg xmlns=\"http://www.w3.org/2000/svg\" xmlns:xlink=\"http://www.w3.org/1999/xlink\" contentStyleType=\"text/css\" height=\"215px\" preserveAspectRatio=\"none\" style=\"width:379px;height:215px;background:#FFFFFF;\" version=\"1.1\" viewBox=\"0 0 379 215\" width=\"379px\" zoomAndPan=\"magnify\"><defs/><g><!--MD5=[fbc87193dbaf4d95561dea2c320d4a47]\n",
       "cluster E1--><g id=\"cluster_E1\"><a href=\"psysml:6a84f427-64e1-4d67-99f5-70caea7c539d\" target=\"_top\" title=\"psysml:6a84f427-64e1-4d67-99f5-70caea7c539d\" xlink:actuate=\"onRequest\" xlink:href=\"psysml:6a84f427-64e1-4d67-99f5-70caea7c539d\" xlink:show=\"new\" xlink:title=\"psysml:6a84f427-64e1-4d67-99f5-70caea7c539d\" xlink:type=\"simple\"><polygon fill=\"none\" points=\"16,6,134,6,141,28.4883,362.72,28.4883,362.72,208,16,208,16,6\" style=\"stroke:#000000;stroke-width:1.5;\"/><line style=\"stroke:#000000;stroke-width:1.5;\" x1=\"16\" x2=\"141\" y1=\"28.4883\" y2=\"28.4883\"/><text fill=\"#000000\" font-family=\"sans-serif\" font-size=\"14\" font-weight=\"bold\" lengthAdjust=\"spacing\" textLength=\"112\" x=\"20\" y=\"21.5352\">SuccessionFlow</text></a></g><!--MD5=[e4f7fae6ed58524ba242bb0b0d3be6b7]\n",
       "cluster E2--><g id=\"cluster_E2\"><a href=\"psysml:4f20ea9a-f2a7-4ba6-8b8a-34f4578da46a\" target=\"_top\" title=\"psysml:4f20ea9a-f2a7-4ba6-8b8a-34f4578da46a\" xlink:actuate=\"onRequest\" xlink:href=\"psysml:4f20ea9a-f2a7-4ba6-8b8a-34f4578da46a\" xlink:show=\"new\" xlink:title=\"psysml:4f20ea9a-f2a7-4ba6-8b8a-34f4578da46a\" xlink:type=\"simple\"><rect fill=\"#FFFFFF\" height=\"135\" id=\"E2\" style=\"stroke:#383838;stroke-width:1.5;\" width=\"298.72\" x=\"40\" y=\"49\"/><text fill=\"#000000\" font-family=\"sans-serif\" font-size=\"12\" font-style=\"italic\" lengthAdjust=\"spacing\" textLength=\"73\" x=\"152.86\" y=\"65.6016\">«action  def»</text><text fill=\"#000000\" font-family=\"sans-serif\" font-size=\"14\" lengthAdjust=\"spacing\" textLength=\"78\" x=\"150.36\" y=\"81.668\">BrewCoffee</text><line style=\"stroke:#383838;stroke-width:1.0;\" x1=\"40\" x2=\"338.72\" y1=\"89.6211\" y2=\"89.6211\"/></a></g><!--MD5=[d5e69f78d87373223dbae638b30a9c99]\n",
       "cluster E3--><g id=\"cluster_E3\"><a href=\"psysml:1b9706b2-c911-4126-b088-0ab7661cabf1\" target=\"_top\" title=\"psysml:1b9706b2-c911-4126-b088-0ab7661cabf1\" xlink:actuate=\"onRequest\" xlink:href=\"psysml:1b9706b2-c911-4126-b088-0ab7661cabf1\" xlink:show=\"new\" xlink:title=\"psysml:1b9706b2-c911-4126-b088-0ab7661cabf1\" xlink:type=\"simple\"><rect fill=\"#FFFFFF\" height=\"68\" id=\"E3\" rx=\"10\" ry=\"10\" style=\"stroke:#383838;stroke-width:1.5;\" width=\"120.72\" x=\"56\" y=\"100\"/><text fill=\"#000000\" font-family=\"sans-serif\" font-size=\"12\" font-style=\"italic\" lengthAdjust=\"spacing\" textLength=\"46\" x=\"93.36\" y=\"116.6016\">«action»</text><text fill=\"#000000\" font-family=\"sans-serif\" font-size=\"14\" lengthAdjust=\"spacing\" textLength=\"17\" x=\"107.86\" y=\"132.668\">fill</text><line style=\"stroke:#383838;stroke-width:1.0;\" x1=\"56\" x2=\"176.72\" y1=\"140.6211\" y2=\"140.6211\"/></a></g><!--MD5=[de5ec2e2e8f62f467e546659f5068c88]\n",
       "cluster E5--><g id=\"cluster_E5\"><a href=\"psysml:4d03933d-0ec2-40da-a93e-c62c0913ef13\" target=\"_top\" title=\"psysml:4d03933d-0ec2-40da-a93e-c62c0913ef13\" xlink:actuate=\"onRequest\" xlink:href=\"psysml:4d03933d-0ec2-40da-a93e-c62c0913ef13\" xlink:show=\"new\" xlink:title=\"psysml:4d03933d-0ec2-40da-a93e-c62c0913ef13\" xlink:type=\"simple\"><rect fill=\"#FFFFFF\" height=\"68\" id=\"E5\" rx=\"10\" ry=\"10\" style=\"stroke:#383838;stroke-width:1.5;\" width=\"110\" x=\"212.72\" y=\"100\"/><text fill=\"#000000\" font-family=\"sans-serif\" font-size=\"12\" font-style=\"italic\" lengthAdjust=\"spacing\" textLength=\"46\" x=\"244.72\" y=\"116.6016\">«action»</text><text fill=\"#000000\" font-family=\"sans-serif\" font-size=\"14\" lengthAdjust=\"spacing\" textLength=\"34\" x=\"250.72\" y=\"132.668\">brew</text><line style=\"stroke:#383838;stroke-width:1.0;\" x1=\"212.72\" x2=\"322.72\" y1=\"140.6211\" y2=\"140.6211\"/></a></g><text fill=\"#000000\" font-family=\"sans-serif\" font-size=\"14\" lengthAdjust=\"spacing\" textLength=\"38\" x=\"157.72\" y=\"113.0469\">water</text><rect fill=\"#FFFFFF\" height=\"12\" style=\"stroke:#181818;stroke-width:1.5;\" width=\"12\" x=\"170.72\" y=\"128\"/><text fill=\"#000000\" font-family=\"sans-serif\" font-size=\"14\" lengthAdjust=\"spacing\" textLength=\"38\" x=\"193.72\" y=\"113.0469\">water</text><rect fill=\"#FFFFFF\" height=\"12\" style=\"stroke:#181818;stroke-width:1.5;\" width=\"12\" x=\"206.72\" y=\"128\"/><!--MD5=[79568f1e445c3877b6a54524624ccc7d]\n",
       "link E4 to E6--><g id=\"link_E4_E6\"><a href=\"psysml:60fb3ab8-5a0c-437b-ac82-018f61605d67\" target=\"_top\" title=\"psysml:60fb3ab8-5a0c-437b-ac82-018f61605d67\" xlink:actuate=\"onRequest\" xlink:href=\"psysml:60fb3ab8-5a0c-437b-ac82-018f61605d67\" xlink:show=\"new\" xlink:title=\"psysml:60fb3ab8-5a0c-437b-ac82-018f61605d67\" xlink:type=\"simple\"><path d=\"M182.74,134 C187.6,134 195.13,134 201.3,134 \" fill=\"none\" id=\"E4-to-E6\" style=\"stroke:#181818;stroke-width:1.0;stroke-dasharray:7.0,7.0;\"/><polygon fill=\"#181818\" points=\"206.46,134,197.46,130,201.46,134,197.46,138,206.46,134\" style=\"stroke:#181818;stroke-width:1.0;\"/></a></g><!--MD5=[8074e46f0b41ddbfbebc5cbffc1e4d25]\n",
       "@startuml\r\n",
       "skin sysmlbw\r\n",
       "skinparam monochrome true\r\n",
       "skinparam wrapWidth 300\r\n",
       "hide circle\r\n",
       "left to right direction\r\n",
       "skinparam ranksep 10\r\n",
       "skinparam rectangle {\r\n",
       " backgroundColor<<block>> LightGreen\r\n",
       "}\r\n",
       "\r\n",
       "package \"SuccessionFlow\" as E1  [[psysml:6a84f427-64e1-4d67-99f5-70caea7c539d ]]  {\r\n",
       "rec def \"BrewCoffee\" as E2  <<(T,blue) action  def>> [[psysml:4f20ea9a-f2a7-4ba6-8b8a-34f4578da46a ]] {\r\n",
       "rec usage \"fill\" as E3  <<(T,blue) action>> [[psysml:1b9706b2-c911-4126-b088-0ab7661cabf1 ]] {\r\n",
       "portout \"water\" as E4  [[psysml:78544512-6cdb-4d96-aa3a-bdef4d7baf91 ]] \r\n",
       "}\r\n",
       "\r\n",
       "rec usage \"brew\" as E5  <<(T,blue) action>> [[psysml:4d03933d-0ec2-40da-a93e-c62c0913ef13 ]] {\r\n",
       "portin \"water\" as E6  [[psysml:418b473a-cfba-4310-8169-daaff29fb99f ]] \r\n",
       "}\r\n",
       "\r\n",
       "}\r\n",
       "\r\n",
       "}\r\n",
       "E4 ..> E6 [[psysml:60fb3ab8-5a0c-437b-ac82-018f61605d67 ]] \r\n",
       "@enduml\r\n",
       "\n",
       "PlantUML version 1.2022.7(Mon Aug 22 11:01:30 MDT 2022)\n",
       "(EPL source distribution)\n",
       "Java Runtime: Java(TM) SE Runtime Environment\n",
       "JVM: Java HotSpot(TM) 64-Bit Server VM\n",
       "Default Encoding: UTF-8\n",
       "Language: en\n",
       "Country: US\n",
       "--></g></svg>"
      ]
     },
     "execution_count": 105,
     "metadata": {},
     "output_type": "execute_result"
    }
   ],
   "source": [
    "%viz --view=interconnection --style=LR SuccessionFlow"
   ]
  },
  {
   "cell_type": "markdown",
   "id": "27978ece",
   "metadata": {},
   "source": [
    "## 04-03 Action"
   ]
  },
  {
   "cell_type": "markdown",
   "id": "22e71a87",
   "metadata": {},
   "source": [
    "**Behavioral Model**\n",
    "1. Flow Connection\n",
    "2. Actions\n",
    "3. States\n",
    "\n",
    "**Action**\n",
    "- An occurrence performed over time that has optional features with directional parameters `in`, `out` or `inout`\n",
    "- Best viewed using `--view=action`"
   ]
  },
  {
   "cell_type": "markdown",
   "id": "ddd7d87b",
   "metadata": {},
   "source": [
    "### SuccessionFlow.sysml"
   ]
  },
  {
   "cell_type": "code",
   "execution_count": 108,
   "id": "40c3866e",
   "metadata": {
    "vscode": {
     "languageId": "sysml"
    }
   },
   "outputs": [
    {
     "data": {
      "text/plain": [
       "Package SuccessionFlow (c34c1f63-fb5f-46b8-97ad-36d8e2dec5e1)\n"
      ]
     },
     "execution_count": 108,
     "metadata": {},
     "output_type": "execute_result"
    }
   ],
   "source": [
    "package SuccessionFlow{\n",
    "    action def BrewCoffee{\n",
    "        action fill{\n",
    "            out water;\n",
    "        }\n",
    "        action brew{\n",
    "            in water;\n",
    "        }\n",
    "        succession flow\n",
    "            fill.water to brew.water;\n",
    "    }\n",
    "}"
   ]
  },
  {
   "cell_type": "code",
   "execution_count": 109,
   "id": "8d477f3d",
   "metadata": {
    "vscode": {
     "languageId": "sysml"
    }
   },
   "outputs": [
    {
     "data": {
      "image/svg+xml": [
       "<?xml version=\"1.0\" encoding=\"UTF-8\" standalone=\"no\"?><svg xmlns=\"http://www.w3.org/2000/svg\" xmlns:xlink=\"http://www.w3.org/1999/xlink\" contentStyleType=\"text/css\" height=\"215px\" preserveAspectRatio=\"none\" style=\"width:379px;height:215px;background:#FFFFFF;\" version=\"1.1\" viewBox=\"0 0 379 215\" width=\"379px\" zoomAndPan=\"magnify\"><defs/><g><!--MD5=[fbc87193dbaf4d95561dea2c320d4a47]\n",
       "cluster E1--><g id=\"cluster_E1\"><a href=\"psysml:c34c1f63-fb5f-46b8-97ad-36d8e2dec5e1\" target=\"_top\" title=\"psysml:c34c1f63-fb5f-46b8-97ad-36d8e2dec5e1\" xlink:actuate=\"onRequest\" xlink:href=\"psysml:c34c1f63-fb5f-46b8-97ad-36d8e2dec5e1\" xlink:show=\"new\" xlink:title=\"psysml:c34c1f63-fb5f-46b8-97ad-36d8e2dec5e1\" xlink:type=\"simple\"><polygon fill=\"none\" points=\"16,6,134,6,141,28.4883,362.72,28.4883,362.72,208,16,208,16,6\" style=\"stroke:#000000;stroke-width:1.5;\"/><line style=\"stroke:#000000;stroke-width:1.5;\" x1=\"16\" x2=\"141\" y1=\"28.4883\" y2=\"28.4883\"/><text fill=\"#000000\" font-family=\"sans-serif\" font-size=\"14\" font-weight=\"bold\" lengthAdjust=\"spacing\" textLength=\"112\" x=\"20\" y=\"21.5352\">SuccessionFlow</text></a></g><!--MD5=[e4f7fae6ed58524ba242bb0b0d3be6b7]\n",
       "cluster E2--><g id=\"cluster_E2\"><a href=\"psysml:0c179e87-91b8-4676-89a4-29a2bb1b37f8\" target=\"_top\" title=\"psysml:0c179e87-91b8-4676-89a4-29a2bb1b37f8\" xlink:actuate=\"onRequest\" xlink:href=\"psysml:0c179e87-91b8-4676-89a4-29a2bb1b37f8\" xlink:show=\"new\" xlink:title=\"psysml:0c179e87-91b8-4676-89a4-29a2bb1b37f8\" xlink:type=\"simple\"><rect fill=\"#FFFFFF\" height=\"135\" id=\"E2\" style=\"stroke:#383838;stroke-width:1.5;\" width=\"298.72\" x=\"40\" y=\"49\"/><text fill=\"#000000\" font-family=\"sans-serif\" font-size=\"12\" font-style=\"italic\" lengthAdjust=\"spacing\" textLength=\"73\" x=\"152.86\" y=\"65.6016\">«action  def»</text><text fill=\"#000000\" font-family=\"sans-serif\" font-size=\"14\" lengthAdjust=\"spacing\" textLength=\"78\" x=\"150.36\" y=\"81.668\">BrewCoffee</text><line style=\"stroke:#383838;stroke-width:1.0;\" x1=\"40\" x2=\"338.72\" y1=\"89.6211\" y2=\"89.6211\"/></a></g><!--MD5=[d5e69f78d87373223dbae638b30a9c99]\n",
       "cluster E3--><g id=\"cluster_E3\"><a href=\"psysml:98ad50d2-c21c-43e8-ad10-179c6fd5f58e\" target=\"_top\" title=\"psysml:98ad50d2-c21c-43e8-ad10-179c6fd5f58e\" xlink:actuate=\"onRequest\" xlink:href=\"psysml:98ad50d2-c21c-43e8-ad10-179c6fd5f58e\" xlink:show=\"new\" xlink:title=\"psysml:98ad50d2-c21c-43e8-ad10-179c6fd5f58e\" xlink:type=\"simple\"><rect fill=\"#FFFFFF\" height=\"68\" id=\"E3\" rx=\"10\" ry=\"10\" style=\"stroke:#383838;stroke-width:1.5;\" width=\"120.72\" x=\"56\" y=\"100\"/><text fill=\"#000000\" font-family=\"sans-serif\" font-size=\"12\" font-style=\"italic\" lengthAdjust=\"spacing\" textLength=\"46\" x=\"93.36\" y=\"116.6016\">«action»</text><text fill=\"#000000\" font-family=\"sans-serif\" font-size=\"14\" lengthAdjust=\"spacing\" textLength=\"17\" x=\"107.86\" y=\"132.668\">fill</text><line style=\"stroke:#383838;stroke-width:1.0;\" x1=\"56\" x2=\"176.72\" y1=\"140.6211\" y2=\"140.6211\"/></a></g><!--MD5=[de5ec2e2e8f62f467e546659f5068c88]\n",
       "cluster E5--><g id=\"cluster_E5\"><a href=\"psysml:b9f1470e-ab94-4629-aa18-a33d197b7747\" target=\"_top\" title=\"psysml:b9f1470e-ab94-4629-aa18-a33d197b7747\" xlink:actuate=\"onRequest\" xlink:href=\"psysml:b9f1470e-ab94-4629-aa18-a33d197b7747\" xlink:show=\"new\" xlink:title=\"psysml:b9f1470e-ab94-4629-aa18-a33d197b7747\" xlink:type=\"simple\"><rect fill=\"#FFFFFF\" height=\"68\" id=\"E5\" rx=\"10\" ry=\"10\" style=\"stroke:#383838;stroke-width:1.5;\" width=\"110\" x=\"212.72\" y=\"100\"/><text fill=\"#000000\" font-family=\"sans-serif\" font-size=\"12\" font-style=\"italic\" lengthAdjust=\"spacing\" textLength=\"46\" x=\"244.72\" y=\"116.6016\">«action»</text><text fill=\"#000000\" font-family=\"sans-serif\" font-size=\"14\" lengthAdjust=\"spacing\" textLength=\"34\" x=\"250.72\" y=\"132.668\">brew</text><line style=\"stroke:#383838;stroke-width:1.0;\" x1=\"212.72\" x2=\"322.72\" y1=\"140.6211\" y2=\"140.6211\"/></a></g><text fill=\"#000000\" font-family=\"sans-serif\" font-size=\"14\" lengthAdjust=\"spacing\" textLength=\"38\" x=\"157.72\" y=\"113.0469\">water</text><rect fill=\"#FFFFFF\" height=\"12\" style=\"stroke:#181818;stroke-width:1.5;\" width=\"12\" x=\"170.72\" y=\"128\"/><text fill=\"#000000\" font-family=\"sans-serif\" font-size=\"14\" lengthAdjust=\"spacing\" textLength=\"38\" x=\"193.72\" y=\"113.0469\">water</text><rect fill=\"#FFFFFF\" height=\"12\" style=\"stroke:#181818;stroke-width:1.5;\" width=\"12\" x=\"206.72\" y=\"128\"/><!--MD5=[79568f1e445c3877b6a54524624ccc7d]\n",
       "link E4 to E6--><g id=\"link_E4_E6\"><a href=\"psysml:a7096478-ccdc-4cdb-9c84-4b9031a0805d\" target=\"_top\" title=\"psysml:a7096478-ccdc-4cdb-9c84-4b9031a0805d\" xlink:actuate=\"onRequest\" xlink:href=\"psysml:a7096478-ccdc-4cdb-9c84-4b9031a0805d\" xlink:show=\"new\" xlink:title=\"psysml:a7096478-ccdc-4cdb-9c84-4b9031a0805d\" xlink:type=\"simple\"><path d=\"M182.74,134 C187.6,134 195.13,134 201.3,134 \" fill=\"none\" id=\"E4-to-E6\" style=\"stroke:#181818;stroke-width:1.0;stroke-dasharray:7.0,7.0;\"/><polygon fill=\"#181818\" points=\"206.46,134,197.46,130,201.46,134,197.46,138,206.46,134\" style=\"stroke:#181818;stroke-width:1.0;\"/></a></g><!--MD5=[456c4a3bae8e74e09a4d233db4615b35]\n",
       "@startuml\r\n",
       "skin sysmlbw\r\n",
       "skinparam monochrome true\r\n",
       "skinparam wrapWidth 300\r\n",
       "hide circle\r\n",
       "left to right direction\r\n",
       "skinparam ranksep 10\r\n",
       "skinparam rectangle {\r\n",
       " backgroundColor<<block>> LightGreen\r\n",
       "}\r\n",
       "\r\n",
       "package \"SuccessionFlow\" as E1  [[psysml:c34c1f63-fb5f-46b8-97ad-36d8e2dec5e1 ]]  {\r\n",
       "rec def \"BrewCoffee\" as E2  <<(T,blue) action  def>> [[psysml:0c179e87-91b8-4676-89a4-29a2bb1b37f8 ]] {\r\n",
       "rec usage \"fill\" as E3  <<(T,blue) action>> [[psysml:98ad50d2-c21c-43e8-ad10-179c6fd5f58e ]] {\r\n",
       "portout \"water\" as E4  [[psysml:59826a56-eebd-47b3-99aa-9e52a77c050a ]] \r\n",
       "}\r\n",
       "\r\n",
       "rec usage \"brew\" as E5  <<(T,blue) action>> [[psysml:b9f1470e-ab94-4629-aa18-a33d197b7747 ]] {\r\n",
       "portin \"water\" as E6  [[psysml:4297f8c2-a0a9-4485-b7a9-c4c462cca7db ]] \r\n",
       "}\r\n",
       "\r\n",
       "}\r\n",
       "\r\n",
       "}\r\n",
       "E4 ..> E6 [[psysml:a7096478-ccdc-4cdb-9c84-4b9031a0805d ]] \r\n",
       "@enduml\r\n",
       "\n",
       "PlantUML version 1.2022.7(Mon Aug 22 11:01:30 MDT 2022)\n",
       "(EPL source distribution)\n",
       "Java Runtime: Java(TM) SE Runtime Environment\n",
       "JVM: Java HotSpot(TM) 64-Bit Server VM\n",
       "Default Encoding: UTF-8\n",
       "Language: en\n",
       "Country: US\n",
       "--></g></svg>"
      ]
     },
     "execution_count": 109,
     "metadata": {},
     "output_type": "execute_result"
    }
   ],
   "source": [
    "%viz --view=interconnection --style=LR SuccessionFlow"
   ]
  },
  {
   "cell_type": "markdown",
   "id": "8f754982",
   "metadata": {},
   "source": [
    "**Action Flow View**\n",
    "- Behavioral view showing a sequence of actions with inputs and outputs\n",
    "- Can include successions, control nodes, send and accept actions as specialized notations"
   ]
  },
  {
   "cell_type": "markdown",
   "id": "00579cb2",
   "metadata": {},
   "source": [
    "### ActionForkAndJoin.sysml\n",
    "- Define actions and control nodes\n",
    "- Sequence actions\n",
    "    - Succession action `first _____ then ______`\n",
    "        - `start` and `done` are native actions that are available by default\n",
    "            - start is a solid circle\n",
    "            - done is a bullet within a hollow circle\n",
    "        - `fork` and `joinNode` are nodes. `fork` is undeclared in this instance as it is only used once in the script\n",
    "    - A semicolon must be used in between `first/then` clause if one of the statements uses a special keyword (`fork`, `join`)\n",
    "    - At fork, 2+ successions follow\n",
    "    - Joining requires a statement for each action from the fork\n",
    "        - Since this is sequential, actions must be completed before join"
   ]
  },
  {
   "cell_type": "code",
   "execution_count": 113,
   "id": "928264f4",
   "metadata": {
    "vscode": {
     "languageId": "sysml"
    }
   },
   "outputs": [
    {
     "data": {
      "text/plain": [
       "Package ActionForkAndJoin (0c2acd13-3efc-4ea6-baa5-2ce6f8fd3fd9)\n"
      ]
     },
     "execution_count": 113,
     "metadata": {},
     "output_type": "execute_result"
    }
   ],
   "source": [
    "package ActionForkAndJoin{\n",
    "    action def testOven{\n",
    "        // actions and control nodes\n",
    "        action powerOn;\n",
    "        action setTemperature;\n",
    "        action setTimer;\n",
    "        action monitorOven;\n",
    "        join joinNode;\n",
    "\n",
    "        // sequence of actions\n",
    "        first start then powerOn; // expresses succession action, `start` and `done` are natively defined in sysml\n",
    "\n",
    "        first powerOn;\n",
    "        then fork;  // fork actions\n",
    "        then setTemperature;\n",
    "        then setTimer;\n",
    "\n",
    "        first setTemperature then joinNode; // join action 1\n",
    "        first setTimer then joinNode;   // join action 2\n",
    "\n",
    "        first joinNode then monitorOven;\n",
    "        \n",
    "        first monitorOven then done;\n",
    "    }\n",
    "}"
   ]
  },
  {
   "cell_type": "code",
   "execution_count": 115,
   "id": "f1080d04",
   "metadata": {
    "vscode": {
     "languageId": "sysml"
    }
   },
   "outputs": [
    {
     "data": {
      "image/svg+xml": [
       "<?xml version=\"1.0\" encoding=\"UTF-8\" standalone=\"no\"?><svg xmlns=\"http://www.w3.org/2000/svg\" xmlns:xlink=\"http://www.w3.org/1999/xlink\" contentStyleType=\"text/css\" height=\"207px\" preserveAspectRatio=\"none\" style=\"width:445px;height:207px;background:#FFFFFF;\" version=\"1.1\" viewBox=\"0 0 445 207\" width=\"445px\" zoomAndPan=\"magnify\"><defs/><g><!--MD5=[fbc87193dbaf4d95561dea2c320d4a47]\n",
       "cluster E1--><g id=\"cluster_E1\"><a href=\"psysml:fd76edd8-a60f-482f-98a5-2d94729067e4\" target=\"_top\" title=\"psysml:fd76edd8-a60f-482f-98a5-2d94729067e4\" xlink:actuate=\"onRequest\" xlink:href=\"psysml:fd76edd8-a60f-482f-98a5-2d94729067e4\" xlink:show=\"new\" xlink:title=\"psysml:fd76edd8-a60f-482f-98a5-2d94729067e4\" xlink:type=\"simple\"><rect fill=\"#FFFFFF\" height=\"194\" id=\"E1\" style=\"stroke:#383838;stroke-width:1.5;\" width=\"431\" x=\"7\" y=\"7\"/><text fill=\"#000000\" font-family=\"sans-serif\" font-size=\"12\" font-style=\"italic\" lengthAdjust=\"spacing\" textLength=\"73\" x=\"186\" y=\"23.6016\">«action  def»</text><text fill=\"#000000\" font-family=\"sans-serif\" font-size=\"14\" lengthAdjust=\"spacing\" textLength=\"60\" x=\"192.5\" y=\"39.668\">testOven</text><line style=\"stroke:#383838;stroke-width:1.0;\" x1=\"7\" x2=\"438\" y1=\"47.6211\" y2=\"47.6211\"/></a></g><rect fill=\"#555555\" height=\"80\" style=\"stroke:none;stroke-width:1.0;\" width=\"8\" x=\"277\" y=\"82\"/><rect fill=\"#555555\" height=\"80\" style=\"stroke:none;stroke-width:1.0;\" width=\"8\" x=\"133\" y=\"82\"/><ellipse cx=\"33\" cy=\"122\" fill=\"#222222\" rx=\"10\" ry=\"10\" style=\"stroke:none;stroke-width:1.0;\"/><ellipse cx=\"412\" cy=\"122\" fill=\"none\" rx=\"10\" ry=\"10\" style=\"stroke:#222222;stroke-width:1.0;\"/><ellipse cx=\"412.5\" cy=\"122.5\" fill=\"#222222\" rx=\"6\" ry=\"6\" style=\"stroke:none;stroke-width:1.0;\"/><g><a href=\"psysml:55221d2a-9158-4ecb-b388-3d0d8dc5a9ed\" target=\"_top\" title=\"psysml:55221d2a-9158-4ecb-b388-3d0d8dc5a9ed\" xlink:actuate=\"onRequest\" xlink:href=\"psysml:55221d2a-9158-4ecb-b388-3d0d8dc5a9ed\" xlink:show=\"new\" xlink:title=\"psysml:55221d2a-9158-4ecb-b388-3d0d8dc5a9ed\" xlink:type=\"simple\"><rect fill=\"#FFFFFF\" height=\"45.6211\" id=\"E2\" rx=\"10\" ry=\"10\" style=\"stroke:#383838;stroke-width:1.5;\" width=\"74\" x=\"51\" y=\"99\"/><text fill=\"#000000\" font-family=\"sans-serif\" font-size=\"12\" font-style=\"italic\" lengthAdjust=\"spacing\" textLength=\"46\" x=\"65\" y=\"115.6016\">«action»</text><text fill=\"#000000\" font-family=\"sans-serif\" font-size=\"14\" lengthAdjust=\"spacing\" textLength=\"63\" x=\"56.5\" y=\"131.668\">powerOn</text></a></g><g><a href=\"psysml:e498e3c6-e48b-4e60-8246-4c886245e18f\" target=\"_top\" title=\"psysml:e498e3c6-e48b-4e60-8246-4c886245e18f\" xlink:actuate=\"onRequest\" xlink:href=\"psysml:e498e3c6-e48b-4e60-8246-4c886245e18f\" xlink:show=\"new\" xlink:title=\"psysml:e498e3c6-e48b-4e60-8246-4c886245e18f\" xlink:type=\"simple\"><rect fill=\"#FFFFFF\" height=\"45.6211\" id=\"E3\" rx=\"10\" ry=\"10\" style=\"stroke:#383838;stroke-width:1.5;\" width=\"120\" x=\"149\" y=\"139\"/><text fill=\"#000000\" font-family=\"sans-serif\" font-size=\"12\" font-style=\"italic\" lengthAdjust=\"spacing\" textLength=\"46\" x=\"186\" y=\"155.6016\">«action»</text><text fill=\"#000000\" font-family=\"sans-serif\" font-size=\"14\" lengthAdjust=\"spacing\" textLength=\"109\" x=\"154.5\" y=\"171.668\">setTemperature</text></a></g><g><a href=\"psysml:9c424d74-3c49-429f-9ac3-788572959a1f\" target=\"_top\" title=\"psysml:9c424d74-3c49-429f-9ac3-788572959a1f\" xlink:actuate=\"onRequest\" xlink:href=\"psysml:9c424d74-3c49-429f-9ac3-788572959a1f\" xlink:show=\"new\" xlink:title=\"psysml:9c424d74-3c49-429f-9ac3-788572959a1f\" xlink:type=\"simple\"><rect fill=\"#FFFFFF\" height=\"45.6211\" id=\"E4\" rx=\"10\" ry=\"10\" style=\"stroke:#383838;stroke-width:1.5;\" width=\"71\" x=\"173.5\" y=\"58\"/><text fill=\"#000000\" font-family=\"sans-serif\" font-size=\"12\" font-style=\"italic\" lengthAdjust=\"spacing\" textLength=\"46\" x=\"186\" y=\"74.6016\">«action»</text><text fill=\"#000000\" font-family=\"sans-serif\" font-size=\"14\" lengthAdjust=\"spacing\" textLength=\"60\" x=\"179\" y=\"90.668\">setTimer</text></a></g><g><a href=\"psysml:447a1712-6a74-4667-b34b-ca2e45befe5d\" target=\"_top\" title=\"psysml:447a1712-6a74-4667-b34b-ca2e45befe5d\" xlink:actuate=\"onRequest\" xlink:href=\"psysml:447a1712-6a74-4667-b34b-ca2e45befe5d\" xlink:show=\"new\" xlink:title=\"psysml:447a1712-6a74-4667-b34b-ca2e45befe5d\" xlink:type=\"simple\"><rect fill=\"#FFFFFF\" height=\"45.6211\" id=\"E5\" rx=\"10\" ry=\"10\" style=\"stroke:#383838;stroke-width:1.5;\" width=\"101\" x=\"293\" y=\"99\"/><text fill=\"#000000\" font-family=\"sans-serif\" font-size=\"12\" font-style=\"italic\" lengthAdjust=\"spacing\" textLength=\"46\" x=\"320.5\" y=\"115.6016\">«action»</text><text fill=\"#000000\" font-family=\"sans-serif\" font-size=\"14\" lengthAdjust=\"spacing\" textLength=\"90\" x=\"298.5\" y=\"131.668\">monitorOven</text></a></g><!--MD5=[cff944eb183b832d446717a4e202d613]\n",
       "link *start*E1 to E2--><g id=\"link_*start*E1_E2\"><a href=\"psysml:65eb1aa9-df6a-4292-9ac3-9352257e4ccd\" target=\"_top\" title=\"psysml:65eb1aa9-df6a-4292-9ac3-9352257e4ccd\" xlink:actuate=\"onRequest\" xlink:href=\"psysml:65eb1aa9-df6a-4292-9ac3-9352257e4ccd\" xlink:show=\"new\" xlink:title=\"psysml:65eb1aa9-df6a-4292-9ac3-9352257e4ccd\" xlink:type=\"simple\"><path d=\"M43.23,122 C43.94,122 44.67,122 45.43,122 \" fill=\"none\" id=\"*start*E1-to-E2\" style=\"stroke:#181818;stroke-width:1.0;stroke-dasharray:7.0,7.0;\"/><polygon fill=\"#181818\" points=\"50.74,122,41.74,118,45.74,122,41.74,126,50.74,122\" style=\"stroke:#181818;stroke-width:1.0;\"/></a></g><!--MD5=[7fc47fc0d107820853a137871ad908c8]\n",
       "link E5 to *end*E1--><g id=\"link_E5_*end*E1\"><a href=\"psysml:e8376ce2-2825-4a3f-839c-602c586d7368\" target=\"_top\" title=\"psysml:e8376ce2-2825-4a3f-839c-602c586d7368\" xlink:actuate=\"onRequest\" xlink:href=\"psysml:e8376ce2-2825-4a3f-839c-602c586d7368\" xlink:show=\"new\" xlink:title=\"psysml:e8376ce2-2825-4a3f-839c-602c586d7368\" xlink:type=\"simple\"><path d=\"M394.22,122 C394.9,122 395.56,122 396.21,122 \" fill=\"none\" id=\"E5-to-*end*E1\" style=\"stroke:#181818;stroke-width:1.0;stroke-dasharray:7.0,7.0;\"/><polygon fill=\"#181818\" points=\"401.65,122,392.65,118,396.65,122,392.65,126,401.65,122\" style=\"stroke:#181818;stroke-width:1.0;\"/></a></g><!--MD5=[e3d2a08a9c9236652057e8ed0cbc9b62]\n",
       "link E2 to E7--><g id=\"link_E2_E7\"><a href=\"psysml:bd3c35d1-ea41-4f58-a23b-17fc318b2a04\" target=\"_top\" title=\"psysml:bd3c35d1-ea41-4f58-a23b-17fc318b2a04\" xlink:actuate=\"onRequest\" xlink:href=\"psysml:bd3c35d1-ea41-4f58-a23b-17fc318b2a04\" xlink:show=\"new\" xlink:title=\"psysml:bd3c35d1-ea41-4f58-a23b-17fc318b2a04\" xlink:type=\"simple\"><path d=\"M125.1,122 C125.99,122 126.84,122 127.65,122 \" fill=\"none\" id=\"E2-to-E7\" style=\"stroke:#181818;stroke-width:1.0;stroke-dasharray:7.0,7.0;\"/><polygon fill=\"#181818\" points=\"132.92,122,123.92,118,127.92,122,123.92,126,132.92,122\" style=\"stroke:#181818;stroke-width:1.0;\"/></a></g><!--MD5=[14ccda38c055a5c0da953d572bc50960]\n",
       "link E7 to E3--><g id=\"link_E7_E3\"><a href=\"psysml:08953fff-9cf2-4d49-90fc-669bd1ac2beb\" target=\"_top\" title=\"psysml:08953fff-9cf2-4d49-90fc-669bd1ac2beb\" xlink:actuate=\"onRequest\" xlink:href=\"psysml:08953fff-9cf2-4d49-90fc-669bd1ac2beb\" xlink:show=\"new\" xlink:title=\"psysml:08953fff-9cf2-4d49-90fc-669bd1ac2beb\" xlink:type=\"simple\"><path d=\"M141.01,123.72 C145.32,126.18 153.79,131.03 163.31,136.46 \" fill=\"none\" id=\"E7-to-E3\" style=\"stroke:#181818;stroke-width:1.0;stroke-dasharray:7.0,7.0;\"/><polygon fill=\"#181818\" points=\"167.74,138.99,161.8963,131.0621,163.3944,136.517,157.9395,138.0151,167.74,138.99\" style=\"stroke:#181818;stroke-width:1.0;\"/></a></g><!--MD5=[6bdd27f9905911a7e892a3dc65cf6b7c]\n",
       "link E7 to E4--><g id=\"link_E7_E4\"><a href=\"psysml:81346566-987a-441e-bc9c-e65d7a1086d9\" target=\"_top\" title=\"psysml:81346566-987a-441e-bc9c-e65d7a1086d9\" xlink:actuate=\"onRequest\" xlink:href=\"psysml:81346566-987a-441e-bc9c-e65d7a1086d9\" xlink:show=\"new\" xlink:title=\"psysml:81346566-987a-441e-bc9c-e65d7a1086d9\" xlink:type=\"simple\"><path d=\"M141.01,120.24 C146.18,117.21 157.35,110.67 169.11,103.78 \" fill=\"none\" id=\"E7-to-E4\" style=\"stroke:#181818;stroke-width:1.0;stroke-dasharray:7.0,7.0;\"/><polygon fill=\"#181818\" points=\"173.46,101.23,163.6727,102.3299,169.1463,103.7582,167.7179,109.2318,173.46,101.23\" style=\"stroke:#181818;stroke-width:1.0;\"/></a></g><!--MD5=[ec9844e0c75763426927cad3229d1081]\n",
       "link E3 to E6--><g id=\"link_E3_E6\"><a href=\"psysml:fe9f4d3e-8d17-4fd1-9c0e-7913484c11b0\" target=\"_top\" title=\"psysml:fe9f4d3e-8d17-4fd1-9c0e-7913484c11b0\" xlink:actuate=\"onRequest\" xlink:href=\"psysml:fe9f4d3e-8d17-4fd1-9c0e-7913484c11b0\" xlink:show=\"new\" xlink:title=\"psysml:fe9f4d3e-8d17-4fd1-9c0e-7913484c11b0\" xlink:type=\"simple\"><path d=\"M250.31,138.96 C258.88,134.07 267,129.43 272.58,126.24 \" fill=\"none\" id=\"E3-to-E6\" style=\"stroke:#181818;stroke-width:1.0;stroke-dasharray:7.0,7.0;\"/><polygon fill=\"#181818\" points=\"276.93,123.75,267.1334,124.7631,272.5941,126.2399,271.1173,131.7006,276.93,123.75\" style=\"stroke:#181818;stroke-width:1.0;\"/></a></g><!--MD5=[79568f1e445c3877b6a54524624ccc7d]\n",
       "link E4 to E6--><g id=\"link_E4_E6\"><a href=\"psysml:c25a016b-decf-4478-a7c1-1516a1b6854f\" target=\"_top\" title=\"psysml:c25a016b-decf-4478-a7c1-1516a1b6854f\" xlink:actuate=\"onRequest\" xlink:href=\"psysml:c25a016b-decf-4478-a7c1-1516a1b6854f\" xlink:show=\"new\" xlink:title=\"psysml:c25a016b-decf-4478-a7c1-1516a1b6854f\" xlink:type=\"simple\"><path d=\"M244.59,101.26 C255.13,107.43 265.72,113.64 272.53,117.63 \" fill=\"none\" id=\"E4-to-E6\" style=\"stroke:#181818;stroke-width:1.0;stroke-dasharray:7.0,7.0;\"/><polygon fill=\"#181818\" points=\"276.95,120.21,271.2079,112.2082,272.6363,117.6818,267.1627,119.1101,276.95,120.21\" style=\"stroke:#181818;stroke-width:1.0;\"/></a></g><!--MD5=[25b190c987b1e74e5126d372c5a73af1]\n",
       "link E6 to E5--><g id=\"link_E6_E5\"><a href=\"psysml:1b522628-b767-477a-b5bb-111c5d1cf6b1\" target=\"_top\" title=\"psysml:1b522628-b767-477a-b5bb-111c5d1cf6b1\" xlink:actuate=\"onRequest\" xlink:href=\"psysml:1b522628-b767-477a-b5bb-111c5d1cf6b1\" xlink:show=\"new\" xlink:title=\"psysml:1b522628-b767-477a-b5bb-111c5d1cf6b1\" xlink:type=\"simple\"><path d=\"M285.25,122 C285.95,122 286.75,122 287.64,122 \" fill=\"none\" id=\"E6-to-E5\" style=\"stroke:#181818;stroke-width:1.0;stroke-dasharray:7.0,7.0;\"/><polygon fill=\"#181818\" points=\"292.72,122,283.72,118,287.72,122,283.72,126,292.72,122\" style=\"stroke:#181818;stroke-width:1.0;\"/></a></g><!--MD5=[562491d8fd34081b70e5095309470962]\n",
       "@startuml\r\n",
       "skin sysmlbw\r\n",
       "skinparam monochrome true\r\n",
       "skinparam wrapWidth 300\r\n",
       "hide circle\r\n",
       "left to right direction\r\n",
       "skinparam ranksep 8\r\n",
       "\r\n",
       "rec def \"testOven\" as E1  <<(T,blue) action  def>> [[psysml:fd76edd8-a60f-482f-98a5-2d94729067e4 ]] {\r\n",
       "rec usage \"powerOn\" as E2  <<(T,blue) action>> [[psysml:55221d2a-9158-4ecb-b388-3d0d8dc5a9ed ]] {\r\n",
       "}\r\n",
       "\r\n",
       "rec usage \"setTemperature\" as E3  <<(T,blue) action>> [[psysml:e498e3c6-e48b-4e60-8246-4c886245e18f ]] {\r\n",
       "}\r\n",
       "\r\n",
       "rec usage \"setTimer\" as E4  <<(T,blue) action>> [[psysml:9c424d74-3c49-429f-9ac3-788572959a1f ]] {\r\n",
       "}\r\n",
       "\r\n",
       "rec usage \"monitorOven\" as E5  <<(T,blue) action>> [[psysml:447a1712-6a74-4667-b34b-ca2e45befe5d ]] {\r\n",
       "}\r\n",
       "\r\n",
       "join \"joinNode\" as E6  [[psysml:158c035a-b377-41e1-9f88-7ea71bc2e82c ]] \r\n",
       "fork \"<s>noname</s>\" as E7  [[psysml:4307c621-80b5-41f8-ae76-5998d21dd32a ]] \r\n",
       "[*] ..> E2 [[psysml:65eb1aa9-df6a-4292-9ac3-9352257e4ccd ]] \r\n",
       "E5 ..> [*] [[psysml:e8376ce2-2825-4a3f-839c-602c586d7368 ]] \r\n",
       "}\r\n",
       "\r\n",
       "E2 ..> E7 [[psysml:bd3c35d1-ea41-4f58-a23b-17fc318b2a04 ]] \r\n",
       "E7 ..> E3 [[psysml:08953fff-9cf2-4d49-90fc-669bd1ac2beb ]] \r\n",
       "E7 ..> E4 [[psysml:81346566-987a-441e-bc9c-e65d7a1086d9 ]] \r\n",
       "E3 ..> E6 [[psysml:fe9f4d3e-8d17-4fd1-9c0e-7913484c11b0 ]] \r\n",
       "E4 ..> E6 [[psysml:c25a016b-decf-4478-a7c1-1516a1b6854f ]] \r\n",
       "E6 ..> E5 [[psysml:1b522628-b767-477a-b5bb-111c5d1cf6b1 ]] \r\n",
       "@enduml\r\n",
       "\n",
       "PlantUML version 1.2022.7(Mon Aug 22 11:01:30 MDT 2022)\n",
       "(EPL source distribution)\n",
       "Java Runtime: Java(TM) SE Runtime Environment\n",
       "JVM: Java HotSpot(TM) 64-Bit Server VM\n",
       "Default Encoding: UTF-8\n",
       "Language: en\n",
       "Country: US\n",
       "--></g></svg>"
      ]
     },
     "execution_count": 115,
     "metadata": {},
     "output_type": "execute_result"
    }
   ],
   "source": [
    "%viz --view=action --style=LR ActionForkAndJoin"
   ]
  }
 ],
 "metadata": {
  "kernelspec": {
   "display_name": "SysML",
   "language": "sysml",
   "name": "sysml"
  },
  "language_info": {
   "codemirror_mode": "sysml",
   "file_extension": ".sysml",
   "mimetype": "text/x-sysml",
   "name": "SysML",
   "pygments_lexer": "java",
   "version": "1.0.0"
  }
 },
 "nbformat": 4,
 "nbformat_minor": 5
}
