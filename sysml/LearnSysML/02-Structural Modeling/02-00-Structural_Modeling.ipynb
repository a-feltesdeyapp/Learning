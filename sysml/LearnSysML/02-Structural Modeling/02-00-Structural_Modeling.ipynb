{
 "cells": [
  {
   "cell_type": "markdown",
   "id": "7077ae66-f178-4e3c-b84e-6e6d99608851",
   "metadata": {},
   "source": [
    "# 02-Structural Modeling"
   ]
  },
  {
   "cell_type": "markdown",
   "id": "7ddcc6dc",
   "metadata": {},
   "source": [
    "## 02-01 Definition and Usage\n"
   ]
  },
  {
   "cell_type": "markdown",
   "id": "8364bf46-d106-4957-a704-8a8fb56822a3",
   "metadata": {},
   "source": [
    "### PartDefinitionAndUsage.sysml\n",
    "part: modular unit of structure. system, system component, external entity, etc.\n",
    "- hierarchy to allow for different levels of abstraction\n",
    "- parts can be logical abstractions, such as orgs, or users\n",
    "- connect to product reqs\n",
    "\n",
    "definition > usage - typical method of SysML"
   ]
  },
  {
   "cell_type": "code",
   "execution_count": null,
   "id": "cdd69214-474d-45df-be0d-2597354e8583",
   "metadata": {
    "tags": []
   },
   "outputs": [
    {
     "data": {
      "text/plain": [
       "Package PartDefinitionAndUsage (c46e0d04-04e9-4965-86e9-6a871d037fc5)\n"
      ]
     },
     "execution_count": 21,
     "metadata": {},
     "output_type": "execute_result"
    }
   ],
   "source": [
    "package PartDefinitionAndUsage {\n",
    "    // Define Part: TitleCase, square corners\n",
    "        //part def <shortname> Name\n",
    "            //Shortname is optional, often used as human readable id or to shorten long part names.\n",
    "    part def <P001> Oven;\n",
    "\n",
    "    // Usage: camelCase, rounded corners\n",
    "        // part usageName: PartName;\n",
    "            // testOven is usage of part def Oven\n",
    "    part testOven: Oven;\n",
    "        // part usageName defined by PartName;\n",
    "    part testOven2 defined by Oven;\n",
    "        // part usageName defined by shortname; or part usageName: shortname\n",
    "    part testOven3: P001;\n",
    "}"
   ]
  },
  {
   "cell_type": "code",
   "execution_count": null,
   "id": "33d345c2",
   "metadata": {},
   "outputs": [
    {
     "data": {
      "image/svg+xml": [
       "<?xml version=\"1.0\" encoding=\"UTF-8\" standalone=\"no\"?><svg xmlns=\"http://www.w3.org/2000/svg\" xmlns:xlink=\"http://www.w3.org/1999/xlink\" contentStyleType=\"text/css\" height=\"222px\" preserveAspectRatio=\"none\" style=\"width:505px;height:222px;background:#FFFFFF;\" version=\"1.1\" viewBox=\"0 0 505 222\" width=\"505px\" zoomAndPan=\"magnify\"><defs/><g><!--MD5=[fbc87193dbaf4d95561dea2c320d4a47]\n",
       "cluster E1--><g id=\"cluster_E1\"><a href=\"psysml:c46e0d04-04e9-4965-86e9-6a871d037fc5\" target=\"_top\" title=\"psysml:c46e0d04-04e9-4965-86e9-6a871d037fc5\" xlink:actuate=\"onRequest\" xlink:href=\"psysml:c46e0d04-04e9-4965-86e9-6a871d037fc5\" xlink:show=\"new\" xlink:title=\"psysml:c46e0d04-04e9-4965-86e9-6a871d037fc5\" xlink:type=\"simple\"><polygon fill=\"none\" points=\"16,6,195,6,202,28.4883,488,28.4883,488,215,16,215,16,6\" style=\"stroke:#000000;stroke-width:1.5;\"/><line style=\"stroke:#000000;stroke-width:1.5;\" x1=\"16\" x2=\"202\" y1=\"28.4883\" y2=\"28.4883\"/><text fill=\"#000000\" font-family=\"sans-serif\" font-size=\"14\" font-weight=\"bold\" lengthAdjust=\"spacing\" textLength=\"173\" x=\"20\" y=\"21.5352\">PartDefinitionAndUsage</text></a></g><!--MD5=[b4997ac47864f28c2f74865a473b2911]\n",
       "class E2--><a href=\"psysml:360f9b7c-be81-4739-9c55-4dfe6a55eb11\" target=\"_top\" title=\"psysml:360f9b7c-be81-4739-9c55-4dfe6a55eb11\" xlink:actuate=\"onRequest\" xlink:href=\"psysml:360f9b7c-be81-4739-9c55-4dfe6a55eb11\" xlink:show=\"new\" xlink:title=\"psysml:360f9b7c-be81-4739-9c55-4dfe6a55eb11\" xlink:type=\"simple\"><g id=\"elem_E2\"><rect fill=\"#FFFFFF\" height=\"48.6211\" id=\"E2\" style=\"stroke:#181818;stroke-width:0.5;\" width=\"102\" x=\"205\" y=\"150\"/><text fill=\"#000000\" font-family=\"sans-serif\" font-size=\"12\" font-style=\"italic\" lengthAdjust=\"spacing\" textLength=\"63\" x=\"224.5\" y=\"166.6016\">«part  def»</text><text fill=\"#000000\" font-family=\"sans-serif\" font-size=\"14\" lengthAdjust=\"spacing\" textLength=\"96\" x=\"208\" y=\"182.668\">&lt;P001&gt; Oven</text><line style=\"stroke:#181818;stroke-width:0.5;\" x1=\"206\" x2=\"306\" y1=\"190.6211\" y2=\"190.6211\"/></g></a><!--MD5=[09b614a08d8cba4a07c9adeb5e0fee81]\n",
       "class E3--><a href=\"psysml:9f85e0e1-48a6-4ff8-b743-915cc1c0b2f7\" target=\"_top\" title=\"psysml:9f85e0e1-48a6-4ff8-b743-915cc1c0b2f7\" xlink:actuate=\"onRequest\" xlink:href=\"psysml:9f85e0e1-48a6-4ff8-b743-915cc1c0b2f7\" xlink:show=\"new\" xlink:title=\"psysml:9f85e0e1-48a6-4ff8-b743-915cc1c0b2f7\" xlink:type=\"simple\"><g id=\"elem_E3\"><rect fill=\"#FFFFFF\" height=\"48.6211\" id=\"E3\" rx=\"10\" ry=\"10\" style=\"stroke:#181818;stroke-width:0.5;\" width=\"117\" x=\"354.5\" y=\"41\"/><text fill=\"#000000\" font-family=\"sans-serif\" font-size=\"12\" font-style=\"italic\" lengthAdjust=\"spacing\" textLength=\"36\" x=\"395\" y=\"57.6016\">«part»</text><text fill=\"#000000\" font-family=\"sans-serif\" font-size=\"14\" lengthAdjust=\"spacing\" textLength=\"103\" x=\"357.5\" y=\"73.668\">testOven: Oven</text><line style=\"stroke:#181818;stroke-width:0.5;\" x1=\"355.5\" x2=\"470.5\" y1=\"81.6211\" y2=\"81.6211\"/></g></a><!--MD5=[ebbe1d658d1005bcc118a6aa81145e00]\n",
       "class E4--><a href=\"psysml:45b2c2bc-8740-4fec-bad9-4b228f514d27\" target=\"_top\" title=\"psysml:45b2c2bc-8740-4fec-bad9-4b228f514d27\" xlink:actuate=\"onRequest\" xlink:href=\"psysml:45b2c2bc-8740-4fec-bad9-4b228f514d27\" xlink:show=\"new\" xlink:title=\"psysml:45b2c2bc-8740-4fec-bad9-4b228f514d27\" xlink:type=\"simple\"><g id=\"elem_E4\"><rect fill=\"#FFFFFF\" height=\"48.6211\" id=\"E4\" rx=\"10\" ry=\"10\" style=\"stroke:#181818;stroke-width:0.5;\" width=\"126\" x=\"193\" y=\"41\"/><text fill=\"#000000\" font-family=\"sans-serif\" font-size=\"12\" font-style=\"italic\" lengthAdjust=\"spacing\" textLength=\"36\" x=\"238\" y=\"57.6016\">«part»</text><text fill=\"#000000\" font-family=\"sans-serif\" font-size=\"14\" lengthAdjust=\"spacing\" textLength=\"112\" x=\"196\" y=\"73.668\">testOven2: Oven</text><line style=\"stroke:#181818;stroke-width:0.5;\" x1=\"194\" x2=\"318\" y1=\"81.6211\" y2=\"81.6211\"/></g></a><!--MD5=[270fce915f116d4de14055a7c1d9a0f3]\n",
       "class E5--><a href=\"psysml:900bf35a-40d9-4ebd-a9be-a1fd22f09add\" target=\"_top\" title=\"psysml:900bf35a-40d9-4ebd-a9be-a1fd22f09add\" xlink:actuate=\"onRequest\" xlink:href=\"psysml:900bf35a-40d9-4ebd-a9be-a1fd22f09add\" xlink:show=\"new\" xlink:title=\"psysml:900bf35a-40d9-4ebd-a9be-a1fd22f09add\" xlink:type=\"simple\"><g id=\"elem_E5\"><rect fill=\"#FFFFFF\" height=\"48.6211\" id=\"E5\" rx=\"10\" ry=\"10\" style=\"stroke:#181818;stroke-width:0.5;\" width=\"126\" x=\"32\" y=\"41\"/><text fill=\"#000000\" font-family=\"sans-serif\" font-size=\"12\" font-style=\"italic\" lengthAdjust=\"spacing\" textLength=\"36\" x=\"77\" y=\"57.6016\">«part»</text><text fill=\"#000000\" font-family=\"sans-serif\" font-size=\"14\" lengthAdjust=\"spacing\" textLength=\"112\" x=\"35\" y=\"73.668\">testOven3: Oven</text><line style=\"stroke:#181818;stroke-width:0.5;\" x1=\"33\" x2=\"157\" y1=\"81.6211\" y2=\"81.6211\"/></g></a><!--MD5=[05d275557350bfb9b23a4ef7222b4c39]\n",
       "link E3 to E2--><g id=\"link_E3_E2\"><a href=\"psysml:a25eefba-c77c-472e-8932-01c3e785928a\" target=\"_top\" title=\"psysml:a25eefba-c77c-472e-8932-01c3e785928a\" xlink:actuate=\"onRequest\" xlink:href=\"psysml:a25eefba-c77c-472e-8932-01c3e785928a\" xlink:show=\"new\" xlink:title=\"psysml:a25eefba-c77c-472e-8932-01c3e785928a\" xlink:type=\"simple\"><path d=\"M378.16,90.25 C357.42,104.38 330.73,122.57 307.59,138.34 \" fill=\"none\" id=\"E3-to-E2\" style=\"stroke:#181818;stroke-width:1.0;\"/><polygon fill=\"#FFFFFF\" points=\"290.75,149.82,302.5036,133.3321,310.3913,144.8986,290.75,149.82\" style=\"stroke:#181818;stroke-width:1.0;\"/><ellipse cx=\"308.3397\" cy=\"131.773\" fill=\"#181818\" rx=\"2\" ry=\"2\" style=\"stroke:#181818;stroke-width:1.0;\"/><ellipse cx=\"313.9737\" cy=\"140.0348\" fill=\"#181818\" rx=\"2\" ry=\"2\" style=\"stroke:#181818;stroke-width:1.0;\"/></a></g><!--MD5=[185131fc0dcab0a4505a2ebe144e961b]\n",
       "link E4 to E2--><g id=\"link_E4_E2\"><a href=\"psysml:5d76993d-98b7-42df-a3df-df4ebfcfd256\" target=\"_top\" title=\"psysml:5d76993d-98b7-42df-a3df-df4ebfcfd256\" xlink:actuate=\"onRequest\" xlink:href=\"psysml:5d76993d-98b7-42df-a3df-df4ebfcfd256\" xlink:show=\"new\" xlink:title=\"psysml:5d76993d-98b7-42df-a3df-df4ebfcfd256\" xlink:type=\"simple\"><path d=\"M256,90.25 C256,101.88 256,116.27 256,129.8 \" fill=\"none\" id=\"E4-to-E2\" style=\"stroke:#181818;stroke-width:1.0;\"/><polygon fill=\"#FFFFFF\" points=\"256,149.82,249,130.82,263,130.82,256,149.82\" style=\"stroke:#181818;stroke-width:1.0;\"/><ellipse cx=\"251\" cy=\"125.12\" fill=\"#181818\" rx=\"2\" ry=\"2\" style=\"stroke:#181818;stroke-width:1.0;\"/><ellipse cx=\"261\" cy=\"125.12\" fill=\"#181818\" rx=\"2\" ry=\"2\" style=\"stroke:#181818;stroke-width:1.0;\"/></a></g><!--MD5=[15ebcb19ae302d9b601edb458606d402]\n",
       "link E5 to E2--><g id=\"link_E5_E2\"><a href=\"psysml:879ca23d-4d03-46eb-b75a-5f4bc5eeac66\" target=\"_top\" title=\"psysml:879ca23d-4d03-46eb-b75a-5f4bc5eeac66\" xlink:actuate=\"onRequest\" xlink:href=\"psysml:879ca23d-4d03-46eb-b75a-5f4bc5eeac66\" xlink:show=\"new\" xlink:title=\"psysml:879ca23d-4d03-46eb-b75a-5f4bc5eeac66\" xlink:type=\"simple\"><path d=\"M130.73,90.25 C152.1,104.45 179.63,122.75 203.44,138.57 \" fill=\"none\" id=\"E5-to-E2\" style=\"stroke:#181818;stroke-width:1.0;\"/><polygon fill=\"#FFFFFF\" points=\"220.37,149.82,200.6716,145.1324,208.4213,133.4729,220.37,149.82\" style=\"stroke:#181818;stroke-width:1.0;\"/><ellipse cx=\"197.0316\" cy=\"140.3115\" fill=\"#181818\" rx=\"2\" ry=\"2\" style=\"stroke:#181818;stroke-width:1.0;\"/><ellipse cx=\"202.5671\" cy=\"131.9833\" fill=\"#181818\" rx=\"2\" ry=\"2\" style=\"stroke:#181818;stroke-width:1.0;\"/></a></g><!--MD5=[2cdc2086c696cdf6d87f720236c8ea5a]\n",
       "@startuml\r\n",
       "skin sysmlbw\r\n",
       "skinparam monochrome true\r\n",
       "skinparam wrapWidth 300\r\n",
       "hide circle\r\n",
       "\r\n",
       "package \"PartDefinitionAndUsage\" as E1  [[psysml:c46e0d04-04e9-4965-86e9-6a871d037fc5 ]]  {\r\n",
       "comp def \"~<P001> Oven\" as E2  <<(T,blue) part  def>> [[psysml:360f9b7c-be81-4739-9c55-4dfe6a55eb11 ]] {\r\n",
       "}\r\n",
       "comp usage \"testOven: Oven  \" as E3  <<(T,blue) part>> [[psysml:9f85e0e1-48a6-4ff8-b743-915cc1c0b2f7 ]] {\r\n",
       "}\r\n",
       "comp usage \"testOven2: Oven  \" as E4  <<(T,blue) part>> [[psysml:45b2c2bc-8740-4fec-bad9-4b228f514d27 ]] {\r\n",
       "}\r\n",
       "comp usage \"testOven3: Oven  \" as E5  <<(T,blue) part>> [[psysml:900bf35a-40d9-4ebd-a9be-a1fd22f09add ]] {\r\n",
       "}\r\n",
       "}\r\n",
       "E3 - -:|> E2 [[psysml:a25eefba-c77c-472e-8932-01c3e785928a ]] \r\n",
       "E4 - -:|> E2 [[psysml:5d76993d-98b7-42df-a3df-df4ebfcfd256 ]] \r\n",
       "E5 - -:|> E2 [[psysml:879ca23d-4d03-46eb-b75a-5f4bc5eeac66 ]] \r\n",
       "@enduml\r\n",
       "\n",
       "PlantUML version 1.2022.7(Mon Aug 22 11:01:30 MDT 2022)\n",
       "(EPL source distribution)\n",
       "Java Runtime: Java(TM) SE Runtime Environment\n",
       "JVM: Java HotSpot(TM) 64-Bit Server VM\n",
       "Default Encoding: UTF-8\n",
       "Language: en\n",
       "Country: US\n",
       "--></g></svg>"
      ]
     },
     "execution_count": 22,
     "metadata": {},
     "output_type": "execute_result"
    }
   ],
   "source": [
    "%viz --view=DEFAULT PartDefinitionAndUsage"
   ]
  },
  {
   "cell_type": "markdown",
   "id": "31247ad8-acdf-49b5-ac35-5a46f87585fb",
   "metadata": {},
   "source": [
    "Arrow with 2 dots indicates definition. Interpreted as usageName defined by PartName\n",
    "- Aka, feature typing relationship\n",
    "\n",
    "SysML has a variety of views based on the relationships between components. This is using a general view\n",
    "- General view: structural components and relationships\n",
    "- Interconnection view: connection between parts so that they can interact with each other\n",
    "- Action flow view\n",
    "- State transition view\n",
    "- Geometery view (not covered in this course)\n",
    "- Case view\n",
    "- Grid view (not covered in this course)\n",
    "- Browser view (not covered in this course)\n",
    "We can get information about what options we specifically have available with `%help %viz`"
   ]
  },
  {
   "cell_type": "code",
   "execution_count": 11,
   "id": "82e93093",
   "metadata": {},
   "outputs": [
    {
     "data": {
      "text/plain": [
       "Usage: %viz [--view=<VIEW>] [--style=<STYLE>...] <NAME> [<NAME>...]\n",
       "\n",
       "Visualize model elements of <NAME>(s). <NAME>s must be fully qualified.\n",
       "\n",
       "<VIEW> is case insensitive and possible candidates are:\n",
       "   DEFAULT\t\tAutomatically choose an appropriate view from the given model element names\n",
       "   TREE\t\t\tShow a tree-structural view, like a Block Definition Diagram (BDD)\n",
       "   INTERCONNECTION\tShow an interconnection view, like an Internal Block Diagram (IBD)\n",
       "   STATE\t\tShow state machines\n",
       "   ACTION\t\tShow actions like an activity diagram\n",
       "   SEQUENCE\t\tShow events and messages in a sequence diagram\n",
       "   MIXED\t\tShow multiple views\n",
       "\n",
       "<STYLE> is also case insensitive. Multiple --style options are allowed.  The possible style names are:\n",
       "  DEFAULT\t\tStandard B&&W\n",
       "  STDCOLOR\t\tStandard style with colors\n",
       "  PLANTUML\t\tPlantUML Style\n",
       "  TB\t\t\tTop-to-Bottom orientation\n",
       "  LR\t\t\tLeft-to-Right orientation\n",
       "  POLYLINE\t\tPolyline style\n",
       "  ORTHOLINE\t\tOrthogonal line style\n",
       "  SHOWLIB\t\tShow elements of the standard libraries\n",
       "  SHOWINHERITED\t\tShow inherited members\n",
       "  COMPMOST\t\tShow as many memberships in a compartment as possible\n",
       "  COMPTREE\t\tShow nested ports in a compartment\n",
       "  SHOWIMPORTED\t\tShow imported elements\n",
       "  HIDEMETADATA\t\tHide metadata\n",
       "  SHOWMETACLASS\t\tShow metaclasses of metaobjects\n",
       "  EVAL\t\tEvaluate expressions\n",
       "  NODEMULTIPLICITY\t\tShow multiplicities in nodes\n",
       "  EDGEMULTIPLICITY\t\tShow multiplicities on edges\n",
       "  IMPLICITMULTIPLICITY\t\tShow implicit multiplicities\n",
       "\n",
       "Example:\n",
       "\t%viz --view Tree --style LR --style ortholine Pkg1::PartDef Pkg1::Pkg2::partUsage\n",
       "should visualize Pkg1::PartDef and Pkg1::Pkg2::partUsage with a tree view ordered in the left-to-right direction with orthogonal lines.\n"
      ]
     },
     "execution_count": 11,
     "metadata": {},
     "output_type": "execute_result"
    }
   ],
   "source": [
    "%help %viz"
   ]
  },
  {
   "cell_type": "markdown",
   "id": "61c59a52",
   "metadata": {},
   "source": [
    "## 02-02 Attributes and multiplicities\n"
   ]
  },
  {
   "cell_type": "markdown",
   "id": "78bec1c1",
   "metadata": {},
   "source": [
    "### Defining Attributes.sysml\n",
    "Attribute\n",
    "- A set of data values that represent the properties of an element\n",
    "- Most attributes require importing certain packages or libraries.\n",
    "\n",
    "Integer and PowerUnit are not native to SysML and must be called from packages in the sysml.library using `import`\n",
    "- private import LibraryPackage::DataTypeFromLibraryPackage\n",
    "- specifies namespaces w/in SysML"
   ]
  },
  {
   "cell_type": "code",
   "execution_count": null,
   "id": "5c936a69",
   "metadata": {},
   "outputs": [
    {
     "data": {
      "text/plain": [
       "Package DefiningAttributes (4ce39478-c62e-4f05-802e-f730fa874f69)\n"
      ]
     },
     "execution_count": 19,
     "metadata": {},
     "output_type": "execute_result"
    }
   ],
   "source": [
    "package DefiningAttributes {\n",
    "    private import ScalarValues::Integer;\t// ScalarValues: std scalar data types (real, integer, bool, string, etc)\n",
    "    private import SI::PowerUnit;\t// SI library: measurement units per ISO 80,000 Std\n",
    "\n",
    "    part def Oven {\n",
    "        attribute rackCount: Integer;\n",
    "        attribute wattage: PowerUnit;\n",
    "    }\n",
    "\n",
    "    part testOven: Oven;\n",
    "}"
   ]
  },
  {
   "cell_type": "code",
   "execution_count": 20,
   "id": "e0f7642c",
   "metadata": {},
   "outputs": [
    {
     "data": {
      "image/svg+xml": [
       "<?xml version=\"1.0\" encoding=\"UTF-8\" standalone=\"no\"?><svg xmlns=\"http://www.w3.org/2000/svg\" xmlns:xlink=\"http://www.w3.org/1999/xlink\" contentStyleType=\"text/css\" height=\"156px\" preserveAspectRatio=\"none\" style=\"width:386px;height:156px;background:#FFFFFF;\" version=\"1.1\" viewBox=\"0 0 386 156\" width=\"386px\" zoomAndPan=\"magnify\"><defs/><g><!--MD5=[fbc87193dbaf4d95561dea2c320d4a47]\n",
       "cluster E1--><g id=\"cluster_E1\"><a href=\"psysml:4ce39478-c62e-4f05-802e-f730fa874f69\" target=\"_top\" title=\"psysml:4ce39478-c62e-4f05-802e-f730fa874f69\" xlink:actuate=\"onRequest\" xlink:href=\"psysml:4ce39478-c62e-4f05-802e-f730fa874f69\" xlink:show=\"new\" xlink:title=\"psysml:4ce39478-c62e-4f05-802e-f730fa874f69\" xlink:type=\"simple\"><polygon fill=\"none\" points=\"16,6,157,6,164,28.4883,369,28.4883,369,149,16,149,16,6\" style=\"stroke:#000000;stroke-width:1.5;\"/><line style=\"stroke:#000000;stroke-width:1.5;\" x1=\"16\" x2=\"164\" y1=\"28.4883\" y2=\"28.4883\"/><text fill=\"#000000\" font-family=\"sans-serif\" font-size=\"14\" font-weight=\"bold\" lengthAdjust=\"spacing\" textLength=\"135\" x=\"20\" y=\"21.5352\">DefiningAttributes</text></a></g><!--MD5=[b4997ac47864f28c2f74865a473b2911]\n",
       "class E2--><a href=\"psysml:88166287-2b6e-44df-bd3e-bbd0b8c6406d\" target=\"_top\" title=\"psysml:88166287-2b6e-44df-bd3e-bbd0b8c6406d\" xlink:actuate=\"onRequest\" xlink:href=\"psysml:88166287-2b6e-44df-bd3e-bbd0b8c6406d\" xlink:show=\"new\" xlink:title=\"psysml:88166287-2b6e-44df-bd3e-bbd0b8c6406d\" xlink:type=\"simple\"><g id=\"elem_E2\"><rect fill=\"#FFFFFF\" height=\"92.193\" id=\"E2\" style=\"stroke:#181818;stroke-width:0.5;\" width=\"144\" x=\"209\" y=\"41\"/><text fill=\"#000000\" font-family=\"sans-serif\" font-size=\"12\" font-style=\"italic\" lengthAdjust=\"spacing\" textLength=\"63\" x=\"249.5\" y=\"57.6016\">«part  def»</text><text fill=\"#000000\" font-family=\"sans-serif\" font-size=\"14\" lengthAdjust=\"spacing\" textLength=\"35\" x=\"263.5\" y=\"73.668\">Oven</text><line style=\"stroke:#181818;stroke-width:0.5;\" x1=\"210\" x2=\"352\" y1=\"81.6211\" y2=\"81.6211\"/><text fill=\"#000000\" font-family=\"sans-serif\" font-size=\"14\" lengthAdjust=\"spacing\" textLength=\"128\" x=\"215\" y=\"109.7516\">rackCount: Integer</text><text fill=\"#000000\" font-family=\"sans-serif\" font-size=\"14\" lengthAdjust=\"spacing\" textLength=\"132\" x=\"215\" y=\"126.2398\">wattage: PowerUnit</text><text fill=\"#000000\" font-family=\"sans-serif\" font-size=\"14\" font-style=\"italic\" lengthAdjust=\"spacing\" textLength=\"66\" x=\"248\" y=\"94.4121\">attributes</text></g></a><!--MD5=[09b614a08d8cba4a07c9adeb5e0fee81]\n",
       "class E3--><a href=\"psysml:b9d6481e-812e-4e05-b4da-c8b135a4d351\" target=\"_top\" title=\"psysml:b9d6481e-812e-4e05-b4da-c8b135a4d351\" xlink:actuate=\"onRequest\" xlink:href=\"psysml:b9d6481e-812e-4e05-b4da-c8b135a4d351\" xlink:show=\"new\" xlink:title=\"psysml:b9d6481e-812e-4e05-b4da-c8b135a4d351\" xlink:type=\"simple\"><g id=\"elem_E3\"><rect fill=\"#FFFFFF\" height=\"48.6211\" id=\"E3\" rx=\"10\" ry=\"10\" style=\"stroke:#181818;stroke-width:0.5;\" width=\"117\" x=\"32\" y=\"62.5\"/><text fill=\"#000000\" font-family=\"sans-serif\" font-size=\"12\" font-style=\"italic\" lengthAdjust=\"spacing\" textLength=\"36\" x=\"72.5\" y=\"79.1016\">«part»</text><text fill=\"#000000\" font-family=\"sans-serif\" font-size=\"14\" lengthAdjust=\"spacing\" textLength=\"103\" x=\"35\" y=\"95.168\">testOven: Oven</text><line style=\"stroke:#181818;stroke-width:0.5;\" x1=\"33\" x2=\"148\" y1=\"103.1211\" y2=\"103.1211\"/></g></a><!--MD5=[05d275557350bfb9b23a4ef7222b4c39]\n",
       "link E3 to E2--><g id=\"link_E3_E2\"><a href=\"psysml:dd69f4d3-2f4c-46b1-82ca-e9c621da900d\" target=\"_top\" title=\"psysml:dd69f4d3-2f4c-46b1-82ca-e9c621da900d\" xlink:actuate=\"onRequest\" xlink:href=\"psysml:dd69f4d3-2f4c-46b1-82ca-e9c621da900d\" xlink:show=\"new\" xlink:title=\"psysml:dd69f4d3-2f4c-46b1-82ca-e9c621da900d\" xlink:type=\"simple\"><path d=\"M149.08,87 C161.59,87 175.12,87 188.58,87 \" fill=\"none\" id=\"E3-to-E2\" style=\"stroke:#181818;stroke-width:1.0;\"/><polygon fill=\"#FFFFFF\" points=\"208.8,87,189.8,94,189.8,80,208.8,87\" style=\"stroke:#181818;stroke-width:1.0;\"/><ellipse cx=\"184.0964\" cy=\"91.9824\" fill=\"#181818\" rx=\"2\" ry=\"2\" style=\"stroke:#181818;stroke-width:1.0;\"/><ellipse cx=\"184.1036\" cy=\"81.9824\" fill=\"#181818\" rx=\"2\" ry=\"2\" style=\"stroke:#181818;stroke-width:1.0;\"/></a></g><!--MD5=[7476f6683853b50f63f15bbc4e4bf946]\n",
       "@startuml\r\n",
       "skin sysmlbw\r\n",
       "skinparam monochrome true\r\n",
       "skinparam wrapWidth 300\r\n",
       "hide circle\r\n",
       "left to right direction\r\n",
       "\r\n",
       "package \"DefiningAttributes\" as E1  [[psysml:4ce39478-c62e-4f05-802e-f730fa874f69 ]]  {\r\n",
       "comp def \"Oven\" as E2  <<(T,blue) part  def>> [[psysml:88166287-2b6e-44df-bd3e-bbd0b8c6406d ]] {\r\n",
       "##//attributes//##\r\n",
       "rackCount: Integer\r\n",
       "wattage: PowerUnit\r\n",
       "}\r\n",
       "comp usage \"testOven: Oven  \" as E3  <<(T,blue) part>> [[psysml:b9d6481e-812e-4e05-b4da-c8b135a4d351 ]] {\r\n",
       "}\r\n",
       "}\r\n",
       "E3 - -:|> E2 [[psysml:dd69f4d3-2f4c-46b1-82ca-e9c621da900d ]] \r\n",
       "@enduml\r\n",
       "\n",
       "PlantUML version 1.2022.7(Mon Aug 22 11:01:30 MDT 2022)\n",
       "(EPL source distribution)\n",
       "Java Runtime: Java(TM) SE Runtime Environment\n",
       "JVM: Java HotSpot(TM) 64-Bit Server VM\n",
       "Default Encoding: UTF-8\n",
       "Language: en\n",
       "Country: US\n",
       "--></g></svg>"
      ]
     },
     "execution_count": 20,
     "metadata": {},
     "output_type": "execute_result"
    }
   ],
   "source": [
    "%viz --view=DEFAULT --style=LR DefiningAttributes"
   ]
  },
  {
   "cell_type": "markdown",
   "id": "4f6e8bc4",
   "metadata": {},
   "source": [
    "### MoreParts.sysml\n",
    "Feature-member relationship: X is composed of Y\n",
    "- Black-diamond head\n",
    "    - Racks are features of the oven"
   ]
  },
  {
   "cell_type": "code",
   "execution_count": null,
   "id": "0c2de715",
   "metadata": {},
   "outputs": [
    {
     "data": {
      "text/plain": [
       "Package MoreParts (68f71d63-7b88-49f8-bc87-8a9289a7d83a)\n"
      ]
     },
     "execution_count": 23,
     "metadata": {},
     "output_type": "execute_result"
    }
   ],
   "source": [
    "package MoreParts {\n",
    "    private import ScalarValues::Integer;\n",
    "    private import SI::PowerUnit;\n",
    "\n",
    "    part def Oven {\n",
    "        attribute rackCount: Integer;\n",
    "        attribute wattage: PowerUnit;\n",
    "    }\n",
    "\n",
    "    // Adding 2 lower and upper racks.\n",
    "    part def Rack;\n",
    "\n",
    "    part testOven: Oven{\n",
    "        part lowerRack: Rack;\n",
    "        part upperRack: Rack;\n",
    "    }\n",
    "        \n",
    "    // Can also create part usages without definitions.\n",
    "        // Bad habit to get into. Loses reuse and standardization across multiple parts\n",
    "    part testOven2 {\n",
    "        part lowerRack2;\n",
    "        part upperRack2;\n",
    "    }\n",
    "}"
   ]
  },
  {
   "cell_type": "code",
   "execution_count": null,
   "id": "4982da6e",
   "metadata": {},
   "outputs": [
    {
     "data": {
      "image/svg+xml": [
       "<?xml version=\"1.0\" encoding=\"UTF-8\" standalone=\"no\"?><svg xmlns=\"http://www.w3.org/2000/svg\" xmlns:xlink=\"http://www.w3.org/1999/xlink\" contentStyleType=\"text/css\" height=\"374px\" preserveAspectRatio=\"none\" style=\"width:791px;height:374px;background:#FFFFFF;\" version=\"1.1\" viewBox=\"0 0 791 374\" width=\"791px\" zoomAndPan=\"magnify\"><defs/><g><!--MD5=[fbc87193dbaf4d95561dea2c320d4a47]\n",
       "cluster E1--><g id=\"cluster_E1\"><a href=\"psysml:68f71d63-7b88-49f8-bc87-8a9289a7d83a\" target=\"_top\" title=\"psysml:68f71d63-7b88-49f8-bc87-8a9289a7d83a\" xlink:actuate=\"onRequest\" xlink:href=\"psysml:68f71d63-7b88-49f8-bc87-8a9289a7d83a\" xlink:show=\"new\" xlink:title=\"psysml:68f71d63-7b88-49f8-bc87-8a9289a7d83a\" xlink:type=\"simple\"><polygon fill=\"none\" points=\"16,6,95,6,102,28.4883,774,28.4883,774,367,16,367,16,6\" style=\"stroke:#000000;stroke-width:1.5;\"/><line style=\"stroke:#000000;stroke-width:1.5;\" x1=\"16\" x2=\"102\" y1=\"28.4883\" y2=\"28.4883\"/><text fill=\"#000000\" font-family=\"sans-serif\" font-size=\"14\" font-weight=\"bold\" lengthAdjust=\"spacing\" textLength=\"73\" x=\"20\" y=\"21.5352\">MoreParts</text></a></g><!--MD5=[b4997ac47864f28c2f74865a473b2911]\n",
       "class E2--><a href=\"psysml:a8a486e0-f1dc-4455-bfdd-99b2c4dbcf48\" target=\"_top\" title=\"psysml:a8a486e0-f1dc-4455-bfdd-99b2c4dbcf48\" xlink:actuate=\"onRequest\" xlink:href=\"psysml:a8a486e0-f1dc-4455-bfdd-99b2c4dbcf48\" xlink:show=\"new\" xlink:title=\"psysml:a8a486e0-f1dc-4455-bfdd-99b2c4dbcf48\" xlink:type=\"simple\"><g id=\"elem_E2\"><rect fill=\"#FFFFFF\" height=\"92.193\" id=\"E2\" style=\"stroke:#181818;stroke-width:0.5;\" width=\"144\" x=\"292\" y=\"150\"/><text fill=\"#000000\" font-family=\"sans-serif\" font-size=\"12\" font-style=\"italic\" lengthAdjust=\"spacing\" textLength=\"63\" x=\"332.5\" y=\"166.6016\">«part  def»</text><text fill=\"#000000\" font-family=\"sans-serif\" font-size=\"14\" lengthAdjust=\"spacing\" textLength=\"35\" x=\"346.5\" y=\"182.668\">Oven</text><line style=\"stroke:#181818;stroke-width:0.5;\" x1=\"293\" x2=\"435\" y1=\"190.6211\" y2=\"190.6211\"/><text fill=\"#000000\" font-family=\"sans-serif\" font-size=\"14\" lengthAdjust=\"spacing\" textLength=\"128\" x=\"298\" y=\"218.7516\">rackCount: Integer</text><text fill=\"#000000\" font-family=\"sans-serif\" font-size=\"14\" lengthAdjust=\"spacing\" textLength=\"132\" x=\"298\" y=\"235.2398\">wattage: PowerUnit</text><text fill=\"#000000\" font-family=\"sans-serif\" font-size=\"14\" font-style=\"italic\" lengthAdjust=\"spacing\" textLength=\"66\" x=\"331\" y=\"203.4121\">attributes</text></g></a><!--MD5=[09b614a08d8cba4a07c9adeb5e0fee81]\n",
       "class E3--><a href=\"psysml:5c380c3e-f3dc-449e-9888-9fd173de1cfb\" target=\"_top\" title=\"psysml:5c380c3e-f3dc-449e-9888-9fd173de1cfb\" xlink:actuate=\"onRequest\" xlink:href=\"psysml:5c380c3e-f3dc-449e-9888-9fd173de1cfb\" xlink:show=\"new\" xlink:title=\"psysml:5c380c3e-f3dc-449e-9888-9fd173de1cfb\" xlink:type=\"simple\"><g id=\"elem_E3\"><rect fill=\"#FFFFFF\" height=\"48.6211\" id=\"E3\" style=\"stroke:#181818;stroke-width:0.5;\" width=\"65\" x=\"580.5\" y=\"302\"/><text fill=\"#000000\" font-family=\"sans-serif\" font-size=\"12\" font-style=\"italic\" lengthAdjust=\"spacing\" textLength=\"63\" x=\"581.5\" y=\"318.6016\">«part  def»</text><text fill=\"#000000\" font-family=\"sans-serif\" font-size=\"14\" lengthAdjust=\"spacing\" textLength=\"32\" x=\"597\" y=\"334.668\">Rack</text><line style=\"stroke:#181818;stroke-width:0.5;\" x1=\"581.5\" x2=\"644.5\" y1=\"342.6211\" y2=\"342.6211\"/></g></a><!--MD5=[ebbe1d658d1005bcc118a6aa81145e00]\n",
       "class E4--><a href=\"psysml:51081881-3971-4214-a37b-45fa781e2ad0\" target=\"_top\" title=\"psysml:51081881-3971-4214-a37b-45fa781e2ad0\" xlink:actuate=\"onRequest\" xlink:href=\"psysml:51081881-3971-4214-a37b-45fa781e2ad0\" xlink:show=\"new\" xlink:title=\"psysml:51081881-3971-4214-a37b-45fa781e2ad0\" xlink:type=\"simple\"><g id=\"elem_E4\"><rect fill=\"#FFFFFF\" height=\"48.6211\" id=\"E4\" rx=\"10\" ry=\"10\" style=\"stroke:#181818;stroke-width:0.5;\" width=\"117\" x=\"474.5\" y=\"41\"/><text fill=\"#000000\" font-family=\"sans-serif\" font-size=\"12\" font-style=\"italic\" lengthAdjust=\"spacing\" textLength=\"36\" x=\"515\" y=\"57.6016\">«part»</text><text fill=\"#000000\" font-family=\"sans-serif\" font-size=\"14\" lengthAdjust=\"spacing\" textLength=\"103\" x=\"477.5\" y=\"73.668\">testOven: Oven</text><line style=\"stroke:#181818;stroke-width:0.5;\" x1=\"475.5\" x2=\"590.5\" y1=\"81.6211\" y2=\"81.6211\"/></g></a><!--MD5=[270fce915f116d4de14055a7c1d9a0f3]\n",
       "class E5--><a href=\"psysml:dff793fa-ca6c-43c0-b5de-57be8f0eb3d9\" target=\"_top\" title=\"psysml:dff793fa-ca6c-43c0-b5de-57be8f0eb3d9\" xlink:actuate=\"onRequest\" xlink:href=\"psysml:dff793fa-ca6c-43c0-b5de-57be8f0eb3d9\" xlink:show=\"new\" xlink:title=\"psysml:dff793fa-ca6c-43c0-b5de-57be8f0eb3d9\" xlink:type=\"simple\"><g id=\"elem_E5\"><rect fill=\"#FFFFFF\" height=\"48.6211\" id=\"E5\" rx=\"10\" ry=\"10\" style=\"stroke:#181818;stroke-width:0.5;\" width=\"124\" x=\"471\" y=\"171.5\"/><text fill=\"#000000\" font-family=\"sans-serif\" font-size=\"12\" font-style=\"italic\" lengthAdjust=\"spacing\" textLength=\"36\" x=\"515\" y=\"188.1016\">«part»</text><text fill=\"#000000\" font-family=\"sans-serif\" font-size=\"14\" lengthAdjust=\"spacing\" textLength=\"110\" x=\"474\" y=\"204.168\">lowerRack: Rack</text><line style=\"stroke:#181818;stroke-width:0.5;\" x1=\"472\" x2=\"594\" y1=\"212.1211\" y2=\"212.1211\"/></g></a><!--MD5=[60a26617385b1d2d0262a64233df1f8d]\n",
       "class E6--><a href=\"psysml:5573729b-eff0-42a6-b2bf-15cfd432e0e3\" target=\"_top\" title=\"psysml:5573729b-eff0-42a6-b2bf-15cfd432e0e3\" xlink:actuate=\"onRequest\" xlink:href=\"psysml:5573729b-eff0-42a6-b2bf-15cfd432e0e3\" xlink:show=\"new\" xlink:title=\"psysml:5573729b-eff0-42a6-b2bf-15cfd432e0e3\" xlink:type=\"simple\"><g id=\"elem_E6\"><rect fill=\"#FFFFFF\" height=\"48.6211\" id=\"E6\" rx=\"10\" ry=\"10\" style=\"stroke:#181818;stroke-width:0.5;\" width=\"127\" x=\"630.5\" y=\"171.5\"/><text fill=\"#000000\" font-family=\"sans-serif\" font-size=\"12\" font-style=\"italic\" lengthAdjust=\"spacing\" textLength=\"36\" x=\"676\" y=\"188.1016\">«part»</text><text fill=\"#000000\" font-family=\"sans-serif\" font-size=\"14\" lengthAdjust=\"spacing\" textLength=\"113\" x=\"633.5\" y=\"204.168\">upperRack: Rack</text><line style=\"stroke:#181818;stroke-width:0.5;\" x1=\"631.5\" x2=\"756.5\" y1=\"212.1211\" y2=\"212.1211\"/></g></a><!--MD5=[2156ba9850f5573cc1fc38a6a4b2f02b]\n",
       "class E7--><a href=\"psysml:4494e6e5-ea82-4131-ad41-0926d85d4d6c\" target=\"_top\" title=\"psysml:4494e6e5-ea82-4131-ad41-0926d85d4d6c\" xlink:actuate=\"onRequest\" xlink:href=\"psysml:4494e6e5-ea82-4131-ad41-0926d85d4d6c\" xlink:show=\"new\" xlink:title=\"psysml:4494e6e5-ea82-4131-ad41-0926d85d4d6c\" xlink:type=\"simple\"><g id=\"elem_E7\"><rect fill=\"#FFFFFF\" height=\"48.6211\" id=\"E7\" rx=\"10\" ry=\"10\" style=\"stroke:#181818;stroke-width:0.5;\" width=\"83\" x=\"102.5\" y=\"41\"/><text fill=\"#000000\" font-family=\"sans-serif\" font-size=\"12\" font-style=\"italic\" lengthAdjust=\"spacing\" textLength=\"36\" x=\"126\" y=\"57.6016\">«part»</text><text fill=\"#000000\" font-family=\"sans-serif\" font-size=\"14\" lengthAdjust=\"spacing\" textLength=\"69\" x=\"105.5\" y=\"73.668\">testOven2</text><line style=\"stroke:#181818;stroke-width:0.5;\" x1=\"103.5\" x2=\"184.5\" y1=\"81.6211\" y2=\"81.6211\"/></g></a><!--MD5=[b9389687b975829384b498ac4b7476b2]\n",
       "class E8--><a href=\"psysml:e64c58a7-a294-4c98-8e5c-cd36e4116710\" target=\"_top\" title=\"psysml:e64c58a7-a294-4c98-8e5c-cd36e4116710\" xlink:actuate=\"onRequest\" xlink:href=\"psysml:e64c58a7-a294-4c98-8e5c-cd36e4116710\" xlink:show=\"new\" xlink:title=\"psysml:e64c58a7-a294-4c98-8e5c-cd36e4116710\" xlink:type=\"simple\"><g id=\"elem_E8\"><rect fill=\"#FFFFFF\" height=\"48.6211\" id=\"E8\" rx=\"10\" ry=\"10\" style=\"stroke:#181818;stroke-width:0.5;\" width=\"93\" x=\"32.5\" y=\"171.5\"/><text fill=\"#000000\" font-family=\"sans-serif\" font-size=\"12\" font-style=\"italic\" lengthAdjust=\"spacing\" textLength=\"36\" x=\"61\" y=\"188.1016\">«part»</text><text fill=\"#000000\" font-family=\"sans-serif\" font-size=\"14\" lengthAdjust=\"spacing\" textLength=\"79\" x=\"35.5\" y=\"204.168\">lowerRack2</text><line style=\"stroke:#181818;stroke-width:0.5;\" x1=\"33.5\" x2=\"124.5\" y1=\"212.1211\" y2=\"212.1211\"/></g></a><!--MD5=[fd4143e9d270a159db93a4ea2a975926]\n",
       "class E9--><a href=\"psysml:208eb011-81f9-490a-933d-57753676f009\" target=\"_top\" title=\"psysml:208eb011-81f9-490a-933d-57753676f009\" xlink:actuate=\"onRequest\" xlink:href=\"psysml:208eb011-81f9-490a-933d-57753676f009\" xlink:show=\"new\" xlink:title=\"psysml:208eb011-81f9-490a-933d-57753676f009\" xlink:type=\"simple\"><g id=\"elem_E9\"><rect fill=\"#FFFFFF\" height=\"48.6211\" id=\"E9\" rx=\"10\" ry=\"10\" style=\"stroke:#181818;stroke-width:0.5;\" width=\"96\" x=\"161\" y=\"171.5\"/><text fill=\"#000000\" font-family=\"sans-serif\" font-size=\"12\" font-style=\"italic\" lengthAdjust=\"spacing\" textLength=\"36\" x=\"191\" y=\"188.1016\">«part»</text><text fill=\"#000000\" font-family=\"sans-serif\" font-size=\"14\" lengthAdjust=\"spacing\" textLength=\"82\" x=\"164\" y=\"204.168\">upperRack2</text><line style=\"stroke:#181818;stroke-width:0.5;\" x1=\"162\" x2=\"256\" y1=\"212.1211\" y2=\"212.1211\"/></g></a><!--MD5=[185131fc0dcab0a4505a2ebe144e961b]\n",
       "link E4 to E2--><g id=\"link_E4_E2\"><a href=\"psysml:fa42528f-f258-45e1-b6c5-dff9077e5ce6\" target=\"_top\" title=\"psysml:fa42528f-f258-45e1-b6c5-dff9077e5ce6\" xlink:actuate=\"onRequest\" xlink:href=\"psysml:fa42528f-f258-45e1-b6c5-dff9077e5ce6\" xlink:show=\"new\" xlink:title=\"psysml:fa42528f-f258-45e1-b6c5-dff9077e5ce6\" xlink:type=\"simple\"><path d=\"M502,90.07 C484.38,103.47 461.47,120.89 439.41,137.66 \" fill=\"none\" id=\"E4-to-E2\" style=\"stroke:#181818;stroke-width:1.0;\"/><polygon fill=\"#FFFFFF\" points=\"423.19,150,434.078,132.9281,442.5515,144.0726,423.19,150\" style=\"stroke:#181818;stroke-width:1.0;\"/><ellipse cx=\"439.8259\" cy=\"131.0702\" fill=\"#181818\" rx=\"2\" ry=\"2\" style=\"stroke:#181818;stroke-width:1.0;\"/><ellipse cx=\"445.8784\" cy=\"139.0306\" fill=\"#181818\" rx=\"2\" ry=\"2\" style=\"stroke:#181818;stroke-width:1.0;\"/></a></g><!--MD5=[62aa6af11e70f752912c1cb0466f24f7]\n",
       "reverse link E4 to E5--><g id=\"link_E4_E5\"><a href=\"psysml:70bfed07-0c15-487e-8daf-158fe3b27311\" target=\"_top\" title=\"psysml:70bfed07-0c15-487e-8daf-158fe3b27311\" xlink:actuate=\"onRequest\" xlink:href=\"psysml:70bfed07-0c15-487e-8daf-158fe3b27311\" xlink:show=\"new\" xlink:title=\"psysml:70bfed07-0c15-487e-8daf-158fe3b27311\" xlink:type=\"simple\"><path d=\"M533,103.19 C533,125.01 533,152.07 533,171.15 \" fill=\"none\" id=\"E4-backto-E5\" style=\"stroke:#181818;stroke-width:1.0;\"/><polygon fill=\"#181818\" points=\"533,90.07,529,96.07,533,102.07,537,96.07,533,90.07\" style=\"stroke:#181818;stroke-width:1.0;\"/></a></g><!--MD5=[e9be52314489bd878ff4c7144b63c9e1]\n",
       "link E5 to E3--><g id=\"link_E5_E3\"><a href=\"psysml:751a597f-7c84-491d-bddc-582ccd2c14db\" target=\"_top\" title=\"psysml:751a597f-7c84-491d-bddc-582ccd2c14db\" xlink:actuate=\"onRequest\" xlink:href=\"psysml:751a597f-7c84-491d-bddc-582ccd2c14db\" xlink:show=\"new\" xlink:title=\"psysml:751a597f-7c84-491d-bddc-582ccd2c14db\" xlink:type=\"simple\"><path d=\"M547.67,220.57 C558.77,238.39 574.28,263.3 587.4,284.38 \" fill=\"none\" id=\"E5-to-E3\" style=\"stroke:#181818;stroke-width:1.0;\"/><polygon fill=\"#FFFFFF\" points=\"598.15,301.65,582.1628,289.2238,594.046,281.8218,598.15,301.65\" style=\"stroke:#181818;stroke-width:1.0;\"/><ellipse cx=\"580.8468\" cy=\"283.3282\" fill=\"#181818\" rx=\"2\" ry=\"2\" style=\"stroke:#181818;stroke-width:1.0;\"/><ellipse cx=\"589.3348\" cy=\"278.0411\" fill=\"#181818\" rx=\"2\" ry=\"2\" style=\"stroke:#181818;stroke-width:1.0;\"/></a></g><!--MD5=[6db378b65e1aef66a01cb3103812b399]\n",
       "reverse link E4 to E6--><g id=\"link_E4_E6\"><a href=\"psysml:a2ab4258-75cb-43f1-8683-28a750d5e162\" target=\"_top\" title=\"psysml:a2ab4258-75cb-43f1-8683-28a750d5e162\" xlink:actuate=\"onRequest\" xlink:href=\"psysml:a2ab4258-75cb-43f1-8683-28a750d5e162\" xlink:show=\"new\" xlink:title=\"psysml:a2ab4258-75cb-43f1-8683-28a750d5e162\" xlink:type=\"simple\"><path d=\"M572.9,98.35 C601.25,120.97 638.68,150.85 664.39,171.36 \" fill=\"none\" id=\"E4-backto-E6\" style=\"stroke:#181818;stroke-width:1.0;\"/><polygon fill=\"#181818\" points=\"562.53,90.07,564.7211,96.9401,571.9056,97.5599,569.7144,90.6898,562.53,90.07\" style=\"stroke:#181818;stroke-width:1.0;\"/></a></g><!--MD5=[a717450b82c80b9240a525fa862496af]\n",
       "link E6 to E3--><g id=\"link_E6_E3\"><a href=\"psysml:b71b462d-0cbd-4be0-a6c5-a42ce33f87a0\" target=\"_top\" title=\"psysml:b71b462d-0cbd-4be0-a6c5-a42ce33f87a0\" xlink:actuate=\"onRequest\" xlink:href=\"psysml:b71b462d-0cbd-4be0-a6c5-a42ce33f87a0\" xlink:show=\"new\" xlink:title=\"psysml:b71b462d-0cbd-4be0-a6c5-a42ce33f87a0\" xlink:type=\"simple\"><path d=\"M679.14,220.57 C667.85,238.48 652.05,263.55 638.72,284.7 \" fill=\"none\" id=\"E6-to-E3\" style=\"stroke:#181818;stroke-width:1.0;\"/><polygon fill=\"#FFFFFF\" points=\"628.04,301.65,632.258,281.8457,644.0984,289.316,628.04,301.65\" style=\"stroke:#181818;stroke-width:1.0;\"/><ellipse cx=\"636.991\" cy=\"278.0922\" fill=\"#181818\" rx=\"2\" ry=\"2\" style=\"stroke:#181818;stroke-width:1.0;\"/><ellipse cx=\"645.4484\" cy=\"283.4281\" fill=\"#181818\" rx=\"2\" ry=\"2\" style=\"stroke:#181818;stroke-width:1.0;\"/></a></g><!--MD5=[dc164f5e8a733ab456ef1add180e9e34]\n",
       "reverse link E7 to E8--><g id=\"link_E7_E8\"><a href=\"psysml:4b65833d-8fdb-4093-85d3-895f6dc38d04\" target=\"_top\" title=\"psysml:4b65833d-8fdb-4093-85d3-895f6dc38d04\" xlink:actuate=\"onRequest\" xlink:href=\"psysml:4b65833d-8fdb-4093-85d3-895f6dc38d04\" xlink:show=\"new\" xlink:title=\"psysml:4b65833d-8fdb-4093-85d3-895f6dc38d04\" xlink:type=\"simple\"><path d=\"M126.07,101.95 C114.92,123.99 100.9,151.71 91.07,171.15 \" fill=\"none\" id=\"E7-backto-E8\" style=\"stroke:#181818;stroke-width:1.0;\"/><polygon fill=\"#181818\" points=\"132.08,90.07,125.805,93.6231,126.6713,100.7819,132.9463,97.2289,132.08,90.07\" style=\"stroke:#181818;stroke-width:1.0;\"/></a></g><!--MD5=[e4a10ef82d0e328e31cac39a31e58dda]\n",
       "reverse link E7 to E9--><g id=\"link_E7_E9\"><a href=\"psysml:3f84a456-aaa1-4ff6-b57f-cb144664e34e\" target=\"_top\" title=\"psysml:3f84a456-aaa1-4ff6-b57f-cb144664e34e\" xlink:actuate=\"onRequest\" xlink:href=\"psysml:3f84a456-aaa1-4ff6-b57f-cb144664e34e\" xlink:show=\"new\" xlink:title=\"psysml:3f84a456-aaa1-4ff6-b57f-cb144664e34e\" xlink:type=\"simple\"><path d=\"M161.93,101.95 C173.08,123.99 187.1,151.71 196.93,171.15 \" fill=\"none\" id=\"E7-backto-E9\" style=\"stroke:#181818;stroke-width:1.0;\"/><polygon fill=\"#181818\" points=\"155.92,90.07,155.0537,97.2289,161.3287,100.7819,162.195,93.6231,155.92,90.07\" style=\"stroke:#181818;stroke-width:1.0;\"/></a></g><!--MD5=[6a65cd29529bbf30b987a92d5ba80b18]\n",
       "@startuml\r\n",
       "skin sysmlbw\r\n",
       "skinparam monochrome true\r\n",
       "skinparam wrapWidth 300\r\n",
       "hide circle\r\n",
       "\r\n",
       "package \"MoreParts\" as E1  [[psysml:68f71d63-7b88-49f8-bc87-8a9289a7d83a ]]  {\r\n",
       "comp def \"Oven\" as E2  <<(T,blue) part  def>> [[psysml:a8a486e0-f1dc-4455-bfdd-99b2c4dbcf48 ]] {\r\n",
       "##//attributes//##\r\n",
       "rackCount: Integer\r\n",
       "wattage: PowerUnit\r\n",
       "}\r\n",
       "comp def \"Rack\" as E3  <<(T,blue) part  def>> [[psysml:5c380c3e-f3dc-449e-9888-9fd173de1cfb ]] {\r\n",
       "}\r\n",
       "comp usage \"testOven: Oven  \" as E4  <<(T,blue) part>> [[psysml:51081881-3971-4214-a37b-45fa781e2ad0 ]] {\r\n",
       "}\r\n",
       "comp usage \"lowerRack: Rack  \" as E5  <<(T,blue) part>> [[psysml:dff793fa-ca6c-43c0-b5de-57be8f0eb3d9 ]] {\r\n",
       "}\r\n",
       "comp usage \"upperRack: Rack  \" as E6  <<(T,blue) part>> [[psysml:5573729b-eff0-42a6-b2bf-15cfd432e0e3 ]] {\r\n",
       "}\r\n",
       "comp usage \"testOven2  \" as E7  <<(T,blue) part>> [[psysml:4494e6e5-ea82-4131-ad41-0926d85d4d6c ]] {\r\n",
       "}\r\n",
       "comp usage \"lowerRack2  \" as E8  <<(T,blue) part>> [[psysml:e64c58a7-a294-4c98-8e5c-cd36e4116710 ]] {\r\n",
       "}\r\n",
       "comp usage \"upperRack2  \" as E9  <<(T,blue) part>> [[psysml:208eb011-81f9-490a-933d-57753676f009 ]] {\r\n",
       "}\r\n",
       "}\r\n",
       "E4 - -:|> E2 [[psysml:fa42528f-f258-45e1-b6c5-dff9077e5ce6 ]] \r\n",
       "E4 *- - E5 [[psysml:70bfed07-0c15-487e-8daf-158fe3b27311 ]] \r\n",
       "E5 - -:|> E3 [[psysml:751a597f-7c84-491d-bddc-582ccd2c14db ]] \r\n",
       "E4 *- - E6 [[psysml:a2ab4258-75cb-43f1-8683-28a750d5e162 ]] \r\n",
       "E6 - -:|> E3 [[psysml:b71b462d-0cbd-4be0-a6c5-a42ce33f87a0 ]] \r\n",
       "E7 *- - E8 [[psysml:4b65833d-8fdb-4093-85d3-895f6dc38d04 ]] \r\n",
       "E7 *- - E9 [[psysml:3f84a456-aaa1-4ff6-b57f-cb144664e34e ]] \r\n",
       "@enduml\r\n",
       "\n",
       "PlantUML version 1.2022.7(Mon Aug 22 11:01:30 MDT 2022)\n",
       "(EPL source distribution)\n",
       "Java Runtime: Java(TM) SE Runtime Environment\n",
       "JVM: Java HotSpot(TM) 64-Bit Server VM\n",
       "Default Encoding: UTF-8\n",
       "Language: en\n",
       "Country: US\n",
       "--></g></svg>"
      ]
     },
     "execution_count": 24,
     "metadata": {},
     "output_type": "execute_result"
    }
   ],
   "source": [
    "%viz --view=default MoreParts"
   ]
  },
  {
   "cell_type": "markdown",
   "id": "4032a893",
   "metadata": {},
   "source": [
    "### ArrayOfParts.sysml"
   ]
  },
  {
   "cell_type": "code",
   "execution_count": 1,
   "id": "dc1c906a",
   "metadata": {},
   "outputs": [
    {
     "data": {
      "text/plain": [
       "Package ArrayOfParts (e799f7eb-e4d1-46e7-b6ee-f80189fa4fa9)\n"
      ]
     },
     "execution_count": 1,
     "metadata": {},
     "output_type": "execute_result"
    }
   ],
   "source": [
    "package ArrayOfParts{\n",
    "    private import SI::PowerUnit;\n",
    "    private import ScalarValues::Integer;\n",
    "\n",
    "    part def Oven{\n",
    "        attribute wattage: PowerUnit;\n",
    "        attribute rackCount: Integer;\n",
    "    }\n",
    "\n",
    "    part def Rack;\n",
    "\n",
    "    // define parts as array of usages within same part definition\n",
    "    part testOven: Oven{\n",
    "        part racks[2]: Rack;\t// Array of racks, with number of array, 2\n",
    "    }\n",
    "}"
   ]
  },
  {
   "cell_type": "code",
   "execution_count": 2,
   "id": "1146abaa",
   "metadata": {},
   "outputs": [
    {
     "data": {
      "image/svg+xml": [
       "<?xml version=\"1.0\" encoding=\"UTF-8\" standalone=\"no\"?><svg xmlns=\"http://www.w3.org/2000/svg\" xmlns:xlink=\"http://www.w3.org/1999/xlink\" contentStyleType=\"text/css\" height=\"374px\" preserveAspectRatio=\"none\" style=\"width:334px;height:374px;background:#FFFFFF;\" version=\"1.1\" viewBox=\"0 0 334 374\" width=\"334px\" zoomAndPan=\"magnify\"><defs/><g><!--MD5=[fbc87193dbaf4d95561dea2c320d4a47]\n",
       "cluster E1--><g id=\"cluster_E1\"><a href=\"psysml:e799f7eb-e4d1-46e7-b6ee-f80189fa4fa9\" target=\"_top\" title=\"psysml:e799f7eb-e4d1-46e7-b6ee-f80189fa4fa9\" xlink:actuate=\"onRequest\" xlink:href=\"psysml:e799f7eb-e4d1-46e7-b6ee-f80189fa4fa9\" xlink:show=\"new\" xlink:title=\"psysml:e799f7eb-e4d1-46e7-b6ee-f80189fa4fa9\" xlink:type=\"simple\"><polygon fill=\"none\" points=\"16,6,115,6,122,28.4883,317,28.4883,317,367,16,367,16,6\" style=\"stroke:#000000;stroke-width:1.5;\"/><line style=\"stroke:#000000;stroke-width:1.5;\" x1=\"16\" x2=\"122\" y1=\"28.4883\" y2=\"28.4883\"/><text fill=\"#000000\" font-family=\"sans-serif\" font-size=\"14\" font-weight=\"bold\" lengthAdjust=\"spacing\" textLength=\"93\" x=\"20\" y=\"21.5352\">ArrayOfParts</text></a></g><!--MD5=[b4997ac47864f28c2f74865a473b2911]\n",
       "class E2--><a href=\"psysml:fc3cf8c4-ebe8-4b73-9c63-cdd3422631cb\" target=\"_top\" title=\"psysml:fc3cf8c4-ebe8-4b73-9c63-cdd3422631cb\" xlink:actuate=\"onRequest\" xlink:href=\"psysml:fc3cf8c4-ebe8-4b73-9c63-cdd3422631cb\" xlink:show=\"new\" xlink:title=\"psysml:fc3cf8c4-ebe8-4b73-9c63-cdd3422631cb\" xlink:type=\"simple\"><g id=\"elem_E2\"><rect fill=\"#FFFFFF\" height=\"92.193\" id=\"E2\" style=\"stroke:#181818;stroke-width:0.5;\" width=\"144\" x=\"32\" y=\"150\"/><text fill=\"#000000\" font-family=\"sans-serif\" font-size=\"12\" font-style=\"italic\" lengthAdjust=\"spacing\" textLength=\"63\" x=\"72.5\" y=\"166.6016\">«part  def»</text><text fill=\"#000000\" font-family=\"sans-serif\" font-size=\"14\" lengthAdjust=\"spacing\" textLength=\"35\" x=\"86.5\" y=\"182.668\">Oven</text><line style=\"stroke:#181818;stroke-width:0.5;\" x1=\"33\" x2=\"175\" y1=\"190.6211\" y2=\"190.6211\"/><text fill=\"#000000\" font-family=\"sans-serif\" font-size=\"14\" lengthAdjust=\"spacing\" textLength=\"128\" x=\"38\" y=\"218.7516\">rackCount: Integer</text><text fill=\"#000000\" font-family=\"sans-serif\" font-size=\"14\" lengthAdjust=\"spacing\" textLength=\"132\" x=\"38\" y=\"235.2398\">wattage: PowerUnit</text><text fill=\"#000000\" font-family=\"sans-serif\" font-size=\"14\" font-style=\"italic\" lengthAdjust=\"spacing\" textLength=\"66\" x=\"71\" y=\"203.4121\">attributes</text></g></a><!--MD5=[09b614a08d8cba4a07c9adeb5e0fee81]\n",
       "class E3--><a href=\"psysml:32817b48-7373-4ddd-adfe-3b15970cc90a\" target=\"_top\" title=\"psysml:32817b48-7373-4ddd-adfe-3b15970cc90a\" xlink:actuate=\"onRequest\" xlink:href=\"psysml:32817b48-7373-4ddd-adfe-3b15970cc90a\" xlink:show=\"new\" xlink:title=\"psysml:32817b48-7373-4ddd-adfe-3b15970cc90a\" xlink:type=\"simple\"><g id=\"elem_E3\"><rect fill=\"#FFFFFF\" height=\"48.6211\" id=\"E3\" style=\"stroke:#181818;stroke-width:0.5;\" width=\"65\" x=\"223.5\" y=\"302\"/><text fill=\"#000000\" font-family=\"sans-serif\" font-size=\"12\" font-style=\"italic\" lengthAdjust=\"spacing\" textLength=\"63\" x=\"224.5\" y=\"318.6016\">«part  def»</text><text fill=\"#000000\" font-family=\"sans-serif\" font-size=\"14\" lengthAdjust=\"spacing\" textLength=\"32\" x=\"240\" y=\"334.668\">Rack</text><line style=\"stroke:#181818;stroke-width:0.5;\" x1=\"224.5\" x2=\"287.5\" y1=\"342.6211\" y2=\"342.6211\"/></g></a><!--MD5=[ebbe1d658d1005bcc118a6aa81145e00]\n",
       "class E4--><a href=\"psysml:ca09b85b-8a1e-4c32-b0bf-c7d3d67646dd\" target=\"_top\" title=\"psysml:ca09b85b-8a1e-4c32-b0bf-c7d3d67646dd\" xlink:actuate=\"onRequest\" xlink:href=\"psysml:ca09b85b-8a1e-4c32-b0bf-c7d3d67646dd\" xlink:show=\"new\" xlink:title=\"psysml:ca09b85b-8a1e-4c32-b0bf-c7d3d67646dd\" xlink:type=\"simple\"><g id=\"elem_E4\"><rect fill=\"#FFFFFF\" height=\"48.6211\" id=\"E4\" rx=\"10\" ry=\"10\" style=\"stroke:#181818;stroke-width:0.5;\" width=\"117\" x=\"114.5\" y=\"41\"/><text fill=\"#000000\" font-family=\"sans-serif\" font-size=\"12\" font-style=\"italic\" lengthAdjust=\"spacing\" textLength=\"36\" x=\"155\" y=\"57.6016\">«part»</text><text fill=\"#000000\" font-family=\"sans-serif\" font-size=\"14\" lengthAdjust=\"spacing\" textLength=\"103\" x=\"117.5\" y=\"73.668\">testOven: Oven</text><line style=\"stroke:#181818;stroke-width:0.5;\" x1=\"115.5\" x2=\"230.5\" y1=\"81.6211\" y2=\"81.6211\"/></g></a><!--MD5=[270fce915f116d4de14055a7c1d9a0f3]\n",
       "class E5--><a href=\"psysml:aabc7e15-ff84-4784-be23-a123a8b8c8f3\" target=\"_top\" title=\"psysml:aabc7e15-ff84-4784-be23-a123a8b8c8f3\" xlink:actuate=\"onRequest\" xlink:href=\"psysml:aabc7e15-ff84-4784-be23-a123a8b8c8f3\" xlink:show=\"new\" xlink:title=\"psysml:aabc7e15-ff84-4784-be23-a123a8b8c8f3\" xlink:type=\"simple\"><g id=\"elem_E5\"><rect fill=\"#FFFFFF\" height=\"48.6211\" id=\"E5\" rx=\"10\" ry=\"10\" style=\"stroke:#181818;stroke-width:0.5;\" width=\"90\" x=\"211\" y=\"171.5\"/><text fill=\"#000000\" font-family=\"sans-serif\" font-size=\"12\" font-style=\"italic\" lengthAdjust=\"spacing\" textLength=\"36\" x=\"238\" y=\"188.1016\">«part»</text><text fill=\"#000000\" font-family=\"sans-serif\" font-size=\"14\" lengthAdjust=\"spacing\" textLength=\"76\" x=\"214\" y=\"204.168\">racks: Rack</text><line style=\"stroke:#181818;stroke-width:0.5;\" x1=\"212\" x2=\"300\" y1=\"212.1211\" y2=\"212.1211\"/></g></a><!--MD5=[185131fc0dcab0a4505a2ebe144e961b]\n",
       "link E4 to E2--><g id=\"link_E4_E2\"><a href=\"psysml:bc78b725-94a8-4a0f-9fd3-6177f115323a\" target=\"_top\" title=\"psysml:bc78b725-94a8-4a0f-9fd3-6177f115323a\" xlink:actuate=\"onRequest\" xlink:href=\"psysml:bc78b725-94a8-4a0f-9fd3-6177f115323a\" xlink:show=\"new\" xlink:title=\"psysml:bc78b725-94a8-4a0f-9fd3-6177f115323a\" xlink:type=\"simple\"><path d=\"M160.34,90.07 C153.95,101.97 145.87,117.03 137.83,132 \" fill=\"none\" id=\"E4-to-E2\" style=\"stroke:#181818;stroke-width:1.0;\"/><polygon fill=\"#FFFFFF\" points=\"128.16,150,130.9803,129.9489,143.315,136.5714,128.16,150\" style=\"stroke:#181818;stroke-width:1.0;\"/><ellipse cx=\"135.4387\" cy=\"125.873\" fill=\"#181818\" rx=\"2\" ry=\"2\" style=\"stroke:#181818;stroke-width:1.0;\"/><ellipse cx=\"144.2492\" cy=\"130.6034\" fill=\"#181818\" rx=\"2\" ry=\"2\" style=\"stroke:#181818;stroke-width:1.0;\"/></a></g><!--MD5=[62aa6af11e70f752912c1cb0466f24f7]\n",
       "reverse link E4 to E5--><g id=\"link_E4_E5\"><a href=\"psysml:047d600d-fa7b-46dd-96a9-32a6845bb8aa\" target=\"_top\" title=\"psysml:047d600d-fa7b-46dd-96a9-32a6845bb8aa\" xlink:actuate=\"onRequest\" xlink:href=\"psysml:047d600d-fa7b-46dd-96a9-32a6845bb8aa\" xlink:show=\"new\" xlink:title=\"psysml:047d600d-fa7b-46dd-96a9-32a6845bb8aa\" xlink:type=\"simple\"><path d=\"M195.31,101.04 C209.63,123.21 227.87,151.44 240.59,171.15 \" fill=\"none\" id=\"E4-backto-E5\" style=\"stroke:#181818;stroke-width:1.0;\"/><polygon fill=\"#181818\" points=\"188.22,90.07,188.1146,97.2803,194.7297,100.1508,194.8351,92.9405,188.22,90.07\" style=\"stroke:#181818;stroke-width:1.0;\"/><text fill=\"#000000\" font-family=\"sans-serif\" font-size=\"13\" lengthAdjust=\"spacing\" textLength=\"8\" x=\"227.8588\" y=\"160.9171\">2</text></a></g><!--MD5=[e9be52314489bd878ff4c7144b63c9e1]\n",
       "link E5 to E3--><g id=\"link_E5_E3\"><a href=\"psysml:6c2fdc03-4781-4036-8073-782904023793\" target=\"_top\" title=\"psysml:6c2fdc03-4781-4036-8073-782904023793\" xlink:actuate=\"onRequest\" xlink:href=\"psysml:6c2fdc03-4781-4036-8073-782904023793\" xlink:show=\"new\" xlink:title=\"psysml:6c2fdc03-4781-4036-8073-782904023793\" xlink:type=\"simple\"><path d=\"M256,220.57 C256,237.58 256,261.05 256,281.49 \" fill=\"none\" id=\"E5-to-E3\" style=\"stroke:#181818;stroke-width:1.0;\"/><polygon fill=\"#FFFFFF\" points=\"256,301.65,249,282.65,263,282.65,256,301.65\" style=\"stroke:#181818;stroke-width:1.0;\"/><ellipse cx=\"251\" cy=\"276.95\" fill=\"#181818\" rx=\"2\" ry=\"2\" style=\"stroke:#181818;stroke-width:1.0;\"/><ellipse cx=\"261\" cy=\"276.95\" fill=\"#181818\" rx=\"2\" ry=\"2\" style=\"stroke:#181818;stroke-width:1.0;\"/></a></g><!--MD5=[b10b4d7255fa115d52924e290da7e84e]\n",
       "@startuml\r\n",
       "skin sysmlbw\r\n",
       "skinparam monochrome true\r\n",
       "skinparam wrapWidth 300\r\n",
       "hide circle\r\n",
       "\r\n",
       "package \"ArrayOfParts\" as E1  [[psysml:e799f7eb-e4d1-46e7-b6ee-f80189fa4fa9 ]]  {\r\n",
       "comp def \"Oven\" as E2  <<(T,blue) part  def>> [[psysml:fc3cf8c4-ebe8-4b73-9c63-cdd3422631cb ]] {\r\n",
       "##//attributes//##\r\n",
       "rackCount: Integer\r\n",
       "wattage: PowerUnit\r\n",
       "}\r\n",
       "comp def \"Rack\" as E3  <<(T,blue) part  def>> [[psysml:32817b48-7373-4ddd-adfe-3b15970cc90a ]] {\r\n",
       "}\r\n",
       "comp usage \"testOven: Oven  \" as E4  <<(T,blue) part>> [[psysml:ca09b85b-8a1e-4c32-b0bf-c7d3d67646dd ]] {\r\n",
       "}\r\n",
       "comp usage \"racks: Rack  \" as E5  <<(T,blue) part>> [[psysml:aabc7e15-ff84-4784-be23-a123a8b8c8f3 ]] {\r\n",
       "}\r\n",
       "}\r\n",
       "E4 - -:|> E2 [[psysml:bc78b725-94a8-4a0f-9fd3-6177f115323a ]] \r\n",
       "E4 *- - \"2\"E5 [[psysml:047d600d-fa7b-46dd-96a9-32a6845bb8aa ]] \r\n",
       "E5 - -:|> E3 [[psysml:6c2fdc03-4781-4036-8073-782904023793 ]] \r\n",
       "@enduml\r\n",
       "\n",
       "PlantUML version 1.2022.7(Mon Aug 22 11:01:30 MDT 2022)\n",
       "(EPL source distribution)\n",
       "Java Runtime: OpenJDK Runtime Environment\n",
       "JVM: OpenJDK 64-Bit Server VM\n",
       "Default Encoding: UTF-8\n",
       "Language: en\n",
       "Country: US\n",
       "--></g></svg>"
      ]
     },
     "execution_count": 2,
     "metadata": {},
     "output_type": "execute_result"
    }
   ],
   "source": [
    "%viz --view=default ArrayOfParts"
   ]
  },
  {
   "cell_type": "markdown",
   "id": "003fd447",
   "metadata": {},
   "source": [
    "### Multiplicity.sysml\n",
    "Multiplicity or Cardinality\n",
    "- Allowed number of values a usage may have for any instance\n",
    "    - Single number: fixed value\n",
    "\t- Lower-Upper bounds: natural number"
   ]
  },
  {
   "cell_type": "code",
   "execution_count": 3,
   "id": "77c1d025",
   "metadata": {},
   "outputs": [
    {
     "data": {
      "text/plain": [
       "Package Multiplicity (965f5eda-e549-480a-bbf5-ab5aa071c65b)\n"
      ]
     },
     "execution_count": 3,
     "metadata": {},
     "output_type": "execute_result"
    }
   ],
   "source": [
    "package Multiplicity{\n",
    "    part def Oven;\n",
    "    part def Rack;\n",
    "        \n",
    "    part oven1: Oven{\n",
    "        part racks[2]: Rack;\t// number of racks is fixed\n",
    "    }\n",
    "\n",
    "    part oven2: Oven{\n",
    "        part racks[1..3]: Rack;\t// number of racks can vary between 1-3 racks\n",
    "    }\n",
    "}"
   ]
  },
  {
   "cell_type": "code",
   "execution_count": 4,
   "id": "929cbdf8",
   "metadata": {},
   "outputs": [
    {
     "data": {
      "image/svg+xml": [
       "<?xml version=\"1.0\" encoding=\"UTF-8\" standalone=\"no\"?><svg xmlns=\"http://www.w3.org/2000/svg\" xmlns:xlink=\"http://www.w3.org/1999/xlink\" contentStyleType=\"text/css\" height=\"331px\" preserveAspectRatio=\"none\" style=\"width:381px;height:331px;background:#FFFFFF;\" version=\"1.1\" viewBox=\"0 0 381 331\" width=\"381px\" zoomAndPan=\"magnify\"><defs/><g><!--MD5=[fbc87193dbaf4d95561dea2c320d4a47]\n",
       "cluster E1--><g id=\"cluster_E1\"><a href=\"psysml:965f5eda-e549-480a-bbf5-ab5aa071c65b\" target=\"_top\" title=\"psysml:965f5eda-e549-480a-bbf5-ab5aa071c65b\" xlink:actuate=\"onRequest\" xlink:href=\"psysml:965f5eda-e549-480a-bbf5-ab5aa071c65b\" xlink:show=\"new\" xlink:title=\"psysml:965f5eda-e549-480a-bbf5-ab5aa071c65b\" xlink:type=\"simple\"><polygon fill=\"none\" points=\"16,6,105,6,112,28.4883,364,28.4883,364,324,16,324,16,6\" style=\"stroke:#000000;stroke-width:1.5;\"/><line style=\"stroke:#000000;stroke-width:1.5;\" x1=\"16\" x2=\"112\" y1=\"28.4883\" y2=\"28.4883\"/><text fill=\"#000000\" font-family=\"sans-serif\" font-size=\"14\" font-weight=\"bold\" lengthAdjust=\"spacing\" textLength=\"83\" x=\"20\" y=\"21.5352\">Multiplicity</text></a></g><!--MD5=[b4997ac47864f28c2f74865a473b2911]\n",
       "class E2--><a href=\"psysml:02922a16-4bcc-409e-932d-3de8d6f7cc8f\" target=\"_top\" title=\"psysml:02922a16-4bcc-409e-932d-3de8d6f7cc8f\" xlink:actuate=\"onRequest\" xlink:href=\"psysml:02922a16-4bcc-409e-932d-3de8d6f7cc8f\" xlink:show=\"new\" xlink:title=\"psysml:02922a16-4bcc-409e-932d-3de8d6f7cc8f\" xlink:type=\"simple\"><g id=\"elem_E2\"><rect fill=\"#FFFFFF\" height=\"48.6211\" id=\"E2\" style=\"stroke:#181818;stroke-width:0.5;\" width=\"65\" x=\"157.5\" y=\"150\"/><text fill=\"#000000\" font-family=\"sans-serif\" font-size=\"12\" font-style=\"italic\" lengthAdjust=\"spacing\" textLength=\"63\" x=\"158.5\" y=\"166.6016\">«part  def»</text><text fill=\"#000000\" font-family=\"sans-serif\" font-size=\"14\" lengthAdjust=\"spacing\" textLength=\"35\" x=\"172.5\" y=\"182.668\">Oven</text><line style=\"stroke:#181818;stroke-width:0.5;\" x1=\"158.5\" x2=\"221.5\" y1=\"190.6211\" y2=\"190.6211\"/></g></a><!--MD5=[09b614a08d8cba4a07c9adeb5e0fee81]\n",
       "class E3--><a href=\"psysml:590236cc-2456-41a6-b57d-628a531ea7cd\" target=\"_top\" title=\"psysml:590236cc-2456-41a6-b57d-628a531ea7cd\" xlink:actuate=\"onRequest\" xlink:href=\"psysml:590236cc-2456-41a6-b57d-628a531ea7cd\" xlink:show=\"new\" xlink:title=\"psysml:590236cc-2456-41a6-b57d-628a531ea7cd\" xlink:type=\"simple\"><g id=\"elem_E3\"><rect fill=\"#FFFFFF\" height=\"48.6211\" id=\"E3\" style=\"stroke:#181818;stroke-width:0.5;\" width=\"65\" x=\"157.5\" y=\"259\"/><text fill=\"#000000\" font-family=\"sans-serif\" font-size=\"12\" font-style=\"italic\" lengthAdjust=\"spacing\" textLength=\"63\" x=\"158.5\" y=\"275.6016\">«part  def»</text><text fill=\"#000000\" font-family=\"sans-serif\" font-size=\"14\" lengthAdjust=\"spacing\" textLength=\"32\" x=\"174\" y=\"291.668\">Rack</text><line style=\"stroke:#181818;stroke-width:0.5;\" x1=\"158.5\" x2=\"221.5\" y1=\"299.6211\" y2=\"299.6211\"/></g></a><!--MD5=[ebbe1d658d1005bcc118a6aa81145e00]\n",
       "class E4--><a href=\"psysml:e635a5c6-3beb-4752-b222-c3e3050d5c3a\" target=\"_top\" title=\"psysml:e635a5c6-3beb-4752-b222-c3e3050d5c3a\" xlink:actuate=\"onRequest\" xlink:href=\"psysml:e635a5c6-3beb-4752-b222-c3e3050d5c3a\" xlink:show=\"new\" xlink:title=\"psysml:e635a5c6-3beb-4752-b222-c3e3050d5c3a\" xlink:type=\"simple\"><g id=\"elem_E4\"><rect fill=\"#FFFFFF\" height=\"48.6211\" id=\"E4\" rx=\"10\" ry=\"10\" style=\"stroke:#181818;stroke-width:0.5;\" width=\"99\" x=\"227.5\" y=\"41\"/><text fill=\"#000000\" font-family=\"sans-serif\" font-size=\"12\" font-style=\"italic\" lengthAdjust=\"spacing\" textLength=\"36\" x=\"259\" y=\"57.6016\">«part»</text><text fill=\"#000000\" font-family=\"sans-serif\" font-size=\"14\" lengthAdjust=\"spacing\" textLength=\"85\" x=\"230.5\" y=\"73.668\">oven1: Oven</text><line style=\"stroke:#181818;stroke-width:0.5;\" x1=\"228.5\" x2=\"325.5\" y1=\"81.6211\" y2=\"81.6211\"/></g></a><!--MD5=[270fce915f116d4de14055a7c1d9a0f3]\n",
       "class E5--><a href=\"psysml:2468b2e5-626d-45ed-aab5-de9dbfcb335b\" target=\"_top\" title=\"psysml:2468b2e5-626d-45ed-aab5-de9dbfcb335b\" xlink:actuate=\"onRequest\" xlink:href=\"psysml:2468b2e5-626d-45ed-aab5-de9dbfcb335b\" xlink:show=\"new\" xlink:title=\"psysml:2468b2e5-626d-45ed-aab5-de9dbfcb335b\" xlink:type=\"simple\"><g id=\"elem_E5\"><rect fill=\"#FFFFFF\" height=\"48.6211\" id=\"E5\" rx=\"10\" ry=\"10\" style=\"stroke:#181818;stroke-width:0.5;\" width=\"90\" x=\"258\" y=\"150\"/><text fill=\"#000000\" font-family=\"sans-serif\" font-size=\"12\" font-style=\"italic\" lengthAdjust=\"spacing\" textLength=\"36\" x=\"285\" y=\"166.6016\">«part»</text><text fill=\"#000000\" font-family=\"sans-serif\" font-size=\"14\" lengthAdjust=\"spacing\" textLength=\"76\" x=\"261\" y=\"182.668\">racks: Rack</text><line style=\"stroke:#181818;stroke-width:0.5;\" x1=\"259\" x2=\"347\" y1=\"190.6211\" y2=\"190.6211\"/></g></a><!--MD5=[60a26617385b1d2d0262a64233df1f8d]\n",
       "class E6--><a href=\"psysml:c1a3b008-8115-43f3-862b-781560f7a45b\" target=\"_top\" title=\"psysml:c1a3b008-8115-43f3-862b-781560f7a45b\" xlink:actuate=\"onRequest\" xlink:href=\"psysml:c1a3b008-8115-43f3-862b-781560f7a45b\" xlink:show=\"new\" xlink:title=\"psysml:c1a3b008-8115-43f3-862b-781560f7a45b\" xlink:type=\"simple\"><g id=\"elem_E6\"><rect fill=\"#FFFFFF\" height=\"48.6211\" id=\"E6\" rx=\"10\" ry=\"10\" style=\"stroke:#181818;stroke-width:0.5;\" width=\"99\" x=\"73.5\" y=\"41\"/><text fill=\"#000000\" font-family=\"sans-serif\" font-size=\"12\" font-style=\"italic\" lengthAdjust=\"spacing\" textLength=\"36\" x=\"105\" y=\"57.6016\">«part»</text><text fill=\"#000000\" font-family=\"sans-serif\" font-size=\"14\" lengthAdjust=\"spacing\" textLength=\"85\" x=\"76.5\" y=\"73.668\">oven2: Oven</text><line style=\"stroke:#181818;stroke-width:0.5;\" x1=\"74.5\" x2=\"171.5\" y1=\"81.6211\" y2=\"81.6211\"/></g></a><!--MD5=[2156ba9850f5573cc1fc38a6a4b2f02b]\n",
       "class E7--><a href=\"psysml:cfb74b88-ab52-40ef-82ef-3abf79ff5a9d\" target=\"_top\" title=\"psysml:cfb74b88-ab52-40ef-82ef-3abf79ff5a9d\" xlink:actuate=\"onRequest\" xlink:href=\"psysml:cfb74b88-ab52-40ef-82ef-3abf79ff5a9d\" xlink:show=\"new\" xlink:title=\"psysml:cfb74b88-ab52-40ef-82ef-3abf79ff5a9d\" xlink:type=\"simple\"><g id=\"elem_E7\"><rect fill=\"#FFFFFF\" height=\"48.6211\" id=\"E7\" rx=\"10\" ry=\"10\" style=\"stroke:#181818;stroke-width:0.5;\" width=\"90\" x=\"32\" y=\"150\"/><text fill=\"#000000\" font-family=\"sans-serif\" font-size=\"12\" font-style=\"italic\" lengthAdjust=\"spacing\" textLength=\"36\" x=\"59\" y=\"166.6016\">«part»</text><text fill=\"#000000\" font-family=\"sans-serif\" font-size=\"14\" lengthAdjust=\"spacing\" textLength=\"76\" x=\"35\" y=\"182.668\">racks: Rack</text><line style=\"stroke:#181818;stroke-width:0.5;\" x1=\"33\" x2=\"121\" y1=\"190.6211\" y2=\"190.6211\"/></g></a><!--MD5=[185131fc0dcab0a4505a2ebe144e961b]\n",
       "link E4 to E2--><g id=\"link_E4_E2\"><a href=\"psysml:473942eb-f945-438f-8775-c60c903af8dd\" target=\"_top\" title=\"psysml:473942eb-f945-438f-8775-c60c903af8dd\" xlink:actuate=\"onRequest\" xlink:href=\"psysml:473942eb-f945-438f-8775-c60c903af8dd\" xlink:show=\"new\" xlink:title=\"psysml:473942eb-f945-438f-8775-c60c903af8dd\" xlink:type=\"simple\"><path d=\"M257.69,90.25 C247.22,103.13 234,119.39 222.03,134.11 \" fill=\"none\" id=\"E4-to-E2\" style=\"stroke:#181818;stroke-width:1.0;\"/><polygon fill=\"#FFFFFF\" points=\"209.25,149.82,215.8051,130.662,226.6676,139.494,209.25,149.82\" style=\"stroke:#181818;stroke-width:1.0;\"/><ellipse cx=\"220.9528\" cy=\"127.5011\" fill=\"#181818\" rx=\"2\" ry=\"2\" style=\"stroke:#181818;stroke-width:1.0;\"/><ellipse cx=\"228.7118\" cy=\"133.8097\" fill=\"#181818\" rx=\"2\" ry=\"2\" style=\"stroke:#181818;stroke-width:1.0;\"/></a></g><!--MD5=[62aa6af11e70f752912c1cb0466f24f7]\n",
       "reverse link E4 to E5--><g id=\"link_E4_E5\"><a href=\"psysml:653ad562-8783-49ef-ab5a-251c40d3e71a\" target=\"_top\" title=\"psysml:653ad562-8783-49ef-ab5a-251c40d3e71a\" xlink:actuate=\"onRequest\" xlink:href=\"psysml:653ad562-8783-49ef-ab5a-251c40d3e71a\" xlink:show=\"new\" xlink:title=\"psysml:653ad562-8783-49ef-ab5a-251c40d3e71a\" xlink:type=\"simple\"><path d=\"M285.9,103.13 C289.66,118.58 293.92,136.12 297.25,149.82 \" fill=\"none\" id=\"E4-backto-E5\" style=\"stroke:#181818;stroke-width:1.0;\"/><polygon fill=\"#181818\" points=\"282.77,90.25,280.3012,97.0253,285.6059,101.9101,288.0746,95.1348,282.77,90.25\" style=\"stroke:#181818;stroke-width:1.0;\"/><text fill=\"#000000\" font-family=\"sans-serif\" font-size=\"13\" lengthAdjust=\"spacing\" textLength=\"8\" x=\"286.7516\" y=\"139.2306\">2</text></a></g><!--MD5=[e9be52314489bd878ff4c7144b63c9e1]\n",
       "link E5 to E3--><g id=\"link_E5_E3\"><a href=\"psysml:8ed939d4-738e-4de7-b06b-eb721674074c\" target=\"_top\" title=\"psysml:8ed939d4-738e-4de7-b06b-eb721674074c\" xlink:actuate=\"onRequest\" xlink:href=\"psysml:8ed939d4-738e-4de7-b06b-eb721674074c\" xlink:show=\"new\" xlink:title=\"psysml:8ed939d4-738e-4de7-b06b-eb721674074c\" xlink:type=\"simple\"><path d=\"M277.92,199.25 C263.73,212.68 245.66,229.79 229.6,245 \" fill=\"none\" id=\"E5-to-E3\" style=\"stroke:#181818;stroke-width:1.0;\"/><polygon fill=\"#FFFFFF\" points=\"215.01,258.82,223.9938,240.6736,233.6195,250.8396,215.01,258.82\" style=\"stroke:#181818;stroke-width:1.0;\"/><ellipse cx=\"229.5079\" cy=\"238.2069\" fill=\"#181818\" rx=\"2\" ry=\"2\" style=\"stroke:#181818;stroke-width:1.0;\"/><ellipse cx=\"236.3834\" cy=\"245.4683\" fill=\"#181818\" rx=\"2\" ry=\"2\" style=\"stroke:#181818;stroke-width:1.0;\"/></a></g><!--MD5=[2351f337d6de0f557b50152ba70847b5]\n",
       "link E6 to E2--><g id=\"link_E6_E2\"><a href=\"psysml:8ad1f8d4-a04d-4487-a72e-7b9789f12757\" target=\"_top\" title=\"psysml:8ad1f8d4-a04d-4487-a72e-7b9789f12757\" xlink:actuate=\"onRequest\" xlink:href=\"psysml:8ad1f8d4-a04d-4487-a72e-7b9789f12757\" xlink:show=\"new\" xlink:title=\"psysml:8ad1f8d4-a04d-4487-a72e-7b9789f12757\" xlink:type=\"simple\"><path d=\"M137.87,90.25 C145.68,102.71 155.46,118.34 164.44,132.68 \" fill=\"none\" id=\"E6-to-E2\" style=\"stroke:#181818;stroke-width:1.0;\"/><polygon fill=\"#FFFFFF\" points=\"175.17,149.82,159.1556,137.4289,171.0225,130.0009,175.17,149.82\" style=\"stroke:#181818;stroke-width:1.0;\"/><ellipse cx=\"157.8266\" cy=\"131.5362\" fill=\"#181818\" rx=\"2\" ry=\"2\" style=\"stroke:#181818;stroke-width:1.0;\"/><ellipse cx=\"166.3029\" cy=\"126.2305\" fill=\"#181818\" rx=\"2\" ry=\"2\" style=\"stroke:#181818;stroke-width:1.0;\"/></a></g><!--MD5=[3f50a3473f1dfb74d3f76443e03635af]\n",
       "reverse link E6 to E7--><g id=\"link_E6_E7\"><a href=\"psysml:fb74ac64-9b8c-42e1-900a-1049c3ae620f\" target=\"_top\" title=\"psysml:fb74ac64-9b8c-42e1-900a-1049c3ae620f\" xlink:actuate=\"onRequest\" xlink:href=\"psysml:fb74ac64-9b8c-42e1-900a-1049c3ae620f\" xlink:show=\"new\" xlink:title=\"psysml:fb74ac64-9b8c-42e1-900a-1049c3ae620f\" xlink:type=\"simple\"><path d=\"M107.65,102.2 C100.92,117.87 93.19,135.84 87.18,149.82 \" fill=\"none\" id=\"E6-backto-E7\" style=\"stroke:#181818;stroke-width:1.0;\"/><polygon fill=\"#181818\" points=\"112.79,90.25,106.7431,94.1787,108.0439,101.2715,114.0908,97.3428,112.79,90.25\" style=\"stroke:#181818;stroke-width:1.0;\"/><text fill=\"#000000\" font-family=\"sans-serif\" font-size=\"13\" lengthAdjust=\"spacing\" textLength=\"24\" x=\"62.7136\" y=\"139.2306\">1..3</text></a></g><!--MD5=[14ccda38c055a5c0da953d572bc50960]\n",
       "link E7 to E3--><g id=\"link_E7_E3\"><a href=\"psysml:7de7f136-fa3a-44cd-bc56-fe5475f496dc\" target=\"_top\" title=\"psysml:7de7f136-fa3a-44cd-bc56-fe5475f496dc\" xlink:actuate=\"onRequest\" xlink:href=\"psysml:7de7f136-fa3a-44cd-bc56-fe5475f496dc\" xlink:show=\"new\" xlink:title=\"psysml:7de7f136-fa3a-44cd-bc56-fe5475f496dc\" xlink:type=\"simple\"><path d=\"M102.08,199.25 C116.27,212.68 134.34,229.79 150.4,245 \" fill=\"none\" id=\"E7-to-E3\" style=\"stroke:#181818;stroke-width:1.0;\"/><polygon fill=\"#FFFFFF\" points=\"164.99,258.82,146.3805,250.8396,156.0062,240.6736,164.99,258.82\" style=\"stroke:#181818;stroke-width:1.0;\"/><ellipse cx=\"143.6166\" cy=\"245.4683\" fill=\"#181818\" rx=\"2\" ry=\"2\" style=\"stroke:#181818;stroke-width:1.0;\"/><ellipse cx=\"150.4921\" cy=\"238.2069\" fill=\"#181818\" rx=\"2\" ry=\"2\" style=\"stroke:#181818;stroke-width:1.0;\"/></a></g><!--MD5=[c50ab68ba8284b3e5bd705bee2edc1ce]\n",
       "@startuml\r\n",
       "skin sysmlbw\r\n",
       "skinparam monochrome true\r\n",
       "skinparam wrapWidth 300\r\n",
       "hide circle\r\n",
       "\r\n",
       "package \"Multiplicity\" as E1  [[psysml:965f5eda-e549-480a-bbf5-ab5aa071c65b ]]  {\r\n",
       "comp def \"Oven\" as E2  <<(T,blue) part  def>> [[psysml:02922a16-4bcc-409e-932d-3de8d6f7cc8f ]] {\r\n",
       "}\r\n",
       "comp def \"Rack\" as E3  <<(T,blue) part  def>> [[psysml:590236cc-2456-41a6-b57d-628a531ea7cd ]] {\r\n",
       "}\r\n",
       "comp usage \"oven1: Oven  \" as E4  <<(T,blue) part>> [[psysml:e635a5c6-3beb-4752-b222-c3e3050d5c3a ]] {\r\n",
       "}\r\n",
       "comp usage \"racks: Rack  \" as E5  <<(T,blue) part>> [[psysml:2468b2e5-626d-45ed-aab5-de9dbfcb335b ]] {\r\n",
       "}\r\n",
       "comp usage \"oven2: Oven  \" as E6  <<(T,blue) part>> [[psysml:c1a3b008-8115-43f3-862b-781560f7a45b ]] {\r\n",
       "}\r\n",
       "comp usage \"racks: Rack  \" as E7  <<(T,blue) part>> [[psysml:cfb74b88-ab52-40ef-82ef-3abf79ff5a9d ]] {\r\n",
       "}\r\n",
       "}\r\n",
       "E4 - -:|> E2 [[psysml:473942eb-f945-438f-8775-c60c903af8dd ]] \r\n",
       "E4 *- - \"2\"E5 [[psysml:653ad562-8783-49ef-ab5a-251c40d3e71a ]] \r\n",
       "E5 - -:|> E3 [[psysml:8ed939d4-738e-4de7-b06b-eb721674074c ]] \r\n",
       "E6 - -:|> E2 [[psysml:8ad1f8d4-a04d-4487-a72e-7b9789f12757 ]] \r\n",
       "E6 *- - \"1..3\"E7 [[psysml:fb74ac64-9b8c-42e1-900a-1049c3ae620f ]] \r\n",
       "E7 - -:|> E3 [[psysml:7de7f136-fa3a-44cd-bc56-fe5475f496dc ]] \r\n",
       "@enduml\r\n",
       "\n",
       "PlantUML version 1.2022.7(Mon Aug 22 11:01:30 MDT 2022)\n",
       "(EPL source distribution)\n",
       "Java Runtime: OpenJDK Runtime Environment\n",
       "JVM: OpenJDK 64-Bit Server VM\n",
       "Default Encoding: UTF-8\n",
       "Language: en\n",
       "Country: US\n",
       "--></g></svg>"
      ]
     },
     "execution_count": 4,
     "metadata": {},
     "output_type": "execute_result"
    }
   ],
   "source": [
    "%viz --view=default Multiplicity"
   ]
  },
  {
   "cell_type": "markdown",
   "id": "7955c261",
   "metadata": {},
   "source": [
    "## 02-03 Usage & Memberships\n"
   ]
  },
  {
   "cell_type": "markdown",
   "id": "91b1dad5",
   "metadata": {},
   "source": [
    "### CompositeUsage.sysml\n",
    "The oven examples above have been examples of **Composite Usage**.\n",
    "- Models parts that are integral to structure of containing part\n",
    "- Composite Usage denoted via black diamond"
   ]
  },
  {
   "cell_type": "code",
   "execution_count": 6,
   "id": "e45ead3d",
   "metadata": {},
   "outputs": [
    {
     "data": {
      "text/plain": [
       "Package CompositeUsage (9b314b0f-29e8-4cab-a506-cdad3b656bfc)\n"
      ]
     },
     "execution_count": 6,
     "metadata": {},
     "output_type": "execute_result"
    }
   ],
   "source": [
    "package CompositeUsage{\n",
    "    private import SI::PowerUnit;\n",
    "    private import ScalarValues::Integer;\n",
    "\n",
    "    part def Oven {\n",
    "        attribute wattage: PowerUnit;\n",
    "        attribute rackCount: Integer;\n",
    "    }\n",
    "\n",
    "    part def Rack;\n",
    "\n",
    "    part testOven: Oven {\n",
    "        part racks[2]: Rack;    // Element defined as \"racks\" are integral to the part test oven\n",
    "    }\n",
    "}"
   ]
  },
  {
   "cell_type": "code",
   "execution_count": 7,
   "id": "d424fa7f",
   "metadata": {},
   "outputs": [
    {
     "data": {
      "image/svg+xml": [
       "<?xml version=\"1.0\" encoding=\"UTF-8\" standalone=\"no\"?><svg xmlns=\"http://www.w3.org/2000/svg\" xmlns:xlink=\"http://www.w3.org/1999/xlink\" contentStyleType=\"text/css\" height=\"374px\" preserveAspectRatio=\"none\" style=\"width:334px;height:374px;background:#FFFFFF;\" version=\"1.1\" viewBox=\"0 0 334 374\" width=\"334px\" zoomAndPan=\"magnify\"><defs/><g><!--MD5=[fbc87193dbaf4d95561dea2c320d4a47]\n",
       "cluster E1--><g id=\"cluster_E1\"><a href=\"psysml:9b314b0f-29e8-4cab-a506-cdad3b656bfc\" target=\"_top\" title=\"psysml:9b314b0f-29e8-4cab-a506-cdad3b656bfc\" xlink:actuate=\"onRequest\" xlink:href=\"psysml:9b314b0f-29e8-4cab-a506-cdad3b656bfc\" xlink:show=\"new\" xlink:title=\"psysml:9b314b0f-29e8-4cab-a506-cdad3b656bfc\" xlink:type=\"simple\"><polygon fill=\"none\" points=\"16,6,143,6,150,28.4883,317,28.4883,317,367,16,367,16,6\" style=\"stroke:#000000;stroke-width:1.5;\"/><line style=\"stroke:#000000;stroke-width:1.5;\" x1=\"16\" x2=\"150\" y1=\"28.4883\" y2=\"28.4883\"/><text fill=\"#000000\" font-family=\"sans-serif\" font-size=\"14\" font-weight=\"bold\" lengthAdjust=\"spacing\" textLength=\"121\" x=\"20\" y=\"21.5352\">CompositeUsage</text></a></g><!--MD5=[b4997ac47864f28c2f74865a473b2911]\n",
       "class E2--><a href=\"psysml:1bd6cc0a-0075-498c-a567-26f3357bf698\" target=\"_top\" title=\"psysml:1bd6cc0a-0075-498c-a567-26f3357bf698\" xlink:actuate=\"onRequest\" xlink:href=\"psysml:1bd6cc0a-0075-498c-a567-26f3357bf698\" xlink:show=\"new\" xlink:title=\"psysml:1bd6cc0a-0075-498c-a567-26f3357bf698\" xlink:type=\"simple\"><g id=\"elem_E2\"><rect fill=\"#FFFFFF\" height=\"92.193\" id=\"E2\" style=\"stroke:#181818;stroke-width:0.5;\" width=\"144\" x=\"32\" y=\"150\"/><text fill=\"#000000\" font-family=\"sans-serif\" font-size=\"12\" font-style=\"italic\" lengthAdjust=\"spacing\" textLength=\"63\" x=\"72.5\" y=\"166.6016\">«part  def»</text><text fill=\"#000000\" font-family=\"sans-serif\" font-size=\"14\" lengthAdjust=\"spacing\" textLength=\"35\" x=\"86.5\" y=\"182.668\">Oven</text><line style=\"stroke:#181818;stroke-width:0.5;\" x1=\"33\" x2=\"175\" y1=\"190.6211\" y2=\"190.6211\"/><text fill=\"#000000\" font-family=\"sans-serif\" font-size=\"14\" lengthAdjust=\"spacing\" textLength=\"128\" x=\"38\" y=\"218.7516\">rackCount: Integer</text><text fill=\"#000000\" font-family=\"sans-serif\" font-size=\"14\" lengthAdjust=\"spacing\" textLength=\"132\" x=\"38\" y=\"235.2398\">wattage: PowerUnit</text><text fill=\"#000000\" font-family=\"sans-serif\" font-size=\"14\" font-style=\"italic\" lengthAdjust=\"spacing\" textLength=\"66\" x=\"71\" y=\"203.4121\">attributes</text></g></a><!--MD5=[09b614a08d8cba4a07c9adeb5e0fee81]\n",
       "class E3--><a href=\"psysml:861c562e-684c-4866-9d01-9289c75f406d\" target=\"_top\" title=\"psysml:861c562e-684c-4866-9d01-9289c75f406d\" xlink:actuate=\"onRequest\" xlink:href=\"psysml:861c562e-684c-4866-9d01-9289c75f406d\" xlink:show=\"new\" xlink:title=\"psysml:861c562e-684c-4866-9d01-9289c75f406d\" xlink:type=\"simple\"><g id=\"elem_E3\"><rect fill=\"#FFFFFF\" height=\"48.6211\" id=\"E3\" style=\"stroke:#181818;stroke-width:0.5;\" width=\"65\" x=\"223.5\" y=\"302\"/><text fill=\"#000000\" font-family=\"sans-serif\" font-size=\"12\" font-style=\"italic\" lengthAdjust=\"spacing\" textLength=\"63\" x=\"224.5\" y=\"318.6016\">«part  def»</text><text fill=\"#000000\" font-family=\"sans-serif\" font-size=\"14\" lengthAdjust=\"spacing\" textLength=\"32\" x=\"240\" y=\"334.668\">Rack</text><line style=\"stroke:#181818;stroke-width:0.5;\" x1=\"224.5\" x2=\"287.5\" y1=\"342.6211\" y2=\"342.6211\"/></g></a><!--MD5=[ebbe1d658d1005bcc118a6aa81145e00]\n",
       "class E4--><a href=\"psysml:6ceda14c-2281-4608-97ce-3f8481a60d3a\" target=\"_top\" title=\"psysml:6ceda14c-2281-4608-97ce-3f8481a60d3a\" xlink:actuate=\"onRequest\" xlink:href=\"psysml:6ceda14c-2281-4608-97ce-3f8481a60d3a\" xlink:show=\"new\" xlink:title=\"psysml:6ceda14c-2281-4608-97ce-3f8481a60d3a\" xlink:type=\"simple\"><g id=\"elem_E4\"><rect fill=\"#FFFFFF\" height=\"48.6211\" id=\"E4\" rx=\"10\" ry=\"10\" style=\"stroke:#181818;stroke-width:0.5;\" width=\"117\" x=\"114.5\" y=\"41\"/><text fill=\"#000000\" font-family=\"sans-serif\" font-size=\"12\" font-style=\"italic\" lengthAdjust=\"spacing\" textLength=\"36\" x=\"155\" y=\"57.6016\">«part»</text><text fill=\"#000000\" font-family=\"sans-serif\" font-size=\"14\" lengthAdjust=\"spacing\" textLength=\"103\" x=\"117.5\" y=\"73.668\">testOven: Oven</text><line style=\"stroke:#181818;stroke-width:0.5;\" x1=\"115.5\" x2=\"230.5\" y1=\"81.6211\" y2=\"81.6211\"/></g></a><!--MD5=[270fce915f116d4de14055a7c1d9a0f3]\n",
       "class E5--><a href=\"psysml:9dd08f85-915c-4449-88c8-e6ebc6ef76c3\" target=\"_top\" title=\"psysml:9dd08f85-915c-4449-88c8-e6ebc6ef76c3\" xlink:actuate=\"onRequest\" xlink:href=\"psysml:9dd08f85-915c-4449-88c8-e6ebc6ef76c3\" xlink:show=\"new\" xlink:title=\"psysml:9dd08f85-915c-4449-88c8-e6ebc6ef76c3\" xlink:type=\"simple\"><g id=\"elem_E5\"><rect fill=\"#FFFFFF\" height=\"48.6211\" id=\"E5\" rx=\"10\" ry=\"10\" style=\"stroke:#181818;stroke-width:0.5;\" width=\"90\" x=\"211\" y=\"171.5\"/><text fill=\"#000000\" font-family=\"sans-serif\" font-size=\"12\" font-style=\"italic\" lengthAdjust=\"spacing\" textLength=\"36\" x=\"238\" y=\"188.1016\">«part»</text><text fill=\"#000000\" font-family=\"sans-serif\" font-size=\"14\" lengthAdjust=\"spacing\" textLength=\"76\" x=\"214\" y=\"204.168\">racks: Rack</text><line style=\"stroke:#181818;stroke-width:0.5;\" x1=\"212\" x2=\"300\" y1=\"212.1211\" y2=\"212.1211\"/></g></a><!--MD5=[185131fc0dcab0a4505a2ebe144e961b]\n",
       "link E4 to E2--><g id=\"link_E4_E2\"><a href=\"psysml:c7ef64b1-5c16-452a-9f2a-bf3d956413e6\" target=\"_top\" title=\"psysml:c7ef64b1-5c16-452a-9f2a-bf3d956413e6\" xlink:actuate=\"onRequest\" xlink:href=\"psysml:c7ef64b1-5c16-452a-9f2a-bf3d956413e6\" xlink:show=\"new\" xlink:title=\"psysml:c7ef64b1-5c16-452a-9f2a-bf3d956413e6\" xlink:type=\"simple\"><path d=\"M160.34,90.07 C153.95,101.97 145.87,117.03 137.83,132 \" fill=\"none\" id=\"E4-to-E2\" style=\"stroke:#181818;stroke-width:1.0;\"/><polygon fill=\"#FFFFFF\" points=\"128.16,150,130.9803,129.9489,143.315,136.5714,128.16,150\" style=\"stroke:#181818;stroke-width:1.0;\"/><ellipse cx=\"135.4387\" cy=\"125.873\" fill=\"#181818\" rx=\"2\" ry=\"2\" style=\"stroke:#181818;stroke-width:1.0;\"/><ellipse cx=\"144.2492\" cy=\"130.6034\" fill=\"#181818\" rx=\"2\" ry=\"2\" style=\"stroke:#181818;stroke-width:1.0;\"/></a></g><!--MD5=[62aa6af11e70f752912c1cb0466f24f7]\n",
       "reverse link E4 to E5--><g id=\"link_E4_E5\"><a href=\"psysml:dd6728a9-d791-4d44-ae52-1629b8608045\" target=\"_top\" title=\"psysml:dd6728a9-d791-4d44-ae52-1629b8608045\" xlink:actuate=\"onRequest\" xlink:href=\"psysml:dd6728a9-d791-4d44-ae52-1629b8608045\" xlink:show=\"new\" xlink:title=\"psysml:dd6728a9-d791-4d44-ae52-1629b8608045\" xlink:type=\"simple\"><path d=\"M195.31,101.04 C209.63,123.21 227.87,151.44 240.59,171.15 \" fill=\"none\" id=\"E4-backto-E5\" style=\"stroke:#181818;stroke-width:1.0;\"/><polygon fill=\"#181818\" points=\"188.22,90.07,188.1146,97.2803,194.7297,100.1508,194.8351,92.9405,188.22,90.07\" style=\"stroke:#181818;stroke-width:1.0;\"/><text fill=\"#000000\" font-family=\"sans-serif\" font-size=\"13\" lengthAdjust=\"spacing\" textLength=\"8\" x=\"227.8588\" y=\"160.9171\">2</text></a></g><!--MD5=[e9be52314489bd878ff4c7144b63c9e1]\n",
       "link E5 to E3--><g id=\"link_E5_E3\"><a href=\"psysml:09a4b501-327f-469d-916f-ce51a1295de6\" target=\"_top\" title=\"psysml:09a4b501-327f-469d-916f-ce51a1295de6\" xlink:actuate=\"onRequest\" xlink:href=\"psysml:09a4b501-327f-469d-916f-ce51a1295de6\" xlink:show=\"new\" xlink:title=\"psysml:09a4b501-327f-469d-916f-ce51a1295de6\" xlink:type=\"simple\"><path d=\"M256,220.57 C256,237.58 256,261.05 256,281.49 \" fill=\"none\" id=\"E5-to-E3\" style=\"stroke:#181818;stroke-width:1.0;\"/><polygon fill=\"#FFFFFF\" points=\"256,301.65,249,282.65,263,282.65,256,301.65\" style=\"stroke:#181818;stroke-width:1.0;\"/><ellipse cx=\"251\" cy=\"276.95\" fill=\"#181818\" rx=\"2\" ry=\"2\" style=\"stroke:#181818;stroke-width:1.0;\"/><ellipse cx=\"261\" cy=\"276.95\" fill=\"#181818\" rx=\"2\" ry=\"2\" style=\"stroke:#181818;stroke-width:1.0;\"/></a></g><!--MD5=[3460b01df5b8d80810de56b4216d33f7]\n",
       "@startuml\r\n",
       "skin sysmlbw\r\n",
       "skinparam monochrome true\r\n",
       "skinparam wrapWidth 300\r\n",
       "hide circle\r\n",
       "\r\n",
       "package \"CompositeUsage\" as E1  [[psysml:9b314b0f-29e8-4cab-a506-cdad3b656bfc ]]  {\r\n",
       "comp def \"Oven\" as E2  <<(T,blue) part  def>> [[psysml:1bd6cc0a-0075-498c-a567-26f3357bf698 ]] {\r\n",
       "##//attributes//##\r\n",
       "rackCount: Integer\r\n",
       "wattage: PowerUnit\r\n",
       "}\r\n",
       "comp def \"Rack\" as E3  <<(T,blue) part  def>> [[psysml:861c562e-684c-4866-9d01-9289c75f406d ]] {\r\n",
       "}\r\n",
       "comp usage \"testOven: Oven  \" as E4  <<(T,blue) part>> [[psysml:6ceda14c-2281-4608-97ce-3f8481a60d3a ]] {\r\n",
       "}\r\n",
       "comp usage \"racks: Rack  \" as E5  <<(T,blue) part>> [[psysml:9dd08f85-915c-4449-88c8-e6ebc6ef76c3 ]] {\r\n",
       "}\r\n",
       "}\r\n",
       "E4 - -:|> E2 [[psysml:c7ef64b1-5c16-452a-9f2a-bf3d956413e6 ]] \r\n",
       "E4 *- - \"2\"E5 [[psysml:dd6728a9-d791-4d44-ae52-1629b8608045 ]] \r\n",
       "E5 - -:|> E3 [[psysml:09a4b501-327f-469d-916f-ce51a1295de6 ]] \r\n",
       "@enduml\r\n",
       "\n",
       "PlantUML version 1.2022.7(Mon Aug 22 11:01:30 MDT 2022)\n",
       "(EPL source distribution)\n",
       "Java Runtime: OpenJDK Runtime Environment\n",
       "JVM: OpenJDK 64-Bit Server VM\n",
       "Default Encoding: UTF-8\n",
       "Language: en\n",
       "Country: US\n",
       "--></g></svg>"
      ]
     },
     "execution_count": 7,
     "metadata": {},
     "output_type": "execute_result"
    }
   ],
   "source": [
    "%viz --view=default CompositeUsage"
   ]
  },
  {
   "cell_type": "markdown",
   "id": "0cab4ba4",
   "metadata": {},
   "source": [
    "### ReferenceUsage.sysml\n",
    "Reference Usage\n",
    "- Usage in which an instance refers to another instance\n",
    "- NON-COMPOSITIONAL USAGE\n",
    "    - Refers to a part but is not a component of it.\n",
    "- Open diamond head"
   ]
  },
  {
   "cell_type": "code",
   "execution_count": 8,
   "id": "7b9c05fb",
   "metadata": {},
   "outputs": [
    {
     "data": {
      "text/plain": [
       "Package ReferenceUsage (d314a4c1-bf28-4e1d-93e0-7f9d0b21a17d)\n"
      ]
     },
     "execution_count": 8,
     "metadata": {},
     "output_type": "execute_result"
    }
   ],
   "source": [
    "package ReferenceUsage{\n",
    "    part def Oven;\n",
    "    part def Building;\n",
    "\n",
    "    part testOven: Oven{\n",
    "        ref building: Building; // ref is technically an optional keyword but just include it for clarity\n",
    "    }\n",
    "}"
   ]
  },
  {
   "cell_type": "code",
   "execution_count": 9,
   "id": "ea8ecea3",
   "metadata": {},
   "outputs": [
    {
     "data": {
      "image/svg+xml": [
       "<?xml version=\"1.0\" encoding=\"UTF-8\" standalone=\"no\"?><svg xmlns=\"http://www.w3.org/2000/svg\" xmlns:xlink=\"http://www.w3.org/1999/xlink\" contentStyleType=\"text/css\" height=\"239px\" preserveAspectRatio=\"none\" style=\"width:231px;height:239px;background:#FFFFFF;\" version=\"1.1\" viewBox=\"0 0 231 239\" width=\"231px\" zoomAndPan=\"magnify\"><defs/><g><!--MD5=[fbc87193dbaf4d95561dea2c320d4a47]\n",
       "cluster E1--><g id=\"cluster_E1\"><a href=\"psysml:d314a4c1-bf28-4e1d-93e0-7f9d0b21a17d\" target=\"_top\" title=\"psysml:d314a4c1-bf28-4e1d-93e0-7f9d0b21a17d\" xlink:actuate=\"onRequest\" xlink:href=\"psysml:d314a4c1-bf28-4e1d-93e0-7f9d0b21a17d\" xlink:show=\"new\" xlink:title=\"psysml:d314a4c1-bf28-4e1d-93e0-7f9d0b21a17d\" xlink:type=\"simple\"><polygon fill=\"none\" points=\"16,6,135,6,142,28.4883,214,28.4883,214,232,16,232,16,6\" style=\"stroke:#000000;stroke-width:1.5;\"/><line style=\"stroke:#000000;stroke-width:1.5;\" x1=\"16\" x2=\"142\" y1=\"28.4883\" y2=\"28.4883\"/><text fill=\"#000000\" font-family=\"sans-serif\" font-size=\"14\" font-weight=\"bold\" lengthAdjust=\"spacing\" textLength=\"113\" x=\"20\" y=\"21.5352\">ReferenceUsage</text></a></g><!--MD5=[b4997ac47864f28c2f74865a473b2911]\n",
       "class E2--><a href=\"psysml:6f0a6a8f-1c21-41f2-9860-c0bd2b844603\" target=\"_top\" title=\"psysml:6f0a6a8f-1c21-41f2-9860-c0bd2b844603\" xlink:actuate=\"onRequest\" xlink:href=\"psysml:6f0a6a8f-1c21-41f2-9860-c0bd2b844603\" xlink:show=\"new\" xlink:title=\"psysml:6f0a6a8f-1c21-41f2-9860-c0bd2b844603\" xlink:type=\"simple\"><g id=\"elem_E2\"><rect fill=\"#FFFFFF\" height=\"48.6211\" id=\"E2\" style=\"stroke:#181818;stroke-width:0.5;\" width=\"65\" x=\"32.5\" y=\"167\"/><text fill=\"#000000\" font-family=\"sans-serif\" font-size=\"12\" font-style=\"italic\" lengthAdjust=\"spacing\" textLength=\"63\" x=\"33.5\" y=\"183.6016\">«part  def»</text><text fill=\"#000000\" font-family=\"sans-serif\" font-size=\"14\" lengthAdjust=\"spacing\" textLength=\"35\" x=\"47.5\" y=\"199.668\">Oven</text><line style=\"stroke:#181818;stroke-width:0.5;\" x1=\"33.5\" x2=\"96.5\" y1=\"207.6211\" y2=\"207.6211\"/></g></a><!--MD5=[09b614a08d8cba4a07c9adeb5e0fee81]\n",
       "class E3--><a href=\"psysml:d76bd5a7-5135-43e3-b0b8-7e853132d077\" target=\"_top\" title=\"psysml:d76bd5a7-5135-43e3-b0b8-7e853132d077\" xlink:actuate=\"onRequest\" xlink:href=\"psysml:d76bd5a7-5135-43e3-b0b8-7e853132d077\" xlink:show=\"new\" xlink:title=\"psysml:d76bd5a7-5135-43e3-b0b8-7e853132d077\" xlink:type=\"simple\"><g id=\"elem_E3\"><rect fill=\"#FFFFFF\" height=\"48.6211\" id=\"E3\" style=\"stroke:#181818;stroke-width:0.5;\" width=\"65\" x=\"132.5\" y=\"167\"/><text fill=\"#000000\" font-family=\"sans-serif\" font-size=\"12\" font-style=\"italic\" lengthAdjust=\"spacing\" textLength=\"63\" x=\"133.5\" y=\"183.6016\">«part  def»</text><text fill=\"#000000\" font-family=\"sans-serif\" font-size=\"14\" lengthAdjust=\"spacing\" textLength=\"56\" x=\"137\" y=\"199.668\">Building</text><line style=\"stroke:#181818;stroke-width:0.5;\" x1=\"133.5\" x2=\"196.5\" y1=\"207.6211\" y2=\"207.6211\"/></g></a><!--MD5=[ebbe1d658d1005bcc118a6aa81145e00]\n",
       "class E4--><a href=\"psysml:e7dc9476-5972-4303-a7be-ff8f4eaefca7\" target=\"_top\" title=\"psysml:e7dc9476-5972-4303-a7be-ff8f4eaefca7\" xlink:actuate=\"onRequest\" xlink:href=\"psysml:e7dc9476-5972-4303-a7be-ff8f4eaefca7\" xlink:show=\"new\" xlink:title=\"psysml:e7dc9476-5972-4303-a7be-ff8f4eaefca7\" xlink:type=\"simple\"><g id=\"elem_E4\"><rect fill=\"#FFFFFF\" height=\"48.6211\" id=\"E4\" rx=\"10\" ry=\"10\" style=\"stroke:#181818;stroke-width:0.5;\" width=\"117\" x=\"52.5\" y=\"41\"/><text fill=\"#000000\" font-family=\"sans-serif\" font-size=\"12\" font-style=\"italic\" lengthAdjust=\"spacing\" textLength=\"36\" x=\"93\" y=\"57.6016\">«part»</text><text fill=\"#000000\" font-family=\"sans-serif\" font-size=\"14\" lengthAdjust=\"spacing\" textLength=\"103\" x=\"55.5\" y=\"73.668\">testOven: Oven</text><line style=\"stroke:#181818;stroke-width:0.5;\" x1=\"53.5\" x2=\"168.5\" y1=\"81.6211\" y2=\"81.6211\"/></g></a><!--MD5=[185131fc0dcab0a4505a2ebe144e961b]\n",
       "link E4 to E2--><g id=\"link_E4_E2\"><a href=\"psysml:852b6770-23f3-425f-a253-7437e5a21156\" target=\"_top\" title=\"psysml:852b6770-23f3-425f-a253-7437e5a21156\" xlink:actuate=\"onRequest\" xlink:href=\"psysml:852b6770-23f3-425f-a253-7437e5a21156\" xlink:show=\"new\" xlink:title=\"psysml:852b6770-23f3-425f-a253-7437e5a21156\" xlink:type=\"simple\"><path d=\"M99.63,90.21 C95.41,99.41 90.75,110.1 87,120 C83.68,128.75 80.47,138.25 77.57,147.35 \" fill=\"none\" id=\"E4-to-E2\" style=\"stroke:#181818;stroke-width:1.0;\"/><polygon fill=\"#FFFFFF\" points=\"71.64,166.76,70.4958,146.5439,83.8851,150.6337,71.64,166.76\" style=\"stroke:#181818;stroke-width:1.0;\"/><ellipse cx=\"74.0737\" cy=\"141.6768\" fill=\"#181818\" rx=\"2\" ry=\"2\" style=\"stroke:#181818;stroke-width:1.0;\"/><ellipse cx=\"83.6375\" cy=\"144.5981\" fill=\"#181818\" rx=\"2\" ry=\"2\" style=\"stroke:#181818;stroke-width:1.0;\"/></a></g><!--MD5=[4735aefadfa2e5978451eb08fa1f3993]\n",
       "reverse link E4 to E3--><g id=\"link_E4_E3\"><a href=\"psysml:2bcefb28-372f-4471-b953-4eb5be074c7b\" target=\"_top\" title=\"psysml:2bcefb28-372f-4471-b953-4eb5be074c7b\" xlink:actuate=\"onRequest\" xlink:href=\"psysml:2bcefb28-372f-4471-b953-4eb5be074c7b\" xlink:show=\"new\" xlink:title=\"psysml:2bcefb28-372f-4471-b953-4eb5be074c7b\" xlink:type=\"simple\"><path d=\"M126.48,102.04 C135.55,122.88 146.77,148.64 154.75,166.97 \" fill=\"none\" id=\"E4-backto-E3\" style=\"stroke:#181818;stroke-width:1.0;\"/><polygon fill=\"none\" points=\"121.28,90.12,120.0038,97.2173,126.0642,101.1251,127.3405,94.0278,121.28,90.12\" style=\"stroke:#181818;stroke-width:1.0;\"/><text fill=\"#000000\" font-family=\"sans-serif\" font-size=\"13\" lengthAdjust=\"spacing\" textLength=\"52\" x=\"142\" y=\"133.5684\">building</text></a></g><!--MD5=[48dbfe5f543942f86df17f4684da5fa6]\n",
       "@startuml\r\n",
       "skin sysmlbw\r\n",
       "skinparam monochrome true\r\n",
       "skinparam wrapWidth 300\r\n",
       "hide circle\r\n",
       "\r\n",
       "package \"ReferenceUsage\" as E1  [[psysml:d314a4c1-bf28-4e1d-93e0-7f9d0b21a17d ]]  {\r\n",
       "comp def \"Oven\" as E2  <<(T,blue) part  def>> [[psysml:6f0a6a8f-1c21-41f2-9860-c0bd2b844603 ]] {\r\n",
       "}\r\n",
       "comp def \"Building\" as E3  <<(T,blue) part  def>> [[psysml:d76bd5a7-5135-43e3-b0b8-7e853132d077 ]] {\r\n",
       "}\r\n",
       "comp usage \"testOven: Oven  \" as E4  <<(T,blue) part>> [[psysml:e7dc9476-5972-4303-a7be-ff8f4eaefca7 ]] {\r\n",
       "}\r\n",
       "}\r\n",
       "E4 - -:|> E2 [[psysml:852b6770-23f3-425f-a253-7437e5a21156 ]] \r\n",
       "E4 o- - E3 [[psysml:2bcefb28-372f-4471-b953-4eb5be074c7b ]] : building\r\n",
       "@enduml\r\n",
       "\n",
       "PlantUML version 1.2022.7(Mon Aug 22 11:01:30 MDT 2022)\n",
       "(EPL source distribution)\n",
       "Java Runtime: OpenJDK Runtime Environment\n",
       "JVM: OpenJDK 64-Bit Server VM\n",
       "Default Encoding: UTF-8\n",
       "Language: en\n",
       "Country: US\n",
       "--></g></svg>"
      ]
     },
     "execution_count": 9,
     "metadata": {},
     "output_type": "execute_result"
    }
   ],
   "source": [
    "%viz --view=default ReferenceUsage"
   ]
  },
  {
   "cell_type": "markdown",
   "id": "4b339cda",
   "metadata": {},
   "source": [
    "### OwnedMembership.sysml\n",
    "Owned Membership\n",
    "- A part is owned by another part\n",
    "    - Part is defined within another part definition\n",
    "    - Part can only be accessed via the part that owns it\n",
    "        - If you want to use Y in model, you have to use X to access it\n",
    "- Owner has Circle with cross connecting"
   ]
  },
  {
   "cell_type": "code",
   "execution_count": 10,
   "id": "609f856d",
   "metadata": {},
   "outputs": [
    {
     "data": {
      "text/plain": [
       "Package OwnedMembership (48960063-f505-470d-9c34-08da16b817a8)\n"
      ]
     },
     "execution_count": 10,
     "metadata": {},
     "output_type": "execute_result"
    }
   ],
   "source": [
    "package OwnedMembership{\n",
    "    private import SI::PowerUnit;\n",
    "    private import ScalarValues::Integer;\n",
    "\n",
    "    part def Oven {\n",
    "        attribute wattage: PowerUnit;\n",
    "        attribute rackCount: Integer;\n",
    "\n",
    "        part def Rack;  // This time, we are defining the rack as belonging to the Oven\n",
    "    }\n",
    "\n",
    "    part testOven: Oven{\n",
    "        part racks[2]: Rack;\n",
    "    }\n",
    "}"
   ]
  },
  {
   "cell_type": "code",
   "execution_count": 11,
   "id": "2000e5c6",
   "metadata": {},
   "outputs": [
    {
     "data": {
      "image/svg+xml": [
       "<?xml version=\"1.0\" encoding=\"UTF-8\" standalone=\"no\"?><svg xmlns=\"http://www.w3.org/2000/svg\" xmlns:xlink=\"http://www.w3.org/1999/xlink\" contentStyleType=\"text/css\" height=\"374px\" preserveAspectRatio=\"none\" style=\"width:334px;height:374px;background:#FFFFFF;\" version=\"1.1\" viewBox=\"0 0 334 374\" width=\"334px\" zoomAndPan=\"magnify\"><defs/><g><!--MD5=[fbc87193dbaf4d95561dea2c320d4a47]\n",
       "cluster E1--><g id=\"cluster_E1\"><a href=\"psysml:48960063-f505-470d-9c34-08da16b817a8\" target=\"_top\" title=\"psysml:48960063-f505-470d-9c34-08da16b817a8\" xlink:actuate=\"onRequest\" xlink:href=\"psysml:48960063-f505-470d-9c34-08da16b817a8\" xlink:show=\"new\" xlink:title=\"psysml:48960063-f505-470d-9c34-08da16b817a8\" xlink:type=\"simple\"><polygon fill=\"none\" points=\"16,6,161,6,168,28.4883,317,28.4883,317,367,16,367,16,6\" style=\"stroke:#000000;stroke-width:1.5;\"/><line style=\"stroke:#000000;stroke-width:1.5;\" x1=\"16\" x2=\"168\" y1=\"28.4883\" y2=\"28.4883\"/><text fill=\"#000000\" font-family=\"sans-serif\" font-size=\"14\" font-weight=\"bold\" lengthAdjust=\"spacing\" textLength=\"139\" x=\"20\" y=\"21.5352\">OwnedMembership</text></a></g><!--MD5=[b4997ac47864f28c2f74865a473b2911]\n",
       "class E2--><a href=\"psysml:6b991112-3151-4de0-86cf-c777c358ab32\" target=\"_top\" title=\"psysml:6b991112-3151-4de0-86cf-c777c358ab32\" xlink:actuate=\"onRequest\" xlink:href=\"psysml:6b991112-3151-4de0-86cf-c777c358ab32\" xlink:show=\"new\" xlink:title=\"psysml:6b991112-3151-4de0-86cf-c777c358ab32\" xlink:type=\"simple\"><g id=\"elem_E2\"><rect fill=\"#FFFFFF\" height=\"92.193\" id=\"E2\" style=\"stroke:#181818;stroke-width:0.5;\" width=\"144\" x=\"32\" y=\"150\"/><text fill=\"#000000\" font-family=\"sans-serif\" font-size=\"12\" font-style=\"italic\" lengthAdjust=\"spacing\" textLength=\"63\" x=\"72.5\" y=\"166.6016\">«part  def»</text><text fill=\"#000000\" font-family=\"sans-serif\" font-size=\"14\" lengthAdjust=\"spacing\" textLength=\"35\" x=\"86.5\" y=\"182.668\">Oven</text><line style=\"stroke:#181818;stroke-width:0.5;\" x1=\"33\" x2=\"175\" y1=\"190.6211\" y2=\"190.6211\"/><text fill=\"#000000\" font-family=\"sans-serif\" font-size=\"14\" lengthAdjust=\"spacing\" textLength=\"128\" x=\"38\" y=\"218.7516\">rackCount: Integer</text><text fill=\"#000000\" font-family=\"sans-serif\" font-size=\"14\" lengthAdjust=\"spacing\" textLength=\"132\" x=\"38\" y=\"235.2398\">wattage: PowerUnit</text><text fill=\"#000000\" font-family=\"sans-serif\" font-size=\"14\" font-style=\"italic\" lengthAdjust=\"spacing\" textLength=\"66\" x=\"71\" y=\"203.4121\">attributes</text></g></a><!--MD5=[09b614a08d8cba4a07c9adeb5e0fee81]\n",
       "class E3--><a href=\"psysml:39014c14-d117-4fca-9c0c-2f94cb6fd184\" target=\"_top\" title=\"psysml:39014c14-d117-4fca-9c0c-2f94cb6fd184\" xlink:actuate=\"onRequest\" xlink:href=\"psysml:39014c14-d117-4fca-9c0c-2f94cb6fd184\" xlink:show=\"new\" xlink:title=\"psysml:39014c14-d117-4fca-9c0c-2f94cb6fd184\" xlink:type=\"simple\"><g id=\"elem_E3\"><rect fill=\"#FFFFFF\" height=\"48.6211\" id=\"E3\" style=\"stroke:#181818;stroke-width:0.5;\" width=\"65\" x=\"147.5\" y=\"302\"/><text fill=\"#000000\" font-family=\"sans-serif\" font-size=\"12\" font-style=\"italic\" lengthAdjust=\"spacing\" textLength=\"63\" x=\"148.5\" y=\"318.6016\">«part  def»</text><text fill=\"#000000\" font-family=\"sans-serif\" font-size=\"14\" lengthAdjust=\"spacing\" textLength=\"32\" x=\"164\" y=\"334.668\">Rack</text><line style=\"stroke:#181818;stroke-width:0.5;\" x1=\"148.5\" x2=\"211.5\" y1=\"342.6211\" y2=\"342.6211\"/></g></a><!--MD5=[ebbe1d658d1005bcc118a6aa81145e00]\n",
       "class E4--><a href=\"psysml:b8d25b5d-1ae5-4c89-bf52-acf62c9445be\" target=\"_top\" title=\"psysml:b8d25b5d-1ae5-4c89-bf52-acf62c9445be\" xlink:actuate=\"onRequest\" xlink:href=\"psysml:b8d25b5d-1ae5-4c89-bf52-acf62c9445be\" xlink:show=\"new\" xlink:title=\"psysml:b8d25b5d-1ae5-4c89-bf52-acf62c9445be\" xlink:type=\"simple\"><g id=\"elem_E4\"><rect fill=\"#FFFFFF\" height=\"48.6211\" id=\"E4\" rx=\"10\" ry=\"10\" style=\"stroke:#181818;stroke-width:0.5;\" width=\"117\" x=\"114.5\" y=\"41\"/><text fill=\"#000000\" font-family=\"sans-serif\" font-size=\"12\" font-style=\"italic\" lengthAdjust=\"spacing\" textLength=\"36\" x=\"155\" y=\"57.6016\">«part»</text><text fill=\"#000000\" font-family=\"sans-serif\" font-size=\"14\" lengthAdjust=\"spacing\" textLength=\"103\" x=\"117.5\" y=\"73.668\">testOven: Oven</text><line style=\"stroke:#181818;stroke-width:0.5;\" x1=\"115.5\" x2=\"230.5\" y1=\"81.6211\" y2=\"81.6211\"/></g></a><!--MD5=[270fce915f116d4de14055a7c1d9a0f3]\n",
       "class E5--><a href=\"psysml:7e91c2fd-6d41-44f9-84eb-15dcad6d51f3\" target=\"_top\" title=\"psysml:7e91c2fd-6d41-44f9-84eb-15dcad6d51f3\" xlink:actuate=\"onRequest\" xlink:href=\"psysml:7e91c2fd-6d41-44f9-84eb-15dcad6d51f3\" xlink:show=\"new\" xlink:title=\"psysml:7e91c2fd-6d41-44f9-84eb-15dcad6d51f3\" xlink:type=\"simple\"><g id=\"elem_E5\"><rect fill=\"#FFFFFF\" height=\"48.6211\" id=\"E5\" rx=\"10\" ry=\"10\" style=\"stroke:#181818;stroke-width:0.5;\" width=\"90\" x=\"211\" y=\"171.5\"/><text fill=\"#000000\" font-family=\"sans-serif\" font-size=\"12\" font-style=\"italic\" lengthAdjust=\"spacing\" textLength=\"36\" x=\"238\" y=\"188.1016\">«part»</text><text fill=\"#000000\" font-family=\"sans-serif\" font-size=\"14\" lengthAdjust=\"spacing\" textLength=\"76\" x=\"214\" y=\"204.168\">racks: Rack</text><line style=\"stroke:#181818;stroke-width:0.5;\" x1=\"212\" x2=\"300\" y1=\"212.1211\" y2=\"212.1211\"/></g></a><!--MD5=[209b3feb70ccb6233bfe1053d122c12c]\n",
       "reverse link E2 to E3--><g id=\"link_E2_E3\"><a href=\"psysml:6258b72d-6559-4d7a-b91b-51e210771142\" target=\"_top\" title=\"psysml:6258b72d-6559-4d7a-b91b-51e210771142\" xlink:actuate=\"onRequest\" xlink:href=\"psysml:6258b72d-6559-4d7a-b91b-51e210771142\" xlink:show=\"new\" xlink:title=\"psysml:6258b72d-6559-4d7a-b91b-51e210771142\" xlink:type=\"simple\"><path d=\"M138.48,255.29 C148.2,271.74 158.24,288.7 166.01,301.84 \" fill=\"none\" id=\"E2-backto-E3\" style=\"stroke:#181818;stroke-width:1.0;\"/><ellipse cx=\"134.8645\" cy=\"249.1847\" fill=\"#FFFFFF\" rx=\"8\" ry=\"8\" style=\"stroke:#181818;stroke-width:1.0;\"/><line style=\"stroke:#181818;stroke-width:1.0;\" x1=\"138.9389\" x2=\"130.79\" y1=\"256.0694\" y2=\"242.3\"/><line style=\"stroke:#181818;stroke-width:1.0;\" x1=\"127.9798\" x2=\"141.7491\" y1=\"253.2591\" y2=\"245.1102\"/></a></g><!--MD5=[185131fc0dcab0a4505a2ebe144e961b]\n",
       "link E4 to E2--><g id=\"link_E4_E2\"><a href=\"psysml:0678317f-36b6-4a74-8103-bded5e957efe\" target=\"_top\" title=\"psysml:0678317f-36b6-4a74-8103-bded5e957efe\" xlink:actuate=\"onRequest\" xlink:href=\"psysml:0678317f-36b6-4a74-8103-bded5e957efe\" xlink:show=\"new\" xlink:title=\"psysml:0678317f-36b6-4a74-8103-bded5e957efe\" xlink:type=\"simple\"><path d=\"M160.34,90.07 C153.95,101.97 145.87,117.03 137.83,132 \" fill=\"none\" id=\"E4-to-E2\" style=\"stroke:#181818;stroke-width:1.0;\"/><polygon fill=\"#FFFFFF\" points=\"128.16,150,130.9803,129.9489,143.315,136.5714,128.16,150\" style=\"stroke:#181818;stroke-width:1.0;\"/><ellipse cx=\"135.4387\" cy=\"125.873\" fill=\"#181818\" rx=\"2\" ry=\"2\" style=\"stroke:#181818;stroke-width:1.0;\"/><ellipse cx=\"144.2492\" cy=\"130.6034\" fill=\"#181818\" rx=\"2\" ry=\"2\" style=\"stroke:#181818;stroke-width:1.0;\"/></a></g><!--MD5=[62aa6af11e70f752912c1cb0466f24f7]\n",
       "reverse link E4 to E5--><g id=\"link_E4_E5\"><a href=\"psysml:278d6e93-0263-4f68-bf00-ea9278c15d54\" target=\"_top\" title=\"psysml:278d6e93-0263-4f68-bf00-ea9278c15d54\" xlink:actuate=\"onRequest\" xlink:href=\"psysml:278d6e93-0263-4f68-bf00-ea9278c15d54\" xlink:show=\"new\" xlink:title=\"psysml:278d6e93-0263-4f68-bf00-ea9278c15d54\" xlink:type=\"simple\"><path d=\"M195.31,101.04 C209.63,123.21 227.87,151.44 240.59,171.15 \" fill=\"none\" id=\"E4-backto-E5\" style=\"stroke:#181818;stroke-width:1.0;\"/><polygon fill=\"#181818\" points=\"188.22,90.07,188.1146,97.2803,194.7297,100.1508,194.8351,92.9405,188.22,90.07\" style=\"stroke:#181818;stroke-width:1.0;\"/><text fill=\"#000000\" font-family=\"sans-serif\" font-size=\"13\" lengthAdjust=\"spacing\" textLength=\"8\" x=\"227.8588\" y=\"160.9171\">2</text></a></g><!--MD5=[e9be52314489bd878ff4c7144b63c9e1]\n",
       "link E5 to E3--><g id=\"link_E5_E3\"><a href=\"psysml:0460b007-07c9-40f5-88f9-ea6153b26b09\" target=\"_top\" title=\"psysml:0460b007-07c9-40f5-88f9-ea6153b26b09\" xlink:actuate=\"onRequest\" xlink:href=\"psysml:0460b007-07c9-40f5-88f9-ea6153b26b09\" xlink:show=\"new\" xlink:title=\"psysml:0460b007-07c9-40f5-88f9-ea6153b26b09\" xlink:type=\"simple\"><path d=\"M242.06,220.57 C231.52,238.39 216.79,263.3 204.32,284.38 \" fill=\"none\" id=\"E5-to-E3\" style=\"stroke:#181818;stroke-width:1.0;\"/><polygon fill=\"#FFFFFF\" points=\"194.11,301.65,197.7416,281.7299,209.7973,288.8474,194.11,301.65\" style=\"stroke:#181818;stroke-width:1.0;\"/><ellipse cx=\"202.3617\" cy=\"277.8382\" fill=\"#181818\" rx=\"2\" ry=\"2\" style=\"stroke:#181818;stroke-width:1.0;\"/><ellipse cx=\"210.9729\" cy=\"282.9222\" fill=\"#181818\" rx=\"2\" ry=\"2\" style=\"stroke:#181818;stroke-width:1.0;\"/></a></g><!--MD5=[e071ceba4dce70a498651eeafddfaf52]\n",
       "@startuml\r\n",
       "skin sysmlbw\r\n",
       "skinparam monochrome true\r\n",
       "skinparam wrapWidth 300\r\n",
       "hide circle\r\n",
       "\r\n",
       "package \"OwnedMembership\" as E1  [[psysml:48960063-f505-470d-9c34-08da16b817a8 ]]  {\r\n",
       "comp def \"Oven\" as E2  <<(T,blue) part  def>> [[psysml:6b991112-3151-4de0-86cf-c777c358ab32 ]] {\r\n",
       "##//attributes//##\r\n",
       "rackCount: Integer\r\n",
       "wattage: PowerUnit\r\n",
       "}\r\n",
       "comp def \"Rack\" as E3  <<(T,blue) part  def>> [[psysml:39014c14-d117-4fca-9c0c-2f94cb6fd184 ]] {\r\n",
       "}\r\n",
       "comp usage \"testOven: Oven  \" as E4  <<(T,blue) part>> [[psysml:b8d25b5d-1ae5-4c89-bf52-acf62c9445be ]] {\r\n",
       "}\r\n",
       "comp usage \"racks: Rack  \" as E5  <<(T,blue) part>> [[psysml:7e91c2fd-6d41-44f9-84eb-15dcad6d51f3 ]] {\r\n",
       "}\r\n",
       "}\r\n",
       "E2 +- - E3 [[psysml:6258b72d-6559-4d7a-b91b-51e210771142 ]] \r\n",
       "E4 - -:|> E2 [[psysml:0678317f-36b6-4a74-8103-bded5e957efe ]] \r\n",
       "E4 *- - \"2\"E5 [[psysml:278d6e93-0263-4f68-bf00-ea9278c15d54 ]] \r\n",
       "E5 - -:|> E3 [[psysml:0460b007-07c9-40f5-88f9-ea6153b26b09 ]] \r\n",
       "@enduml\r\n",
       "\n",
       "PlantUML version 1.2022.7(Mon Aug 22 11:01:30 MDT 2022)\n",
       "(EPL source distribution)\n",
       "Java Runtime: OpenJDK Runtime Environment\n",
       "JVM: OpenJDK 64-Bit Server VM\n",
       "Default Encoding: UTF-8\n",
       "Language: en\n",
       "Country: US\n",
       "--></g></svg>"
      ]
     },
     "execution_count": 11,
     "metadata": {},
     "output_type": "execute_result"
    }
   ],
   "source": [
    "%viz --view=default OwnedMembership"
   ]
  },
  {
   "cell_type": "markdown",
   "id": "16439562",
   "metadata": {},
   "source": [
    "## 02-04 Namespaces and packages\n"
   ]
  },
  {
   "cell_type": "markdown",
   "id": "19b6d8d8",
   "metadata": {},
   "source": [
    "### Namespace.sysml\n",
    "Namespace\n",
    "- Element that can contain other elements and provide names for them\n",
    "\n",
    "Fully Qualified Name\n",
    "- Listing name. `[Owner Part]::[Part You're Actually Calling]`\n",
    "- Part is then noted via composite notation (black diamond)"
   ]
  },
  {
   "cell_type": "code",
   "execution_count": null,
   "id": "83a2b135",
   "metadata": {},
   "outputs": [
    {
     "data": {
      "text/plain": [
       "Package Namespace (3b73e6a1-5cc8-48f4-986e-36f0f4bf0815)\n"
      ]
     },
     "execution_count": 12,
     "metadata": {},
     "output_type": "execute_result"
    }
   ],
   "source": [
    "package Namespace{\n",
    "    part def Oven{\n",
    "        part def Rack;\n",
    "    }\n",
    "\n",
    "    part def Drawer{\n",
    "        // we have another rack that could be used in the oven\n",
    "        // however, it is not stored in the oven, but rather in a separate drawer\n",
    "        // to call upon the rack, we have to call it's fully qualified name\n",
    "        part extraRack: Oven::Rack;\n",
    "    }\n",
    "}"
   ]
  },
  {
   "cell_type": "code",
   "execution_count": 13,
   "id": "4dbdc909",
   "metadata": {},
   "outputs": [
    {
     "data": {
      "image/svg+xml": [
       "<?xml version=\"1.0\" encoding=\"UTF-8\" standalone=\"no\"?><svg xmlns=\"http://www.w3.org/2000/svg\" xmlns:xlink=\"http://www.w3.org/1999/xlink\" contentStyleType=\"text/css\" height=\"331px\" preserveAspectRatio=\"none\" style=\"width:288px;height:331px;background:#FFFFFF;\" version=\"1.1\" viewBox=\"0 0 288 331\" width=\"288px\" zoomAndPan=\"magnify\"><defs/><g><!--MD5=[fbc87193dbaf4d95561dea2c320d4a47]\n",
       "cluster E1--><g id=\"cluster_E1\"><a href=\"psysml:3b73e6a1-5cc8-48f4-986e-36f0f4bf0815\" target=\"_top\" title=\"psysml:3b73e6a1-5cc8-48f4-986e-36f0f4bf0815\" xlink:actuate=\"onRequest\" xlink:href=\"psysml:3b73e6a1-5cc8-48f4-986e-36f0f4bf0815\" xlink:show=\"new\" xlink:title=\"psysml:3b73e6a1-5cc8-48f4-986e-36f0f4bf0815\" xlink:type=\"simple\"><polygon fill=\"none\" points=\"16,6,103,6,110,28.4883,271,28.4883,271,324,16,324,16,6\" style=\"stroke:#000000;stroke-width:1.5;\"/><line style=\"stroke:#000000;stroke-width:1.5;\" x1=\"16\" x2=\"110\" y1=\"28.4883\" y2=\"28.4883\"/><text fill=\"#000000\" font-family=\"sans-serif\" font-size=\"14\" font-weight=\"bold\" lengthAdjust=\"spacing\" textLength=\"81\" x=\"20\" y=\"21.5352\">Namespace</text></a></g><!--MD5=[b4997ac47864f28c2f74865a473b2911]\n",
       "class E2--><a href=\"psysml:a31c6fe9-ad95-4d85-bf75-a44c4956b4cd\" target=\"_top\" title=\"psysml:a31c6fe9-ad95-4d85-bf75-a44c4956b4cd\" xlink:actuate=\"onRequest\" xlink:href=\"psysml:a31c6fe9-ad95-4d85-bf75-a44c4956b4cd\" xlink:show=\"new\" xlink:title=\"psysml:a31c6fe9-ad95-4d85-bf75-a44c4956b4cd\" xlink:type=\"simple\"><g id=\"elem_E2\"><rect fill=\"#FFFFFF\" height=\"48.6211\" id=\"E2\" style=\"stroke:#181818;stroke-width:0.5;\" width=\"65\" x=\"189.5\" y=\"150\"/><text fill=\"#000000\" font-family=\"sans-serif\" font-size=\"12\" font-style=\"italic\" lengthAdjust=\"spacing\" textLength=\"63\" x=\"190.5\" y=\"166.6016\">«part  def»</text><text fill=\"#000000\" font-family=\"sans-serif\" font-size=\"14\" lengthAdjust=\"spacing\" textLength=\"35\" x=\"204.5\" y=\"182.668\">Oven</text><line style=\"stroke:#181818;stroke-width:0.5;\" x1=\"190.5\" x2=\"253.5\" y1=\"190.6211\" y2=\"190.6211\"/></g></a><!--MD5=[09b614a08d8cba4a07c9adeb5e0fee81]\n",
       "class E3--><a href=\"psysml:e58178c5-dd7e-4c2d-96a1-0636ff27ae19\" target=\"_top\" title=\"psysml:e58178c5-dd7e-4c2d-96a1-0636ff27ae19\" xlink:actuate=\"onRequest\" xlink:href=\"psysml:e58178c5-dd7e-4c2d-96a1-0636ff27ae19\" xlink:show=\"new\" xlink:title=\"psysml:e58178c5-dd7e-4c2d-96a1-0636ff27ae19\" xlink:type=\"simple\"><g id=\"elem_E3\"><rect fill=\"#FFFFFF\" height=\"48.6211\" id=\"E3\" style=\"stroke:#181818;stroke-width:0.5;\" width=\"65\" x=\"124.5\" y=\"259\"/><text fill=\"#000000\" font-family=\"sans-serif\" font-size=\"12\" font-style=\"italic\" lengthAdjust=\"spacing\" textLength=\"63\" x=\"125.5\" y=\"275.6016\">«part  def»</text><text fill=\"#000000\" font-family=\"sans-serif\" font-size=\"14\" lengthAdjust=\"spacing\" textLength=\"32\" x=\"141\" y=\"291.668\">Rack</text><line style=\"stroke:#181818;stroke-width:0.5;\" x1=\"125.5\" x2=\"188.5\" y1=\"299.6211\" y2=\"299.6211\"/></g></a><!--MD5=[ebbe1d658d1005bcc118a6aa81145e00]\n",
       "class E4--><a href=\"psysml:56becb89-1aa6-48c0-9239-4cd7d262f937\" target=\"_top\" title=\"psysml:56becb89-1aa6-48c0-9239-4cd7d262f937\" xlink:actuate=\"onRequest\" xlink:href=\"psysml:56becb89-1aa6-48c0-9239-4cd7d262f937\" xlink:show=\"new\" xlink:title=\"psysml:56becb89-1aa6-48c0-9239-4cd7d262f937\" xlink:type=\"simple\"><g id=\"elem_E4\"><rect fill=\"#FFFFFF\" height=\"48.6211\" id=\"E4\" style=\"stroke:#181818;stroke-width:0.5;\" width=\"65\" x=\"60.5\" y=\"41\"/><text fill=\"#000000\" font-family=\"sans-serif\" font-size=\"12\" font-style=\"italic\" lengthAdjust=\"spacing\" textLength=\"63\" x=\"61.5\" y=\"57.6016\">«part  def»</text><text fill=\"#000000\" font-family=\"sans-serif\" font-size=\"14\" lengthAdjust=\"spacing\" textLength=\"49\" x=\"68.5\" y=\"73.668\">Drawer</text><line style=\"stroke:#181818;stroke-width:0.5;\" x1=\"61.5\" x2=\"124.5\" y1=\"81.6211\" y2=\"81.6211\"/></g></a><!--MD5=[270fce915f116d4de14055a7c1d9a0f3]\n",
       "class E5--><a href=\"psysml:cc6bfa00-c3e1-4d07-b243-0d2b6d4fb7da\" target=\"_top\" title=\"psysml:cc6bfa00-c3e1-4d07-b243-0d2b6d4fb7da\" xlink:actuate=\"onRequest\" xlink:href=\"psysml:cc6bfa00-c3e1-4d07-b243-0d2b6d4fb7da\" xlink:show=\"new\" xlink:title=\"psysml:cc6bfa00-c3e1-4d07-b243-0d2b6d4fb7da\" xlink:type=\"simple\"><g id=\"elem_E5\"><rect fill=\"#FFFFFF\" height=\"48.6211\" id=\"E5\" rx=\"10\" ry=\"10\" style=\"stroke:#181818;stroke-width:0.5;\" width=\"122\" x=\"32\" y=\"150\"/><text fill=\"#000000\" font-family=\"sans-serif\" font-size=\"12\" font-style=\"italic\" lengthAdjust=\"spacing\" textLength=\"36\" x=\"75\" y=\"166.6016\">«part»</text><text fill=\"#000000\" font-family=\"sans-serif\" font-size=\"14\" lengthAdjust=\"spacing\" textLength=\"108\" x=\"35\" y=\"182.668\">extraRack: Rack</text><line style=\"stroke:#181818;stroke-width:0.5;\" x1=\"33\" x2=\"153\" y1=\"190.6211\" y2=\"190.6211\"/></g></a><!--MD5=[209b3feb70ccb6233bfe1053d122c12c]\n",
       "reverse link E2 to E3--><g id=\"link_E2_E3\"><a href=\"psysml:6bd6fe07-80af-4d8c-9eea-0ad8f59d26e9\" target=\"_top\" title=\"psysml:6bd6fe07-80af-4d8c-9eea-0ad8f59d26e9\" xlink:actuate=\"onRequest\" xlink:href=\"psysml:6bd6fe07-80af-4d8c-9eea-0ad8f59d26e9\" xlink:show=\"new\" xlink:title=\"psysml:6bd6fe07-80af-4d8c-9eea-0ad8f59d26e9\" xlink:type=\"simple\"><path d=\"M199.75,212.13 C190.36,227.58 179.71,245.12 171.39,258.82 \" fill=\"none\" id=\"E2-backto-E3\" style=\"stroke:#181818;stroke-width:1.0;\"/><ellipse cx=\"203.416\" cy=\"206.087\" fill=\"#FFFFFF\" rx=\"8\" ry=\"8\" style=\"stroke:#181818;stroke-width:1.0;\"/><line style=\"stroke:#181818;stroke-width:1.0;\" x1=\"199.262\" x2=\"207.57\" y1=\"212.9239\" y2=\"199.25\"/><line style=\"stroke:#181818;stroke-width:1.0;\" x1=\"196.579\" x2=\"210.253\" y1=\"201.933\" y2=\"210.241\"/></a></g><!--MD5=[62aa6af11e70f752912c1cb0466f24f7]\n",
       "reverse link E4 to E5--><g id=\"link_E4_E5\"><a href=\"psysml:32c9164c-c11e-442f-ade6-2cacf27e7467\" target=\"_top\" title=\"psysml:32c9164c-c11e-442f-ade6-2cacf27e7467\" xlink:actuate=\"onRequest\" xlink:href=\"psysml:32c9164c-c11e-442f-ade6-2cacf27e7467\" xlink:show=\"new\" xlink:title=\"psysml:32c9164c-c11e-442f-ade6-2cacf27e7467\" xlink:type=\"simple\"><path d=\"M93,103.6 C93,118.94 93,136.26 93,149.82 \" fill=\"none\" id=\"E4-backto-E5\" style=\"stroke:#181818;stroke-width:1.0;\"/><polygon fill=\"#181818\" points=\"93,90.25,89,96.25,93,102.25,97,96.25,93,90.25\" style=\"stroke:#181818;stroke-width:1.0;\"/></a></g><!--MD5=[e9be52314489bd878ff4c7144b63c9e1]\n",
       "link E5 to E3--><g id=\"link_E5_E3\"><a href=\"psysml:9c7c9bfb-c808-441b-bf43-23e2952da80c\" target=\"_top\" title=\"psysml:9c7c9bfb-c808-441b-bf43-23e2952da80c\" xlink:actuate=\"onRequest\" xlink:href=\"psysml:9c7c9bfb-c808-441b-bf43-23e2952da80c\" xlink:show=\"new\" xlink:title=\"psysml:9c7c9bfb-c808-441b-bf43-23e2952da80c\" xlink:type=\"simple\"><path d=\"M107.2,199.25 C114.58,211.58 123.8,227 132.3,241.2 \" fill=\"none\" id=\"E5-to-E3\" style=\"stroke:#181818;stroke-width:1.0;\"/><polygon fill=\"#FFFFFF\" points=\"142.84,258.82,127.0792,246.1079,139.0938,238.9211,142.84,258.82\" style=\"stroke:#181818;stroke-width:1.0;\"/><ellipse cx=\"125.8696\" cy=\"240.1895\" fill=\"#181818\" rx=\"2\" ry=\"2\" style=\"stroke:#181818;stroke-width:1.0;\"/><ellipse cx=\"134.4514\" cy=\"235.0561\" fill=\"#181818\" rx=\"2\" ry=\"2\" style=\"stroke:#181818;stroke-width:1.0;\"/></a></g><!--MD5=[2f5a26be171812abf8c01fde3bfd7e98]\n",
       "@startuml\r\n",
       "skin sysmlbw\r\n",
       "skinparam monochrome true\r\n",
       "skinparam wrapWidth 300\r\n",
       "hide circle\r\n",
       "\r\n",
       "package \"Namespace\" as E1  [[psysml:3b73e6a1-5cc8-48f4-986e-36f0f4bf0815 ]]  {\r\n",
       "comp def \"Oven\" as E2  <<(T,blue) part  def>> [[psysml:a31c6fe9-ad95-4d85-bf75-a44c4956b4cd ]] {\r\n",
       "}\r\n",
       "comp def \"Rack\" as E3  <<(T,blue) part  def>> [[psysml:e58178c5-dd7e-4c2d-96a1-0636ff27ae19 ]] {\r\n",
       "}\r\n",
       "comp def \"Drawer\" as E4  <<(T,blue) part  def>> [[psysml:56becb89-1aa6-48c0-9239-4cd7d262f937 ]] {\r\n",
       "}\r\n",
       "comp usage \"extraRack: Rack  \" as E5  <<(T,blue) part>> [[psysml:cc6bfa00-c3e1-4d07-b243-0d2b6d4fb7da ]] {\r\n",
       "}\r\n",
       "}\r\n",
       "E2 +- - E3 [[psysml:6bd6fe07-80af-4d8c-9eea-0ad8f59d26e9 ]] \r\n",
       "E4 *- - E5 [[psysml:32c9164c-c11e-442f-ade6-2cacf27e7467 ]] \r\n",
       "E5 - -:|> E3 [[psysml:9c7c9bfb-c808-441b-bf43-23e2952da80c ]] \r\n",
       "@enduml\r\n",
       "\n",
       "PlantUML version 1.2022.7(Mon Aug 22 11:01:30 MDT 2022)\n",
       "(EPL source distribution)\n",
       "Java Runtime: OpenJDK Runtime Environment\n",
       "JVM: OpenJDK 64-Bit Server VM\n",
       "Default Encoding: UTF-8\n",
       "Language: en\n",
       "Country: US\n",
       "--></g></svg>"
      ]
     },
     "execution_count": 13,
     "metadata": {},
     "output_type": "execute_result"
    }
   ],
   "source": [
    "%viz --view=default Namespace"
   ]
  },
  {
   "cell_type": "markdown",
   "id": "b149e4b9",
   "metadata": {},
   "source": [
    "### FeaturesAndFeatureChain.sysml\n",
    "\n",
    "Parts are often defined with usage nested within other part definitions\n",
    "\n",
    "Features\n",
    "- Usages nested in a definition\n",
    "- Reference features using dot notation\n",
    "\n",
    "Feature chain: sequence of 2+ qualified names in dot notation\n",
    "- Each qualified name in a feature chain resolves to a usage"
   ]
  },
  {
   "cell_type": "code",
   "execution_count": 18,
   "id": "7b280087",
   "metadata": {},
   "outputs": [
    {
     "data": {
      "text/plain": [
       "Package FeaturesAndFeatureChain (4038c474-e9d0-4bc6-92a4-ca97282649c2)\n"
      ]
     },
     "execution_count": 18,
     "metadata": {},
     "output_type": "execute_result"
    }
   ],
   "source": [
    "package FeaturesAndFeatureChain{\n",
    "    private import SI::*;\n",
    "\n",
    "    part def HeatingElement {\n",
    "        attribute temperature: TemperatureDifferenceUnit;    // Value Feature\n",
    "    }\n",
    "\n",
    "    part def Oven{\n",
    "        part heatingElement: HeatingElement;    // Part feature \n",
    "    }\n",
    "\n",
    "    // To demo the use of features, use a script to model an action\n",
    "    action def setupTest{\n",
    "    in testOven: Oven;\n",
    "    assign testOven.heatingElement.temperature := 500 [K];   // This is when you finally get to assign actual numbers to things\n",
    "    }\n",
    "}"
   ]
  },
  {
   "cell_type": "code",
   "execution_count": 20,
   "id": "dc928e00",
   "metadata": {},
   "outputs": [
    {
     "data": {
      "image/svg+xml": [
       "<?xml version=\"1.0\" encoding=\"UTF-8\" standalone=\"no\"?><svg xmlns=\"http://www.w3.org/2000/svg\" xmlns:xlink=\"http://www.w3.org/1999/xlink\" contentStyleType=\"text/css\" height=\"358px\" preserveAspectRatio=\"none\" style=\"width:456px;height:358px;background:#FFFFFF;\" version=\"1.1\" viewBox=\"0 0 456 358\" width=\"456px\" zoomAndPan=\"magnify\"><defs/><g><!--MD5=[fbc87193dbaf4d95561dea2c320d4a47]\n",
       "cluster E1--><g id=\"cluster_E1\"><a href=\"psysml:4038c474-e9d0-4bc6-92a4-ca97282649c2\" target=\"_top\" title=\"psysml:4038c474-e9d0-4bc6-92a4-ca97282649c2\" xlink:actuate=\"onRequest\" xlink:href=\"psysml:4038c474-e9d0-4bc6-92a4-ca97282649c2\" xlink:show=\"new\" xlink:title=\"psysml:4038c474-e9d0-4bc6-92a4-ca97282649c2\" xlink:type=\"simple\"><polygon fill=\"none\" points=\"16,6,205,6,212,28.4883,439,28.4883,439,351,16,351,16,6\" style=\"stroke:#000000;stroke-width:1.5;\"/><line style=\"stroke:#000000;stroke-width:1.5;\" x1=\"16\" x2=\"212\" y1=\"28.4883\" y2=\"28.4883\"/><text fill=\"#000000\" font-family=\"sans-serif\" font-size=\"14\" font-weight=\"bold\" lengthAdjust=\"spacing\" textLength=\"183\" x=\"20\" y=\"21.5352\">FeaturesAndFeatureChain</text></a></g><!--MD5=[de5ec2e2e8f62f467e546659f5068c88]\n",
       "cluster E5--><g id=\"cluster_E5\"><a href=\"psysml:7966fdc3-168a-43cf-83ed-ed81fa466cb5\" target=\"_top\" title=\"psysml:7966fdc3-168a-43cf-83ed-ed81fa466cb5\" xlink:actuate=\"onRequest\" xlink:href=\"psysml:7966fdc3-168a-43cf-83ed-ed81fa466cb5\" xlink:show=\"new\" xlink:title=\"psysml:7966fdc3-168a-43cf-83ed-ed81fa466cb5\" xlink:type=\"simple\"><rect fill=\"#FFFFFF\" height=\"142.5\" id=\"E5\" style=\"stroke:#383838;stroke-width:1.5;\" width=\"134\" x=\"289\" y=\"65.5\"/><text fill=\"#000000\" font-family=\"sans-serif\" font-size=\"12\" font-style=\"italic\" lengthAdjust=\"spacing\" textLength=\"73\" x=\"319.5\" y=\"82.1016\">«action  def»</text><text fill=\"#000000\" font-family=\"sans-serif\" font-size=\"14\" lengthAdjust=\"spacing\" textLength=\"67\" x=\"322.5\" y=\"98.168\">setupTest</text><line style=\"stroke:#383838;stroke-width:1.0;\" x1=\"289\" x2=\"423\" y1=\"106.1211\" y2=\"106.1211\"/></a></g><!--MD5=[b4997ac47864f28c2f74865a473b2911]\n",
       "class E2--><a href=\"psysml:326e8ca5-571c-4bd1-bae4-910a51db61db\" target=\"_top\" title=\"psysml:326e8ca5-571c-4bd1-bae4-910a51db61db\" xlink:actuate=\"onRequest\" xlink:href=\"psysml:326e8ca5-571c-4bd1-bae4-910a51db61db\" xlink:show=\"new\" xlink:title=\"psysml:326e8ca5-571c-4bd1-bae4-910a51db61db\" xlink:type=\"simple\"><g id=\"elem_E2\"><rect fill=\"#FFFFFF\" height=\"75.7047\" id=\"E2\" style=\"stroke:#181818;stroke-width:0.5;\" width=\"292\" x=\"32\" y=\"259\"/><text fill=\"#000000\" font-family=\"sans-serif\" font-size=\"12\" font-style=\"italic\" lengthAdjust=\"spacing\" textLength=\"63\" x=\"146.5\" y=\"275.6016\">«part  def»</text><text fill=\"#000000\" font-family=\"sans-serif\" font-size=\"14\" lengthAdjust=\"spacing\" textLength=\"108\" x=\"124\" y=\"291.668\">HeatingElement</text><line style=\"stroke:#181818;stroke-width:0.5;\" x1=\"33\" x2=\"323\" y1=\"299.6211\" y2=\"299.6211\"/><text fill=\"#000000\" font-family=\"sans-serif\" font-size=\"14\" lengthAdjust=\"spacing\" textLength=\"280\" x=\"38\" y=\"327.7516\">temperature: TemperatureDifferenceUnit</text><text fill=\"#000000\" font-family=\"sans-serif\" font-size=\"14\" font-style=\"italic\" lengthAdjust=\"spacing\" textLength=\"66\" x=\"145\" y=\"312.4121\">attributes</text></g></a><!--MD5=[09b614a08d8cba4a07c9adeb5e0fee81]\n",
       "class E3--><a href=\"psysml:ea031217-1829-45d4-a169-fb609e5093d4\" target=\"_top\" title=\"psysml:ea031217-1829-45d4-a169-fb609e5093d4\" xlink:actuate=\"onRequest\" xlink:href=\"psysml:ea031217-1829-45d4-a169-fb609e5093d4\" xlink:show=\"new\" xlink:title=\"psysml:ea031217-1829-45d4-a169-fb609e5093d4\" xlink:type=\"simple\"><g id=\"elem_E3\"><rect fill=\"#FFFFFF\" height=\"48.6211\" id=\"E3\" style=\"stroke:#181818;stroke-width:0.5;\" width=\"65\" x=\"118.5\" y=\"41\"/><text fill=\"#000000\" font-family=\"sans-serif\" font-size=\"12\" font-style=\"italic\" lengthAdjust=\"spacing\" textLength=\"63\" x=\"119.5\" y=\"57.6016\">«part  def»</text><text fill=\"#000000\" font-family=\"sans-serif\" font-size=\"14\" lengthAdjust=\"spacing\" textLength=\"35\" x=\"133.5\" y=\"73.668\">Oven</text><line style=\"stroke:#181818;stroke-width:0.5;\" x1=\"119.5\" x2=\"182.5\" y1=\"81.6211\" y2=\"81.6211\"/></g></a><!--MD5=[ebbe1d658d1005bcc118a6aa81145e00]\n",
       "class E4--><a href=\"psysml:7129b57e-f77e-445a-a335-e488b367bc54\" target=\"_top\" title=\"psysml:7129b57e-f77e-445a-a335-e488b367bc54\" xlink:actuate=\"onRequest\" xlink:href=\"psysml:7129b57e-f77e-445a-a335-e488b367bc54\" xlink:show=\"new\" xlink:title=\"psysml:7129b57e-f77e-445a-a335-e488b367bc54\" xlink:type=\"simple\"><g id=\"elem_E4\"><rect fill=\"#FFFFFF\" height=\"48.6211\" id=\"E4\" rx=\"10\" ry=\"10\" style=\"stroke:#181818;stroke-width:0.5;\" width=\"237\" x=\"32.5\" y=\"150\"/><text fill=\"#000000\" font-family=\"sans-serif\" font-size=\"12\" font-style=\"italic\" lengthAdjust=\"spacing\" textLength=\"36\" x=\"133\" y=\"166.6016\">«part»</text><text fill=\"#000000\" font-family=\"sans-serif\" font-size=\"14\" lengthAdjust=\"spacing\" textLength=\"223\" x=\"35.5\" y=\"182.668\">heatingElement: HeatingElement</text><line style=\"stroke:#181818;stroke-width:0.5;\" x1=\"33.5\" x2=\"268.5\" y1=\"190.6211\" y2=\"190.6211\"/></g></a><text fill=\"#000000\" font-family=\"sans-serif\" font-size=\"14\" lengthAdjust=\"spacing\" textLength=\"60\" x=\"326\" y=\"44.5469\">testOven</text><rect fill=\"#FFFFFF\" height=\"12\" style=\"stroke:#181818;stroke-width:1.5;\" width=\"12\" x=\"350\" y=\"59.5\"/><!--MD5=[4672eba38e49728da53d11aeb285b987]\n",
       "reverse link E3 to E4--><g id=\"link_E3_E4\"><a href=\"psysml:3dc996e6-c8d1-4e24-ae38-c91ea6fff56f\" target=\"_top\" title=\"psysml:3dc996e6-c8d1-4e24-ae38-c91ea6fff56f\" xlink:actuate=\"onRequest\" xlink:href=\"psysml:3dc996e6-c8d1-4e24-ae38-c91ea6fff56f\" xlink:show=\"new\" xlink:title=\"psysml:3dc996e6-c8d1-4e24-ae38-c91ea6fff56f\" xlink:type=\"simple\"><path d=\"M151,103.6 C151,118.94 151,136.26 151,149.82 \" fill=\"none\" id=\"E3-backto-E4\" style=\"stroke:#181818;stroke-width:1.0;\"/><polygon fill=\"#181818\" points=\"151,90.25,147,96.25,151,102.25,155,96.25,151,90.25\" style=\"stroke:#181818;stroke-width:1.0;\"/></a></g><!--MD5=[185131fc0dcab0a4505a2ebe144e961b]\n",
       "link E4 to E2--><g id=\"link_E4_E2\"><a href=\"psysml:d03a2793-15b1-4548-9948-8f9bcc9d430e\" target=\"_top\" title=\"psysml:d03a2793-15b1-4548-9948-8f9bcc9d430e\" xlink:actuate=\"onRequest\" xlink:href=\"psysml:d03a2793-15b1-4548-9948-8f9bcc9d430e\" xlink:show=\"new\" xlink:title=\"psysml:d03a2793-15b1-4548-9948-8f9bcc9d430e\" xlink:type=\"simple\"><path d=\"M156.27,199.02 C158.86,210.56 162.1,225.02 165.28,239.22 \" fill=\"none\" id=\"E4-to-E2\" style=\"stroke:#181818;stroke-width:1.0;\"/><polygon fill=\"#FFFFFF\" points=\"169.66,258.79,158.676,241.7797,172.3374,238.7193,169.66,258.79\" style=\"stroke:#181818;stroke-width:1.0;\"/><ellipse cx=\"159.3816\" cy=\"235.7803\" fill=\"#181818\" rx=\"2\" ry=\"2\" style=\"stroke:#181818;stroke-width:1.0;\"/><ellipse cx=\"169.1398\" cy=\"233.5944\" fill=\"#181818\" rx=\"2\" ry=\"2\" style=\"stroke:#181818;stroke-width:1.0;\"/></a></g><!--MD5=[f919e5090956091eebf012e8d345c9c3]\n",
       "@startuml\r\n",
       "skin sysmlbw\r\n",
       "skinparam monochrome true\r\n",
       "skinparam wrapWidth 300\r\n",
       "hide circle\r\n",
       "\r\n",
       "package \"FeaturesAndFeatureChain\" as E1  [[psysml:4038c474-e9d0-4bc6-92a4-ca97282649c2 ]]  {\r\n",
       "comp def \"HeatingElement\" as E2  <<(T,blue) part  def>> [[psysml:326e8ca5-571c-4bd1-bae4-910a51db61db ]] {\r\n",
       "##//attributes//##\r\n",
       "temperature: TemperatureDifferenceUnit\r\n",
       "}\r\n",
       "comp def \"Oven\" as E3  <<(T,blue) part  def>> [[psysml:ea031217-1829-45d4-a169-fb609e5093d4 ]] {\r\n",
       "}\r\n",
       "comp usage \"heatingElement: HeatingElement  \" as E4  <<(T,blue) part>> [[psysml:7129b57e-f77e-445a-a335-e488b367bc54 ]] {\r\n",
       "}\r\n",
       "rec def \"setupTest\" as E5  <<(T,blue) action  def>> [[psysml:7966fdc3-168a-43cf-83ed-ed81fa466cb5 ]] {\r\n",
       "portin \"testOven\" as E6  [[psysml:c4e91be7-d997-4b65-b66f-8d1222baf7e5 ]] \r\n",
       "}\r\n",
       "\r\n",
       "}\r\n",
       "E3 *- - E4 [[psysml:3dc996e6-c8d1-4e24-ae38-c91ea6fff56f ]] \r\n",
       "E4 - -:|> E2 [[psysml:d03a2793-15b1-4548-9948-8f9bcc9d430e ]] \r\n",
       "@enduml\r\n",
       "\n",
       "PlantUML version 1.2022.7(Mon Aug 22 11:01:30 MDT 2022)\n",
       "(EPL source distribution)\n",
       "Java Runtime: OpenJDK Runtime Environment\n",
       "JVM: OpenJDK 64-Bit Server VM\n",
       "Default Encoding: UTF-8\n",
       "Language: en\n",
       "Country: US\n",
       "--></g></svg>"
      ]
     },
     "execution_count": 20,
     "metadata": {},
     "output_type": "execute_result"
    }
   ],
   "source": [
    "%viz --view=default FeaturesAndFeatureChain"
   ]
  },
  {
   "cell_type": "markdown",
   "id": "d6ac71a6",
   "metadata": {},
   "source": [
    "### AllCombined.sysml\n",
    "We have definitions for rack, drawer and heating element.\n",
    "This is followed by defining over with the usages of rack, drawer and heating element"
   ]
  },
  {
   "cell_type": "code",
   "execution_count": 3,
   "id": "381c469b",
   "metadata": {},
   "outputs": [
    {
     "data": {
      "text/plain": [
       "Package AllCombined (d9ec29d1-b958-4dc2-ab95-9123f0f1b4f4)\n"
      ]
     },
     "execution_count": 3,
     "metadata": {},
     "output_type": "execute_result"
    }
   ],
   "source": [
    "package AllCombined{\n",
    "    private import SI::PowerUnit;\n",
    "    private import SI::TemperatureDifferenceUnit;\n",
    "    private import ScalarValues::Integer;\n",
    "\n",
    "    part def Rack;\n",
    "    part def Drawer{ part extraRack: Rack; }\n",
    "    part def HeatingElement{ attribute temperature: SI::TemperatureDifferenceUnit; }\n",
    "\n",
    "    part def Oven{\n",
    "        attribute wattage: PowerUnit;\n",
    "        attribute slotCount: Integer;\n",
    "        part rack: Rack;\n",
    "        part drawer: Drawer;\n",
    "        part heatingElement: HeatingElement; \n",
    "    }\n",
    "\n",
    "    part testOven: Oven;\n",
    "}"
   ]
  },
  {
   "cell_type": "code",
   "execution_count": 4,
   "id": "6f2436f0",
   "metadata": {},
   "outputs": [
    {
     "data": {
      "image/svg+xml": [
       "<?xml version=\"1.0\" encoding=\"UTF-8\" standalone=\"no\"?><svg xmlns=\"http://www.w3.org/2000/svg\" xmlns:xlink=\"http://www.w3.org/1999/xlink\" contentStyleType=\"text/css\" height=\"728px\" preserveAspectRatio=\"none\" style=\"width:495px;height:728px;background:#FFFFFF;\" version=\"1.1\" viewBox=\"0 0 495 728\" width=\"495px\" zoomAndPan=\"magnify\"><defs/><g><!--MD5=[fbc87193dbaf4d95561dea2c320d4a47]\n",
       "cluster E1--><g id=\"cluster_E1\"><a href=\"psysml:d9ec29d1-b958-4dc2-ab95-9123f0f1b4f4\" target=\"_top\" title=\"psysml:d9ec29d1-b958-4dc2-ab95-9123f0f1b4f4\" xlink:actuate=\"onRequest\" xlink:href=\"psysml:d9ec29d1-b958-4dc2-ab95-9123f0f1b4f4\" xlink:show=\"new\" xlink:title=\"psysml:d9ec29d1-b958-4dc2-ab95-9123f0f1b4f4\" xlink:type=\"simple\"><polygon fill=\"none\" points=\"16,6,115,6,122,28.4883,478,28.4883,478,721,16,721,16,6\" style=\"stroke:#000000;stroke-width:1.5;\"/><line style=\"stroke:#000000;stroke-width:1.5;\" x1=\"16\" x2=\"122\" y1=\"28.4883\" y2=\"28.4883\"/><text fill=\"#000000\" font-family=\"sans-serif\" font-size=\"14\" font-weight=\"bold\" lengthAdjust=\"spacing\" textLength=\"93\" x=\"20\" y=\"21.5352\">AllCombined</text></a></g><!--MD5=[b4997ac47864f28c2f74865a473b2911]\n",
       "class E2--><a href=\"psysml:ca686845-bac0-4a45-9185-b279e51be599\" target=\"_top\" title=\"psysml:ca686845-bac0-4a45-9185-b279e51be599\" xlink:actuate=\"onRequest\" xlink:href=\"psysml:ca686845-bac0-4a45-9185-b279e51be599\" xlink:show=\"new\" xlink:title=\"psysml:ca686845-bac0-4a45-9185-b279e51be599\" xlink:type=\"simple\"><g id=\"elem_E2\"><rect fill=\"#FFFFFF\" height=\"48.6211\" id=\"E2\" style=\"stroke:#181818;stroke-width:0.5;\" width=\"65\" x=\"110.5\" y=\"656\"/><text fill=\"#000000\" font-family=\"sans-serif\" font-size=\"12\" font-style=\"italic\" lengthAdjust=\"spacing\" textLength=\"63\" x=\"111.5\" y=\"672.6016\">«part  def»</text><text fill=\"#000000\" font-family=\"sans-serif\" font-size=\"14\" lengthAdjust=\"spacing\" textLength=\"32\" x=\"127\" y=\"688.668\">Rack</text><line style=\"stroke:#181818;stroke-width:0.5;\" x1=\"111.5\" x2=\"174.5\" y1=\"696.6211\" y2=\"696.6211\"/></g></a><!--MD5=[09b614a08d8cba4a07c9adeb5e0fee81]\n",
       "class E3--><a href=\"psysml:f2c7f76f-194e-4236-83f2-78e45ae1f1e9\" target=\"_top\" title=\"psysml:f2c7f76f-194e-4236-83f2-78e45ae1f1e9\" xlink:actuate=\"onRequest\" xlink:href=\"psysml:f2c7f76f-194e-4236-83f2-78e45ae1f1e9\" xlink:show=\"new\" xlink:title=\"psysml:f2c7f76f-194e-4236-83f2-78e45ae1f1e9\" xlink:type=\"simple\"><g id=\"elem_E3\"><rect fill=\"#FFFFFF\" height=\"48.6211\" id=\"E3\" style=\"stroke:#181818;stroke-width:0.5;\" width=\"65\" x=\"69.5\" y=\"424.5\"/><text fill=\"#000000\" font-family=\"sans-serif\" font-size=\"12\" font-style=\"italic\" lengthAdjust=\"spacing\" textLength=\"63\" x=\"70.5\" y=\"441.1016\">«part  def»</text><text fill=\"#000000\" font-family=\"sans-serif\" font-size=\"14\" lengthAdjust=\"spacing\" textLength=\"49\" x=\"77.5\" y=\"457.168\">Drawer</text><line style=\"stroke:#181818;stroke-width:0.5;\" x1=\"70.5\" x2=\"133.5\" y1=\"465.1211\" y2=\"465.1211\"/></g></a><!--MD5=[ebbe1d658d1005bcc118a6aa81145e00]\n",
       "class E4--><a href=\"psysml:0c5845f3-54f7-4bc1-a7ac-a1e878fb6be0\" target=\"_top\" title=\"psysml:0c5845f3-54f7-4bc1-a7ac-a1e878fb6be0\" xlink:actuate=\"onRequest\" xlink:href=\"psysml:0c5845f3-54f7-4bc1-a7ac-a1e878fb6be0\" xlink:show=\"new\" xlink:title=\"psysml:0c5845f3-54f7-4bc1-a7ac-a1e878fb6be0\" xlink:type=\"simple\"><g id=\"elem_E4\"><rect fill=\"#FFFFFF\" height=\"48.6211\" id=\"E4\" rx=\"10\" ry=\"10\" style=\"stroke:#181818;stroke-width:0.5;\" width=\"122\" x=\"151\" y=\"547\"/><text fill=\"#000000\" font-family=\"sans-serif\" font-size=\"12\" font-style=\"italic\" lengthAdjust=\"spacing\" textLength=\"36\" x=\"194\" y=\"563.6016\">«part»</text><text fill=\"#000000\" font-family=\"sans-serif\" font-size=\"14\" lengthAdjust=\"spacing\" textLength=\"108\" x=\"154\" y=\"579.668\">extraRack: Rack</text><line style=\"stroke:#181818;stroke-width:0.5;\" x1=\"152\" x2=\"272\" y1=\"587.6211\" y2=\"587.6211\"/></g></a><!--MD5=[270fce915f116d4de14055a7c1d9a0f3]\n",
       "class E5--><a href=\"psysml:6222cca4-4531-4736-9273-2c6da03f4508\" target=\"_top\" title=\"psysml:6222cca4-4531-4736-9273-2c6da03f4508\" xlink:actuate=\"onRequest\" xlink:href=\"psysml:6222cca4-4531-4736-9273-2c6da03f4508\" xlink:show=\"new\" xlink:title=\"psysml:6222cca4-4531-4736-9273-2c6da03f4508\" xlink:type=\"simple\"><g id=\"elem_E5\"><rect fill=\"#FFFFFF\" height=\"75.7047\" id=\"E5\" style=\"stroke:#181818;stroke-width:0.5;\" width=\"292\" x=\"170\" y=\"411\"/><text fill=\"#000000\" font-family=\"sans-serif\" font-size=\"12\" font-style=\"italic\" lengthAdjust=\"spacing\" textLength=\"63\" x=\"284.5\" y=\"427.6016\">«part  def»</text><text fill=\"#000000\" font-family=\"sans-serif\" font-size=\"14\" lengthAdjust=\"spacing\" textLength=\"108\" x=\"262\" y=\"443.668\">HeatingElement</text><line style=\"stroke:#181818;stroke-width:0.5;\" x1=\"171\" x2=\"461\" y1=\"451.6211\" y2=\"451.6211\"/><text fill=\"#000000\" font-family=\"sans-serif\" font-size=\"14\" lengthAdjust=\"spacing\" textLength=\"280\" x=\"176\" y=\"479.7516\">temperature: TemperatureDifferenceUnit</text><text fill=\"#000000\" font-family=\"sans-serif\" font-size=\"14\" font-style=\"italic\" lengthAdjust=\"spacing\" textLength=\"66\" x=\"283\" y=\"464.4121\">attributes</text></g></a><!--MD5=[60a26617385b1d2d0262a64233df1f8d]\n",
       "class E6--><a href=\"psysml:4642d78e-cbb2-4606-b299-78715a8dd516\" target=\"_top\" title=\"psysml:4642d78e-cbb2-4606-b299-78715a8dd516\" xlink:actuate=\"onRequest\" xlink:href=\"psysml:4642d78e-cbb2-4606-b299-78715a8dd516\" xlink:show=\"new\" xlink:title=\"psysml:4642d78e-cbb2-4606-b299-78715a8dd516\" xlink:type=\"simple\"><g id=\"elem_E6\"><rect fill=\"#FFFFFF\" height=\"92.193\" id=\"E6\" style=\"stroke:#181818;stroke-width:0.5;\" width=\"144\" x=\"57\" y=\"150\"/><text fill=\"#000000\" font-family=\"sans-serif\" font-size=\"12\" font-style=\"italic\" lengthAdjust=\"spacing\" textLength=\"63\" x=\"97.5\" y=\"166.6016\">«part  def»</text><text fill=\"#000000\" font-family=\"sans-serif\" font-size=\"14\" lengthAdjust=\"spacing\" textLength=\"35\" x=\"111.5\" y=\"182.668\">Oven</text><line style=\"stroke:#181818;stroke-width:0.5;\" x1=\"58\" x2=\"200\" y1=\"190.6211\" y2=\"190.6211\"/><text fill=\"#000000\" font-family=\"sans-serif\" font-size=\"14\" lengthAdjust=\"spacing\" textLength=\"124\" x=\"63\" y=\"218.7516\">slotCount: Integer</text><text fill=\"#000000\" font-family=\"sans-serif\" font-size=\"14\" lengthAdjust=\"spacing\" textLength=\"132\" x=\"63\" y=\"235.2398\">wattage: PowerUnit</text><text fill=\"#000000\" font-family=\"sans-serif\" font-size=\"14\" font-style=\"italic\" lengthAdjust=\"spacing\" textLength=\"66\" x=\"96\" y=\"203.4121\">attributes</text></g></a><!--MD5=[2156ba9850f5573cc1fc38a6a4b2f02b]\n",
       "class E7--><a href=\"psysml:3b771c61-32b8-41c4-b47f-a51ca0a55807\" target=\"_top\" title=\"psysml:3b771c61-32b8-41c4-b47f-a51ca0a55807\" xlink:actuate=\"onRequest\" xlink:href=\"psysml:3b771c61-32b8-41c4-b47f-a51ca0a55807\" xlink:show=\"new\" xlink:title=\"psysml:3b771c61-32b8-41c4-b47f-a51ca0a55807\" xlink:type=\"simple\"><g id=\"elem_E7\"><rect fill=\"#FFFFFF\" height=\"48.6211\" id=\"E7\" rx=\"10\" ry=\"10\" style=\"stroke:#181818;stroke-width:0.5;\" width=\"83\" x=\"32.5\" y=\"547\"/><text fill=\"#000000\" font-family=\"sans-serif\" font-size=\"12\" font-style=\"italic\" lengthAdjust=\"spacing\" textLength=\"36\" x=\"56\" y=\"563.6016\">«part»</text><text fill=\"#000000\" font-family=\"sans-serif\" font-size=\"14\" lengthAdjust=\"spacing\" textLength=\"69\" x=\"35.5\" y=\"579.668\">rack: Rack</text><line style=\"stroke:#181818;stroke-width:0.5;\" x1=\"33.5\" x2=\"114.5\" y1=\"587.6211\" y2=\"587.6211\"/></g></a><!--MD5=[b9389687b975829384b498ac4b7476b2]\n",
       "class E8--><a href=\"psysml:d032b48b-5705-4abc-9c97-dde767e49d07\" target=\"_top\" title=\"psysml:d032b48b-5705-4abc-9c97-dde767e49d07\" xlink:actuate=\"onRequest\" xlink:href=\"psysml:d032b48b-5705-4abc-9c97-dde767e49d07\" xlink:show=\"new\" xlink:title=\"psysml:d032b48b-5705-4abc-9c97-dde767e49d07\" xlink:type=\"simple\"><g id=\"elem_E8\"><rect fill=\"#FFFFFF\" height=\"48.6211\" id=\"E8\" rx=\"10\" ry=\"10\" style=\"stroke:#181818;stroke-width:0.5;\" width=\"119\" x=\"69.5\" y=\"302\"/><text fill=\"#000000\" font-family=\"sans-serif\" font-size=\"12\" font-style=\"italic\" lengthAdjust=\"spacing\" textLength=\"36\" x=\"111\" y=\"318.6016\">«part»</text><text fill=\"#000000\" font-family=\"sans-serif\" font-size=\"14\" lengthAdjust=\"spacing\" textLength=\"105\" x=\"72.5\" y=\"334.668\">drawer: Drawer</text><line style=\"stroke:#181818;stroke-width:0.5;\" x1=\"70.5\" x2=\"187.5\" y1=\"342.6211\" y2=\"342.6211\"/></g></a><!--MD5=[fd4143e9d270a159db93a4ea2a975926]\n",
       "class E9--><a href=\"psysml:0b170d2a-bcf6-4444-bed9-b949ac74bbe0\" target=\"_top\" title=\"psysml:0b170d2a-bcf6-4444-bed9-b949ac74bbe0\" xlink:actuate=\"onRequest\" xlink:href=\"psysml:0b170d2a-bcf6-4444-bed9-b949ac74bbe0\" xlink:show=\"new\" xlink:title=\"psysml:0b170d2a-bcf6-4444-bed9-b949ac74bbe0\" xlink:type=\"simple\"><g id=\"elem_E9\"><rect fill=\"#FFFFFF\" height=\"48.6211\" id=\"E9\" rx=\"10\" ry=\"10\" style=\"stroke:#181818;stroke-width:0.5;\" width=\"237\" x=\"223.5\" y=\"302\"/><text fill=\"#000000\" font-family=\"sans-serif\" font-size=\"12\" font-style=\"italic\" lengthAdjust=\"spacing\" textLength=\"36\" x=\"324\" y=\"318.6016\">«part»</text><text fill=\"#000000\" font-family=\"sans-serif\" font-size=\"14\" lengthAdjust=\"spacing\" textLength=\"223\" x=\"226.5\" y=\"334.668\">heatingElement: HeatingElement</text><line style=\"stroke:#181818;stroke-width:0.5;\" x1=\"224.5\" x2=\"459.5\" y1=\"342.6211\" y2=\"342.6211\"/></g></a><!--MD5=[96f4274e9e20536e775497830990834d]\n",
       "class E10--><a href=\"psysml:558c7245-a60a-4b8d-8ff7-3f1c40cf72c1\" target=\"_top\" title=\"psysml:558c7245-a60a-4b8d-8ff7-3f1c40cf72c1\" xlink:actuate=\"onRequest\" xlink:href=\"psysml:558c7245-a60a-4b8d-8ff7-3f1c40cf72c1\" xlink:show=\"new\" xlink:title=\"psysml:558c7245-a60a-4b8d-8ff7-3f1c40cf72c1\" xlink:type=\"simple\"><g id=\"elem_E10\"><rect fill=\"#FFFFFF\" height=\"48.6211\" id=\"E10\" rx=\"10\" ry=\"10\" style=\"stroke:#181818;stroke-width:0.5;\" width=\"117\" x=\"70.5\" y=\"41\"/><text fill=\"#000000\" font-family=\"sans-serif\" font-size=\"12\" font-style=\"italic\" lengthAdjust=\"spacing\" textLength=\"36\" x=\"111\" y=\"57.6016\">«part»</text><text fill=\"#000000\" font-family=\"sans-serif\" font-size=\"14\" lengthAdjust=\"spacing\" textLength=\"103\" x=\"73.5\" y=\"73.668\">testOven: Oven</text><line style=\"stroke:#181818;stroke-width:0.5;\" x1=\"71.5\" x2=\"186.5\" y1=\"81.6211\" y2=\"81.6211\"/></g></a><!--MD5=[4672eba38e49728da53d11aeb285b987]\n",
       "reverse link E3 to E4--><g id=\"link_E3_E4\"><a href=\"psysml:95c54859-d294-4343-a283-b7edfdeea340\" target=\"_top\" title=\"psysml:95c54859-d294-4343-a283-b7edfdeea340\" xlink:actuate=\"onRequest\" xlink:href=\"psysml:95c54859-d294-4343-a283-b7edfdeea340\" xlink:show=\"new\" xlink:title=\"psysml:95c54859-d294-4343-a283-b7edfdeea340\" xlink:type=\"simple\"><path d=\"M132.32,483.22 C150.67,503.32 173.65,528.49 190.21,546.63 \" fill=\"none\" id=\"E3-backto-E4\" style=\"stroke:#181818;stroke-width:1.0;\"/><polygon fill=\"#181818\" points=\"123.47,473.52,124.5589,480.6484,131.5578,482.385,130.4689,475.2565,123.47,473.52\" style=\"stroke:#181818;stroke-width:1.0;\"/></a></g><!--MD5=[185131fc0dcab0a4505a2ebe144e961b]\n",
       "link E4 to E2--><g id=\"link_E4_E2\"><a href=\"psysml:c834cadd-be6e-4975-a88b-8542ebb9286e\" target=\"_top\" title=\"psysml:c834cadd-be6e-4975-a88b-8542ebb9286e\" xlink:actuate=\"onRequest\" xlink:href=\"psysml:c834cadd-be6e-4975-a88b-8542ebb9286e\" xlink:show=\"new\" xlink:title=\"psysml:c834cadd-be6e-4975-a88b-8542ebb9286e\" xlink:type=\"simple\"><path d=\"M196.69,596.25 C188.65,608.71 178.57,624.34 169.32,638.68 \" fill=\"none\" id=\"E4-to-E2\" style=\"stroke:#181818;stroke-width:1.0;\"/><polygon fill=\"#FFFFFF\" points=\"158.27,655.82,162.6918,636.0602,174.4546,643.6521,158.27,655.82\" style=\"stroke:#181818;stroke-width:1.0;\"/><ellipse cx=\"167.4631\" cy=\"632.3556\" fill=\"#181818\" rx=\"2\" ry=\"2\" style=\"stroke:#181818;stroke-width:1.0;\"/><ellipse cx=\"175.8652\" cy=\"637.7784\" fill=\"#181818\" rx=\"2\" ry=\"2\" style=\"stroke:#181818;stroke-width:1.0;\"/></a></g><!--MD5=[3f50a3473f1dfb74d3f76443e03635af]\n",
       "reverse link E6 to E7--><g id=\"link_E6_E7\"><a href=\"psysml:b4883d7d-c779-4e43-a941-b73d5ee1f740\" target=\"_top\" title=\"psysml:b4883d7d-c779-4e43-a941-b73d5ee1f740\" xlink:actuate=\"onRequest\" xlink:href=\"psysml:b4883d7d-c779-4e43-a941-b73d5ee1f740\" xlink:show=\"new\" xlink:title=\"psysml:b4883d7d-c779-4e43-a941-b73d5ee1f740\" xlink:type=\"simple\"><path d=\"M78.34,252.57 C67.56,267.58 57.72,284.54 52,302 C23.62,388.68 51.24,499.09 66.01,546.79 \" fill=\"none\" id=\"E6-backto-E7\" style=\"stroke:#181818;stroke-width:1.0;\"/><polygon fill=\"#181818\" points=\"86.31,242,79.5042,244.3836,79.0868,251.5826,85.8926,249.199,86.31,242\" style=\"stroke:#181818;stroke-width:1.0;\"/></a></g><!--MD5=[583832df87f4419a098336a29a52fa00]\n",
       "link E7 to E2--><g id=\"link_E7_E2\"><a href=\"psysml:fe5aea83-ba82-4887-80b5-33051aa04860\" target=\"_top\" title=\"psysml:fe5aea83-ba82-4887-80b5-33051aa04860\" xlink:actuate=\"onRequest\" xlink:href=\"psysml:fe5aea83-ba82-4887-80b5-33051aa04860\" xlink:show=\"new\" xlink:title=\"psysml:fe5aea83-ba82-4887-80b5-33051aa04860\" xlink:type=\"simple\"><path d=\"M89.31,596.25 C97.35,608.71 107.43,624.34 116.68,638.68 \" fill=\"none\" id=\"E7-to-E2\" style=\"stroke:#181818;stroke-width:1.0;\"/><polygon fill=\"#FFFFFF\" points=\"127.73,655.82,111.5454,643.6521,123.3082,636.0602,127.73,655.82\" style=\"stroke:#181818;stroke-width:1.0;\"/><ellipse cx=\"110.1348\" cy=\"637.7784\" fill=\"#181818\" rx=\"2\" ry=\"2\" style=\"stroke:#181818;stroke-width:1.0;\"/><ellipse cx=\"118.5369\" cy=\"632.3556\" fill=\"#181818\" rx=\"2\" ry=\"2\" style=\"stroke:#181818;stroke-width:1.0;\"/></a></g><!--MD5=[f4cf0736d43fd73c4ef68817c49d37d5]\n",
       "reverse link E6 to E8--><g id=\"link_E6_E8\"><a href=\"psysml:27c01afa-84fb-433a-b5a2-e670ed7691db\" target=\"_top\" title=\"psysml:27c01afa-84fb-433a-b5a2-e670ed7691db\" xlink:actuate=\"onRequest\" xlink:href=\"psysml:27c01afa-84fb-433a-b5a2-e670ed7691db\" xlink:show=\"new\" xlink:title=\"psysml:27c01afa-84fb-433a-b5a2-e670ed7691db\" xlink:type=\"simple\"><path d=\"M129,255.78 C129,272.07 129,288.83 129,301.84 \" fill=\"none\" id=\"E6-backto-E8\" style=\"stroke:#181818;stroke-width:1.0;\"/><polygon fill=\"#181818\" points=\"129,242.3,125,248.3,129,254.3,133,248.3,129,242.3\" style=\"stroke:#181818;stroke-width:1.0;\"/></a></g><!--MD5=[95fa686b5a16158bcdbcaeead89f639b]\n",
       "link E8 to E3--><g id=\"link_E8_E3\"><a href=\"psysml:d0657530-97e7-4932-93e1-6e30c053a73b\" target=\"_top\" title=\"psysml:d0657530-97e7-4932-93e1-6e30c053a73b\" xlink:actuate=\"onRequest\" xlink:href=\"psysml:d0657530-97e7-4932-93e1-6e30c053a73b\" xlink:show=\"new\" xlink:title=\"psysml:d0657530-97e7-4932-93e1-6e30c053a73b\" xlink:type=\"simple\"><path d=\"M123.73,351.02 C120.33,366.18 115.81,386.36 111.77,404.39 \" fill=\"none\" id=\"E8-to-E3\" style=\"stroke:#181818;stroke-width:1.0;\"/><polygon fill=\"#FFFFFF\" points=\"107.35,424.13,104.6726,404.0593,118.334,407.1197,107.35,424.13\" style=\"stroke:#181818;stroke-width:1.0;\"/><ellipse cx=\"107.8702\" cy=\"398.9344\" fill=\"#181818\" rx=\"2\" ry=\"2\" style=\"stroke:#181818;stroke-width:1.0;\"/><ellipse cx=\"117.6284\" cy=\"401.1203\" fill=\"#181818\" rx=\"2\" ry=\"2\" style=\"stroke:#181818;stroke-width:1.0;\"/></a></g><!--MD5=[e88d06e5a652d73a6b19930eefe025a8]\n",
       "reverse link E6 to E9--><g id=\"link_E6_E9\"><a href=\"psysml:f4300573-78f8-459d-b5b1-2fb9abc40015\" target=\"_top\" title=\"psysml:f4300573-78f8-459d-b5b1-2fb9abc40015\" xlink:actuate=\"onRequest\" xlink:href=\"psysml:f4300573-78f8-459d-b5b1-2fb9abc40015\" xlink:show=\"new\" xlink:title=\"psysml:f4300573-78f8-459d-b5b1-2fb9abc40015\" xlink:type=\"simple\"><path d=\"M212.45,247.34 C243.61,266.14 277.54,286.61 302.86,301.88 \" fill=\"none\" id=\"E6-backto-E9\" style=\"stroke:#181818;stroke-width:1.0;\"/><polygon fill=\"#181818\" points=\"201.11,240.5,204.1847,247.0227,211.3883,246.6933,208.3136,240.1706,201.11,240.5\" style=\"stroke:#181818;stroke-width:1.0;\"/></a></g><!--MD5=[bfc3ddf2e613be37104f658f09af896c]\n",
       "link E9 to E5--><g id=\"link_E9_E5\"><a href=\"psysml:a8218353-3089-40f8-bea4-d4083447aa6b\" target=\"_top\" title=\"psysml:a8218353-3089-40f8-bea4-d4083447aa6b\" xlink:actuate=\"onRequest\" xlink:href=\"psysml:a8218353-3089-40f8-bea4-d4083447aa6b\" xlink:show=\"new\" xlink:title=\"psysml:a8218353-3089-40f8-bea4-d4083447aa6b\" xlink:type=\"simple\"><path d=\"M336.93,351.02 C334.43,362.56 331.32,377.02 328.25,391.22 \" fill=\"none\" id=\"E9-to-E5\" style=\"stroke:#181818;stroke-width:1.0;\"/><polygon fill=\"#FFFFFF\" points=\"324.03,410.79,321.1924,390.7414,334.8779,393.6925,324.03,410.79\" style=\"stroke:#181818;stroke-width:1.0;\"/><ellipse cx=\"324.3491\" cy=\"385.591\" fill=\"#181818\" rx=\"2\" ry=\"2\" style=\"stroke:#181818;stroke-width:1.0;\"/><ellipse cx=\"334.1244\" cy=\"387.699\" fill=\"#181818\" rx=\"2\" ry=\"2\" style=\"stroke:#181818;stroke-width:1.0;\"/></a></g><!--MD5=[198716bf12f04006f5c20d61bde6d80d]\n",
       "link E10 to E6--><g id=\"link_E10_E6\"><a href=\"psysml:918faa06-0fb2-4d94-ad0e-27a3e721b976\" target=\"_top\" title=\"psysml:918faa06-0fb2-4d94-ad0e-27a3e721b976\" xlink:actuate=\"onRequest\" xlink:href=\"psysml:918faa06-0fb2-4d94-ad0e-27a3e721b976\" xlink:show=\"new\" xlink:title=\"psysml:918faa06-0fb2-4d94-ad0e-27a3e721b976\" xlink:type=\"simple\"><path d=\"M129,90.07 C129,101.31 129,115.38 129,129.53 \" fill=\"none\" id=\"E10-to-E6\" style=\"stroke:#181818;stroke-width:1.0;\"/><polygon fill=\"#FFFFFF\" points=\"129,150,122,131,136,131,129,150\" style=\"stroke:#181818;stroke-width:1.0;\"/><ellipse cx=\"124\" cy=\"125.3\" fill=\"#181818\" rx=\"2\" ry=\"2\" style=\"stroke:#181818;stroke-width:1.0;\"/><ellipse cx=\"134\" cy=\"125.3\" fill=\"#181818\" rx=\"2\" ry=\"2\" style=\"stroke:#181818;stroke-width:1.0;\"/></a></g><!--MD5=[32bc5f2a744731b45000d1885ec429d5]\n",
       "@startuml\r\n",
       "skin sysmlbw\r\n",
       "skinparam monochrome true\r\n",
       "skinparam wrapWidth 300\r\n",
       "hide circle\r\n",
       "\r\n",
       "package \"AllCombined\" as E1  [[psysml:d9ec29d1-b958-4dc2-ab95-9123f0f1b4f4 ]]  {\r\n",
       "comp def \"Rack\" as E2  <<(T,blue) part  def>> [[psysml:ca686845-bac0-4a45-9185-b279e51be599 ]] {\r\n",
       "}\r\n",
       "comp def \"Drawer\" as E3  <<(T,blue) part  def>> [[psysml:f2c7f76f-194e-4236-83f2-78e45ae1f1e9 ]] {\r\n",
       "}\r\n",
       "comp usage \"extraRack: Rack  \" as E4  <<(T,blue) part>> [[psysml:0c5845f3-54f7-4bc1-a7ac-a1e878fb6be0 ]] {\r\n",
       "}\r\n",
       "comp def \"HeatingElement\" as E5  <<(T,blue) part  def>> [[psysml:6222cca4-4531-4736-9273-2c6da03f4508 ]] {\r\n",
       "##//attributes//##\r\n",
       "temperature: TemperatureDifferenceUnit\r\n",
       "}\r\n",
       "comp def \"Oven\" as E6  <<(T,blue) part  def>> [[psysml:4642d78e-cbb2-4606-b299-78715a8dd516 ]] {\r\n",
       "##//attributes//##\r\n",
       "slotCount: Integer\r\n",
       "wattage: PowerUnit\r\n",
       "}\r\n",
       "comp usage \"rack: Rack  \" as E7  <<(T,blue) part>> [[psysml:3b771c61-32b8-41c4-b47f-a51ca0a55807 ]] {\r\n",
       "}\r\n",
       "comp usage \"drawer: Drawer  \" as E8  <<(T,blue) part>> [[psysml:d032b48b-5705-4abc-9c97-dde767e49d07 ]] {\r\n",
       "}\r\n",
       "comp usage \"heatingElement: HeatingElement  \" as E9  <<(T,blue) part>> [[psysml:0b170d2a-bcf6-4444-bed9-b949ac74bbe0 ]] {\r\n",
       "}\r\n",
       "comp usage \"testOven: Oven  \" as E10  <<(T,blue) part>> [[psysml:558c7245-a60a-4b8d-8ff7-3f1c40cf72c1 ]] {\r\n",
       "}\r\n",
       "}\r\n",
       "E3 *- - E4 [[psysml:95c54859-d294-4343-a283-b7edfdeea340 ]] \r\n",
       "E4 - -:|> E2 [[psysml:c834cadd-be6e-4975-a88b-8542ebb9286e ]] \r\n",
       "E6 *- - E7 [[psysml:b4883d7d-c779-4e43-a941-b73d5ee1f740 ]] \r\n",
       "E7 - -:|> E2 [[psysml:fe5aea83-ba82-4887-80b5-33051aa04860 ]] \r\n",
       "E6 *- - E8 [[psysml:27c01afa-84fb-433a-b5a2-e670ed7691db ]] \r\n",
       "E8 - -:|> E3 [[psysml:d0657530-97e7-4932-93e1-6e30c053a73b ]] \r\n",
       "E6 *- - E9 [[psysml:f4300573-78f8-459d-b5b1-2fb9abc40015 ]] \r\n",
       "E9 - -:|> E5 [[psysml:a8218353-3089-40f8-bea4-d4083447aa6b ]] \r\n",
       "E10 - -:|> E6 [[psysml:918faa06-0fb2-4d94-ad0e-27a3e721b976 ]] \r\n",
       "@enduml\r\n",
       "\n",
       "PlantUML version 1.2022.7(Mon Aug 22 11:01:30 MDT 2022)\n",
       "(EPL source distribution)\n",
       "Java Runtime: OpenJDK Runtime Environment\n",
       "JVM: OpenJDK 64-Bit Server VM\n",
       "Default Encoding: UTF-8\n",
       "Language: en\n",
       "Country: US\n",
       "--></g></svg>"
      ]
     },
     "execution_count": 4,
     "metadata": {},
     "output_type": "execute_result"
    }
   ],
   "source": [
    "%viz --view=default AllCombined"
   ]
  },
  {
   "cell_type": "markdown",
   "id": "bce5bb6e",
   "metadata": {},
   "source": [
    "Mixture of usage and definition is difficult to parse. \n",
    "\n",
    "Recommended to move definitions into a separate package from the usages and refer to them within the model."
   ]
  },
  {
   "cell_type": "markdown",
   "id": "86b49f2d",
   "metadata": {},
   "source": [
    "### Package.sysml\n",
    "Package\n",
    "- Namespace used as a container for other elements to organize the model\n",
    "- Package contents are contained within curly braces\n",
    "- Visually, package is denoted as a folder with a name at the top and elements within"
   ]
  },
  {
   "cell_type": "code",
   "execution_count": 5,
   "id": "150c4e16",
   "metadata": {},
   "outputs": [
    {
     "data": {
      "text/plain": [
       "Package Package (4c4d216a-b67a-427f-8223-32deb3fe4ad7)\n"
      ]
     },
     "execution_count": 5,
     "metadata": {},
     "output_type": "execute_result"
    }
   ],
   "source": [
    "package Package{\n",
    "    private import SI::*;\n",
    "    private import ScalarValues::Integer;\n",
    "\n",
    "    package OvenDefs{\n",
    "        part def Rack;\n",
    "        part def Drawer{\n",
    "            part extraRack: Rack;\n",
    "        }\n",
    "        part def HeatingElement{\n",
    "            attribute temperature: TemperatureDifferenceUnit;\n",
    "        }\n",
    "        part def Oven{\n",
    "            attribute wattage: PowerUnit;\n",
    "            attribute slotCount: Integer;\n",
    "            part rack: Rack;\n",
    "            part drawer: Drawer;\n",
    "            part heatingElement: HeatingElement;\n",
    "        }\n",
    "    }\n",
    "}"
   ]
  },
  {
   "cell_type": "code",
   "execution_count": 6,
   "id": "83bd2ab0",
   "metadata": {},
   "outputs": [
    {
     "data": {
      "image/svg+xml": [
       "<?xml version=\"1.0\" encoding=\"UTF-8\" standalone=\"no\"?><svg xmlns=\"http://www.w3.org/2000/svg\" xmlns:xlink=\"http://www.w3.org/1999/xlink\" contentStyleType=\"text/css\" height=\"686px\" preserveAspectRatio=\"none\" style=\"width:543px;height:686px;background:#FFFFFF;\" version=\"1.1\" viewBox=\"0 0 543 686\" width=\"543px\" zoomAndPan=\"magnify\"><defs/><g><!--MD5=[fbc87193dbaf4d95561dea2c320d4a47]\n",
       "cluster E1--><g id=\"cluster_E1\"><a href=\"psysml:4c4d216a-b67a-427f-8223-32deb3fe4ad7\" target=\"_top\" title=\"psysml:4c4d216a-b67a-427f-8223-32deb3fe4ad7\" xlink:actuate=\"onRequest\" xlink:href=\"psysml:4c4d216a-b67a-427f-8223-32deb3fe4ad7\" xlink:show=\"new\" xlink:title=\"psysml:4c4d216a-b67a-427f-8223-32deb3fe4ad7\" xlink:type=\"simple\"><polygon fill=\"none\" points=\"16,6,80,6,87,28.4883,526,28.4883,526,679,16,679,16,6\" style=\"stroke:#000000;stroke-width:1.5;\"/><line style=\"stroke:#000000;stroke-width:1.5;\" x1=\"16\" x2=\"87\" y1=\"28.4883\" y2=\"28.4883\"/><text fill=\"#000000\" font-family=\"sans-serif\" font-size=\"14\" font-weight=\"bold\" lengthAdjust=\"spacing\" textLength=\"58\" x=\"20\" y=\"21.5352\">Package</text></a></g><!--MD5=[e4f7fae6ed58524ba242bb0b0d3be6b7]\n",
       "cluster E2--><g id=\"cluster_E2\"><a href=\"psysml:a1c482bb-0c50-4ca9-99b2-fe64cf53ce48\" target=\"_top\" title=\"psysml:a1c482bb-0c50-4ca9-99b2-fe64cf53ce48\" xlink:actuate=\"onRequest\" xlink:href=\"psysml:a1c482bb-0c50-4ca9-99b2-fe64cf53ce48\" xlink:show=\"new\" xlink:title=\"psysml:a1c482bb-0c50-4ca9-99b2-fe64cf53ce48\" xlink:type=\"simple\"><polygon fill=\"none\" points=\"40,49,116,49,123,71.4883,502,71.4883,502,655,40,655,40,49\" style=\"stroke:#000000;stroke-width:1.5;\"/><line style=\"stroke:#000000;stroke-width:1.5;\" x1=\"40\" x2=\"123\" y1=\"71.4883\" y2=\"71.4883\"/><text fill=\"#000000\" font-family=\"sans-serif\" font-size=\"14\" font-weight=\"bold\" lengthAdjust=\"spacing\" textLength=\"70\" x=\"44\" y=\"64.5352\">OvenDefs</text></a></g><!--MD5=[09b614a08d8cba4a07c9adeb5e0fee81]\n",
       "class E3--><a href=\"psysml:d69f33ca-cb00-4f31-b5e5-de0905adef19\" target=\"_top\" title=\"psysml:d69f33ca-cb00-4f31-b5e5-de0905adef19\" xlink:actuate=\"onRequest\" xlink:href=\"psysml:d69f33ca-cb00-4f31-b5e5-de0905adef19\" xlink:show=\"new\" xlink:title=\"psysml:d69f33ca-cb00-4f31-b5e5-de0905adef19\" xlink:type=\"simple\"><g id=\"elem_E3\"><rect fill=\"#FFFFFF\" height=\"48.6211\" id=\"E3\" style=\"stroke:#181818;stroke-width:0.5;\" width=\"65\" x=\"134.5\" y=\"590\"/><text fill=\"#000000\" font-family=\"sans-serif\" font-size=\"12\" font-style=\"italic\" lengthAdjust=\"spacing\" textLength=\"63\" x=\"135.5\" y=\"606.6016\">«part  def»</text><text fill=\"#000000\" font-family=\"sans-serif\" font-size=\"14\" lengthAdjust=\"spacing\" textLength=\"32\" x=\"151\" y=\"622.668\">Rack</text><line style=\"stroke:#181818;stroke-width:0.5;\" x1=\"135.5\" x2=\"198.5\" y1=\"630.6211\" y2=\"630.6211\"/></g></a><!--MD5=[ebbe1d658d1005bcc118a6aa81145e00]\n",
       "class E4--><a href=\"psysml:3d0845ec-f2af-49ef-b8b8-a18ea371192a\" target=\"_top\" title=\"psysml:3d0845ec-f2af-49ef-b8b8-a18ea371192a\" xlink:actuate=\"onRequest\" xlink:href=\"psysml:3d0845ec-f2af-49ef-b8b8-a18ea371192a\" xlink:show=\"new\" xlink:title=\"psysml:3d0845ec-f2af-49ef-b8b8-a18ea371192a\" xlink:type=\"simple\"><g id=\"elem_E4\"><rect fill=\"#FFFFFF\" height=\"48.6211\" id=\"E4\" style=\"stroke:#181818;stroke-width:0.5;\" width=\"65\" x=\"93.5\" y=\"358.5\"/><text fill=\"#000000\" font-family=\"sans-serif\" font-size=\"12\" font-style=\"italic\" lengthAdjust=\"spacing\" textLength=\"63\" x=\"94.5\" y=\"375.1016\">«part  def»</text><text fill=\"#000000\" font-family=\"sans-serif\" font-size=\"14\" lengthAdjust=\"spacing\" textLength=\"49\" x=\"101.5\" y=\"391.168\">Drawer</text><line style=\"stroke:#181818;stroke-width:0.5;\" x1=\"94.5\" x2=\"157.5\" y1=\"399.1211\" y2=\"399.1211\"/></g></a><!--MD5=[270fce915f116d4de14055a7c1d9a0f3]\n",
       "class E5--><a href=\"psysml:51e8e621-7f32-419b-9a9f-92f6306fcf93\" target=\"_top\" title=\"psysml:51e8e621-7f32-419b-9a9f-92f6306fcf93\" xlink:actuate=\"onRequest\" xlink:href=\"psysml:51e8e621-7f32-419b-9a9f-92f6306fcf93\" xlink:show=\"new\" xlink:title=\"psysml:51e8e621-7f32-419b-9a9f-92f6306fcf93\" xlink:type=\"simple\"><g id=\"elem_E5\"><rect fill=\"#FFFFFF\" height=\"48.6211\" id=\"E5\" rx=\"10\" ry=\"10\" style=\"stroke:#181818;stroke-width:0.5;\" width=\"122\" x=\"175\" y=\"481\"/><text fill=\"#000000\" font-family=\"sans-serif\" font-size=\"12\" font-style=\"italic\" lengthAdjust=\"spacing\" textLength=\"36\" x=\"218\" y=\"497.6016\">«part»</text><text fill=\"#000000\" font-family=\"sans-serif\" font-size=\"14\" lengthAdjust=\"spacing\" textLength=\"108\" x=\"178\" y=\"513.668\">extraRack: Rack</text><line style=\"stroke:#181818;stroke-width:0.5;\" x1=\"176\" x2=\"296\" y1=\"521.6211\" y2=\"521.6211\"/></g></a><!--MD5=[60a26617385b1d2d0262a64233df1f8d]\n",
       "class E6--><a href=\"psysml:87851fff-7408-465c-a13a-c22d4844a153\" target=\"_top\" title=\"psysml:87851fff-7408-465c-a13a-c22d4844a153\" xlink:actuate=\"onRequest\" xlink:href=\"psysml:87851fff-7408-465c-a13a-c22d4844a153\" xlink:show=\"new\" xlink:title=\"psysml:87851fff-7408-465c-a13a-c22d4844a153\" xlink:type=\"simple\"><g id=\"elem_E6\"><rect fill=\"#FFFFFF\" height=\"75.7047\" id=\"E6\" style=\"stroke:#181818;stroke-width:0.5;\" width=\"292\" x=\"194\" y=\"345\"/><text fill=\"#000000\" font-family=\"sans-serif\" font-size=\"12\" font-style=\"italic\" lengthAdjust=\"spacing\" textLength=\"63\" x=\"308.5\" y=\"361.6016\">«part  def»</text><text fill=\"#000000\" font-family=\"sans-serif\" font-size=\"14\" lengthAdjust=\"spacing\" textLength=\"108\" x=\"286\" y=\"377.668\">HeatingElement</text><line style=\"stroke:#181818;stroke-width:0.5;\" x1=\"195\" x2=\"485\" y1=\"385.6211\" y2=\"385.6211\"/><text fill=\"#000000\" font-family=\"sans-serif\" font-size=\"14\" lengthAdjust=\"spacing\" textLength=\"280\" x=\"200\" y=\"413.7516\">temperature: TemperatureDifferenceUnit</text><text fill=\"#000000\" font-family=\"sans-serif\" font-size=\"14\" font-style=\"italic\" lengthAdjust=\"spacing\" textLength=\"66\" x=\"307\" y=\"398.4121\">attributes</text></g></a><!--MD5=[2156ba9850f5573cc1fc38a6a4b2f02b]\n",
       "class E7--><a href=\"psysml:8d360b88-82bb-41fd-8f7c-b917c6353b64\" target=\"_top\" title=\"psysml:8d360b88-82bb-41fd-8f7c-b917c6353b64\" xlink:actuate=\"onRequest\" xlink:href=\"psysml:8d360b88-82bb-41fd-8f7c-b917c6353b64\" xlink:show=\"new\" xlink:title=\"psysml:8d360b88-82bb-41fd-8f7c-b917c6353b64\" xlink:type=\"simple\"><g id=\"elem_E7\"><rect fill=\"#FFFFFF\" height=\"92.193\" id=\"E7\" style=\"stroke:#181818;stroke-width:0.5;\" width=\"144\" x=\"81\" y=\"84\"/><text fill=\"#000000\" font-family=\"sans-serif\" font-size=\"12\" font-style=\"italic\" lengthAdjust=\"spacing\" textLength=\"63\" x=\"121.5\" y=\"100.6016\">«part  def»</text><text fill=\"#000000\" font-family=\"sans-serif\" font-size=\"14\" lengthAdjust=\"spacing\" textLength=\"35\" x=\"135.5\" y=\"116.668\">Oven</text><line style=\"stroke:#181818;stroke-width:0.5;\" x1=\"82\" x2=\"224\" y1=\"124.6211\" y2=\"124.6211\"/><text fill=\"#000000\" font-family=\"sans-serif\" font-size=\"14\" lengthAdjust=\"spacing\" textLength=\"124\" x=\"87\" y=\"152.7516\">slotCount: Integer</text><text fill=\"#000000\" font-family=\"sans-serif\" font-size=\"14\" lengthAdjust=\"spacing\" textLength=\"132\" x=\"87\" y=\"169.2398\">wattage: PowerUnit</text><text fill=\"#000000\" font-family=\"sans-serif\" font-size=\"14\" font-style=\"italic\" lengthAdjust=\"spacing\" textLength=\"66\" x=\"120\" y=\"137.4121\">attributes</text></g></a><!--MD5=[b9389687b975829384b498ac4b7476b2]\n",
       "class E8--><a href=\"psysml:06a9c4ec-e39a-46ba-b25d-ee1521067c1f\" target=\"_top\" title=\"psysml:06a9c4ec-e39a-46ba-b25d-ee1521067c1f\" xlink:actuate=\"onRequest\" xlink:href=\"psysml:06a9c4ec-e39a-46ba-b25d-ee1521067c1f\" xlink:show=\"new\" xlink:title=\"psysml:06a9c4ec-e39a-46ba-b25d-ee1521067c1f\" xlink:type=\"simple\"><g id=\"elem_E8\"><rect fill=\"#FFFFFF\" height=\"48.6211\" id=\"E8\" rx=\"10\" ry=\"10\" style=\"stroke:#181818;stroke-width:0.5;\" width=\"83\" x=\"56.5\" y=\"481\"/><text fill=\"#000000\" font-family=\"sans-serif\" font-size=\"12\" font-style=\"italic\" lengthAdjust=\"spacing\" textLength=\"36\" x=\"80\" y=\"497.6016\">«part»</text><text fill=\"#000000\" font-family=\"sans-serif\" font-size=\"14\" lengthAdjust=\"spacing\" textLength=\"69\" x=\"59.5\" y=\"513.668\">rack: Rack</text><line style=\"stroke:#181818;stroke-width:0.5;\" x1=\"57.5\" x2=\"138.5\" y1=\"521.6211\" y2=\"521.6211\"/></g></a><!--MD5=[fd4143e9d270a159db93a4ea2a975926]\n",
       "class E9--><a href=\"psysml:49ee5b9b-e06c-46a6-aca7-1710edf569c0\" target=\"_top\" title=\"psysml:49ee5b9b-e06c-46a6-aca7-1710edf569c0\" xlink:actuate=\"onRequest\" xlink:href=\"psysml:49ee5b9b-e06c-46a6-aca7-1710edf569c0\" xlink:show=\"new\" xlink:title=\"psysml:49ee5b9b-e06c-46a6-aca7-1710edf569c0\" xlink:type=\"simple\"><g id=\"elem_E9\"><rect fill=\"#FFFFFF\" height=\"48.6211\" id=\"E9\" rx=\"10\" ry=\"10\" style=\"stroke:#181818;stroke-width:0.5;\" width=\"119\" x=\"93.5\" y=\"236\"/><text fill=\"#000000\" font-family=\"sans-serif\" font-size=\"12\" font-style=\"italic\" lengthAdjust=\"spacing\" textLength=\"36\" x=\"135\" y=\"252.6016\">«part»</text><text fill=\"#000000\" font-family=\"sans-serif\" font-size=\"14\" lengthAdjust=\"spacing\" textLength=\"105\" x=\"96.5\" y=\"268.668\">drawer: Drawer</text><line style=\"stroke:#181818;stroke-width:0.5;\" x1=\"94.5\" x2=\"211.5\" y1=\"276.6211\" y2=\"276.6211\"/></g></a><!--MD5=[96f4274e9e20536e775497830990834d]\n",
       "class E10--><a href=\"psysml:1509864d-cfae-4180-908e-4d15301e1014\" target=\"_top\" title=\"psysml:1509864d-cfae-4180-908e-4d15301e1014\" xlink:actuate=\"onRequest\" xlink:href=\"psysml:1509864d-cfae-4180-908e-4d15301e1014\" xlink:show=\"new\" xlink:title=\"psysml:1509864d-cfae-4180-908e-4d15301e1014\" xlink:type=\"simple\"><g id=\"elem_E10\"><rect fill=\"#FFFFFF\" height=\"48.6211\" id=\"E10\" rx=\"10\" ry=\"10\" style=\"stroke:#181818;stroke-width:0.5;\" width=\"237\" x=\"247.5\" y=\"236\"/><text fill=\"#000000\" font-family=\"sans-serif\" font-size=\"12\" font-style=\"italic\" lengthAdjust=\"spacing\" textLength=\"36\" x=\"348\" y=\"252.6016\">«part»</text><text fill=\"#000000\" font-family=\"sans-serif\" font-size=\"14\" lengthAdjust=\"spacing\" textLength=\"223\" x=\"250.5\" y=\"268.668\">heatingElement: HeatingElement</text><line style=\"stroke:#181818;stroke-width:0.5;\" x1=\"248.5\" x2=\"483.5\" y1=\"276.6211\" y2=\"276.6211\"/></g></a><!--MD5=[62aa6af11e70f752912c1cb0466f24f7]\n",
       "reverse link E4 to E5--><g id=\"link_E4_E5\"><a href=\"psysml:66fa15ed-d3e0-4e52-a682-57aacf411ad5\" target=\"_top\" title=\"psysml:66fa15ed-d3e0-4e52-a682-57aacf411ad5\" xlink:actuate=\"onRequest\" xlink:href=\"psysml:66fa15ed-d3e0-4e52-a682-57aacf411ad5\" xlink:show=\"new\" xlink:title=\"psysml:66fa15ed-d3e0-4e52-a682-57aacf411ad5\" xlink:type=\"simple\"><path d=\"M156.32,417.22 C174.67,437.32 197.65,462.49 214.21,480.63 \" fill=\"none\" id=\"E4-backto-E5\" style=\"stroke:#181818;stroke-width:1.0;\"/><polygon fill=\"#181818\" points=\"147.47,407.52,148.5589,414.6484,155.5578,416.385,154.4689,409.2565,147.47,407.52\" style=\"stroke:#181818;stroke-width:1.0;\"/></a></g><!--MD5=[e9be52314489bd878ff4c7144b63c9e1]\n",
       "link E5 to E3--><g id=\"link_E5_E3\"><a href=\"psysml:09ad99a2-6286-4530-b6c5-ac571825d9d1\" target=\"_top\" title=\"psysml:09ad99a2-6286-4530-b6c5-ac571825d9d1\" xlink:actuate=\"onRequest\" xlink:href=\"psysml:09ad99a2-6286-4530-b6c5-ac571825d9d1\" xlink:show=\"new\" xlink:title=\"psysml:09ad99a2-6286-4530-b6c5-ac571825d9d1\" xlink:type=\"simple\"><path d=\"M220.69,530.25 C212.65,542.71 202.57,558.34 193.32,572.68 \" fill=\"none\" id=\"E5-to-E3\" style=\"stroke:#181818;stroke-width:1.0;\"/><polygon fill=\"#FFFFFF\" points=\"182.27,589.82,186.6918,570.0602,198.4546,577.6521,182.27,589.82\" style=\"stroke:#181818;stroke-width:1.0;\"/><ellipse cx=\"191.4631\" cy=\"566.3556\" fill=\"#181818\" rx=\"2\" ry=\"2\" style=\"stroke:#181818;stroke-width:1.0;\"/><ellipse cx=\"199.8652\" cy=\"571.7784\" fill=\"#181818\" rx=\"2\" ry=\"2\" style=\"stroke:#181818;stroke-width:1.0;\"/></a></g><!--MD5=[dc164f5e8a733ab456ef1add180e9e34]\n",
       "reverse link E7 to E8--><g id=\"link_E7_E8\"><a href=\"psysml:31791f9c-e15c-4b60-b7c3-4d79b881cd48\" target=\"_top\" title=\"psysml:31791f9c-e15c-4b60-b7c3-4d79b881cd48\" xlink:actuate=\"onRequest\" xlink:href=\"psysml:31791f9c-e15c-4b60-b7c3-4d79b881cd48\" xlink:show=\"new\" xlink:title=\"psysml:31791f9c-e15c-4b60-b7c3-4d79b881cd48\" xlink:type=\"simple\"><path d=\"M102.34,186.57 C91.56,201.58 81.72,218.54 76,236 C47.62,322.68 75.24,433.09 90.01,480.79 \" fill=\"none\" id=\"E7-backto-E8\" style=\"stroke:#181818;stroke-width:1.0;\"/><polygon fill=\"#181818\" points=\"110.31,176,103.5042,178.3836,103.0868,185.5826,109.8926,183.199,110.31,176\" style=\"stroke:#181818;stroke-width:1.0;\"/></a></g><!--MD5=[95fa686b5a16158bcdbcaeead89f639b]\n",
       "link E8 to E3--><g id=\"link_E8_E3\"><a href=\"psysml:7ee2315e-5f4d-422f-b96d-e66d86c6406a\" target=\"_top\" title=\"psysml:7ee2315e-5f4d-422f-b96d-e66d86c6406a\" xlink:actuate=\"onRequest\" xlink:href=\"psysml:7ee2315e-5f4d-422f-b96d-e66d86c6406a\" xlink:show=\"new\" xlink:title=\"psysml:7ee2315e-5f4d-422f-b96d-e66d86c6406a\" xlink:type=\"simple\"><path d=\"M113.31,530.25 C121.35,542.71 131.43,558.34 140.68,572.68 \" fill=\"none\" id=\"E8-to-E3\" style=\"stroke:#181818;stroke-width:1.0;\"/><polygon fill=\"#FFFFFF\" points=\"151.73,589.82,135.5454,577.6521,147.3082,570.0602,151.73,589.82\" style=\"stroke:#181818;stroke-width:1.0;\"/><ellipse cx=\"134.1348\" cy=\"571.7784\" fill=\"#181818\" rx=\"2\" ry=\"2\" style=\"stroke:#181818;stroke-width:1.0;\"/><ellipse cx=\"142.5369\" cy=\"566.3556\" fill=\"#181818\" rx=\"2\" ry=\"2\" style=\"stroke:#181818;stroke-width:1.0;\"/></a></g><!--MD5=[e4a10ef82d0e328e31cac39a31e58dda]\n",
       "reverse link E7 to E9--><g id=\"link_E7_E9\"><a href=\"psysml:6f30217d-7c1d-454b-a652-c74a61390662\" target=\"_top\" title=\"psysml:6f30217d-7c1d-454b-a652-c74a61390662\" xlink:actuate=\"onRequest\" xlink:href=\"psysml:6f30217d-7c1d-454b-a652-c74a61390662\" xlink:show=\"new\" xlink:title=\"psysml:6f30217d-7c1d-454b-a652-c74a61390662\" xlink:type=\"simple\"><path d=\"M153,189.78 C153,206.07 153,222.83 153,235.84 \" fill=\"none\" id=\"E7-backto-E9\" style=\"stroke:#181818;stroke-width:1.0;\"/><polygon fill=\"#181818\" points=\"153,176.3,149,182.3,153,188.3,157,182.3,153,176.3\" style=\"stroke:#181818;stroke-width:1.0;\"/></a></g><!--MD5=[c2be97adba6ddfe1c8f349fab141c927]\n",
       "link E9 to E4--><g id=\"link_E9_E4\"><a href=\"psysml:cb273b4f-6c71-4e59-9bee-87ffca35dc65\" target=\"_top\" title=\"psysml:cb273b4f-6c71-4e59-9bee-87ffca35dc65\" xlink:actuate=\"onRequest\" xlink:href=\"psysml:cb273b4f-6c71-4e59-9bee-87ffca35dc65\" xlink:show=\"new\" xlink:title=\"psysml:cb273b4f-6c71-4e59-9bee-87ffca35dc65\" xlink:type=\"simple\"><path d=\"M147.73,285.02 C144.33,300.18 139.81,320.36 135.77,338.39 \" fill=\"none\" id=\"E9-to-E4\" style=\"stroke:#181818;stroke-width:1.0;\"/><polygon fill=\"#FFFFFF\" points=\"131.35,358.13,128.6726,338.0593,142.334,341.1197,131.35,358.13\" style=\"stroke:#181818;stroke-width:1.0;\"/><ellipse cx=\"131.8702\" cy=\"332.9344\" fill=\"#181818\" rx=\"2\" ry=\"2\" style=\"stroke:#181818;stroke-width:1.0;\"/><ellipse cx=\"141.6284\" cy=\"335.1203\" fill=\"#181818\" rx=\"2\" ry=\"2\" style=\"stroke:#181818;stroke-width:1.0;\"/></a></g><!--MD5=[922cdebd694c5e143c813d690fab87df]\n",
       "reverse link E7 to E10--><g id=\"link_E7_E10\"><a href=\"psysml:48d1cb81-e576-458a-ab0a-e3c54adcadc8\" target=\"_top\" title=\"psysml:48d1cb81-e576-458a-ab0a-e3c54adcadc8\" xlink:actuate=\"onRequest\" xlink:href=\"psysml:48d1cb81-e576-458a-ab0a-e3c54adcadc8\" xlink:show=\"new\" xlink:title=\"psysml:48d1cb81-e576-458a-ab0a-e3c54adcadc8\" xlink:type=\"simple\"><path d=\"M236.45,181.34 C267.61,200.14 301.54,220.61 326.86,235.88 \" fill=\"none\" id=\"E7-backto-E10\" style=\"stroke:#181818;stroke-width:1.0;\"/><polygon fill=\"#181818\" points=\"225.11,174.5,228.1847,181.0227,235.3883,180.6933,232.3136,174.1706,225.11,174.5\" style=\"stroke:#181818;stroke-width:1.0;\"/></a></g><!--MD5=[198716bf12f04006f5c20d61bde6d80d]\n",
       "link E10 to E6--><g id=\"link_E10_E6\"><a href=\"psysml:a508610b-c436-4c2f-8ba4-cd745c993016\" target=\"_top\" title=\"psysml:a508610b-c436-4c2f-8ba4-cd745c993016\" xlink:actuate=\"onRequest\" xlink:href=\"psysml:a508610b-c436-4c2f-8ba4-cd745c993016\" xlink:show=\"new\" xlink:title=\"psysml:a508610b-c436-4c2f-8ba4-cd745c993016\" xlink:type=\"simple\"><path d=\"M360.93,285.02 C358.43,296.56 355.32,311.02 352.25,325.22 \" fill=\"none\" id=\"E10-to-E6\" style=\"stroke:#181818;stroke-width:1.0;\"/><polygon fill=\"#FFFFFF\" points=\"348.03,344.79,345.1924,324.7414,358.8779,327.6925,348.03,344.79\" style=\"stroke:#181818;stroke-width:1.0;\"/><ellipse cx=\"348.3491\" cy=\"319.591\" fill=\"#181818\" rx=\"2\" ry=\"2\" style=\"stroke:#181818;stroke-width:1.0;\"/><ellipse cx=\"358.1244\" cy=\"321.699\" fill=\"#181818\" rx=\"2\" ry=\"2\" style=\"stroke:#181818;stroke-width:1.0;\"/></a></g><!--MD5=[eec40b53a9d19e1114ef508b41200fc2]\n",
       "@startuml\r\n",
       "skin sysmlbw\r\n",
       "skinparam monochrome true\r\n",
       "skinparam wrapWidth 300\r\n",
       "hide circle\r\n",
       "\r\n",
       "package \"Package\" as E1  [[psysml:4c4d216a-b67a-427f-8223-32deb3fe4ad7 ]]  {\r\n",
       "package \"OvenDefs\" as E2  [[psysml:a1c482bb-0c50-4ca9-99b2-fe64cf53ce48 ]]  {\r\n",
       "comp def \"Rack\" as E3  <<(T,blue) part  def>> [[psysml:d69f33ca-cb00-4f31-b5e5-de0905adef19 ]] {\r\n",
       "}\r\n",
       "comp def \"Drawer\" as E4  <<(T,blue) part  def>> [[psysml:3d0845ec-f2af-49ef-b8b8-a18ea371192a ]] {\r\n",
       "}\r\n",
       "comp usage \"extraRack: Rack  \" as E5  <<(T,blue) part>> [[psysml:51e8e621-7f32-419b-9a9f-92f6306fcf93 ]] {\r\n",
       "}\r\n",
       "comp def \"HeatingElement\" as E6  <<(T,blue) part  def>> [[psysml:87851fff-7408-465c-a13a-c22d4844a153 ]] {\r\n",
       "##//attributes//##\r\n",
       "temperature: TemperatureDifferenceUnit\r\n",
       "}\r\n",
       "comp def \"Oven\" as E7  <<(T,blue) part  def>> [[psysml:8d360b88-82bb-41fd-8f7c-b917c6353b64 ]] {\r\n",
       "##//attributes//##\r\n",
       "slotCount: Integer\r\n",
       "wattage: PowerUnit\r\n",
       "}\r\n",
       "comp usage \"rack: Rack  \" as E8  <<(T,blue) part>> [[psysml:06a9c4ec-e39a-46ba-b25d-ee1521067c1f ]] {\r\n",
       "}\r\n",
       "comp usage \"drawer: Drawer  \" as E9  <<(T,blue) part>> [[psysml:49ee5b9b-e06c-46a6-aca7-1710edf569c0 ]] {\r\n",
       "}\r\n",
       "comp usage \"heatingElement: HeatingElement  \" as E10  <<(T,blue) part>> [[psysml:1509864d-cfae-4180-908e-4d15301e1014 ]] {\r\n",
       "}\r\n",
       "}\r\n",
       "}\r\n",
       "E4 *- - E5 [[psysml:66fa15ed-d3e0-4e52-a682-57aacf411ad5 ]] \r\n",
       "E5 - -:|> E3 [[psysml:09ad99a2-6286-4530-b6c5-ac571825d9d1 ]] \r\n",
       "E7 *- - E8 [[psysml:31791f9c-e15c-4b60-b7c3-4d79b881cd48 ]] \r\n",
       "E8 - -:|> E3 [[psysml:7ee2315e-5f4d-422f-b96d-e66d86c6406a ]] \r\n",
       "E7 *- - E9 [[psysml:6f30217d-7c1d-454b-a652-c74a61390662 ]] \r\n",
       "E9 - -:|> E4 [[psysml:cb273b4f-6c71-4e59-9bee-87ffca35dc65 ]] \r\n",
       "E7 *- - E10 [[psysml:48d1cb81-e576-458a-ab0a-e3c54adcadc8 ]] \r\n",
       "E10 - -:|> E6 [[psysml:a508610b-c436-4c2f-8ba4-cd745c993016 ]] \r\n",
       "@enduml\r\n",
       "\n",
       "PlantUML version 1.2022.7(Mon Aug 22 11:01:30 MDT 2022)\n",
       "(EPL source distribution)\n",
       "Java Runtime: OpenJDK Runtime Environment\n",
       "JVM: OpenJDK 64-Bit Server VM\n",
       "Default Encoding: UTF-8\n",
       "Language: en\n",
       "Country: US\n",
       "--></g></svg>"
      ]
     },
     "execution_count": 6,
     "metadata": {},
     "output_type": "execute_result"
    }
   ],
   "source": [
    "%viz --view=default Package"
   ]
  },
  {
   "cell_type": "markdown",
   "id": "092e56d2",
   "metadata": {},
   "source": [
    "### ImportRelationship.sysml\n",
    "Packages can be referred to in another model by importing the package\n",
    "- Namespace imports memberships from another namespace\n",
    "- NOTE: For jupyter, you will need to use double-colon notation `::` to import packages within a package as all code has to be packaged to visualize"
   ]
  },
  {
   "cell_type": "code",
   "execution_count": 11,
   "id": "0ea82f53",
   "metadata": {},
   "outputs": [
    {
     "data": {
      "text/plain": [
       "Package ImportRelationship (52760b2b-f828-48e4-9e53-3c2399ddb4af)\n"
      ]
     },
     "execution_count": 11,
     "metadata": {},
     "output_type": "execute_result"
    }
   ],
   "source": [
    "package ImportRelationship{\n",
    "    private import Package::OvenDefs::*;\n",
    "    // * is wildcard, imports all members of package\n",
    "\n",
    "    part testOven: Oven{\n",
    "        part racks[2]: Rack;\n",
    "    }\n",
    "}"
   ]
  },
  {
   "cell_type": "code",
   "execution_count": 12,
   "id": "ec4bc238",
   "metadata": {},
   "outputs": [
    {
     "data": {
      "image/svg+xml": [
       "<?xml version=\"1.0\" encoding=\"UTF-8\" standalone=\"no\"?><svg xmlns=\"http://www.w3.org/2000/svg\" xmlns:xlink=\"http://www.w3.org/1999/xlink\" contentStyleType=\"text/css\" height=\"222px\" preserveAspectRatio=\"none\" style=\"width:189px;height:222px;background:#FFFFFF;\" version=\"1.1\" viewBox=\"0 0 189 222\" width=\"189px\" zoomAndPan=\"magnify\"><defs/><g><!--MD5=[fbc87193dbaf4d95561dea2c320d4a47]\n",
       "cluster E1--><g id=\"cluster_E1\"><a href=\"psysml:52760b2b-f828-48e4-9e53-3c2399ddb4af\" target=\"_top\" title=\"psysml:52760b2b-f828-48e4-9e53-3c2399ddb4af\" xlink:actuate=\"onRequest\" xlink:href=\"psysml:52760b2b-f828-48e4-9e53-3c2399ddb4af\" xlink:show=\"new\" xlink:title=\"psysml:52760b2b-f828-48e4-9e53-3c2399ddb4af\" xlink:type=\"simple\"><polygon fill=\"none\" points=\"16,6,162,6,169,28.4883,172,28.4883,172,215,16,215,16,6\" style=\"stroke:#000000;stroke-width:1.5;\"/><line style=\"stroke:#000000;stroke-width:1.5;\" x1=\"16\" x2=\"169\" y1=\"28.4883\" y2=\"28.4883\"/><text fill=\"#000000\" font-family=\"sans-serif\" font-size=\"14\" font-weight=\"bold\" lengthAdjust=\"spacing\" textLength=\"140\" x=\"20\" y=\"21.5352\">ImportRelationship</text></a></g><!--MD5=[b4997ac47864f28c2f74865a473b2911]\n",
       "class E2--><a href=\"psysml:fa645527-27f4-43a7-9092-5b4eb57cd9c8\" target=\"_top\" title=\"psysml:fa645527-27f4-43a7-9092-5b4eb57cd9c8\" xlink:actuate=\"onRequest\" xlink:href=\"psysml:fa645527-27f4-43a7-9092-5b4eb57cd9c8\" xlink:show=\"new\" xlink:title=\"psysml:fa645527-27f4-43a7-9092-5b4eb57cd9c8\" xlink:type=\"simple\"><g id=\"elem_E2\"><rect fill=\"#FFFFFF\" height=\"48.6211\" id=\"E2\" rx=\"10\" ry=\"10\" style=\"stroke:#181818;stroke-width:0.5;\" width=\"117\" x=\"35.5\" y=\"41\"/><text fill=\"#000000\" font-family=\"sans-serif\" font-size=\"12\" font-style=\"italic\" lengthAdjust=\"spacing\" textLength=\"36\" x=\"76\" y=\"57.6016\">«part»</text><text fill=\"#000000\" font-family=\"sans-serif\" font-size=\"14\" lengthAdjust=\"spacing\" textLength=\"103\" x=\"38.5\" y=\"73.668\">testOven: Oven</text><line style=\"stroke:#181818;stroke-width:0.5;\" x1=\"36.5\" x2=\"151.5\" y1=\"81.6211\" y2=\"81.6211\"/></g></a><!--MD5=[09b614a08d8cba4a07c9adeb5e0fee81]\n",
       "class E3--><a href=\"psysml:601b35fb-183b-4d6a-a444-c38123facbae\" target=\"_top\" title=\"psysml:601b35fb-183b-4d6a-a444-c38123facbae\" xlink:actuate=\"onRequest\" xlink:href=\"psysml:601b35fb-183b-4d6a-a444-c38123facbae\" xlink:show=\"new\" xlink:title=\"psysml:601b35fb-183b-4d6a-a444-c38123facbae\" xlink:type=\"simple\"><g id=\"elem_E3\"><rect fill=\"#FFFFFF\" height=\"48.6211\" id=\"E3\" rx=\"10\" ry=\"10\" style=\"stroke:#181818;stroke-width:0.5;\" width=\"90\" x=\"49\" y=\"150\"/><text fill=\"#000000\" font-family=\"sans-serif\" font-size=\"12\" font-style=\"italic\" lengthAdjust=\"spacing\" textLength=\"36\" x=\"76\" y=\"166.6016\">«part»</text><text fill=\"#000000\" font-family=\"sans-serif\" font-size=\"14\" lengthAdjust=\"spacing\" textLength=\"76\" x=\"52\" y=\"182.668\">racks: Rack</text><line style=\"stroke:#181818;stroke-width:0.5;\" x1=\"50\" x2=\"138\" y1=\"190.6211\" y2=\"190.6211\"/></g></a><!--MD5=[209b3feb70ccb6233bfe1053d122c12c]\n",
       "reverse link E2 to E3--><g id=\"link_E2_E3\"><a href=\"psysml:408ebeca-db37-46b7-a730-8c66d3f9aa56\" target=\"_top\" title=\"psysml:408ebeca-db37-46b7-a730-8c66d3f9aa56\" xlink:actuate=\"onRequest\" xlink:href=\"psysml:408ebeca-db37-46b7-a730-8c66d3f9aa56\" xlink:show=\"new\" xlink:title=\"psysml:408ebeca-db37-46b7-a730-8c66d3f9aa56\" xlink:type=\"simple\"><path d=\"M94,103.6 C94,118.94 94,136.26 94,149.82 \" fill=\"none\" id=\"E2-backto-E3\" style=\"stroke:#181818;stroke-width:1.0;\"/><polygon fill=\"#181818\" points=\"94,90.25,90,96.25,94,102.25,98,96.25,94,90.25\" style=\"stroke:#181818;stroke-width:1.0;\"/><text fill=\"#000000\" font-family=\"sans-serif\" font-size=\"13\" lengthAdjust=\"spacing\" textLength=\"8\" x=\"84.975\" y=\"139.2306\">2</text></a></g><!--MD5=[b05945d44e6d5bc62590bd8cd37d453e]\n",
       "@startuml\r\n",
       "skin sysmlbw\r\n",
       "skinparam monochrome true\r\n",
       "skinparam wrapWidth 300\r\n",
       "hide circle\r\n",
       "\r\n",
       "package \"ImportRelationship\" as E1  [[psysml:52760b2b-f828-48e4-9e53-3c2399ddb4af ]]  {\r\n",
       "comp usage \"testOven: Oven  \" as E2  <<(T,blue) part>> [[psysml:fa645527-27f4-43a7-9092-5b4eb57cd9c8 ]] {\r\n",
       "}\r\n",
       "comp usage \"racks: Rack  \" as E3  <<(T,blue) part>> [[psysml:601b35fb-183b-4d6a-a444-c38123facbae ]] {\r\n",
       "}\r\n",
       "}\r\n",
       "E2 *- - \"2\"E3 [[psysml:408ebeca-db37-46b7-a730-8c66d3f9aa56 ]] \r\n",
       "@enduml\r\n",
       "\n",
       "PlantUML version 1.2022.7(Mon Aug 22 11:01:30 MDT 2022)\n",
       "(EPL source distribution)\n",
       "Java Runtime: OpenJDK Runtime Environment\n",
       "JVM: OpenJDK 64-Bit Server VM\n",
       "Default Encoding: UTF-8\n",
       "Language: en\n",
       "Country: US\n",
       "--></g></svg>"
      ]
     },
     "execution_count": 12,
     "metadata": {},
     "output_type": "execute_result"
    }
   ],
   "source": [
    "%viz --view=default ImportRelationship\n",
    "// This will only show the part usages, not definitions"
   ]
  },
  {
   "cell_type": "markdown",
   "id": "f2ae1218",
   "metadata": {},
   "source": [
    "## 02-05 Specializations\n",
    "Specialization\n",
    "- Relationship between definition and usage elements enabling reuse\n",
    "\n",
    "Types of Specialization\n",
    "| Type | Definition | Example |\n",
    "|:--------:|:--------|:---------|\n",
    "| Definition | An element usage is defined by an element definition | testOven is defined by Oven |\n",
    "| Subclassification | **Definition element** is specialized by another definition element | Oven is specialized as electric or gas |\n",
    "| Subsetting | **Usage element** is specialized using another usage with a subset of values | Oven with racks is specialized by an electric oven with a subset of properties specific to the rack definied in the oven |\n",
    "| Redefinition | **Usage** redefines a usage |  |"
   ]
  },
  {
   "cell_type": "markdown",
   "id": "44fb6abb",
   "metadata": {},
   "source": [
    "### Subclassification.sysml\n",
    "- Can use `part def PartName specializes Part`\n",
    "or\n",
    "- `part def PartName :> Part` (Smiley symbol)\n",
    "\n",
    "Graphically, depicted via 2 open arrow heads pointing from the specific to the generalized type\n",
    "- Specialized elements inherit features from general ones\n",
    "    - Can add adtl or change existing features"
   ]
  },
  {
   "cell_type": "code",
   "execution_count": 13,
   "id": "9e15b68c",
   "metadata": {},
   "outputs": [
    {
     "data": {
      "text/plain": [
       "Package Subclassification (a585b104-694a-49eb-8179-b3311bdc0062)\n"
      ]
     },
     "execution_count": 13,
     "metadata": {},
     "output_type": "execute_result"
    }
   ],
   "source": [
    "package Subclassification{\n",
    "    part def Oven;  // Define an oven\n",
    "    part def ElectricOven specializes Oven; // define an electric oven as a specialization of Oven\n",
    "    part def GasOven :> Oven;\n",
    "}"
   ]
  },
  {
   "cell_type": "code",
   "execution_count": 14,
   "id": "e3b057dc",
   "metadata": {},
   "outputs": [
    {
     "data": {
      "image/svg+xml": [
       "<?xml version=\"1.0\" encoding=\"UTF-8\" standalone=\"no\"?><svg xmlns=\"http://www.w3.org/2000/svg\" xmlns:xlink=\"http://www.w3.org/1999/xlink\" contentStyleType=\"text/css\" height=\"222px\" preserveAspectRatio=\"none\" style=\"width:256px;height:222px;background:#FFFFFF;\" version=\"1.1\" viewBox=\"0 0 256 222\" width=\"256px\" zoomAndPan=\"magnify\"><defs/><g><!--MD5=[fbc87193dbaf4d95561dea2c320d4a47]\n",
       "cluster E1--><g id=\"cluster_E1\"><a href=\"psysml:a585b104-694a-49eb-8179-b3311bdc0062\" target=\"_top\" title=\"psysml:a585b104-694a-49eb-8179-b3311bdc0062\" xlink:actuate=\"onRequest\" xlink:href=\"psysml:a585b104-694a-49eb-8179-b3311bdc0062\" xlink:show=\"new\" xlink:title=\"psysml:a585b104-694a-49eb-8179-b3311bdc0062\" xlink:type=\"simple\"><polygon fill=\"none\" points=\"16,6,144,6,151,28.4883,239,28.4883,239,215,16,215,16,6\" style=\"stroke:#000000;stroke-width:1.5;\"/><line style=\"stroke:#000000;stroke-width:1.5;\" x1=\"16\" x2=\"151\" y1=\"28.4883\" y2=\"28.4883\"/><text fill=\"#000000\" font-family=\"sans-serif\" font-size=\"14\" font-weight=\"bold\" lengthAdjust=\"spacing\" textLength=\"122\" x=\"20\" y=\"21.5352\">Subclassification</text></a></g><!--MD5=[b4997ac47864f28c2f74865a473b2911]\n",
       "class E2--><a href=\"psysml:34d7225d-0a0f-43ff-8701-94807c3ab588\" target=\"_top\" title=\"psysml:34d7225d-0a0f-43ff-8701-94807c3ab588\" xlink:actuate=\"onRequest\" xlink:href=\"psysml:34d7225d-0a0f-43ff-8701-94807c3ab588\" xlink:show=\"new\" xlink:title=\"psysml:34d7225d-0a0f-43ff-8701-94807c3ab588\" xlink:type=\"simple\"><g id=\"elem_E2\"><rect fill=\"#FFFFFF\" height=\"48.6211\" id=\"E2\" style=\"stroke:#181818;stroke-width:0.5;\" width=\"65\" x=\"88.5\" y=\"150\"/><text fill=\"#000000\" font-family=\"sans-serif\" font-size=\"12\" font-style=\"italic\" lengthAdjust=\"spacing\" textLength=\"63\" x=\"89.5\" y=\"166.6016\">«part  def»</text><text fill=\"#000000\" font-family=\"sans-serif\" font-size=\"14\" lengthAdjust=\"spacing\" textLength=\"35\" x=\"103.5\" y=\"182.668\">Oven</text><line style=\"stroke:#181818;stroke-width:0.5;\" x1=\"89.5\" x2=\"152.5\" y1=\"190.6211\" y2=\"190.6211\"/></g></a><!--MD5=[09b614a08d8cba4a07c9adeb5e0fee81]\n",
       "class E3--><a href=\"psysml:69071439-01f6-4239-9540-f8111e31343e\" target=\"_top\" title=\"psysml:69071439-01f6-4239-9540-f8111e31343e\" xlink:actuate=\"onRequest\" xlink:href=\"psysml:69071439-01f6-4239-9540-f8111e31343e\" xlink:show=\"new\" xlink:title=\"psysml:69071439-01f6-4239-9540-f8111e31343e\" xlink:type=\"simple\"><g id=\"elem_E3\"><rect fill=\"#FFFFFF\" height=\"48.6211\" id=\"E3\" style=\"stroke:#181818;stroke-width:0.5;\" width=\"90\" x=\"133\" y=\"41\"/><text fill=\"#000000\" font-family=\"sans-serif\" font-size=\"12\" font-style=\"italic\" lengthAdjust=\"spacing\" textLength=\"63\" x=\"146.5\" y=\"57.6016\">«part  def»</text><text fill=\"#000000\" font-family=\"sans-serif\" font-size=\"14\" lengthAdjust=\"spacing\" textLength=\"84\" x=\"136\" y=\"73.668\">ElectricOven</text><line style=\"stroke:#181818;stroke-width:0.5;\" x1=\"134\" x2=\"222\" y1=\"81.6211\" y2=\"81.6211\"/></g></a><!--MD5=[ebbe1d658d1005bcc118a6aa81145e00]\n",
       "class E4--><a href=\"psysml:eff6e324-a4ad-4337-a67e-efbc7ceff7f1\" target=\"_top\" title=\"psysml:eff6e324-a4ad-4337-a67e-efbc7ceff7f1\" xlink:actuate=\"onRequest\" xlink:href=\"psysml:eff6e324-a4ad-4337-a67e-efbc7ceff7f1\" xlink:show=\"new\" xlink:title=\"psysml:eff6e324-a4ad-4337-a67e-efbc7ceff7f1\" xlink:type=\"simple\"><g id=\"elem_E4\"><rect fill=\"#FFFFFF\" height=\"48.6211\" id=\"E4\" style=\"stroke:#181818;stroke-width:0.5;\" width=\"66\" x=\"32\" y=\"41\"/><text fill=\"#000000\" font-family=\"sans-serif\" font-size=\"12\" font-style=\"italic\" lengthAdjust=\"spacing\" textLength=\"63\" x=\"33.5\" y=\"57.6016\">«part  def»</text><text fill=\"#000000\" font-family=\"sans-serif\" font-size=\"14\" lengthAdjust=\"spacing\" textLength=\"60\" x=\"35\" y=\"73.668\">GasOven</text><line style=\"stroke:#181818;stroke-width:0.5;\" x1=\"33\" x2=\"97\" y1=\"81.6211\" y2=\"81.6211\"/></g></a><!--MD5=[05d275557350bfb9b23a4ef7222b4c39]\n",
       "link E3 to E2--><g id=\"link_E3_E2\"><a href=\"psysml:9b0dc786-f783-4576-8d96-aff800b26da7\" target=\"_top\" title=\"psysml:9b0dc786-f783-4576-8d96-aff800b26da7\" xlink:actuate=\"onRequest\" xlink:href=\"psysml:9b0dc786-f783-4576-8d96-aff800b26da7\" xlink:show=\"new\" xlink:title=\"psysml:9b0dc786-f783-4576-8d96-aff800b26da7\" xlink:type=\"simple\"><path d=\"M165.35,90.25 C158.86,102.44 150.75,117.65 143.25,131.72 \" fill=\"none\" id=\"E3-to-E2\" style=\"stroke:#181818;stroke-width:1.0;\"/><polygon fill=\"none\" points=\"149.2,135.46,133.61,149.82,136.84,128.88,149.2,135.46\" style=\"stroke:#181818;stroke-width:1.0;\"/></a></g><!--MD5=[185131fc0dcab0a4505a2ebe144e961b]\n",
       "link E4 to E2--><g id=\"link_E4_E2\"><a href=\"psysml:2d5a3876-f12a-4b23-a0b5-d65ad1a57514\" target=\"_top\" title=\"psysml:2d5a3876-f12a-4b23-a0b5-d65ad1a57514\" xlink:actuate=\"onRequest\" xlink:href=\"psysml:2d5a3876-f12a-4b23-a0b5-d65ad1a57514\" xlink:show=\"new\" xlink:title=\"psysml:2d5a3876-f12a-4b23-a0b5-d65ad1a57514\" xlink:type=\"simple\"><path d=\"M77.43,90.25 C83.81,102.44 91.77,117.65 99.14,131.72 \" fill=\"none\" id=\"E4-to-E2\" style=\"stroke:#181818;stroke-width:1.0;\"/><polygon fill=\"none\" points=\"105.53,128.85,108.61,149.82,93.13,135.35,105.53,128.85\" style=\"stroke:#181818;stroke-width:1.0;\"/></a></g><!--MD5=[340ec5fd6dd1c32b4d53d5706a332c00]\n",
       "@startuml\r\n",
       "skin sysmlbw\r\n",
       "skinparam monochrome true\r\n",
       "skinparam wrapWidth 300\r\n",
       "hide circle\r\n",
       "\r\n",
       "package \"Subclassification\" as E1  [[psysml:a585b104-694a-49eb-8179-b3311bdc0062 ]]  {\r\n",
       "comp def \"Oven\" as E2  <<(T,blue) part  def>> [[psysml:34d7225d-0a0f-43ff-8701-94807c3ab588 ]] {\r\n",
       "}\r\n",
       "comp def \"ElectricOven\" as E3  <<(T,blue) part  def>> [[psysml:69071439-01f6-4239-9540-f8111e31343e ]] {\r\n",
       "}\r\n",
       "comp def \"GasOven\" as E4  <<(T,blue) part  def>> [[psysml:eff6e324-a4ad-4337-a67e-efbc7ceff7f1 ]] {\r\n",
       "}\r\n",
       "}\r\n",
       "E3 - -|> E2 [[psysml:9b0dc786-f783-4576-8d96-aff800b26da7 ]] \r\n",
       "E4 - -|> E2 [[psysml:2d5a3876-f12a-4b23-a0b5-d65ad1a57514 ]] \r\n",
       "@enduml\r\n",
       "\n",
       "PlantUML version 1.2022.7(Mon Aug 22 11:01:30 MDT 2022)\n",
       "(EPL source distribution)\n",
       "Java Runtime: OpenJDK Runtime Environment\n",
       "JVM: OpenJDK 64-Bit Server VM\n",
       "Default Encoding: UTF-8\n",
       "Language: en\n",
       "Country: US\n",
       "--></g></svg>"
      ]
     },
     "execution_count": 14,
     "metadata": {},
     "output_type": "execute_result"
    }
   ],
   "source": [
    "%viz --view=default Subclassification"
   ]
  },
  {
   "cell_type": "markdown",
   "id": "9fc34f52",
   "metadata": {},
   "source": [
    "### Subsetting.sysml\n",
    "Relationship between 2 usage elements\n",
    "- One element subsets features of another usage \n",
    "- Use keyword `subsets` or `:>` from before\n",
    "- Arrows from top and bottom rack have hollow heads, connecting them to Rack, and are denoted as inherent to the Oven\n",
    "    - Same as for specialization, just between usages"
   ]
  },
  {
   "cell_type": "code",
   "execution_count": 15,
   "id": "59b618d4",
   "metadata": {},
   "outputs": [
    {
     "data": {
      "text/plain": [
       "Package Subsetting (1e9c08e9-7fd7-4ad2-beb3-c77ab947581b)\n"
      ]
     },
     "execution_count": 15,
     "metadata": {},
     "output_type": "execute_result"
    }
   ],
   "source": [
    "package Subsetting{\n",
    "    part def Rack{\n",
    "        attribute depth;\n",
    "        attribute width;\n",
    "    }\n",
    "\n",
    "    part def Oven{\n",
    "        part racks: Rack[2]; // Array of 2 racks\n",
    "        part topRack subsets racks; // subset racks to make top and bottom\n",
    "        part bottomRack :> racks;\n",
    "    }\n",
    "}"
   ]
  },
  {
   "cell_type": "code",
   "execution_count": 16,
   "id": "2226e5a9",
   "metadata": {},
   "outputs": [
    {
     "data": {
      "image/svg+xml": [
       "<?xml version=\"1.0\" encoding=\"UTF-8\" standalone=\"no\"?><svg xmlns=\"http://www.w3.org/2000/svg\" xmlns:xlink=\"http://www.w3.org/1999/xlink\" contentStyleType=\"text/css\" height=\"483px\" preserveAspectRatio=\"none\" style=\"width:405px;height:483px;background:#FFFFFF;\" version=\"1.1\" viewBox=\"0 0 405 483\" width=\"405px\" zoomAndPan=\"magnify\"><defs/><g><!--MD5=[fbc87193dbaf4d95561dea2c320d4a47]\n",
       "cluster E1--><g id=\"cluster_E1\"><a href=\"psysml:1e9c08e9-7fd7-4ad2-beb3-c77ab947581b\" target=\"_top\" title=\"psysml:1e9c08e9-7fd7-4ad2-beb3-c77ab947581b\" xlink:actuate=\"onRequest\" xlink:href=\"psysml:1e9c08e9-7fd7-4ad2-beb3-c77ab947581b\" xlink:show=\"new\" xlink:title=\"psysml:1e9c08e9-7fd7-4ad2-beb3-c77ab947581b\" xlink:type=\"simple\"><polygon fill=\"none\" points=\"16,6,99,6,106,28.4883,388,28.4883,388,476,16,476,16,6\" style=\"stroke:#000000;stroke-width:1.5;\"/><line style=\"stroke:#000000;stroke-width:1.5;\" x1=\"16\" x2=\"106\" y1=\"28.4883\" y2=\"28.4883\"/><text fill=\"#000000\" font-family=\"sans-serif\" font-size=\"14\" font-weight=\"bold\" lengthAdjust=\"spacing\" textLength=\"77\" x=\"20\" y=\"21.5352\">Subsetting</text></a></g><!--MD5=[b4997ac47864f28c2f74865a473b2911]\n",
       "class E2--><a href=\"psysml:f3d20b07-b6a9-41a5-97b8-a779dd8b16b1\" target=\"_top\" title=\"psysml:f3d20b07-b6a9-41a5-97b8-a779dd8b16b1\" xlink:actuate=\"onRequest\" xlink:href=\"psysml:f3d20b07-b6a9-41a5-97b8-a779dd8b16b1\" xlink:show=\"new\" xlink:title=\"psysml:f3d20b07-b6a9-41a5-97b8-a779dd8b16b1\" xlink:type=\"simple\"><g id=\"elem_E2\"><rect fill=\"#FFFFFF\" height=\"92.193\" id=\"E2\" style=\"stroke:#181818;stroke-width:0.5;\" width=\"74\" x=\"92\" y=\"368\"/><text fill=\"#000000\" font-family=\"sans-serif\" font-size=\"12\" font-style=\"italic\" lengthAdjust=\"spacing\" textLength=\"63\" x=\"97.5\" y=\"384.6016\">«part  def»</text><text fill=\"#000000\" font-family=\"sans-serif\" font-size=\"14\" lengthAdjust=\"spacing\" textLength=\"32\" x=\"113\" y=\"400.668\">Rack</text><line style=\"stroke:#181818;stroke-width:0.5;\" x1=\"93\" x2=\"165\" y1=\"408.6211\" y2=\"408.6211\"/><text fill=\"#000000\" font-family=\"sans-serif\" font-size=\"14\" lengthAdjust=\"spacing\" textLength=\"40\" x=\"98\" y=\"436.7516\">depth</text><text fill=\"#000000\" font-family=\"sans-serif\" font-size=\"14\" lengthAdjust=\"spacing\" textLength=\"38\" x=\"98\" y=\"453.2398\">width</text><text fill=\"#000000\" font-family=\"sans-serif\" font-size=\"14\" font-style=\"italic\" lengthAdjust=\"spacing\" textLength=\"66\" x=\"96\" y=\"421.4121\">attributes</text></g></a><!--MD5=[09b614a08d8cba4a07c9adeb5e0fee81]\n",
       "class E3--><a href=\"psysml:9502c007-088d-415a-992b-782d85a722f5\" target=\"_top\" title=\"psysml:9502c007-088d-415a-992b-782d85a722f5\" xlink:actuate=\"onRequest\" xlink:href=\"psysml:9502c007-088d-415a-992b-782d85a722f5\" xlink:show=\"new\" xlink:title=\"psysml:9502c007-088d-415a-992b-782d85a722f5\" xlink:type=\"simple\"><g id=\"elem_E3\"><rect fill=\"#FFFFFF\" height=\"48.6211\" id=\"E3\" style=\"stroke:#181818;stroke-width:0.5;\" width=\"65\" x=\"96.5\" y=\"41\"/><text fill=\"#000000\" font-family=\"sans-serif\" font-size=\"12\" font-style=\"italic\" lengthAdjust=\"spacing\" textLength=\"63\" x=\"97.5\" y=\"57.6016\">«part  def»</text><text fill=\"#000000\" font-family=\"sans-serif\" font-size=\"14\" lengthAdjust=\"spacing\" textLength=\"35\" x=\"111.5\" y=\"73.668\">Oven</text><line style=\"stroke:#181818;stroke-width:0.5;\" x1=\"97.5\" x2=\"160.5\" y1=\"81.6211\" y2=\"81.6211\"/></g></a><!--MD5=[ebbe1d658d1005bcc118a6aa81145e00]\n",
       "class E4--><a href=\"psysml:faaa92f2-9225-4e39-9342-1a6103abffe5\" target=\"_top\" title=\"psysml:faaa92f2-9225-4e39-9342-1a6103abffe5\" xlink:actuate=\"onRequest\" xlink:href=\"psysml:faaa92f2-9225-4e39-9342-1a6103abffe5\" xlink:show=\"new\" xlink:title=\"psysml:faaa92f2-9225-4e39-9342-1a6103abffe5\" xlink:type=\"simple\"><g id=\"elem_E4\"><rect fill=\"#FFFFFF\" height=\"48.6211\" id=\"E4\" rx=\"10\" ry=\"10\" style=\"stroke:#181818;stroke-width:0.5;\" width=\"90\" x=\"84\" y=\"259\"/><text fill=\"#000000\" font-family=\"sans-serif\" font-size=\"12\" font-style=\"italic\" lengthAdjust=\"spacing\" textLength=\"36\" x=\"111\" y=\"275.6016\">«part»</text><text fill=\"#000000\" font-family=\"sans-serif\" font-size=\"14\" lengthAdjust=\"spacing\" textLength=\"76\" x=\"87\" y=\"291.668\">racks: Rack</text><line style=\"stroke:#181818;stroke-width:0.5;\" x1=\"85\" x2=\"173\" y1=\"299.6211\" y2=\"299.6211\"/></g></a><!--MD5=[270fce915f116d4de14055a7c1d9a0f3]\n",
       "class E5--><a href=\"psysml:b652a15b-3371-409e-b992-273648ebe498\" target=\"_top\" title=\"psysml:b652a15b-3371-409e-b992-273648ebe498\" xlink:actuate=\"onRequest\" xlink:href=\"psysml:b652a15b-3371-409e-b992-273648ebe498\" xlink:show=\"new\" xlink:title=\"psysml:b652a15b-3371-409e-b992-273648ebe498\" xlink:type=\"simple\"><g id=\"elem_E5\"><rect fill=\"#FFFFFF\" height=\"48.6211\" id=\"E5\" rx=\"10\" ry=\"10\" style=\"stroke:#181818;stroke-width:0.5;\" width=\"120\" x=\"69\" y=\"150\"/><text fill=\"#000000\" font-family=\"sans-serif\" font-size=\"12\" font-style=\"italic\" lengthAdjust=\"spacing\" textLength=\"36\" x=\"111\" y=\"166.6016\">«part»</text><text fill=\"#000000\" font-family=\"sans-serif\" font-size=\"14\" lengthAdjust=\"spacing\" textLength=\"110\" x=\"72\" y=\"182.668\">topRack :&gt;racks</text><line style=\"stroke:#181818;stroke-width:0.5;\" x1=\"70\" x2=\"188\" y1=\"190.6211\" y2=\"190.6211\"/></g></a><!--MD5=[60a26617385b1d2d0262a64233df1f8d]\n",
       "class E6--><a href=\"psysml:755a0dd9-5bed-4b78-aea7-fea1498891d4\" target=\"_top\" title=\"psysml:755a0dd9-5bed-4b78-aea7-fea1498891d4\" xlink:actuate=\"onRequest\" xlink:href=\"psysml:755a0dd9-5bed-4b78-aea7-fea1498891d4\" xlink:show=\"new\" xlink:title=\"psysml:755a0dd9-5bed-4b78-aea7-fea1498891d4\" xlink:type=\"simple\"><g id=\"elem_E6\"><rect fill=\"#FFFFFF\" height=\"48.6211\" id=\"E6\" rx=\"10\" ry=\"10\" style=\"stroke:#181818;stroke-width:0.5;\" width=\"147\" x=\"224.5\" y=\"150\"/><text fill=\"#000000\" font-family=\"sans-serif\" font-size=\"12\" font-style=\"italic\" lengthAdjust=\"spacing\" textLength=\"36\" x=\"280\" y=\"166.6016\">«part»</text><text fill=\"#000000\" font-family=\"sans-serif\" font-size=\"14\" lengthAdjust=\"spacing\" textLength=\"137\" x=\"227.5\" y=\"182.668\">bottomRack :&gt;racks</text><line style=\"stroke:#181818;stroke-width:0.5;\" x1=\"225.5\" x2=\"370.5\" y1=\"190.6211\" y2=\"190.6211\"/></g></a><!--MD5=[4672eba38e49728da53d11aeb285b987]\n",
       "reverse link E3 to E4--><g id=\"link_E3_E4\"><a href=\"psysml:cd03c6a6-24f1-4fb6-b139-a72ab514b415\" target=\"_top\" title=\"psysml:cd03c6a6-24f1-4fb6-b139-a72ab514b415\" xlink:actuate=\"onRequest\" xlink:href=\"psysml:cd03c6a6-24f1-4fb6-b139-a72ab514b415\" xlink:show=\"new\" xlink:title=\"psysml:cd03c6a6-24f1-4fb6-b139-a72ab514b415\" xlink:type=\"simple\"><path d=\"M87.5,99.23 C73.09,113.16 58.63,130.66 51,150 C43.01,170.26 43.01,178.74 51,199 C60.39,222.81 80.12,243.82 97.39,258.82 \" fill=\"none\" id=\"E3-backto-E4\" style=\"stroke:#181818;stroke-width:1.0;\"/><polygon fill=\"#181818\" points=\"97.39,90.18,90.2624,91.2742,88.531,98.2744,95.6586,97.1802,97.39,90.18\" style=\"stroke:#181818;stroke-width:1.0;\"/><text fill=\"#000000\" font-family=\"sans-serif\" font-size=\"13\" lengthAdjust=\"spacing\" textLength=\"8\" x=\"80.2649\" y=\"248.2306\">2</text></a></g><!--MD5=[185131fc0dcab0a4505a2ebe144e961b]\n",
       "link E4 to E2--><g id=\"link_E4_E2\"><a href=\"psysml:cf84ad23-2f84-4394-8663-6661ffd35452\" target=\"_top\" title=\"psysml:cf84ad23-2f84-4394-8663-6661ffd35452\" xlink:actuate=\"onRequest\" xlink:href=\"psysml:cf84ad23-2f84-4394-8663-6661ffd35452\" xlink:show=\"new\" xlink:title=\"psysml:cf84ad23-2f84-4394-8663-6661ffd35452\" xlink:type=\"simple\"><path d=\"M129,308.07 C129,319.31 129,333.38 129,347.53 \" fill=\"none\" id=\"E4-to-E2\" style=\"stroke:#181818;stroke-width:1.0;\"/><polygon fill=\"#FFFFFF\" points=\"129,368,122,349,136,349,129,368\" style=\"stroke:#181818;stroke-width:1.0;\"/><ellipse cx=\"124\" cy=\"343.3\" fill=\"#181818\" rx=\"2\" ry=\"2\" style=\"stroke:#181818;stroke-width:1.0;\"/><ellipse cx=\"134\" cy=\"343.3\" fill=\"#181818\" rx=\"2\" ry=\"2\" style=\"stroke:#181818;stroke-width:1.0;\"/></a></g><!--MD5=[191cde3d490a3f6d7bb551fe3ddca469]\n",
       "reverse link E3 to E5--><g id=\"link_E3_E5\"><a href=\"psysml:3b13fb8d-938f-4efa-a106-aa1d6b4c87ec\" target=\"_top\" title=\"psysml:3b13fb8d-938f-4efa-a106-aa1d6b4c87ec\" xlink:actuate=\"onRequest\" xlink:href=\"psysml:3b13fb8d-938f-4efa-a106-aa1d6b4c87ec\" xlink:show=\"new\" xlink:title=\"psysml:3b13fb8d-938f-4efa-a106-aa1d6b4c87ec\" xlink:type=\"simple\"><path d=\"M129,103.6 C129,118.94 129,136.26 129,149.82 \" fill=\"none\" id=\"E3-backto-E5\" style=\"stroke:#181818;stroke-width:1.0;\"/><polygon fill=\"#181818\" points=\"129,90.25,125,96.25,129,102.25,133,96.25,129,90.25\" style=\"stroke:#181818;stroke-width:1.0;\"/></a></g><!--MD5=[1c62de2aa5b76f0fb657ff8443a1a700]\n",
       "link E5 to E4--><g id=\"link_E5_E4\"><a href=\"psysml:b967d3b1-80e9-4f98-92fa-8beb1689fbf4\" target=\"_top\" title=\"psysml:b967d3b1-80e9-4f98-92fa-8beb1689fbf4\" xlink:actuate=\"onRequest\" xlink:href=\"psysml:b967d3b1-80e9-4f98-92fa-8beb1689fbf4\" xlink:show=\"new\" xlink:title=\"psysml:b967d3b1-80e9-4f98-92fa-8beb1689fbf4\" xlink:type=\"simple\"><path d=\"M129,199.25 C129,210.88 129,225.27 129,238.8 \" fill=\"none\" id=\"E5-to-E4\" style=\"stroke:#181818;stroke-width:1.0;\"/><polygon fill=\"none\" points=\"136,238.82,129,258.82,122,238.82,136,238.82\" style=\"stroke:#181818;stroke-width:1.0;\"/></a></g><!--MD5=[1026b4b93417a13aa8999a858998add2]\n",
       "reverse link E3 to E6--><g id=\"link_E3_E6\"><a href=\"psysml:d510ca13-d6ea-4529-b12a-8e54a4ed5a26\" target=\"_top\" title=\"psysml:d510ca13-d6ea-4529-b12a-8e54a4ed5a26\" xlink:actuate=\"onRequest\" xlink:href=\"psysml:d510ca13-d6ea-4529-b12a-8e54a4ed5a26\" xlink:show=\"new\" xlink:title=\"psysml:d510ca13-d6ea-4529-b12a-8e54a4ed5a26\" xlink:type=\"simple\"><path d=\"M172.78,94.22 C200.09,111.51 234.84,133.51 260.81,149.95 \" fill=\"none\" id=\"E3-backto-E6\" style=\"stroke:#181818;stroke-width:1.0;\"/><polygon fill=\"#181818\" points=\"161.58,87.13,164.5089,93.7195,171.718,93.5503,168.7891,86.9608,161.58,87.13\" style=\"stroke:#181818;stroke-width:1.0;\"/></a></g><!--MD5=[f667431f98296947986a1a7595a31603]\n",
       "link E6 to E4--><g id=\"link_E6_E4\"><a href=\"psysml:2f0c47ca-8c48-452a-8bbd-07b6ef77cd90\" target=\"_top\" title=\"psysml:2f0c47ca-8c48-452a-8bbd-07b6ef77cd90\" xlink:actuate=\"onRequest\" xlink:href=\"psysml:2f0c47ca-8c48-452a-8bbd-07b6ef77cd90\" xlink:show=\"new\" xlink:title=\"psysml:2f0c47ca-8c48-452a-8bbd-07b6ef77cd90\" xlink:type=\"simple\"><path d=\"M260.49,199.25 C237.85,213.58 208.6,232.1 183.44,248.03 \" fill=\"none\" id=\"E6-to-E4\" style=\"stroke:#181818;stroke-width:1.0;\"/><polygon fill=\"none\" points=\"187.04,254.04,166.4,258.82,179.56,242.21,187.04,254.04\" style=\"stroke:#181818;stroke-width:1.0;\"/></a></g><!--MD5=[08d3429f13c3f8d93969e0512657b757]\n",
       "@startuml\r\n",
       "skin sysmlbw\r\n",
       "skinparam monochrome true\r\n",
       "skinparam wrapWidth 300\r\n",
       "hide circle\r\n",
       "\r\n",
       "package \"Subsetting\" as E1  [[psysml:1e9c08e9-7fd7-4ad2-beb3-c77ab947581b ]]  {\r\n",
       "comp def \"Rack\" as E2  <<(T,blue) part  def>> [[psysml:f3d20b07-b6a9-41a5-97b8-a779dd8b16b1 ]] {\r\n",
       "##//attributes//##\r\n",
       "depth\r\n",
       "width\r\n",
       "}\r\n",
       "comp def \"Oven\" as E3  <<(T,blue) part  def>> [[psysml:9502c007-088d-415a-992b-782d85a722f5 ]] {\r\n",
       "}\r\n",
       "comp usage \"racks: Rack  \" as E4  <<(T,blue) part>> [[psysml:faaa92f2-9225-4e39-9342-1a6103abffe5 ]] {\r\n",
       "}\r\n",
       "comp usage \"topRack :>racks \" as E5  <<(T,blue) part>> [[psysml:b652a15b-3371-409e-b992-273648ebe498 ]] {\r\n",
       "}\r\n",
       "comp usage \"bottomRack :>racks \" as E6  <<(T,blue) part>> [[psysml:755a0dd9-5bed-4b78-aea7-fea1498891d4 ]] {\r\n",
       "}\r\n",
       "}\r\n",
       "E3 *- - \"2\"E4 [[psysml:cd03c6a6-24f1-4fb6-b139-a72ab514b415 ]] \r\n",
       "E4 - -:|> E2 [[psysml:cf84ad23-2f84-4394-8663-6661ffd35452 ]] \r\n",
       "E3 *- - E5 [[psysml:3b13fb8d-938f-4efa-a106-aa1d6b4c87ec ]] \r\n",
       "E5 - -|> E4 [[psysml:b967d3b1-80e9-4f98-92fa-8beb1689fbf4 ]] \r\n",
       "E3 *- - E6 [[psysml:d510ca13-d6ea-4529-b12a-8e54a4ed5a26 ]] \r\n",
       "E6 - -|> E4 [[psysml:2f0c47ca-8c48-452a-8bbd-07b6ef77cd90 ]] \r\n",
       "@enduml\r\n",
       "\n",
       "PlantUML version 1.2022.7(Mon Aug 22 11:01:30 MDT 2022)\n",
       "(EPL source distribution)\n",
       "Java Runtime: OpenJDK Runtime Environment\n",
       "JVM: OpenJDK 64-Bit Server VM\n",
       "Default Encoding: UTF-8\n",
       "Language: en\n",
       "Country: US\n",
       "--></g></svg>"
      ]
     },
     "execution_count": 16,
     "metadata": {},
     "output_type": "execute_result"
    }
   ],
   "source": [
    "%viz --view=default Subsetting"
   ]
  },
  {
   "cell_type": "markdown",
   "id": "5d3ef3ef",
   "metadata": {},
   "source": [
    "### Redefinition-1.sysml\n",
    "Assume we have an item definition that will be referenced by a part definition.\n",
    "- Specialization redefines item definition\n",
    "- Uses notation `redefines` or `:>>` (Sergeant symbol)\n",
    "- Graphically, hollow arrowhead with line crossing arrow path\n",
    "    - Determines that any specialization will have a respective item definition, takes it from generic to specific"
   ]
  },
  {
   "cell_type": "code",
   "execution_count": 17,
   "id": "70752de0",
   "metadata": {},
   "outputs": [
    {
     "data": {
      "text/plain": [
       "Package Redefinition1 (cab2c68b-e1a3-423c-af93-7dae15f7c94b)\n"
      ]
     },
     "execution_count": 17,
     "metadata": {},
     "output_type": "execute_result"
    }
   ],
   "source": [
    "package Redefinition1{\n",
    "    item def Fuel;\n",
    "    \n",
    "    part def Oven{\n",
    "        ref item fuel: Fuel;\n",
    "    }\n",
    "\n",
    "    part def ElectricOven specializes Oven{\n",
    "        ref item electricity redefines fuel;\n",
    "    }\n",
    "\n",
    "    part def GasOven :> Oven{\n",
    "        ref item gas :>> fuel;\n",
    "    }\n",
    "}"
   ]
  },
  {
   "cell_type": "code",
   "execution_count": 19,
   "id": "54a60d45",
   "metadata": {},
   "outputs": [
    {
     "data": {
      "image/svg+xml": [
       "<?xml version=\"1.0\" encoding=\"UTF-8\" standalone=\"no\"?><svg xmlns=\"http://www.w3.org/2000/svg\" xmlns:xlink=\"http://www.w3.org/1999/xlink\" contentStyleType=\"text/css\" height=\"282px\" preserveAspectRatio=\"none\" style=\"width:557px;height:282px;background:#FFFFFF;\" version=\"1.1\" viewBox=\"0 0 557 282\" width=\"557px\" zoomAndPan=\"magnify\"><defs/><g><!--MD5=[fbc87193dbaf4d95561dea2c320d4a47]\n",
       "cluster E1--><g id=\"cluster_E1\"><a href=\"psysml:cab2c68b-e1a3-423c-af93-7dae15f7c94b\" target=\"_top\" title=\"psysml:cab2c68b-e1a3-423c-af93-7dae15f7c94b\" xlink:actuate=\"onRequest\" xlink:href=\"psysml:cab2c68b-e1a3-423c-af93-7dae15f7c94b\" xlink:show=\"new\" xlink:title=\"psysml:cab2c68b-e1a3-423c-af93-7dae15f7c94b\" xlink:type=\"simple\"><polygon fill=\"none\" points=\"16,6,120,6,127,28.4883,540,28.4883,540,275,16,275,16,6\" style=\"stroke:#000000;stroke-width:1.5;\"/><line style=\"stroke:#000000;stroke-width:1.5;\" x1=\"16\" x2=\"127\" y1=\"28.4883\" y2=\"28.4883\"/><text fill=\"#000000\" font-family=\"sans-serif\" font-size=\"14\" font-weight=\"bold\" lengthAdjust=\"spacing\" textLength=\"98\" x=\"20\" y=\"21.5352\">Redefinition1</text></a></g><!--MD5=[b4997ac47864f28c2f74865a473b2911]\n",
       "class E2--><a href=\"psysml:2e8aeb31-de90-4081-ae00-0913124930e2\" target=\"_top\" title=\"psysml:2e8aeb31-de90-4081-ae00-0913124930e2\" xlink:actuate=\"onRequest\" xlink:href=\"psysml:2e8aeb31-de90-4081-ae00-0913124930e2\" xlink:show=\"new\" xlink:title=\"psysml:2e8aeb31-de90-4081-ae00-0913124930e2\" xlink:type=\"simple\"><g id=\"elem_E2\"><rect fill=\"#FFFFFF\" height=\"48.6211\" id=\"E2\" style=\"stroke:#181818;stroke-width:0.5;\" width=\"66\" x=\"458\" y=\"125.5\"/><text fill=\"#000000\" font-family=\"sans-serif\" font-size=\"12\" font-style=\"italic\" lengthAdjust=\"spacing\" textLength=\"64\" x=\"459\" y=\"142.1016\">«item  def»</text><text fill=\"#000000\" font-family=\"sans-serif\" font-size=\"14\" lengthAdjust=\"spacing\" textLength=\"29\" x=\"476.5\" y=\"158.168\">Fuel</text><line style=\"stroke:#181818;stroke-width:0.5;\" x1=\"459\" x2=\"523\" y1=\"166.1211\" y2=\"166.1211\"/></g></a><!--MD5=[09b614a08d8cba4a07c9adeb5e0fee81]\n",
       "class E3--><a href=\"psysml:25981b0b-9a3f-4177-a8fb-780d53f8fe57\" target=\"_top\" title=\"psysml:25981b0b-9a3f-4177-a8fb-780d53f8fe57\" xlink:actuate=\"onRequest\" xlink:href=\"psysml:25981b0b-9a3f-4177-a8fb-780d53f8fe57\" xlink:show=\"new\" xlink:title=\"psysml:25981b0b-9a3f-4177-a8fb-780d53f8fe57\" xlink:type=\"simple\"><g id=\"elem_E3\"><rect fill=\"#FFFFFF\" height=\"48.6211\" id=\"E3\" style=\"stroke:#181818;stroke-width:0.5;\" width=\"65\" x=\"189\" y=\"125.5\"/><text fill=\"#000000\" font-family=\"sans-serif\" font-size=\"12\" font-style=\"italic\" lengthAdjust=\"spacing\" textLength=\"63\" x=\"190\" y=\"142.1016\">«part  def»</text><text fill=\"#000000\" font-family=\"sans-serif\" font-size=\"14\" lengthAdjust=\"spacing\" textLength=\"35\" x=\"204\" y=\"158.168\">Oven</text><line style=\"stroke:#181818;stroke-width:0.5;\" x1=\"190\" x2=\"253\" y1=\"166.1211\" y2=\"166.1211\"/></g></a><!--MD5=[ebbe1d658d1005bcc118a6aa81145e00]\n",
       "class E4--><a href=\"psysml:137b5545-441d-4350-aa5a-a376b56e6470\" target=\"_top\" title=\"psysml:137b5545-441d-4350-aa5a-a376b56e6470\" xlink:actuate=\"onRequest\" xlink:href=\"psysml:137b5545-441d-4350-aa5a-a376b56e6470\" xlink:show=\"new\" xlink:title=\"psysml:137b5545-441d-4350-aa5a-a376b56e6470\" xlink:type=\"simple\"><g id=\"elem_E4\"><rect fill=\"#FFFFFF\" height=\"48.6211\" id=\"E4\" rx=\"10\" ry=\"10\" style=\"stroke:#181818;stroke-width:0.5;\" width=\"77\" x=\"321\" y=\"125.5\"/><text fill=\"#000000\" font-family=\"sans-serif\" font-size=\"12\" font-style=\"italic\" lengthAdjust=\"spacing\" textLength=\"37\" x=\"341\" y=\"142.1016\">«item»</text><text fill=\"#000000\" font-family=\"sans-serif\" font-size=\"14\" lengthAdjust=\"spacing\" textLength=\"63\" x=\"324\" y=\"158.168\">fuel: Fuel</text><line style=\"stroke:#181818;stroke-width:0.5;\" x1=\"322\" x2=\"397\" y1=\"166.1211\" y2=\"166.1211\"/></g></a><!--MD5=[270fce915f116d4de14055a7c1d9a0f3]\n",
       "class E5--><a href=\"psysml:a9079069-a235-424a-b6db-fe9eb9a64487\" target=\"_top\" title=\"psysml:a9079069-a235-424a-b6db-fe9eb9a64487\" xlink:actuate=\"onRequest\" xlink:href=\"psysml:a9079069-a235-424a-b6db-fe9eb9a64487\" xlink:show=\"new\" xlink:title=\"psysml:a9079069-a235-424a-b6db-fe9eb9a64487\" xlink:type=\"simple\"><g id=\"elem_E5\"><rect fill=\"#FFFFFF\" height=\"48.6211\" id=\"E5\" style=\"stroke:#181818;stroke-width:0.5;\" width=\"90\" x=\"32\" y=\"83.5\"/><text fill=\"#000000\" font-family=\"sans-serif\" font-size=\"12\" font-style=\"italic\" lengthAdjust=\"spacing\" textLength=\"63\" x=\"45.5\" y=\"100.1016\">«part  def»</text><text fill=\"#000000\" font-family=\"sans-serif\" font-size=\"14\" lengthAdjust=\"spacing\" textLength=\"84\" x=\"35\" y=\"116.168\">ElectricOven</text><line style=\"stroke:#181818;stroke-width:0.5;\" x1=\"33\" x2=\"121\" y1=\"124.1211\" y2=\"124.1211\"/></g></a><!--MD5=[60a26617385b1d2d0262a64233df1f8d]\n",
       "class E6--><a href=\"psysml:508cc238-b517-4ad2-bcd7-89625131382e\" target=\"_top\" title=\"psysml:508cc238-b517-4ad2-bcd7-89625131382e\" xlink:actuate=\"onRequest\" xlink:href=\"psysml:508cc238-b517-4ad2-bcd7-89625131382e\" xlink:show=\"new\" xlink:title=\"psysml:508cc238-b517-4ad2-bcd7-89625131382e\" xlink:type=\"simple\"><g id=\"elem_E6\"><rect fill=\"#FFFFFF\" height=\"48.6211\" id=\"E6\" rx=\"10\" ry=\"10\" style=\"stroke:#181818;stroke-width:0.5;\" width=\"79\" x=\"182\" y=\"41.5\"/><text fill=\"#000000\" font-family=\"sans-serif\" font-size=\"12\" font-style=\"italic\" lengthAdjust=\"spacing\" textLength=\"37\" x=\"203\" y=\"58.1016\">«item»</text><text fill=\"#000000\" font-family=\"sans-serif\" font-size=\"14\" lengthAdjust=\"spacing\" textLength=\"65\" x=\"185\" y=\"74.168\">electricity</text><line style=\"stroke:#181818;stroke-width:0.5;\" x1=\"183\" x2=\"260\" y1=\"82.1211\" y2=\"82.1211\"/></g></a><!--MD5=[2156ba9850f5573cc1fc38a6a4b2f02b]\n",
       "class E7--><a href=\"psysml:1beb5589-dbcd-4f47-9f18-fdaa46033617\" target=\"_top\" title=\"psysml:1beb5589-dbcd-4f47-9f18-fdaa46033617\" xlink:actuate=\"onRequest\" xlink:href=\"psysml:1beb5589-dbcd-4f47-9f18-fdaa46033617\" xlink:show=\"new\" xlink:title=\"psysml:1beb5589-dbcd-4f47-9f18-fdaa46033617\" xlink:type=\"simple\"><g id=\"elem_E7\"><rect fill=\"#FFFFFF\" height=\"48.6211\" id=\"E7\" style=\"stroke:#181818;stroke-width:0.5;\" width=\"66\" x=\"44\" y=\"167.5\"/><text fill=\"#000000\" font-family=\"sans-serif\" font-size=\"12\" font-style=\"italic\" lengthAdjust=\"spacing\" textLength=\"63\" x=\"45.5\" y=\"184.1016\">«part  def»</text><text fill=\"#000000\" font-family=\"sans-serif\" font-size=\"14\" lengthAdjust=\"spacing\" textLength=\"60\" x=\"47\" y=\"200.168\">GasOven</text><line style=\"stroke:#181818;stroke-width:0.5;\" x1=\"45\" x2=\"109\" y1=\"208.1211\" y2=\"208.1211\"/></g></a><!--MD5=[b9389687b975829384b498ac4b7476b2]\n",
       "class E8--><a href=\"psysml:db30820c-9b81-4089-97eb-9307021fe9f6\" target=\"_top\" title=\"psysml:db30820c-9b81-4089-97eb-9307021fe9f6\" xlink:actuate=\"onRequest\" xlink:href=\"psysml:db30820c-9b81-4089-97eb-9307021fe9f6\" xlink:show=\"new\" xlink:title=\"psysml:db30820c-9b81-4089-97eb-9307021fe9f6\" xlink:type=\"simple\"><g id=\"elem_E8\"><rect fill=\"#FFFFFF\" height=\"48.6211\" id=\"E8\" rx=\"10\" ry=\"10\" style=\"stroke:#181818;stroke-width:0.5;\" width=\"39\" x=\"202\" y=\"209.5\"/><text fill=\"#000000\" font-family=\"sans-serif\" font-size=\"12\" font-style=\"italic\" lengthAdjust=\"spacing\" textLength=\"37\" x=\"203\" y=\"226.1016\">«item»</text><text fill=\"#000000\" font-family=\"sans-serif\" font-size=\"14\" lengthAdjust=\"spacing\" textLength=\"24\" x=\"205.5\" y=\"242.168\">gas</text><line style=\"stroke:#181818;stroke-width:0.5;\" x1=\"203\" x2=\"240\" y1=\"250.1211\" y2=\"250.1211\"/></g></a><!--MD5=[4672eba38e49728da53d11aeb285b987]\n",
       "reverse link E3 to E4--><g id=\"link_E3_E4\"><a href=\"psysml:09df2a60-8372-4d58-afaf-e199477b9701\" target=\"_top\" title=\"psysml:09df2a60-8372-4d58-afaf-e199477b9701\" xlink:actuate=\"onRequest\" xlink:href=\"psysml:09df2a60-8372-4d58-afaf-e199477b9701\" xlink:show=\"new\" xlink:title=\"psysml:09df2a60-8372-4d58-afaf-e199477b9701\" xlink:type=\"simple\"><path d=\"M267.09,150 C284.47,150 304.19,150 320.84,150 \" fill=\"none\" id=\"E3-backto-E4\" style=\"stroke:#181818;stroke-width:1.0;\"/><polygon fill=\"none\" points=\"254.04,150,260.04,154,266.04,150,260.04,146,254.04,150\" style=\"stroke:#181818;stroke-width:1.0;\"/></a></g><!--MD5=[185131fc0dcab0a4505a2ebe144e961b]\n",
       "link E4 to E2--><g id=\"link_E4_E2\"><a href=\"psysml:85b44fbe-f3aa-416a-bd9a-afc6169284e6\" target=\"_top\" title=\"psysml:85b44fbe-f3aa-416a-bd9a-afc6169284e6\" xlink:actuate=\"onRequest\" xlink:href=\"psysml:85b44fbe-f3aa-416a-bd9a-afc6169284e6\" xlink:show=\"new\" xlink:title=\"psysml:85b44fbe-f3aa-416a-bd9a-afc6169284e6\" xlink:type=\"simple\"><path d=\"M398.3,150 C410.5,150 424.26,150 437.33,150 \" fill=\"none\" id=\"E4-to-E2\" style=\"stroke:#181818;stroke-width:1.0;\"/><polygon fill=\"#FFFFFF\" points=\"457.63,150,438.63,157,438.63,143,457.63,150\" style=\"stroke:#181818;stroke-width:1.0;\"/><ellipse cx=\"432.93\" cy=\"155\" fill=\"#181818\" rx=\"2\" ry=\"2\" style=\"stroke:#181818;stroke-width:1.0;\"/><ellipse cx=\"432.93\" cy=\"145\" fill=\"#181818\" rx=\"2\" ry=\"2\" style=\"stroke:#181818;stroke-width:1.0;\"/></a></g><!--MD5=[e9be52314489bd878ff4c7144b63c9e1]\n",
       "link E5 to E3--><g id=\"link_E5_E3\"><a href=\"psysml:0a80c279-031d-43a4-9b91-02e9674e4159\" target=\"_top\" title=\"psysml:0a80c279-031d-43a4-9b91-02e9674e4159\" xlink:actuate=\"onRequest\" xlink:href=\"psysml:0a80c279-031d-43a4-9b91-02e9674e4159\" xlink:show=\"new\" xlink:title=\"psysml:0a80c279-031d-43a4-9b91-02e9674e4159\" xlink:type=\"simple\"><path d=\"M122.31,121.06 C137.3,125.48 154.17,130.45 169.64,135.01 \" fill=\"none\" id=\"E5-to-E3\" style=\"stroke:#181818;stroke-width:1.0;\"/><polygon fill=\"none\" points=\"171.68,128.31,188.89,140.68,167.72,141.74,171.68,128.31\" style=\"stroke:#181818;stroke-width:1.0;\"/></a></g><!--MD5=[85d356282659285ab4b2cfe2f634dd2b]\n",
       "reverse link E5 to E6--><g id=\"link_E5_E6\"><a href=\"psysml:0041fab4-a199-4e98-9f49-a0da2500b8ef\" target=\"_top\" title=\"psysml:0041fab4-a199-4e98-9f49-a0da2500b8ef\" xlink:actuate=\"onRequest\" xlink:href=\"psysml:0041fab4-a199-4e98-9f49-a0da2500b8ef\" xlink:show=\"new\" xlink:title=\"psysml:0041fab4-a199-4e98-9f49-a0da2500b8ef\" xlink:type=\"simple\"><path d=\"M135.22,91.14 C150.94,86.5 167.61,81.59 182,77.35 \" fill=\"none\" id=\"E5-backto-E6\" style=\"stroke:#181818;stroke-width:1.0;\"/><polygon fill=\"none\" points=\"122.31,94.94,129.1954,97.0828,133.8215,91.5511,126.9362,89.4084,122.31,94.94\" style=\"stroke:#181818;stroke-width:1.0;\"/></a></g><!--MD5=[f667431f98296947986a1a7595a31603]\n",
       "link E6 to E4--><g id=\"link_E6_E4\"><a href=\"psysml:104b7c69-dd6d-40f1-b8fc-3e53fdbd4782\" target=\"_top\" title=\"psysml:104b7c69-dd6d-40f1-b8fc-3e53fdbd4782\" xlink:actuate=\"onRequest\" xlink:href=\"psysml:104b7c69-dd6d-40f1-b8fc-3e53fdbd4782\" xlink:show=\"new\" xlink:title=\"psysml:104b7c69-dd6d-40f1-b8fc-3e53fdbd4782\" xlink:type=\"simple\"><path d=\"M261.11,89.85 C274.25,97.96 289.21,107.2 303.38,115.96 \" fill=\"none\" id=\"E6-to-E4\" style=\"stroke:#181818;stroke-width:1.0;\"/><polygon fill=\"#FFFFFF\" points=\"320.73,126.67,300.8873,122.6366,308.247,110.7271,320.73,126.67\" style=\"stroke:#181818;stroke-width:1.0;\"/><line style=\"stroke:#181818;stroke-width:2.0;\" x1=\"297.6548\" x2=\"305.0144\" y1=\"120.639\" y2=\"108.7295\"/></a></g><!--MD5=[14ccda38c055a5c0da953d572bc50960]\n",
       "link E7 to E3--><g id=\"link_E7_E3\"><a href=\"psysml:14c4770a-8d93-44f0-b2aa-070d78e240aa\" target=\"_top\" title=\"psysml:14c4770a-8d93-44f0-b2aa-070d78e240aa\" xlink:actuate=\"onRequest\" xlink:href=\"psysml:14c4770a-8d93-44f0-b2aa-070d78e240aa\" xlink:show=\"new\" xlink:title=\"psysml:14c4770a-8d93-44f0-b2aa-070d78e240aa\" xlink:type=\"simple\"><path d=\"M110.34,182.47 C127.77,177.33 149.68,170.87 169.36,165.07 \" fill=\"none\" id=\"E7-to-E3\" style=\"stroke:#181818;stroke-width:1.0;\"/><polygon fill=\"none\" points=\"167.62,158.29,188.78,159.35,171.58,171.72,167.62,158.29\" style=\"stroke:#181818;stroke-width:1.0;\"/></a></g><!--MD5=[dc164f5e8a733ab456ef1add180e9e34]\n",
       "reverse link E7 to E8--><g id=\"link_E7_E8\"><a href=\"psysml:83011200-b31b-48bd-83c4-b927aacd8740\" target=\"_top\" title=\"psysml:83011200-b31b-48bd-83c4-b927aacd8740\" xlink:actuate=\"onRequest\" xlink:href=\"psysml:83011200-b31b-48bd-83c4-b927aacd8740\" xlink:show=\"new\" xlink:title=\"psysml:83011200-b31b-48bd-83c4-b927aacd8740\" xlink:type=\"simple\"><path d=\"M122.87,205.23 C149.51,213.08 181.87,222.61 201.82,228.5 \" fill=\"none\" id=\"E7-backto-E8\" style=\"stroke:#181818;stroke-width:1.0;\"/><polygon fill=\"none\" points=\"110.34,201.53,114.9662,207.0616,121.8515,204.9189,117.2254,199.3872,110.34,201.53\" style=\"stroke:#181818;stroke-width:1.0;\"/></a></g><!--MD5=[d7bb3fb34add81b710575eb3799fa2ad]\n",
       "link E8 to E4--><g id=\"link_E8_E4\"><a href=\"psysml:3069f2c4-df64-4e45-9449-e48613a1aae2\" target=\"_top\" title=\"psysml:3069f2c4-df64-4e45-9449-e48613a1aae2\" xlink:actuate=\"onRequest\" xlink:href=\"psysml:3069f2c4-df64-4e45-9449-e48613a1aae2\" xlink:show=\"new\" xlink:title=\"psysml:3069f2c4-df64-4e45-9449-e48613a1aae2\" xlink:type=\"simple\"><path d=\"M241.13,222.5 C257.26,212.53 281.43,197.6 303.65,183.88 \" fill=\"none\" id=\"E8-to-E4\" style=\"stroke:#181818;stroke-width:1.0;\"/><polygon fill=\"#FFFFFF\" points=\"320.87,173.24,308.387,189.1829,301.0273,177.2734,320.87,173.24\" style=\"stroke:#181818;stroke-width:1.0;\"/><line style=\"stroke:#181818;stroke-width:2.0;\" x1=\"305.1544\" x2=\"297.7948\" y1=\"191.1805\" y2=\"179.271\"/></a></g><!--MD5=[a8187e7d5b6be7e7f5de03f81ea9df85]\n",
       "@startuml\r\n",
       "skin sysmlbw\r\n",
       "skinparam monochrome true\r\n",
       "skinparam wrapWidth 300\r\n",
       "hide circle\r\n",
       "left to right direction\r\n",
       "\r\n",
       "package \"Redefinition1\" as E1  [[psysml:cab2c68b-e1a3-423c-af93-7dae15f7c94b ]]  {\r\n",
       "comp def \"Fuel\" as E2  <<(T,blue) item  def>> [[psysml:2e8aeb31-de90-4081-ae00-0913124930e2 ]] {\r\n",
       "}\r\n",
       "comp def \"Oven\" as E3  <<(T,blue) part  def>> [[psysml:25981b0b-9a3f-4177-a8fb-780d53f8fe57 ]] {\r\n",
       "}\r\n",
       "comp usage \"fuel: Fuel  \" as E4  <<(T,blue) item>> [[psysml:137b5545-441d-4350-aa5a-a376b56e6470 ]] {\r\n",
       "}\r\n",
       "comp def \"ElectricOven\" as E5  <<(T,blue) part  def>> [[psysml:a9079069-a235-424a-b6db-fe9eb9a64487 ]] {\r\n",
       "}\r\n",
       "comp usage \"electricity  \" as E6  <<(T,blue) item>> [[psysml:508cc238-b517-4ad2-bcd7-89625131382e ]] {\r\n",
       "}\r\n",
       "comp def \"GasOven\" as E7  <<(T,blue) part  def>> [[psysml:1beb5589-dbcd-4f47-9f18-fdaa46033617 ]] {\r\n",
       "}\r\n",
       "comp usage \"gas  \" as E8  <<(T,blue) item>> [[psysml:db30820c-9b81-4089-97eb-9307021fe9f6 ]] {\r\n",
       "}\r\n",
       "}\r\n",
       "E3 o- - E4 [[psysml:09df2a60-8372-4d58-afaf-e199477b9701 ]] \r\n",
       "E4 - -:|> E2 [[psysml:85b44fbe-f3aa-416a-bd9a-afc6169284e6 ]] \r\n",
       "E5 - -|> E3 [[psysml:0a80c279-031d-43a4-9b91-02e9674e4159 ]] \r\n",
       "E5 o- - E6 [[psysml:0041fab4-a199-4e98-9f49-a0da2500b8ef ]] \r\n",
       "E6 - -||> E4 [[psysml:104b7c69-dd6d-40f1-b8fc-3e53fdbd4782 ]] \r\n",
       "E7 - -|> E3 [[psysml:14c4770a-8d93-44f0-b2aa-070d78e240aa ]] \r\n",
       "E7 o- - E8 [[psysml:83011200-b31b-48bd-83c4-b927aacd8740 ]] \r\n",
       "E8 - -||> E4 [[psysml:3069f2c4-df64-4e45-9449-e48613a1aae2 ]] \r\n",
       "@enduml\r\n",
       "\n",
       "PlantUML version 1.2022.7(Mon Aug 22 11:01:30 MDT 2022)\n",
       "(EPL source distribution)\n",
       "Java Runtime: OpenJDK Runtime Environment\n",
       "JVM: OpenJDK 64-Bit Server VM\n",
       "Default Encoding: UTF-8\n",
       "Language: en\n",
       "Country: US\n",
       "--></g></svg>"
      ]
     },
     "execution_count": 19,
     "metadata": {},
     "output_type": "execute_result"
    }
   ],
   "source": [
    "%viz --view=default --style=LR Redefinition1"
   ]
  },
  {
   "cell_type": "markdown",
   "id": "cdc7a37c",
   "metadata": {},
   "source": [
    "### Redefinition-2.sysml\n",
    "Define item with an attribute unitOfMeasure, attribute type Base::Anything.\n",
    "- Mem. `::` symbolizes namespaces\n",
    "    - unitOfMeasure is type Anything defined in package named Base\n",
    "        - Base is a library package.\n",
    "        - Anything is highest level of abstraction in base package\n",
    "\n",
    "Visually, redefinition has the hollow lined arrows. Attribute redefinition is defined within the list of attributes as a redefinition of the unitOfMeasure"
   ]
  },
  {
   "cell_type": "code",
   "execution_count": 20,
   "id": "2e0f0a95",
   "metadata": {},
   "outputs": [
    {
     "data": {
      "text/plain": [
       "Package Redefinition2 (85ba9851-84e5-4281-8ee7-5e0e072fbab2)\n"
      ]
     },
     "execution_count": 20,
     "metadata": {},
     "output_type": "execute_result"
    }
   ],
   "source": [
    "package Redefinition2{\n",
    "    item def Fuel { attribute unitOfMeasure: Base::Anything; }\n",
    "    part def Oven { ref item fuel: Fuel; }\n",
    "    \n",
    "    part def ElectricOven specializes Oven{\n",
    "        ref item electricity redefines fuel{\n",
    "            attribute electricUnit :>> unitOfMeasure: SI::PowerUnit;\n",
    "        }\n",
    "    }\n",
    "\n",
    "    part def GasOven :> Oven{\n",
    "        ref item gas :>> fuel{\n",
    "            attribute gasUnit :>> unitOfMeasure: SI::VolumeUnit;\n",
    "        }\n",
    "    }\n",
    "}"
   ]
  },
  {
   "cell_type": "code",
   "execution_count": 22,
   "id": "07ba8975",
   "metadata": {},
   "outputs": [
    {
     "data": {
      "image/svg+xml": [
       "<?xml version=\"1.0\" encoding=\"UTF-8\" standalone=\"no\"?><svg xmlns=\"http://www.w3.org/2000/svg\" xmlns:xlink=\"http://www.w3.org/1999/xlink\" contentStyleType=\"text/css\" height=\"368px\" preserveAspectRatio=\"none\" style=\"width:771px;height:368px;background:#FFFFFF;\" version=\"1.1\" viewBox=\"0 0 771 368\" width=\"771px\" zoomAndPan=\"magnify\"><defs/><g><!--MD5=[fbc87193dbaf4d95561dea2c320d4a47]\n",
       "cluster E1--><g id=\"cluster_E1\"><a href=\"psysml:85ba9851-84e5-4281-8ee7-5e0e072fbab2\" target=\"_top\" title=\"psysml:85ba9851-84e5-4281-8ee7-5e0e072fbab2\" xlink:actuate=\"onRequest\" xlink:href=\"psysml:85ba9851-84e5-4281-8ee7-5e0e072fbab2\" xlink:show=\"new\" xlink:title=\"psysml:85ba9851-84e5-4281-8ee7-5e0e072fbab2\" xlink:type=\"simple\"><polygon fill=\"none\" points=\"16,6,120,6,127,28.4883,754,28.4883,754,361,16,361,16,6\" style=\"stroke:#000000;stroke-width:1.5;\"/><line style=\"stroke:#000000;stroke-width:1.5;\" x1=\"16\" x2=\"127\" y1=\"28.4883\" y2=\"28.4883\"/><text fill=\"#000000\" font-family=\"sans-serif\" font-size=\"14\" font-weight=\"bold\" lengthAdjust=\"spacing\" textLength=\"98\" x=\"20\" y=\"21.5352\">Redefinition2</text></a></g><!--MD5=[b4997ac47864f28c2f74865a473b2911]\n",
       "class E2--><a href=\"psysml:4832f2f8-d871-4806-8bd3-30a6ab2d1581\" target=\"_top\" title=\"psysml:4832f2f8-d871-4806-8bd3-30a6ab2d1581\" xlink:actuate=\"onRequest\" xlink:href=\"psysml:4832f2f8-d871-4806-8bd3-30a6ab2d1581\" xlink:show=\"new\" xlink:title=\"psysml:4832f2f8-d871-4806-8bd3-30a6ab2d1581\" xlink:type=\"simple\"><g id=\"elem_E2\"><rect fill=\"#FFFFFF\" height=\"75.7047\" id=\"E2\" style=\"stroke:#181818;stroke-width:0.5;\" width=\"183\" x=\"555\" y=\"155\"/><text fill=\"#000000\" font-family=\"sans-serif\" font-size=\"12\" font-style=\"italic\" lengthAdjust=\"spacing\" textLength=\"64\" x=\"614.5\" y=\"171.6016\">«item  def»</text><text fill=\"#000000\" font-family=\"sans-serif\" font-size=\"14\" lengthAdjust=\"spacing\" textLength=\"29\" x=\"632\" y=\"187.668\">Fuel</text><line style=\"stroke:#181818;stroke-width:0.5;\" x1=\"556\" x2=\"737\" y1=\"195.6211\" y2=\"195.6211\"/><text fill=\"#000000\" font-family=\"sans-serif\" font-size=\"14\" lengthAdjust=\"spacing\" textLength=\"171\" x=\"561\" y=\"223.7516\">unitOfMeasure: Anything</text><text fill=\"#000000\" font-family=\"sans-serif\" font-size=\"14\" font-style=\"italic\" lengthAdjust=\"spacing\" textLength=\"66\" x=\"613.5\" y=\"208.4121\">attributes</text></g></a><!--MD5=[09b614a08d8cba4a07c9adeb5e0fee81]\n",
       "class E3--><a href=\"psysml:a953e5f1-b734-4b2c-8384-fbe7a3a11c06\" target=\"_top\" title=\"psysml:a953e5f1-b734-4b2c-8384-fbe7a3a11c06\" xlink:actuate=\"onRequest\" xlink:href=\"psysml:a953e5f1-b734-4b2c-8384-fbe7a3a11c06\" xlink:show=\"new\" xlink:title=\"psysml:a953e5f1-b734-4b2c-8384-fbe7a3a11c06\" xlink:type=\"simple\"><g id=\"elem_E3\"><rect fill=\"#FFFFFF\" height=\"48.6211\" id=\"E3\" style=\"stroke:#181818;stroke-width:0.5;\" width=\"65\" x=\"237.5\" y=\"168.5\"/><text fill=\"#000000\" font-family=\"sans-serif\" font-size=\"12\" font-style=\"italic\" lengthAdjust=\"spacing\" textLength=\"63\" x=\"238.5\" y=\"185.1016\">«part  def»</text><text fill=\"#000000\" font-family=\"sans-serif\" font-size=\"14\" lengthAdjust=\"spacing\" textLength=\"35\" x=\"252.5\" y=\"201.168\">Oven</text><line style=\"stroke:#181818;stroke-width:0.5;\" x1=\"238.5\" x2=\"301.5\" y1=\"209.1211\" y2=\"209.1211\"/></g></a><!--MD5=[ebbe1d658d1005bcc118a6aa81145e00]\n",
       "class E4--><a href=\"psysml:2ac0a5b2-6589-42d3-98be-ec4cc854e443\" target=\"_top\" title=\"psysml:2ac0a5b2-6589-42d3-98be-ec4cc854e443\" xlink:actuate=\"onRequest\" xlink:href=\"psysml:2ac0a5b2-6589-42d3-98be-ec4cc854e443\" xlink:show=\"new\" xlink:title=\"psysml:2ac0a5b2-6589-42d3-98be-ec4cc854e443\" xlink:type=\"simple\"><g id=\"elem_E4\"><rect fill=\"#FFFFFF\" height=\"48.6211\" id=\"E4\" rx=\"10\" ry=\"10\" style=\"stroke:#181818;stroke-width:0.5;\" width=\"77\" x=\"418\" y=\"168.5\"/><text fill=\"#000000\" font-family=\"sans-serif\" font-size=\"12\" font-style=\"italic\" lengthAdjust=\"spacing\" textLength=\"37\" x=\"438\" y=\"185.1016\">«item»</text><text fill=\"#000000\" font-family=\"sans-serif\" font-size=\"14\" lengthAdjust=\"spacing\" textLength=\"63\" x=\"421\" y=\"201.168\">fuel: Fuel</text><line style=\"stroke:#181818;stroke-width:0.5;\" x1=\"419\" x2=\"494\" y1=\"209.1211\" y2=\"209.1211\"/></g></a><!--MD5=[270fce915f116d4de14055a7c1d9a0f3]\n",
       "class E5--><a href=\"psysml:d2046ff3-b83a-4eea-a3bc-983189b49d3d\" target=\"_top\" title=\"psysml:d2046ff3-b83a-4eea-a3bc-983189b49d3d\" xlink:actuate=\"onRequest\" xlink:href=\"psysml:d2046ff3-b83a-4eea-a3bc-983189b49d3d\" xlink:show=\"new\" xlink:title=\"psysml:d2046ff3-b83a-4eea-a3bc-983189b49d3d\" xlink:type=\"simple\"><g id=\"elem_E5\"><rect fill=\"#FFFFFF\" height=\"48.6211\" id=\"E5\" style=\"stroke:#181818;stroke-width:0.5;\" width=\"90\" x=\"32\" y=\"115.5\"/><text fill=\"#000000\" font-family=\"sans-serif\" font-size=\"12\" font-style=\"italic\" lengthAdjust=\"spacing\" textLength=\"63\" x=\"45.5\" y=\"132.1016\">«part  def»</text><text fill=\"#000000\" font-family=\"sans-serif\" font-size=\"14\" lengthAdjust=\"spacing\" textLength=\"84\" x=\"35\" y=\"148.168\">ElectricOven</text><line style=\"stroke:#181818;stroke-width:0.5;\" x1=\"33\" x2=\"121\" y1=\"156.1211\" y2=\"156.1211\"/></g></a><!--MD5=[60a26617385b1d2d0262a64233df1f8d]\n",
       "class E6--><a href=\"psysml:d1254a4c-f1b0-4ecf-8696-88af3aff220e\" target=\"_top\" title=\"psysml:d1254a4c-f1b0-4ecf-8696-88af3aff220e\" xlink:actuate=\"onRequest\" xlink:href=\"psysml:d1254a4c-f1b0-4ecf-8696-88af3aff220e\" xlink:show=\"new\" xlink:title=\"psysml:d1254a4c-f1b0-4ecf-8696-88af3aff220e\" xlink:type=\"simple\"><g id=\"elem_E6\"><rect fill=\"#FFFFFF\" height=\"92.193\" id=\"E6\" rx=\"10\" ry=\"10\" style=\"stroke:#181818;stroke-width:0.5;\" width=\"176\" x=\"182\" y=\"41\"/><text fill=\"#000000\" font-family=\"sans-serif\" font-size=\"12\" font-style=\"italic\" lengthAdjust=\"spacing\" textLength=\"37\" x=\"251.5\" y=\"57.6016\">«item»</text><text fill=\"#000000\" font-family=\"sans-serif\" font-size=\"14\" lengthAdjust=\"spacing\" textLength=\"65\" x=\"233.5\" y=\"73.668\">electricity</text><line style=\"stroke:#181818;stroke-width:0.5;\" x1=\"183\" x2=\"357\" y1=\"81.6211\" y2=\"81.6211\"/><text fill=\"#000000\" font-family=\"sans-serif\" font-size=\"14\" lengthAdjust=\"spacing\" textLength=\"155\" x=\"188\" y=\"109.7516\">electricUnit: PowerUnit</text><text fill=\"#000000\" font-family=\"sans-serif\" font-size=\"14\" font-style=\"italic\" lengthAdjust=\"spacing\" textLength=\"164\" x=\"188\" y=\"126.2398\">:&gt;&gt;Fuel::unitOfMeasure</text><text fill=\"#000000\" font-family=\"sans-serif\" font-size=\"14\" font-style=\"italic\" lengthAdjust=\"spacing\" textLength=\"66\" x=\"237\" y=\"94.4121\">attributes</text></g></a><!--MD5=[2156ba9850f5573cc1fc38a6a4b2f02b]\n",
       "class E7--><a href=\"psysml:2d73cbd9-450e-4e87-ac42-ab7a4088833e\" target=\"_top\" title=\"psysml:2d73cbd9-450e-4e87-ac42-ab7a4088833e\" xlink:actuate=\"onRequest\" xlink:href=\"psysml:2d73cbd9-450e-4e87-ac42-ab7a4088833e\" xlink:show=\"new\" xlink:title=\"psysml:2d73cbd9-450e-4e87-ac42-ab7a4088833e\" xlink:type=\"simple\"><g id=\"elem_E7\"><rect fill=\"#FFFFFF\" height=\"48.6211\" id=\"E7\" style=\"stroke:#181818;stroke-width:0.5;\" width=\"66\" x=\"44\" y=\"237.5\"/><text fill=\"#000000\" font-family=\"sans-serif\" font-size=\"12\" font-style=\"italic\" lengthAdjust=\"spacing\" textLength=\"63\" x=\"45.5\" y=\"254.1016\">«part  def»</text><text fill=\"#000000\" font-family=\"sans-serif\" font-size=\"14\" lengthAdjust=\"spacing\" textLength=\"60\" x=\"47\" y=\"270.168\">GasOven</text><line style=\"stroke:#181818;stroke-width:0.5;\" x1=\"45\" x2=\"109\" y1=\"278.1211\" y2=\"278.1211\"/></g></a><!--MD5=[b9389687b975829384b498ac4b7476b2]\n",
       "class E8--><a href=\"psysml:49a21424-1ed1-4530-ae82-5abc0aa3dcfc\" target=\"_top\" title=\"psysml:49a21424-1ed1-4530-ae82-5abc0aa3dcfc\" xlink:actuate=\"onRequest\" xlink:href=\"psysml:49a21424-1ed1-4530-ae82-5abc0aa3dcfc\" xlink:show=\"new\" xlink:title=\"psysml:49a21424-1ed1-4530-ae82-5abc0aa3dcfc\" xlink:type=\"simple\"><g id=\"elem_E8\"><rect fill=\"#FFFFFF\" height=\"92.193\" id=\"E8\" rx=\"10\" ry=\"10\" style=\"stroke:#181818;stroke-width:0.5;\" width=\"176\" x=\"182\" y=\"253\"/><text fill=\"#000000\" font-family=\"sans-serif\" font-size=\"12\" font-style=\"italic\" lengthAdjust=\"spacing\" textLength=\"37\" x=\"251.5\" y=\"269.6016\">«item»</text><text fill=\"#000000\" font-family=\"sans-serif\" font-size=\"14\" lengthAdjust=\"spacing\" textLength=\"24\" x=\"254\" y=\"285.668\">gas</text><line style=\"stroke:#181818;stroke-width:0.5;\" x1=\"183\" x2=\"357\" y1=\"293.6211\" y2=\"293.6211\"/><text fill=\"#000000\" font-family=\"sans-serif\" font-size=\"14\" lengthAdjust=\"spacing\" textLength=\"140\" x=\"188\" y=\"321.7516\">gasUnit: VolumeUnit</text><text fill=\"#000000\" font-family=\"sans-serif\" font-size=\"14\" font-style=\"italic\" lengthAdjust=\"spacing\" textLength=\"164\" x=\"188\" y=\"338.2398\">:&gt;&gt;Fuel::unitOfMeasure</text><text fill=\"#000000\" font-family=\"sans-serif\" font-size=\"14\" font-style=\"italic\" lengthAdjust=\"spacing\" textLength=\"66\" x=\"237\" y=\"306.4121\">attributes</text></g></a><!--MD5=[4672eba38e49728da53d11aeb285b987]\n",
       "reverse link E3 to E4--><g id=\"link_E3_E4\"><a href=\"psysml:1b67565f-a4c8-4e1b-8c77-76ebe2c8a014\" target=\"_top\" title=\"psysml:1b67565f-a4c8-4e1b-8c77-76ebe2c8a014\" xlink:actuate=\"onRequest\" xlink:href=\"psysml:1b67565f-a4c8-4e1b-8c77-76ebe2c8a014\" xlink:show=\"new\" xlink:title=\"psysml:1b67565f-a4c8-4e1b-8c77-76ebe2c8a014\" xlink:type=\"simple\"><path d=\"M315.86,193 C347.1,193 388.3,193 417.84,193 \" fill=\"none\" id=\"E3-backto-E4\" style=\"stroke:#181818;stroke-width:1.0;\"/><polygon fill=\"none\" points=\"302.72,193,308.72,197,314.72,193,308.72,189,302.72,193\" style=\"stroke:#181818;stroke-width:1.0;\"/></a></g><!--MD5=[185131fc0dcab0a4505a2ebe144e961b]\n",
       "link E4 to E2--><g id=\"link_E4_E2\"><a href=\"psysml:664d39c8-78d0-4733-948f-e85224793668\" target=\"_top\" title=\"psysml:664d39c8-78d0-4733-948f-e85224793668\" xlink:actuate=\"onRequest\" xlink:href=\"psysml:664d39c8-78d0-4733-948f-e85224793668\" xlink:show=\"new\" xlink:title=\"psysml:664d39c8-78d0-4733-948f-e85224793668\" xlink:type=\"simple\"><path d=\"M495.09,193 C506.82,193 520.4,193 534.52,193 \" fill=\"none\" id=\"E4-to-E2\" style=\"stroke:#181818;stroke-width:1.0;\"/><polygon fill=\"#FFFFFF\" points=\"554.68,193,535.68,200,535.68,186,554.68,193\" style=\"stroke:#181818;stroke-width:1.0;\"/><ellipse cx=\"529.98\" cy=\"198\" fill=\"#181818\" rx=\"2\" ry=\"2\" style=\"stroke:#181818;stroke-width:1.0;\"/><ellipse cx=\"529.98\" cy=\"188\" fill=\"#181818\" rx=\"2\" ry=\"2\" style=\"stroke:#181818;stroke-width:1.0;\"/></a></g><!--MD5=[e9be52314489bd878ff4c7144b63c9e1]\n",
       "link E5 to E3--><g id=\"link_E5_E3\"><a href=\"psysml:ef6f25b9-263a-4831-b89f-e8977eee771f\" target=\"_top\" title=\"psysml:ef6f25b9-263a-4831-b89f-e8977eee771f\" xlink:actuate=\"onRequest\" xlink:href=\"psysml:ef6f25b9-263a-4831-b89f-e8977eee771f\" xlink:show=\"new\" xlink:title=\"psysml:ef6f25b9-263a-4831-b89f-e8977eee771f\" xlink:type=\"simple\"><path d=\"M122.3,152.29 C150.81,160.2 187.98,170.52 217.76,178.78 \" fill=\"none\" id=\"E5-to-E3\" style=\"stroke:#181818;stroke-width:1.0;\"/><polygon fill=\"none\" points=\"220.06,172.16,237.46,184.25,216.32,185.65,220.06,172.16\" style=\"stroke:#181818;stroke-width:1.0;\"/></a></g><!--MD5=[85d356282659285ab4b2cfe2f634dd2b]\n",
       "reverse link E5 to E6--><g id=\"link_E5_E6\"><a href=\"psysml:ff9afe7c-7c46-4403-96a2-8daa15efe896\" target=\"_top\" title=\"psysml:ff9afe7c-7c46-4403-96a2-8daa15efe896\" xlink:actuate=\"onRequest\" xlink:href=\"psysml:ff9afe7c-7c46-4403-96a2-8daa15efe896\" xlink:show=\"new\" xlink:title=\"psysml:ff9afe7c-7c46-4403-96a2-8daa15efe896\" xlink:type=\"simple\"><path d=\"M134.83,124.23 C149.57,120.14 165.79,115.64 181.71,111.22 \" fill=\"none\" id=\"E5-backto-E6\" style=\"stroke:#181818;stroke-width:1.0;\"/><polygon fill=\"none\" points=\"122.3,127.71,129.1502,129.9626,133.8643,124.5058,127.0141,122.2531,122.3,127.71\" style=\"stroke:#181818;stroke-width:1.0;\"/></a></g><!--MD5=[f667431f98296947986a1a7595a31603]\n",
       "link E6 to E4--><g id=\"link_E6_E4\"><a href=\"psysml:4e80af3b-f6f8-450c-917a-bc24fecd1744\" target=\"_top\" title=\"psysml:4e80af3b-f6f8-450c-917a-bc24fecd1744\" xlink:actuate=\"onRequest\" xlink:href=\"psysml:4e80af3b-f6f8-450c-917a-bc24fecd1744\" xlink:show=\"new\" xlink:title=\"psysml:4e80af3b-f6f8-450c-917a-bc24fecd1744\" xlink:type=\"simple\"><path d=\"M351.12,133.03 C367.66,142.54 384.74,152.35 400.17,161.21 \" fill=\"none\" id=\"E6-to-E4\" style=\"stroke:#181818;stroke-width:1.0;\"/><polygon fill=\"#FFFFFF\" points=\"417.7,171.28,397.7394,167.878,404.7176,155.7411,417.7,171.28\" style=\"stroke:#181818;stroke-width:1.0;\"/><line style=\"stroke:#181818;stroke-width:2.0;\" x1=\"394.4451\" x2=\"401.4233\" y1=\"165.9839\" y2=\"153.847\"/></a></g><!--MD5=[14ccda38c055a5c0da953d572bc50960]\n",
       "link E7 to E3--><g id=\"link_E7_E3\"><a href=\"psysml:c2ba616f-8e72-48e7-989d-3f4ae1113559\" target=\"_top\" title=\"psysml:c2ba616f-8e72-48e7-989d-3f4ae1113559\" xlink:actuate=\"onRequest\" xlink:href=\"psysml:c2ba616f-8e72-48e7-989d-3f4ae1113559\" xlink:show=\"new\" xlink:title=\"psysml:c2ba616f-8e72-48e7-989d-3f4ae1113559\" xlink:type=\"simple\"><path d=\"M110.4,250.3 C140.03,239.59 184.32,223.59 218.57,211.22 \" fill=\"none\" id=\"E7-to-E3\" style=\"stroke:#181818;stroke-width:1.0;\"/><polygon fill=\"none\" points=\"216.21,204.63,237.39,204.42,220.96,217.8,216.21,204.63\" style=\"stroke:#181818;stroke-width:1.0;\"/></a></g><!--MD5=[dc164f5e8a733ab456ef1add180e9e34]\n",
       "reverse link E7 to E8--><g id=\"link_E7_E8\"><a href=\"psysml:9c3dd837-d4e6-4bab-aab9-ff357a606a51\" target=\"_top\" title=\"psysml:9c3dd837-d4e6-4bab-aab9-ff357a606a51\" xlink:actuate=\"onRequest\" xlink:href=\"psysml:9c3dd837-d4e6-4bab-aab9-ff357a606a51\" xlink:show=\"new\" xlink:title=\"psysml:9c3dd837-d4e6-4bab-aab9-ff357a606a51\" xlink:type=\"simple\"><path d=\"M123.4,270.79 C140.89,274.18 161.51,278.18 181.65,282.08 \" fill=\"none\" id=\"E7-backto-E8\" style=\"stroke:#181818;stroke-width:1.0;\"/><polygon fill=\"none\" points=\"110.4,268.28,115.5308,273.3471,122.1814,270.5599,117.0507,265.4928,110.4,268.28\" style=\"stroke:#181818;stroke-width:1.0;\"/></a></g><!--MD5=[d7bb3fb34add81b710575eb3799fa2ad]\n",
       "link E8 to E4--><g id=\"link_E8_E4\"><a href=\"psysml:bd0cb272-0906-4fc4-b3ad-14e38757363e\" target=\"_top\" title=\"psysml:bd0cb272-0906-4fc4-b3ad-14e38757363e\" xlink:actuate=\"onRequest\" xlink:href=\"psysml:bd0cb272-0906-4fc4-b3ad-14e38757363e\" xlink:show=\"new\" xlink:title=\"psysml:bd0cb272-0906-4fc4-b3ad-14e38757363e\" xlink:type=\"simple\"><path d=\"M351.12,252.97 C367.66,243.46 384.74,233.65 400.17,224.79 \" fill=\"none\" id=\"E8-to-E4\" style=\"stroke:#181818;stroke-width:1.0;\"/><polygon fill=\"#FFFFFF\" points=\"417.7,214.72,404.7176,230.2589,397.7394,218.122,417.7,214.72\" style=\"stroke:#181818;stroke-width:1.0;\"/><line style=\"stroke:#181818;stroke-width:2.0;\" x1=\"401.4233\" x2=\"394.4451\" y1=\"232.153\" y2=\"220.0161\"/></a></g><!--MD5=[f9baf6fb1ff847a436a109ba2086468f]\n",
       "@startuml\r\n",
       "skin sysmlbw\r\n",
       "skinparam monochrome true\r\n",
       "skinparam wrapWidth 300\r\n",
       "hide circle\r\n",
       "left to right direction\r\n",
       "\r\n",
       "package \"Redefinition2\" as E1  [[psysml:85ba9851-84e5-4281-8ee7-5e0e072fbab2 ]]  {\r\n",
       "comp def \"Fuel\" as E2  <<(T,blue) item  def>> [[psysml:4832f2f8-d871-4806-8bd3-30a6ab2d1581 ]] {\r\n",
       "##//attributes//##\r\n",
       "unitOfMeasure: Anything\r\n",
       "}\r\n",
       "comp def \"Oven\" as E3  <<(T,blue) part  def>> [[psysml:a953e5f1-b734-4b2c-8384-fbe7a3a11c06 ]] {\r\n",
       "}\r\n",
       "comp usage \"fuel: Fuel  \" as E4  <<(T,blue) item>> [[psysml:2ac0a5b2-6589-42d3-98be-ec4cc854e443 ]] {\r\n",
       "}\r\n",
       "comp def \"ElectricOven\" as E5  <<(T,blue) part  def>> [[psysml:d2046ff3-b83a-4eea-a3bc-983189b49d3d ]] {\r\n",
       "}\r\n",
       "comp usage \"electricity  \" as E6  <<(T,blue) item>> [[psysml:d1254a4c-f1b0-4ecf-8696-88af3aff220e ]] {\r\n",
       "##//attributes//##\r\n",
       "electricUnit: PowerUnit\\n//:>>Fuel::unitOfMeasure// \r\n",
       "}\r\n",
       "comp def \"GasOven\" as E7  <<(T,blue) part  def>> [[psysml:2d73cbd9-450e-4e87-ac42-ab7a4088833e ]] {\r\n",
       "}\r\n",
       "comp usage \"gas  \" as E8  <<(T,blue) item>> [[psysml:49a21424-1ed1-4530-ae82-5abc0aa3dcfc ]] {\r\n",
       "##//attributes//##\r\n",
       "gasUnit: VolumeUnit\\n//:>>Fuel::unitOfMeasure// \r\n",
       "}\r\n",
       "}\r\n",
       "E3 o- - E4 [[psysml:1b67565f-a4c8-4e1b-8c77-76ebe2c8a014 ]] \r\n",
       "E4 - -:|> E2 [[psysml:664d39c8-78d0-4733-948f-e85224793668 ]] \r\n",
       "E5 - -|> E3 [[psysml:ef6f25b9-263a-4831-b89f-e8977eee771f ]] \r\n",
       "E5 o- - E6 [[psysml:ff9afe7c-7c46-4403-96a2-8daa15efe896 ]] \r\n",
       "E6 - -||> E4 [[psysml:4e80af3b-f6f8-450c-917a-bc24fecd1744 ]] \r\n",
       "E7 - -|> E3 [[psysml:c2ba616f-8e72-48e7-989d-3f4ae1113559 ]] \r\n",
       "E7 o- - E8 [[psysml:9c3dd837-d4e6-4bab-aab9-ff357a606a51 ]] \r\n",
       "E8 - -||> E4 [[psysml:bd0cb272-0906-4fc4-b3ad-14e38757363e ]] \r\n",
       "@enduml\r\n",
       "\n",
       "PlantUML version 1.2022.7(Mon Aug 22 11:01:30 MDT 2022)\n",
       "(EPL source distribution)\n",
       "Java Runtime: OpenJDK Runtime Environment\n",
       "JVM: OpenJDK 64-Bit Server VM\n",
       "Default Encoding: UTF-8\n",
       "Language: en\n",
       "Country: US\n",
       "--></g></svg>"
      ]
     },
     "execution_count": 22,
     "metadata": {},
     "output_type": "execute_result"
    }
   ],
   "source": [
    "%viz --view=default --style=LR Redefinition2"
   ]
  }
 ],
 "metadata": {
  "kernelspec": {
   "display_name": "SysML",
   "language": "sysml",
   "name": "sysml"
  },
  "language_info": {
   "codemirror_mode": "sysml",
   "file_extension": ".sysml",
   "mimetype": "text/x-sysml",
   "name": "sysml",
   "pygments_lexer": "java",
   "version": "1.0.0"
  }
 },
 "nbformat": 4,
 "nbformat_minor": 5
}
