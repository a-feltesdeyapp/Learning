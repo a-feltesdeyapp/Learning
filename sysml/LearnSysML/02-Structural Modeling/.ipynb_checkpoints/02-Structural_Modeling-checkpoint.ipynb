{
 "cells": [
  {
   "cell_type": "markdown",
   "id": "7077ae66-f178-4e3c-b84e-6e6d99608851",
   "metadata": {},
   "source": [
    "# 02-Structural Modeling"
   ]
  },
  {
   "cell_type": "markdown",
   "id": "8364bf46-d106-4957-a704-8a8fb56822a3",
   "metadata": {},
   "source": [
    "## 02-01\n",
    "### PartDefinitionAndUsage.sysml\n",
    "part: modular unit of structure. system, system component, external entity, etc.\n",
    "- hierarchy to allow for different levels of abstraction\n",
    "- parts can be logical abstractions, such as orgs, or users\n",
    "- connect to product reqs\n",
    "\n",
    "definition > usage - typical method of SysML"
   ]
  },
  {
   "cell_type": "code",
   "execution_count": null,
   "id": "cdd69214-474d-45df-be0d-2597354e8583",
   "metadata": {
    "tags": [],
    "vscode": {
     "languageId": "sysml"
    }
   },
   "outputs": [
    {
     "data": {
      "text/plain": [
       "Package PartDefinitionAndUsage (c46e0d04-04e9-4965-86e9-6a871d037fc5)\n"
      ]
     },
     "execution_count": 21,
     "metadata": {},
     "output_type": "execute_result"
    }
   ],
   "source": [
    "package PartDefinitionAndUsage {\n",
    "    // Define Part: TitleCase, square corners\n",
    "        //part def <shortname> Name\n",
    "            //Shortname is optional, often used as human readable id or to shorten long part names.\n",
    "    part def <P001> Oven;\n",
    "\n",
    "    // Usage: camelCase, rounded corners\n",
    "        // part usageName: PartName;\n",
    "            // testOven is usage of part def Oven\n",
    "    part testOven: Oven;\n",
    "        // part usageName defined by PartName;\n",
    "    part testOven2 defined by Oven;\n",
    "        // part usageName defined by shortname; or part usageName: shortname\n",
    "    part testOven3: P001;\n",
    "}"
   ]
  },
  {
   "cell_type": "code",
   "execution_count": null,
   "id": "33d345c2",
   "metadata": {
    "vscode": {
     "languageId": "sysml"
    }
   },
   "outputs": [
    {
     "data": {
      "image/svg+xml": [
       "<?xml version=\"1.0\" encoding=\"UTF-8\" standalone=\"no\"?><svg xmlns=\"http://www.w3.org/2000/svg\" xmlns:xlink=\"http://www.w3.org/1999/xlink\" contentStyleType=\"text/css\" height=\"222px\" preserveAspectRatio=\"none\" style=\"width:505px;height:222px;background:#FFFFFF;\" version=\"1.1\" viewBox=\"0 0 505 222\" width=\"505px\" zoomAndPan=\"magnify\"><defs/><g><!--MD5=[fbc87193dbaf4d95561dea2c320d4a47]\n",
       "cluster E1--><g id=\"cluster_E1\"><a href=\"psysml:c46e0d04-04e9-4965-86e9-6a871d037fc5\" target=\"_top\" title=\"psysml:c46e0d04-04e9-4965-86e9-6a871d037fc5\" xlink:actuate=\"onRequest\" xlink:href=\"psysml:c46e0d04-04e9-4965-86e9-6a871d037fc5\" xlink:show=\"new\" xlink:title=\"psysml:c46e0d04-04e9-4965-86e9-6a871d037fc5\" xlink:type=\"simple\"><polygon fill=\"none\" points=\"16,6,195,6,202,28.4883,488,28.4883,488,215,16,215,16,6\" style=\"stroke:#000000;stroke-width:1.5;\"/><line style=\"stroke:#000000;stroke-width:1.5;\" x1=\"16\" x2=\"202\" y1=\"28.4883\" y2=\"28.4883\"/><text fill=\"#000000\" font-family=\"sans-serif\" font-size=\"14\" font-weight=\"bold\" lengthAdjust=\"spacing\" textLength=\"173\" x=\"20\" y=\"21.5352\">PartDefinitionAndUsage</text></a></g><!--MD5=[b4997ac47864f28c2f74865a473b2911]\n",
       "class E2--><a href=\"psysml:360f9b7c-be81-4739-9c55-4dfe6a55eb11\" target=\"_top\" title=\"psysml:360f9b7c-be81-4739-9c55-4dfe6a55eb11\" xlink:actuate=\"onRequest\" xlink:href=\"psysml:360f9b7c-be81-4739-9c55-4dfe6a55eb11\" xlink:show=\"new\" xlink:title=\"psysml:360f9b7c-be81-4739-9c55-4dfe6a55eb11\" xlink:type=\"simple\"><g id=\"elem_E2\"><rect fill=\"#FFFFFF\" height=\"48.6211\" id=\"E2\" style=\"stroke:#181818;stroke-width:0.5;\" width=\"102\" x=\"205\" y=\"150\"/><text fill=\"#000000\" font-family=\"sans-serif\" font-size=\"12\" font-style=\"italic\" lengthAdjust=\"spacing\" textLength=\"63\" x=\"224.5\" y=\"166.6016\">«part  def»</text><text fill=\"#000000\" font-family=\"sans-serif\" font-size=\"14\" lengthAdjust=\"spacing\" textLength=\"96\" x=\"208\" y=\"182.668\">&lt;P001&gt; Oven</text><line style=\"stroke:#181818;stroke-width:0.5;\" x1=\"206\" x2=\"306\" y1=\"190.6211\" y2=\"190.6211\"/></g></a><!--MD5=[09b614a08d8cba4a07c9adeb5e0fee81]\n",
       "class E3--><a href=\"psysml:9f85e0e1-48a6-4ff8-b743-915cc1c0b2f7\" target=\"_top\" title=\"psysml:9f85e0e1-48a6-4ff8-b743-915cc1c0b2f7\" xlink:actuate=\"onRequest\" xlink:href=\"psysml:9f85e0e1-48a6-4ff8-b743-915cc1c0b2f7\" xlink:show=\"new\" xlink:title=\"psysml:9f85e0e1-48a6-4ff8-b743-915cc1c0b2f7\" xlink:type=\"simple\"><g id=\"elem_E3\"><rect fill=\"#FFFFFF\" height=\"48.6211\" id=\"E3\" rx=\"10\" ry=\"10\" style=\"stroke:#181818;stroke-width:0.5;\" width=\"117\" x=\"354.5\" y=\"41\"/><text fill=\"#000000\" font-family=\"sans-serif\" font-size=\"12\" font-style=\"italic\" lengthAdjust=\"spacing\" textLength=\"36\" x=\"395\" y=\"57.6016\">«part»</text><text fill=\"#000000\" font-family=\"sans-serif\" font-size=\"14\" lengthAdjust=\"spacing\" textLength=\"103\" x=\"357.5\" y=\"73.668\">testOven: Oven</text><line style=\"stroke:#181818;stroke-width:0.5;\" x1=\"355.5\" x2=\"470.5\" y1=\"81.6211\" y2=\"81.6211\"/></g></a><!--MD5=[ebbe1d658d1005bcc118a6aa81145e00]\n",
       "class E4--><a href=\"psysml:45b2c2bc-8740-4fec-bad9-4b228f514d27\" target=\"_top\" title=\"psysml:45b2c2bc-8740-4fec-bad9-4b228f514d27\" xlink:actuate=\"onRequest\" xlink:href=\"psysml:45b2c2bc-8740-4fec-bad9-4b228f514d27\" xlink:show=\"new\" xlink:title=\"psysml:45b2c2bc-8740-4fec-bad9-4b228f514d27\" xlink:type=\"simple\"><g id=\"elem_E4\"><rect fill=\"#FFFFFF\" height=\"48.6211\" id=\"E4\" rx=\"10\" ry=\"10\" style=\"stroke:#181818;stroke-width:0.5;\" width=\"126\" x=\"193\" y=\"41\"/><text fill=\"#000000\" font-family=\"sans-serif\" font-size=\"12\" font-style=\"italic\" lengthAdjust=\"spacing\" textLength=\"36\" x=\"238\" y=\"57.6016\">«part»</text><text fill=\"#000000\" font-family=\"sans-serif\" font-size=\"14\" lengthAdjust=\"spacing\" textLength=\"112\" x=\"196\" y=\"73.668\">testOven2: Oven</text><line style=\"stroke:#181818;stroke-width:0.5;\" x1=\"194\" x2=\"318\" y1=\"81.6211\" y2=\"81.6211\"/></g></a><!--MD5=[270fce915f116d4de14055a7c1d9a0f3]\n",
       "class E5--><a href=\"psysml:900bf35a-40d9-4ebd-a9be-a1fd22f09add\" target=\"_top\" title=\"psysml:900bf35a-40d9-4ebd-a9be-a1fd22f09add\" xlink:actuate=\"onRequest\" xlink:href=\"psysml:900bf35a-40d9-4ebd-a9be-a1fd22f09add\" xlink:show=\"new\" xlink:title=\"psysml:900bf35a-40d9-4ebd-a9be-a1fd22f09add\" xlink:type=\"simple\"><g id=\"elem_E5\"><rect fill=\"#FFFFFF\" height=\"48.6211\" id=\"E5\" rx=\"10\" ry=\"10\" style=\"stroke:#181818;stroke-width:0.5;\" width=\"126\" x=\"32\" y=\"41\"/><text fill=\"#000000\" font-family=\"sans-serif\" font-size=\"12\" font-style=\"italic\" lengthAdjust=\"spacing\" textLength=\"36\" x=\"77\" y=\"57.6016\">«part»</text><text fill=\"#000000\" font-family=\"sans-serif\" font-size=\"14\" lengthAdjust=\"spacing\" textLength=\"112\" x=\"35\" y=\"73.668\">testOven3: Oven</text><line style=\"stroke:#181818;stroke-width:0.5;\" x1=\"33\" x2=\"157\" y1=\"81.6211\" y2=\"81.6211\"/></g></a><!--MD5=[05d275557350bfb9b23a4ef7222b4c39]\n",
       "link E3 to E2--><g id=\"link_E3_E2\"><a href=\"psysml:a25eefba-c77c-472e-8932-01c3e785928a\" target=\"_top\" title=\"psysml:a25eefba-c77c-472e-8932-01c3e785928a\" xlink:actuate=\"onRequest\" xlink:href=\"psysml:a25eefba-c77c-472e-8932-01c3e785928a\" xlink:show=\"new\" xlink:title=\"psysml:a25eefba-c77c-472e-8932-01c3e785928a\" xlink:type=\"simple\"><path d=\"M378.16,90.25 C357.42,104.38 330.73,122.57 307.59,138.34 \" fill=\"none\" id=\"E3-to-E2\" style=\"stroke:#181818;stroke-width:1.0;\"/><polygon fill=\"#FFFFFF\" points=\"290.75,149.82,302.5036,133.3321,310.3913,144.8986,290.75,149.82\" style=\"stroke:#181818;stroke-width:1.0;\"/><ellipse cx=\"308.3397\" cy=\"131.773\" fill=\"#181818\" rx=\"2\" ry=\"2\" style=\"stroke:#181818;stroke-width:1.0;\"/><ellipse cx=\"313.9737\" cy=\"140.0348\" fill=\"#181818\" rx=\"2\" ry=\"2\" style=\"stroke:#181818;stroke-width:1.0;\"/></a></g><!--MD5=[185131fc0dcab0a4505a2ebe144e961b]\n",
       "link E4 to E2--><g id=\"link_E4_E2\"><a href=\"psysml:5d76993d-98b7-42df-a3df-df4ebfcfd256\" target=\"_top\" title=\"psysml:5d76993d-98b7-42df-a3df-df4ebfcfd256\" xlink:actuate=\"onRequest\" xlink:href=\"psysml:5d76993d-98b7-42df-a3df-df4ebfcfd256\" xlink:show=\"new\" xlink:title=\"psysml:5d76993d-98b7-42df-a3df-df4ebfcfd256\" xlink:type=\"simple\"><path d=\"M256,90.25 C256,101.88 256,116.27 256,129.8 \" fill=\"none\" id=\"E4-to-E2\" style=\"stroke:#181818;stroke-width:1.0;\"/><polygon fill=\"#FFFFFF\" points=\"256,149.82,249,130.82,263,130.82,256,149.82\" style=\"stroke:#181818;stroke-width:1.0;\"/><ellipse cx=\"251\" cy=\"125.12\" fill=\"#181818\" rx=\"2\" ry=\"2\" style=\"stroke:#181818;stroke-width:1.0;\"/><ellipse cx=\"261\" cy=\"125.12\" fill=\"#181818\" rx=\"2\" ry=\"2\" style=\"stroke:#181818;stroke-width:1.0;\"/></a></g><!--MD5=[15ebcb19ae302d9b601edb458606d402]\n",
       "link E5 to E2--><g id=\"link_E5_E2\"><a href=\"psysml:879ca23d-4d03-46eb-b75a-5f4bc5eeac66\" target=\"_top\" title=\"psysml:879ca23d-4d03-46eb-b75a-5f4bc5eeac66\" xlink:actuate=\"onRequest\" xlink:href=\"psysml:879ca23d-4d03-46eb-b75a-5f4bc5eeac66\" xlink:show=\"new\" xlink:title=\"psysml:879ca23d-4d03-46eb-b75a-5f4bc5eeac66\" xlink:type=\"simple\"><path d=\"M130.73,90.25 C152.1,104.45 179.63,122.75 203.44,138.57 \" fill=\"none\" id=\"E5-to-E2\" style=\"stroke:#181818;stroke-width:1.0;\"/><polygon fill=\"#FFFFFF\" points=\"220.37,149.82,200.6716,145.1324,208.4213,133.4729,220.37,149.82\" style=\"stroke:#181818;stroke-width:1.0;\"/><ellipse cx=\"197.0316\" cy=\"140.3115\" fill=\"#181818\" rx=\"2\" ry=\"2\" style=\"stroke:#181818;stroke-width:1.0;\"/><ellipse cx=\"202.5671\" cy=\"131.9833\" fill=\"#181818\" rx=\"2\" ry=\"2\" style=\"stroke:#181818;stroke-width:1.0;\"/></a></g><!--MD5=[2cdc2086c696cdf6d87f720236c8ea5a]\n",
       "@startuml\r\n",
       "skin sysmlbw\r\n",
       "skinparam monochrome true\r\n",
       "skinparam wrapWidth 300\r\n",
       "hide circle\r\n",
       "\r\n",
       "package \"PartDefinitionAndUsage\" as E1  [[psysml:c46e0d04-04e9-4965-86e9-6a871d037fc5 ]]  {\r\n",
       "comp def \"~<P001> Oven\" as E2  <<(T,blue) part  def>> [[psysml:360f9b7c-be81-4739-9c55-4dfe6a55eb11 ]] {\r\n",
       "}\r\n",
       "comp usage \"testOven: Oven  \" as E3  <<(T,blue) part>> [[psysml:9f85e0e1-48a6-4ff8-b743-915cc1c0b2f7 ]] {\r\n",
       "}\r\n",
       "comp usage \"testOven2: Oven  \" as E4  <<(T,blue) part>> [[psysml:45b2c2bc-8740-4fec-bad9-4b228f514d27 ]] {\r\n",
       "}\r\n",
       "comp usage \"testOven3: Oven  \" as E5  <<(T,blue) part>> [[psysml:900bf35a-40d9-4ebd-a9be-a1fd22f09add ]] {\r\n",
       "}\r\n",
       "}\r\n",
       "E3 - -:|> E2 [[psysml:a25eefba-c77c-472e-8932-01c3e785928a ]] \r\n",
       "E4 - -:|> E2 [[psysml:5d76993d-98b7-42df-a3df-df4ebfcfd256 ]] \r\n",
       "E5 - -:|> E2 [[psysml:879ca23d-4d03-46eb-b75a-5f4bc5eeac66 ]] \r\n",
       "@enduml\r\n",
       "\n",
       "PlantUML version 1.2022.7(Mon Aug 22 11:01:30 MDT 2022)\n",
       "(EPL source distribution)\n",
       "Java Runtime: Java(TM) SE Runtime Environment\n",
       "JVM: Java HotSpot(TM) 64-Bit Server VM\n",
       "Default Encoding: UTF-8\n",
       "Language: en\n",
       "Country: US\n",
       "--></g></svg>"
      ]
     },
     "execution_count": 22,
     "metadata": {},
     "output_type": "execute_result"
    }
   ],
   "source": [
    "%viz --view=DEFAULT PartDefinitionAndUsage"
   ]
  },
  {
   "cell_type": "markdown",
   "id": "31247ad8-acdf-49b5-ac35-5a46f87585fb",
   "metadata": {},
   "source": [
    "Arrow with 2 dots indicates definition. Interpreted as usageName defined by PartName\n",
    "- Aka, feature typing relationship\n",
    "\n",
    "SysML has a variety of views based on the relationships between components. This is using a general view\n",
    "- General view: structural components and relationships\n",
    "- Interconnection view: connection between parts so that they can interact with each other\n",
    "- Action flow view\n",
    "- State transition view\n",
    "- Geometery view (not covered in this course)\n",
    "- Case view\n",
    "- Grid view (not covered in this course)\n",
    "- Browser view (not covered in this course)"
   ]
  },
  {
   "cell_type": "code",
   "execution_count": 11,
   "id": "82e93093",
   "metadata": {
    "vscode": {
     "languageId": "sysml"
    }
   },
   "outputs": [
    {
     "data": {
      "text/plain": [
       "Usage: %viz [--view=<VIEW>] [--style=<STYLE>...] <NAME> [<NAME>...]\n",
       "\n",
       "Visualize model elements of <NAME>(s). <NAME>s must be fully qualified.\n",
       "\n",
       "<VIEW> is case insensitive and possible candidates are:\n",
       "   DEFAULT\t\tAutomatically choose an appropriate view from the given model element names\n",
       "   TREE\t\t\tShow a tree-structural view, like a Block Definition Diagram (BDD)\n",
       "   INTERCONNECTION\tShow an interconnection view, like an Internal Block Diagram (IBD)\n",
       "   STATE\t\tShow state machines\n",
       "   ACTION\t\tShow actions like an activity diagram\n",
       "   SEQUENCE\t\tShow events and messages in a sequence diagram\n",
       "   MIXED\t\tShow multiple views\n",
       "\n",
       "<STYLE> is also case insensitive. Multiple --style options are allowed.  The possible style names are:\n",
       "  DEFAULT\t\tStandard B&&W\n",
       "  STDCOLOR\t\tStandard style with colors\n",
       "  PLANTUML\t\tPlantUML Style\n",
       "  TB\t\t\tTop-to-Bottom orientation\n",
       "  LR\t\t\tLeft-to-Right orientation\n",
       "  POLYLINE\t\tPolyline style\n",
       "  ORTHOLINE\t\tOrthogonal line style\n",
       "  SHOWLIB\t\tShow elements of the standard libraries\n",
       "  SHOWINHERITED\t\tShow inherited members\n",
       "  COMPMOST\t\tShow as many memberships in a compartment as possible\n",
       "  COMPTREE\t\tShow nested ports in a compartment\n",
       "  SHOWIMPORTED\t\tShow imported elements\n",
       "  HIDEMETADATA\t\tHide metadata\n",
       "  SHOWMETACLASS\t\tShow metaclasses of metaobjects\n",
       "  EVAL\t\tEvaluate expressions\n",
       "  NODEMULTIPLICITY\t\tShow multiplicities in nodes\n",
       "  EDGEMULTIPLICITY\t\tShow multiplicities on edges\n",
       "  IMPLICITMULTIPLICITY\t\tShow implicit multiplicities\n",
       "\n",
       "Example:\n",
       "\t%viz --view Tree --style LR --style ortholine Pkg1::PartDef Pkg1::Pkg2::partUsage\n",
       "should visualize Pkg1::PartDef and Pkg1::Pkg2::partUsage with a tree view ordered in the left-to-right direction with orthogonal lines.\n"
      ]
     },
     "execution_count": 11,
     "metadata": {},
     "output_type": "execute_result"
    }
   ],
   "source": [
    "%help %viz"
   ]
  },
  {
   "cell_type": "markdown",
   "id": "78bec1c1",
   "metadata": {},
   "source": [
    "## 02-02\n",
    "### Defining Attributes.sysml\n",
    "Attribute\n",
    "- A set of data values that represent the properties of an element\n",
    "- Most attributes require importing certain packages or libraries.\n",
    "\n",
    "Integer and PowerUnit are not native to SysML and must be called from packages in the sysml.library using `import`\n",
    "- private import LibraryPackage::DataTypeFromLibraryPackage\n",
    "- specifies namespaces w/in SysML"
   ]
  },
  {
   "cell_type": "code",
   "execution_count": 19,
   "id": "5c936a69",
   "metadata": {
    "vscode": {
     "languageId": "sysml"
    }
   },
   "outputs": [
    {
     "data": {
      "text/plain": [
       "Package DefiningAttributes (4ce39478-c62e-4f05-802e-f730fa874f69)\n"
      ]
     },
     "execution_count": 19,
     "metadata": {},
     "output_type": "execute_result"
    }
   ],
   "source": [
    "package DefiningAttributes {\n",
    "    private import ScalarValues::Integer;\t// ScalarValues: std scalar data types (real, integer, bool, string, etc)\n",
    "    private import SI::PowerUnit;\t// SI library: measurement units per ISO 80,000 Std\n",
    "\n",
    "    part def Oven {\n",
    "        attribute rackCount: Integer;\n",
    "        attribute wattage: PowerUnit;\n",
    "    }\n",
    "\n",
    "    part testOven: Oven;\n",
    "}"
   ]
  },
  {
   "cell_type": "code",
   "execution_count": 20,
   "id": "e0f7642c",
   "metadata": {
    "vscode": {
     "languageId": "sysml"
    }
   },
   "outputs": [
    {
     "data": {
      "image/svg+xml": [
       "<?xml version=\"1.0\" encoding=\"UTF-8\" standalone=\"no\"?><svg xmlns=\"http://www.w3.org/2000/svg\" xmlns:xlink=\"http://www.w3.org/1999/xlink\" contentStyleType=\"text/css\" height=\"156px\" preserveAspectRatio=\"none\" style=\"width:386px;height:156px;background:#FFFFFF;\" version=\"1.1\" viewBox=\"0 0 386 156\" width=\"386px\" zoomAndPan=\"magnify\"><defs/><g><!--MD5=[fbc87193dbaf4d95561dea2c320d4a47]\n",
       "cluster E1--><g id=\"cluster_E1\"><a href=\"psysml:4ce39478-c62e-4f05-802e-f730fa874f69\" target=\"_top\" title=\"psysml:4ce39478-c62e-4f05-802e-f730fa874f69\" xlink:actuate=\"onRequest\" xlink:href=\"psysml:4ce39478-c62e-4f05-802e-f730fa874f69\" xlink:show=\"new\" xlink:title=\"psysml:4ce39478-c62e-4f05-802e-f730fa874f69\" xlink:type=\"simple\"><polygon fill=\"none\" points=\"16,6,157,6,164,28.4883,369,28.4883,369,149,16,149,16,6\" style=\"stroke:#000000;stroke-width:1.5;\"/><line style=\"stroke:#000000;stroke-width:1.5;\" x1=\"16\" x2=\"164\" y1=\"28.4883\" y2=\"28.4883\"/><text fill=\"#000000\" font-family=\"sans-serif\" font-size=\"14\" font-weight=\"bold\" lengthAdjust=\"spacing\" textLength=\"135\" x=\"20\" y=\"21.5352\">DefiningAttributes</text></a></g><!--MD5=[b4997ac47864f28c2f74865a473b2911]\n",
       "class E2--><a href=\"psysml:88166287-2b6e-44df-bd3e-bbd0b8c6406d\" target=\"_top\" title=\"psysml:88166287-2b6e-44df-bd3e-bbd0b8c6406d\" xlink:actuate=\"onRequest\" xlink:href=\"psysml:88166287-2b6e-44df-bd3e-bbd0b8c6406d\" xlink:show=\"new\" xlink:title=\"psysml:88166287-2b6e-44df-bd3e-bbd0b8c6406d\" xlink:type=\"simple\"><g id=\"elem_E2\"><rect fill=\"#FFFFFF\" height=\"92.193\" id=\"E2\" style=\"stroke:#181818;stroke-width:0.5;\" width=\"144\" x=\"209\" y=\"41\"/><text fill=\"#000000\" font-family=\"sans-serif\" font-size=\"12\" font-style=\"italic\" lengthAdjust=\"spacing\" textLength=\"63\" x=\"249.5\" y=\"57.6016\">«part  def»</text><text fill=\"#000000\" font-family=\"sans-serif\" font-size=\"14\" lengthAdjust=\"spacing\" textLength=\"35\" x=\"263.5\" y=\"73.668\">Oven</text><line style=\"stroke:#181818;stroke-width:0.5;\" x1=\"210\" x2=\"352\" y1=\"81.6211\" y2=\"81.6211\"/><text fill=\"#000000\" font-family=\"sans-serif\" font-size=\"14\" lengthAdjust=\"spacing\" textLength=\"128\" x=\"215\" y=\"109.7516\">rackCount: Integer</text><text fill=\"#000000\" font-family=\"sans-serif\" font-size=\"14\" lengthAdjust=\"spacing\" textLength=\"132\" x=\"215\" y=\"126.2398\">wattage: PowerUnit</text><text fill=\"#000000\" font-family=\"sans-serif\" font-size=\"14\" font-style=\"italic\" lengthAdjust=\"spacing\" textLength=\"66\" x=\"248\" y=\"94.4121\">attributes</text></g></a><!--MD5=[09b614a08d8cba4a07c9adeb5e0fee81]\n",
       "class E3--><a href=\"psysml:b9d6481e-812e-4e05-b4da-c8b135a4d351\" target=\"_top\" title=\"psysml:b9d6481e-812e-4e05-b4da-c8b135a4d351\" xlink:actuate=\"onRequest\" xlink:href=\"psysml:b9d6481e-812e-4e05-b4da-c8b135a4d351\" xlink:show=\"new\" xlink:title=\"psysml:b9d6481e-812e-4e05-b4da-c8b135a4d351\" xlink:type=\"simple\"><g id=\"elem_E3\"><rect fill=\"#FFFFFF\" height=\"48.6211\" id=\"E3\" rx=\"10\" ry=\"10\" style=\"stroke:#181818;stroke-width:0.5;\" width=\"117\" x=\"32\" y=\"62.5\"/><text fill=\"#000000\" font-family=\"sans-serif\" font-size=\"12\" font-style=\"italic\" lengthAdjust=\"spacing\" textLength=\"36\" x=\"72.5\" y=\"79.1016\">«part»</text><text fill=\"#000000\" font-family=\"sans-serif\" font-size=\"14\" lengthAdjust=\"spacing\" textLength=\"103\" x=\"35\" y=\"95.168\">testOven: Oven</text><line style=\"stroke:#181818;stroke-width:0.5;\" x1=\"33\" x2=\"148\" y1=\"103.1211\" y2=\"103.1211\"/></g></a><!--MD5=[05d275557350bfb9b23a4ef7222b4c39]\n",
       "link E3 to E2--><g id=\"link_E3_E2\"><a href=\"psysml:dd69f4d3-2f4c-46b1-82ca-e9c621da900d\" target=\"_top\" title=\"psysml:dd69f4d3-2f4c-46b1-82ca-e9c621da900d\" xlink:actuate=\"onRequest\" xlink:href=\"psysml:dd69f4d3-2f4c-46b1-82ca-e9c621da900d\" xlink:show=\"new\" xlink:title=\"psysml:dd69f4d3-2f4c-46b1-82ca-e9c621da900d\" xlink:type=\"simple\"><path d=\"M149.08,87 C161.59,87 175.12,87 188.58,87 \" fill=\"none\" id=\"E3-to-E2\" style=\"stroke:#181818;stroke-width:1.0;\"/><polygon fill=\"#FFFFFF\" points=\"208.8,87,189.8,94,189.8,80,208.8,87\" style=\"stroke:#181818;stroke-width:1.0;\"/><ellipse cx=\"184.0964\" cy=\"91.9824\" fill=\"#181818\" rx=\"2\" ry=\"2\" style=\"stroke:#181818;stroke-width:1.0;\"/><ellipse cx=\"184.1036\" cy=\"81.9824\" fill=\"#181818\" rx=\"2\" ry=\"2\" style=\"stroke:#181818;stroke-width:1.0;\"/></a></g><!--MD5=[7476f6683853b50f63f15bbc4e4bf946]\n",
       "@startuml\r\n",
       "skin sysmlbw\r\n",
       "skinparam monochrome true\r\n",
       "skinparam wrapWidth 300\r\n",
       "hide circle\r\n",
       "left to right direction\r\n",
       "\r\n",
       "package \"DefiningAttributes\" as E1  [[psysml:4ce39478-c62e-4f05-802e-f730fa874f69 ]]  {\r\n",
       "comp def \"Oven\" as E2  <<(T,blue) part  def>> [[psysml:88166287-2b6e-44df-bd3e-bbd0b8c6406d ]] {\r\n",
       "##//attributes//##\r\n",
       "rackCount: Integer\r\n",
       "wattage: PowerUnit\r\n",
       "}\r\n",
       "comp usage \"testOven: Oven  \" as E3  <<(T,blue) part>> [[psysml:b9d6481e-812e-4e05-b4da-c8b135a4d351 ]] {\r\n",
       "}\r\n",
       "}\r\n",
       "E3 - -:|> E2 [[psysml:dd69f4d3-2f4c-46b1-82ca-e9c621da900d ]] \r\n",
       "@enduml\r\n",
       "\n",
       "PlantUML version 1.2022.7(Mon Aug 22 11:01:30 MDT 2022)\n",
       "(EPL source distribution)\n",
       "Java Runtime: Java(TM) SE Runtime Environment\n",
       "JVM: Java HotSpot(TM) 64-Bit Server VM\n",
       "Default Encoding: UTF-8\n",
       "Language: en\n",
       "Country: US\n",
       "--></g></svg>"
      ]
     },
     "execution_count": 20,
     "metadata": {},
     "output_type": "execute_result"
    }
   ],
   "source": [
    "%viz --view=DEFAULT --style=LR DefiningAttributes"
   ]
  },
  {
   "cell_type": "markdown",
   "id": "4f6e8bc4",
   "metadata": {},
   "source": [
    "### MoreParts.sysml\n",
    "Feature-member relationship: X is composed of Y\n",
    "- Black-diamond head\n",
    "    - Racks are features of the oven"
   ]
  },
  {
   "cell_type": "code",
   "execution_count": null,
   "id": "0c2de715",
   "metadata": {
    "vscode": {
     "languageId": "sysml"
    }
   },
   "outputs": [
    {
     "data": {
      "text/plain": [
       "Package MoreParts (68f71d63-7b88-49f8-bc87-8a9289a7d83a)\n"
      ]
     },
     "execution_count": 23,
     "metadata": {},
     "output_type": "execute_result"
    }
   ],
   "source": [
    "package MoreParts {\n",
    "    private import ScalarValues::Integer;\n",
    "    private import SI::PowerUnit;\n",
    "\n",
    "    part def Oven {\n",
    "        attribute rackCount: Integer;\n",
    "        attribute wattage: PowerUnit;\n",
    "    }\n",
    "\n",
    "    // Adding 2 lower and upper racks.\n",
    "    part def Rack;\n",
    "\n",
    "    part testOven: Oven{\n",
    "        part lowerRack: Rack;\n",
    "        part upperRack: Rack;\n",
    "    }\n",
    "        \n",
    "    // Can also create part usages without definitions.\n",
    "        // Bad habit to get into. Loses reuse and standardization across multiple parts\n",
    "    part testOven2 {\n",
    "        part lowerRack2;\n",
    "        part upperRack2;\n",
    "    }\n",
    "}"
   ]
  },
  {
   "cell_type": "code",
   "execution_count": 24,
   "id": "4982da6e",
   "metadata": {
    "vscode": {
     "languageId": "sysml"
    }
   },
   "outputs": [
    {
     "data": {
      "image/svg+xml": [
       "<?xml version=\"1.0\" encoding=\"UTF-8\" standalone=\"no\"?><svg xmlns=\"http://www.w3.org/2000/svg\" xmlns:xlink=\"http://www.w3.org/1999/xlink\" contentStyleType=\"text/css\" height=\"374px\" preserveAspectRatio=\"none\" style=\"width:791px;height:374px;background:#FFFFFF;\" version=\"1.1\" viewBox=\"0 0 791 374\" width=\"791px\" zoomAndPan=\"magnify\"><defs/><g><!--MD5=[fbc87193dbaf4d95561dea2c320d4a47]\n",
       "cluster E1--><g id=\"cluster_E1\"><a href=\"psysml:68f71d63-7b88-49f8-bc87-8a9289a7d83a\" target=\"_top\" title=\"psysml:68f71d63-7b88-49f8-bc87-8a9289a7d83a\" xlink:actuate=\"onRequest\" xlink:href=\"psysml:68f71d63-7b88-49f8-bc87-8a9289a7d83a\" xlink:show=\"new\" xlink:title=\"psysml:68f71d63-7b88-49f8-bc87-8a9289a7d83a\" xlink:type=\"simple\"><polygon fill=\"none\" points=\"16,6,95,6,102,28.4883,774,28.4883,774,367,16,367,16,6\" style=\"stroke:#000000;stroke-width:1.5;\"/><line style=\"stroke:#000000;stroke-width:1.5;\" x1=\"16\" x2=\"102\" y1=\"28.4883\" y2=\"28.4883\"/><text fill=\"#000000\" font-family=\"sans-serif\" font-size=\"14\" font-weight=\"bold\" lengthAdjust=\"spacing\" textLength=\"73\" x=\"20\" y=\"21.5352\">MoreParts</text></a></g><!--MD5=[b4997ac47864f28c2f74865a473b2911]\n",
       "class E2--><a href=\"psysml:a8a486e0-f1dc-4455-bfdd-99b2c4dbcf48\" target=\"_top\" title=\"psysml:a8a486e0-f1dc-4455-bfdd-99b2c4dbcf48\" xlink:actuate=\"onRequest\" xlink:href=\"psysml:a8a486e0-f1dc-4455-bfdd-99b2c4dbcf48\" xlink:show=\"new\" xlink:title=\"psysml:a8a486e0-f1dc-4455-bfdd-99b2c4dbcf48\" xlink:type=\"simple\"><g id=\"elem_E2\"><rect fill=\"#FFFFFF\" height=\"92.193\" id=\"E2\" style=\"stroke:#181818;stroke-width:0.5;\" width=\"144\" x=\"292\" y=\"150\"/><text fill=\"#000000\" font-family=\"sans-serif\" font-size=\"12\" font-style=\"italic\" lengthAdjust=\"spacing\" textLength=\"63\" x=\"332.5\" y=\"166.6016\">«part  def»</text><text fill=\"#000000\" font-family=\"sans-serif\" font-size=\"14\" lengthAdjust=\"spacing\" textLength=\"35\" x=\"346.5\" y=\"182.668\">Oven</text><line style=\"stroke:#181818;stroke-width:0.5;\" x1=\"293\" x2=\"435\" y1=\"190.6211\" y2=\"190.6211\"/><text fill=\"#000000\" font-family=\"sans-serif\" font-size=\"14\" lengthAdjust=\"spacing\" textLength=\"128\" x=\"298\" y=\"218.7516\">rackCount: Integer</text><text fill=\"#000000\" font-family=\"sans-serif\" font-size=\"14\" lengthAdjust=\"spacing\" textLength=\"132\" x=\"298\" y=\"235.2398\">wattage: PowerUnit</text><text fill=\"#000000\" font-family=\"sans-serif\" font-size=\"14\" font-style=\"italic\" lengthAdjust=\"spacing\" textLength=\"66\" x=\"331\" y=\"203.4121\">attributes</text></g></a><!--MD5=[09b614a08d8cba4a07c9adeb5e0fee81]\n",
       "class E3--><a href=\"psysml:5c380c3e-f3dc-449e-9888-9fd173de1cfb\" target=\"_top\" title=\"psysml:5c380c3e-f3dc-449e-9888-9fd173de1cfb\" xlink:actuate=\"onRequest\" xlink:href=\"psysml:5c380c3e-f3dc-449e-9888-9fd173de1cfb\" xlink:show=\"new\" xlink:title=\"psysml:5c380c3e-f3dc-449e-9888-9fd173de1cfb\" xlink:type=\"simple\"><g id=\"elem_E3\"><rect fill=\"#FFFFFF\" height=\"48.6211\" id=\"E3\" style=\"stroke:#181818;stroke-width:0.5;\" width=\"65\" x=\"580.5\" y=\"302\"/><text fill=\"#000000\" font-family=\"sans-serif\" font-size=\"12\" font-style=\"italic\" lengthAdjust=\"spacing\" textLength=\"63\" x=\"581.5\" y=\"318.6016\">«part  def»</text><text fill=\"#000000\" font-family=\"sans-serif\" font-size=\"14\" lengthAdjust=\"spacing\" textLength=\"32\" x=\"597\" y=\"334.668\">Rack</text><line style=\"stroke:#181818;stroke-width:0.5;\" x1=\"581.5\" x2=\"644.5\" y1=\"342.6211\" y2=\"342.6211\"/></g></a><!--MD5=[ebbe1d658d1005bcc118a6aa81145e00]\n",
       "class E4--><a href=\"psysml:51081881-3971-4214-a37b-45fa781e2ad0\" target=\"_top\" title=\"psysml:51081881-3971-4214-a37b-45fa781e2ad0\" xlink:actuate=\"onRequest\" xlink:href=\"psysml:51081881-3971-4214-a37b-45fa781e2ad0\" xlink:show=\"new\" xlink:title=\"psysml:51081881-3971-4214-a37b-45fa781e2ad0\" xlink:type=\"simple\"><g id=\"elem_E4\"><rect fill=\"#FFFFFF\" height=\"48.6211\" id=\"E4\" rx=\"10\" ry=\"10\" style=\"stroke:#181818;stroke-width:0.5;\" width=\"117\" x=\"474.5\" y=\"41\"/><text fill=\"#000000\" font-family=\"sans-serif\" font-size=\"12\" font-style=\"italic\" lengthAdjust=\"spacing\" textLength=\"36\" x=\"515\" y=\"57.6016\">«part»</text><text fill=\"#000000\" font-family=\"sans-serif\" font-size=\"14\" lengthAdjust=\"spacing\" textLength=\"103\" x=\"477.5\" y=\"73.668\">testOven: Oven</text><line style=\"stroke:#181818;stroke-width:0.5;\" x1=\"475.5\" x2=\"590.5\" y1=\"81.6211\" y2=\"81.6211\"/></g></a><!--MD5=[270fce915f116d4de14055a7c1d9a0f3]\n",
       "class E5--><a href=\"psysml:dff793fa-ca6c-43c0-b5de-57be8f0eb3d9\" target=\"_top\" title=\"psysml:dff793fa-ca6c-43c0-b5de-57be8f0eb3d9\" xlink:actuate=\"onRequest\" xlink:href=\"psysml:dff793fa-ca6c-43c0-b5de-57be8f0eb3d9\" xlink:show=\"new\" xlink:title=\"psysml:dff793fa-ca6c-43c0-b5de-57be8f0eb3d9\" xlink:type=\"simple\"><g id=\"elem_E5\"><rect fill=\"#FFFFFF\" height=\"48.6211\" id=\"E5\" rx=\"10\" ry=\"10\" style=\"stroke:#181818;stroke-width:0.5;\" width=\"124\" x=\"471\" y=\"171.5\"/><text fill=\"#000000\" font-family=\"sans-serif\" font-size=\"12\" font-style=\"italic\" lengthAdjust=\"spacing\" textLength=\"36\" x=\"515\" y=\"188.1016\">«part»</text><text fill=\"#000000\" font-family=\"sans-serif\" font-size=\"14\" lengthAdjust=\"spacing\" textLength=\"110\" x=\"474\" y=\"204.168\">lowerRack: Rack</text><line style=\"stroke:#181818;stroke-width:0.5;\" x1=\"472\" x2=\"594\" y1=\"212.1211\" y2=\"212.1211\"/></g></a><!--MD5=[60a26617385b1d2d0262a64233df1f8d]\n",
       "class E6--><a href=\"psysml:5573729b-eff0-42a6-b2bf-15cfd432e0e3\" target=\"_top\" title=\"psysml:5573729b-eff0-42a6-b2bf-15cfd432e0e3\" xlink:actuate=\"onRequest\" xlink:href=\"psysml:5573729b-eff0-42a6-b2bf-15cfd432e0e3\" xlink:show=\"new\" xlink:title=\"psysml:5573729b-eff0-42a6-b2bf-15cfd432e0e3\" xlink:type=\"simple\"><g id=\"elem_E6\"><rect fill=\"#FFFFFF\" height=\"48.6211\" id=\"E6\" rx=\"10\" ry=\"10\" style=\"stroke:#181818;stroke-width:0.5;\" width=\"127\" x=\"630.5\" y=\"171.5\"/><text fill=\"#000000\" font-family=\"sans-serif\" font-size=\"12\" font-style=\"italic\" lengthAdjust=\"spacing\" textLength=\"36\" x=\"676\" y=\"188.1016\">«part»</text><text fill=\"#000000\" font-family=\"sans-serif\" font-size=\"14\" lengthAdjust=\"spacing\" textLength=\"113\" x=\"633.5\" y=\"204.168\">upperRack: Rack</text><line style=\"stroke:#181818;stroke-width:0.5;\" x1=\"631.5\" x2=\"756.5\" y1=\"212.1211\" y2=\"212.1211\"/></g></a><!--MD5=[2156ba9850f5573cc1fc38a6a4b2f02b]\n",
       "class E7--><a href=\"psysml:4494e6e5-ea82-4131-ad41-0926d85d4d6c\" target=\"_top\" title=\"psysml:4494e6e5-ea82-4131-ad41-0926d85d4d6c\" xlink:actuate=\"onRequest\" xlink:href=\"psysml:4494e6e5-ea82-4131-ad41-0926d85d4d6c\" xlink:show=\"new\" xlink:title=\"psysml:4494e6e5-ea82-4131-ad41-0926d85d4d6c\" xlink:type=\"simple\"><g id=\"elem_E7\"><rect fill=\"#FFFFFF\" height=\"48.6211\" id=\"E7\" rx=\"10\" ry=\"10\" style=\"stroke:#181818;stroke-width:0.5;\" width=\"83\" x=\"102.5\" y=\"41\"/><text fill=\"#000000\" font-family=\"sans-serif\" font-size=\"12\" font-style=\"italic\" lengthAdjust=\"spacing\" textLength=\"36\" x=\"126\" y=\"57.6016\">«part»</text><text fill=\"#000000\" font-family=\"sans-serif\" font-size=\"14\" lengthAdjust=\"spacing\" textLength=\"69\" x=\"105.5\" y=\"73.668\">testOven2</text><line style=\"stroke:#181818;stroke-width:0.5;\" x1=\"103.5\" x2=\"184.5\" y1=\"81.6211\" y2=\"81.6211\"/></g></a><!--MD5=[b9389687b975829384b498ac4b7476b2]\n",
       "class E8--><a href=\"psysml:e64c58a7-a294-4c98-8e5c-cd36e4116710\" target=\"_top\" title=\"psysml:e64c58a7-a294-4c98-8e5c-cd36e4116710\" xlink:actuate=\"onRequest\" xlink:href=\"psysml:e64c58a7-a294-4c98-8e5c-cd36e4116710\" xlink:show=\"new\" xlink:title=\"psysml:e64c58a7-a294-4c98-8e5c-cd36e4116710\" xlink:type=\"simple\"><g id=\"elem_E8\"><rect fill=\"#FFFFFF\" height=\"48.6211\" id=\"E8\" rx=\"10\" ry=\"10\" style=\"stroke:#181818;stroke-width:0.5;\" width=\"93\" x=\"32.5\" y=\"171.5\"/><text fill=\"#000000\" font-family=\"sans-serif\" font-size=\"12\" font-style=\"italic\" lengthAdjust=\"spacing\" textLength=\"36\" x=\"61\" y=\"188.1016\">«part»</text><text fill=\"#000000\" font-family=\"sans-serif\" font-size=\"14\" lengthAdjust=\"spacing\" textLength=\"79\" x=\"35.5\" y=\"204.168\">lowerRack2</text><line style=\"stroke:#181818;stroke-width:0.5;\" x1=\"33.5\" x2=\"124.5\" y1=\"212.1211\" y2=\"212.1211\"/></g></a><!--MD5=[fd4143e9d270a159db93a4ea2a975926]\n",
       "class E9--><a href=\"psysml:208eb011-81f9-490a-933d-57753676f009\" target=\"_top\" title=\"psysml:208eb011-81f9-490a-933d-57753676f009\" xlink:actuate=\"onRequest\" xlink:href=\"psysml:208eb011-81f9-490a-933d-57753676f009\" xlink:show=\"new\" xlink:title=\"psysml:208eb011-81f9-490a-933d-57753676f009\" xlink:type=\"simple\"><g id=\"elem_E9\"><rect fill=\"#FFFFFF\" height=\"48.6211\" id=\"E9\" rx=\"10\" ry=\"10\" style=\"stroke:#181818;stroke-width:0.5;\" width=\"96\" x=\"161\" y=\"171.5\"/><text fill=\"#000000\" font-family=\"sans-serif\" font-size=\"12\" font-style=\"italic\" lengthAdjust=\"spacing\" textLength=\"36\" x=\"191\" y=\"188.1016\">«part»</text><text fill=\"#000000\" font-family=\"sans-serif\" font-size=\"14\" lengthAdjust=\"spacing\" textLength=\"82\" x=\"164\" y=\"204.168\">upperRack2</text><line style=\"stroke:#181818;stroke-width:0.5;\" x1=\"162\" x2=\"256\" y1=\"212.1211\" y2=\"212.1211\"/></g></a><!--MD5=[185131fc0dcab0a4505a2ebe144e961b]\n",
       "link E4 to E2--><g id=\"link_E4_E2\"><a href=\"psysml:fa42528f-f258-45e1-b6c5-dff9077e5ce6\" target=\"_top\" title=\"psysml:fa42528f-f258-45e1-b6c5-dff9077e5ce6\" xlink:actuate=\"onRequest\" xlink:href=\"psysml:fa42528f-f258-45e1-b6c5-dff9077e5ce6\" xlink:show=\"new\" xlink:title=\"psysml:fa42528f-f258-45e1-b6c5-dff9077e5ce6\" xlink:type=\"simple\"><path d=\"M502,90.07 C484.38,103.47 461.47,120.89 439.41,137.66 \" fill=\"none\" id=\"E4-to-E2\" style=\"stroke:#181818;stroke-width:1.0;\"/><polygon fill=\"#FFFFFF\" points=\"423.19,150,434.078,132.9281,442.5515,144.0726,423.19,150\" style=\"stroke:#181818;stroke-width:1.0;\"/><ellipse cx=\"439.8259\" cy=\"131.0702\" fill=\"#181818\" rx=\"2\" ry=\"2\" style=\"stroke:#181818;stroke-width:1.0;\"/><ellipse cx=\"445.8784\" cy=\"139.0306\" fill=\"#181818\" rx=\"2\" ry=\"2\" style=\"stroke:#181818;stroke-width:1.0;\"/></a></g><!--MD5=[62aa6af11e70f752912c1cb0466f24f7]\n",
       "reverse link E4 to E5--><g id=\"link_E4_E5\"><a href=\"psysml:70bfed07-0c15-487e-8daf-158fe3b27311\" target=\"_top\" title=\"psysml:70bfed07-0c15-487e-8daf-158fe3b27311\" xlink:actuate=\"onRequest\" xlink:href=\"psysml:70bfed07-0c15-487e-8daf-158fe3b27311\" xlink:show=\"new\" xlink:title=\"psysml:70bfed07-0c15-487e-8daf-158fe3b27311\" xlink:type=\"simple\"><path d=\"M533,103.19 C533,125.01 533,152.07 533,171.15 \" fill=\"none\" id=\"E4-backto-E5\" style=\"stroke:#181818;stroke-width:1.0;\"/><polygon fill=\"#181818\" points=\"533,90.07,529,96.07,533,102.07,537,96.07,533,90.07\" style=\"stroke:#181818;stroke-width:1.0;\"/></a></g><!--MD5=[e9be52314489bd878ff4c7144b63c9e1]\n",
       "link E5 to E3--><g id=\"link_E5_E3\"><a href=\"psysml:751a597f-7c84-491d-bddc-582ccd2c14db\" target=\"_top\" title=\"psysml:751a597f-7c84-491d-bddc-582ccd2c14db\" xlink:actuate=\"onRequest\" xlink:href=\"psysml:751a597f-7c84-491d-bddc-582ccd2c14db\" xlink:show=\"new\" xlink:title=\"psysml:751a597f-7c84-491d-bddc-582ccd2c14db\" xlink:type=\"simple\"><path d=\"M547.67,220.57 C558.77,238.39 574.28,263.3 587.4,284.38 \" fill=\"none\" id=\"E5-to-E3\" style=\"stroke:#181818;stroke-width:1.0;\"/><polygon fill=\"#FFFFFF\" points=\"598.15,301.65,582.1628,289.2238,594.046,281.8218,598.15,301.65\" style=\"stroke:#181818;stroke-width:1.0;\"/><ellipse cx=\"580.8468\" cy=\"283.3282\" fill=\"#181818\" rx=\"2\" ry=\"2\" style=\"stroke:#181818;stroke-width:1.0;\"/><ellipse cx=\"589.3348\" cy=\"278.0411\" fill=\"#181818\" rx=\"2\" ry=\"2\" style=\"stroke:#181818;stroke-width:1.0;\"/></a></g><!--MD5=[6db378b65e1aef66a01cb3103812b399]\n",
       "reverse link E4 to E6--><g id=\"link_E4_E6\"><a href=\"psysml:a2ab4258-75cb-43f1-8683-28a750d5e162\" target=\"_top\" title=\"psysml:a2ab4258-75cb-43f1-8683-28a750d5e162\" xlink:actuate=\"onRequest\" xlink:href=\"psysml:a2ab4258-75cb-43f1-8683-28a750d5e162\" xlink:show=\"new\" xlink:title=\"psysml:a2ab4258-75cb-43f1-8683-28a750d5e162\" xlink:type=\"simple\"><path d=\"M572.9,98.35 C601.25,120.97 638.68,150.85 664.39,171.36 \" fill=\"none\" id=\"E4-backto-E6\" style=\"stroke:#181818;stroke-width:1.0;\"/><polygon fill=\"#181818\" points=\"562.53,90.07,564.7211,96.9401,571.9056,97.5599,569.7144,90.6898,562.53,90.07\" style=\"stroke:#181818;stroke-width:1.0;\"/></a></g><!--MD5=[a717450b82c80b9240a525fa862496af]\n",
       "link E6 to E3--><g id=\"link_E6_E3\"><a href=\"psysml:b71b462d-0cbd-4be0-a6c5-a42ce33f87a0\" target=\"_top\" title=\"psysml:b71b462d-0cbd-4be0-a6c5-a42ce33f87a0\" xlink:actuate=\"onRequest\" xlink:href=\"psysml:b71b462d-0cbd-4be0-a6c5-a42ce33f87a0\" xlink:show=\"new\" xlink:title=\"psysml:b71b462d-0cbd-4be0-a6c5-a42ce33f87a0\" xlink:type=\"simple\"><path d=\"M679.14,220.57 C667.85,238.48 652.05,263.55 638.72,284.7 \" fill=\"none\" id=\"E6-to-E3\" style=\"stroke:#181818;stroke-width:1.0;\"/><polygon fill=\"#FFFFFF\" points=\"628.04,301.65,632.258,281.8457,644.0984,289.316,628.04,301.65\" style=\"stroke:#181818;stroke-width:1.0;\"/><ellipse cx=\"636.991\" cy=\"278.0922\" fill=\"#181818\" rx=\"2\" ry=\"2\" style=\"stroke:#181818;stroke-width:1.0;\"/><ellipse cx=\"645.4484\" cy=\"283.4281\" fill=\"#181818\" rx=\"2\" ry=\"2\" style=\"stroke:#181818;stroke-width:1.0;\"/></a></g><!--MD5=[dc164f5e8a733ab456ef1add180e9e34]\n",
       "reverse link E7 to E8--><g id=\"link_E7_E8\"><a href=\"psysml:4b65833d-8fdb-4093-85d3-895f6dc38d04\" target=\"_top\" title=\"psysml:4b65833d-8fdb-4093-85d3-895f6dc38d04\" xlink:actuate=\"onRequest\" xlink:href=\"psysml:4b65833d-8fdb-4093-85d3-895f6dc38d04\" xlink:show=\"new\" xlink:title=\"psysml:4b65833d-8fdb-4093-85d3-895f6dc38d04\" xlink:type=\"simple\"><path d=\"M126.07,101.95 C114.92,123.99 100.9,151.71 91.07,171.15 \" fill=\"none\" id=\"E7-backto-E8\" style=\"stroke:#181818;stroke-width:1.0;\"/><polygon fill=\"#181818\" points=\"132.08,90.07,125.805,93.6231,126.6713,100.7819,132.9463,97.2289,132.08,90.07\" style=\"stroke:#181818;stroke-width:1.0;\"/></a></g><!--MD5=[e4a10ef82d0e328e31cac39a31e58dda]\n",
       "reverse link E7 to E9--><g id=\"link_E7_E9\"><a href=\"psysml:3f84a456-aaa1-4ff6-b57f-cb144664e34e\" target=\"_top\" title=\"psysml:3f84a456-aaa1-4ff6-b57f-cb144664e34e\" xlink:actuate=\"onRequest\" xlink:href=\"psysml:3f84a456-aaa1-4ff6-b57f-cb144664e34e\" xlink:show=\"new\" xlink:title=\"psysml:3f84a456-aaa1-4ff6-b57f-cb144664e34e\" xlink:type=\"simple\"><path d=\"M161.93,101.95 C173.08,123.99 187.1,151.71 196.93,171.15 \" fill=\"none\" id=\"E7-backto-E9\" style=\"stroke:#181818;stroke-width:1.0;\"/><polygon fill=\"#181818\" points=\"155.92,90.07,155.0537,97.2289,161.3287,100.7819,162.195,93.6231,155.92,90.07\" style=\"stroke:#181818;stroke-width:1.0;\"/></a></g><!--MD5=[6a65cd29529bbf30b987a92d5ba80b18]\n",
       "@startuml\r\n",
       "skin sysmlbw\r\n",
       "skinparam monochrome true\r\n",
       "skinparam wrapWidth 300\r\n",
       "hide circle\r\n",
       "\r\n",
       "package \"MoreParts\" as E1  [[psysml:68f71d63-7b88-49f8-bc87-8a9289a7d83a ]]  {\r\n",
       "comp def \"Oven\" as E2  <<(T,blue) part  def>> [[psysml:a8a486e0-f1dc-4455-bfdd-99b2c4dbcf48 ]] {\r\n",
       "##//attributes//##\r\n",
       "rackCount: Integer\r\n",
       "wattage: PowerUnit\r\n",
       "}\r\n",
       "comp def \"Rack\" as E3  <<(T,blue) part  def>> [[psysml:5c380c3e-f3dc-449e-9888-9fd173de1cfb ]] {\r\n",
       "}\r\n",
       "comp usage \"testOven: Oven  \" as E4  <<(T,blue) part>> [[psysml:51081881-3971-4214-a37b-45fa781e2ad0 ]] {\r\n",
       "}\r\n",
       "comp usage \"lowerRack: Rack  \" as E5  <<(T,blue) part>> [[psysml:dff793fa-ca6c-43c0-b5de-57be8f0eb3d9 ]] {\r\n",
       "}\r\n",
       "comp usage \"upperRack: Rack  \" as E6  <<(T,blue) part>> [[psysml:5573729b-eff0-42a6-b2bf-15cfd432e0e3 ]] {\r\n",
       "}\r\n",
       "comp usage \"testOven2  \" as E7  <<(T,blue) part>> [[psysml:4494e6e5-ea82-4131-ad41-0926d85d4d6c ]] {\r\n",
       "}\r\n",
       "comp usage \"lowerRack2  \" as E8  <<(T,blue) part>> [[psysml:e64c58a7-a294-4c98-8e5c-cd36e4116710 ]] {\r\n",
       "}\r\n",
       "comp usage \"upperRack2  \" as E9  <<(T,blue) part>> [[psysml:208eb011-81f9-490a-933d-57753676f009 ]] {\r\n",
       "}\r\n",
       "}\r\n",
       "E4 - -:|> E2 [[psysml:fa42528f-f258-45e1-b6c5-dff9077e5ce6 ]] \r\n",
       "E4 *- - E5 [[psysml:70bfed07-0c15-487e-8daf-158fe3b27311 ]] \r\n",
       "E5 - -:|> E3 [[psysml:751a597f-7c84-491d-bddc-582ccd2c14db ]] \r\n",
       "E4 *- - E6 [[psysml:a2ab4258-75cb-43f1-8683-28a750d5e162 ]] \r\n",
       "E6 - -:|> E3 [[psysml:b71b462d-0cbd-4be0-a6c5-a42ce33f87a0 ]] \r\n",
       "E7 *- - E8 [[psysml:4b65833d-8fdb-4093-85d3-895f6dc38d04 ]] \r\n",
       "E7 *- - E9 [[psysml:3f84a456-aaa1-4ff6-b57f-cb144664e34e ]] \r\n",
       "@enduml\r\n",
       "\n",
       "PlantUML version 1.2022.7(Mon Aug 22 11:01:30 MDT 2022)\n",
       "(EPL source distribution)\n",
       "Java Runtime: Java(TM) SE Runtime Environment\n",
       "JVM: Java HotSpot(TM) 64-Bit Server VM\n",
       "Default Encoding: UTF-8\n",
       "Language: en\n",
       "Country: US\n",
       "--></g></svg>"
      ]
     },
     "execution_count": 24,
     "metadata": {},
     "output_type": "execute_result"
    }
   ],
   "source": [
    "%viz --view=default MoreParts"
   ]
  }
 ],
 "metadata": {
  "kernelspec": {
   "display_name": "SysML",
   "language": "sysml",
   "name": "sysml"
  },
  "language_info": {
   "codemirror_mode": "sysml",
   "file_extension": ".sysml",
   "mimetype": "text/x-sysml",
   "name": "SysML",
   "pygments_lexer": "java",
   "version": "1.0.0"
  }
 },
 "nbformat": 4,
 "nbformat_minor": 5
}
