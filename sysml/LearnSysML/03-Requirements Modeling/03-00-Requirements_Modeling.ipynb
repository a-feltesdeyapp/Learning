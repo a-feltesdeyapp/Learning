{
 "cells": [
  {
   "cell_type": "markdown",
   "id": "33b2c7dc",
   "metadata": {},
   "source": [
    "# 03-Requirements Modeling"
   ]
  },
  {
   "cell_type": "markdown",
   "id": "b0bf19df",
   "metadata": {},
   "source": [
    "## 03-01 Occurrences and Constraints\n",
    "- Process of defining requirements in context of a problem or opportunity\n",
    "- Eg.\n",
    "    - Business problem > Stakeholder requirements > System requirements\n",
    "\n",
    "**Occurrence**\n",
    "- Represents an instance or execution of systems behavior in time (and space)\n",
    "- Existence in time > lifetime\n",
    "- Eg.\n",
    "    - Model: oven\n",
    "    - Occurrence: cooking in an oven\n",
    "        - *Execution of the oven's behavior*\n",
    "    - Occurrence lifetime has time slices representing periods or phases\n",
    "        - Preheat\n",
    "        - Cook\n",
    "        - Cool\n",
    "        - Clean\n",
    "- Have definitions and usages"
   ]
  },
  {
   "cell_type": "markdown",
   "id": "af3221aa",
   "metadata": {},
   "source": [
    "### OccurrenceDefinition_1.sysml\n",
    "- Timeslices have rounded corners therefore, usages of the occurence"
   ]
  },
  {
   "cell_type": "code",
   "execution_count": 56,
   "id": "1d96e3a8",
   "metadata": {
    "vscode": {
     "languageId": "sysml"
    }
   },
   "outputs": [
    {
     "data": {
      "text/plain": [
       "Package OccurrenceDefinition_1 (708b6b1e-f2f0-4b84-b2bc-40cd9ca363a5)\n"
      ]
     },
     "execution_count": 56,
     "metadata": {},
     "output_type": "execute_result"
    }
   ],
   "source": [
    "package OccurrenceDefinition_1{\n",
    "    occurrence def Cooking {\n",
    "        timeslice preheat;\n",
    "        timeslice cook;\n",
    "        timeslice cool;\n",
    "        timeslice clean;\n",
    "    }\n",
    "}"
   ]
  },
  {
   "cell_type": "code",
   "execution_count": 57,
   "id": "c1a88a61",
   "metadata": {
    "vscode": {
     "languageId": "sysml"
    }
   },
   "outputs": [
    {
     "data": {
      "image/svg+xml": [
       "<?xml version=\"1.0\" encoding=\"UTF-8\" standalone=\"no\"?><svg xmlns=\"http://www.w3.org/2000/svg\" xmlns:xlink=\"http://www.w3.org/1999/xlink\" contentStyleType=\"text/css\" height=\"222px\" preserveAspectRatio=\"none\" style=\"width:695px;height:222px;background:#FFFFFF;\" version=\"1.1\" viewBox=\"0 0 695 222\" width=\"695px\" zoomAndPan=\"magnify\"><defs/><g><!--MD5=[fbc87193dbaf4d95561dea2c320d4a47]\n",
       "cluster E1--><g id=\"cluster_E1\"><a href=\"psysml:708b6b1e-f2f0-4b84-b2bc-40cd9ca363a5\" target=\"_top\" title=\"psysml:708b6b1e-f2f0-4b84-b2bc-40cd9ca363a5\" xlink:actuate=\"onRequest\" xlink:href=\"psysml:708b6b1e-f2f0-4b84-b2bc-40cd9ca363a5\" xlink:show=\"new\" xlink:title=\"psysml:708b6b1e-f2f0-4b84-b2bc-40cd9ca363a5\" xlink:type=\"simple\"><polygon fill=\"none\" points=\"16,6,190,6,197,28.4883,678,28.4883,678,215,16,215,16,6\" style=\"stroke:#000000;stroke-width:1.5;\"/><line style=\"stroke:#000000;stroke-width:1.5;\" x1=\"16\" x2=\"197\" y1=\"28.4883\" y2=\"28.4883\"/><text fill=\"#000000\" font-family=\"sans-serif\" font-size=\"14\" font-weight=\"bold\" lengthAdjust=\"spacing\" textLength=\"168\" x=\"20\" y=\"21.5352\">OccurrenceDefinition_1</text></a></g><!--MD5=[b4997ac47864f28c2f74865a473b2911]\n",
       "class E2--><a href=\"psysml:39ed99c1-38ed-4236-849c-59d54a0b445b\" target=\"_top\" title=\"psysml:39ed99c1-38ed-4236-849c-59d54a0b445b\" xlink:actuate=\"onRequest\" xlink:href=\"psysml:39ed99c1-38ed-4236-849c-59d54a0b445b\" xlink:show=\"new\" xlink:title=\"psysml:39ed99c1-38ed-4236-849c-59d54a0b445b\" xlink:type=\"simple\"><g id=\"elem_E2\"><rect fill=\"#FFFFFF\" height=\"48.6211\" id=\"E2\" style=\"stroke:#181818;stroke-width:0.5;\" width=\"104\" x=\"295\" y=\"41\"/><text fill=\"#000000\" font-family=\"sans-serif\" font-size=\"12\" font-style=\"italic\" lengthAdjust=\"spacing\" textLength=\"102\" x=\"296\" y=\"57.6016\">«occurrence  def»</text><text fill=\"#000000\" font-family=\"sans-serif\" font-size=\"14\" lengthAdjust=\"spacing\" textLength=\"58\" x=\"318\" y=\"73.668\">Cooking</text><line style=\"stroke:#181818;stroke-width:0.5;\" x1=\"296\" x2=\"398\" y1=\"81.6211\" y2=\"81.6211\"/></g></a><!--MD5=[09b614a08d8cba4a07c9adeb5e0fee81]\n",
       "class E3--><a href=\"psysml:bcad06a3-2d76-475c-80ee-a457884688d5\" target=\"_top\" title=\"psysml:bcad06a3-2d76-475c-80ee-a457884688d5\" xlink:actuate=\"onRequest\" xlink:href=\"psysml:bcad06a3-2d76-475c-80ee-a457884688d5\" xlink:show=\"new\" xlink:title=\"psysml:bcad06a3-2d76-475c-80ee-a457884688d5\" xlink:type=\"simple\"><g id=\"elem_E3\"><rect fill=\"#FFFFFF\" height=\"48.6211\" id=\"E3\" rx=\"10\" ry=\"10\" style=\"stroke:#181818;stroke-width:0.5;\" width=\"131\" x=\"32.5\" y=\"150\"/><text fill=\"#000000\" font-family=\"sans-serif\" font-size=\"12\" font-style=\"italic\" lengthAdjust=\"spacing\" textLength=\"129\" x=\"33.5\" y=\"166.6016\">«timeslice occurrence»</text><text fill=\"#000000\" font-family=\"sans-serif\" font-size=\"14\" lengthAdjust=\"spacing\" textLength=\"53\" x=\"67.5\" y=\"182.668\">preheat</text><line style=\"stroke:#181818;stroke-width:0.5;\" x1=\"33.5\" x2=\"162.5\" y1=\"190.6211\" y2=\"190.6211\"/></g></a><!--MD5=[ebbe1d658d1005bcc118a6aa81145e00]\n",
       "class E4--><a href=\"psysml:be8855d3-144b-449b-8bca-f3c8b41037f0\" target=\"_top\" title=\"psysml:be8855d3-144b-449b-8bca-f3c8b41037f0\" xlink:actuate=\"onRequest\" xlink:href=\"psysml:be8855d3-144b-449b-8bca-f3c8b41037f0\" xlink:show=\"new\" xlink:title=\"psysml:be8855d3-144b-449b-8bca-f3c8b41037f0\" xlink:type=\"simple\"><g id=\"elem_E4\"><rect fill=\"#FFFFFF\" height=\"48.6211\" id=\"E4\" rx=\"10\" ry=\"10\" style=\"stroke:#181818;stroke-width:0.5;\" width=\"131\" x=\"198.5\" y=\"150\"/><text fill=\"#000000\" font-family=\"sans-serif\" font-size=\"12\" font-style=\"italic\" lengthAdjust=\"spacing\" textLength=\"129\" x=\"199.5\" y=\"166.6016\">«timeslice occurrence»</text><text fill=\"#000000\" font-family=\"sans-serif\" font-size=\"14\" lengthAdjust=\"spacing\" textLength=\"33\" x=\"243.5\" y=\"182.668\">cook</text><line style=\"stroke:#181818;stroke-width:0.5;\" x1=\"199.5\" x2=\"328.5\" y1=\"190.6211\" y2=\"190.6211\"/></g></a><!--MD5=[270fce915f116d4de14055a7c1d9a0f3]\n",
       "class E5--><a href=\"psysml:d74c6d66-6394-418b-8982-0d4386615b5d\" target=\"_top\" title=\"psysml:d74c6d66-6394-418b-8982-0d4386615b5d\" xlink:actuate=\"onRequest\" xlink:href=\"psysml:d74c6d66-6394-418b-8982-0d4386615b5d\" xlink:show=\"new\" xlink:title=\"psysml:d74c6d66-6394-418b-8982-0d4386615b5d\" xlink:type=\"simple\"><g id=\"elem_E5\"><rect fill=\"#FFFFFF\" height=\"48.6211\" id=\"E5\" rx=\"10\" ry=\"10\" style=\"stroke:#181818;stroke-width:0.5;\" width=\"131\" x=\"364.5\" y=\"150\"/><text fill=\"#000000\" font-family=\"sans-serif\" font-size=\"12\" font-style=\"italic\" lengthAdjust=\"spacing\" textLength=\"129\" x=\"365.5\" y=\"166.6016\">«timeslice occurrence»</text><text fill=\"#000000\" font-family=\"sans-serif\" font-size=\"14\" lengthAdjust=\"spacing\" textLength=\"29\" x=\"411.5\" y=\"182.668\">cool</text><line style=\"stroke:#181818;stroke-width:0.5;\" x1=\"365.5\" x2=\"494.5\" y1=\"190.6211\" y2=\"190.6211\"/></g></a><!--MD5=[60a26617385b1d2d0262a64233df1f8d]\n",
       "class E6--><a href=\"psysml:36a02935-84ba-4699-b08d-3542812faf62\" target=\"_top\" title=\"psysml:36a02935-84ba-4699-b08d-3542812faf62\" xlink:actuate=\"onRequest\" xlink:href=\"psysml:36a02935-84ba-4699-b08d-3542812faf62\" xlink:show=\"new\" xlink:title=\"psysml:36a02935-84ba-4699-b08d-3542812faf62\" xlink:type=\"simple\"><g id=\"elem_E6\"><rect fill=\"#FFFFFF\" height=\"48.6211\" id=\"E6\" rx=\"10\" ry=\"10\" style=\"stroke:#181818;stroke-width:0.5;\" width=\"131\" x=\"530.5\" y=\"150\"/><text fill=\"#000000\" font-family=\"sans-serif\" font-size=\"12\" font-style=\"italic\" lengthAdjust=\"spacing\" textLength=\"129\" x=\"531.5\" y=\"166.6016\">«timeslice occurrence»</text><text fill=\"#000000\" font-family=\"sans-serif\" font-size=\"14\" lengthAdjust=\"spacing\" textLength=\"36\" x=\"574\" y=\"182.668\">clean</text><line style=\"stroke:#181818;stroke-width:0.5;\" x1=\"531.5\" x2=\"660.5\" y1=\"190.6211\" y2=\"190.6211\"/></g></a><!--MD5=[209b3feb70ccb6233bfe1053d122c12c]\n",
       "reverse link E2 to E3--><g id=\"link_E2_E3\"><a href=\"psysml:1342f5b0-396a-4184-9d1a-3de1524d107f\" target=\"_top\" title=\"psysml:1342f5b0-396a-4184-9d1a-3de1524d107f\" xlink:actuate=\"onRequest\" xlink:href=\"psysml:1342f5b0-396a-4184-9d1a-3de1524d107f\" xlink:show=\"new\" xlink:title=\"psysml:1342f5b0-396a-4184-9d1a-3de1524d107f\" xlink:type=\"simple\"><path d=\"M282.68,94.14 C242.4,111.45 191.04,133.52 152.72,149.99 \" fill=\"none\" id=\"E2-backto-E3\" style=\"stroke:#181818;stroke-width:1.0;\"/><polygon fill=\"#181818\" points=\"294.8,88.93,287.7085,87.6221,283.7737,93.665,290.8652,94.9729,294.8,88.93\" style=\"stroke:#181818;stroke-width:1.0;\"/></a></g><!--MD5=[9618e71518536f8baf3342ff6fdab317]\n",
       "reverse link E2 to E4--><g id=\"link_E2_E4\"><a href=\"psysml:6ef97b15-0f7f-4da1-8b0b-16bf329676f1\" target=\"_top\" title=\"psysml:6ef97b15-0f7f-4da1-8b0b-16bf329676f1\" xlink:actuate=\"onRequest\" xlink:href=\"psysml:6ef97b15-0f7f-4da1-8b0b-16bf329676f1\" xlink:show=\"new\" xlink:title=\"psysml:6ef97b15-0f7f-4da1-8b0b-16bf329676f1\" xlink:type=\"simple\"><path d=\"M320.39,100.81 C307.98,116.8 293.53,135.43 282.37,149.82 \" fill=\"none\" id=\"E2-backto-E4\" style=\"stroke:#181818;stroke-width:1.0;\"/><polygon fill=\"#181818\" points=\"328.58,90.25,321.7414,92.5376,321.2228,99.73,328.0614,97.4424,328.58,90.25\" style=\"stroke:#181818;stroke-width:1.0;\"/></a></g><!--MD5=[4e1a83fab71cdb913c109063314ae896]\n",
       "reverse link E2 to E5--><g id=\"link_E2_E5\"><a href=\"psysml:f94fe217-fe81-4c68-9e2e-e618f3d9ec63\" target=\"_top\" title=\"psysml:f94fe217-fe81-4c68-9e2e-e618f3d9ec63\" xlink:actuate=\"onRequest\" xlink:href=\"psysml:f94fe217-fe81-4c68-9e2e-e618f3d9ec63\" xlink:show=\"new\" xlink:title=\"psysml:f94fe217-fe81-4c68-9e2e-e618f3d9ec63\" xlink:type=\"simple\"><path d=\"M373.61,100.81 C386.02,116.8 400.47,135.43 411.63,149.82 \" fill=\"none\" id=\"E2-backto-E5\" style=\"stroke:#181818;stroke-width:1.0;\"/><polygon fill=\"#181818\" points=\"365.42,90.25,365.9386,97.4424,372.7772,99.73,372.2586,92.5376,365.42,90.25\" style=\"stroke:#181818;stroke-width:1.0;\"/></a></g><!--MD5=[ce036f65110ae2351ccce5a81dc2e928]\n",
       "reverse link E2 to E6--><g id=\"link_E2_E6\"><a href=\"psysml:85dd5478-02c3-45b5-b1c0-e87f71803e9c\" target=\"_top\" title=\"psysml:85dd5478-02c3-45b5-b1c0-e87f71803e9c\" xlink:actuate=\"onRequest\" xlink:href=\"psysml:85dd5478-02c3-45b5-b1c0-e87f71803e9c\" xlink:show=\"new\" xlink:title=\"psysml:85dd5478-02c3-45b5-b1c0-e87f71803e9c\" xlink:type=\"simple\"><path d=\"M411.32,94.14 C451.6,111.45 502.96,133.52 541.28,149.99 \" fill=\"none\" id=\"E2-backto-E6\" style=\"stroke:#181818;stroke-width:1.0;\"/><polygon fill=\"#181818\" points=\"399.2,88.93,403.1348,94.9729,410.2263,93.665,406.2915,87.6221,399.2,88.93\" style=\"stroke:#181818;stroke-width:1.0;\"/></a></g><!--MD5=[a8d383ff034467ea8dbec9ee6eb950c2]\n",
       "@startuml\r\n",
       "skin sysmlbw\r\n",
       "skinparam monochrome true\r\n",
       "skinparam wrapWidth 300\r\n",
       "hide circle\r\n",
       "\r\n",
       "package \"OccurrenceDefinition_1\" as E1  [[psysml:708b6b1e-f2f0-4b84-b2bc-40cd9ca363a5 ]]  {\r\n",
       "comp def \"Cooking\" as E2  <<(T,blue) occurrence  def>> [[psysml:39ed99c1-38ed-4236-849c-59d54a0b445b ]] {\r\n",
       "}\r\n",
       "comp usage \"preheat  \" as E3  <<(T,blue) timeslice occurrence>> [[psysml:bcad06a3-2d76-475c-80ee-a457884688d5 ]] {\r\n",
       "}\r\n",
       "comp usage \"cook  \" as E4  <<(T,blue) timeslice occurrence>> [[psysml:be8855d3-144b-449b-8bca-f3c8b41037f0 ]] {\r\n",
       "}\r\n",
       "comp usage \"cool  \" as E5  <<(T,blue) timeslice occurrence>> [[psysml:d74c6d66-6394-418b-8982-0d4386615b5d ]] {\r\n",
       "}\r\n",
       "comp usage \"clean  \" as E6  <<(T,blue) timeslice occurrence>> [[psysml:36a02935-84ba-4699-b08d-3542812faf62 ]] {\r\n",
       "}\r\n",
       "}\r\n",
       "E2 *- - E3 [[psysml:1342f5b0-396a-4184-9d1a-3de1524d107f ]] \r\n",
       "E2 *- - E4 [[psysml:6ef97b15-0f7f-4da1-8b0b-16bf329676f1 ]] \r\n",
       "E2 *- - E5 [[psysml:f94fe217-fe81-4c68-9e2e-e618f3d9ec63 ]] \r\n",
       "E2 *- - E6 [[psysml:85dd5478-02c3-45b5-b1c0-e87f71803e9c ]] \r\n",
       "@enduml\r\n",
       "\n",
       "PlantUML version 1.2022.7(Mon Aug 22 11:01:30 MDT 2022)\n",
       "(EPL source distribution)\n",
       "Java Runtime: Java(TM) SE Runtime Environment\n",
       "JVM: Java HotSpot(TM) 64-Bit Server VM\n",
       "Default Encoding: UTF-8\n",
       "Language: en\n",
       "Country: US\n",
       "--></g></svg>"
      ]
     },
     "execution_count": 57,
     "metadata": {},
     "output_type": "execute_result"
    }
   ],
   "source": [
    "%viz --view=default OccurrenceDefinition_1"
   ]
  },
  {
   "cell_type": "markdown",
   "id": "a285f79f",
   "metadata": {},
   "source": [
    "### NestedOccurrences_1.sysml\n",
    "- Could also be defined as individual occurrences then nested as timeslices"
   ]
  },
  {
   "cell_type": "code",
   "execution_count": 58,
   "id": "5333e7c5",
   "metadata": {
    "vscode": {
     "languageId": "sysml"
    }
   },
   "outputs": [
    {
     "data": {
      "text/plain": [
       "Package NestedOccurrences_1 (108dde19-5b49-4e86-aedf-e7d72a60ed1d)\n"
      ]
     },
     "execution_count": 58,
     "metadata": {},
     "output_type": "execute_result"
    }
   ],
   "source": [
    "package NestedOccurrences_1{\n",
    "    occurrence def Cooking{\n",
    "        occurrence def Preheat;\n",
    "        occurrence def Cook;\n",
    "        occurrence def Cool;\n",
    "        occurrence def Clean;\n",
    "    }\n",
    "}"
   ]
  },
  {
   "cell_type": "code",
   "execution_count": 59,
   "id": "49aa47fb",
   "metadata": {
    "vscode": {
     "languageId": "sysml"
    }
   },
   "outputs": [
    {
     "data": {
      "image/svg+xml": [
       "<?xml version=\"1.0\" encoding=\"UTF-8\" standalone=\"no\"?><svg xmlns=\"http://www.w3.org/2000/svg\" xmlns:xlink=\"http://www.w3.org/1999/xlink\" contentStyleType=\"text/css\" height=\"222px\" preserveAspectRatio=\"none\" style=\"width:586px;height:222px;background:#FFFFFF;\" version=\"1.1\" viewBox=\"0 0 586 222\" width=\"586px\" zoomAndPan=\"magnify\"><defs/><g><!--MD5=[fbc87193dbaf4d95561dea2c320d4a47]\n",
       "cluster E1--><g id=\"cluster_E1\"><a href=\"psysml:108dde19-5b49-4e86-aedf-e7d72a60ed1d\" target=\"_top\" title=\"psysml:108dde19-5b49-4e86-aedf-e7d72a60ed1d\" xlink:actuate=\"onRequest\" xlink:href=\"psysml:108dde19-5b49-4e86-aedf-e7d72a60ed1d\" xlink:show=\"new\" xlink:title=\"psysml:108dde19-5b49-4e86-aedf-e7d72a60ed1d\" xlink:type=\"simple\"><polygon fill=\"none\" points=\"16,6,175,6,182,28.4883,569,28.4883,569,215,16,215,16,6\" style=\"stroke:#000000;stroke-width:1.5;\"/><line style=\"stroke:#000000;stroke-width:1.5;\" x1=\"16\" x2=\"182\" y1=\"28.4883\" y2=\"28.4883\"/><text fill=\"#000000\" font-family=\"sans-serif\" font-size=\"14\" font-weight=\"bold\" lengthAdjust=\"spacing\" textLength=\"153\" x=\"20\" y=\"21.5352\">NestedOccurrences_1</text></a></g><!--MD5=[b4997ac47864f28c2f74865a473b2911]\n",
       "class E2--><a href=\"psysml:95e036b6-d9cc-4408-a50d-0427a89cb58c\" target=\"_top\" title=\"psysml:95e036b6-d9cc-4408-a50d-0427a89cb58c\" xlink:actuate=\"onRequest\" xlink:href=\"psysml:95e036b6-d9cc-4408-a50d-0427a89cb58c\" xlink:show=\"new\" xlink:title=\"psysml:95e036b6-d9cc-4408-a50d-0427a89cb58c\" xlink:type=\"simple\"><g id=\"elem_E2\"><rect fill=\"#FFFFFF\" height=\"48.6211\" id=\"E2\" style=\"stroke:#181818;stroke-width:0.5;\" width=\"104\" x=\"240\" y=\"41\"/><text fill=\"#000000\" font-family=\"sans-serif\" font-size=\"12\" font-style=\"italic\" lengthAdjust=\"spacing\" textLength=\"102\" x=\"241\" y=\"57.6016\">«occurrence  def»</text><text fill=\"#000000\" font-family=\"sans-serif\" font-size=\"14\" lengthAdjust=\"spacing\" textLength=\"58\" x=\"263\" y=\"73.668\">Cooking</text><line style=\"stroke:#181818;stroke-width:0.5;\" x1=\"241\" x2=\"343\" y1=\"81.6211\" y2=\"81.6211\"/></g></a><!--MD5=[09b614a08d8cba4a07c9adeb5e0fee81]\n",
       "class E3--><a href=\"psysml:e73e1e7e-0071-49c4-8a79-91c2fe108d6a\" target=\"_top\" title=\"psysml:e73e1e7e-0071-49c4-8a79-91c2fe108d6a\" xlink:actuate=\"onRequest\" xlink:href=\"psysml:e73e1e7e-0071-49c4-8a79-91c2fe108d6a\" xlink:show=\"new\" xlink:title=\"psysml:e73e1e7e-0071-49c4-8a79-91c2fe108d6a\" xlink:type=\"simple\"><g id=\"elem_E3\"><rect fill=\"#FFFFFF\" height=\"48.6211\" id=\"E3\" style=\"stroke:#181818;stroke-width:0.5;\" width=\"104\" x=\"32\" y=\"150\"/><text fill=\"#000000\" font-family=\"sans-serif\" font-size=\"12\" font-style=\"italic\" lengthAdjust=\"spacing\" textLength=\"102\" x=\"33\" y=\"166.6016\">«occurrence  def»</text><text fill=\"#000000\" font-family=\"sans-serif\" font-size=\"14\" lengthAdjust=\"spacing\" textLength=\"52\" x=\"58\" y=\"182.668\">Preheat</text><line style=\"stroke:#181818;stroke-width:0.5;\" x1=\"33\" x2=\"135\" y1=\"190.6211\" y2=\"190.6211\"/></g></a><!--MD5=[ebbe1d658d1005bcc118a6aa81145e00]\n",
       "class E4--><a href=\"psysml:64e5b7e2-1cd9-4312-aaae-8fd27e891d98\" target=\"_top\" title=\"psysml:64e5b7e2-1cd9-4312-aaae-8fd27e891d98\" xlink:actuate=\"onRequest\" xlink:href=\"psysml:64e5b7e2-1cd9-4312-aaae-8fd27e891d98\" xlink:show=\"new\" xlink:title=\"psysml:64e5b7e2-1cd9-4312-aaae-8fd27e891d98\" xlink:type=\"simple\"><g id=\"elem_E4\"><rect fill=\"#FFFFFF\" height=\"48.6211\" id=\"E4\" style=\"stroke:#181818;stroke-width:0.5;\" width=\"104\" x=\"171\" y=\"150\"/><text fill=\"#000000\" font-family=\"sans-serif\" font-size=\"12\" font-style=\"italic\" lengthAdjust=\"spacing\" textLength=\"102\" x=\"172\" y=\"166.6016\">«occurrence  def»</text><text fill=\"#000000\" font-family=\"sans-serif\" font-size=\"14\" lengthAdjust=\"spacing\" textLength=\"36\" x=\"205\" y=\"182.668\">Cook</text><line style=\"stroke:#181818;stroke-width:0.5;\" x1=\"172\" x2=\"274\" y1=\"190.6211\" y2=\"190.6211\"/></g></a><!--MD5=[270fce915f116d4de14055a7c1d9a0f3]\n",
       "class E5--><a href=\"psysml:3c2a395f-5760-495a-8838-233654aca5fe\" target=\"_top\" title=\"psysml:3c2a395f-5760-495a-8838-233654aca5fe\" xlink:actuate=\"onRequest\" xlink:href=\"psysml:3c2a395f-5760-495a-8838-233654aca5fe\" xlink:show=\"new\" xlink:title=\"psysml:3c2a395f-5760-495a-8838-233654aca5fe\" xlink:type=\"simple\"><g id=\"elem_E5\"><rect fill=\"#FFFFFF\" height=\"48.6211\" id=\"E5\" style=\"stroke:#181818;stroke-width:0.5;\" width=\"104\" x=\"310\" y=\"150\"/><text fill=\"#000000\" font-family=\"sans-serif\" font-size=\"12\" font-style=\"italic\" lengthAdjust=\"spacing\" textLength=\"102\" x=\"311\" y=\"166.6016\">«occurrence  def»</text><text fill=\"#000000\" font-family=\"sans-serif\" font-size=\"14\" lengthAdjust=\"spacing\" textLength=\"32\" x=\"346\" y=\"182.668\">Cool</text><line style=\"stroke:#181818;stroke-width:0.5;\" x1=\"311\" x2=\"413\" y1=\"190.6211\" y2=\"190.6211\"/></g></a><!--MD5=[60a26617385b1d2d0262a64233df1f8d]\n",
       "class E6--><a href=\"psysml:75aec81d-7dd3-42e6-b62a-6c98ef044ef7\" target=\"_top\" title=\"psysml:75aec81d-7dd3-42e6-b62a-6c98ef044ef7\" xlink:actuate=\"onRequest\" xlink:href=\"psysml:75aec81d-7dd3-42e6-b62a-6c98ef044ef7\" xlink:show=\"new\" xlink:title=\"psysml:75aec81d-7dd3-42e6-b62a-6c98ef044ef7\" xlink:type=\"simple\"><g id=\"elem_E6\"><rect fill=\"#FFFFFF\" height=\"48.6211\" id=\"E6\" style=\"stroke:#181818;stroke-width:0.5;\" width=\"104\" x=\"449\" y=\"150\"/><text fill=\"#000000\" font-family=\"sans-serif\" font-size=\"12\" font-style=\"italic\" lengthAdjust=\"spacing\" textLength=\"102\" x=\"450\" y=\"166.6016\">«occurrence  def»</text><text fill=\"#000000\" font-family=\"sans-serif\" font-size=\"14\" lengthAdjust=\"spacing\" textLength=\"39\" x=\"481.5\" y=\"182.668\">Clean</text><line style=\"stroke:#181818;stroke-width:0.5;\" x1=\"450\" x2=\"552\" y1=\"190.6211\" y2=\"190.6211\"/></g></a><!--MD5=[209b3feb70ccb6233bfe1053d122c12c]\n",
       "reverse link E2 to E3--><g id=\"link_E2_E3\"><a href=\"psysml:d2732bb3-7779-4d66-9c0b-7f3a53b9b572\" target=\"_top\" title=\"psysml:d2732bb3-7779-4d66-9c0b-7f3a53b9b572\" xlink:actuate=\"onRequest\" xlink:href=\"psysml:d2732bb3-7779-4d66-9c0b-7f3a53b9b572\" xlink:show=\"new\" xlink:title=\"psysml:d2732bb3-7779-4d66-9c0b-7f3a53b9b572\" xlink:type=\"simple\"><path d=\"M232.59,97.06 C199.92,113.87 160.01,134.4 129.79,149.95 \" fill=\"none\" id=\"E2-backto-E3\" style=\"stroke:#181818;stroke-width:1.0;\"/><ellipse cx=\"238.9862\" cy=\"93.7698\" fill=\"#FFFFFF\" rx=\"8\" ry=\"8\" style=\"stroke:#181818;stroke-width:1.0;\"/><line style=\"stroke:#181818;stroke-width:1.0;\" x1=\"231.8725\" x2=\"246.1\" y1=\"97.4296\" y2=\"90.11\"/><line style=\"stroke:#181818;stroke-width:1.0;\" x1=\"235.3264\" x2=\"242.646\" y1=\"86.656\" y2=\"100.8836\"/></a></g><!--MD5=[9618e71518536f8baf3342ff6fdab317]\n",
       "reverse link E2 to E4--><g id=\"link_E2_E4\"><a href=\"psysml:333f4065-4d6c-43c6-ba64-65e08c83885d\" target=\"_top\" title=\"psysml:333f4065-4d6c-43c6-ba64-65e08c83885d\" xlink:actuate=\"onRequest\" xlink:href=\"psysml:333f4065-4d6c-43c6-ba64-65e08c83885d\" xlink:show=\"new\" xlink:title=\"psysml:333f4065-4d6c-43c6-ba64-65e08c83885d\" xlink:type=\"simple\"><path d=\"M268.38,103.13 C258.41,118.58 247.11,136.12 238.27,149.82 \" fill=\"none\" id=\"E2-backto-E4\" style=\"stroke:#181818;stroke-width:1.0;\"/><ellipse cx=\"272.3532\" cy=\"96.9725\" fill=\"#FFFFFF\" rx=\"8\" ry=\"8\" style=\"stroke:#181818;stroke-width:1.0;\"/><line style=\"stroke:#181818;stroke-width:1.0;\" x1=\"268.0163\" x2=\"276.69\" y1=\"103.695\" y2=\"90.25\"/><line style=\"stroke:#181818;stroke-width:1.0;\" x1=\"265.6307\" x2=\"279.0756\" y1=\"92.6356\" y2=\"101.3093\"/></a></g><!--MD5=[4e1a83fab71cdb913c109063314ae896]\n",
       "reverse link E2 to E5--><g id=\"link_E2_E5\"><a href=\"psysml:7da4ea1b-ca07-42d4-b450-92332126c51c\" target=\"_top\" title=\"psysml:7da4ea1b-ca07-42d4-b450-92332126c51c\" xlink:actuate=\"onRequest\" xlink:href=\"psysml:7da4ea1b-ca07-42d4-b450-92332126c51c\" xlink:show=\"new\" xlink:title=\"psysml:7da4ea1b-ca07-42d4-b450-92332126c51c\" xlink:type=\"simple\"><path d=\"M315.97,103.13 C326.07,118.58 337.54,136.12 346.51,149.82 \" fill=\"none\" id=\"E2-backto-E5\" style=\"stroke:#181818;stroke-width:1.0;\"/><ellipse cx=\"311.9141\" cy=\"96.9483\" fill=\"#FFFFFF\" rx=\"8\" ry=\"8\" style=\"stroke:#181818;stroke-width:1.0;\"/><line style=\"stroke:#181818;stroke-width:1.0;\" x1=\"316.2882\" x2=\"307.54\" y1=\"103.6466\" y2=\"90.25\"/><line style=\"stroke:#181818;stroke-width:1.0;\" x1=\"305.2158\" x2=\"318.6124\" y1=\"101.3224\" y2=\"92.5742\"/></a></g><!--MD5=[ce036f65110ae2351ccce5a81dc2e928]\n",
       "reverse link E2 to E6--><g id=\"link_E2_E6\"><a href=\"psysml:f7213724-4e04-4ab4-b67d-fa319ff08df9\" target=\"_top\" title=\"psysml:f7213724-4e04-4ab4-b67d-fa319ff08df9\" xlink:actuate=\"onRequest\" xlink:href=\"psysml:f7213724-4e04-4ab4-b67d-fa319ff08df9\" xlink:show=\"new\" xlink:title=\"psysml:f7213724-4e04-4ab4-b67d-fa319ff08df9\" xlink:type=\"simple\"><path d=\"M351.7,97.06 C384.52,113.87 424.62,134.4 454.99,149.95 \" fill=\"none\" id=\"E2-backto-E6\" style=\"stroke:#181818;stroke-width:1.0;\"/><ellipse cx=\"345.2385\" cy=\"93.7607\" fill=\"#FFFFFF\" rx=\"8\" ry=\"8\" style=\"stroke:#181818;stroke-width:1.0;\"/><line style=\"stroke:#181818;stroke-width:1.0;\" x1=\"352.3569\" x2=\"338.12\" y1=\"97.4114\" y2=\"90.11\"/><line style=\"stroke:#181818;stroke-width:1.0;\" x1=\"341.5878\" x2=\"348.8891\" y1=\"100.8791\" y2=\"86.6422\"/></a></g><!--MD5=[9b9c917b9406dc421092d9a20d2ca866]\n",
       "@startuml\r\n",
       "skin sysmlbw\r\n",
       "skinparam monochrome true\r\n",
       "skinparam wrapWidth 300\r\n",
       "hide circle\r\n",
       "\r\n",
       "package \"NestedOccurrences_1\" as E1  [[psysml:108dde19-5b49-4e86-aedf-e7d72a60ed1d ]]  {\r\n",
       "comp def \"Cooking\" as E2  <<(T,blue) occurrence  def>> [[psysml:95e036b6-d9cc-4408-a50d-0427a89cb58c ]] {\r\n",
       "}\r\n",
       "comp def \"Preheat\" as E3  <<(T,blue) occurrence  def>> [[psysml:e73e1e7e-0071-49c4-8a79-91c2fe108d6a ]] {\r\n",
       "}\r\n",
       "comp def \"Cook\" as E4  <<(T,blue) occurrence  def>> [[psysml:64e5b7e2-1cd9-4312-aaae-8fd27e891d98 ]] {\r\n",
       "}\r\n",
       "comp def \"Cool\" as E5  <<(T,blue) occurrence  def>> [[psysml:3c2a395f-5760-495a-8838-233654aca5fe ]] {\r\n",
       "}\r\n",
       "comp def \"Clean\" as E6  <<(T,blue) occurrence  def>> [[psysml:75aec81d-7dd3-42e6-b62a-6c98ef044ef7 ]] {\r\n",
       "}\r\n",
       "}\r\n",
       "E2 +- - E3 [[psysml:d2732bb3-7779-4d66-9c0b-7f3a53b9b572 ]] \r\n",
       "E2 +- - E4 [[psysml:333f4065-4d6c-43c6-ba64-65e08c83885d ]] \r\n",
       "E2 +- - E5 [[psysml:7da4ea1b-ca07-42d4-b450-92332126c51c ]] \r\n",
       "E2 +- - E6 [[psysml:f7213724-4e04-4ab4-b67d-fa319ff08df9 ]] \r\n",
       "@enduml\r\n",
       "\n",
       "PlantUML version 1.2022.7(Mon Aug 22 11:01:30 MDT 2022)\n",
       "(EPL source distribution)\n",
       "Java Runtime: Java(TM) SE Runtime Environment\n",
       "JVM: Java HotSpot(TM) 64-Bit Server VM\n",
       "Default Encoding: UTF-8\n",
       "Language: en\n",
       "Country: US\n",
       "--></g></svg>"
      ]
     },
     "execution_count": 59,
     "metadata": {},
     "output_type": "execute_result"
    }
   ],
   "source": [
    "%viz --view=default NestedOccurrences_1"
   ]
  },
  {
   "cell_type": "markdown",
   "id": "674a9420",
   "metadata": {},
   "source": [
    "### NestedOccurrences_2.sysml\n",
    "Occurrences work best in packages so we can import them into the usage"
   ]
  },
  {
   "cell_type": "code",
   "execution_count": 60,
   "id": "3bf8bbc2",
   "metadata": {
    "vscode": {
     "languageId": "sysml"
    }
   },
   "outputs": [
    {
     "data": {
      "text/plain": [
       "Package CookingDefs (b7b6778c-de44-42d0-a7f7-092e8fa7a68e)\n"
      ]
     },
     "execution_count": 60,
     "metadata": {},
     "output_type": "execute_result"
    }
   ],
   "source": [
    "package CookingDefs{\n",
    "    occurrence def Cooking{\n",
    "        occurrence def Preheat;\n",
    "        occurrence def Cook;\n",
    "        occurrence def Cool;\n",
    "        occurrence def Clean;\n",
    "    }\n",
    "}"
   ]
  },
  {
   "cell_type": "code",
   "execution_count": 61,
   "id": "ad519e00",
   "metadata": {
    "vscode": {
     "languageId": "sysml"
    }
   },
   "outputs": [
    {
     "data": {
      "image/svg+xml": [
       "<?xml version=\"1.0\" encoding=\"UTF-8\" standalone=\"no\"?><svg xmlns=\"http://www.w3.org/2000/svg\" xmlns:xlink=\"http://www.w3.org/1999/xlink\" contentStyleType=\"text/css\" height=\"222px\" preserveAspectRatio=\"none\" style=\"width:586px;height:222px;background:#FFFFFF;\" version=\"1.1\" viewBox=\"0 0 586 222\" width=\"586px\" zoomAndPan=\"magnify\"><defs/><g><!--MD5=[fbc87193dbaf4d95561dea2c320d4a47]\n",
       "cluster E1--><g id=\"cluster_E1\"><a href=\"psysml:b7b6778c-de44-42d0-a7f7-092e8fa7a68e\" target=\"_top\" title=\"psysml:b7b6778c-de44-42d0-a7f7-092e8fa7a68e\" xlink:actuate=\"onRequest\" xlink:href=\"psysml:b7b6778c-de44-42d0-a7f7-092e8fa7a68e\" xlink:show=\"new\" xlink:title=\"psysml:b7b6778c-de44-42d0-a7f7-092e8fa7a68e\" xlink:type=\"simple\"><polygon fill=\"none\" points=\"16,6,115,6,122,28.4883,569,28.4883,569,215,16,215,16,6\" style=\"stroke:#000000;stroke-width:1.5;\"/><line style=\"stroke:#000000;stroke-width:1.5;\" x1=\"16\" x2=\"122\" y1=\"28.4883\" y2=\"28.4883\"/><text fill=\"#000000\" font-family=\"sans-serif\" font-size=\"14\" font-weight=\"bold\" lengthAdjust=\"spacing\" textLength=\"93\" x=\"20\" y=\"21.5352\">CookingDefs</text></a></g><!--MD5=[b4997ac47864f28c2f74865a473b2911]\n",
       "class E2--><a href=\"psysml:04acb6a4-3775-46d2-b937-5a744f13807c\" target=\"_top\" title=\"psysml:04acb6a4-3775-46d2-b937-5a744f13807c\" xlink:actuate=\"onRequest\" xlink:href=\"psysml:04acb6a4-3775-46d2-b937-5a744f13807c\" xlink:show=\"new\" xlink:title=\"psysml:04acb6a4-3775-46d2-b937-5a744f13807c\" xlink:type=\"simple\"><g id=\"elem_E2\"><rect fill=\"#FFFFFF\" height=\"48.6211\" id=\"E2\" style=\"stroke:#181818;stroke-width:0.5;\" width=\"104\" x=\"240\" y=\"41\"/><text fill=\"#000000\" font-family=\"sans-serif\" font-size=\"12\" font-style=\"italic\" lengthAdjust=\"spacing\" textLength=\"102\" x=\"241\" y=\"57.6016\">«occurrence  def»</text><text fill=\"#000000\" font-family=\"sans-serif\" font-size=\"14\" lengthAdjust=\"spacing\" textLength=\"58\" x=\"263\" y=\"73.668\">Cooking</text><line style=\"stroke:#181818;stroke-width:0.5;\" x1=\"241\" x2=\"343\" y1=\"81.6211\" y2=\"81.6211\"/></g></a><!--MD5=[09b614a08d8cba4a07c9adeb5e0fee81]\n",
       "class E3--><a href=\"psysml:cb499677-bca3-4506-9869-62eb755a9df5\" target=\"_top\" title=\"psysml:cb499677-bca3-4506-9869-62eb755a9df5\" xlink:actuate=\"onRequest\" xlink:href=\"psysml:cb499677-bca3-4506-9869-62eb755a9df5\" xlink:show=\"new\" xlink:title=\"psysml:cb499677-bca3-4506-9869-62eb755a9df5\" xlink:type=\"simple\"><g id=\"elem_E3\"><rect fill=\"#FFFFFF\" height=\"48.6211\" id=\"E3\" style=\"stroke:#181818;stroke-width:0.5;\" width=\"104\" x=\"32\" y=\"150\"/><text fill=\"#000000\" font-family=\"sans-serif\" font-size=\"12\" font-style=\"italic\" lengthAdjust=\"spacing\" textLength=\"102\" x=\"33\" y=\"166.6016\">«occurrence  def»</text><text fill=\"#000000\" font-family=\"sans-serif\" font-size=\"14\" lengthAdjust=\"spacing\" textLength=\"52\" x=\"58\" y=\"182.668\">Preheat</text><line style=\"stroke:#181818;stroke-width:0.5;\" x1=\"33\" x2=\"135\" y1=\"190.6211\" y2=\"190.6211\"/></g></a><!--MD5=[ebbe1d658d1005bcc118a6aa81145e00]\n",
       "class E4--><a href=\"psysml:97db936c-9cb7-44ea-b8e1-5c224774c4fd\" target=\"_top\" title=\"psysml:97db936c-9cb7-44ea-b8e1-5c224774c4fd\" xlink:actuate=\"onRequest\" xlink:href=\"psysml:97db936c-9cb7-44ea-b8e1-5c224774c4fd\" xlink:show=\"new\" xlink:title=\"psysml:97db936c-9cb7-44ea-b8e1-5c224774c4fd\" xlink:type=\"simple\"><g id=\"elem_E4\"><rect fill=\"#FFFFFF\" height=\"48.6211\" id=\"E4\" style=\"stroke:#181818;stroke-width:0.5;\" width=\"104\" x=\"171\" y=\"150\"/><text fill=\"#000000\" font-family=\"sans-serif\" font-size=\"12\" font-style=\"italic\" lengthAdjust=\"spacing\" textLength=\"102\" x=\"172\" y=\"166.6016\">«occurrence  def»</text><text fill=\"#000000\" font-family=\"sans-serif\" font-size=\"14\" lengthAdjust=\"spacing\" textLength=\"36\" x=\"205\" y=\"182.668\">Cook</text><line style=\"stroke:#181818;stroke-width:0.5;\" x1=\"172\" x2=\"274\" y1=\"190.6211\" y2=\"190.6211\"/></g></a><!--MD5=[270fce915f116d4de14055a7c1d9a0f3]\n",
       "class E5--><a href=\"psysml:196733d6-7e15-4a02-8968-2c58d3ba0ffe\" target=\"_top\" title=\"psysml:196733d6-7e15-4a02-8968-2c58d3ba0ffe\" xlink:actuate=\"onRequest\" xlink:href=\"psysml:196733d6-7e15-4a02-8968-2c58d3ba0ffe\" xlink:show=\"new\" xlink:title=\"psysml:196733d6-7e15-4a02-8968-2c58d3ba0ffe\" xlink:type=\"simple\"><g id=\"elem_E5\"><rect fill=\"#FFFFFF\" height=\"48.6211\" id=\"E5\" style=\"stroke:#181818;stroke-width:0.5;\" width=\"104\" x=\"310\" y=\"150\"/><text fill=\"#000000\" font-family=\"sans-serif\" font-size=\"12\" font-style=\"italic\" lengthAdjust=\"spacing\" textLength=\"102\" x=\"311\" y=\"166.6016\">«occurrence  def»</text><text fill=\"#000000\" font-family=\"sans-serif\" font-size=\"14\" lengthAdjust=\"spacing\" textLength=\"32\" x=\"346\" y=\"182.668\">Cool</text><line style=\"stroke:#181818;stroke-width:0.5;\" x1=\"311\" x2=\"413\" y1=\"190.6211\" y2=\"190.6211\"/></g></a><!--MD5=[60a26617385b1d2d0262a64233df1f8d]\n",
       "class E6--><a href=\"psysml:492ea2aa-e543-421a-a2f6-7ff47d131ea8\" target=\"_top\" title=\"psysml:492ea2aa-e543-421a-a2f6-7ff47d131ea8\" xlink:actuate=\"onRequest\" xlink:href=\"psysml:492ea2aa-e543-421a-a2f6-7ff47d131ea8\" xlink:show=\"new\" xlink:title=\"psysml:492ea2aa-e543-421a-a2f6-7ff47d131ea8\" xlink:type=\"simple\"><g id=\"elem_E6\"><rect fill=\"#FFFFFF\" height=\"48.6211\" id=\"E6\" style=\"stroke:#181818;stroke-width:0.5;\" width=\"104\" x=\"449\" y=\"150\"/><text fill=\"#000000\" font-family=\"sans-serif\" font-size=\"12\" font-style=\"italic\" lengthAdjust=\"spacing\" textLength=\"102\" x=\"450\" y=\"166.6016\">«occurrence  def»</text><text fill=\"#000000\" font-family=\"sans-serif\" font-size=\"14\" lengthAdjust=\"spacing\" textLength=\"39\" x=\"481.5\" y=\"182.668\">Clean</text><line style=\"stroke:#181818;stroke-width:0.5;\" x1=\"450\" x2=\"552\" y1=\"190.6211\" y2=\"190.6211\"/></g></a><!--MD5=[209b3feb70ccb6233bfe1053d122c12c]\n",
       "reverse link E2 to E3--><g id=\"link_E2_E3\"><a href=\"psysml:d07cea5f-936c-4be6-85d1-80790355f06a\" target=\"_top\" title=\"psysml:d07cea5f-936c-4be6-85d1-80790355f06a\" xlink:actuate=\"onRequest\" xlink:href=\"psysml:d07cea5f-936c-4be6-85d1-80790355f06a\" xlink:show=\"new\" xlink:title=\"psysml:d07cea5f-936c-4be6-85d1-80790355f06a\" xlink:type=\"simple\"><path d=\"M232.59,97.06 C199.92,113.87 160.01,134.4 129.79,149.95 \" fill=\"none\" id=\"E2-backto-E3\" style=\"stroke:#181818;stroke-width:1.0;\"/><ellipse cx=\"238.9862\" cy=\"93.7698\" fill=\"#FFFFFF\" rx=\"8\" ry=\"8\" style=\"stroke:#181818;stroke-width:1.0;\"/><line style=\"stroke:#181818;stroke-width:1.0;\" x1=\"231.8725\" x2=\"246.1\" y1=\"97.4296\" y2=\"90.11\"/><line style=\"stroke:#181818;stroke-width:1.0;\" x1=\"235.3264\" x2=\"242.646\" y1=\"86.656\" y2=\"100.8836\"/></a></g><!--MD5=[9618e71518536f8baf3342ff6fdab317]\n",
       "reverse link E2 to E4--><g id=\"link_E2_E4\"><a href=\"psysml:b3bfe7d7-b4ef-4fad-88ff-cb21a9f0856a\" target=\"_top\" title=\"psysml:b3bfe7d7-b4ef-4fad-88ff-cb21a9f0856a\" xlink:actuate=\"onRequest\" xlink:href=\"psysml:b3bfe7d7-b4ef-4fad-88ff-cb21a9f0856a\" xlink:show=\"new\" xlink:title=\"psysml:b3bfe7d7-b4ef-4fad-88ff-cb21a9f0856a\" xlink:type=\"simple\"><path d=\"M268.38,103.13 C258.41,118.58 247.11,136.12 238.27,149.82 \" fill=\"none\" id=\"E2-backto-E4\" style=\"stroke:#181818;stroke-width:1.0;\"/><ellipse cx=\"272.3532\" cy=\"96.9725\" fill=\"#FFFFFF\" rx=\"8\" ry=\"8\" style=\"stroke:#181818;stroke-width:1.0;\"/><line style=\"stroke:#181818;stroke-width:1.0;\" x1=\"268.0163\" x2=\"276.69\" y1=\"103.695\" y2=\"90.25\"/><line style=\"stroke:#181818;stroke-width:1.0;\" x1=\"265.6307\" x2=\"279.0756\" y1=\"92.6356\" y2=\"101.3093\"/></a></g><!--MD5=[4e1a83fab71cdb913c109063314ae896]\n",
       "reverse link E2 to E5--><g id=\"link_E2_E5\"><a href=\"psysml:fabfdad1-332e-4cdd-9e13-ba8571fa9c65\" target=\"_top\" title=\"psysml:fabfdad1-332e-4cdd-9e13-ba8571fa9c65\" xlink:actuate=\"onRequest\" xlink:href=\"psysml:fabfdad1-332e-4cdd-9e13-ba8571fa9c65\" xlink:show=\"new\" xlink:title=\"psysml:fabfdad1-332e-4cdd-9e13-ba8571fa9c65\" xlink:type=\"simple\"><path d=\"M315.97,103.13 C326.07,118.58 337.54,136.12 346.51,149.82 \" fill=\"none\" id=\"E2-backto-E5\" style=\"stroke:#181818;stroke-width:1.0;\"/><ellipse cx=\"311.9141\" cy=\"96.9483\" fill=\"#FFFFFF\" rx=\"8\" ry=\"8\" style=\"stroke:#181818;stroke-width:1.0;\"/><line style=\"stroke:#181818;stroke-width:1.0;\" x1=\"316.2882\" x2=\"307.54\" y1=\"103.6466\" y2=\"90.25\"/><line style=\"stroke:#181818;stroke-width:1.0;\" x1=\"305.2158\" x2=\"318.6124\" y1=\"101.3224\" y2=\"92.5742\"/></a></g><!--MD5=[ce036f65110ae2351ccce5a81dc2e928]\n",
       "reverse link E2 to E6--><g id=\"link_E2_E6\"><a href=\"psysml:6091d650-d075-4265-9029-02f8e7b37575\" target=\"_top\" title=\"psysml:6091d650-d075-4265-9029-02f8e7b37575\" xlink:actuate=\"onRequest\" xlink:href=\"psysml:6091d650-d075-4265-9029-02f8e7b37575\" xlink:show=\"new\" xlink:title=\"psysml:6091d650-d075-4265-9029-02f8e7b37575\" xlink:type=\"simple\"><path d=\"M351.7,97.06 C384.52,113.87 424.62,134.4 454.99,149.95 \" fill=\"none\" id=\"E2-backto-E6\" style=\"stroke:#181818;stroke-width:1.0;\"/><ellipse cx=\"345.2385\" cy=\"93.7607\" fill=\"#FFFFFF\" rx=\"8\" ry=\"8\" style=\"stroke:#181818;stroke-width:1.0;\"/><line style=\"stroke:#181818;stroke-width:1.0;\" x1=\"352.3569\" x2=\"338.12\" y1=\"97.4114\" y2=\"90.11\"/><line style=\"stroke:#181818;stroke-width:1.0;\" x1=\"341.5878\" x2=\"348.8891\" y1=\"100.8791\" y2=\"86.6422\"/></a></g><!--MD5=[abea7c9855a21cf01b6b22765e836124]\n",
       "@startuml\r\n",
       "skin sysmlbw\r\n",
       "skinparam monochrome true\r\n",
       "skinparam wrapWidth 300\r\n",
       "hide circle\r\n",
       "\r\n",
       "package \"CookingDefs\" as E1  [[psysml:b7b6778c-de44-42d0-a7f7-092e8fa7a68e ]]  {\r\n",
       "comp def \"Cooking\" as E2  <<(T,blue) occurrence  def>> [[psysml:04acb6a4-3775-46d2-b937-5a744f13807c ]] {\r\n",
       "}\r\n",
       "comp def \"Preheat\" as E3  <<(T,blue) occurrence  def>> [[psysml:cb499677-bca3-4506-9869-62eb755a9df5 ]] {\r\n",
       "}\r\n",
       "comp def \"Cook\" as E4  <<(T,blue) occurrence  def>> [[psysml:97db936c-9cb7-44ea-b8e1-5c224774c4fd ]] {\r\n",
       "}\r\n",
       "comp def \"Cool\" as E5  <<(T,blue) occurrence  def>> [[psysml:196733d6-7e15-4a02-8968-2c58d3ba0ffe ]] {\r\n",
       "}\r\n",
       "comp def \"Clean\" as E6  <<(T,blue) occurrence  def>> [[psysml:492ea2aa-e543-421a-a2f6-7ff47d131ea8 ]] {\r\n",
       "}\r\n",
       "}\r\n",
       "E2 +- - E3 [[psysml:d07cea5f-936c-4be6-85d1-80790355f06a ]] \r\n",
       "E2 +- - E4 [[psysml:b3bfe7d7-b4ef-4fad-88ff-cb21a9f0856a ]] \r\n",
       "E2 +- - E5 [[psysml:fabfdad1-332e-4cdd-9e13-ba8571fa9c65 ]] \r\n",
       "E2 +- - E6 [[psysml:6091d650-d075-4265-9029-02f8e7b37575 ]] \r\n",
       "@enduml\r\n",
       "\n",
       "PlantUML version 1.2022.7(Mon Aug 22 11:01:30 MDT 2022)\n",
       "(EPL source distribution)\n",
       "Java Runtime: Java(TM) SE Runtime Environment\n",
       "JVM: Java HotSpot(TM) 64-Bit Server VM\n",
       "Default Encoding: UTF-8\n",
       "Language: en\n",
       "Country: US\n",
       "--></g></svg>"
      ]
     },
     "execution_count": 61,
     "metadata": {},
     "output_type": "execute_result"
    }
   ],
   "source": [
    "%viz --view=default CookingDefs"
   ]
  },
  {
   "cell_type": "markdown",
   "id": "fea2d36c",
   "metadata": {},
   "source": [
    "### OccurrenceUsage_1.sysml\n",
    "- Timeslices can be selectively chosen per occurrence usage"
   ]
  },
  {
   "cell_type": "code",
   "execution_count": 62,
   "id": "05f746d3",
   "metadata": {
    "vscode": {
     "languageId": "sysml"
    }
   },
   "outputs": [
    {
     "data": {
      "text/plain": [
       "Package OccurrenceUsage_1 (8a79f30d-6460-420b-b167-9f060c5a7a16)\n"
      ]
     },
     "execution_count": 62,
     "metadata": {},
     "output_type": "execute_result"
    }
   ],
   "source": [
    "package OccurrenceUsage_1{\n",
    "    private import CookingDefs::*;\n",
    "\n",
    "    occurrence testCooking: Cooking{\n",
    "        timeslice preheat: Preheat;\n",
    "        timeslice cook: Cook;\n",
    "        timeslice cool: Cool;\n",
    "    }\n",
    "}"
   ]
  },
  {
   "cell_type": "code",
   "execution_count": 63,
   "id": "714ffb2e",
   "metadata": {
    "vscode": {
     "languageId": "sysml"
    }
   },
   "outputs": [
    {
     "data": {
      "image/svg+xml": [
       "<?xml version=\"1.0\" encoding=\"UTF-8\" standalone=\"no\"?><svg xmlns=\"http://www.w3.org/2000/svg\" xmlns:xlink=\"http://www.w3.org/1999/xlink\" contentStyleType=\"text/css\" height=\"222px\" preserveAspectRatio=\"none\" style=\"width:529px;height:222px;background:#FFFFFF;\" version=\"1.1\" viewBox=\"0 0 529 222\" width=\"529px\" zoomAndPan=\"magnify\"><defs/><g><!--MD5=[fbc87193dbaf4d95561dea2c320d4a47]\n",
       "cluster E1--><g id=\"cluster_E1\"><a href=\"psysml:8a79f30d-6460-420b-b167-9f060c5a7a16\" target=\"_top\" title=\"psysml:8a79f30d-6460-420b-b167-9f060c5a7a16\" xlink:actuate=\"onRequest\" xlink:href=\"psysml:8a79f30d-6460-420b-b167-9f060c5a7a16\" xlink:show=\"new\" xlink:title=\"psysml:8a79f30d-6460-420b-b167-9f060c5a7a16\" xlink:type=\"simple\"><polygon fill=\"none\" points=\"16,6,160,6,167,28.4883,512,28.4883,512,215,16,215,16,6\" style=\"stroke:#000000;stroke-width:1.5;\"/><line style=\"stroke:#000000;stroke-width:1.5;\" x1=\"16\" x2=\"167\" y1=\"28.4883\" y2=\"28.4883\"/><text fill=\"#000000\" font-family=\"sans-serif\" font-size=\"14\" font-weight=\"bold\" lengthAdjust=\"spacing\" textLength=\"138\" x=\"20\" y=\"21.5352\">OccurrenceUsage_1</text></a></g><!--MD5=[b4997ac47864f28c2f74865a473b2911]\n",
       "class E2--><a href=\"psysml:d74f55f7-5543-454c-be0c-4351f96979bd\" target=\"_top\" title=\"psysml:d74f55f7-5543-454c-be0c-4351f96979bd\" xlink:actuate=\"onRequest\" xlink:href=\"psysml:d74f55f7-5543-454c-be0c-4351f96979bd\" xlink:show=\"new\" xlink:title=\"psysml:d74f55f7-5543-454c-be0c-4351f96979bd\" xlink:type=\"simple\"><g id=\"elem_E2\"><rect fill=\"#FFFFFF\" height=\"48.6211\" id=\"E2\" rx=\"10\" ry=\"10\" style=\"stroke:#181818;stroke-width:0.5;\" width=\"163\" x=\"182.5\" y=\"41\"/><text fill=\"#000000\" font-family=\"sans-serif\" font-size=\"12\" font-style=\"italic\" lengthAdjust=\"spacing\" textLength=\"75\" x=\"226.5\" y=\"57.6016\">«occurrence»</text><text fill=\"#000000\" font-family=\"sans-serif\" font-size=\"14\" lengthAdjust=\"spacing\" textLength=\"149\" x=\"185.5\" y=\"73.668\">testCooking: Cooking</text><line style=\"stroke:#181818;stroke-width:0.5;\" x1=\"183.5\" x2=\"344.5\" y1=\"81.6211\" y2=\"81.6211\"/></g></a><!--MD5=[09b614a08d8cba4a07c9adeb5e0fee81]\n",
       "class E3--><a href=\"psysml:93ad2639-8698-4052-beec-48a2a9261148\" target=\"_top\" title=\"psysml:93ad2639-8698-4052-beec-48a2a9261148\" xlink:actuate=\"onRequest\" xlink:href=\"psysml:93ad2639-8698-4052-beec-48a2a9261148\" xlink:show=\"new\" xlink:title=\"psysml:93ad2639-8698-4052-beec-48a2a9261148\" xlink:type=\"simple\"><g id=\"elem_E3\"><rect fill=\"#FFFFFF\" height=\"48.6211\" id=\"E3\" rx=\"10\" ry=\"10\" style=\"stroke:#181818;stroke-width:0.5;\" width=\"131\" x=\"32.5\" y=\"150\"/><text fill=\"#000000\" font-family=\"sans-serif\" font-size=\"12\" font-style=\"italic\" lengthAdjust=\"spacing\" textLength=\"129\" x=\"33.5\" y=\"166.6016\">«timeslice occurrence»</text><text fill=\"#000000\" font-family=\"sans-serif\" font-size=\"14\" lengthAdjust=\"spacing\" textLength=\"113\" x=\"37.5\" y=\"182.668\">preheat: Preheat</text><line style=\"stroke:#181818;stroke-width:0.5;\" x1=\"33.5\" x2=\"162.5\" y1=\"190.6211\" y2=\"190.6211\"/></g></a><!--MD5=[ebbe1d658d1005bcc118a6aa81145e00]\n",
       "class E4--><a href=\"psysml:d1aae313-ae96-4a44-b021-085677851048\" target=\"_top\" title=\"psysml:d1aae313-ae96-4a44-b021-085677851048\" xlink:actuate=\"onRequest\" xlink:href=\"psysml:d1aae313-ae96-4a44-b021-085677851048\" xlink:show=\"new\" xlink:title=\"psysml:d1aae313-ae96-4a44-b021-085677851048\" xlink:type=\"simple\"><g id=\"elem_E4\"><rect fill=\"#FFFFFF\" height=\"48.6211\" id=\"E4\" rx=\"10\" ry=\"10\" style=\"stroke:#181818;stroke-width:0.5;\" width=\"131\" x=\"198.5\" y=\"150\"/><text fill=\"#000000\" font-family=\"sans-serif\" font-size=\"12\" font-style=\"italic\" lengthAdjust=\"spacing\" textLength=\"129\" x=\"199.5\" y=\"166.6016\">«timeslice occurrence»</text><text fill=\"#000000\" font-family=\"sans-serif\" font-size=\"14\" lengthAdjust=\"spacing\" textLength=\"77\" x=\"221.5\" y=\"182.668\">cook: Cook</text><line style=\"stroke:#181818;stroke-width:0.5;\" x1=\"199.5\" x2=\"328.5\" y1=\"190.6211\" y2=\"190.6211\"/></g></a><!--MD5=[270fce915f116d4de14055a7c1d9a0f3]\n",
       "class E5--><a href=\"psysml:1c6fcb29-266c-4aae-9c7a-1e83ce94a062\" target=\"_top\" title=\"psysml:1c6fcb29-266c-4aae-9c7a-1e83ce94a062\" xlink:actuate=\"onRequest\" xlink:href=\"psysml:1c6fcb29-266c-4aae-9c7a-1e83ce94a062\" xlink:show=\"new\" xlink:title=\"psysml:1c6fcb29-266c-4aae-9c7a-1e83ce94a062\" xlink:type=\"simple\"><g id=\"elem_E5\"><rect fill=\"#FFFFFF\" height=\"48.6211\" id=\"E5\" rx=\"10\" ry=\"10\" style=\"stroke:#181818;stroke-width:0.5;\" width=\"131\" x=\"364.5\" y=\"150\"/><text fill=\"#000000\" font-family=\"sans-serif\" font-size=\"12\" font-style=\"italic\" lengthAdjust=\"spacing\" textLength=\"129\" x=\"365.5\" y=\"166.6016\">«timeslice occurrence»</text><text fill=\"#000000\" font-family=\"sans-serif\" font-size=\"14\" lengthAdjust=\"spacing\" textLength=\"69\" x=\"391.5\" y=\"182.668\">cool: Cool</text><line style=\"stroke:#181818;stroke-width:0.5;\" x1=\"365.5\" x2=\"494.5\" y1=\"190.6211\" y2=\"190.6211\"/></g></a><!--MD5=[209b3feb70ccb6233bfe1053d122c12c]\n",
       "reverse link E2 to E3--><g id=\"link_E2_E3\"><a href=\"psysml:11b90021-81b7-42cd-95f5-907237e1c7e0\" target=\"_top\" title=\"psysml:11b90021-81b7-42cd-95f5-907237e1c7e0\" xlink:actuate=\"onRequest\" xlink:href=\"psysml:11b90021-81b7-42cd-95f5-907237e1c7e0\" xlink:show=\"new\" xlink:title=\"psysml:11b90021-81b7-42cd-95f5-907237e1c7e0\" xlink:type=\"simple\"><path d=\"M216.07,97.4 C190.17,114.09 158.68,134.39 134.74,149.82 \" fill=\"none\" id=\"E2-backto-E3\" style=\"stroke:#181818;stroke-width:1.0;\"/><polygon fill=\"#181818\" points=\"227.16,90.25,219.9497,90.1422,217.077,96.7564,224.2873,96.8642,227.16,90.25\" style=\"stroke:#181818;stroke-width:1.0;\"/></a></g><!--MD5=[9618e71518536f8baf3342ff6fdab317]\n",
       "reverse link E2 to E4--><g id=\"link_E2_E4\"><a href=\"psysml:5edf292c-e3c3-46a3-a525-f7acd78f4158\" target=\"_top\" title=\"psysml:5edf292c-e3c3-46a3-a525-f7acd78f4158\" xlink:actuate=\"onRequest\" xlink:href=\"psysml:5edf292c-e3c3-46a3-a525-f7acd78f4158\" xlink:show=\"new\" xlink:title=\"psysml:5edf292c-e3c3-46a3-a525-f7acd78f4158\" xlink:type=\"simple\"><path d=\"M264,103.6 C264,118.94 264,136.26 264,149.82 \" fill=\"none\" id=\"E2-backto-E4\" style=\"stroke:#181818;stroke-width:1.0;\"/><polygon fill=\"#181818\" points=\"264,90.25,260,96.25,264,102.25,268,96.25,264,90.25\" style=\"stroke:#181818;stroke-width:1.0;\"/></a></g><!--MD5=[4e1a83fab71cdb913c109063314ae896]\n",
       "reverse link E2 to E5--><g id=\"link_E2_E5\"><a href=\"psysml:4568aeab-cbad-47cb-9399-52393c9005b7\" target=\"_top\" title=\"psysml:4568aeab-cbad-47cb-9399-52393c9005b7\" xlink:actuate=\"onRequest\" xlink:href=\"psysml:4568aeab-cbad-47cb-9399-52393c9005b7\" xlink:show=\"new\" xlink:title=\"psysml:4568aeab-cbad-47cb-9399-52393c9005b7\" xlink:type=\"simple\"><path d=\"M311.93,97.4 C337.83,114.09 369.32,134.39 393.26,149.82 \" fill=\"none\" id=\"E2-backto-E5\" style=\"stroke:#181818;stroke-width:1.0;\"/><polygon fill=\"#181818\" points=\"300.84,90.25,303.7127,96.8642,310.923,96.7564,308.0503,90.1422,300.84,90.25\" style=\"stroke:#181818;stroke-width:1.0;\"/></a></g><!--MD5=[cbe6506742b8012a6ab255d3b49fdff4]\n",
       "@startuml\r\n",
       "skin sysmlbw\r\n",
       "skinparam monochrome true\r\n",
       "skinparam wrapWidth 300\r\n",
       "hide circle\r\n",
       "\r\n",
       "package \"OccurrenceUsage_1\" as E1  [[psysml:8a79f30d-6460-420b-b167-9f060c5a7a16 ]]  {\r\n",
       "comp usage \"testCooking: Cooking  \" as E2  <<(T,blue) occurrence>> [[psysml:d74f55f7-5543-454c-be0c-4351f96979bd ]] {\r\n",
       "}\r\n",
       "comp usage \"preheat: Preheat  \" as E3  <<(T,blue) timeslice occurrence>> [[psysml:93ad2639-8698-4052-beec-48a2a9261148 ]] {\r\n",
       "}\r\n",
       "comp usage \"cook: Cook  \" as E4  <<(T,blue) timeslice occurrence>> [[psysml:d1aae313-ae96-4a44-b021-085677851048 ]] {\r\n",
       "}\r\n",
       "comp usage \"cool: Cool  \" as E5  <<(T,blue) timeslice occurrence>> [[psysml:1c6fcb29-266c-4aae-9c7a-1e83ce94a062 ]] {\r\n",
       "}\r\n",
       "}\r\n",
       "E2 *- - E3 [[psysml:11b90021-81b7-42cd-95f5-907237e1c7e0 ]] \r\n",
       "E2 *- - E4 [[psysml:5edf292c-e3c3-46a3-a525-f7acd78f4158 ]] \r\n",
       "E2 *- - E5 [[psysml:4568aeab-cbad-47cb-9399-52393c9005b7 ]] \r\n",
       "@enduml\r\n",
       "\n",
       "PlantUML version 1.2022.7(Mon Aug 22 11:01:30 MDT 2022)\n",
       "(EPL source distribution)\n",
       "Java Runtime: Java(TM) SE Runtime Environment\n",
       "JVM: Java HotSpot(TM) 64-Bit Server VM\n",
       "Default Encoding: UTF-8\n",
       "Language: en\n",
       "Country: US\n",
       "--></g></svg>"
      ]
     },
     "execution_count": 63,
     "metadata": {},
     "output_type": "execute_result"
    }
   ],
   "source": [
    "%viz --view=default OccurrenceUsage_1"
   ]
  },
  {
   "cell_type": "markdown",
   "id": "31b92ab4",
   "metadata": {},
   "source": [
    "### OccurrenceUsage_2.sysml"
   ]
  },
  {
   "cell_type": "code",
   "execution_count": 64,
   "id": "c2b5ff6b",
   "metadata": {
    "vscode": {
     "languageId": "sysml"
    }
   },
   "outputs": [
    {
     "data": {
      "text/plain": [
       "Package OvenDefs (9d156f50-7e35-4452-9725-47af9a85e811)\n"
      ]
     },
     "execution_count": 64,
     "metadata": {},
     "output_type": "execute_result"
    }
   ],
   "source": [
    "package OvenDefs{\n",
    "    private import SI::*;\n",
    "    private import ScalarValues::Integer;\n",
    "\n",
    "    part def Rack;\n",
    "    part def Drawer{\n",
    "        part extraRack: Rack;\n",
    "    }\n",
    "    part def HeatingElement{\n",
    "        attribute temperature: TemperatureDifferenceUnit;\n",
    "    }\n",
    "    part def Oven{\n",
    "        attribute wattage: PowerUnit;\n",
    "        attribute slotCount: Integer;\n",
    "        part rack: Rack;\n",
    "        part drawer: Drawer;\n",
    "        part heatingElement: HeatingElement;\n",
    "    }\n",
    "}"
   ]
  },
  {
   "cell_type": "code",
   "execution_count": 65,
   "id": "89ccb371",
   "metadata": {
    "vscode": {
     "languageId": "sysml"
    }
   },
   "outputs": [
    {
     "data": {
      "text/plain": [
       "Package OccurrenceUsage_2 (61ab2b71-b283-488b-8b5d-ab8f7c8fe9fb)\n"
      ]
     },
     "execution_count": 65,
     "metadata": {},
     "output_type": "execute_result"
    }
   ],
   "source": [
    "package OccurrenceUsage_2{\n",
    "    private import CookingDefs::*;\n",
    "    private import OvenDefs::*;\n",
    "\n",
    "    occurrence testCooking: Cooking{\n",
    "        timeslice preheat: Preheat;\n",
    "        timeslice cook: Cook;\n",
    "        timeslice cool: Cool;\n",
    "\n",
    "        ref part newOven: Oven;\n",
    "    }\n",
    "}"
   ]
  },
  {
   "cell_type": "code",
   "execution_count": 66,
   "id": "2977a701",
   "metadata": {
    "vscode": {
     "languageId": "sysml"
    }
   },
   "outputs": [
    {
     "data": {
      "image/svg+xml": [
       "<?xml version=\"1.0\" encoding=\"UTF-8\" standalone=\"no\"?><svg xmlns=\"http://www.w3.org/2000/svg\" xmlns:xlink=\"http://www.w3.org/1999/xlink\" contentStyleType=\"text/css\" height=\"222px\" preserveAspectRatio=\"none\" style=\"width:684px;height:222px;background:#FFFFFF;\" version=\"1.1\" viewBox=\"0 0 684 222\" width=\"684px\" zoomAndPan=\"magnify\"><defs/><g><!--MD5=[fbc87193dbaf4d95561dea2c320d4a47]\n",
       "cluster E1--><g id=\"cluster_E1\"><a href=\"psysml:61ab2b71-b283-488b-8b5d-ab8f7c8fe9fb\" target=\"_top\" title=\"psysml:61ab2b71-b283-488b-8b5d-ab8f7c8fe9fb\" xlink:actuate=\"onRequest\" xlink:href=\"psysml:61ab2b71-b283-488b-8b5d-ab8f7c8fe9fb\" xlink:show=\"new\" xlink:title=\"psysml:61ab2b71-b283-488b-8b5d-ab8f7c8fe9fb\" xlink:type=\"simple\"><polygon fill=\"none\" points=\"16,6,160,6,167,28.4883,667,28.4883,667,215,16,215,16,6\" style=\"stroke:#000000;stroke-width:1.5;\"/><line style=\"stroke:#000000;stroke-width:1.5;\" x1=\"16\" x2=\"167\" y1=\"28.4883\" y2=\"28.4883\"/><text fill=\"#000000\" font-family=\"sans-serif\" font-size=\"14\" font-weight=\"bold\" lengthAdjust=\"spacing\" textLength=\"138\" x=\"20\" y=\"21.5352\">OccurrenceUsage_2</text></a></g><!--MD5=[b4997ac47864f28c2f74865a473b2911]\n",
       "class E2--><a href=\"psysml:d48192e8-e2ef-42c3-aa7a-fbe31bca1921\" target=\"_top\" title=\"psysml:d48192e8-e2ef-42c3-aa7a-fbe31bca1921\" xlink:actuate=\"onRequest\" xlink:href=\"psysml:d48192e8-e2ef-42c3-aa7a-fbe31bca1921\" xlink:show=\"new\" xlink:title=\"psysml:d48192e8-e2ef-42c3-aa7a-fbe31bca1921\" xlink:type=\"simple\"><g id=\"elem_E2\"><rect fill=\"#FFFFFF\" height=\"48.6211\" id=\"E2\" rx=\"10\" ry=\"10\" style=\"stroke:#181818;stroke-width:0.5;\" width=\"163\" x=\"265.5\" y=\"41\"/><text fill=\"#000000\" font-family=\"sans-serif\" font-size=\"12\" font-style=\"italic\" lengthAdjust=\"spacing\" textLength=\"75\" x=\"309.5\" y=\"57.6016\">«occurrence»</text><text fill=\"#000000\" font-family=\"sans-serif\" font-size=\"14\" lengthAdjust=\"spacing\" textLength=\"149\" x=\"268.5\" y=\"73.668\">testCooking: Cooking</text><line style=\"stroke:#181818;stroke-width:0.5;\" x1=\"266.5\" x2=\"427.5\" y1=\"81.6211\" y2=\"81.6211\"/></g></a><!--MD5=[09b614a08d8cba4a07c9adeb5e0fee81]\n",
       "class E3--><a href=\"psysml:9ed6f4c4-cd6f-4905-980b-728dc7dfc7ba\" target=\"_top\" title=\"psysml:9ed6f4c4-cd6f-4905-980b-728dc7dfc7ba\" xlink:actuate=\"onRequest\" xlink:href=\"psysml:9ed6f4c4-cd6f-4905-980b-728dc7dfc7ba\" xlink:show=\"new\" xlink:title=\"psysml:9ed6f4c4-cd6f-4905-980b-728dc7dfc7ba\" xlink:type=\"simple\"><g id=\"elem_E3\"><rect fill=\"#FFFFFF\" height=\"48.6211\" id=\"E3\" rx=\"10\" ry=\"10\" style=\"stroke:#181818;stroke-width:0.5;\" width=\"131\" x=\"32.5\" y=\"150\"/><text fill=\"#000000\" font-family=\"sans-serif\" font-size=\"12\" font-style=\"italic\" lengthAdjust=\"spacing\" textLength=\"129\" x=\"33.5\" y=\"166.6016\">«timeslice occurrence»</text><text fill=\"#000000\" font-family=\"sans-serif\" font-size=\"14\" lengthAdjust=\"spacing\" textLength=\"113\" x=\"37.5\" y=\"182.668\">preheat: Preheat</text><line style=\"stroke:#181818;stroke-width:0.5;\" x1=\"33.5\" x2=\"162.5\" y1=\"190.6211\" y2=\"190.6211\"/></g></a><!--MD5=[ebbe1d658d1005bcc118a6aa81145e00]\n",
       "class E4--><a href=\"psysml:2e80f53f-7678-4eac-b987-f59452611d2d\" target=\"_top\" title=\"psysml:2e80f53f-7678-4eac-b987-f59452611d2d\" xlink:actuate=\"onRequest\" xlink:href=\"psysml:2e80f53f-7678-4eac-b987-f59452611d2d\" xlink:show=\"new\" xlink:title=\"psysml:2e80f53f-7678-4eac-b987-f59452611d2d\" xlink:type=\"simple\"><g id=\"elem_E4\"><rect fill=\"#FFFFFF\" height=\"48.6211\" id=\"E4\" rx=\"10\" ry=\"10\" style=\"stroke:#181818;stroke-width:0.5;\" width=\"131\" x=\"198.5\" y=\"150\"/><text fill=\"#000000\" font-family=\"sans-serif\" font-size=\"12\" font-style=\"italic\" lengthAdjust=\"spacing\" textLength=\"129\" x=\"199.5\" y=\"166.6016\">«timeslice occurrence»</text><text fill=\"#000000\" font-family=\"sans-serif\" font-size=\"14\" lengthAdjust=\"spacing\" textLength=\"77\" x=\"221.5\" y=\"182.668\">cook: Cook</text><line style=\"stroke:#181818;stroke-width:0.5;\" x1=\"199.5\" x2=\"328.5\" y1=\"190.6211\" y2=\"190.6211\"/></g></a><!--MD5=[270fce915f116d4de14055a7c1d9a0f3]\n",
       "class E5--><a href=\"psysml:522ffd6f-df9f-4f2f-93d3-975d94cea387\" target=\"_top\" title=\"psysml:522ffd6f-df9f-4f2f-93d3-975d94cea387\" xlink:actuate=\"onRequest\" xlink:href=\"psysml:522ffd6f-df9f-4f2f-93d3-975d94cea387\" xlink:show=\"new\" xlink:title=\"psysml:522ffd6f-df9f-4f2f-93d3-975d94cea387\" xlink:type=\"simple\"><g id=\"elem_E5\"><rect fill=\"#FFFFFF\" height=\"48.6211\" id=\"E5\" rx=\"10\" ry=\"10\" style=\"stroke:#181818;stroke-width:0.5;\" width=\"131\" x=\"364.5\" y=\"150\"/><text fill=\"#000000\" font-family=\"sans-serif\" font-size=\"12\" font-style=\"italic\" lengthAdjust=\"spacing\" textLength=\"129\" x=\"365.5\" y=\"166.6016\">«timeslice occurrence»</text><text fill=\"#000000\" font-family=\"sans-serif\" font-size=\"14\" lengthAdjust=\"spacing\" textLength=\"69\" x=\"391.5\" y=\"182.668\">cool: Cool</text><line style=\"stroke:#181818;stroke-width:0.5;\" x1=\"365.5\" x2=\"494.5\" y1=\"190.6211\" y2=\"190.6211\"/></g></a><!--MD5=[60a26617385b1d2d0262a64233df1f8d]\n",
       "class E6--><a href=\"psysml:a4ea42e9-be80-4a03-bff9-55db6ca64fe4\" target=\"_top\" title=\"psysml:a4ea42e9-be80-4a03-bff9-55db6ca64fe4\" xlink:actuate=\"onRequest\" xlink:href=\"psysml:a4ea42e9-be80-4a03-bff9-55db6ca64fe4\" xlink:show=\"new\" xlink:title=\"psysml:a4ea42e9-be80-4a03-bff9-55db6ca64fe4\" xlink:type=\"simple\"><g id=\"elem_E6\"><rect fill=\"#FFFFFF\" height=\"48.6211\" id=\"E6\" rx=\"10\" ry=\"10\" style=\"stroke:#181818;stroke-width:0.5;\" width=\"120\" x=\"531\" y=\"150\"/><text fill=\"#000000\" font-family=\"sans-serif\" font-size=\"12\" font-style=\"italic\" lengthAdjust=\"spacing\" textLength=\"36\" x=\"573\" y=\"166.6016\">«part»</text><text fill=\"#000000\" font-family=\"sans-serif\" font-size=\"14\" lengthAdjust=\"spacing\" textLength=\"106\" x=\"534\" y=\"182.668\">newOven: Oven</text><line style=\"stroke:#181818;stroke-width:0.5;\" x1=\"532\" x2=\"650\" y1=\"190.6211\" y2=\"190.6211\"/></g></a><!--MD5=[209b3feb70ccb6233bfe1053d122c12c]\n",
       "reverse link E2 to E3--><g id=\"link_E2_E3\"><a href=\"psysml:31bf00fa-384f-48b4-8136-fe5dec6e9763\" target=\"_top\" title=\"psysml:31bf00fa-384f-48b4-8136-fe5dec6e9763\" xlink:actuate=\"onRequest\" xlink:href=\"psysml:31bf00fa-384f-48b4-8136-fe5dec6e9763\" xlink:show=\"new\" xlink:title=\"psysml:31bf00fa-384f-48b4-8136-fe5dec6e9763\" xlink:type=\"simple\"><path d=\"M280.03,95.28 C240.2,112.39 190.29,133.84 152.81,149.95 \" fill=\"none\" id=\"E2-backto-E3\" style=\"stroke:#181818;stroke-width:1.0;\"/><polygon fill=\"#181818\" points=\"292.05,90.11,284.9585,88.8021,281.0237,94.845,288.1152,96.1529,292.05,90.11\" style=\"stroke:#181818;stroke-width:1.0;\"/></a></g><!--MD5=[9618e71518536f8baf3342ff6fdab317]\n",
       "reverse link E2 to E4--><g id=\"link_E2_E4\"><a href=\"psysml:11d4ca4d-8389-4096-84e0-bb454ac98ea1\" target=\"_top\" title=\"psysml:11d4ca4d-8389-4096-84e0-bb454ac98ea1\" xlink:actuate=\"onRequest\" xlink:href=\"psysml:11d4ca4d-8389-4096-84e0-bb454ac98ea1\" xlink:show=\"new\" xlink:title=\"psysml:11d4ca4d-8389-4096-84e0-bb454ac98ea1\" xlink:type=\"simple\"><path d=\"M320.39,100.81 C307.98,116.8 293.53,135.43 282.37,149.82 \" fill=\"none\" id=\"E2-backto-E4\" style=\"stroke:#181818;stroke-width:1.0;\"/><polygon fill=\"#181818\" points=\"328.58,90.25,321.7414,92.5376,321.2228,99.73,328.0614,97.4424,328.58,90.25\" style=\"stroke:#181818;stroke-width:1.0;\"/></a></g><!--MD5=[4e1a83fab71cdb913c109063314ae896]\n",
       "reverse link E2 to E5--><g id=\"link_E2_E5\"><a href=\"psysml:760e1454-9531-4da7-ac4b-e7940b3ed38f\" target=\"_top\" title=\"psysml:760e1454-9531-4da7-ac4b-e7940b3ed38f\" xlink:actuate=\"onRequest\" xlink:href=\"psysml:760e1454-9531-4da7-ac4b-e7940b3ed38f\" xlink:show=\"new\" xlink:title=\"psysml:760e1454-9531-4da7-ac4b-e7940b3ed38f\" xlink:type=\"simple\"><path d=\"M373.61,100.81 C386.02,116.8 400.47,135.43 411.63,149.82 \" fill=\"none\" id=\"E2-backto-E5\" style=\"stroke:#181818;stroke-width:1.0;\"/><polygon fill=\"#181818\" points=\"365.42,90.25,365.9386,97.4424,372.7772,99.73,372.2586,92.5376,365.42,90.25\" style=\"stroke:#181818;stroke-width:1.0;\"/></a></g><!--MD5=[ce036f65110ae2351ccce5a81dc2e928]\n",
       "reverse link E2 to E6--><g id=\"link_E2_E6\"><a href=\"psysml:9e3b765a-6245-4a1c-9f58-1fb47cc24283\" target=\"_top\" title=\"psysml:9e3b765a-6245-4a1c-9f58-1fb47cc24283\" xlink:actuate=\"onRequest\" xlink:href=\"psysml:9e3b765a-6245-4a1c-9f58-1fb47cc24283\" xlink:show=\"new\" xlink:title=\"psysml:9e3b765a-6245-4a1c-9f58-1fb47cc24283\" xlink:type=\"simple\"><path d=\"M412.87,95.39 C451.87,112.49 500.64,133.88 537.29,149.95 \" fill=\"none\" id=\"E2-backto-E6\" style=\"stroke:#181818;stroke-width:1.0;\"/><polygon fill=\"none\" points=\"400.85,90.11,404.7402,96.1817,411.8412,94.9261,407.9509,88.8543,400.85,90.11\" style=\"stroke:#181818;stroke-width:1.0;\"/></a></g><!--MD5=[aee1bfbf000610766adca4010c486304]\n",
       "@startuml\r\n",
       "skin sysmlbw\r\n",
       "skinparam monochrome true\r\n",
       "skinparam wrapWidth 300\r\n",
       "hide circle\r\n",
       "\r\n",
       "package \"OccurrenceUsage_2\" as E1  [[psysml:61ab2b71-b283-488b-8b5d-ab8f7c8fe9fb ]]  {\r\n",
       "comp usage \"testCooking: Cooking  \" as E2  <<(T,blue) occurrence>> [[psysml:d48192e8-e2ef-42c3-aa7a-fbe31bca1921 ]] {\r\n",
       "}\r\n",
       "comp usage \"preheat: Preheat  \" as E3  <<(T,blue) timeslice occurrence>> [[psysml:9ed6f4c4-cd6f-4905-980b-728dc7dfc7ba ]] {\r\n",
       "}\r\n",
       "comp usage \"cook: Cook  \" as E4  <<(T,blue) timeslice occurrence>> [[psysml:2e80f53f-7678-4eac-b987-f59452611d2d ]] {\r\n",
       "}\r\n",
       "comp usage \"cool: Cool  \" as E5  <<(T,blue) timeslice occurrence>> [[psysml:522ffd6f-df9f-4f2f-93d3-975d94cea387 ]] {\r\n",
       "}\r\n",
       "comp usage \"newOven: Oven  \" as E6  <<(T,blue) part>> [[psysml:a4ea42e9-be80-4a03-bff9-55db6ca64fe4 ]] {\r\n",
       "}\r\n",
       "}\r\n",
       "E2 *- - E3 [[psysml:31bf00fa-384f-48b4-8136-fe5dec6e9763 ]] \r\n",
       "E2 *- - E4 [[psysml:11d4ca4d-8389-4096-84e0-bb454ac98ea1 ]] \r\n",
       "E2 *- - E5 [[psysml:760e1454-9531-4da7-ac4b-e7940b3ed38f ]] \r\n",
       "E2 o- - E6 [[psysml:9e3b765a-6245-4a1c-9f58-1fb47cc24283 ]] \r\n",
       "@enduml\r\n",
       "\n",
       "PlantUML version 1.2022.7(Mon Aug 22 11:01:30 MDT 2022)\n",
       "(EPL source distribution)\n",
       "Java Runtime: Java(TM) SE Runtime Environment\n",
       "JVM: Java HotSpot(TM) 64-Bit Server VM\n",
       "Default Encoding: UTF-8\n",
       "Language: en\n",
       "Country: US\n",
       "--></g></svg>"
      ]
     },
     "execution_count": 66,
     "metadata": {},
     "output_type": "execute_result"
    }
   ],
   "source": [
    "%viz --view=default OccurrenceUsage_2"
   ]
  },
  {
   "cell_type": "markdown",
   "id": "dd43d1f7",
   "metadata": {},
   "source": [
    "### ItemDefinition.sysml\n",
    "**Item**\n",
    "- Kind of occurrence representing a class of objects that may be acted on over time but do not necessarily perform actions themselves\n",
    "    - Eg: Gas flows through a motor but is not actually part of it\n",
    "- Necessary to connect parts to occurrences\n",
    "    - All parts are items, not all items are parts"
   ]
  },
  {
   "cell_type": "code",
   "execution_count": 67,
   "id": "6a1ca6e8",
   "metadata": {
    "vscode": {
     "languageId": "sysml"
    }
   },
   "outputs": [
    {
     "data": {
      "text/plain": [
       "Package ItemDefinition (41edd6a9-aca5-4928-b4bc-4123a22af7c8)\n"
      ]
     },
     "execution_count": 67,
     "metadata": {},
     "output_type": "execute_result"
    }
   ],
   "source": [
    "package ItemDefinition{\n",
    "    item def ElectricPower;\n",
    "\n",
    "    part def Oven{\n",
    "        item power: ElectricPower;\n",
    "        // Electricity or gas flow through the oven but are not actually part of the oven\n",
    "    }\n",
    "}"
   ]
  },
  {
   "cell_type": "code",
   "execution_count": 68,
   "id": "f127c1b7",
   "metadata": {
    "vscode": {
     "languageId": "sysml"
    }
   },
   "outputs": [
    {
     "data": {
      "image/svg+xml": [
       "<?xml version=\"1.0\" encoding=\"UTF-8\" standalone=\"no\"?><svg xmlns=\"http://www.w3.org/2000/svg\" xmlns:xlink=\"http://www.w3.org/1999/xlink\" contentStyleType=\"text/css\" height=\"114px\" preserveAspectRatio=\"none\" style=\"width:503px;height:114px;background:#FFFFFF;\" version=\"1.1\" viewBox=\"0 0 503 114\" width=\"503px\" zoomAndPan=\"magnify\"><defs/><g><!--MD5=[fbc87193dbaf4d95561dea2c320d4a47]\n",
       "cluster E1--><g id=\"cluster_E1\"><a href=\"psysml:41edd6a9-aca5-4928-b4bc-4123a22af7c8\" target=\"_top\" title=\"psysml:41edd6a9-aca5-4928-b4bc-4123a22af7c8\" xlink:actuate=\"onRequest\" xlink:href=\"psysml:41edd6a9-aca5-4928-b4bc-4123a22af7c8\" xlink:show=\"new\" xlink:title=\"psysml:41edd6a9-aca5-4928-b4bc-4123a22af7c8\" xlink:type=\"simple\"><polygon fill=\"none\" points=\"16,6,128,6,135,28.4883,486,28.4883,486,107,16,107,16,6\" style=\"stroke:#000000;stroke-width:1.5;\"/><line style=\"stroke:#000000;stroke-width:1.5;\" x1=\"16\" x2=\"135\" y1=\"28.4883\" y2=\"28.4883\"/><text fill=\"#000000\" font-family=\"sans-serif\" font-size=\"14\" font-weight=\"bold\" lengthAdjust=\"spacing\" textLength=\"106\" x=\"20\" y=\"21.5352\">ItemDefinition</text></a></g><!--MD5=[b4997ac47864f28c2f74865a473b2911]\n",
       "class E2--><a href=\"psysml:e075015f-a864-40c8-9489-7f224983a373\" target=\"_top\" title=\"psysml:e075015f-a864-40c8-9489-7f224983a373\" xlink:actuate=\"onRequest\" xlink:href=\"psysml:e075015f-a864-40c8-9489-7f224983a373\" xlink:show=\"new\" xlink:title=\"psysml:e075015f-a864-40c8-9489-7f224983a373\" xlink:type=\"simple\"><g id=\"elem_E2\"><rect fill=\"#FFFFFF\" height=\"48.6211\" id=\"E2\" style=\"stroke:#181818;stroke-width:0.5;\" width=\"97\" x=\"373\" y=\"41.5\"/><text fill=\"#000000\" font-family=\"sans-serif\" font-size=\"12\" font-style=\"italic\" lengthAdjust=\"spacing\" textLength=\"64\" x=\"389.5\" y=\"58.1016\">«item  def»</text><text fill=\"#000000\" font-family=\"sans-serif\" font-size=\"14\" lengthAdjust=\"spacing\" textLength=\"91\" x=\"376\" y=\"74.168\">ElectricPower</text><line style=\"stroke:#181818;stroke-width:0.5;\" x1=\"374\" x2=\"469\" y1=\"82.1211\" y2=\"82.1211\"/></g></a><!--MD5=[09b614a08d8cba4a07c9adeb5e0fee81]\n",
       "class E3--><a href=\"psysml:2dd7b489-78ff-40b9-99a4-557e9afce93e\" target=\"_top\" title=\"psysml:2dd7b489-78ff-40b9-99a4-557e9afce93e\" xlink:actuate=\"onRequest\" xlink:href=\"psysml:2dd7b489-78ff-40b9-99a4-557e9afce93e\" xlink:show=\"new\" xlink:title=\"psysml:2dd7b489-78ff-40b9-99a4-557e9afce93e\" xlink:type=\"simple\"><g id=\"elem_E3\"><rect fill=\"#FFFFFF\" height=\"48.6211\" id=\"E3\" style=\"stroke:#181818;stroke-width:0.5;\" width=\"65\" x=\"32\" y=\"41.5\"/><text fill=\"#000000\" font-family=\"sans-serif\" font-size=\"12\" font-style=\"italic\" lengthAdjust=\"spacing\" textLength=\"63\" x=\"33\" y=\"58.1016\">«part  def»</text><text fill=\"#000000\" font-family=\"sans-serif\" font-size=\"14\" lengthAdjust=\"spacing\" textLength=\"35\" x=\"47\" y=\"74.168\">Oven</text><line style=\"stroke:#181818;stroke-width:0.5;\" x1=\"33\" x2=\"96\" y1=\"82.1211\" y2=\"82.1211\"/></g></a><!--MD5=[ebbe1d658d1005bcc118a6aa81145e00]\n",
       "class E4--><a href=\"psysml:e3fc4fa0-60de-4906-a12a-b3d68ea04583\" target=\"_top\" title=\"psysml:e3fc4fa0-60de-4906-a12a-b3d68ea04583\" xlink:actuate=\"onRequest\" xlink:href=\"psysml:e3fc4fa0-60de-4906-a12a-b3d68ea04583\" xlink:show=\"new\" xlink:title=\"psysml:e3fc4fa0-60de-4906-a12a-b3d68ea04583\" xlink:type=\"simple\"><g id=\"elem_E4\"><rect fill=\"#FFFFFF\" height=\"48.6211\" id=\"E4\" rx=\"10\" ry=\"10\" style=\"stroke:#181818;stroke-width:0.5;\" width=\"156\" x=\"157\" y=\"41.5\"/><text fill=\"#000000\" font-family=\"sans-serif\" font-size=\"12\" font-style=\"italic\" lengthAdjust=\"spacing\" textLength=\"37\" x=\"216.5\" y=\"58.1016\">«item»</text><text fill=\"#000000\" font-family=\"sans-serif\" font-size=\"14\" lengthAdjust=\"spacing\" textLength=\"142\" x=\"160\" y=\"74.168\">power: ElectricPower</text><line style=\"stroke:#181818;stroke-width:0.5;\" x1=\"158\" x2=\"312\" y1=\"82.1211\" y2=\"82.1211\"/></g></a><!--MD5=[4672eba38e49728da53d11aeb285b987]\n",
       "reverse link E3 to E4--><g id=\"link_E3_E4\"><a href=\"psysml:e2f5ae7d-a907-4219-8e07-a30d443442e8\" target=\"_top\" title=\"psysml:e2f5ae7d-a907-4219-8e07-a30d443442e8\" xlink:actuate=\"onRequest\" xlink:href=\"psysml:e2f5ae7d-a907-4219-8e07-a30d443442e8\" xlink:show=\"new\" xlink:title=\"psysml:e2f5ae7d-a907-4219-8e07-a30d443442e8\" xlink:type=\"simple\"><path d=\"M110.28,66 C124.64,66 140.98,66 156.97,66 \" fill=\"none\" id=\"E3-backto-E4\" style=\"stroke:#181818;stroke-width:1.0;\"/><polygon fill=\"#181818\" points=\"97.19,66,103.19,70,109.19,66,103.19,62,97.19,66\" style=\"stroke:#181818;stroke-width:1.0;\"/></a></g><!--MD5=[185131fc0dcab0a4505a2ebe144e961b]\n",
       "link E4 to E2--><g id=\"link_E4_E2\"><a href=\"psysml:85bd0dc7-4b47-4155-9456-e69cfacab40e\" target=\"_top\" title=\"psysml:85bd0dc7-4b47-4155-9456-e69cfacab40e\" xlink:actuate=\"onRequest\" xlink:href=\"psysml:85bd0dc7-4b47-4155-9456-e69cfacab40e\" xlink:show=\"new\" xlink:title=\"psysml:85bd0dc7-4b47-4155-9456-e69cfacab40e\" xlink:type=\"simple\"><path d=\"M313.18,66 C326.3,66 339.85,66 352.71,66 \" fill=\"none\" id=\"E4-to-E2\" style=\"stroke:#181818;stroke-width:1.0;\"/><polygon fill=\"#FFFFFF\" points=\"372.85,66,353.85,73,353.85,59,372.85,66\" style=\"stroke:#181818;stroke-width:1.0;\"/><ellipse cx=\"348.15\" cy=\"71\" fill=\"#181818\" rx=\"2\" ry=\"2\" style=\"stroke:#181818;stroke-width:1.0;\"/><ellipse cx=\"348.15\" cy=\"61\" fill=\"#181818\" rx=\"2\" ry=\"2\" style=\"stroke:#181818;stroke-width:1.0;\"/></a></g><!--MD5=[1ede7a1b612f661fe9310bd7f651e327]\n",
       "@startuml\r\n",
       "skin sysmlbw\r\n",
       "skinparam monochrome true\r\n",
       "skinparam wrapWidth 300\r\n",
       "hide circle\r\n",
       "left to right direction\r\n",
       "\r\n",
       "package \"ItemDefinition\" as E1  [[psysml:41edd6a9-aca5-4928-b4bc-4123a22af7c8 ]]  {\r\n",
       "comp def \"ElectricPower\" as E2  <<(T,blue) item  def>> [[psysml:e075015f-a864-40c8-9489-7f224983a373 ]] {\r\n",
       "}\r\n",
       "comp def \"Oven\" as E3  <<(T,blue) part  def>> [[psysml:2dd7b489-78ff-40b9-99a4-557e9afce93e ]] {\r\n",
       "}\r\n",
       "comp usage \"power: ElectricPower  \" as E4  <<(T,blue) item>> [[psysml:e3fc4fa0-60de-4906-a12a-b3d68ea04583 ]] {\r\n",
       "}\r\n",
       "}\r\n",
       "E3 *- - E4 [[psysml:e2f5ae7d-a907-4219-8e07-a30d443442e8 ]] \r\n",
       "E4 - -:|> E2 [[psysml:85bd0dc7-4b47-4155-9456-e69cfacab40e ]] \r\n",
       "@enduml\r\n",
       "\n",
       "PlantUML version 1.2022.7(Mon Aug 22 11:01:30 MDT 2022)\n",
       "(EPL source distribution)\n",
       "Java Runtime: Java(TM) SE Runtime Environment\n",
       "JVM: Java HotSpot(TM) 64-Bit Server VM\n",
       "Default Encoding: UTF-8\n",
       "Language: en\n",
       "Country: US\n",
       "--></g></svg>"
      ]
     },
     "execution_count": 68,
     "metadata": {},
     "output_type": "execute_result"
    }
   ],
   "source": [
    "%viz --view=default --style=LR ItemDefinition"
   ]
  },
  {
   "cell_type": "markdown",
   "id": "aeb04e47",
   "metadata": {},
   "source": [
    "### ConstraintDefinition.sysml\n",
    "**Constraint**\n",
    "- Occurrence defining a logical predicate (logic statement)\n",
    "- Condition for occurrence to happen\n",
    "- Eg.\n",
    "    - Model: Oven\n",
    "    - Constraint for cooking occurrence\n",
    "        - Temperature > 260ºC (500ºF, 533 K)\n",
    "            - If true: CookingOccurrence\n",
    "- Visually, constraint definition includes logical predicate as operator expression with reference arrow connecting part definition to constraint definition"
   ]
  },
  {
   "cell_type": "code",
   "execution_count": 69,
   "id": "ecca65fc",
   "metadata": {
    "vscode": {
     "languageId": "sysml"
    }
   },
   "outputs": [
    {
     "data": {
      "text/plain": [
       "Package ConstraintDefinition (bbf1dffb-db93-45ae-8687-f7e474dbbd95)\n"
      ]
     },
     "execution_count": 69,
     "metadata": {},
     "output_type": "execute_result"
    }
   ],
   "source": [
    "package ConstraintDefinition{\n",
    "    private import SI::*;\n",
    "\n",
    "    part def Oven{\n",
    "        attribute temperature: TemperatureDifferenceUnit;\n",
    "        // TemperatureDifferenceUnit is defined in SI Library\n",
    "    }\n",
    "\n",
    "    constraint def CookingTemperature{\n",
    "        testOven: Oven;\n",
    "        testOven.temperature == 533 [K]\n",
    "        // Square bracket notes that unit is defined in library used for attribute\n",
    "    }\n",
    "}"
   ]
  },
  {
   "cell_type": "code",
   "execution_count": 70,
   "id": "69a623b7",
   "metadata": {
    "vscode": {
     "languageId": "sysml"
    }
   },
   "outputs": [
    {
     "data": {
      "image/svg+xml": [
       "<?xml version=\"1.0\" encoding=\"UTF-8\" standalone=\"no\"?><svg xmlns=\"http://www.w3.org/2000/svg\" xmlns:xlink=\"http://www.w3.org/1999/xlink\" contentStyleType=\"text/css\" height=\"293px\" preserveAspectRatio=\"none\" style=\"width:357px;height:293px;background:#FFFFFF;\" version=\"1.1\" viewBox=\"0 0 357 293\" width=\"357px\" zoomAndPan=\"magnify\"><defs/><g><!--MD5=[fbc87193dbaf4d95561dea2c320d4a47]\n",
       "cluster E1--><g id=\"cluster_E1\"><a href=\"psysml:bbf1dffb-db93-45ae-8687-f7e474dbbd95\" target=\"_top\" title=\"psysml:bbf1dffb-db93-45ae-8687-f7e474dbbd95\" xlink:actuate=\"onRequest\" xlink:href=\"psysml:bbf1dffb-db93-45ae-8687-f7e474dbbd95\" xlink:show=\"new\" xlink:title=\"psysml:bbf1dffb-db93-45ae-8687-f7e474dbbd95\" xlink:type=\"simple\"><polygon fill=\"none\" points=\"16,6,171,6,178,28.4883,340,28.4883,340,286,16,286,16,6\" style=\"stroke:#000000;stroke-width:1.5;\"/><line style=\"stroke:#000000;stroke-width:1.5;\" x1=\"16\" x2=\"178\" y1=\"28.4883\" y2=\"28.4883\"/><text fill=\"#000000\" font-family=\"sans-serif\" font-size=\"14\" font-weight=\"bold\" lengthAdjust=\"spacing\" textLength=\"149\" x=\"20\" y=\"21.5352\">ConstraintDefinition</text></a></g><!--MD5=[b4997ac47864f28c2f74865a473b2911]\n",
       "class E2--><a href=\"psysml:587abe7b-ffce-42b1-b14b-0b76cafa2db3\" target=\"_top\" title=\"psysml:587abe7b-ffce-42b1-b14b-0b76cafa2db3\" xlink:actuate=\"onRequest\" xlink:href=\"psysml:587abe7b-ffce-42b1-b14b-0b76cafa2db3\" xlink:show=\"new\" xlink:title=\"psysml:587abe7b-ffce-42b1-b14b-0b76cafa2db3\" xlink:type=\"simple\"><g id=\"elem_E2\"><rect fill=\"#FFFFFF\" height=\"75.7047\" id=\"E2\" style=\"stroke:#181818;stroke-width:0.5;\" width=\"292\" x=\"32\" y=\"194\"/><text fill=\"#000000\" font-family=\"sans-serif\" font-size=\"12\" font-style=\"italic\" lengthAdjust=\"spacing\" textLength=\"63\" x=\"146.5\" y=\"210.6016\">«part  def»</text><text fill=\"#000000\" font-family=\"sans-serif\" font-size=\"14\" lengthAdjust=\"spacing\" textLength=\"35\" x=\"160.5\" y=\"226.668\">Oven</text><line style=\"stroke:#181818;stroke-width:0.5;\" x1=\"33\" x2=\"323\" y1=\"234.6211\" y2=\"234.6211\"/><text fill=\"#000000\" font-family=\"sans-serif\" font-size=\"14\" lengthAdjust=\"spacing\" textLength=\"280\" x=\"38\" y=\"262.7516\">temperature: TemperatureDifferenceUnit</text><text fill=\"#000000\" font-family=\"sans-serif\" font-size=\"14\" font-style=\"italic\" lengthAdjust=\"spacing\" textLength=\"66\" x=\"145\" y=\"247.4121\">attributes</text></g></a><!--MD5=[09b614a08d8cba4a07c9adeb5e0fee81]\n",
       "class E3--><a href=\"psysml:35d08f11-2990-4160-a015-f6738fd57fb2\" target=\"_top\" title=\"psysml:35d08f11-2990-4160-a015-f6738fd57fb2\" xlink:actuate=\"onRequest\" xlink:href=\"psysml:35d08f11-2990-4160-a015-f6738fd57fb2\" xlink:show=\"new\" xlink:title=\"psysml:35d08f11-2990-4160-a015-f6738fd57fb2\" xlink:type=\"simple\"><g id=\"elem_E3\"><rect fill=\"#FFFFFF\" height=\"75.7047\" id=\"E3\" style=\"stroke:#181818;stroke-width:0.5;\" width=\"259\" x=\"48.5\" y=\"41\"/><text fill=\"#000000\" font-family=\"sans-serif\" font-size=\"12\" font-style=\"italic\" lengthAdjust=\"spacing\" textLength=\"95\" x=\"130.5\" y=\"57.6016\">«constraint  def»</text><text fill=\"#000000\" font-family=\"sans-serif\" font-size=\"14\" lengthAdjust=\"spacing\" textLength=\"147\" x=\"104.5\" y=\"73.668\">CookingTemperature</text><line style=\"stroke:#181818;stroke-width:0.5;\" x1=\"49.5\" x2=\"306.5\" y1=\"81.6211\" y2=\"81.6211\"/><text fill=\"#000000\" font-family=\"sans-serif\" font-size=\"14\" lengthAdjust=\"spacing\" textLength=\"247\" x=\"54.5\" y=\"109.7516\">{ testOven.temperature == 533 [K] }</text><text fill=\"#000000\" font-family=\"sans-serif\" font-size=\"14\" font-style=\"italic\" lengthAdjust=\"spacing\" textLength=\"147\" x=\"104.5\" y=\"94.4121\">operator expressions</text></g></a><!--MD5=[b900ca4392aad7a68aec1e9245e10ab9]\n",
       "reverse link E3 to E2--><g id=\"link_E3_E2\"><a href=\"psysml:b744ee1f-ae7a-43bc-9169-4ce317d8db08\" target=\"_top\" title=\"psysml:b744ee1f-ae7a-43bc-9169-4ce317d8db08\" xlink:actuate=\"onRequest\" xlink:href=\"psysml:b744ee1f-ae7a-43bc-9169-4ce317d8db08\" xlink:show=\"new\" xlink:title=\"psysml:b744ee1f-ae7a-43bc-9169-4ce317d8db08\" xlink:type=\"simple\"><path d=\"M178,130.46 C178,151.18 178,174.74 178,193.84 \" fill=\"none\" id=\"E3-backto-E2\" style=\"stroke:#181818;stroke-width:1.0;\"/><polygon fill=\"none\" points=\"178,117.33,174,123.33,178,129.33,182,123.33,178,117.33\" style=\"stroke:#181818;stroke-width:1.0;\"/><text fill=\"#000000\" font-family=\"sans-serif\" font-size=\"13\" lengthAdjust=\"spacing\" textLength=\"56\" x=\"179\" y=\"160.5684\">testOven</text></a></g><!--MD5=[67e9295934e456484e321f21ddc67125]\n",
       "@startuml\r\n",
       "skin sysmlbw\r\n",
       "skinparam monochrome true\r\n",
       "skinparam wrapWidth 300\r\n",
       "hide circle\r\n",
       "\r\n",
       "package \"ConstraintDefinition\" as E1  [[psysml:bbf1dffb-db93-45ae-8687-f7e474dbbd95 ]]  {\r\n",
       "comp def \"Oven\" as E2  <<(T,blue) part  def>> [[psysml:587abe7b-ffce-42b1-b14b-0b76cafa2db3 ]] {\r\n",
       "##//attributes//##\r\n",
       "temperature: TemperatureDifferenceUnit\r\n",
       "}\r\n",
       "comp def \"CookingTemperature\" as E3  <<(T,blue) constraint  def>> [[psysml:35d08f11-2990-4160-a015-f6738fd57fb2 ]] {\r\n",
       "##//operator expressions//##\r\n",
       " { testOven.temperature <U+003D><U+003D> 533 [K] }\r\n",
       "}\r\n",
       "}\r\n",
       "E3 o- - E2 [[psysml:b744ee1f-ae7a-43bc-9169-4ce317d8db08 ]] : testOven\r\n",
       "@enduml\r\n",
       "\n",
       "PlantUML version 1.2022.7(Mon Aug 22 11:01:30 MDT 2022)\n",
       "(EPL source distribution)\n",
       "Java Runtime: Java(TM) SE Runtime Environment\n",
       "JVM: Java HotSpot(TM) 64-Bit Server VM\n",
       "Default Encoding: UTF-8\n",
       "Language: en\n",
       "Country: US\n",
       "--></g></svg>"
      ]
     },
     "execution_count": 70,
     "metadata": {},
     "output_type": "execute_result"
    }
   ],
   "source": [
    "%viz --view=default ConstraintDefinition"
   ]
  },
  {
   "cell_type": "markdown",
   "id": "b21c5dae",
   "metadata": {},
   "source": [
    "## 03-02 Requirement"
   ]
  },
  {
   "cell_type": "markdown",
   "id": "fa88c3c9",
   "metadata": {},
   "source": [
    "### RequirementConstraint.sysml\n",
    "**Requirement**\n",
    "- Represents constraints a solution must satisfy\n",
    "    - Contains constraint usages, referred to as features\n",
    "    - Always has subject: entity on which req is specified\n",
    "- Eg.\n",
    "    - Model: Oven\n",
    "    - Req: Oven must be able to heat up to min 533 [K]\n",
    "        - Subject: Oven\n",
    "        - Constraint: Temperature == 533 [K]"
   ]
  },
  {
   "cell_type": "code",
   "execution_count": 71,
   "id": "1828bf97",
   "metadata": {
    "vscode": {
     "languageId": "sysml"
    }
   },
   "outputs": [
    {
     "data": {
      "text/plain": [
       "Package ConstraintDef (6c336b3d-cb24-4972-9ced-148d0fa0340e)\n"
      ]
     },
     "execution_count": 71,
     "metadata": {},
     "output_type": "execute_result"
    }
   ],
   "source": [
    "package ConstraintDef{\n",
    "    private import SI::*;\n",
    "\n",
    "    part def Oven{\n",
    "        attribute temperature: TemperatureDifferenceUnit;\n",
    "    }\n",
    "\n",
    "    constraint def CookingTemperature{\n",
    "        testOven: Oven;\n",
    "        testOven.temperature == 533 [K]\n",
    "    }\n",
    "    \n",
    "}"
   ]
  },
  {
   "cell_type": "markdown",
   "id": "753dae63",
   "metadata": {},
   "source": [
    "### RequirementDefinition.sysml"
   ]
  },
  {
   "cell_type": "code",
   "execution_count": 72,
   "id": "9f17c6bb",
   "metadata": {
    "vscode": {
     "languageId": "sysml"
    }
   },
   "outputs": [
    {
     "data": {
      "text/plain": [
       "Package RequirementDefinition (8ad4c2b6-cf53-4872-8018-5887885a9422)\n"
      ]
     },
     "execution_count": 72,
     "metadata": {},
     "output_type": "execute_result"
    }
   ],
   "source": [
    "package RequirementDefinition{\n",
    "    private import ConstraintDef::*;\n",
    "\n",
    "    requirement def <Req01> CookingTemperatureRequirement {\n",
    "        doc\n",
    "        /* The oven shall heat up to at least 533 K.\n",
    "        */\n",
    "        subject testOven: Oven;\n",
    "        require constraint CookingTemperature;\n",
    "        // KEY WORD: `require`\n",
    "        \n",
    "    }\n",
    "}"
   ]
  },
  {
   "cell_type": "code",
   "execution_count": 73,
   "id": "8b835a56",
   "metadata": {
    "vscode": {
     "languageId": "sysml"
    }
   },
   "outputs": [
    {
     "data": {
      "image/svg+xml": [
       "<?xml version=\"1.0\" encoding=\"UTF-8\" standalone=\"no\"?><svg xmlns=\"http://www.w3.org/2000/svg\" xmlns:xlink=\"http://www.w3.org/1999/xlink\" contentStyleType=\"text/css\" height=\"198px\" preserveAspectRatio=\"none\" style=\"width:657px;height:198px;background:#FFFFFF;\" version=\"1.1\" viewBox=\"0 0 657 198\" width=\"657px\" zoomAndPan=\"magnify\"><defs/><g><!--MD5=[fbc87193dbaf4d95561dea2c320d4a47]\n",
       "cluster E1--><g id=\"cluster_E1\"><a href=\"psysml:8ad4c2b6-cf53-4872-8018-5887885a9422\" target=\"_top\" title=\"psysml:8ad4c2b6-cf53-4872-8018-5887885a9422\" xlink:actuate=\"onRequest\" xlink:href=\"psysml:8ad4c2b6-cf53-4872-8018-5887885a9422\" xlink:show=\"new\" xlink:title=\"psysml:8ad4c2b6-cf53-4872-8018-5887885a9422\" xlink:type=\"simple\"><polygon fill=\"none\" points=\"16,6,187,6,194,28.4883,640,28.4883,640,191,16,191,16,6\" style=\"stroke:#000000;stroke-width:1.5;\"/><line style=\"stroke:#000000;stroke-width:1.5;\" x1=\"16\" x2=\"194\" y1=\"28.4883\" y2=\"28.4883\"/><text fill=\"#000000\" font-family=\"sans-serif\" font-size=\"14\" font-weight=\"bold\" lengthAdjust=\"spacing\" textLength=\"165\" x=\"20\" y=\"21.5352\">RequirementDefinition</text></a></g><!--MD5=[b4997ac47864f28c2f74865a473b2911]\n",
       "class E2--><a href=\"psysml:0a89931d-30ab-4876-a38d-a8d24ac5f3d0\" target=\"_top\" title=\"psysml:0a89931d-30ab-4876-a38d-a8d24ac5f3d0\" xlink:actuate=\"onRequest\" xlink:href=\"psysml:0a89931d-30ab-4876-a38d-a8d24ac5f3d0\" xlink:show=\"new\" xlink:title=\"psysml:0a89931d-30ab-4876-a38d-a8d24ac5f3d0\" xlink:type=\"simple\"><g id=\"elem_E2\"><rect fill=\"#FFFFFF\" height=\"75.7047\" id=\"E2\" style=\"stroke:#181818;stroke-width:0.5;\" width=\"311\" x=\"32\" y=\"85\"/><text fill=\"#000000\" font-family=\"sans-serif\" font-size=\"12\" font-style=\"italic\" lengthAdjust=\"spacing\" textLength=\"110\" x=\"132.5\" y=\"101.6016\">«requirement  def»</text><text fill=\"#000000\" font-family=\"sans-serif\" font-size=\"14\" lengthAdjust=\"spacing\" textLength=\"305\" x=\"35\" y=\"117.668\">&lt;Req01&gt; CookingTemperatureRequirement</text><line style=\"stroke:#181818;stroke-width:0.5;\" x1=\"33\" x2=\"342\" y1=\"125.6211\" y2=\"125.6211\"/><text fill=\"#000000\" font-family=\"sans-serif\" font-size=\"14\" lengthAdjust=\"spacing\" textLength=\"274\" x=\"38\" y=\"153.7516\">The oven shall heat up to at least 533 K.</text><text fill=\"#000000\" font-family=\"sans-serif\" font-size=\"14\" font-style=\"italic\" lengthAdjust=\"spacing\" textLength=\"25\" x=\"175\" y=\"138.4121\">doc</text></g></a><!--MD5=[09b614a08d8cba4a07c9adeb5e0fee81]\n",
       "class E3--><a href=\"psysml:6a1a19de-e570-49de-b082-6fc315d472e2\" target=\"_top\" title=\"psysml:6a1a19de-e570-49de-b082-6fc315d472e2\" xlink:actuate=\"onRequest\" xlink:href=\"psysml:6a1a19de-e570-49de-b082-6fc315d472e2\" xlink:show=\"new\" xlink:title=\"psysml:6a1a19de-e570-49de-b082-6fc315d472e2\" xlink:type=\"simple\"><g id=\"elem_E3\"><rect fill=\"#FFFFFF\" height=\"48.6211\" id=\"E3\" rx=\"10\" ry=\"10\" style=\"stroke:#181818;stroke-width:0.5;\" width=\"66\" x=\"510.5\" y=\"125.5\"/><text fill=\"#000000\" font-family=\"sans-serif\" font-size=\"12\" font-style=\"italic\" lengthAdjust=\"spacing\" textLength=\"54\" x=\"516.5\" y=\"142.1016\">«subject»</text><text fill=\"#000000\" font-family=\"sans-serif\" font-size=\"14\" lengthAdjust=\"spacing\" textLength=\"60\" x=\"513.5\" y=\"158.168\">testOven</text><line style=\"stroke:#181818;stroke-width:0.5;\" x1=\"511.5\" x2=\"575.5\" y1=\"166.1211\" y2=\"166.1211\"/></g></a><!--MD5=[ebbe1d658d1005bcc118a6aa81145e00]\n",
       "class E4--><a href=\"psysml:8215548a-8077-43ff-bc21-ef521cfcff25\" target=\"_top\" title=\"psysml:8215548a-8077-43ff-bc21-ef521cfcff25\" xlink:actuate=\"onRequest\" xlink:href=\"psysml:8215548a-8077-43ff-bc21-ef521cfcff25\" xlink:show=\"new\" xlink:title=\"psysml:8215548a-8077-43ff-bc21-ef521cfcff25\" xlink:type=\"simple\"><g id=\"elem_E4\"><rect fill=\"#FFFFFF\" height=\"48.6211\" id=\"E4\" rx=\"10\" ry=\"10\" style=\"stroke:#181818;stroke-width:0.5;\" width=\"161\" x=\"463\" y=\"41.5\"/><text fill=\"#000000\" font-family=\"sans-serif\" font-size=\"12\" font-style=\"italic\" lengthAdjust=\"spacing\" textLength=\"68\" x=\"509.5\" y=\"58.1016\">«constraint»</text><text fill=\"#000000\" font-family=\"sans-serif\" font-size=\"14\" lengthAdjust=\"spacing\" textLength=\"147\" x=\"466\" y=\"74.168\">CookingTemperature</text><line style=\"stroke:#181818;stroke-width:0.5;\" x1=\"464\" x2=\"623\" y1=\"82.1211\" y2=\"82.1211\"/></g></a><!--MD5=[209b3feb70ccb6233bfe1053d122c12c]\n",
       "reverse link E2 to E3--><g id=\"link_E2_E3\"><a href=\"psysml:b779a25e-4451-4273-90d7-bf5cf407baa4\" target=\"_top\" title=\"psysml:b779a25e-4451-4273-90d7-bf5cf407baa4\" xlink:actuate=\"onRequest\" xlink:href=\"psysml:b779a25e-4451-4273-90d7-bf5cf407baa4\" xlink:show=\"new\" xlink:title=\"psysml:b779a25e-4451-4273-90d7-bf5cf407baa4\" xlink:type=\"simple\"><path d=\"M356.49,135.81 C414.95,140.27 474.72,144.83 510.22,147.54 \" fill=\"none\" id=\"E2-backto-E3\" style=\"stroke:#181818;stroke-width:1.0;\"/><polygon fill=\"none\" points=\"343.25,134.8,348.9293,139.2436,355.2154,135.7103,349.5361,131.2667,343.25,134.8\" style=\"stroke:#181818;stroke-width:1.0;\"/></a></g><!--MD5=[4d03bb2d0377dc85ccfab60ff574652b]\n",
       "link E2 to E4--><g id=\"link_E2_E4\"><a href=\"psysml:d9d91c00-8cfe-4f04-a740-0f4b4b4f442a\" target=\"_top\" title=\"psysml:d9d91c00-8cfe-4f04-a740-0f4b4b4f442a\" xlink:actuate=\"onRequest\" xlink:href=\"psysml:d9d91c00-8cfe-4f04-a740-0f4b4b4f442a\" xlink:show=\"new\" xlink:title=\"psysml:d9d91c00-8cfe-4f04-a740-0f4b4b4f442a\" xlink:type=\"simple\"><path d=\"M343.25,98.08 C382.62,91.74 423.48,85.16 457.87,79.63 \" fill=\"none\" id=\"E2-to-E4\" style=\"stroke:#181818;stroke-width:1.0;\"/><polygon fill=\"#181818\" points=\"462.9,78.82,453.3765,76.3093,457.9642,79.6189,454.6547,84.2066,462.9,78.82\" style=\"stroke:#181818;stroke-width:1.0;\"/><text fill=\"#000000\" font-family=\"sans-serif\" font-size=\"13\" lengthAdjust=\"spacing\" textLength=\"58\" x=\"374\" y=\"81.5684\">«require»</text></a></g><!--MD5=[34ea6782d817250da87170c4f55507bd]\n",
       "@startuml\r\n",
       "skin sysmlbw\r\n",
       "skinparam monochrome true\r\n",
       "skinparam wrapWidth 300\r\n",
       "hide circle\r\n",
       "left to right direction\r\n",
       "\r\n",
       "package \"RequirementDefinition\" as E1  [[psysml:8ad4c2b6-cf53-4872-8018-5887885a9422 ]]  {\r\n",
       "comp def \"~<Req01> CookingTemperatureRequirement\" as E2  <<(T,blue) requirement  def>> [[psysml:0a89931d-30ab-4876-a38d-a8d24ac5f3d0 ]] {\r\n",
       "##//doc//##\r\n",
       "The oven shall heat up to at least 533 K.\r\n",
       "}\r\n",
       "comp usage \"testOven\" as E3 <<subject>>[[psysml:6a1a19de-e570-49de-b082-6fc315d472e2 ]] {\r\n",
       "}\r\n",
       "comp usage \"CookingTemperature  \" as E4  <<(T,blue) constraint>> [[psysml:8215548a-8077-43ff-bc21-ef521cfcff25 ]] {\r\n",
       "}\r\n",
       "}\r\n",
       "E2 o- - E3 [[psysml:b779a25e-4451-4273-90d7-bf5cf407baa4 ]] \r\n",
       "E2 - -> E4 [[psysml:d9d91c00-8cfe-4f04-a740-0f4b4b4f442a ]] : <<require>>\r\n",
       "@enduml\r\n",
       "\n",
       "PlantUML version 1.2022.7(Mon Aug 22 11:01:30 MDT 2022)\n",
       "(EPL source distribution)\n",
       "Java Runtime: Java(TM) SE Runtime Environment\n",
       "JVM: Java HotSpot(TM) 64-Bit Server VM\n",
       "Default Encoding: UTF-8\n",
       "Language: en\n",
       "Country: US\n",
       "--></g></svg>"
      ]
     },
     "execution_count": 73,
     "metadata": {},
     "output_type": "execute_result"
    }
   ],
   "source": [
    "%viz --view=default --style=LR RequirementDefinition"
   ]
  },
  {
   "cell_type": "markdown",
   "id": "98728688",
   "metadata": {},
   "source": [
    "- Note: This requirement assumes the oven is on\n",
    "    - Assumption has to be true for constraint's predicate to be tested\n",
    "    - This needs to be included as another constraint"
   ]
  },
  {
   "cell_type": "markdown",
   "id": "97c2f235",
   "metadata": {},
   "source": [
    "### RevisitConstraints.sysml"
   ]
  },
  {
   "cell_type": "code",
   "execution_count": 74,
   "id": "432e82cf",
   "metadata": {
    "vscode": {
     "languageId": "sysml"
    }
   },
   "outputs": [
    {
     "data": {
      "text/plain": [
       "Package RevisitConstraints (76e0a75a-a942-46d6-a8ab-f6df577a7a18)\n"
      ]
     },
     "execution_count": 74,
     "metadata": {},
     "output_type": "execute_result"
    }
   ],
   "source": [
    "package RevisitConstraints{\n",
    "    private import SI::*;\n",
    "    private import ScalarValues::Boolean;   // had to import bool value type\n",
    "\n",
    "    package RevisedConstraintDef{\n",
    "        part def Oven{\n",
    "            attribute temperature: TemperatureDifferenceUnit;\n",
    "            attribute isOn: Boolean;    // added attribute of on bool\n",
    "        }\n",
    "        \n",
    "        constraint def OvenIsOn{    // added constraint OvenIsOn with logic statement\n",
    "            testOven: Oven;\n",
    "            testOven.isOn == true\n",
    "        }\n",
    "\n",
    "        constraint def CookingTemperature{\n",
    "            testOven: Oven;\n",
    "            testOven.temperature == 533 [K]\n",
    "        }\n",
    "    }\n",
    "        \n",
    "}"
   ]
  },
  {
   "cell_type": "code",
   "execution_count": 75,
   "id": "27ed8b67",
   "metadata": {
    "vscode": {
     "languageId": "sysml"
    }
   },
   "outputs": [
    {
     "data": {
      "image/svg+xml": [
       "<?xml version=\"1.0\" encoding=\"UTF-8\" standalone=\"no\"?><svg xmlns=\"http://www.w3.org/2000/svg\" xmlns:xlink=\"http://www.w3.org/1999/xlink\" contentStyleType=\"text/css\" height=\"309px\" preserveAspectRatio=\"none\" style=\"width:543px;height:309px;background:#FFFFFF;\" version=\"1.1\" viewBox=\"0 0 543 309\" width=\"543px\" zoomAndPan=\"magnify\"><defs/><g><!--MD5=[fbc87193dbaf4d95561dea2c320d4a47]\n",
       "cluster E1--><g id=\"cluster_E1\"><a href=\"psysml:819f3416-816f-4e5e-bdda-0cc5f9f18a1e\" target=\"_top\" title=\"psysml:819f3416-816f-4e5e-bdda-0cc5f9f18a1e\" xlink:actuate=\"onRequest\" xlink:href=\"psysml:819f3416-816f-4e5e-bdda-0cc5f9f18a1e\" xlink:show=\"new\" xlink:title=\"psysml:819f3416-816f-4e5e-bdda-0cc5f9f18a1e\" xlink:type=\"simple\"><polygon fill=\"none\" points=\"16,6,179,6,186,28.4883,526,28.4883,526,302,16,302,16,6\" style=\"stroke:#000000;stroke-width:1.5;\"/><line style=\"stroke:#000000;stroke-width:1.5;\" x1=\"16\" x2=\"186\" y1=\"28.4883\" y2=\"28.4883\"/><text fill=\"#000000\" font-family=\"sans-serif\" font-size=\"14\" font-weight=\"bold\" lengthAdjust=\"spacing\" textLength=\"157\" x=\"20\" y=\"21.5352\">RevisedConstraintDef</text></a></g><!--MD5=[b4997ac47864f28c2f74865a473b2911]\n",
       "class E2--><a href=\"psysml:6bfb2c25-1c4f-4121-b712-be4758a54aa6\" target=\"_top\" title=\"psysml:6bfb2c25-1c4f-4121-b712-be4758a54aa6\" xlink:actuate=\"onRequest\" xlink:href=\"psysml:6bfb2c25-1c4f-4121-b712-be4758a54aa6\" xlink:show=\"new\" xlink:title=\"psysml:6bfb2c25-1c4f-4121-b712-be4758a54aa6\" xlink:type=\"simple\"><g id=\"elem_E2\"><rect fill=\"#FFFFFF\" height=\"92.193\" id=\"E2\" style=\"stroke:#181818;stroke-width:0.5;\" width=\"292\" x=\"152\" y=\"194\"/><text fill=\"#000000\" font-family=\"sans-serif\" font-size=\"12\" font-style=\"italic\" lengthAdjust=\"spacing\" textLength=\"63\" x=\"266.5\" y=\"210.6016\">«part  def»</text><text fill=\"#000000\" font-family=\"sans-serif\" font-size=\"14\" lengthAdjust=\"spacing\" textLength=\"35\" x=\"280.5\" y=\"226.668\">Oven</text><line style=\"stroke:#181818;stroke-width:0.5;\" x1=\"153\" x2=\"443\" y1=\"234.6211\" y2=\"234.6211\"/><text fill=\"#000000\" font-family=\"sans-serif\" font-size=\"14\" lengthAdjust=\"spacing\" textLength=\"94\" x=\"158\" y=\"262.7516\">isOn: Boolean</text><text fill=\"#000000\" font-family=\"sans-serif\" font-size=\"14\" lengthAdjust=\"spacing\" textLength=\"280\" x=\"158\" y=\"279.2398\">temperature: TemperatureDifferenceUnit</text><text fill=\"#000000\" font-family=\"sans-serif\" font-size=\"14\" font-style=\"italic\" lengthAdjust=\"spacing\" textLength=\"66\" x=\"265\" y=\"247.4121\">attributes</text></g></a><!--MD5=[09b614a08d8cba4a07c9adeb5e0fee81]\n",
       "class E3--><a href=\"psysml:3434978b-45ac-42e6-bf00-3d140bc22799\" target=\"_top\" title=\"psysml:3434978b-45ac-42e6-bf00-3d140bc22799\" xlink:actuate=\"onRequest\" xlink:href=\"psysml:3434978b-45ac-42e6-bf00-3d140bc22799\" xlink:show=\"new\" xlink:title=\"psysml:3434978b-45ac-42e6-bf00-3d140bc22799\" xlink:type=\"simple\"><g id=\"elem_E3\"><rect fill=\"#FFFFFF\" height=\"75.7047\" id=\"E3\" style=\"stroke:#181818;stroke-width:0.5;\" width=\"183\" x=\"326.5\" y=\"41\"/><text fill=\"#000000\" font-family=\"sans-serif\" font-size=\"12\" font-style=\"italic\" lengthAdjust=\"spacing\" textLength=\"95\" x=\"370.5\" y=\"57.6016\">«constraint  def»</text><text fill=\"#000000\" font-family=\"sans-serif\" font-size=\"14\" lengthAdjust=\"spacing\" textLength=\"66\" x=\"385\" y=\"73.668\">OvenIsOn</text><line style=\"stroke:#181818;stroke-width:0.5;\" x1=\"327.5\" x2=\"508.5\" y1=\"81.6211\" y2=\"81.6211\"/><text fill=\"#000000\" font-family=\"sans-serif\" font-size=\"14\" lengthAdjust=\"spacing\" textLength=\"171\" x=\"332.5\" y=\"109.7516\">{ testOven.isOn == true }</text><text fill=\"#000000\" font-family=\"sans-serif\" font-size=\"14\" font-style=\"italic\" lengthAdjust=\"spacing\" textLength=\"147\" x=\"344.5\" y=\"94.4121\">operator expressions</text></g></a><!--MD5=[ebbe1d658d1005bcc118a6aa81145e00]\n",
       "class E4--><a href=\"psysml:6b686dcc-3d52-4a7a-8cdd-75d922213690\" target=\"_top\" title=\"psysml:6b686dcc-3d52-4a7a-8cdd-75d922213690\" xlink:actuate=\"onRequest\" xlink:href=\"psysml:6b686dcc-3d52-4a7a-8cdd-75d922213690\" xlink:show=\"new\" xlink:title=\"psysml:6b686dcc-3d52-4a7a-8cdd-75d922213690\" xlink:type=\"simple\"><g id=\"elem_E4\"><rect fill=\"#FFFFFF\" height=\"75.7047\" id=\"E4\" style=\"stroke:#181818;stroke-width:0.5;\" width=\"259\" x=\"32.5\" y=\"41\"/><text fill=\"#000000\" font-family=\"sans-serif\" font-size=\"12\" font-style=\"italic\" lengthAdjust=\"spacing\" textLength=\"95\" x=\"114.5\" y=\"57.6016\">«constraint  def»</text><text fill=\"#000000\" font-family=\"sans-serif\" font-size=\"14\" lengthAdjust=\"spacing\" textLength=\"147\" x=\"88.5\" y=\"73.668\">CookingTemperature</text><line style=\"stroke:#181818;stroke-width:0.5;\" x1=\"33.5\" x2=\"290.5\" y1=\"81.6211\" y2=\"81.6211\"/><text fill=\"#000000\" font-family=\"sans-serif\" font-size=\"14\" lengthAdjust=\"spacing\" textLength=\"247\" x=\"38.5\" y=\"109.7516\">{ testOven.temperature == 533 [K] }</text><text fill=\"#000000\" font-family=\"sans-serif\" font-size=\"14\" font-style=\"italic\" lengthAdjust=\"spacing\" textLength=\"147\" x=\"88.5\" y=\"94.4121\">operator expressions</text></g></a><!--MD5=[b900ca4392aad7a68aec1e9245e10ab9]\n",
       "reverse link E3 to E2--><g id=\"link_E3_E2\"><a href=\"psysml:3ad9cec5-fee8-436e-8ca0-74063675ec5e\" target=\"_top\" title=\"psysml:3ad9cec5-fee8-436e-8ca0-74063675ec5e\" xlink:actuate=\"onRequest\" xlink:href=\"psysml:3ad9cec5-fee8-436e-8ca0-74063675ec5e\" xlink:show=\"new\" xlink:title=\"psysml:3ad9cec5-fee8-436e-8ca0-74063675ec5e\" xlink:type=\"simple\"><path d=\"M381.89,127.85 C366.11,148.75 347.71,173.14 332.16,193.74 \" fill=\"none\" id=\"E3-backto-E2\" style=\"stroke:#181818;stroke-width:1.0;\"/><polygon fill=\"none\" points=\"389.87,117.28,383.0621,119.6576,382.6384,126.8562,389.4463,124.4786,389.87,117.28\" style=\"stroke:#181818;stroke-width:1.0;\"/><text fill=\"#000000\" font-family=\"sans-serif\" font-size=\"13\" lengthAdjust=\"spacing\" textLength=\"56\" x=\"366\" y=\"160.5684\">testOven</text></a></g><!--MD5=[ddeed8deb2209213b62e6cfabaa108b2]\n",
       "reverse link E4 to E2--><g id=\"link_E4_E2\"><a href=\"psysml:46df6776-ff28-4bff-aa40-b6f19c23dc2e\" target=\"_top\" title=\"psysml:46df6776-ff28-4bff-aa40-b6f19c23dc2e\" xlink:actuate=\"onRequest\" xlink:href=\"psysml:46df6776-ff28-4bff-aa40-b6f19c23dc2e\" xlink:show=\"new\" xlink:title=\"psysml:46df6776-ff28-4bff-aa40-b6f19c23dc2e\" xlink:type=\"simple\"><path d=\"M202.44,127.28 C220.42,148.3 241.5,172.95 259.28,193.74 \" fill=\"none\" id=\"E4-backto-E2\" style=\"stroke:#181818;stroke-width:1.0;\"/><polygon fill=\"none\" points=\"193.89,117.28,194.756,124.4389,201.6973,126.3929,200.8313,119.234,193.89,117.28\" style=\"stroke:#181818;stroke-width:1.0;\"/><text fill=\"#000000\" font-family=\"sans-serif\" font-size=\"13\" lengthAdjust=\"spacing\" textLength=\"56\" x=\"231\" y=\"160.5684\">testOven</text></a></g><!--MD5=[0553679ff88e8f5c2840c18bbf28bcfc]\n",
       "@startuml\r\n",
       "skin sysmlbw\r\n",
       "skinparam monochrome true\r\n",
       "skinparam wrapWidth 300\r\n",
       "hide circle\r\n",
       "\r\n",
       "package \"RevisedConstraintDef\" as E1  [[psysml:819f3416-816f-4e5e-bdda-0cc5f9f18a1e ]]  {\r\n",
       "comp def \"Oven\" as E2  <<(T,blue) part  def>> [[psysml:6bfb2c25-1c4f-4121-b712-be4758a54aa6 ]] {\r\n",
       "##//attributes//##\r\n",
       "isOn: Boolean\r\n",
       "temperature: TemperatureDifferenceUnit\r\n",
       "}\r\n",
       "comp def \"OvenIsOn\" as E3  <<(T,blue) constraint  def>> [[psysml:3434978b-45ac-42e6-bf00-3d140bc22799 ]] {\r\n",
       "##//operator expressions//##\r\n",
       " { testOven.isOn <U+003D><U+003D> true }\r\n",
       "}\r\n",
       "comp def \"CookingTemperature\" as E4  <<(T,blue) constraint  def>> [[psysml:6b686dcc-3d52-4a7a-8cdd-75d922213690 ]] {\r\n",
       "##//operator expressions//##\r\n",
       " { testOven.temperature <U+003D><U+003D> 533 [K] }\r\n",
       "}\r\n",
       "}\r\n",
       "E3 o- - E2 [[psysml:3ad9cec5-fee8-436e-8ca0-74063675ec5e ]] : testOven\r\n",
       "E4 o- - E2 [[psysml:46df6776-ff28-4bff-aa40-b6f19c23dc2e ]] : testOven\r\n",
       "@enduml\r\n",
       "\n",
       "PlantUML version 1.2022.7(Mon Aug 22 11:01:30 MDT 2022)\n",
       "(EPL source distribution)\n",
       "Java Runtime: Java(TM) SE Runtime Environment\n",
       "JVM: Java HotSpot(TM) 64-Bit Server VM\n",
       "Default Encoding: UTF-8\n",
       "Language: en\n",
       "Country: US\n",
       "--></g></svg>"
      ]
     },
     "execution_count": 75,
     "metadata": {},
     "output_type": "execute_result"
    }
   ],
   "source": [
    "%viz --view=default RevisitConstraints::RevisedConstraintDef"
   ]
  },
  {
   "cell_type": "markdown",
   "id": "98a6adb9",
   "metadata": {},
   "source": [
    "### RevisitRequirementDefinition.sysml"
   ]
  },
  {
   "cell_type": "code",
   "execution_count": 76,
   "id": "a2f2f3fd",
   "metadata": {
    "vscode": {
     "languageId": "sysml"
    }
   },
   "outputs": [
    {
     "data": {
      "text/plain": [
       "Package RevisitRequirementDefinition (423121d6-2816-4798-9e42-582c578a1f0b)\n"
      ]
     },
     "execution_count": 76,
     "metadata": {},
     "output_type": "execute_result"
    }
   ],
   "source": [
    "package RevisitRequirementDefinition{\n",
    "    private import RevisitConstraints::RevisedConstraintDef::*;\n",
    "\n",
    "    requirement def <Req01> CookingTemperatureRequirement {\n",
    "        doc\n",
    "        /* Assuming the oven is on, \n",
    "        * The oven shall heat up to at least 533 K.\n",
    "        */\n",
    "        subject testOven: Oven;\n",
    "        assume constraint OvenIsOn;\n",
    "        require constraint CookingTemperature;\n",
    "        // KEY WORD: `require`\n",
    "        \n",
    "    }\n",
    "}"
   ]
  },
  {
   "cell_type": "code",
   "execution_count": 77,
   "id": "1eb57eda",
   "metadata": {
    "vscode": {
     "languageId": "sysml"
    }
   },
   "outputs": [
    {
     "data": {
      "image/svg+xml": [
       "<?xml version=\"1.0\" encoding=\"UTF-8\" standalone=\"no\"?><svg xmlns=\"http://www.w3.org/2000/svg\" xmlns:xlink=\"http://www.w3.org/1999/xlink\" contentStyleType=\"text/css\" height=\"282px\" preserveAspectRatio=\"none\" style=\"width:443px;height:282px;background:#FFFFFF;\" version=\"1.1\" viewBox=\"0 0 443 282\" width=\"443px\" zoomAndPan=\"magnify\"><defs/><g><!--MD5=[fbc87193dbaf4d95561dea2c320d4a47]\n",
       "cluster E1--><g id=\"cluster_E1\"><a href=\"psysml:423121d6-2816-4798-9e42-582c578a1f0b\" target=\"_top\" title=\"psysml:423121d6-2816-4798-9e42-582c578a1f0b\" xlink:actuate=\"onRequest\" xlink:href=\"psysml:423121d6-2816-4798-9e42-582c578a1f0b\" xlink:show=\"new\" xlink:title=\"psysml:423121d6-2816-4798-9e42-582c578a1f0b\" xlink:type=\"simple\"><polygon fill=\"none\" points=\"16,6,237,6,244,28.4883,426,28.4883,426,275,16,275,16,6\" style=\"stroke:#000000;stroke-width:1.5;\"/><line style=\"stroke:#000000;stroke-width:1.5;\" x1=\"16\" x2=\"244\" y1=\"28.4883\" y2=\"28.4883\"/><text fill=\"#000000\" font-family=\"sans-serif\" font-size=\"14\" font-weight=\"bold\" lengthAdjust=\"spacing\" textLength=\"215\" x=\"20\" y=\"21.5352\">RevisitRequirementDefinition</text></a></g><!--MD5=[b4997ac47864f28c2f74865a473b2911]\n",
       "class E2--><a href=\"psysml:52a7fd94-e785-4b27-b1e8-35c1c54d3539\" target=\"_top\" title=\"psysml:52a7fd94-e785-4b27-b1e8-35c1c54d3539\" xlink:actuate=\"onRequest\" xlink:href=\"psysml:52a7fd94-e785-4b27-b1e8-35c1c54d3539\" xlink:show=\"new\" xlink:title=\"psysml:52a7fd94-e785-4b27-b1e8-35c1c54d3539\" xlink:type=\"simple\"><g id=\"elem_E2\"><rect fill=\"#FFFFFF\" height=\"92.193\" id=\"E2\" style=\"stroke:#181818;stroke-width:0.5;\" width=\"311\" x=\"32.5\" y=\"41\"/><text fill=\"#000000\" font-family=\"sans-serif\" font-size=\"12\" font-style=\"italic\" lengthAdjust=\"spacing\" textLength=\"110\" x=\"133\" y=\"57.6016\">«requirement  def»</text><text fill=\"#000000\" font-family=\"sans-serif\" font-size=\"14\" lengthAdjust=\"spacing\" textLength=\"305\" x=\"35.5\" y=\"73.668\">&lt;Req01&gt; CookingTemperatureRequirement</text><line style=\"stroke:#181818;stroke-width:0.5;\" x1=\"33.5\" x2=\"342.5\" y1=\"81.6211\" y2=\"81.6211\"/><text fill=\"#000000\" font-family=\"sans-serif\" font-size=\"14\" lengthAdjust=\"spacing\" textLength=\"172\" x=\"38.5\" y=\"109.7516\">Assuming the oven is on,</text><text fill=\"#000000\" font-family=\"sans-serif\" font-size=\"14\" lengthAdjust=\"spacing\" textLength=\"274\" x=\"38.5\" y=\"126.2398\">The oven shall heat up to at least 533 K.</text><text fill=\"#000000\" font-family=\"sans-serif\" font-size=\"14\" font-style=\"italic\" lengthAdjust=\"spacing\" textLength=\"25\" x=\"175.5\" y=\"94.4121\">doc</text></g></a><!--MD5=[09b614a08d8cba4a07c9adeb5e0fee81]\n",
       "class E3--><a href=\"psysml:b358cd02-6dcd-4839-91b0-d7b03919fe90\" target=\"_top\" title=\"psysml:b358cd02-6dcd-4839-91b0-d7b03919fe90\" xlink:actuate=\"onRequest\" xlink:href=\"psysml:b358cd02-6dcd-4839-91b0-d7b03919fe90\" xlink:show=\"new\" xlink:title=\"psysml:b358cd02-6dcd-4839-91b0-d7b03919fe90\" xlink:type=\"simple\"><g id=\"elem_E3\"><rect fill=\"#FFFFFF\" height=\"48.6211\" id=\"E3\" rx=\"10\" ry=\"10\" style=\"stroke:#181818;stroke-width:0.5;\" width=\"66\" x=\"32\" y=\"210\"/><text fill=\"#000000\" font-family=\"sans-serif\" font-size=\"12\" font-style=\"italic\" lengthAdjust=\"spacing\" textLength=\"54\" x=\"38\" y=\"226.6016\">«subject»</text><text fill=\"#000000\" font-family=\"sans-serif\" font-size=\"14\" lengthAdjust=\"spacing\" textLength=\"60\" x=\"35\" y=\"242.668\">testOven</text><line style=\"stroke:#181818;stroke-width:0.5;\" x1=\"33\" x2=\"97\" y1=\"250.6211\" y2=\"250.6211\"/></g></a><!--MD5=[ebbe1d658d1005bcc118a6aa81145e00]\n",
       "class E4--><a href=\"psysml:06ba8a89-cd2b-4363-9253-f43673861eb0\" target=\"_top\" title=\"psysml:06ba8a89-cd2b-4363-9253-f43673861eb0\" xlink:actuate=\"onRequest\" xlink:href=\"psysml:06ba8a89-cd2b-4363-9253-f43673861eb0\" xlink:show=\"new\" xlink:title=\"psysml:06ba8a89-cd2b-4363-9253-f43673861eb0\" xlink:type=\"simple\"><g id=\"elem_E4\"><rect fill=\"#FFFFFF\" height=\"48.6211\" id=\"E4\" rx=\"10\" ry=\"10\" style=\"stroke:#181818;stroke-width:0.5;\" width=\"80\" x=\"133\" y=\"210\"/><text fill=\"#000000\" font-family=\"sans-serif\" font-size=\"12\" font-style=\"italic\" lengthAdjust=\"spacing\" textLength=\"68\" x=\"139\" y=\"226.6016\">«constraint»</text><text fill=\"#000000\" font-family=\"sans-serif\" font-size=\"14\" lengthAdjust=\"spacing\" textLength=\"66\" x=\"136\" y=\"242.668\">OvenIsOn</text><line style=\"stroke:#181818;stroke-width:0.5;\" x1=\"134\" x2=\"212\" y1=\"250.6211\" y2=\"250.6211\"/></g></a><!--MD5=[270fce915f116d4de14055a7c1d9a0f3]\n",
       "class E5--><a href=\"psysml:3ca49c76-f978-4067-ae1d-4ae3eed56d75\" target=\"_top\" title=\"psysml:3ca49c76-f978-4067-ae1d-4ae3eed56d75\" xlink:actuate=\"onRequest\" xlink:href=\"psysml:3ca49c76-f978-4067-ae1d-4ae3eed56d75\" xlink:show=\"new\" xlink:title=\"psysml:3ca49c76-f978-4067-ae1d-4ae3eed56d75\" xlink:type=\"simple\"><g id=\"elem_E5\"><rect fill=\"#FFFFFF\" height=\"48.6211\" id=\"E5\" rx=\"10\" ry=\"10\" style=\"stroke:#181818;stroke-width:0.5;\" width=\"161\" x=\"248.5\" y=\"210\"/><text fill=\"#000000\" font-family=\"sans-serif\" font-size=\"12\" font-style=\"italic\" lengthAdjust=\"spacing\" textLength=\"68\" x=\"295\" y=\"226.6016\">«constraint»</text><text fill=\"#000000\" font-family=\"sans-serif\" font-size=\"14\" lengthAdjust=\"spacing\" textLength=\"147\" x=\"251.5\" y=\"242.668\">CookingTemperature</text><line style=\"stroke:#181818;stroke-width:0.5;\" x1=\"249.5\" x2=\"408.5\" y1=\"250.6211\" y2=\"250.6211\"/></g></a><!--MD5=[209b3feb70ccb6233bfe1053d122c12c]\n",
       "reverse link E2 to E3--><g id=\"link_E2_E3\"><a href=\"psysml:07fb9920-445e-49c0-92c5-3f9b045e7a94\" target=\"_top\" title=\"psysml:07fb9920-445e-49c0-92c5-3f9b045e7a94\" xlink:actuate=\"onRequest\" xlink:href=\"psysml:07fb9920-445e-49c0-92c5-3f9b045e7a94\" xlink:show=\"new\" xlink:title=\"psysml:07fb9920-445e-49c0-92c5-3f9b045e7a94\" xlink:type=\"simple\"><path d=\"M141.27,143.28 C121.79,166.32 100.21,191.85 84.98,209.86 \" fill=\"none\" id=\"E2-backto-E3\" style=\"stroke:#181818;stroke-width:1.0;\"/><polygon fill=\"none\" points=\"149.76,133.24,142.8326,135.2428,142.017,142.4076,148.9444,140.4048,149.76,133.24\" style=\"stroke:#181818;stroke-width:1.0;\"/></a></g><!--MD5=[4d03bb2d0377dc85ccfab60ff574652b]\n",
       "link E2 to E4--><g id=\"link_E2_E4\"><a href=\"psysml:40ea7807-f1d5-46a2-ba0b-883100e9dcbe\" target=\"_top\" title=\"psysml:40ea7807-f1d5-46a2-ba0b-883100e9dcbe\" xlink:actuate=\"onRequest\" xlink:href=\"psysml:40ea7807-f1d5-46a2-ba0b-883100e9dcbe\" xlink:show=\"new\" xlink:title=\"psysml:40ea7807-f1d5-46a2-ba0b-883100e9dcbe\" xlink:type=\"simple\"><path d=\"M183.34,133.24 C180.93,156.62 178.06,184.44 175.95,204.84 \" fill=\"none\" id=\"E2-to-E4\" style=\"stroke:#181818;stroke-width:1.0;\"/><polygon fill=\"#181818\" points=\"175.44,209.86,180.3449,201.3194,175.9545,204.8865,172.3873,200.4962,175.44,209.86\" style=\"stroke:#181818;stroke-width:1.0;\"/><text fill=\"#000000\" font-family=\"sans-serif\" font-size=\"13\" lengthAdjust=\"spacing\" textLength=\"62\" x=\"181\" y=\"176.5684\">«assume»</text></a></g><!--MD5=[dcad52bbbca2fe8adc741ce38b45dc12]\n",
       "link E2 to E5--><g id=\"link_E2_E5\"><a href=\"psysml:0ecd2e16-948a-4a1f-b41a-3a0346e21fba\" target=\"_top\" title=\"psysml:0ecd2e16-948a-4a1f-b41a-3a0346e21fba\" xlink:actuate=\"onRequest\" xlink:href=\"psysml:0ecd2e16-948a-4a1f-b41a-3a0346e21fba\" xlink:show=\"new\" xlink:title=\"psysml:0ecd2e16-948a-4a1f-b41a-3a0346e21fba\" xlink:type=\"simple\"><path d=\"M231.84,133.24 C254.98,157.11 282.6,185.62 302.47,206.13 \" fill=\"none\" id=\"E2-to-E5\" style=\"stroke:#181818;stroke-width:1.0;\"/><polygon fill=\"#181818\" points=\"306.09,209.86,302.7032,200.6118,302.6119,206.2679,296.9558,206.1767,306.09,209.86\" style=\"stroke:#181818;stroke-width:1.0;\"/><text fill=\"#000000\" font-family=\"sans-serif\" font-size=\"13\" lengthAdjust=\"spacing\" textLength=\"58\" x=\"276\" y=\"176.5684\">«require»</text></a></g><!--MD5=[55c3f3cc6c9709ca44d3480b243083c7]\n",
       "@startuml\r\n",
       "skin sysmlbw\r\n",
       "skinparam monochrome true\r\n",
       "skinparam wrapWidth 300\r\n",
       "hide circle\r\n",
       "\r\n",
       "package \"RevisitRequirementDefinition\" as E1  [[psysml:423121d6-2816-4798-9e42-582c578a1f0b ]]  {\r\n",
       "comp def \"~<Req01> CookingTemperatureRequirement\" as E2  <<(T,blue) requirement  def>> [[psysml:52a7fd94-e785-4b27-b1e8-35c1c54d3539 ]] {\r\n",
       "##//doc//##\r\n",
       "Assuming the oven is on, \\nThe oven shall heat up to at least 533 K.\r\n",
       "}\r\n",
       "comp usage \"testOven\" as E3 <<subject>>[[psysml:b358cd02-6dcd-4839-91b0-d7b03919fe90 ]] {\r\n",
       "}\r\n",
       "comp usage \"OvenIsOn  \" as E4  <<(T,blue) constraint>> [[psysml:06ba8a89-cd2b-4363-9253-f43673861eb0 ]] {\r\n",
       "}\r\n",
       "comp usage \"CookingTemperature  \" as E5  <<(T,blue) constraint>> [[psysml:3ca49c76-f978-4067-ae1d-4ae3eed56d75 ]] {\r\n",
       "}\r\n",
       "}\r\n",
       "E2 o- - E3 [[psysml:07fb9920-445e-49c0-92c5-3f9b045e7a94 ]] \r\n",
       "E2 - -> E4 [[psysml:40ea7807-f1d5-46a2-ba0b-883100e9dcbe ]] : <<assume>>\r\n",
       "E2 - -> E5 [[psysml:0ecd2e16-948a-4a1f-b41a-3a0346e21fba ]] : <<require>>\r\n",
       "@enduml\r\n",
       "\n",
       "PlantUML version 1.2022.7(Mon Aug 22 11:01:30 MDT 2022)\n",
       "(EPL source distribution)\n",
       "Java Runtime: Java(TM) SE Runtime Environment\n",
       "JVM: Java HotSpot(TM) 64-Bit Server VM\n",
       "Default Encoding: UTF-8\n",
       "Language: en\n",
       "Country: US\n",
       "--></g></svg>"
      ]
     },
     "execution_count": 77,
     "metadata": {},
     "output_type": "execute_result"
    }
   ],
   "source": [
    "%viz --view=default RevisitRequirementDefinition"
   ]
  },
  {
   "cell_type": "markdown",
   "id": "eb5f2fe6",
   "metadata": {},
   "source": [
    "### ConstraintWithoutDefinition.sysml\n",
    "It's possible to assign constraint predicates within the requirement definition itself instead of importing them as a package\n",
    "- Will require importing definitions from library packages to define constraint predicates"
   ]
  },
  {
   "cell_type": "code",
   "execution_count": 78,
   "id": "e58528a7",
   "metadata": {
    "vscode": {
     "languageId": "sysml"
    }
   },
   "outputs": [
    {
     "data": {
      "text/plain": [
       "Package ConstraintWithoutDefinition (7a34ac07-9e00-4eb7-8353-dbb82d2d473f)\n"
      ]
     },
     "execution_count": 78,
     "metadata": {},
     "output_type": "execute_result"
    }
   ],
   "source": [
    "package ConstraintWithoutDefinition{\n",
    "    private import RevisitConstraints::RevisedConstraintDef::*;\n",
    "    private import SI::K;\n",
    "\n",
    "    requirement def <Req01> CookingTemperatureRequirement{\n",
    "        doc\n",
    "        /* Assuming the oven is on\n",
    "        * The oven shall heat up to at least 533 K.\n",
    "        */\n",
    "        subject testOven: Oven;\n",
    "        assume constraint { testOven.isOn == true }\n",
    "        require constraint { testOven.temperature == 533 [K] }\n",
    "    }\n",
    "}"
   ]
  },
  {
   "cell_type": "code",
   "execution_count": 79,
   "id": "d922ed68",
   "metadata": {
    "vscode": {
     "languageId": "sysml"
    }
   },
   "outputs": [
    {
     "data": {
      "image/svg+xml": [
       "<?xml version=\"1.0\" encoding=\"UTF-8\" standalone=\"no\"?><svg xmlns=\"http://www.w3.org/2000/svg\" xmlns:xlink=\"http://www.w3.org/1999/xlink\" contentStyleType=\"text/css\" height=\"224px\" preserveAspectRatio=\"none\" style=\"width:737px;height:224px;background:#FFFFFF;\" version=\"1.1\" viewBox=\"0 0 737 224\" width=\"737px\" zoomAndPan=\"magnify\"><defs/><g><!--MD5=[fbc87193dbaf4d95561dea2c320d4a47]\n",
       "cluster E1--><g id=\"cluster_E1\"><a href=\"psysml:7a34ac07-9e00-4eb7-8353-dbb82d2d473f\" target=\"_top\" title=\"psysml:7a34ac07-9e00-4eb7-8353-dbb82d2d473f\" xlink:actuate=\"onRequest\" xlink:href=\"psysml:7a34ac07-9e00-4eb7-8353-dbb82d2d473f\" xlink:show=\"new\" xlink:title=\"psysml:7a34ac07-9e00-4eb7-8353-dbb82d2d473f\" xlink:type=\"simple\"><polygon fill=\"none\" points=\"16,6,228,6,235,28.4883,720,28.4883,720,217,16,217,16,6\" style=\"stroke:#000000;stroke-width:1.5;\"/><line style=\"stroke:#000000;stroke-width:1.5;\" x1=\"16\" x2=\"235\" y1=\"28.4883\" y2=\"28.4883\"/><text fill=\"#000000\" font-family=\"sans-serif\" font-size=\"14\" font-weight=\"bold\" lengthAdjust=\"spacing\" textLength=\"206\" x=\"20\" y=\"21.5352\">ConstraintWithoutDefinition</text></a></g><!--MD5=[b4997ac47864f28c2f74865a473b2911]\n",
       "class E2--><a href=\"psysml:bccb0ff0-2181-4c3e-a229-bc432f50bd6f\" target=\"_top\" title=\"psysml:bccb0ff0-2181-4c3e-a229-bc432f50bd6f\" xlink:actuate=\"onRequest\" xlink:href=\"psysml:bccb0ff0-2181-4c3e-a229-bc432f50bd6f\" xlink:show=\"new\" xlink:title=\"psysml:bccb0ff0-2181-4c3e-a229-bc432f50bd6f\" xlink:type=\"simple\"><g id=\"elem_E2\"><rect fill=\"#FFFFFF\" height=\"160.2531\" id=\"E2\" style=\"stroke:#181818;stroke-width:0.5;\" width=\"311\" x=\"32\" y=\"41\"/><text fill=\"#000000\" font-family=\"sans-serif\" font-size=\"12\" font-style=\"italic\" lengthAdjust=\"spacing\" textLength=\"110\" x=\"132.5\" y=\"57.6016\">«requirement  def»</text><text fill=\"#000000\" font-family=\"sans-serif\" font-size=\"14\" lengthAdjust=\"spacing\" textLength=\"305\" x=\"35\" y=\"73.668\">&lt;Req01&gt; CookingTemperatureRequirement</text><line style=\"stroke:#181818;stroke-width:0.5;\" x1=\"33\" x2=\"342\" y1=\"81.6211\" y2=\"81.6211\"/><text fill=\"#000000\" font-family=\"sans-serif\" font-size=\"14\" lengthAdjust=\"spacing\" textLength=\"168\" x=\"38\" y=\"109.7516\">Assuming the oven is on</text><text fill=\"#000000\" font-family=\"sans-serif\" font-size=\"14\" lengthAdjust=\"spacing\" textLength=\"274\" x=\"38\" y=\"126.2398\">The oven shall heat up to at least 533 K.</text><text fill=\"#000000\" font-family=\"sans-serif\" font-size=\"14\" font-style=\"italic\" lengthAdjust=\"spacing\" textLength=\"25\" x=\"175\" y=\"94.4121\">doc</text><line style=\"stroke:#181818;stroke-width:1.0;\" x1=\"33\" x2=\"342\" y1=\"133.193\" y2=\"133.193\"/><text fill=\"#000000\" font-family=\"sans-serif\" font-size=\"14\" font-weight=\"bold\" lengthAdjust=\"spacing\" textLength=\"55\" x=\"38\" y=\"161.3234\">assume</text><text fill=\"#000000\" font-family=\"sans-serif\" font-size=\"14\" lengthAdjust=\"spacing\" textLength=\"171\" x=\"97\" y=\"161.3234\">{ testOven.isOn == true }</text><text fill=\"#000000\" font-family=\"sans-serif\" font-size=\"14\" font-weight=\"bold\" lengthAdjust=\"spacing\" textLength=\"51\" x=\"38\" y=\"177.8117\">require</text><text fill=\"#000000\" font-family=\"sans-serif\" font-size=\"14\" lengthAdjust=\"spacing\" textLength=\"238\" x=\"93\" y=\"177.8117\">{ testOven.temperature == 533 [K]</text><text fill=\"#000000\" font-family=\"sans-serif\" font-size=\"14\" lengthAdjust=\"spacing\" textLength=\"5\" x=\"38\" y=\"194.3\">}</text><text fill=\"#000000\" font-family=\"sans-serif\" font-size=\"14\" font-style=\"italic\" lengthAdjust=\"spacing\" textLength=\"76\" x=\"149.5\" y=\"145.984\">constraints</text></g></a><!--MD5=[09b614a08d8cba4a07c9adeb5e0fee81]\n",
       "class E3--><a href=\"psysml:3c94ca4d-ff71-4742-bbd3-44a53c85336d\" target=\"_top\" title=\"psysml:3c94ca4d-ff71-4742-bbd3-44a53c85336d\" xlink:actuate=\"onRequest\" xlink:href=\"psysml:3c94ca4d-ff71-4742-bbd3-44a53c85336d\" xlink:show=\"new\" xlink:title=\"psysml:3c94ca4d-ff71-4742-bbd3-44a53c85336d\" xlink:type=\"simple\"><g id=\"elem_E3\"><rect fill=\"#FFFFFF\" height=\"92.193\" id=\"E3\" rx=\"10\" ry=\"10\" style=\"stroke:#181818;stroke-width:0.5;\" width=\"301\" x=\"403\" y=\"75\"/><text fill=\"#000000\" font-family=\"sans-serif\" font-size=\"12\" font-style=\"italic\" lengthAdjust=\"spacing\" textLength=\"54\" x=\"526.5\" y=\"91.6016\">«subject»</text><text fill=\"#000000\" font-family=\"sans-serif\" font-size=\"14\" lengthAdjust=\"spacing\" textLength=\"60\" x=\"523.5\" y=\"107.668\">testOven</text><line style=\"stroke:#181818;stroke-width:0.5;\" x1=\"404\" x2=\"703\" y1=\"115.6211\" y2=\"115.6211\"/><text fill=\"#000000\" font-family=\"sans-serif\" font-size=\"14\" lengthAdjust=\"spacing\" textLength=\"103\" x=\"409\" y=\"143.7516\">^isOn: Boolean</text><text fill=\"#000000\" font-family=\"sans-serif\" font-size=\"14\" lengthAdjust=\"spacing\" textLength=\"289\" x=\"409\" y=\"160.2398\">^temperature: TemperatureDifferenceUnit</text><text fill=\"#000000\" font-family=\"sans-serif\" font-size=\"14\" font-style=\"italic\" lengthAdjust=\"spacing\" textLength=\"66\" x=\"520.5\" y=\"128.4121\">attributes</text></g></a><!--MD5=[209b3feb70ccb6233bfe1053d122c12c]\n",
       "reverse link E2 to E3--><g id=\"link_E2_E3\"><a href=\"psysml:e03c919a-0605-4405-9e45-9af7e6fdbdeb\" target=\"_top\" title=\"psysml:e03c919a-0605-4405-9e45-9af7e6fdbdeb\" xlink:actuate=\"onRequest\" xlink:href=\"psysml:e03c919a-0605-4405-9e45-9af7e6fdbdeb\" xlink:show=\"new\" xlink:title=\"psysml:e03c919a-0605-4405-9e45-9af7e6fdbdeb\" xlink:type=\"simple\"><path d=\"M356.15,121 C371.69,121 387.38,121 402.75,121 \" fill=\"none\" id=\"E2-backto-E3\" style=\"stroke:#181818;stroke-width:1.0;\"/><polygon fill=\"none\" points=\"343.13,121,349.13,125,355.13,121,349.13,117,343.13,121\" style=\"stroke:#181818;stroke-width:1.0;\"/></a></g><!--MD5=[574bf79b1f0b52d9daafb34fc435f470]\n",
       "@startuml\r\n",
       "skin sysmlbw\r\n",
       "skinparam monochrome true\r\n",
       "skinparam wrapWidth 300\r\n",
       "hide circle\r\n",
       "left to right direction\r\n",
       "\r\n",
       "package \"ConstraintWithoutDefinition\" as E1  [[psysml:7a34ac07-9e00-4eb7-8353-dbb82d2d473f ]]  {\r\n",
       "comp def \"~<Req01> CookingTemperatureRequirement\" as E2  <<(T,blue) requirement  def>> [[psysml:bccb0ff0-2181-4c3e-a229-bc432f50bd6f ]] {\r\n",
       "##//doc//##\r\n",
       "Assuming the oven is on\\nThe oven shall heat up to at least 533 K.\r\n",
       "- -\r\n",
       "##//constraints//##\r\n",
       "<b>assume</b> { testOven.isOn <U+003D><U+003D> true }\r\n",
       "<b>require</b> { testOven.temperature <U+003D><U+003D> 533 [K] }\r\n",
       "}\r\n",
       "comp usage \"testOven\" as E3 <<subject>>[[psysml:3c94ca4d-ff71-4742-bbd3-44a53c85336d ]] {\r\n",
       "##//attributes//##\r\n",
       "^isOn: Boolean\r\n",
       "^temperature: TemperatureDifferenceUnit\r\n",
       "}\r\n",
       "}\r\n",
       "E2 o- - E3 [[psysml:e03c919a-0605-4405-9e45-9af7e6fdbdeb ]] \r\n",
       "@enduml\r\n",
       "\n",
       "PlantUML version 1.2022.7(Mon Aug 22 11:01:30 MDT 2022)\n",
       "(EPL source distribution)\n",
       "Java Runtime: Java(TM) SE Runtime Environment\n",
       "JVM: Java HotSpot(TM) 64-Bit Server VM\n",
       "Default Encoding: UTF-8\n",
       "Language: en\n",
       "Country: US\n",
       "--></g></svg>"
      ]
     },
     "execution_count": 79,
     "metadata": {},
     "output_type": "execute_result"
    }
   ],
   "source": [
    "%viz --view=default --style=LR ConstraintWithoutDefinition"
   ]
  },
  {
   "cell_type": "markdown",
   "id": "a98777f6",
   "metadata": {},
   "source": [
    "`^isOn` is an inherited parameter of the part definition Oven, denoted by the `^`"
   ]
  },
  {
   "cell_type": "markdown",
   "id": "45f31875",
   "metadata": {},
   "source": [
    "### StakeholderConcern.sysml\n",
    "**Stakeholder**\n",
    "- Role played by an entity (person, org, etc) having *concerns* related to the containing *requirement*\n",
    "- Concerns precede requirements \n",
    "    - More abstraction > Specification\n",
    "- Eg: Oven Concern\n",
    "    - Stakeholder: Industry Consortium\n",
    "        - Concerns: Heating efficiency, Safety standards\n",
    "        - Resulting requirements: efficiency, safety\n",
    "\n",
    "Concerns have same format as requirements except using keyword `concern`"
   ]
  },
  {
   "cell_type": "code",
   "execution_count": 80,
   "id": "06c30c54",
   "metadata": {
    "vscode": {
     "languageId": "sysml"
    }
   },
   "outputs": [
    {
     "data": {
      "text/plain": [
       "Package StakeholderConcern (094a6024-a405-41a7-8fad-34cef27dcb18)\n"
      ]
     },
     "execution_count": 80,
     "metadata": {},
     "output_type": "execute_result"
    }
   ],
   "source": [
    "package StakeholderConcern{\n",
    "    private import SI::*;\n",
    "    private import RevisitConstraints::RevisedConstraintDef::*;\n",
    "\n",
    "    concern def SafetyConcern{  // Concern is defined as such\n",
    "        subject oven: Oven;\n",
    "        part def Person;\n",
    "\n",
    "        stakeholder productDesigner: Person;    // This is the stakeholder raising concern\n",
    "\n",
    "        attribute surfaceTemperature: TemperatureDifferenceUnit;\n",
    "\n",
    "        // Concern expressed with `require` and documents a constraint that can be defined\n",
    "        // and modeled further in req specification\n",
    "        require constraint {\n",
    "            doc /* The oven's external surface temperature shall not exceed 300 [K]*/\n",
    "        }\n",
    "    }\n",
    "}"
   ]
  },
  {
   "cell_type": "code",
   "execution_count": 81,
   "id": "517479b6",
   "metadata": {
    "vscode": {
     "languageId": "sysml"
    }
   },
   "outputs": [
    {
     "data": {
      "image/svg+xml": [
       "<?xml version=\"1.0\" encoding=\"UTF-8\" standalone=\"no\"?><svg xmlns=\"http://www.w3.org/2000/svg\" xmlns:xlink=\"http://www.w3.org/1999/xlink\" contentStyleType=\"text/css\" height=\"246px\" preserveAspectRatio=\"none\" style=\"width:759px;height:246px;background:#FFFFFF;\" version=\"1.1\" viewBox=\"0 0 759 246\" width=\"759px\" zoomAndPan=\"magnify\"><defs/><g><!--MD5=[fbc87193dbaf4d95561dea2c320d4a47]\n",
       "cluster E1--><g id=\"cluster_E1\"><a href=\"psysml:094a6024-a405-41a7-8fad-34cef27dcb18\" target=\"_top\" title=\"psysml:094a6024-a405-41a7-8fad-34cef27dcb18\" xlink:actuate=\"onRequest\" xlink:href=\"psysml:094a6024-a405-41a7-8fad-34cef27dcb18\" xlink:show=\"new\" xlink:title=\"psysml:094a6024-a405-41a7-8fad-34cef27dcb18\" xlink:type=\"simple\"><polygon fill=\"none\" points=\"16,6,165,6,172,28.4883,742,28.4883,742,239,16,239,16,6\" style=\"stroke:#000000;stroke-width:1.5;\"/><line style=\"stroke:#000000;stroke-width:1.5;\" x1=\"16\" x2=\"172\" y1=\"28.4883\" y2=\"28.4883\"/><text fill=\"#000000\" font-family=\"sans-serif\" font-size=\"14\" font-weight=\"bold\" lengthAdjust=\"spacing\" textLength=\"143\" x=\"20\" y=\"21.5352\">StakeholderConcern</text></a></g><!--MD5=[b4997ac47864f28c2f74865a473b2911]\n",
       "class E2--><a href=\"psysml:bea18600-a474-4a98-a513-573f388fa77b\" target=\"_top\" title=\"psysml:bea18600-a474-4a98-a513-573f388fa77b\" xlink:actuate=\"onRequest\" xlink:href=\"psysml:bea18600-a474-4a98-a513-573f388fa77b\" xlink:show=\"new\" xlink:title=\"psysml:bea18600-a474-4a98-a513-573f388fa77b\" xlink:type=\"simple\"><g id=\"elem_E2\"><rect fill=\"#FFFFFF\" height=\"176.7414\" id=\"E2\" style=\"stroke:#181818;stroke-width:0.5;\" width=\"299\" x=\"32\" y=\"45.5\"/><text fill=\"#000000\" font-family=\"sans-serif\" font-size=\"12\" font-style=\"italic\" lengthAdjust=\"spacing\" textLength=\"84\" x=\"139.5\" y=\"62.1016\">«concern  def»</text><text fill=\"#000000\" font-family=\"sans-serif\" font-size=\"14\" lengthAdjust=\"spacing\" textLength=\"99\" x=\"132\" y=\"78.168\">SafetyConcern</text><line style=\"stroke:#181818;stroke-width:0.5;\" x1=\"33\" x2=\"330\" y1=\"86.1211\" y2=\"86.1211\"/><text fill=\"#000000\" font-family=\"sans-serif\" font-size=\"14\" lengthAdjust=\"spacing\" textLength=\"143\" x=\"38\" y=\"114.2516\">surfaceTemperature:</text><text fill=\"#000000\" font-family=\"sans-serif\" font-size=\"14\" lengthAdjust=\"spacing\" textLength=\"187\" x=\"38\" y=\"130.7398\">TemperatureDifferenceUnit</text><text fill=\"#000000\" font-family=\"sans-serif\" font-size=\"14\" font-style=\"italic\" lengthAdjust=\"spacing\" textLength=\"66\" x=\"148.5\" y=\"98.9121\">attributes</text><line style=\"stroke:#181818;stroke-width:1.0;\" x1=\"33\" x2=\"330\" y1=\"137.693\" y2=\"137.693\"/><text fill=\"#000000\" font-family=\"sans-serif\" font-size=\"14\" font-weight=\"bold\" lengthAdjust=\"spacing\" textLength=\"51\" x=\"38\" y=\"165.8234\">require</text><text fill=\"#000000\" font-family=\"sans-serif\" font-size=\"14\" lengthAdjust=\"spacing\" textLength=\"5\" x=\"93\" y=\"165.8234\">{</text><text fill=\"#000000\" font-family=\"sans-serif\" font-size=\"14\" lengthAdjust=\"spacing\" textLength=\"235\" x=\"86\" y=\"182.3117\">doc /* The oven's external surface</text><text fill=\"#000000\" font-family=\"sans-serif\" font-size=\"14\" lengthAdjust=\"spacing\" textLength=\"269\" x=\"38\" y=\"198.8\">temperature shall not exceed 300 [K]*/</text><text fill=\"#000000\" font-family=\"sans-serif\" font-size=\"14\" lengthAdjust=\"spacing\" textLength=\"5\" x=\"70\" y=\"215.2883\">}</text><text fill=\"#000000\" font-family=\"sans-serif\" font-size=\"14\" font-style=\"italic\" lengthAdjust=\"spacing\" textLength=\"76\" x=\"143.5\" y=\"150.484\">constraints</text></g></a><!--MD5=[09b614a08d8cba4a07c9adeb5e0fee81]\n",
       "class E3--><a href=\"psysml:5f3a568e-1b24-440d-a4a9-2fd1454ffc85\" target=\"_top\" title=\"psysml:5f3a568e-1b24-440d-a4a9-2fd1454ffc85\" xlink:actuate=\"onRequest\" xlink:href=\"psysml:5f3a568e-1b24-440d-a4a9-2fd1454ffc85\" xlink:show=\"new\" xlink:title=\"psysml:5f3a568e-1b24-440d-a4a9-2fd1454ffc85\" xlink:type=\"simple\"><g id=\"elem_E3\"><rect fill=\"#FFFFFF\" height=\"48.6211\" id=\"E3\" rx=\"10\" ry=\"10\" style=\"stroke:#181818;stroke-width:0.5;\" width=\"56\" x=\"468\" y=\"173.5\"/><text fill=\"#000000\" font-family=\"sans-serif\" font-size=\"12\" font-style=\"italic\" lengthAdjust=\"spacing\" textLength=\"54\" x=\"469\" y=\"190.1016\">«subject»</text><text fill=\"#000000\" font-family=\"sans-serif\" font-size=\"14\" lengthAdjust=\"spacing\" textLength=\"33\" x=\"479.5\" y=\"206.168\">oven</text><line style=\"stroke:#181818;stroke-width:0.5;\" x1=\"469\" x2=\"523\" y1=\"214.1211\" y2=\"214.1211\"/></g></a><!--MD5=[ebbe1d658d1005bcc118a6aa81145e00]\n",
       "class E4--><a href=\"psysml:98f1052e-7019-42f1-8643-3483134f2270\" target=\"_top\" title=\"psysml:98f1052e-7019-42f1-8643-3483134f2270\" xlink:actuate=\"onRequest\" xlink:href=\"psysml:98f1052e-7019-42f1-8643-3483134f2270\" xlink:show=\"new\" xlink:title=\"psysml:98f1052e-7019-42f1-8643-3483134f2270\" xlink:type=\"simple\"><g id=\"elem_E4\"><rect fill=\"#FFFFFF\" height=\"48.6211\" id=\"E4\" style=\"stroke:#181818;stroke-width:0.5;\" width=\"65\" x=\"661\" y=\"79.5\"/><text fill=\"#000000\" font-family=\"sans-serif\" font-size=\"12\" font-style=\"italic\" lengthAdjust=\"spacing\" textLength=\"63\" x=\"662\" y=\"96.1016\">«part  def»</text><text fill=\"#000000\" font-family=\"sans-serif\" font-size=\"14\" lengthAdjust=\"spacing\" textLength=\"47\" x=\"670\" y=\"112.168\">Person</text><line style=\"stroke:#181818;stroke-width:0.5;\" x1=\"662\" x2=\"725\" y1=\"120.1211\" y2=\"120.1211\"/></g></a><!--MD5=[270fce915f116d4de14055a7c1d9a0f3]\n",
       "class E5--><a href=\"psysml:a0a27898-fdc2-4091-aee6-4da77ce81038\" target=\"_top\" title=\"psysml:a0a27898-fdc2-4091-aee6-4da77ce81038\" xlink:actuate=\"onRequest\" xlink:href=\"psysml:a0a27898-fdc2-4091-aee6-4da77ce81038\" xlink:show=\"new\" xlink:title=\"psysml:a0a27898-fdc2-4091-aee6-4da77ce81038\" xlink:type=\"simple\"><g id=\"elem_E5\"><rect fill=\"#FFFFFF\" height=\"59.6328\" id=\"E5\" rx=\"10\" ry=\"10\" style=\"stroke:#181818;stroke-width:0.5;\" width=\"210\" x=\"391\" y=\"41\"/><text fill=\"#000000\" font-family=\"sans-serif\" font-size=\"12\" font-style=\"italic\" lengthAdjust=\"spacing\" textLength=\"36\" x=\"478\" y=\"57.6016\">«part»</text><path d=\"M408.75,60.1328 C407.475,60.1328 406.375,61.0078 405.7,62.3328 C406.825,63.6828 407.5,65.5328 407.5,67.6578 C407.5,68.3828 407.425,69.0328 407.275,69.6828 C407.75,69.9578 408.225,70.1578 408.75,70.1578 C410.825,70.1578 412.5,67.9078 412.5,65.1578 C412.5,62.4078 410.825,60.1578 408.75,60.1578 M401.25,62.6328 C399.175,62.6328 397.5,64.8828 397.5,67.6328 C397.5,70.3828 399.175,72.6328 401.25,72.6328 C403.325,72.6328 405,70.3828 405,67.6328 C405,64.8828 403.325,62.6328 401.25,62.6328 M413.125,70.5328 C412.05,71.8078 410.575,72.5828 408.9,72.6328 C409.575,73.5828 410,74.7328 410,75.9828 L410,77.6328 L415,77.6328 L415,73.4828 C415,72.1828 414.225,71.0578 413.125,70.5078 M396.875,73.0328 C395.775,73.5828 395,74.7078 395,76.0078 L395,80.1578 L407.5,80.1578 L407.5,76.0078 C407.5,74.7078 406.725,73.5828 405.625,73.0328 C404.5,74.3578 402.975,75.1328 401.25,75.1328 C399.525,75.1328 398,74.3328 396.875,73.0328 \" fill=\"#000000\" style=\"stroke:;stroke-width:0.0;stroke-dasharray:;\"/><text fill=\"#000000\" font-family=\"sans-serif\" font-size=\"14\" lengthAdjust=\"spacing\" textLength=\"170\" x=\"420\" y=\"84.6797\">productDesigner: Person</text><line style=\"stroke:#181818;stroke-width:0.5;\" x1=\"392\" x2=\"600\" y1=\"92.6328\" y2=\"92.6328\"/></g></a><!--MD5=[209b3feb70ccb6233bfe1053d122c12c]\n",
       "reverse link E2 to E3--><g id=\"link_E2_E3\"><a href=\"psysml:c67455ae-1a0b-4693-bd78-ed9c9b6d7f5f\" target=\"_top\" title=\"psysml:c67455ae-1a0b-4693-bd78-ed9c9b6d7f5f\" xlink:actuate=\"onRequest\" xlink:href=\"psysml:c67455ae-1a0b-4693-bd78-ed9c9b6d7f5f\" xlink:show=\"new\" xlink:title=\"psysml:c67455ae-1a0b-4693-bd78-ed9c9b6d7f5f\" xlink:type=\"simple\"><path d=\"M344.28,167.13 C392.21,176.95 439.45,186.62 467.92,192.45 \" fill=\"none\" id=\"E2-backto-E3\" style=\"stroke:#181818;stroke-width:1.0;\"/><polygon fill=\"none\" points=\"331.43,164.5,336.5037,169.6242,343.1852,166.9117,338.1115,161.7874,331.43,164.5\" style=\"stroke:#181818;stroke-width:1.0;\"/></a></g><!--MD5=[9618e71518536f8baf3342ff6fdab317]\n",
       "reverse link E2 to E4--><g id=\"link_E2_E4\"><a href=\"psysml:0692c9f2-55df-4105-9733-dfce36dee22f\" target=\"_top\" title=\"psysml:0692c9f2-55df-4105-9733-dfce36dee22f\" xlink:actuate=\"onRequest\" xlink:href=\"psysml:0692c9f2-55df-4105-9733-dfce36dee22f\" xlink:show=\"new\" xlink:title=\"psysml:0692c9f2-55df-4105-9733-dfce36dee22f\" xlink:type=\"simple\"><path d=\"M346.67,132.03 C423.97,130.01 517.37,125.97 601,118 C621,116.09 643.28,112.71 660.85,109.75 \" fill=\"none\" id=\"E2-backto-E4\" style=\"stroke:#181818;stroke-width:1.0;\"/><ellipse cx=\"339.4275\" cy=\"132.212\" fill=\"#FFFFFF\" rx=\"8\" ry=\"8\" style=\"stroke:#181818;stroke-width:1.0;\"/><line style=\"stroke:#181818;stroke-width:1.0;\" x1=\"347.4251\" x2=\"331.43\" y1=\"132.0139\" y2=\"132.41\"/><line style=\"stroke:#181818;stroke-width:1.0;\" x1=\"339.6256\" x2=\"339.2295\" y1=\"140.2095\" y2=\"124.2144\"/></a></g><!--MD5=[dcad52bbbca2fe8adc741ce38b45dc12]\n",
       "link E2 to E5--><g id=\"link_E2_E5\"><a href=\"psysml:5475e9c9-80e0-4fc7-8e7a-2798b758654f\" target=\"_top\" title=\"psysml:5475e9c9-80e0-4fc7-8e7a-2798b758654f\" xlink:actuate=\"onRequest\" xlink:href=\"psysml:5475e9c9-80e0-4fc7-8e7a-2798b758654f\" xlink:show=\"new\" xlink:title=\"psysml:5475e9c9-80e0-4fc7-8e7a-2798b758654f\" xlink:type=\"simple\"><path d=\"M331.43,103.98 C351.55,99.92 371.83,95.83 390.94,91.98 \" fill=\"none\" id=\"E2-E5\" style=\"stroke:#181818;stroke-width:1.0;\"/></a></g><!--MD5=[1c62de2aa5b76f0fb657ff8443a1a700]\n",
       "link E5 to E4--><g id=\"link_E5_E4\"><a href=\"psysml:8d76b608-a8f6-4258-8ca9-9ea2175446c9\" target=\"_top\" title=\"psysml:8d76b608-a8f6-4258-8ca9-9ea2175446c9\" xlink:actuate=\"onRequest\" xlink:href=\"psysml:8d76b608-a8f6-4258-8ca9-9ea2175446c9\" xlink:show=\"new\" xlink:title=\"psysml:8d76b608-a8f6-4258-8ca9-9ea2175446c9\" xlink:type=\"simple\"><path d=\"M601.05,88.56 C614.78,90.88 628.35,93.17 640.66,95.25 \" fill=\"none\" id=\"E5-to-E4\" style=\"stroke:#181818;stroke-width:1.0;\"/><polygon fill=\"#FFFFFF\" points=\"660.61,98.62,640.7102,102.3615,643.0394,88.5566,660.61,98.62\" style=\"stroke:#181818;stroke-width:1.0;\"/><ellipse cx=\"635.4224\" cy=\"99.4411\" fill=\"#181818\" rx=\"2\" ry=\"2\" style=\"stroke:#181818;stroke-width:1.0;\"/><ellipse cx=\"637.0861\" cy=\"89.5804\" fill=\"#181818\" rx=\"2\" ry=\"2\" style=\"stroke:#181818;stroke-width:1.0;\"/></a></g><!--MD5=[22a55ccd38d058135d79324495838ee3]\n",
       "@startuml\r\n",
       "skin sysmlbw\r\n",
       "skinparam monochrome true\r\n",
       "skinparam wrapWidth 300\r\n",
       "hide circle\r\n",
       "left to right direction\r\n",
       "\r\n",
       "package \"StakeholderConcern\" as E1  [[psysml:094a6024-a405-41a7-8fad-34cef27dcb18 ]]  {\r\n",
       "comp def \"SafetyConcern\" as E2  <<(T,blue) concern  def>> [[psysml:bea18600-a474-4a98-a513-573f388fa77b ]] {\r\n",
       "##//attributes//##\r\n",
       "surfaceTemperature: TemperatureDifferenceUnit\r\n",
       "- -\r\n",
       "##//constraints//##\r\n",
       "<b>require</b> {\\n            doc <U+002F><U+002A> The oven<U+0027>s external surface temperature shall not exceed 300 [K]<U+002A><U+002F>\\n        }\r\n",
       "}\r\n",
       "comp usage \"oven\" as E3 <<subject>>[[psysml:5f3a568e-1b24-440d-a4a9-2fd1454ffc85 ]] {\r\n",
       "}\r\n",
       "comp def \"Person\" as E4  <<(T,blue) part  def>> [[psysml:98f1052e-7019-42f1-8643-3483134f2270 ]] {\r\n",
       "}\r\n",
       "comp usage \"<size:30><&people></size> productDesigner: Person  \" as E5  <<(T,blue) part>> [[psysml:a0a27898-fdc2-4091-aee6-4da77ce81038 ]] {\r\n",
       "}\r\n",
       "}\r\n",
       "E2 o- - E3 [[psysml:c67455ae-1a0b-4693-bd78-ed9c9b6d7f5f ]] \r\n",
       "E2 +- - E4 [[psysml:0692c9f2-55df-4105-9733-dfce36dee22f ]] \r\n",
       "E2 - - E5 [[psysml:5475e9c9-80e0-4fc7-8e7a-2798b758654f ]] \r\n",
       "E5 - -:|> E4 [[psysml:8d76b608-a8f6-4258-8ca9-9ea2175446c9 ]] \r\n",
       "@enduml\r\n",
       "\n",
       "PlantUML version 1.2022.7(Mon Aug 22 11:01:30 MDT 2022)\n",
       "(EPL source distribution)\n",
       "Java Runtime: Java(TM) SE Runtime Environment\n",
       "JVM: Java HotSpot(TM) 64-Bit Server VM\n",
       "Default Encoding: UTF-8\n",
       "Language: en\n",
       "Country: US\n",
       "--></g></svg>"
      ]
     },
     "execution_count": 81,
     "metadata": {},
     "output_type": "execute_result"
    }
   ],
   "source": [
    "%viz --view=default --style=LR StakeholderConcern"
   ]
  },
  {
   "cell_type": "markdown",
   "id": "bea3b403",
   "metadata": {},
   "source": [
    "### RequirementStakeholders.sysml\n",
    "- Concern relates to the interests of a specific stakeholder\n",
    "    - Difference in concerns is seen in form of views and viewpoints\n",
    "\n",
    "**Viewpoint**\n",
    "- Frames stakeholder concerns by offering different views\n",
    "\n",
    "**View**\n",
    "- Represents relevant pieces of a model\n",
    "\n",
    "Note: Stakeholders are part usages and must be defined by part definitions"
   ]
  },
  {
   "cell_type": "code",
   "execution_count": 82,
   "id": "3351eb3c",
   "metadata": {
    "vscode": {
     "languageId": "sysml"
    }
   },
   "outputs": [
    {
     "data": {
      "text/plain": [
       "Package RequirementStakeholders (6d2e41a3-cb92-45b5-bd7a-8ab13b910e1c)\n"
      ]
     },
     "execution_count": 82,
     "metadata": {},
     "output_type": "execute_result"
    }
   ],
   "source": [
    "package RequirementStakeholders{\n",
    "    private import RevisitConstraints::RevisedConstraintDef::*;\n",
    "\n",
    "    part def ProductDesign;\n",
    "    \n",
    "    requirement def <Req01> CookingTemperatureRequirement{\n",
    "        doc\n",
    "        /* Assuming the oven is on\n",
    "        * The oven shall heat up to at least 533 [K]\n",
    "        */\n",
    "        subject testOven: Oven;\n",
    "        stakeholder productDesign: ProductDesign;\n",
    "        assume constraint OvenIsOn;\n",
    "        require constraint CookingTemperature;\n",
    "    }\n",
    "}"
   ]
  },
  {
   "cell_type": "code",
   "execution_count": 83,
   "id": "1b037b06",
   "metadata": {
    "vscode": {
     "languageId": "sysml"
    }
   },
   "outputs": [
    {
     "data": {
      "image/svg+xml": [
       "<?xml version=\"1.0\" encoding=\"UTF-8\" standalone=\"no\"?><svg xmlns=\"http://www.w3.org/2000/svg\" xmlns:xlink=\"http://www.w3.org/1999/xlink\" contentStyleType=\"text/css\" height=\"403px\" preserveAspectRatio=\"none\" style=\"width:728px;height:403px;background:#FFFFFF;\" version=\"1.1\" viewBox=\"0 0 728 403\" width=\"728px\" zoomAndPan=\"magnify\"><defs/><g><!--MD5=[fbc87193dbaf4d95561dea2c320d4a47]\n",
       "cluster E1--><g id=\"cluster_E1\"><a href=\"psysml:6d2e41a3-cb92-45b5-bd7a-8ab13b910e1c\" target=\"_top\" title=\"psysml:6d2e41a3-cb92-45b5-bd7a-8ab13b910e1c\" xlink:actuate=\"onRequest\" xlink:href=\"psysml:6d2e41a3-cb92-45b5-bd7a-8ab13b910e1c\" xlink:show=\"new\" xlink:title=\"psysml:6d2e41a3-cb92-45b5-bd7a-8ab13b910e1c\" xlink:type=\"simple\"><polygon fill=\"none\" points=\"16,6,207,6,214,28.4883,711,28.4883,711,396,16,396,16,6\" style=\"stroke:#000000;stroke-width:1.5;\"/><line style=\"stroke:#000000;stroke-width:1.5;\" x1=\"16\" x2=\"214\" y1=\"28.4883\" y2=\"28.4883\"/><text fill=\"#000000\" font-family=\"sans-serif\" font-size=\"14\" font-weight=\"bold\" lengthAdjust=\"spacing\" textLength=\"185\" x=\"20\" y=\"21.5352\">RequirementStakeholders</text></a></g><!--MD5=[b4997ac47864f28c2f74865a473b2911]\n",
       "class E2--><a href=\"psysml:860628b4-3bbb-44d5-98aa-563bc2b6fa5f\" target=\"_top\" title=\"psysml:860628b4-3bbb-44d5-98aa-563bc2b6fa5f\" xlink:actuate=\"onRequest\" xlink:href=\"psysml:860628b4-3bbb-44d5-98aa-563bc2b6fa5f\" xlink:show=\"new\" xlink:title=\"psysml:860628b4-3bbb-44d5-98aa-563bc2b6fa5f\" xlink:type=\"simple\"><g id=\"elem_E2\"><rect fill=\"#FFFFFF\" height=\"48.6211\" id=\"E2\" style=\"stroke:#181818;stroke-width:0.5;\" width=\"106\" x=\"205\" y=\"331\"/><text fill=\"#000000\" font-family=\"sans-serif\" font-size=\"12\" font-style=\"italic\" lengthAdjust=\"spacing\" textLength=\"63\" x=\"226.5\" y=\"347.6016\">«part  def»</text><text fill=\"#000000\" font-family=\"sans-serif\" font-size=\"14\" lengthAdjust=\"spacing\" textLength=\"100\" x=\"208\" y=\"363.668\">ProductDesign</text><line style=\"stroke:#181818;stroke-width:0.5;\" x1=\"206\" x2=\"310\" y1=\"371.6211\" y2=\"371.6211\"/></g></a><!--MD5=[09b614a08d8cba4a07c9adeb5e0fee81]\n",
       "class E3--><a href=\"psysml:781b1c79-09bc-46d0-921f-8c12ed260a03\" target=\"_top\" title=\"psysml:781b1c79-09bc-46d0-921f-8c12ed260a03\" xlink:actuate=\"onRequest\" xlink:href=\"psysml:781b1c79-09bc-46d0-921f-8c12ed260a03\" xlink:show=\"new\" xlink:title=\"psysml:781b1c79-09bc-46d0-921f-8c12ed260a03\" xlink:type=\"simple\"><g id=\"elem_E3\"><rect fill=\"#FFFFFF\" height=\"92.193\" id=\"E3\" style=\"stroke:#181818;stroke-width:0.5;\" width=\"311\" x=\"195.5\" y=\"41\"/><text fill=\"#000000\" font-family=\"sans-serif\" font-size=\"12\" font-style=\"italic\" lengthAdjust=\"spacing\" textLength=\"110\" x=\"296\" y=\"57.6016\">«requirement  def»</text><text fill=\"#000000\" font-family=\"sans-serif\" font-size=\"14\" lengthAdjust=\"spacing\" textLength=\"305\" x=\"198.5\" y=\"73.668\">&lt;Req01&gt; CookingTemperatureRequirement</text><line style=\"stroke:#181818;stroke-width:0.5;\" x1=\"196.5\" x2=\"505.5\" y1=\"81.6211\" y2=\"81.6211\"/><text fill=\"#000000\" font-family=\"sans-serif\" font-size=\"14\" lengthAdjust=\"spacing\" textLength=\"168\" x=\"201.5\" y=\"109.7516\">Assuming the oven is on</text><text fill=\"#000000\" font-family=\"sans-serif\" font-size=\"14\" lengthAdjust=\"spacing\" textLength=\"280\" x=\"201.5\" y=\"126.2398\">The oven shall heat up to at least 533 [K]</text><text fill=\"#000000\" font-family=\"sans-serif\" font-size=\"14\" font-style=\"italic\" lengthAdjust=\"spacing\" textLength=\"25\" x=\"338.5\" y=\"94.4121\">doc</text></g></a><!--MD5=[ebbe1d658d1005bcc118a6aa81145e00]\n",
       "class E4--><a href=\"psysml:a4a38efc-337c-4dbe-a06e-2de65efb60e6\" target=\"_top\" title=\"psysml:a4a38efc-337c-4dbe-a06e-2de65efb60e6\" xlink:actuate=\"onRequest\" xlink:href=\"psysml:a4a38efc-337c-4dbe-a06e-2de65efb60e6\" xlink:show=\"new\" xlink:title=\"psysml:a4a38efc-337c-4dbe-a06e-2de65efb60e6\" xlink:type=\"simple\"><g id=\"elem_E4\"><rect fill=\"#FFFFFF\" height=\"48.6211\" id=\"E4\" rx=\"10\" ry=\"10\" style=\"stroke:#181818;stroke-width:0.5;\" width=\"66\" x=\"32\" y=\"215.5\"/><text fill=\"#000000\" font-family=\"sans-serif\" font-size=\"12\" font-style=\"italic\" lengthAdjust=\"spacing\" textLength=\"54\" x=\"38\" y=\"232.1016\">«subject»</text><text fill=\"#000000\" font-family=\"sans-serif\" font-size=\"14\" lengthAdjust=\"spacing\" textLength=\"60\" x=\"35\" y=\"248.168\">testOven</text><line style=\"stroke:#181818;stroke-width:0.5;\" x1=\"33\" x2=\"97\" y1=\"256.1211\" y2=\"256.1211\"/></g></a><!--MD5=[270fce915f116d4de14055a7c1d9a0f3]\n",
       "class E5--><a href=\"psysml:f3b9542d-9d08-47fc-9225-9e8b6a28065b\" target=\"_top\" title=\"psysml:f3b9542d-9d08-47fc-9225-9e8b6a28065b\" xlink:actuate=\"onRequest\" xlink:href=\"psysml:f3b9542d-9d08-47fc-9225-9e8b6a28065b\" xlink:show=\"new\" xlink:title=\"psysml:f3b9542d-9d08-47fc-9225-9e8b6a28065b\" xlink:type=\"simple\"><g id=\"elem_E5\"><rect fill=\"#FFFFFF\" height=\"59.6328\" id=\"E5\" rx=\"10\" ry=\"10\" style=\"stroke:#181818;stroke-width:0.5;\" width=\"249\" x=\"133.5\" y=\"210\"/><text fill=\"#000000\" font-family=\"sans-serif\" font-size=\"12\" font-style=\"italic\" lengthAdjust=\"spacing\" textLength=\"36\" x=\"240\" y=\"226.6016\">«part»</text><path d=\"M151.25,229.1328 C149.975,229.1328 148.875,230.0078 148.2,231.3328 C149.325,232.6828 150,234.5328 150,236.6578 C150,237.3828 149.925,238.0328 149.775,238.6828 C150.25,238.9578 150.725,239.1578 151.25,239.1578 C153.325,239.1578 155,236.9078 155,234.1578 C155,231.4078 153.325,229.1578 151.25,229.1578 M143.75,231.6328 C141.675,231.6328 140,233.8828 140,236.6328 C140,239.3828 141.675,241.6328 143.75,241.6328 C145.825,241.6328 147.5,239.3828 147.5,236.6328 C147.5,233.8828 145.825,231.6328 143.75,231.6328 M155.625,239.5328 C154.55,240.8078 153.075,241.5828 151.4,241.6328 C152.075,242.5828 152.5,243.7328 152.5,244.9828 L152.5,246.6328 L157.5,246.6328 L157.5,242.4828 C157.5,241.1828 156.725,240.0578 155.625,239.5078 M139.375,242.0328 C138.275,242.5828 137.5,243.7078 137.5,245.0078 L137.5,249.1578 L150,249.1578 L150,245.0078 C150,243.7078 149.225,242.5828 148.125,242.0328 C147,243.3578 145.475,244.1328 143.75,244.1328 C142.025,244.1328 140.5,243.3328 139.375,242.0328 \" fill=\"#000000\" style=\"stroke:;stroke-width:0.0;stroke-dasharray:;\"/><text fill=\"#000000\" font-family=\"sans-serif\" font-size=\"14\" lengthAdjust=\"spacing\" textLength=\"209\" x=\"162.5\" y=\"253.6797\">productDesign: ProductDesign</text><line style=\"stroke:#181818;stroke-width:0.5;\" x1=\"134.5\" x2=\"381.5\" y1=\"261.6328\" y2=\"261.6328\"/></g></a><!--MD5=[60a26617385b1d2d0262a64233df1f8d]\n",
       "class E6--><a href=\"psysml:a165339f-c48a-439d-89ed-c2eb7bb88ab7\" target=\"_top\" title=\"psysml:a165339f-c48a-439d-89ed-c2eb7bb88ab7\" xlink:actuate=\"onRequest\" xlink:href=\"psysml:a165339f-c48a-439d-89ed-c2eb7bb88ab7\" xlink:show=\"new\" xlink:title=\"psysml:a165339f-c48a-439d-89ed-c2eb7bb88ab7\" xlink:type=\"simple\"><g id=\"elem_E6\"><rect fill=\"#FFFFFF\" height=\"48.6211\" id=\"E6\" rx=\"10\" ry=\"10\" style=\"stroke:#181818;stroke-width:0.5;\" width=\"80\" x=\"418\" y=\"215.5\"/><text fill=\"#000000\" font-family=\"sans-serif\" font-size=\"12\" font-style=\"italic\" lengthAdjust=\"spacing\" textLength=\"68\" x=\"424\" y=\"232.1016\">«constraint»</text><text fill=\"#000000\" font-family=\"sans-serif\" font-size=\"14\" lengthAdjust=\"spacing\" textLength=\"66\" x=\"421\" y=\"248.168\">OvenIsOn</text><line style=\"stroke:#181818;stroke-width:0.5;\" x1=\"419\" x2=\"497\" y1=\"256.1211\" y2=\"256.1211\"/></g></a><!--MD5=[2156ba9850f5573cc1fc38a6a4b2f02b]\n",
       "class E7--><a href=\"psysml:7ecb7977-24a4-4a63-90da-7e1b54277eb2\" target=\"_top\" title=\"psysml:7ecb7977-24a4-4a63-90da-7e1b54277eb2\" xlink:actuate=\"onRequest\" xlink:href=\"psysml:7ecb7977-24a4-4a63-90da-7e1b54277eb2\" xlink:show=\"new\" xlink:title=\"psysml:7ecb7977-24a4-4a63-90da-7e1b54277eb2\" xlink:type=\"simple\"><g id=\"elem_E7\"><rect fill=\"#FFFFFF\" height=\"48.6211\" id=\"E7\" rx=\"10\" ry=\"10\" style=\"stroke:#181818;stroke-width:0.5;\" width=\"161\" x=\"533.5\" y=\"215.5\"/><text fill=\"#000000\" font-family=\"sans-serif\" font-size=\"12\" font-style=\"italic\" lengthAdjust=\"spacing\" textLength=\"68\" x=\"580\" y=\"232.1016\">«constraint»</text><text fill=\"#000000\" font-family=\"sans-serif\" font-size=\"14\" lengthAdjust=\"spacing\" textLength=\"147\" x=\"536.5\" y=\"248.168\">CookingTemperature</text><line style=\"stroke:#181818;stroke-width:0.5;\" x1=\"534.5\" x2=\"693.5\" y1=\"256.1211\" y2=\"256.1211\"/></g></a><!--MD5=[4672eba38e49728da53d11aeb285b987]\n",
       "reverse link E3 to E4--><g id=\"link_E3_E4\"><a href=\"psysml:5d202458-5ad5-40ef-bddc-5e2bff4b6c19\" target=\"_top\" title=\"psysml:5d202458-5ad5-40ef-bddc-5e2bff4b6c19\" xlink:actuate=\"onRequest\" xlink:href=\"psysml:5d202458-5ad5-40ef-bddc-5e2bff4b6c19\" xlink:show=\"new\" xlink:title=\"psysml:5d202458-5ad5-40ef-bddc-5e2bff4b6c19\" xlink:type=\"simple\"><path d=\"M250.55,139.08 C208.75,160.61 159.84,186.17 116,210 C110.18,213.16 104.03,216.59 98.09,219.94 \" fill=\"none\" id=\"E3-backto-E4\" style=\"stroke:#181818;stroke-width:1.0;\"/><polygon fill=\"none\" points=\"262.14,133.12,254.9749,132.3065,251.4682,138.6076,258.6333,139.421,262.14,133.12\" style=\"stroke:#181818;stroke-width:1.0;\"/></a></g><!--MD5=[0188b64bb0ae78505a997a81836e11e9]\n",
       "link E3 to E5--><g id=\"link_E3_E5\"><a href=\"psysml:a4587860-f013-4a0a-b050-c7ad1bb36d5c\" target=\"_top\" title=\"psysml:a4587860-f013-4a0a-b050-c7ad1bb36d5c\" xlink:actuate=\"onRequest\" xlink:href=\"psysml:a4587860-f013-4a0a-b050-c7ad1bb36d5c\" xlink:show=\"new\" xlink:title=\"psysml:a4587860-f013-4a0a-b050-c7ad1bb36d5c\" xlink:type=\"simple\"><path d=\"M323.1,133.3 C307.79,158.15 289.28,188.22 275.91,209.92 \" fill=\"none\" id=\"E3-E5\" style=\"stroke:#181818;stroke-width:1.0;\"/></a></g><!--MD5=[15ebcb19ae302d9b601edb458606d402]\n",
       "link E5 to E2--><g id=\"link_E5_E2\"><a href=\"psysml:959f4170-f166-4d25-b746-c50e709f6e57\" target=\"_top\" title=\"psysml:959f4170-f166-4d25-b746-c50e709f6e57\" xlink:actuate=\"onRequest\" xlink:href=\"psysml:959f4170-f166-4d25-b746-c50e709f6e57\" xlink:show=\"new\" xlink:title=\"psysml:959f4170-f166-4d25-b746-c50e709f6e57\" xlink:type=\"simple\"><path d=\"M258,270.23 C258,282.41 258,296.82 258,310.25 \" fill=\"none\" id=\"E5-to-E2\" style=\"stroke:#181818;stroke-width:1.0;\"/><polygon fill=\"#FFFFFF\" points=\"258,330.72,251,311.72,265,311.72,258,330.72\" style=\"stroke:#181818;stroke-width:1.0;\"/><ellipse cx=\"253\" cy=\"306.02\" fill=\"#181818\" rx=\"2\" ry=\"2\" style=\"stroke:#181818;stroke-width:1.0;\"/><ellipse cx=\"263\" cy=\"306.02\" fill=\"#181818\" rx=\"2\" ry=\"2\" style=\"stroke:#181818;stroke-width:1.0;\"/></a></g><!--MD5=[ec9844e0c75763426927cad3229d1081]\n",
       "link E3 to E6--><g id=\"link_E3_E6\"><a href=\"psysml:f22079ba-64f8-4e65-b0b9-9c25aad8087e\" target=\"_top\" title=\"psysml:f22079ba-64f8-4e65-b0b9-9c25aad8087e\" xlink:actuate=\"onRequest\" xlink:href=\"psysml:f22079ba-64f8-4e65-b0b9-9c25aad8087e\" xlink:show=\"new\" xlink:title=\"psysml:f22079ba-64f8-4e65-b0b9-9c25aad8087e\" xlink:type=\"simple\"><path d=\"M383.1,133.3 C400.99,158.55 422.71,189.19 438.14,210.97 \" fill=\"none\" id=\"E3-to-E6\" style=\"stroke:#181818;stroke-width:1.0;\"/><polygon fill=\"#181818\" points=\"441.14,215.2,439.1991,205.5443,438.2487,211.1207,432.6723,210.1703,441.14,215.2\" style=\"stroke:#181818;stroke-width:1.0;\"/><text fill=\"#000000\" font-family=\"sans-serif\" font-size=\"13\" lengthAdjust=\"spacing\" textLength=\"62\" x=\"415\" y=\"176.5684\">«assume»</text></a></g><!--MD5=[4931de25dcb70cd4585e7722db9b3a49]\n",
       "link E3 to E7--><g id=\"link_E3_E7\"><a href=\"psysml:ab81ca80-6cfc-48c2-a5d6-2cddbbcb7abd\" target=\"_top\" title=\"psysml:ab81ca80-6cfc-48c2-a5d6-2cddbbcb7abd\" xlink:actuate=\"onRequest\" xlink:href=\"psysml:ab81ca80-6cfc-48c2-a5d6-2cddbbcb7abd\" xlink:show=\"new\" xlink:title=\"psysml:ab81ca80-6cfc-48c2-a5d6-2cddbbcb7abd\" xlink:type=\"simple\"><path d=\"M432.95,133.04 C450.51,142.82 468.91,153.18 486,163 C514.27,179.24 545.76,197.93 570.43,212.71 \" fill=\"none\" id=\"E3-to-E7\" style=\"stroke:#181818;stroke-width:1.0;\"/><polygon fill=\"#181818\" points=\"574.96,215.42,569.3005,207.3596,570.6725,212.8475,565.1846,214.2195,574.96,215.42\" style=\"stroke:#181818;stroke-width:1.0;\"/><text fill=\"#000000\" font-family=\"sans-serif\" font-size=\"13\" lengthAdjust=\"spacing\" textLength=\"58\" x=\"515\" y=\"176.5684\">«require»</text></a></g><!--MD5=[5e8faaaa3654c610ea7dfe3d023a6e76]\n",
       "@startuml\r\n",
       "skin sysmlbw\r\n",
       "skinparam monochrome true\r\n",
       "skinparam wrapWidth 300\r\n",
       "hide circle\r\n",
       "\r\n",
       "package \"RequirementStakeholders\" as E1  [[psysml:6d2e41a3-cb92-45b5-bd7a-8ab13b910e1c ]]  {\r\n",
       "comp def \"ProductDesign\" as E2  <<(T,blue) part  def>> [[psysml:860628b4-3bbb-44d5-98aa-563bc2b6fa5f ]] {\r\n",
       "}\r\n",
       "comp def \"~<Req01> CookingTemperatureRequirement\" as E3  <<(T,blue) requirement  def>> [[psysml:781b1c79-09bc-46d0-921f-8c12ed260a03 ]] {\r\n",
       "##//doc//##\r\n",
       "Assuming the oven is on\\nThe oven shall heat up to at least 533 [K]\r\n",
       "}\r\n",
       "comp usage \"testOven\" as E4 <<subject>>[[psysml:a4a38efc-337c-4dbe-a06e-2de65efb60e6 ]] {\r\n",
       "}\r\n",
       "comp usage \"<size:30><&people></size> productDesign: ProductDesign  \" as E5  <<(T,blue) part>> [[psysml:f3b9542d-9d08-47fc-9225-9e8b6a28065b ]] {\r\n",
       "}\r\n",
       "comp usage \"OvenIsOn  \" as E6  <<(T,blue) constraint>> [[psysml:a165339f-c48a-439d-89ed-c2eb7bb88ab7 ]] {\r\n",
       "}\r\n",
       "comp usage \"CookingTemperature  \" as E7  <<(T,blue) constraint>> [[psysml:7ecb7977-24a4-4a63-90da-7e1b54277eb2 ]] {\r\n",
       "}\r\n",
       "}\r\n",
       "E3 o- - E4 [[psysml:5d202458-5ad5-40ef-bddc-5e2bff4b6c19 ]] \r\n",
       "E3 - - E5 [[psysml:a4587860-f013-4a0a-b050-c7ad1bb36d5c ]] \r\n",
       "E5 - -:|> E2 [[psysml:959f4170-f166-4d25-b746-c50e709f6e57 ]] \r\n",
       "E3 - -> E6 [[psysml:f22079ba-64f8-4e65-b0b9-9c25aad8087e ]] : <<assume>>\r\n",
       "E3 - -> E7 [[psysml:ab81ca80-6cfc-48c2-a5d6-2cddbbcb7abd ]] : <<require>>\r\n",
       "@enduml\r\n",
       "\n",
       "PlantUML version 1.2022.7(Mon Aug 22 11:01:30 MDT 2022)\n",
       "(EPL source distribution)\n",
       "Java Runtime: Java(TM) SE Runtime Environment\n",
       "JVM: Java HotSpot(TM) 64-Bit Server VM\n",
       "Default Encoding: UTF-8\n",
       "Language: en\n",
       "Country: US\n",
       "--></g></svg>"
      ]
     },
     "execution_count": 83,
     "metadata": {},
     "output_type": "execute_result"
    }
   ],
   "source": [
    "%viz --view=default RequirementStakeholders"
   ]
  }
 ],
 "metadata": {
  "kernelspec": {
   "display_name": "SysML",
   "language": "sysml",
   "name": "sysml"
  },
  "language_info": {
   "codemirror_mode": "sysml",
   "file_extension": ".sysml",
   "mimetype": "text/x-sysml",
   "name": "SysML",
   "pygments_lexer": "java",
   "version": "1.0.0"
  }
 },
 "nbformat": 4,
 "nbformat_minor": 5
}
