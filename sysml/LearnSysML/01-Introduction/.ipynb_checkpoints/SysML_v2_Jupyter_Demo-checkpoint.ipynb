{
 "cells": [
  {
   "cell_type": "markdown",
   "id": "074eb51d-de1d-4148-8dbe-6954015ff09e",
   "metadata": {},
   "source": [
    "# SysML v2 Jupyter Demo\n",
    "\n",
    "## Intro\n",
    "This is a simple demo of SysML v2 in a Jupyter Notebook from [Systems Engineering Trends](https://www.youtube.com/watch?v=YnYDhFoQgzQ)\n",
    "\n",
    "## A Simple Model\n",
    "Using Textual SysML"
   ]
  },
  {
   "cell_type": "code",
   "execution_count": 5,
   "id": "d5195083-4a7a-4a31-904e-22b71f5d4d78",
   "metadata": {
    "tags": []
   },
   "outputs": [
    {
     "data": {
      "text/plain": [
       "Package SE_Trends (697b2ee3-4c95-4df7-a97a-a6f8beaf250f)\n"
      ]
     },
     "execution_count": 5,
     "metadata": {},
     "output_type": "execute_result"
    }
   ],
   "source": [
    "package SE_Trends {\n",
    "    part def Oven;\n",
    "    part def HeatingElement{\n",
    "        attribute temperature;\n",
    "    }\n",
    "\n",
    "    part testOven: Oven {\n",
    "        part heatingElement: HeatingElement;\n",
    "    }\n",
    "\n",
    "}"
   ]
  },
  {
   "cell_type": "markdown",
   "id": "2d052a24-7c1a-4b4c-998d-49a747eaaee7",
   "metadata": {},
   "source": [
    "Running this code block will result in a Package with an ID.\n",
    "\n",
    "**Important** Rerunning the block changes the ID\n",
    "\n",
    "## Rendering the model\n",
    "Use `%help` to learn what commands are available to you"
   ]
  },
  {
   "cell_type": "code",
   "execution_count": 6,
   "id": "796a3e77-7cd6-4e6f-aad5-bcdcd3153a42",
   "metadata": {
    "tags": []
   },
   "outputs": [
    {
     "data": {
      "text/plain": [
       "The following SysML v2 magic commands are available.\n",
       "For help on a specific command, use \"%help <COMMAND>\" or \"%<cmd> -h\".\n",
       "\n",
       "%eval\t\tEvaluate a given expression.\n",
       "%export\t\tSave a file of the JSON representation of the abstract syntax tree rooted in the named element.\n",
       "%help\t\tGet a list of available commands or help on a specific command\n",
       "%list\t\tList loaded library packages or the results of a given query\n",
       "%load\t\tLoad models from the repository\n",
       "%projects\tList projects in the repository\n",
       "%publish\tPublish to the repository the model elements rooted in a named element\n",
       "%repo\t\tSet the API base path for the repository\n",
       "%show\t\tPrint the abstract syntax tree rooted in a named element\n",
       "%view\t\tRender the view specified by the named view usage\n",
       "%viz\t\tVisualize the named model elements\n"
      ]
     },
     "execution_count": 6,
     "metadata": {},
     "output_type": "execute_result"
    }
   ],
   "source": [
    "%help"
   ]
  },
  {
   "cell_type": "markdown",
   "id": "5be2e893-40e7-4b6c-a84d-9a482db74621",
   "metadata": {},
   "source": [
    "We'll use `%viz` to visualize the system"
   ]
  },
  {
   "cell_type": "code",
   "execution_count": 8,
   "id": "14fdbdd1-dfc0-4eb1-a9b9-5d9cf5e8e799",
   "metadata": {
    "tags": []
   },
   "outputs": [
    {
     "data": {
      "image/svg+xml": [
       "<?xml version=\"1.0\" encoding=\"UTF-8\" standalone=\"no\"?><svg xmlns=\"http://www.w3.org/2000/svg\" xmlns:xlink=\"http://www.w3.org/1999/xlink\" contentStyleType=\"text/css\" height=\"358px\" preserveAspectRatio=\"none\" style=\"width:403px;height:358px;background:#FFFFFF;\" version=\"1.1\" viewBox=\"0 0 403 358\" width=\"403px\" zoomAndPan=\"magnify\"><defs/><g><!--MD5=[fbc87193dbaf4d95561dea2c320d4a47]\n",
       "cluster E1--><g id=\"cluster_E1\"><a href=\"psysml:697b2ee3-4c95-4df7-a97a-a6f8beaf250f\" target=\"_top\" title=\"psysml:697b2ee3-4c95-4df7-a97a-a6f8beaf250f\" xlink:actuate=\"onRequest\" xlink:href=\"psysml:697b2ee3-4c95-4df7-a97a-a6f8beaf250f\" xlink:show=\"new\" xlink:title=\"psysml:697b2ee3-4c95-4df7-a97a-a6f8beaf250f\" xlink:type=\"simple\"><polygon fill=\"none\" points=\"16,6,95,6,102,28.4883,386,28.4883,386,351,16,351,16,6\" style=\"stroke:#000000;stroke-width:1.5;\"/><line style=\"stroke:#000000;stroke-width:1.5;\" x1=\"16\" x2=\"102\" y1=\"28.4883\" y2=\"28.4883\"/><text fill=\"#000000\" font-family=\"sans-serif\" font-size=\"14\" font-weight=\"bold\" lengthAdjust=\"spacing\" textLength=\"73\" x=\"20\" y=\"21.5352\">SE_Trends</text></a></g><!--MD5=[b4997ac47864f28c2f74865a473b2911]\n",
       "class E2--><a href=\"psysml:036a9293-e732-4788-a6be-d40fcf615359\" target=\"_top\" title=\"psysml:036a9293-e732-4788-a6be-d40fcf615359\" xlink:actuate=\"onRequest\" xlink:href=\"psysml:036a9293-e732-4788-a6be-d40fcf615359\" xlink:show=\"new\" xlink:title=\"psysml:036a9293-e732-4788-a6be-d40fcf615359\" xlink:type=\"simple\"><g id=\"elem_E2\"><rect fill=\"#FFFFFF\" height=\"48.6211\" id=\"E2\" style=\"stroke:#181818;stroke-width:0.5;\" width=\"65\" x=\"32.5\" y=\"150\"/><text fill=\"#000000\" font-family=\"sans-serif\" font-size=\"12\" font-style=\"italic\" lengthAdjust=\"spacing\" textLength=\"63\" x=\"33.5\" y=\"166.6016\">«part  def»</text><text fill=\"#000000\" font-family=\"sans-serif\" font-size=\"14\" lengthAdjust=\"spacing\" textLength=\"35\" x=\"47.5\" y=\"182.668\">Oven</text><line style=\"stroke:#181818;stroke-width:0.5;\" x1=\"33.5\" x2=\"96.5\" y1=\"190.6211\" y2=\"190.6211\"/></g></a><!--MD5=[09b614a08d8cba4a07c9adeb5e0fee81]\n",
       "class E3--><a href=\"psysml:6627b3a1-784a-4637-af43-81d530018e58\" target=\"_top\" title=\"psysml:6627b3a1-784a-4637-af43-81d530018e58\" xlink:actuate=\"onRequest\" xlink:href=\"psysml:6627b3a1-784a-4637-af43-81d530018e58\" xlink:show=\"new\" xlink:title=\"psysml:6627b3a1-784a-4637-af43-81d530018e58\" xlink:type=\"simple\"><g id=\"elem_E3\"><rect fill=\"#FFFFFF\" height=\"75.7047\" id=\"E3\" style=\"stroke:#181818;stroke-width:0.5;\" width=\"114\" x=\"194\" y=\"259\"/><text fill=\"#000000\" font-family=\"sans-serif\" font-size=\"12\" font-style=\"italic\" lengthAdjust=\"spacing\" textLength=\"63\" x=\"219.5\" y=\"275.6016\">«part  def»</text><text fill=\"#000000\" font-family=\"sans-serif\" font-size=\"14\" lengthAdjust=\"spacing\" textLength=\"108\" x=\"197\" y=\"291.668\">HeatingElement</text><line style=\"stroke:#181818;stroke-width:0.5;\" x1=\"195\" x2=\"307\" y1=\"299.6211\" y2=\"299.6211\"/><text fill=\"#000000\" font-family=\"sans-serif\" font-size=\"14\" lengthAdjust=\"spacing\" textLength=\"85\" x=\"200\" y=\"327.7516\">temperature</text><text fill=\"#000000\" font-family=\"sans-serif\" font-size=\"14\" font-style=\"italic\" lengthAdjust=\"spacing\" textLength=\"66\" x=\"218\" y=\"312.4121\">attributes</text></g></a><!--MD5=[ebbe1d658d1005bcc118a6aa81145e00]\n",
       "class E4--><a href=\"psysml:f586f8e5-497a-4cdf-a67f-add62008826b\" target=\"_top\" title=\"psysml:f586f8e5-497a-4cdf-a67f-add62008826b\" xlink:actuate=\"onRequest\" xlink:href=\"psysml:f586f8e5-497a-4cdf-a67f-add62008826b\" xlink:show=\"new\" xlink:title=\"psysml:f586f8e5-497a-4cdf-a67f-add62008826b\" xlink:type=\"simple\"><g id=\"elem_E4\"><rect fill=\"#FFFFFF\" height=\"48.6211\" id=\"E4\" rx=\"10\" ry=\"10\" style=\"stroke:#181818;stroke-width:0.5;\" width=\"117\" x=\"112.5\" y=\"41\"/><text fill=\"#000000\" font-family=\"sans-serif\" font-size=\"12\" font-style=\"italic\" lengthAdjust=\"spacing\" textLength=\"36\" x=\"153\" y=\"57.6016\">«part»</text><text fill=\"#000000\" font-family=\"sans-serif\" font-size=\"14\" lengthAdjust=\"spacing\" textLength=\"103\" x=\"115.5\" y=\"73.668\">testOven: Oven</text><line style=\"stroke:#181818;stroke-width:0.5;\" x1=\"113.5\" x2=\"228.5\" y1=\"81.6211\" y2=\"81.6211\"/></g></a><!--MD5=[270fce915f116d4de14055a7c1d9a0f3]\n",
       "class E5--><a href=\"psysml:7427238d-2b59-4e5a-b376-c0b2242b06ce\" target=\"_top\" title=\"psysml:7427238d-2b59-4e5a-b376-c0b2242b06ce\" xlink:actuate=\"onRequest\" xlink:href=\"psysml:7427238d-2b59-4e5a-b376-c0b2242b06ce\" xlink:show=\"new\" xlink:title=\"psysml:7427238d-2b59-4e5a-b376-c0b2242b06ce\" xlink:type=\"simple\"><g id=\"elem_E5\"><rect fill=\"#FFFFFF\" height=\"48.6211\" id=\"E5\" rx=\"10\" ry=\"10\" style=\"stroke:#181818;stroke-width:0.5;\" width=\"237\" x=\"132.5\" y=\"150\"/><text fill=\"#000000\" font-family=\"sans-serif\" font-size=\"12\" font-style=\"italic\" lengthAdjust=\"spacing\" textLength=\"36\" x=\"233\" y=\"166.6016\">«part»</text><text fill=\"#000000\" font-family=\"sans-serif\" font-size=\"14\" lengthAdjust=\"spacing\" textLength=\"223\" x=\"135.5\" y=\"182.668\">heatingElement: HeatingElement</text><line style=\"stroke:#181818;stroke-width:0.5;\" x1=\"133.5\" x2=\"368.5\" y1=\"190.6211\" y2=\"190.6211\"/></g></a><!--MD5=[185131fc0dcab0a4505a2ebe144e961b]\n",
       "link E4 to E2--><g id=\"link_E4_E2\"><a href=\"psysml:d024176e-5140-41ed-8500-b6045008d656\" target=\"_top\" title=\"psysml:d024176e-5140-41ed-8500-b6045008d656\" xlink:actuate=\"onRequest\" xlink:href=\"psysml:d024176e-5140-41ed-8500-b6045008d656\" xlink:show=\"new\" xlink:title=\"psysml:d024176e-5140-41ed-8500-b6045008d656\" xlink:type=\"simple\"><path d=\"M147.48,90.25 C134.3,103.55 117.56,120.44 102.61,135.53 \" fill=\"none\" id=\"E4-to-E2\" style=\"stroke:#181818;stroke-width:1.0;\"/><polygon fill=\"#FFFFFF\" points=\"88.46,149.82,96.8617,131.3969,106.806,141.2513,88.46,149.82\" style=\"stroke:#181818;stroke-width:1.0;\"/><ellipse cx=\"102.2944\" cy=\"128.7559\" fill=\"#181818\" rx=\"2\" ry=\"2\" style=\"stroke:#181818;stroke-width:1.0;\"/><ellipse cx=\"109.3976\" cy=\"135.7947\" fill=\"#181818\" rx=\"2\" ry=\"2\" style=\"stroke:#181818;stroke-width:1.0;\"/></a></g><!--MD5=[62aa6af11e70f752912c1cb0466f24f7]\n",
       "reverse link E4 to E5--><g id=\"link_E4_E5\"><a href=\"psysml:cf752471-46c0-48ab-8fdd-c96e998588cb\" target=\"_top\" title=\"psysml:cf752471-46c0-48ab-8fdd-c96e998588cb\" xlink:actuate=\"onRequest\" xlink:href=\"psysml:cf752471-46c0-48ab-8fdd-c96e998588cb\" xlink:show=\"new\" xlink:title=\"psysml:cf752471-46c0-48ab-8fdd-c96e998588cb\" xlink:type=\"simple\"><path d=\"M196.65,100.81 C208.61,116.8 222.53,135.43 233.3,149.82 \" fill=\"none\" id=\"E4-backto-E5\" style=\"stroke:#181818;stroke-width:1.0;\"/><polygon fill=\"#181818\" points=\"188.75,90.25,189.1389,97.4506,195.9352,99.8611,195.5463,92.6605,188.75,90.25\" style=\"stroke:#181818;stroke-width:1.0;\"/></a></g><!--MD5=[e9be52314489bd878ff4c7144b63c9e1]\n",
       "link E5 to E3--><g id=\"link_E5_E3\"><a href=\"psysml:4bba444b-854c-4105-9712-55dd3b55fb63\" target=\"_top\" title=\"psysml:4bba444b-854c-4105-9712-55dd3b55fb63\" xlink:actuate=\"onRequest\" xlink:href=\"psysml:4bba444b-854c-4105-9712-55dd3b55fb63\" xlink:show=\"new\" xlink:title=\"psysml:4bba444b-854c-4105-9712-55dd3b55fb63\" xlink:type=\"simple\"><path d=\"M251,199.02 C251,210.43 251,224.69 251,238.73 \" fill=\"none\" id=\"E5-to-E3\" style=\"stroke:#181818;stroke-width:1.0;\"/><polygon fill=\"#FFFFFF\" points=\"251,258.79,244,239.79,258,239.79,251,258.79\" style=\"stroke:#181818;stroke-width:1.0;\"/><ellipse cx=\"246\" cy=\"234.09\" fill=\"#181818\" rx=\"2\" ry=\"2\" style=\"stroke:#181818;stroke-width:1.0;\"/><ellipse cx=\"256\" cy=\"234.09\" fill=\"#181818\" rx=\"2\" ry=\"2\" style=\"stroke:#181818;stroke-width:1.0;\"/></a></g><!--MD5=[ec605faeb8a50de78cd62a6033a48d35]\n",
       "@startuml\r\n",
       "skin sysmlbw\r\n",
       "skinparam monochrome true\r\n",
       "skinparam wrapWidth 300\r\n",
       "hide circle\r\n",
       "\r\n",
       "package \"SE_Trends\" as E1  [[psysml:697b2ee3-4c95-4df7-a97a-a6f8beaf250f ]]  {\r\n",
       "comp def \"Oven\" as E2  <<(T,blue) part  def>> [[psysml:036a9293-e732-4788-a6be-d40fcf615359 ]] {\r\n",
       "}\r\n",
       "comp def \"HeatingElement\" as E3  <<(T,blue) part  def>> [[psysml:6627b3a1-784a-4637-af43-81d530018e58 ]] {\r\n",
       "##//attributes//##\r\n",
       "temperature\r\n",
       "}\r\n",
       "comp usage \"testOven: Oven  \" as E4  <<(T,blue) part>> [[psysml:f586f8e5-497a-4cdf-a67f-add62008826b ]] {\r\n",
       "}\r\n",
       "comp usage \"heatingElement: HeatingElement  \" as E5  <<(T,blue) part>> [[psysml:7427238d-2b59-4e5a-b376-c0b2242b06ce ]] {\r\n",
       "}\r\n",
       "}\r\n",
       "E4 - -:|> E2 [[psysml:d024176e-5140-41ed-8500-b6045008d656 ]] \r\n",
       "E4 *- - E5 [[psysml:cf752471-46c0-48ab-8fdd-c96e998588cb ]] \r\n",
       "E5 - -:|> E3 [[psysml:4bba444b-854c-4105-9712-55dd3b55fb63 ]] \r\n",
       "@enduml\r\n",
       "\n",
       "PlantUML version 1.2022.7(Mon Aug 22 11:01:30 MDT 2022)\n",
       "(EPL source distribution)\n",
       "Java Runtime: Java(TM) SE Runtime Environment\n",
       "JVM: Java HotSpot(TM) 64-Bit Server VM\n",
       "Default Encoding: UTF-8\n",
       "Language: en\n",
       "Country: US\n",
       "--></g></svg>"
      ]
     },
     "execution_count": 8,
     "metadata": {},
     "output_type": "execute_result"
    }
   ],
   "source": [
    "%viz --view=tree SE_Trends\n",
    "// Technically `%viz SE_Trends` would result in the default view but it's best to specify things directly"
   ]
  },
  {
   "cell_type": "markdown",
   "id": "7ea1a974-a89b-49fb-9cca-dfa20ee1a5a6",
   "metadata": {},
   "source": [
    "## Visualization Options\n",
    "There's several different types of view available in SysML. You can get a list of options with `%help %viz`"
   ]
  },
  {
   "cell_type": "code",
   "execution_count": 13,
   "id": "bca0118d-c5b8-42bc-8b37-158dc73cfdbf",
   "metadata": {
    "tags": []
   },
   "outputs": [
    {
     "data": {
      "text/plain": [
       "Usage: %viz [--view=<VIEW>] [--style=<STYLE>...] <NAME> [<NAME>...]\n",
       "\n",
       "Visualize model elements of <NAME>(s). <NAME>s must be fully qualified.\n",
       "\n",
       "<VIEW> is case insensitive and possible candidates are:\n",
       "   DEFAULT\t\tAutomatically choose an appropriate view from the given model element names\n",
       "   TREE\t\t\tShow a tree-structural view, like a Block Definition Diagram (BDD)\n",
       "   INTERCONNECTION\tShow an interconnection view, like an Internal Block Diagram (IBD)\n",
       "   STATE\t\tShow state machines\n",
       "   ACTION\t\tShow actions like an activity diagram\n",
       "   SEQUENCE\t\tShow events and messages in a sequence diagram\n",
       "   MIXED\t\tShow multiple views\n",
       "\n",
       "<STYLE> is also case insensitive. Multiple --style options are allowed.  The possible style names are:\n",
       "  DEFAULT\t\tStandard B&&W\n",
       "  STDCOLOR\t\tStandard style with colors\n",
       "  PLANTUML\t\tPlantUML Style\n",
       "  TB\t\t\tTop-to-Bottom orientation\n",
       "  LR\t\t\tLeft-to-Right orientation\n",
       "  POLYLINE\t\tPolyline style\n",
       "  ORTHOLINE\t\tOrthogonal line style\n",
       "  SHOWLIB\t\tShow elements of the standard libraries\n",
       "  SHOWINHERITED\t\tShow inherited members\n",
       "  COMPMOST\t\tShow as many memberships in a compartment as possible\n",
       "  COMPTREE\t\tShow nested ports in a compartment\n",
       "  SHOWIMPORTED\t\tShow imported elements\n",
       "  HIDEMETADATA\t\tHide metadata\n",
       "  SHOWMETACLASS\t\tShow metaclasses of metaobjects\n",
       "  EVAL\t\tEvaluate expressions\n",
       "  NODEMULTIPLICITY\t\tShow multiplicities in nodes\n",
       "  EDGEMULTIPLICITY\t\tShow multiplicities on edges\n",
       "  IMPLICITMULTIPLICITY\t\tShow implicit multiplicities\n",
       "\n",
       "Example:\n",
       "\t%viz --view Tree --style LR --style ortholine Pkg1::PartDef Pkg1::Pkg2::partUsage\n",
       "should visualize Pkg1::PartDef and Pkg1::Pkg2::partUsage with a tree view ordered in the left-to-right direction with orthogonal lines.\n"
      ]
     },
     "execution_count": 13,
     "metadata": {},
     "output_type": "execute_result"
    }
   ],
   "source": [
    "%help %viz"
   ]
  },
  {
   "cell_type": "markdown",
   "id": "f370a82e-c0ad-448b-b359-039c6eae7b95",
   "metadata": {},
   "source": [
    "Let's try an interconnection view"
   ]
  },
  {
   "cell_type": "code",
   "execution_count": 12,
   "id": "2b666f0a-783b-4e6a-a845-4ec8884b9d34",
   "metadata": {
    "tags": []
   },
   "outputs": [
    {
     "data": {
      "image/svg+xml": [
       "<?xml version=\"1.0\" encoding=\"UTF-8\" standalone=\"no\"?><svg xmlns=\"http://www.w3.org/2000/svg\" xmlns:xlink=\"http://www.w3.org/1999/xlink\" contentStyleType=\"text/css\" height=\"375px\" preserveAspectRatio=\"none\" style=\"width:398px;height:375px;background:#FFFFFF;\" version=\"1.1\" viewBox=\"0 0 398 375\" width=\"398px\" zoomAndPan=\"magnify\"><defs/><g><!--MD5=[fbc87193dbaf4d95561dea2c320d4a47]\n",
       "cluster E1--><g id=\"cluster_E1\"><a href=\"psysml:697b2ee3-4c95-4df7-a97a-a6f8beaf250f\" target=\"_top\" title=\"psysml:697b2ee3-4c95-4df7-a97a-a6f8beaf250f\" xlink:actuate=\"onRequest\" xlink:href=\"psysml:697b2ee3-4c95-4df7-a97a-a6f8beaf250f\" xlink:show=\"new\" xlink:title=\"psysml:697b2ee3-4c95-4df7-a97a-a6f8beaf250f\" xlink:type=\"simple\"><polygon fill=\"none\" points=\"16,6,95,6,102,28.4883,381,28.4883,381,368,16,368,16,6\" style=\"stroke:#000000;stroke-width:1.5;\"/><line style=\"stroke:#000000;stroke-width:1.5;\" x1=\"16\" x2=\"102\" y1=\"28.4883\" y2=\"28.4883\"/><text fill=\"#000000\" font-family=\"sans-serif\" font-size=\"14\" font-weight=\"bold\" lengthAdjust=\"spacing\" textLength=\"73\" x=\"20\" y=\"21.5352\">SE_Trends</text></a></g><!--MD5=[d5e69f78d87373223dbae638b30a9c99]\n",
       "cluster E3--><g id=\"cluster_E3\"><a href=\"psysml:6627b3a1-784a-4637-af43-81d530018e58\" target=\"_top\" title=\"psysml:6627b3a1-784a-4637-af43-81d530018e58\" xlink:actuate=\"onRequest\" xlink:href=\"psysml:6627b3a1-784a-4637-af43-81d530018e58\" xlink:show=\"new\" xlink:title=\"psysml:6627b3a1-784a-4637-af43-81d530018e58\" xlink:type=\"simple\"><rect fill=\"#FFFFFF\" height=\"132\" id=\"E3\" style=\"stroke:#383838;stroke-width:1.5;\" width=\"167\" x=\"182\" y=\"204\"/><text fill=\"#000000\" font-family=\"sans-serif\" font-size=\"12\" font-style=\"italic\" lengthAdjust=\"spacing\" textLength=\"63\" x=\"234\" y=\"220.6016\">«part  def»</text><text fill=\"#000000\" font-family=\"sans-serif\" font-size=\"14\" lengthAdjust=\"spacing\" textLength=\"108\" x=\"211.5\" y=\"236.668\">HeatingElement</text><line style=\"stroke:#383838;stroke-width:1.0;\" x1=\"182\" x2=\"349\" y1=\"244.6211\" y2=\"244.6211\"/></a></g><!--MD5=[de5ec2e2e8f62f467e546659f5068c88]\n",
       "cluster E5--><g id=\"cluster_E5\"><a href=\"psysml:f586f8e5-497a-4cdf-a67f-add62008826b\" target=\"_top\" title=\"psysml:f586f8e5-497a-4cdf-a67f-add62008826b\" xlink:actuate=\"onRequest\" xlink:href=\"psysml:f586f8e5-497a-4cdf-a67f-add62008826b\" xlink:show=\"new\" xlink:title=\"psysml:f586f8e5-497a-4cdf-a67f-add62008826b\" xlink:type=\"simple\"><rect fill=\"#FFFFFF\" height=\"107\" id=\"E5\" rx=\"10\" ry=\"10\" style=\"stroke:#383838;stroke-width:1.5;\" width=\"301\" x=\"48\" y=\"57\"/><text fill=\"#000000\" font-family=\"sans-serif\" font-size=\"14\" lengthAdjust=\"spacing\" textLength=\"103\" x=\"147\" y=\"75.5352\">testOven: Oven</text><line style=\"stroke:#383838;stroke-width:1.0;\" x1=\"48\" x2=\"349\" y1=\"83.4883\" y2=\"83.4883\"/></a></g><g><a href=\"psysml:036a9293-e732-4788-a6be-d40fcf615359\" target=\"_top\" title=\"psysml:036a9293-e732-4788-a6be-d40fcf615359\" xlink:actuate=\"onRequest\" xlink:href=\"psysml:036a9293-e732-4788-a6be-d40fcf615359\" xlink:show=\"new\" xlink:title=\"psysml:036a9293-e732-4788-a6be-d40fcf615359\" xlink:type=\"simple\"><rect fill=\"#FFFFFF\" height=\"45.6211\" id=\"E2\" style=\"stroke:#383838;stroke-width:1.5;\" width=\"70\" x=\"32\" y=\"264.5\"/><text fill=\"#000000\" font-family=\"sans-serif\" font-size=\"12\" font-style=\"italic\" lengthAdjust=\"spacing\" textLength=\"63\" x=\"35.5\" y=\"281.1016\">«part  def»</text><text fill=\"#000000\" font-family=\"sans-serif\" font-size=\"14\" lengthAdjust=\"spacing\" textLength=\"35\" x=\"49.5\" y=\"297.168\">Oven</text></a></g><!--MD5=[ebbe1d658d1005bcc118a6aa81145e00]\n",
       "class E4--><a href=\"psysml:0620130b-d05a-4666-8b86-1ca54721606c\" target=\"_top\" title=\"psysml:0620130b-d05a-4666-8b86-1ca54721606c\" xlink:actuate=\"onRequest\" xlink:href=\"psysml:0620130b-d05a-4666-8b86-1ca54721606c\" xlink:show=\"new\" xlink:title=\"psysml:0620130b-d05a-4666-8b86-1ca54721606c\" xlink:type=\"simple\"><g id=\"elem_E4\"><rect fill=\"#FFFFFF\" height=\"48.6211\" id=\"E4\" rx=\"10\" ry=\"10\" style=\"stroke:#181818;stroke-width:0.5;\" width=\"99\" x=\"225.5\" y=\"263\"/><text fill=\"#000000\" font-family=\"sans-serif\" font-size=\"12\" font-style=\"italic\" lengthAdjust=\"spacing\" textLength=\"61\" x=\"244.5\" y=\"279.6016\">«attribute»</text><text fill=\"#000000\" font-family=\"sans-serif\" font-size=\"14\" lengthAdjust=\"spacing\" textLength=\"85\" x=\"228.5\" y=\"295.668\">temperature</text><line style=\"stroke:#181818;stroke-width:0.5;\" x1=\"226.5\" x2=\"323.5\" y1=\"303.6211\" y2=\"303.6211\"/></g></a><g><a href=\"psysml:7427238d-2b59-4e5a-b376-c0b2242b06ce\" target=\"_top\" title=\"psysml:7427238d-2b59-4e5a-b376-c0b2242b06ce\" xlink:actuate=\"onRequest\" xlink:href=\"psysml:7427238d-2b59-4e5a-b376-c0b2242b06ce\" xlink:show=\"new\" xlink:title=\"psysml:7427238d-2b59-4e5a-b376-c0b2242b06ce\" xlink:type=\"simple\"><rect fill=\"#FFFFFF\" height=\"40\" id=\"E6\" rx=\"10\" ry=\"10\" style=\"stroke:#383838;stroke-width:1.5;\" width=\"234\" x=\"91\" y=\"100\"/><text fill=\"#000000\" font-family=\"sans-serif\" font-size=\"14\" lengthAdjust=\"spacing\" textLength=\"223\" x=\"96.5\" y=\"118.5352\">heatingElement: HeatingElement</text></a></g><!--MD5=[a717450b82c80b9240a525fa862496af]\n",
       "link E6 to E3--><g id=\"link_E6_E3\"><a href=\"psysml:4bba444b-854c-4105-9712-55dd3b55fb63\" target=\"_top\" title=\"psysml:4bba444b-854c-4105-9712-55dd3b55fb63\" xlink:actuate=\"onRequest\" xlink:href=\"psysml:4bba444b-854c-4105-9712-55dd3b55fb63\" xlink:show=\"new\" xlink:title=\"psysml:4bba444b-854c-4105-9712-55dd3b55fb63\" xlink:type=\"simple\"><path d=\"M205.9,140.31 C204.7325,151.0525 203.1769,165.3613 201.4948,180.8305 C201.0743,184.6978 200.6459,188.6376 200.2137,192.6124 C199.9976,194.5998 199.7805,196.5959 199.563,198.596 C199.4543,199.5961 199.3454,200.5972 199.2365,201.5987 C199.1821,202.0995 199.1276,202.6003 199.0731,203.1012 C199.0459,203.3517 199.0186,203.6021 198.9914,203.8526 \" fill=\"none\" id=\"E6-to-E3\" style=\"stroke:#181818;stroke-width:1.0;\"/><polygon fill=\"#FFFFFF\" points=\"198.9914,203.8526,194.0865,184.2072,208.0044,185.7207,198.9914,203.8526\" style=\"stroke:#181818;stroke-width:1.0;\"/><ellipse cx=\"196.691\" cy=\"178.7568\" fill=\"#181818\" rx=\"2\" ry=\"2\" style=\"stroke:#181818;stroke-width:1.0;\"/><ellipse cx=\"206.6324\" cy=\"179.8379\" fill=\"#181818\" rx=\"2\" ry=\"2\" style=\"stroke:#181818;stroke-width:1.0;\"/></a></g><!--MD5=[15ebcb19ae302d9b601edb458606d402]\n",
       "link E5 to E2--><g id=\"link_E5_E2\"><a href=\"psysml:d024176e-5140-41ed-8500-b6045008d656\" target=\"_top\" title=\"psysml:d024176e-5140-41ed-8500-b6045008d656\" xlink:actuate=\"onRequest\" xlink:href=\"psysml:d024176e-5140-41ed-8500-b6045008d656\" xlink:show=\"new\" xlink:title=\"psysml:d024176e-5140-41ed-8500-b6045008d656\" xlink:type=\"simple\"><path d=\"M58.8864,164.403 C58.8989,164.5919 58.9115,164.7812 58.9241,164.9708 C58.9493,165.35 58.9746,165.7305 59,166.1125 C60.625,190.5575 62.62,220.57 64.21,244.51 \" fill=\"none\" id=\"E5-to-E2\" style=\"stroke:#181818;stroke-width:1.0;\"/><polygon fill=\"#FFFFFF\" points=\"65.54,264.47,57.2925,245.9773,71.2616,245.0467,65.54,264.47\" style=\"stroke:#181818;stroke-width:1.0;\"/><ellipse cx=\"58.9092\" cy=\"240.157\" fill=\"#181818\" rx=\"2\" ry=\"2\" style=\"stroke:#181818;stroke-width:1.0;\"/><ellipse cx=\"68.8871\" cy=\"239.4923\" fill=\"#181818\" rx=\"2\" ry=\"2\" style=\"stroke:#181818;stroke-width:1.0;\"/></a></g><!--MD5=[e56d8aa9ee58e072ea38d6223f1a0b55]\n",
       "@startuml\r\n",
       "skin sysmlbw\r\n",
       "skinparam monochrome true\r\n",
       "skinparam wrapWidth 300\r\n",
       "hide circle\r\n",
       "skinparam ranksep 10\r\n",
       "skinparam rectangle {\r\n",
       " backgroundColor<<block>> LightGreen\r\n",
       "}\r\n",
       "\r\n",
       "package \"SE_Trends\" as E1  [[psysml:697b2ee3-4c95-4df7-a97a-a6f8beaf250f ]]  {\r\n",
       "rec def \"Oven\" as E2  <<(T,blue) part  def>> [[psysml:036a9293-e732-4788-a6be-d40fcf615359 ]] {\r\n",
       "}\r\n",
       "rec def \"HeatingElement\" as E3  <<(T,blue) part  def>> [[psysml:6627b3a1-784a-4637-af43-81d530018e58 ]] {\r\n",
       "comp usage \"temperature  \" as E4  <<(T,blue) attribute>> [[psysml:0620130b-d05a-4666-8b86-1ca54721606c ]] {\r\n",
       "}\r\n",
       "}\r\n",
       "rec usage \"testOven: Oven\" as E5 [[psysml:f586f8e5-497a-4cdf-a67f-add62008826b ]] {\r\n",
       "rec usage \"heatingElement: HeatingElement\" as E6 [[psysml:7427238d-2b59-4e5a-b376-c0b2242b06ce ]] {\r\n",
       "}\r\n",
       "}\r\n",
       "}\r\n",
       "E6 - -:|> E3 [[psysml:4bba444b-854c-4105-9712-55dd3b55fb63 ]] \r\n",
       "E5 - -:|> E2 [[psysml:d024176e-5140-41ed-8500-b6045008d656 ]] \r\n",
       "@enduml\r\n",
       "\n",
       "PlantUML version 1.2022.7(Mon Aug 22 11:01:30 MDT 2022)\n",
       "(EPL source distribution)\n",
       "Java Runtime: Java(TM) SE Runtime Environment\n",
       "JVM: Java HotSpot(TM) 64-Bit Server VM\n",
       "Default Encoding: UTF-8\n",
       "Language: en\n",
       "Country: US\n",
       "--></g></svg>"
      ]
     },
     "execution_count": 12,
     "metadata": {},
     "output_type": "execute_result"
    }
   ],
   "source": [
    "%viz --view=INTERCONNECTION SE_Trends"
   ]
  },
  {
   "cell_type": "markdown",
   "id": "5e50da17-e173-4c1f-a04a-3c091f108319",
   "metadata": {},
   "source": [
    "The Interconnection view can also be used to focus in on specific parts or usages."
   ]
  },
  {
   "cell_type": "code",
   "execution_count": 14,
   "id": "9d74ee5d-3b43-4c53-abe0-1a396032e49c",
   "metadata": {
    "tags": []
   },
   "outputs": [
    {
     "data": {
      "image/svg+xml": [
       "<?xml version=\"1.0\" encoding=\"UTF-8\" standalone=\"no\"?><svg xmlns=\"http://www.w3.org/2000/svg\" xmlns:xlink=\"http://www.w3.org/1999/xlink\" contentStyleType=\"text/css\" height=\"104px\" preserveAspectRatio=\"none\" style=\"width:280px;height:104px;background:#FFFFFF;\" version=\"1.1\" viewBox=\"0 0 280 104\" width=\"280px\" zoomAndPan=\"magnify\"><defs/><g><!--MD5=[fbc87193dbaf4d95561dea2c320d4a47]\n",
       "cluster E1--><g id=\"cluster_E1\"><a href=\"psysml:f586f8e5-497a-4cdf-a67f-add62008826b\" target=\"_top\" title=\"psysml:f586f8e5-497a-4cdf-a67f-add62008826b\" xlink:actuate=\"onRequest\" xlink:href=\"psysml:f586f8e5-497a-4cdf-a67f-add62008826b\" xlink:show=\"new\" xlink:title=\"psysml:f586f8e5-497a-4cdf-a67f-add62008826b\" xlink:type=\"simple\"><rect fill=\"#FFFFFF\" height=\"91\" id=\"E1\" rx=\"10\" ry=\"10\" style=\"stroke:#383838;stroke-width:1.5;\" width=\"266\" x=\"7\" y=\"7\"/><text fill=\"#000000\" font-family=\"sans-serif\" font-size=\"14\" lengthAdjust=\"spacing\" textLength=\"103\" x=\"88.5\" y=\"25.5352\">testOven: Oven</text><line style=\"stroke:#383838;stroke-width:1.0;\" x1=\"7\" x2=\"273\" y1=\"33.4883\" y2=\"33.4883\"/></a></g><g><a href=\"psysml:7427238d-2b59-4e5a-b376-c0b2242b06ce\" target=\"_top\" title=\"psysml:7427238d-2b59-4e5a-b376-c0b2242b06ce\" xlink:actuate=\"onRequest\" xlink:href=\"psysml:7427238d-2b59-4e5a-b376-c0b2242b06ce\" xlink:show=\"new\" xlink:title=\"psysml:7427238d-2b59-4e5a-b376-c0b2242b06ce\" xlink:type=\"simple\"><rect fill=\"#FFFFFF\" height=\"40\" id=\"E2\" rx=\"10\" ry=\"10\" style=\"stroke:#383838;stroke-width:1.5;\" width=\"234\" x=\"23\" y=\"42\"/><text fill=\"#000000\" font-family=\"sans-serif\" font-size=\"14\" lengthAdjust=\"spacing\" textLength=\"223\" x=\"28.5\" y=\"60.5352\">heatingElement: HeatingElement</text></a></g><!--MD5=[e2e0962e5d57072cf6eb7bb2c4a82698]\n",
       "@startuml\r\n",
       "skin sysmlbw\r\n",
       "skinparam monochrome true\r\n",
       "skinparam wrapWidth 300\r\n",
       "hide circle\r\n",
       "skinparam ranksep 10\r\n",
       "skinparam rectangle {\r\n",
       " backgroundColor<<block>> LightGreen\r\n",
       "}\r\n",
       "\r\n",
       "rec usage \"testOven: Oven\" as E1 [[psysml:f586f8e5-497a-4cdf-a67f-add62008826b ]] {\r\n",
       "rec usage \"heatingElement: HeatingElement\" as E2 [[psysml:7427238d-2b59-4e5a-b376-c0b2242b06ce ]] {\r\n",
       "}\r\n",
       "}\r\n",
       "@enduml\r\n",
       "\n",
       "PlantUML version 1.2022.7(Mon Aug 22 11:01:30 MDT 2022)\n",
       "(EPL source distribution)\n",
       "Java Runtime: Java(TM) SE Runtime Environment\n",
       "JVM: Java HotSpot(TM) 64-Bit Server VM\n",
       "Default Encoding: UTF-8\n",
       "Language: en\n",
       "Country: US\n",
       "--></g></svg>"
      ]
     },
     "execution_count": 14,
     "metadata": {},
     "output_type": "execute_result"
    }
   ],
   "source": [
    "%viz --view=INTERCONNECTION SE_Trends::testOven"
   ]
  },
  {
   "cell_type": "markdown",
   "id": "c211a6ab-1c03-476a-8991-a9fa8d33db0e",
   "metadata": {},
   "source": [
    "## Additional Information\n",
    "For more details, see the [2 hour introduction to SysML by Ed Seidewitz](https://www.youtube.com/watch?v=vj5BOy5G8ho)"
   ]
  },
  {
   "cell_type": "code",
   "execution_count": null,
   "id": "56b60316-c07a-4ef4-92f3-5f255da6843b",
   "metadata": {},
   "outputs": [],
   "source": []
  }
 ],
 "metadata": {
  "kernelspec": {
   "display_name": "SysML",
   "language": "sysml",
   "name": "sysml"
  },
  "language_info": {
   "codemirror_mode": "sysml",
   "file_extension": ".sysml",
   "mimetype": "text/x-sysml",
   "name": "SysML",
   "pygments_lexer": "java",
   "version": "1.0.0"
  }
 },
 "nbformat": 4,
 "nbformat_minor": 5
}
