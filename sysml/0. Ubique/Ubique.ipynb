{
 "cells": [
  {
   "cell_type": "markdown",
   "id": "cce66e6c",
   "metadata": {},
   "source": [
    "## Ubique Components\n",
    "- Sphere\n",
    "- U-leg\n",
    "- C-legs\n",
    "- Universal Bolt\n",
    "- Bearings"
   ]
  },
  {
   "cell_type": "code",
   "execution_count": null,
   "id": "84e0169f",
   "metadata": {},
   "outputs": [
    {
     "data": {
      "text/plain": [
       "Package ubiMats (07369901-fc1c-450d-b321-565f4b2c95f4)\n"
      ]
     },
     "execution_count": 24,
     "metadata": {},
     "output_type": "execute_result"
    }
   ],
   "source": [
    "package Materials{\n",
    "    private import SI::*;\n",
    "    private import ScalarValues::Integer;\n",
    "    \n",
    "// Plastics\n",
    "    part def <PU_95A> Polyurethane_95A{\n",
    "        attribute youngsModulus: PressureUnit;\n",
    "        attribute poissonsRatio: Integer;\n",
    "        attribute shearModulus: PressureUnit;\n",
    "        attribute density: MassDensityUnit;\n",
    "        attribute yieldStrength: PressureUnit;\n",
    "        attribute tensileStrength: PressureUnit;\n",
    "        attribute durometer: Integer;\n",
    "    }\n",
    "\n",
    "// Metals\n",
    "    part def <AL_6061> Aluminum_6061{\n",
    "        attribute youngsModulus: PressureUnit;\n",
    "        attribute poissonsRatio: Integer;\n",
    "        attribute shearModulus: PressureUnit;\n",
    "        attribute density: MassDensityUnit;\n",
    "        attribute yieldStrength: PressureUnit;\n",
    "        attribute tensileStrength: PressureUnit;\n",
    "    }\n",
    "    part def <Steel> Alloy_Steel{\n",
    "        attribute youngsModulus: PressureUnit;\n",
    "        attribute poissonsRatio: Integer;\n",
    "        attribute shearModulus: PressureUnit;\n",
    "        attribute density: MassDensityUnit;\n",
    "        attribute yieldStrength: PressureUnit;\n",
    "        attribute tensileStrength: PressureUnit;\n",
    "    }\n",
    "    \n",
    "}"
   ]
  },
  {
   "cell_type": "code",
   "execution_count": null,
   "id": "181de558",
   "metadata": {},
   "outputs": [],
   "source": [
    "package Fasteners{\n",
    "    private import Materials::*;\n",
    "// Nuts\n",
    "    part def Locknut{\n",
    "        part material;\n",
    "        attribute \n",
    "    }\n",
    "\n",
    "// Screws\n",
    "\n",
    "// Rivets\n",
    "    part def Flat_Head_Small_Solid_Rivet{\n",
    "        part material;\n",
    "    }\n",
    "\n",
    "\n",
    "// Washers\n",
    "\n",
    "\n",
    "}"
   ]
  },
  {
   "cell_type": "code",
   "execution_count": null,
   "id": "943cbe16",
   "metadata": {},
   "outputs": [],
   "source": [
    "package ubiFasteners{\n",
    "    \n",
    "}"
   ]
  },
  {
   "cell_type": "code",
   "execution_count": null,
   "id": "265176f0",
   "metadata": {},
   "outputs": [
    {
     "data": {
      "text/plain": [
       "Package ubiParts (02e1c597-3880-4944-9fa6-cdb7113b304d)\n"
      ]
     },
     "execution_count": 20,
     "metadata": {},
     "output_type": "execute_result"
    }
   ],
   "source": [
    "package ubiParts{\n",
    "    private import Materials::*;\n",
    "    part def <Ball> Sphere{\n",
    "        part material: PU_95A;\n",
    "        attribute weight;\n",
    "        attribute diameter;\n",
    "    }\n",
    "\n",
    "    part def U_Leg{\n",
    "        part material: AL_6061;\n",
    "        attribute weight;\n",
    "        attribute inner_diameter;\n",
    "        attribute outer_diameter;\n",
    "        attribute height;\n",
    "        attribute width;\n",
    "        attribute depth;\n",
    "        part bearing[4]: Bearing;\n",
    "    }\n",
    "\n",
    "    part def C_Leg{\n",
    "        part material: AL_6061;\n",
    "        attribute weight;\n",
    "        attribute inner_diameter;\n",
    "        attribute outer_diameter;\n",
    "        attribute height;\n",
    "        attribute width;\n",
    "        attribute depth;\n",
    "        part bearing[2]: Bearing;\n",
    "    }\n",
    "\n",
    "    part def <Ubolt> Universal_Bolt{\n",
    "        part material: AL_6061;\n",
    "        attribute material;\n",
    "        attribute weight;\n",
    "        attribute length;\n",
    "        attribute diameter;\n",
    "    }\n",
    "\n",
    "    part def <Bearing> Ball_Transfer_Bearing{\n",
    "        attribute material;\n",
    "        attribute weight;\n",
    "        attribute length;\n",
    "        attribute diameter;\n",
    "    }\n",
    "\n",
    "}"
   ]
  },
  {
   "cell_type": "code",
   "execution_count": 25,
   "id": "ffe9a52f",
   "metadata": {},
   "outputs": [
    {
     "data": {
      "text/plain": [
       "Package ubiBuild (efa86c5e-60f3-4c30-b29d-d90e1fb88c51)\n"
      ]
     },
     "execution_count": 25,
     "metadata": {},
     "output_type": "execute_result"
    }
   ],
   "source": [
    "package ubiBuild{\n",
    "    private import ubiParts::*;\n",
    "\n",
    "    part def <ubi> Spherical_Caster_Wheel{\n",
    "        part def Caster_Fork{\n",
    "            part uLeg: U_Leg;\n",
    "            part cLeg[2]: C_Leg;\n",
    "        }\n",
    "        part wheel: Ball;\n",
    "        part ubolt: Ubolt;\n",
    "    }\n",
    "}"
   ]
  },
  {
   "cell_type": "code",
   "execution_count": 26,
   "id": "659b8ad6",
   "metadata": {},
   "outputs": [
    {
     "data": {
      "image/svg+xml": [
       "<?xml version=\"1.0\" encoding=\"UTF-8\" standalone=\"no\"?><svg xmlns=\"http://www.w3.org/2000/svg\" xmlns:xlink=\"http://www.w3.org/1999/xlink\" contentStyleType=\"text/css\" height=\"331px\" preserveAspectRatio=\"none\" style=\"width:487px;height:331px;background:#FFFFFF;\" version=\"1.1\" viewBox=\"0 0 487 331\" width=\"487px\" zoomAndPan=\"magnify\"><defs/><g><!--MD5=[fbc87193dbaf4d95561dea2c320d4a47]\n",
       "cluster E1--><g id=\"cluster_E1\"><a href=\"psysml:efa86c5e-60f3-4c30-b29d-d90e1fb88c51\" target=\"_top\" title=\"psysml:efa86c5e-60f3-4c30-b29d-d90e1fb88c51\" xlink:actuate=\"onRequest\" xlink:href=\"psysml:efa86c5e-60f3-4c30-b29d-d90e1fb88c51\" xlink:show=\"new\" xlink:title=\"psysml:efa86c5e-60f3-4c30-b29d-d90e1fb88c51\" xlink:type=\"simple\"><polygon fill=\"none\" points=\"16,6,82,6,89,28.4883,470,28.4883,470,324,16,324,16,6\" style=\"stroke:#000000;stroke-width:1.5;\"/><line style=\"stroke:#000000;stroke-width:1.5;\" x1=\"16\" x2=\"89\" y1=\"28.4883\" y2=\"28.4883\"/><text fill=\"#000000\" font-family=\"sans-serif\" font-size=\"14\" font-weight=\"bold\" lengthAdjust=\"spacing\" textLength=\"60\" x=\"20\" y=\"21.5352\">ubiBuild</text></a></g><!--MD5=[b4997ac47864f28c2f74865a473b2911]\n",
       "class E2--><a href=\"psysml:904b2bdd-305f-4da1-99f5-e10b3efb2c45\" target=\"_top\" title=\"psysml:904b2bdd-305f-4da1-99f5-e10b3efb2c45\" xlink:actuate=\"onRequest\" xlink:href=\"psysml:904b2bdd-305f-4da1-99f5-e10b3efb2c45\" xlink:show=\"new\" xlink:title=\"psysml:904b2bdd-305f-4da1-99f5-e10b3efb2c45\" xlink:type=\"simple\"><g id=\"elem_E2\"><rect fill=\"#FFFFFF\" height=\"48.6211\" id=\"E2\" style=\"stroke:#181818;stroke-width:0.5;\" width=\"216\" x=\"102\" y=\"41\"/><text fill=\"#000000\" font-family=\"sans-serif\" font-size=\"12\" font-style=\"italic\" lengthAdjust=\"spacing\" textLength=\"63\" x=\"178.5\" y=\"57.6016\">«part  def»</text><text fill=\"#000000\" font-family=\"sans-serif\" font-size=\"14\" lengthAdjust=\"spacing\" textLength=\"210\" x=\"105\" y=\"73.668\">&lt;ubi&gt; Spherical_Caster_Wheel</text><line style=\"stroke:#181818;stroke-width:0.5;\" x1=\"103\" x2=\"317\" y1=\"81.6211\" y2=\"81.6211\"/></g></a><!--MD5=[09b614a08d8cba4a07c9adeb5e0fee81]\n",
       "class E3--><a href=\"psysml:e17af36e-b00e-4b6e-aee7-24ec8be70672\" target=\"_top\" title=\"psysml:e17af36e-b00e-4b6e-aee7-24ec8be70672\" xlink:actuate=\"onRequest\" xlink:href=\"psysml:e17af36e-b00e-4b6e-aee7-24ec8be70672\" xlink:show=\"new\" xlink:title=\"psysml:e17af36e-b00e-4b6e-aee7-24ec8be70672\" xlink:type=\"simple\"><g id=\"elem_E3\"><rect fill=\"#FFFFFF\" height=\"48.6211\" id=\"E3\" style=\"stroke:#181818;stroke-width:0.5;\" width=\"88\" x=\"32\" y=\"150\"/><text fill=\"#000000\" font-family=\"sans-serif\" font-size=\"12\" font-style=\"italic\" lengthAdjust=\"spacing\" textLength=\"63\" x=\"44.5\" y=\"166.6016\">«part  def»</text><text fill=\"#000000\" font-family=\"sans-serif\" font-size=\"14\" lengthAdjust=\"spacing\" textLength=\"82\" x=\"35\" y=\"182.668\">Caster_Fork</text><line style=\"stroke:#181818;stroke-width:0.5;\" x1=\"33\" x2=\"119\" y1=\"190.6211\" y2=\"190.6211\"/></g></a><!--MD5=[ebbe1d658d1005bcc118a6aa81145e00]\n",
       "class E4--><a href=\"psysml:37111bfb-7b07-4ffc-a018-57cd358763d8\" target=\"_top\" title=\"psysml:37111bfb-7b07-4ffc-a018-57cd358763d8\" xlink:actuate=\"onRequest\" xlink:href=\"psysml:37111bfb-7b07-4ffc-a018-57cd358763d8\" xlink:show=\"new\" xlink:title=\"psysml:37111bfb-7b07-4ffc-a018-57cd358763d8\" xlink:type=\"simple\"><g id=\"elem_E4\"><rect fill=\"#FFFFFF\" height=\"48.6211\" id=\"E4\" rx=\"10\" ry=\"10\" style=\"stroke:#181818;stroke-width:0.5;\" width=\"96\" x=\"32\" y=\"259\"/><text fill=\"#000000\" font-family=\"sans-serif\" font-size=\"12\" font-style=\"italic\" lengthAdjust=\"spacing\" textLength=\"36\" x=\"62\" y=\"275.6016\">«part»</text><text fill=\"#000000\" font-family=\"sans-serif\" font-size=\"14\" lengthAdjust=\"spacing\" textLength=\"82\" x=\"35\" y=\"291.668\">uLeg: U_Leg</text><line style=\"stroke:#181818;stroke-width:0.5;\" x1=\"33\" x2=\"127\" y1=\"299.6211\" y2=\"299.6211\"/></g></a><!--MD5=[270fce915f116d4de14055a7c1d9a0f3]\n",
       "class E5--><a href=\"psysml:7d107740-c800-49cd-8e27-80c91e62d1fb\" target=\"_top\" title=\"psysml:7d107740-c800-49cd-8e27-80c91e62d1fb\" xlink:actuate=\"onRequest\" xlink:href=\"psysml:7d107740-c800-49cd-8e27-80c91e62d1fb\" xlink:show=\"new\" xlink:title=\"psysml:7d107740-c800-49cd-8e27-80c91e62d1fb\" xlink:type=\"simple\"><g id=\"elem_E5\"><rect fill=\"#FFFFFF\" height=\"48.6211\" id=\"E5\" rx=\"10\" ry=\"10\" style=\"stroke:#181818;stroke-width:0.5;\" width=\"94\" x=\"163\" y=\"259\"/><text fill=\"#000000\" font-family=\"sans-serif\" font-size=\"12\" font-style=\"italic\" lengthAdjust=\"spacing\" textLength=\"36\" x=\"192\" y=\"275.6016\">«part»</text><text fill=\"#000000\" font-family=\"sans-serif\" font-size=\"14\" lengthAdjust=\"spacing\" textLength=\"80\" x=\"166\" y=\"291.668\">cLeg: C_Leg</text><line style=\"stroke:#181818;stroke-width:0.5;\" x1=\"164\" x2=\"256\" y1=\"299.6211\" y2=\"299.6211\"/></g></a><!--MD5=[60a26617385b1d2d0262a64233df1f8d]\n",
       "class E6--><a href=\"psysml:385ac0d0-2de8-4ac2-8c5f-8c277c2b5990\" target=\"_top\" title=\"psysml:385ac0d0-2de8-4ac2-8c5f-8c277c2b5990\" xlink:actuate=\"onRequest\" xlink:href=\"psysml:385ac0d0-2de8-4ac2-8c5f-8c277c2b5990\" xlink:show=\"new\" xlink:title=\"psysml:385ac0d0-2de8-4ac2-8c5f-8c277c2b5990\" xlink:type=\"simple\"><g id=\"elem_E6\"><rect fill=\"#FFFFFF\" height=\"48.6211\" id=\"E6\" rx=\"10\" ry=\"10\" style=\"stroke:#181818;stroke-width:0.5;\" width=\"110\" x=\"155\" y=\"150\"/><text fill=\"#000000\" font-family=\"sans-serif\" font-size=\"12\" font-style=\"italic\" lengthAdjust=\"spacing\" textLength=\"36\" x=\"192\" y=\"166.6016\">«part»</text><text fill=\"#000000\" font-family=\"sans-serif\" font-size=\"14\" lengthAdjust=\"spacing\" textLength=\"96\" x=\"158\" y=\"182.668\">wheel: Sphere</text><line style=\"stroke:#181818;stroke-width:0.5;\" x1=\"156\" x2=\"264\" y1=\"190.6211\" y2=\"190.6211\"/></g></a><!--MD5=[2156ba9850f5573cc1fc38a6a4b2f02b]\n",
       "class E7--><a href=\"psysml:c6b59c54-45d3-4679-99b0-7f4f420b5994\" target=\"_top\" title=\"psysml:c6b59c54-45d3-4679-99b0-7f4f420b5994\" xlink:actuate=\"onRequest\" xlink:href=\"psysml:c6b59c54-45d3-4679-99b0-7f4f420b5994\" xlink:show=\"new\" xlink:title=\"psysml:c6b59c54-45d3-4679-99b0-7f4f420b5994\" xlink:type=\"simple\"><g id=\"elem_E7\"><rect fill=\"#FFFFFF\" height=\"48.6211\" id=\"E7\" rx=\"10\" ry=\"10\" style=\"stroke:#181818;stroke-width:0.5;\" width=\"154\" x=\"300\" y=\"150\"/><text fill=\"#000000\" font-family=\"sans-serif\" font-size=\"12\" font-style=\"italic\" lengthAdjust=\"spacing\" textLength=\"36\" x=\"359\" y=\"166.6016\">«part»</text><text fill=\"#000000\" font-family=\"sans-serif\" font-size=\"14\" lengthAdjust=\"spacing\" textLength=\"140\" x=\"303\" y=\"182.668\">ubolt: Universal_Bolt</text><line style=\"stroke:#181818;stroke-width:0.5;\" x1=\"301\" x2=\"453\" y1=\"190.6211\" y2=\"190.6211\"/></g></a><!--MD5=[209b3feb70ccb6233bfe1053d122c12c]\n",
       "reverse link E2 to E3--><g id=\"link_E2_E3\"><a href=\"psysml:009f08b8-d233-4bc0-8827-23834247cf7d\" target=\"_top\" title=\"psysml:009f08b8-d233-4bc0-8827-23834247cf7d\" xlink:actuate=\"onRequest\" xlink:href=\"psysml:009f08b8-d233-4bc0-8827-23834247cf7d\" xlink:show=\"new\" xlink:title=\"psysml:009f08b8-d233-4bc0-8827-23834247cf7d\" xlink:type=\"simple\"><path d=\"M168.47,99.66 C148.13,115.9 124.12,135.08 105.66,149.82 \" fill=\"none\" id=\"E2-backto-E3\" style=\"stroke:#181818;stroke-width:1.0;\"/><ellipse cx=\"174.0101\" cy=\"95.2438\" fill=\"#FFFFFF\" rx=\"8\" ry=\"8\" style=\"stroke:#181818;stroke-width:1.0;\"/><line style=\"stroke:#181818;stroke-width:1.0;\" x1=\"167.7602\" x2=\"180.26\" y1=\"100.2377\" y2=\"90.25\"/><line style=\"stroke:#181818;stroke-width:1.0;\" x1=\"169.0162\" x2=\"179.0039\" y1=\"88.9939\" y2=\"101.4938\"/></a></g><!--MD5=[4672eba38e49728da53d11aeb285b987]\n",
       "reverse link E3 to E4--><g id=\"link_E3_E4\"><a href=\"psysml:678a266c-a20b-4b19-aacf-970b9fa6aac1\" target=\"_top\" title=\"psysml:678a266c-a20b-4b19-aacf-970b9fa6aac1\" xlink:actuate=\"onRequest\" xlink:href=\"psysml:678a266c-a20b-4b19-aacf-970b9fa6aac1\" xlink:show=\"new\" xlink:title=\"psysml:678a266c-a20b-4b19-aacf-970b9fa6aac1\" xlink:type=\"simple\"><path d=\"M77.39,212.6 C77.96,227.94 78.61,245.26 79.11,258.82 \" fill=\"none\" id=\"E3-backto-E4\" style=\"stroke:#181818;stroke-width:1.0;\"/><polygon fill=\"#181818\" points=\"76.89,199.25,73.1171,205.3953,77.3385,211.2416,81.1115,205.0963,76.89,199.25\" style=\"stroke:#181818;stroke-width:1.0;\"/></a></g><!--MD5=[191cde3d490a3f6d7bb551fe3ddca469]\n",
       "reverse link E3 to E5--><g id=\"link_E3_E5\"><a href=\"psysml:9deefc89-6b8b-45b9-95df-60f4cc94ed89\" target=\"_top\" title=\"psysml:9deefc89-6b8b-45b9-95df-60f4cc94ed89\" xlink:actuate=\"onRequest\" xlink:href=\"psysml:9deefc89-6b8b-45b9-95df-60f4cc94ed89\" xlink:show=\"new\" xlink:title=\"psysml:9deefc89-6b8b-45b9-95df-60f4cc94ed89\" xlink:type=\"simple\"><path d=\"M116.1,207.52 C136.74,224 161.45,243.73 180.34,258.82 \" fill=\"none\" id=\"E3-backto-E5\" style=\"stroke:#181818;stroke-width:1.0;\"/><polygon fill=\"#181818\" points=\"105.74,199.25,107.9311,206.1201,115.1156,206.7399,112.9244,199.8698,105.74,199.25\" style=\"stroke:#181818;stroke-width:1.0;\"/><text fill=\"#000000\" font-family=\"sans-serif\" font-size=\"13\" lengthAdjust=\"spacing\" textLength=\"8\" x=\"163.7146\" y=\"248.2306\">2</text></a></g><!--MD5=[ce036f65110ae2351ccce5a81dc2e928]\n",
       "reverse link E2 to E6--><g id=\"link_E2_E6\"><a href=\"psysml:3f1942ef-35ed-4ec2-b6e6-729a7d87858e\" target=\"_top\" title=\"psysml:3f1942ef-35ed-4ec2-b6e6-729a7d87858e\" xlink:actuate=\"onRequest\" xlink:href=\"psysml:3f1942ef-35ed-4ec2-b6e6-729a7d87858e\" xlink:show=\"new\" xlink:title=\"psysml:3f1942ef-35ed-4ec2-b6e6-729a7d87858e\" xlink:type=\"simple\"><path d=\"M210,103.6 C210,118.94 210,136.26 210,149.82 \" fill=\"none\" id=\"E2-backto-E6\" style=\"stroke:#181818;stroke-width:1.0;\"/><polygon fill=\"#181818\" points=\"210,90.25,206,96.25,210,102.25,214,96.25,210,90.25\" style=\"stroke:#181818;stroke-width:1.0;\"/></a></g><!--MD5=[1c72b32696d764168c30777981ec3f66]\n",
       "reverse link E2 to E7--><g id=\"link_E2_E7\"><a href=\"psysml:c74e62ad-32d6-44c9-ae94-ff2459f308cd\" target=\"_top\" title=\"psysml:c74e62ad-32d6-44c9-ae94-ff2459f308cd\" xlink:actuate=\"onRequest\" xlink:href=\"psysml:c74e62ad-32d6-44c9-ae94-ff2459f308cd\" xlink:show=\"new\" xlink:title=\"psysml:c74e62ad-32d6-44c9-ae94-ff2459f308cd\" xlink:type=\"simple\"><path d=\"M258.22,97.4 C284.28,114.09 315.96,134.39 340.04,149.82 \" fill=\"none\" id=\"E2-backto-E7\" style=\"stroke:#181818;stroke-width:1.0;\"/><polygon fill=\"#181818\" points=\"247.06,90.25,249.9528,96.8554,257.1627,96.7258,254.2699,90.1203,247.06,90.25\" style=\"stroke:#181818;stroke-width:1.0;\"/></a></g><!--MD5=[cc4705fde4c064de34176ace25fe5ffc]\n",
       "@startuml\r\n",
       "skin sysmlbw\r\n",
       "skinparam monochrome true\r\n",
       "skinparam wrapWidth 300\r\n",
       "hide circle\r\n",
       "\r\n",
       "package \"ubiBuild\" as E1  [[psysml:efa86c5e-60f3-4c30-b29d-d90e1fb88c51 ]]  {\r\n",
       "comp def \"~<ubi> Spherical_Caster_Wheel\" as E2  <<(T,blue) part  def>> [[psysml:904b2bdd-305f-4da1-99f5-e10b3efb2c45 ]] {\r\n",
       "}\r\n",
       "comp def \"Caster_Fork\" as E3  <<(T,blue) part  def>> [[psysml:e17af36e-b00e-4b6e-aee7-24ec8be70672 ]] {\r\n",
       "}\r\n",
       "comp usage \"uLeg: U_Leg  \" as E4  <<(T,blue) part>> [[psysml:37111bfb-7b07-4ffc-a018-57cd358763d8 ]] {\r\n",
       "}\r\n",
       "comp usage \"cLeg: C_Leg  \" as E5  <<(T,blue) part>> [[psysml:7d107740-c800-49cd-8e27-80c91e62d1fb ]] {\r\n",
       "}\r\n",
       "comp usage \"wheel: Sphere  \" as E6  <<(T,blue) part>> [[psysml:385ac0d0-2de8-4ac2-8c5f-8c277c2b5990 ]] {\r\n",
       "}\r\n",
       "comp usage \"ubolt: Universal_Bolt  \" as E7  <<(T,blue) part>> [[psysml:c6b59c54-45d3-4679-99b0-7f4f420b5994 ]] {\r\n",
       "}\r\n",
       "}\r\n",
       "E2 +- - E3 [[psysml:009f08b8-d233-4bc0-8827-23834247cf7d ]] \r\n",
       "E3 *- - E4 [[psysml:678a266c-a20b-4b19-aacf-970b9fa6aac1 ]] \r\n",
       "E3 *- - \"2\"E5 [[psysml:9deefc89-6b8b-45b9-95df-60f4cc94ed89 ]] \r\n",
       "E2 *- - E6 [[psysml:3f1942ef-35ed-4ec2-b6e6-729a7d87858e ]] \r\n",
       "E2 *- - E7 [[psysml:c74e62ad-32d6-44c9-ae94-ff2459f308cd ]] \r\n",
       "@enduml\r\n",
       "\n",
       "PlantUML version 1.2022.7(Mon Aug 22 11:01:30 MDT 2022)\n",
       "(EPL source distribution)\n",
       "Java Runtime: Java(TM) SE Runtime Environment\n",
       "JVM: Java HotSpot(TM) 64-Bit Server VM\n",
       "Default Encoding: UTF-8\n",
       "Language: en\n",
       "Country: US\n",
       "--></g></svg>"
      ]
     },
     "execution_count": 26,
     "metadata": {},
     "output_type": "execute_result"
    }
   ],
   "source": [
    "%viz --view=default ubiBuild"
   ]
  },
  {
   "cell_type": "code",
   "execution_count": 23,
   "id": "23f48512",
   "metadata": {},
   "outputs": [
    {
     "data": {
      "image/svg+xml": [
       "<?xml version=\"1.0\" encoding=\"UTF-8\" standalone=\"no\"?><svg xmlns=\"http://www.w3.org/2000/svg\" xmlns:xlink=\"http://www.w3.org/1999/xlink\" contentStyleType=\"text/css\" height=\"533px\" preserveAspectRatio=\"none\" style=\"width:785px;height:533px;background:#FFFFFF;\" version=\"1.1\" viewBox=\"0 0 785 533\" width=\"785px\" zoomAndPan=\"magnify\"><defs/><g><!--MD5=[fbc87193dbaf4d95561dea2c320d4a47]\n",
       "cluster E1--><g id=\"cluster_E1\"><a href=\"psysml:02e1c597-3880-4944-9fa6-cdb7113b304d\" target=\"_top\" title=\"psysml:02e1c597-3880-4944-9fa6-cdb7113b304d\" xlink:actuate=\"onRequest\" xlink:href=\"psysml:02e1c597-3880-4944-9fa6-cdb7113b304d\" xlink:show=\"new\" xlink:title=\"psysml:02e1c597-3880-4944-9fa6-cdb7113b304d\" xlink:type=\"simple\"><polygon fill=\"none\" points=\"16,6,82,6,89,28.4883,768,28.4883,768,526,16,526,16,6\" style=\"stroke:#000000;stroke-width:1.5;\"/><line style=\"stroke:#000000;stroke-width:1.5;\" x1=\"16\" x2=\"89\" y1=\"28.4883\" y2=\"28.4883\"/><text fill=\"#000000\" font-family=\"sans-serif\" font-size=\"14\" font-weight=\"bold\" lengthAdjust=\"spacing\" textLength=\"60\" x=\"20\" y=\"21.5352\">ubiParts</text></a></g><!--MD5=[b4997ac47864f28c2f74865a473b2911]\n",
       "class E2--><a href=\"psysml:0145fb65-14f7-4947-bacf-496ea1d6adfe\" target=\"_top\" title=\"psysml:0145fb65-14f7-4947-bacf-496ea1d6adfe\" xlink:actuate=\"onRequest\" xlink:href=\"psysml:0145fb65-14f7-4947-bacf-496ea1d6adfe\" xlink:show=\"new\" xlink:title=\"psysml:0145fb65-14f7-4947-bacf-496ea1d6adfe\" xlink:type=\"simple\"><g id=\"elem_E2\"><rect fill=\"#FFFFFF\" height=\"92.193\" id=\"E2\" style=\"stroke:#181818;stroke-width:0.5;\" width=\"104\" x=\"598\" y=\"82.5\"/><text fill=\"#000000\" font-family=\"sans-serif\" font-size=\"12\" font-style=\"italic\" lengthAdjust=\"spacing\" textLength=\"63\" x=\"618.5\" y=\"99.1016\">«part  def»</text><text fill=\"#000000\" font-family=\"sans-serif\" font-size=\"14\" lengthAdjust=\"spacing\" textLength=\"98\" x=\"601\" y=\"115.168\">&lt;Ball&gt; Sphere</text><line style=\"stroke:#181818;stroke-width:0.5;\" x1=\"599\" x2=\"701\" y1=\"123.1211\" y2=\"123.1211\"/><text fill=\"#000000\" font-family=\"sans-serif\" font-size=\"14\" lengthAdjust=\"spacing\" textLength=\"61\" x=\"604\" y=\"151.2516\">diameter</text><text fill=\"#000000\" font-family=\"sans-serif\" font-size=\"14\" lengthAdjust=\"spacing\" textLength=\"46\" x=\"604\" y=\"167.7398\">weight</text><text fill=\"#000000\" font-family=\"sans-serif\" font-size=\"14\" font-style=\"italic\" lengthAdjust=\"spacing\" textLength=\"66\" x=\"617\" y=\"135.9121\">attributes</text></g></a><!--MD5=[09b614a08d8cba4a07c9adeb5e0fee81]\n",
       "class E3--><a href=\"psysml:99ecc020-fe25-4723-bfbe-146bb1f60872\" target=\"_top\" title=\"psysml:99ecc020-fe25-4723-bfbe-146bb1f60872\" xlink:actuate=\"onRequest\" xlink:href=\"psysml:99ecc020-fe25-4723-bfbe-146bb1f60872\" xlink:show=\"new\" xlink:title=\"psysml:99ecc020-fe25-4723-bfbe-146bb1f60872\" xlink:type=\"simple\"><g id=\"elem_E3\"><rect fill=\"#FFFFFF\" height=\"48.6211\" id=\"E3\" rx=\"10\" ry=\"10\" style=\"stroke:#181818;stroke-width:0.5;\" width=\"203\" x=\"548.5\" y=\"276\"/><text fill=\"#000000\" font-family=\"sans-serif\" font-size=\"12\" font-style=\"italic\" lengthAdjust=\"spacing\" textLength=\"36\" x=\"632\" y=\"292.6016\">«part»</text><text fill=\"#000000\" font-family=\"sans-serif\" font-size=\"14\" lengthAdjust=\"spacing\" textLength=\"189\" x=\"551.5\" y=\"308.668\">material: Polyurethane_95A</text><line style=\"stroke:#181818;stroke-width:0.5;\" x1=\"549.5\" x2=\"750.5\" y1=\"316.6211\" y2=\"316.6211\"/></g></a><!--MD5=[ebbe1d658d1005bcc118a6aa81145e00]\n",
       "class E4--><a href=\"psysml:c21016f7-7d60-4ac0-a1bb-ca0aa8c181ff\" target=\"_top\" title=\"psysml:c21016f7-7d60-4ac0-a1bb-ca0aa8c181ff\" xlink:actuate=\"onRequest\" xlink:href=\"psysml:c21016f7-7d60-4ac0-a1bb-ca0aa8c181ff\" xlink:show=\"new\" xlink:title=\"psysml:c21016f7-7d60-4ac0-a1bb-ca0aa8c181ff\" xlink:type=\"simple\"><g id=\"elem_E4\"><rect fill=\"#FFFFFF\" height=\"174.6344\" id=\"E4\" style=\"stroke:#181818;stroke-width:0.5;\" width=\"117\" x=\"384.5\" y=\"41\"/><text fill=\"#000000\" font-family=\"sans-serif\" font-size=\"12\" font-style=\"italic\" lengthAdjust=\"spacing\" textLength=\"63\" x=\"411.5\" y=\"57.6016\">«part  def»</text><text fill=\"#000000\" font-family=\"sans-serif\" font-size=\"14\" lengthAdjust=\"spacing\" textLength=\"41\" x=\"422.5\" y=\"73.668\">U_Leg</text><line style=\"stroke:#181818;stroke-width:0.5;\" x1=\"385.5\" x2=\"500.5\" y1=\"81.6211\" y2=\"81.6211\"/><text fill=\"#000000\" font-family=\"sans-serif\" font-size=\"14\" lengthAdjust=\"spacing\" textLength=\"40\" x=\"390.5\" y=\"109.7516\">depth</text><text fill=\"#000000\" font-family=\"sans-serif\" font-size=\"14\" lengthAdjust=\"spacing\" textLength=\"44\" x=\"390.5\" y=\"126.2398\">height</text><text fill=\"#000000\" font-family=\"sans-serif\" font-size=\"14\" lengthAdjust=\"spacing\" textLength=\"104\" x=\"390.5\" y=\"142.7281\">inner_diameter</text><text fill=\"#000000\" font-family=\"sans-serif\" font-size=\"14\" lengthAdjust=\"spacing\" textLength=\"56\" x=\"390.5\" y=\"159.2164\">material</text><text fill=\"#000000\" font-family=\"sans-serif\" font-size=\"14\" lengthAdjust=\"spacing\" textLength=\"105\" x=\"390.5\" y=\"175.7047\">outer_diameter</text><text fill=\"#000000\" font-family=\"sans-serif\" font-size=\"14\" lengthAdjust=\"spacing\" textLength=\"46\" x=\"390.5\" y=\"192.193\">weight</text><text fill=\"#000000\" font-family=\"sans-serif\" font-size=\"14\" lengthAdjust=\"spacing\" textLength=\"38\" x=\"390.5\" y=\"208.6813\">width</text><text fill=\"#000000\" font-family=\"sans-serif\" font-size=\"14\" font-style=\"italic\" lengthAdjust=\"spacing\" textLength=\"66\" x=\"410\" y=\"94.4121\">attributes</text></g></a><!--MD5=[270fce915f116d4de14055a7c1d9a0f3]\n",
       "class E5--><a href=\"psysml:9257dc6e-7fe3-489b-8a2b-30a1693eb0a4\" target=\"_top\" title=\"psysml:9257dc6e-7fe3-489b-8a2b-30a1693eb0a4\" xlink:actuate=\"onRequest\" xlink:href=\"psysml:9257dc6e-7fe3-489b-8a2b-30a1693eb0a4\" xlink:show=\"new\" xlink:title=\"psysml:9257dc6e-7fe3-489b-8a2b-30a1693eb0a4\" xlink:type=\"simple\"><g id=\"elem_E5\"><rect fill=\"#FFFFFF\" height=\"48.6211\" id=\"E5\" rx=\"10\" ry=\"10\" style=\"stroke:#181818;stroke-width:0.5;\" width=\"223\" x=\"290.5\" y=\"276\"/><text fill=\"#000000\" font-family=\"sans-serif\" font-size=\"12\" font-style=\"italic\" lengthAdjust=\"spacing\" textLength=\"36\" x=\"384\" y=\"292.6016\">«part»</text><text fill=\"#000000\" font-family=\"sans-serif\" font-size=\"14\" lengthAdjust=\"spacing\" textLength=\"209\" x=\"293.5\" y=\"308.668\">bearing: Ball_Transfer_Bearing</text><line style=\"stroke:#181818;stroke-width:0.5;\" x1=\"291.5\" x2=\"512.5\" y1=\"316.6211\" y2=\"316.6211\"/></g></a><!--MD5=[60a26617385b1d2d0262a64233df1f8d]\n",
       "class E6--><a href=\"psysml:6e62be13-b4c2-400e-a583-02438bec9959\" target=\"_top\" title=\"psysml:6e62be13-b4c2-400e-a583-02438bec9959\" xlink:actuate=\"onRequest\" xlink:href=\"psysml:6e62be13-b4c2-400e-a583-02438bec9959\" xlink:show=\"new\" xlink:title=\"psysml:6e62be13-b4c2-400e-a583-02438bec9959\" xlink:type=\"simple\"><g id=\"elem_E6\"><rect fill=\"#FFFFFF\" height=\"174.6344\" id=\"E6\" style=\"stroke:#181818;stroke-width:0.5;\" width=\"117\" x=\"232.5\" y=\"41\"/><text fill=\"#000000\" font-family=\"sans-serif\" font-size=\"12\" font-style=\"italic\" lengthAdjust=\"spacing\" textLength=\"63\" x=\"259.5\" y=\"57.6016\">«part  def»</text><text fill=\"#000000\" font-family=\"sans-serif\" font-size=\"14\" lengthAdjust=\"spacing\" textLength=\"41\" x=\"270.5\" y=\"73.668\">C_Leg</text><line style=\"stroke:#181818;stroke-width:0.5;\" x1=\"233.5\" x2=\"348.5\" y1=\"81.6211\" y2=\"81.6211\"/><text fill=\"#000000\" font-family=\"sans-serif\" font-size=\"14\" lengthAdjust=\"spacing\" textLength=\"40\" x=\"238.5\" y=\"109.7516\">depth</text><text fill=\"#000000\" font-family=\"sans-serif\" font-size=\"14\" lengthAdjust=\"spacing\" textLength=\"44\" x=\"238.5\" y=\"126.2398\">height</text><text fill=\"#000000\" font-family=\"sans-serif\" font-size=\"14\" lengthAdjust=\"spacing\" textLength=\"104\" x=\"238.5\" y=\"142.7281\">inner_diameter</text><text fill=\"#000000\" font-family=\"sans-serif\" font-size=\"14\" lengthAdjust=\"spacing\" textLength=\"56\" x=\"238.5\" y=\"159.2164\">material</text><text fill=\"#000000\" font-family=\"sans-serif\" font-size=\"14\" lengthAdjust=\"spacing\" textLength=\"105\" x=\"238.5\" y=\"175.7047\">outer_diameter</text><text fill=\"#000000\" font-family=\"sans-serif\" font-size=\"14\" lengthAdjust=\"spacing\" textLength=\"46\" x=\"238.5\" y=\"192.193\">weight</text><text fill=\"#000000\" font-family=\"sans-serif\" font-size=\"14\" lengthAdjust=\"spacing\" textLength=\"38\" x=\"238.5\" y=\"208.6813\">width</text><text fill=\"#000000\" font-family=\"sans-serif\" font-size=\"14\" font-style=\"italic\" lengthAdjust=\"spacing\" textLength=\"66\" x=\"258\" y=\"94.4121\">attributes</text></g></a><!--MD5=[2156ba9850f5573cc1fc38a6a4b2f02b]\n",
       "class E7--><a href=\"psysml:d4913f4e-dfd1-4a10-bb94-9fce1ea571c4\" target=\"_top\" title=\"psysml:d4913f4e-dfd1-4a10-bb94-9fce1ea571c4\" xlink:actuate=\"onRequest\" xlink:href=\"psysml:d4913f4e-dfd1-4a10-bb94-9fce1ea571c4\" xlink:show=\"new\" xlink:title=\"psysml:d4913f4e-dfd1-4a10-bb94-9fce1ea571c4\" xlink:type=\"simple\"><g id=\"elem_E7\"><rect fill=\"#FFFFFF\" height=\"48.6211\" id=\"E7\" rx=\"10\" ry=\"10\" style=\"stroke:#181818;stroke-width:0.5;\" width=\"223\" x=\"32.5\" y=\"276\"/><text fill=\"#000000\" font-family=\"sans-serif\" font-size=\"12\" font-style=\"italic\" lengthAdjust=\"spacing\" textLength=\"36\" x=\"126\" y=\"292.6016\">«part»</text><text fill=\"#000000\" font-family=\"sans-serif\" font-size=\"14\" lengthAdjust=\"spacing\" textLength=\"209\" x=\"35.5\" y=\"308.668\">bearing: Ball_Transfer_Bearing</text><line style=\"stroke:#181818;stroke-width:0.5;\" x1=\"33.5\" x2=\"254.5\" y1=\"316.6211\" y2=\"316.6211\"/></g></a><!--MD5=[b9389687b975829384b498ac4b7476b2]\n",
       "class E8--><a href=\"psysml:307c7a3b-bf5d-4ea5-871b-d33dfa7d7c79\" target=\"_top\" title=\"psysml:307c7a3b-bf5d-4ea5-871b-d33dfa7d7c79\" xlink:actuate=\"onRequest\" xlink:href=\"psysml:307c7a3b-bf5d-4ea5-871b-d33dfa7d7c79\" xlink:show=\"new\" xlink:title=\"psysml:307c7a3b-bf5d-4ea5-871b-d33dfa7d7c79\" xlink:type=\"simple\"><g id=\"elem_E8\"><rect fill=\"#FFFFFF\" height=\"125.1695\" id=\"E8\" style=\"stroke:#181818;stroke-width:0.5;\" width=\"165\" x=\"32.5\" y=\"66\"/><text fill=\"#000000\" font-family=\"sans-serif\" font-size=\"12\" font-style=\"italic\" lengthAdjust=\"spacing\" textLength=\"63\" x=\"83.5\" y=\"82.6016\">«part  def»</text><text fill=\"#000000\" font-family=\"sans-serif\" font-size=\"14\" lengthAdjust=\"spacing\" textLength=\"159\" x=\"35.5\" y=\"98.668\">&lt;Ubolt&gt; Universal_Bolt</text><line style=\"stroke:#181818;stroke-width:0.5;\" x1=\"33.5\" x2=\"196.5\" y1=\"106.6211\" y2=\"106.6211\"/><text fill=\"#000000\" font-family=\"sans-serif\" font-size=\"14\" lengthAdjust=\"spacing\" textLength=\"61\" x=\"38.5\" y=\"134.7516\">diameter</text><text fill=\"#000000\" font-family=\"sans-serif\" font-size=\"14\" lengthAdjust=\"spacing\" textLength=\"44\" x=\"38.5\" y=\"151.2398\">length</text><text fill=\"#000000\" font-family=\"sans-serif\" font-size=\"14\" lengthAdjust=\"spacing\" textLength=\"56\" x=\"38.5\" y=\"167.7281\">material</text><text fill=\"#000000\" font-family=\"sans-serif\" font-size=\"14\" lengthAdjust=\"spacing\" textLength=\"46\" x=\"38.5\" y=\"184.2164\">weight</text><text fill=\"#000000\" font-family=\"sans-serif\" font-size=\"14\" font-style=\"italic\" lengthAdjust=\"spacing\" textLength=\"66\" x=\"82\" y=\"119.4121\">attributes</text></g></a><!--MD5=[fd4143e9d270a159db93a4ea2a975926]\n",
       "class E9--><a href=\"psysml:40fdb640-3bdb-432e-a3b4-905e1c845c7d\" target=\"_top\" title=\"psysml:40fdb640-3bdb-432e-a3b4-905e1c845c7d\" xlink:actuate=\"onRequest\" xlink:href=\"psysml:40fdb640-3bdb-432e-a3b4-905e1c845c7d\" xlink:show=\"new\" xlink:title=\"psysml:40fdb640-3bdb-432e-a3b4-905e1c845c7d\" xlink:type=\"simple\"><g id=\"elem_E9\"><rect fill=\"#FFFFFF\" height=\"125.1695\" id=\"E9\" style=\"stroke:#181818;stroke-width:0.5;\" width=\"232\" x=\"159\" y=\"385\"/><text fill=\"#000000\" font-family=\"sans-serif\" font-size=\"12\" font-style=\"italic\" lengthAdjust=\"spacing\" textLength=\"63\" x=\"243.5\" y=\"401.6016\">«part  def»</text><text fill=\"#000000\" font-family=\"sans-serif\" font-size=\"14\" lengthAdjust=\"spacing\" textLength=\"226\" x=\"162\" y=\"417.668\">&lt;Bearing&gt; Ball_Transfer_Bearing</text><line style=\"stroke:#181818;stroke-width:0.5;\" x1=\"160\" x2=\"390\" y1=\"425.6211\" y2=\"425.6211\"/><text fill=\"#000000\" font-family=\"sans-serif\" font-size=\"14\" lengthAdjust=\"spacing\" textLength=\"61\" x=\"165\" y=\"453.7516\">diameter</text><text fill=\"#000000\" font-family=\"sans-serif\" font-size=\"14\" lengthAdjust=\"spacing\" textLength=\"44\" x=\"165\" y=\"470.2398\">length</text><text fill=\"#000000\" font-family=\"sans-serif\" font-size=\"14\" lengthAdjust=\"spacing\" textLength=\"56\" x=\"165\" y=\"486.7281\">material</text><text fill=\"#000000\" font-family=\"sans-serif\" font-size=\"14\" lengthAdjust=\"spacing\" textLength=\"46\" x=\"165\" y=\"503.2164\">weight</text><text fill=\"#000000\" font-family=\"sans-serif\" font-size=\"14\" font-style=\"italic\" lengthAdjust=\"spacing\" textLength=\"66\" x=\"242\" y=\"438.4121\">attributes</text></g></a><!--MD5=[209b3feb70ccb6233bfe1053d122c12c]\n",
       "reverse link E2 to E3--><g id=\"link_E2_E3\"><a href=\"psysml:5c4f18db-cf25-4a6e-a9ae-71b732bf80ac\" target=\"_top\" title=\"psysml:5c4f18db-cf25-4a6e-a9ae-71b732bf80ac\" xlink:actuate=\"onRequest\" xlink:href=\"psysml:5c4f18db-cf25-4a6e-a9ae-71b732bf80ac\" xlink:show=\"new\" xlink:title=\"psysml:5c4f18db-cf25-4a6e-a9ae-71b732bf80ac\" xlink:type=\"simple\"><path d=\"M650,188.01 C650,218.07 650,253.04 650,275.68 \" fill=\"none\" id=\"E2-backto-E3\" style=\"stroke:#181818;stroke-width:1.0;\"/><polygon fill=\"#181818\" points=\"650,174.61,646,180.61,650,186.61,654,180.61,650,174.61\" style=\"stroke:#181818;stroke-width:1.0;\"/></a></g><!--MD5=[62aa6af11e70f752912c1cb0466f24f7]\n",
       "reverse link E4 to E5--><g id=\"link_E4_E5\"><a href=\"psysml:272547c8-f3ef-4d3a-90b4-992e7d26c10f\" target=\"_top\" title=\"psysml:272547c8-f3ef-4d3a-90b4-992e7d26c10f\" xlink:actuate=\"onRequest\" xlink:href=\"psysml:272547c8-f3ef-4d3a-90b4-992e7d26c10f\" xlink:show=\"new\" xlink:title=\"psysml:272547c8-f3ef-4d3a-90b4-992e7d26c10f\" xlink:type=\"simple\"><path d=\"M418.94,229.26 C414.75,246.64 410.76,263.17 407.71,275.83 \" fill=\"none\" id=\"E4-backto-E5\" style=\"stroke:#181818;stroke-width:1.0;\"/><polygon fill=\"#181818\" points=\"422.02,216.49,416.7206,221.3804,419.1966,228.1531,424.496,223.2627,422.02,216.49\" style=\"stroke:#181818;stroke-width:1.0;\"/><text fill=\"#000000\" font-family=\"sans-serif\" font-size=\"13\" lengthAdjust=\"spacing\" textLength=\"8\" x=\"400.1482\" y=\"265.2431\">4</text></a></g><!--MD5=[3f50a3473f1dfb74d3f76443e03635af]\n",
       "reverse link E6 to E7--><g id=\"link_E6_E7\"><a href=\"psysml:a3eeac4b-6b99-42ea-b615-ee375e9ee276\" target=\"_top\" title=\"psysml:a3eeac4b-6b99-42ea-b615-ee375e9ee276\" xlink:actuate=\"onRequest\" xlink:href=\"psysml:a3eeac4b-6b99-42ea-b615-ee375e9ee276\" xlink:show=\"new\" xlink:title=\"psysml:a3eeac4b-6b99-42ea-b615-ee375e9ee276\" xlink:type=\"simple\"><path d=\"M223.96,207.03 C202.43,231.93 180.15,257.7 164.59,275.69 \" fill=\"none\" id=\"E6-backto-E7\" style=\"stroke:#181818;stroke-width:1.0;\"/><polygon fill=\"#181818\" points=\"232.48,197.18,225.5295,199.1009,224.6294,206.2557,231.5799,204.3347,232.48,197.18\" style=\"stroke:#181818;stroke-width:1.0;\"/><text fill=\"#000000\" font-family=\"sans-serif\" font-size=\"13\" lengthAdjust=\"spacing\" textLength=\"8\" x=\"160.8412\" y=\"265.0673\">2</text></a></g><!--MD5=[d1c41c8d5bc2693e99768999e620dfa1]\n",
       "link E5 to E9--><g id=\"link_E5_E9\"><a href=\"psysml:3c7aef16-08be-4540-a3de-bb6634d27f14\" target=\"_top\" title=\"psysml:3c7aef16-08be-4540-a3de-bb6634d27f14\" xlink:actuate=\"onRequest\" xlink:href=\"psysml:3c7aef16-08be-4540-a3de-bb6634d27f14\" xlink:show=\"new\" xlink:title=\"psysml:3c7aef16-08be-4540-a3de-bb6634d27f14\" xlink:type=\"simple\"><path d=\"M381.31,325.12 C370.55,337.4 356.72,353.19 342.62,369.29 \" fill=\"none\" id=\"E5-to-E9\" style=\"stroke:#181818;stroke-width:1.0;\"/><polygon fill=\"#FFFFFF\" points=\"329.11,384.72,336.3701,365.8178,346.8981,375.0461,329.11,384.72\" style=\"stroke:#181818;stroke-width:1.0;\"/><ellipse cx=\"341.6313\" cy=\"362.8498\" fill=\"#181818\" rx=\"2\" ry=\"2\" style=\"stroke:#181818;stroke-width:1.0;\"/><ellipse cx=\"349.1513\" cy=\"369.4414\" fill=\"#181818\" rx=\"2\" ry=\"2\" style=\"stroke:#181818;stroke-width:1.0;\"/></a></g><!--MD5=[1c0b9414cc86e0744215edee6abd8926]\n",
       "link E7 to E9--><g id=\"link_E7_E9\"><a href=\"psysml:4fe87fc7-ae76-4a81-9598-c485dd650754\" target=\"_top\" title=\"psysml:4fe87fc7-ae76-4a81-9598-c485dd650754\" xlink:actuate=\"onRequest\" xlink:href=\"psysml:4fe87fc7-ae76-4a81-9598-c485dd650754\" xlink:show=\"new\" xlink:title=\"psysml:4fe87fc7-ae76-4a81-9598-c485dd650754\" xlink:type=\"simple\"><path d=\"M165.34,325.12 C176.55,337.53 191,353.52 205.7,369.79 \" fill=\"none\" id=\"E7-to-E9\" style=\"stroke:#181818;stroke-width:1.0;\"/><polygon fill=\"#FFFFFF\" points=\"219.18,384.72,201.2521,375.3078,211.6438,365.9262,219.18,384.72\" style=\"stroke:#181818;stroke-width:1.0;\"/><ellipse cx=\"198.917\" cy=\"369.7366\" fill=\"#181818\" rx=\"2\" ry=\"2\" style=\"stroke:#181818;stroke-width:1.0;\"/><ellipse cx=\"206.3396\" cy=\"363.0356\" fill=\"#181818\" rx=\"2\" ry=\"2\" style=\"stroke:#181818;stroke-width:1.0;\"/></a></g><!--MD5=[3817f098ae0530565ddc91d6c1e50722]\n",
       "@startuml\r\n",
       "skin sysmlbw\r\n",
       "skinparam monochrome true\r\n",
       "skinparam wrapWidth 300\r\n",
       "hide circle\r\n",
       "\r\n",
       "package \"ubiParts\" as E1  [[psysml:02e1c597-3880-4944-9fa6-cdb7113b304d ]]  {\r\n",
       "comp def \"~<Ball> Sphere\" as E2  <<(T,blue) part  def>> [[psysml:0145fb65-14f7-4947-bacf-496ea1d6adfe ]] {\r\n",
       "##//attributes//##\r\n",
       "diameter\r\n",
       "weight\r\n",
       "}\r\n",
       "comp usage \"material: Polyurethane_95A  \" as E3  <<(T,blue) part>> [[psysml:99ecc020-fe25-4723-bfbe-146bb1f60872 ]] {\r\n",
       "}\r\n",
       "comp def \"U_Leg\" as E4  <<(T,blue) part  def>> [[psysml:c21016f7-7d60-4ac0-a1bb-ca0aa8c181ff ]] {\r\n",
       "##//attributes//##\r\n",
       "depth\r\n",
       "height\r\n",
       "inner_diameter\r\n",
       "material\r\n",
       "outer_diameter\r\n",
       "weight\r\n",
       "width\r\n",
       "}\r\n",
       "comp usage \"bearing: Ball_Transfer_Bearing  \" as E5  <<(T,blue) part>> [[psysml:9257dc6e-7fe3-489b-8a2b-30a1693eb0a4 ]] {\r\n",
       "}\r\n",
       "comp def \"C_Leg\" as E6  <<(T,blue) part  def>> [[psysml:6e62be13-b4c2-400e-a583-02438bec9959 ]] {\r\n",
       "##//attributes//##\r\n",
       "depth\r\n",
       "height\r\n",
       "inner_diameter\r\n",
       "material\r\n",
       "outer_diameter\r\n",
       "weight\r\n",
       "width\r\n",
       "}\r\n",
       "comp usage \"bearing: Ball_Transfer_Bearing  \" as E7  <<(T,blue) part>> [[psysml:d4913f4e-dfd1-4a10-bb94-9fce1ea571c4 ]] {\r\n",
       "}\r\n",
       "comp def \"~<Ubolt> Universal_Bolt\" as E8  <<(T,blue) part  def>> [[psysml:307c7a3b-bf5d-4ea5-871b-d33dfa7d7c79 ]] {\r\n",
       "##//attributes//##\r\n",
       "diameter\r\n",
       "length\r\n",
       "material\r\n",
       "weight\r\n",
       "}\r\n",
       "comp def \"~<Bearing> Ball_Transfer_Bearing\" as E9  <<(T,blue) part  def>> [[psysml:40fdb640-3bdb-432e-a3b4-905e1c845c7d ]] {\r\n",
       "##//attributes//##\r\n",
       "diameter\r\n",
       "length\r\n",
       "material\r\n",
       "weight\r\n",
       "}\r\n",
       "}\r\n",
       "E2 *- - E3 [[psysml:5c4f18db-cf25-4a6e-a9ae-71b732bf80ac ]] \r\n",
       "E4 *- - \"4\"E5 [[psysml:272547c8-f3ef-4d3a-90b4-992e7d26c10f ]] \r\n",
       "E6 *- - \"2\"E7 [[psysml:a3eeac4b-6b99-42ea-b615-ee375e9ee276 ]] \r\n",
       "E5 - -:|> E9 [[psysml:3c7aef16-08be-4540-a3de-bb6634d27f14 ]] \r\n",
       "E7 - -:|> E9 [[psysml:4fe87fc7-ae76-4a81-9598-c485dd650754 ]] \r\n",
       "@enduml\r\n",
       "\n",
       "PlantUML version 1.2022.7(Mon Aug 22 11:01:30 MDT 2022)\n",
       "(EPL source distribution)\n",
       "Java Runtime: Java(TM) SE Runtime Environment\n",
       "JVM: Java HotSpot(TM) 64-Bit Server VM\n",
       "Default Encoding: UTF-8\n",
       "Language: en\n",
       "Country: US\n",
       "--></g></svg>"
      ]
     },
     "execution_count": 23,
     "metadata": {},
     "output_type": "execute_result"
    }
   ],
   "source": [
    "%viz --view=default ubiParts"
   ]
  }
 ],
 "metadata": {
  "kernelspec": {
   "display_name": "SysML",
   "language": "sysml",
   "name": "sysml"
  },
  "language_info": {
   "codemirror_mode": "sysml",
   "file_extension": ".sysml",
   "mimetype": "text/x-sysml",
   "name": "sysml",
   "pygments_lexer": "java",
   "version": "1.0.0"
  }
 },
 "nbformat": 4,
 "nbformat_minor": 5
}
